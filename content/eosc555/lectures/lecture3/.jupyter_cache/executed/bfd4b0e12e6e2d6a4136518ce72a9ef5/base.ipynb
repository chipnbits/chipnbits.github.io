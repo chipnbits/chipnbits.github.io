{
 "cells": [
  {
   "cell_type": "code",
   "execution_count": 1,
   "id": "0feb34e3",
   "metadata": {},
   "outputs": [
    {
     "name": "stderr",
     "output_type": "stream",
     "text": [
      "C:\\Users\\sghys\\AppData\\Local\\Temp\\ipykernel_5708\\2406774753.py:25: DeprecationWarning: `set_matplotlib_formats` is deprecated since IPython 7.23, directly use `matplotlib_inline.backend_inline.set_matplotlib_formats()`\n",
      "  set_matplotlib_formats(fig_format)\n"
     ]
    },
    {
     "name": "stdout",
     "output_type": "stream",
     "text": [
      "{\"C:\\\\Users\\\\sghys\\\\miniconda3\\\\envs\\\\ml\\\\Lib\\\\importlib\\\\_bootstrap.py\": 1717698404.0, \"C:\\\\Users\\\\sghys\\\\miniconda3\\\\envs\\\\ml\\\\Lib\\\\importlib\\\\_bootstrap_external.py\": 1717698404.0, \"C:\\\\Users\\\\sghys\\\\miniconda3\\\\envs\\\\ml\\\\Lib\\\\zipimport.py\": 1717698404.0, \"C:\\\\Users\\\\sghys\\\\miniconda3\\\\envs\\\\ml\\\\Lib\\\\codecs.py\": 1717698404.0, \"C:\\\\Users\\\\sghys\\\\miniconda3\\\\envs\\\\ml\\\\Lib\\\\encodings\\\\aliases.py\": 1717698404.0, \"C:\\\\Users\\\\sghys\\\\miniconda3\\\\envs\\\\ml\\\\Lib\\\\encodings\\\\__init__.py\": 1717698404.0, \"C:\\\\Users\\\\sghys\\\\miniconda3\\\\envs\\\\ml\\\\Lib\\\\encodings\\\\utf_8.py\": 1717698404.0, \"C:\\\\Users\\\\sghys\\\\miniconda3\\\\envs\\\\ml\\\\Lib\\\\encodings\\\\cp1252.py\": 1717698404.0, \"C:\\\\Users\\\\sghys\\\\miniconda3\\\\envs\\\\ml\\\\Lib\\\\abc.py\": 1717698404.0, \"C:\\\\Users\\\\sghys\\\\miniconda3\\\\envs\\\\ml\\\\Lib\\\\io.py\": 1717698404.0, \"C:\\\\Users\\\\sghys\\\\miniconda3\\\\envs\\\\ml\\\\Lib\\\\stat.py\": 1717698404.0, \"C:\\\\Users\\\\sghys\\\\miniconda3\\\\envs\\\\ml\\\\Lib\\\\_collections_abc.py\": 1717698404.0, \"C:\\\\Users\\\\sghys\\\\miniconda3\\\\envs\\\\ml\\\\Lib\\\\genericpath.py\": 1717698404.0, \"C:\\\\Users\\\\sghys\\\\miniconda3\\\\envs\\\\ml\\\\Lib\\\\ntpath.py\": 1717698404.0, \"C:\\\\Users\\\\sghys\\\\miniconda3\\\\envs\\\\ml\\\\Lib\\\\os.py\": 1717698404.0, \"C:\\\\Users\\\\sghys\\\\miniconda3\\\\envs\\\\ml\\\\Lib\\\\_sitebuiltins.py\": 1717698404.0, \"C:\\\\Users\\\\sghys\\\\miniconda3\\\\envs\\\\ml\\\\Lib\\\\encodings\\\\utf_8_sig.py\": 1717698404.0, \"C:\\\\Users\\\\sghys\\\\miniconda3\\\\envs\\\\ml\\\\Lib\\\\site-packages\\\\_distutils_hack\\\\__init__.py\": 1722265876.0, \"C:\\\\Users\\\\sghys\\\\miniconda3\\\\envs\\\\ml\\\\Lib\\\\types.py\": 1717698404.0, \"C:\\\\Users\\\\sghys\\\\miniconda3\\\\envs\\\\ml\\\\Lib\\\\warnings.py\": 1717698404.0, \"C:\\\\Users\\\\sghys\\\\miniconda3\\\\envs\\\\ml\\\\Lib\\\\importlib\\\\__init__.py\": 1717698404.0, \"C:\\\\Users\\\\sghys\\\\miniconda3\\\\envs\\\\ml\\\\Lib\\\\importlib\\\\_abc.py\": 1717698404.0, \"C:\\\\Users\\\\sghys\\\\miniconda3\\\\envs\\\\ml\\\\Lib\\\\keyword.py\": 1717698404.0, \"C:\\\\Users\\\\sghys\\\\miniconda3\\\\envs\\\\ml\\\\Lib\\\\operator.py\": 1717698404.0, \"C:\\\\Users\\\\sghys\\\\miniconda3\\\\envs\\\\ml\\\\Lib\\\\reprlib.py\": 1717698404.0, \"C:\\\\Users\\\\sghys\\\\miniconda3\\\\envs\\\\ml\\\\Lib\\\\collections\\\\__init__.py\": 1717698404.0, \"C:\\\\Users\\\\sghys\\\\miniconda3\\\\envs\\\\ml\\\\Lib\\\\functools.py\": 1717698404.0, \"C:\\\\Users\\\\sghys\\\\miniconda3\\\\envs\\\\ml\\\\Lib\\\\_weakrefset.py\": 1717698404.0, \"C:\\\\Users\\\\sghys\\\\miniconda3\\\\envs\\\\ml\\\\Lib\\\\threading.py\": 1717698404.0, \"C:\\\\Users\\\\sghys\\\\miniconda3\\\\envs\\\\ml\\\\Lib\\\\importlib\\\\util.py\": 1717698404.0, \"C:\\\\Users\\\\sghys\\\\miniconda3\\\\envs\\\\ml\\\\Lib\\\\importlib\\\\machinery.py\": 1717698404.0, \"C:\\\\Users\\\\sghys\\\\miniconda3\\\\envs\\\\ml\\\\Lib\\\\site-packages\\\\mpl_toolkits\\\\__init__.py\": 1725139590.1230457, \"C:\\\\Users\\\\sghys\\\\miniconda3\\\\envs\\\\ml\\\\Lib\\\\site.py\": 1717698404.0, \"C:\\\\Users\\\\sghys\\\\miniconda3\\\\envs\\\\ml\\\\Lib\\\\runpy.py\": 1717698404.0, \"C:\\\\Users\\\\sghys\\\\miniconda3\\\\envs\\\\ml\\\\Lib\\\\enum.py\": 1717698404.0, \"C:\\\\Users\\\\sghys\\\\miniconda3\\\\envs\\\\ml\\\\Lib\\\\re\\\\_constants.py\": 1717698404.0, \"C:\\\\Users\\\\sghys\\\\miniconda3\\\\envs\\\\ml\\\\Lib\\\\re\\\\_parser.py\": 1717698404.0, \"C:\\\\Users\\\\sghys\\\\miniconda3\\\\envs\\\\ml\\\\Lib\\\\re\\\\_casefix.py\": 1717698404.0, \"C:\\\\Users\\\\sghys\\\\miniconda3\\\\envs\\\\ml\\\\Lib\\\\re\\\\_compiler.py\": 1717698404.0, \"C:\\\\Users\\\\sghys\\\\miniconda3\\\\envs\\\\ml\\\\Lib\\\\copyreg.py\": 1717698404.0, \"C:\\\\Users\\\\sghys\\\\miniconda3\\\\envs\\\\ml\\\\Lib\\\\re\\\\__init__.py\": 1717698404.0, \"C:\\\\Users\\\\sghys\\\\miniconda3\\\\envs\\\\ml\\\\Lib\\\\collections\\\\abc.py\": 1717698404.0, \"C:\\\\Users\\\\sghys\\\\miniconda3\\\\envs\\\\ml\\\\Lib\\\\contextlib.py\": 1717698404.0, \"C:\\\\Users\\\\sghys\\\\miniconda3\\\\envs\\\\ml\\\\Lib\\\\typing.py\": 1717698404.0, \"C:\\\\Users\\\\sghys\\\\miniconda3\\\\envs\\\\ml\\\\Lib\\\\site-packages\\\\ipykernel\\\\_version.py\": 1705934932.4952164, \"C:\\\\Users\\\\sghys\\\\miniconda3\\\\envs\\\\ml\\\\Lib\\\\__future__.py\": 1717698404.0, \"C:\\\\Users\\\\sghys\\\\miniconda3\\\\envs\\\\ml\\\\Lib\\\\json\\\\scanner.py\": 1717698404.0, \"C:\\\\Users\\\\sghys\\\\miniconda3\\\\envs\\\\ml\\\\Lib\\\\json\\\\decoder.py\": 1717698404.0, \"C:\\\\Users\\\\sghys\\\\miniconda3\\\\envs\\\\ml\\\\Lib\\\\json\\\\encoder.py\": 1717698404.0, \"C:\\\\Users\\\\sghys\\\\miniconda3\\\\envs\\\\ml\\\\Lib\\\\json\\\\__init__.py\": 1717698404.0, \"C:\\\\Users\\\\sghys\\\\miniconda3\\\\envs\\\\ml\\\\Lib\\\\locale.py\": 1717698404.0, \"C:\\\\Users\\\\sghys\\\\miniconda3\\\\envs\\\\ml\\\\Lib\\\\signal.py\": 1717698404.0, \"C:\\\\Users\\\\sghys\\\\miniconda3\\\\envs\\\\ml\\\\Lib\\\\subprocess.py\": 1717698404.0, \"C:\\\\Users\\\\sghys\\\\miniconda3\\\\envs\\\\ml\\\\Lib\\\\site-packages\\\\jupyter_client\\\\_version.py\": 1701796405.9728987, \"C:\\\\Users\\\\sghys\\\\miniconda3\\\\envs\\\\ml\\\\DLLs\\\\_wmi.pyd\": 1718723668.9416952, \"C:\\\\Users\\\\sghys\\\\miniconda3\\\\envs\\\\ml\\\\Lib\\\\platform.py\": 1718722921.552959, \"C:\\\\Users\\\\sghys\\\\miniconda3\\\\envs\\\\ml\\\\Lib\\\\site-packages\\\\zmq\\\\backend\\\\select.py\": 1705606292.992955, \"C:\\\\Users\\\\sghys\\\\miniconda3\\\\envs\\\\ml\\\\Lib\\\\site-packages\\\\zmq\\\\error.py\": 1705606292.992955, \"C:\\\\Users\\\\sghys\\\\miniconda3\\\\envs\\\\ml\\\\Lib\\\\site-packages\\\\zmq\\\\backend\\\\cython\\\\context.cp312-win_amd64.pyd\": 1705606293.0169985, \"C:\\\\Users\\\\sghys\\\\miniconda3\\\\envs\\\\ml\\\\Lib\\\\weakref.py\": 1717698404.0, \"C:\\\\Users\\\\sghys\\\\miniconda3\\\\envs\\\\ml\\\\Lib\\\\site-packages\\\\zmq\\\\backend\\\\cython\\\\message.cp312-win_amd64.pyd\": 1705606293.0327556, \"C:\\\\Users\\\\sghys\\\\miniconda3\\\\envs\\\\ml\\\\Lib\\\\copy.py\": 1717698404.0, \"C:\\\\Users\\\\sghys\\\\miniconda3\\\\envs\\\\ml\\\\Lib\\\\bisect.py\": 1717698404.0, \"C:\\\\Users\\\\sghys\\\\miniconda3\\\\envs\\\\ml\\\\Lib\\\\random.py\": 1717698404.0, \"C:\\\\Users\\\\sghys\\\\miniconda3\\\\envs\\\\ml\\\\Lib\\\\struct.py\": 1717698404.0, \"C:\\\\Users\\\\sghys\\\\miniconda3\\\\envs\\\\ml\\\\Lib\\\\_compat_pickle.py\": 1717698404.0, \"C:\\\\Users\\\\sghys\\\\miniconda3\\\\envs\\\\ml\\\\Lib\\\\pickle.py\": 1717698404.0, \"C:\\\\Users\\\\sghys\\\\miniconda3\\\\envs\\\\ml\\\\Lib\\\\site-packages\\\\zmq\\\\constants.py\": 1705606292.992955, \"C:\\\\Users\\\\sghys\\\\miniconda3\\\\envs\\\\ml\\\\Lib\\\\site-packages\\\\zmq\\\\backend\\\\cython\\\\socket.cp312-win_amd64.pyd\": 1705606293.0327556, \"C:\\\\Users\\\\sghys\\\\miniconda3\\\\envs\\\\ml\\\\Lib\\\\site-packages\\\\zmq\\\\backend\\\\cython\\\\_device.cp312-win_amd64.pyd\": 1705606293.0169985, \"C:\\\\Users\\\\sghys\\\\miniconda3\\\\envs\\\\ml\\\\Lib\\\\site-packages\\\\zmq\\\\backend\\\\cython\\\\_poll.cp312-win_amd64.pyd\": 1705606293.0169985, \"C:\\\\Users\\\\sghys\\\\miniconda3\\\\envs\\\\ml\\\\Lib\\\\site-packages\\\\zmq\\\\backend\\\\cython\\\\_proxy_steerable.cp312-win_amd64.pyd\": 1705606293.0169985, \"C:\\\\Users\\\\sghys\\\\miniconda3\\\\envs\\\\ml\\\\Lib\\\\site-packages\\\\zmq\\\\backend\\\\cython\\\\_version.cp312-win_amd64.pyd\": 1705606293.0169985, \"C:\\\\Users\\\\sghys\\\\miniconda3\\\\envs\\\\ml\\\\Lib\\\\site-packages\\\\zmq\\\\backend\\\\cython\\\\error.cp312-win_amd64.pyd\": 1705606293.0169985, \"C:\\\\Users\\\\sghys\\\\miniconda3\\\\envs\\\\ml\\\\Lib\\\\site-packages\\\\zmq\\\\backend\\\\cython\\\\utils.cp312-win_amd64.pyd\": 1705606293.0327556, \"C:\\\\Users\\\\sghys\\\\miniconda3\\\\envs\\\\ml\\\\Lib\\\\site-packages\\\\zmq\\\\backend\\\\cython\\\\__init__.py\": 1705606293.0169985, \"C:\\\\Users\\\\sghys\\\\miniconda3\\\\envs\\\\ml\\\\Lib\\\\site-packages\\\\zmq\\\\backend\\\\__init__.py\": 1705606292.992955, \"C:\\\\Users\\\\sghys\\\\miniconda3\\\\envs\\\\ml\\\\Lib\\\\site-packages\\\\zmq\\\\utils\\\\__init__.py\": 1705606293.1226838, \"C:\\\\Users\\\\sghys\\\\miniconda3\\\\envs\\\\ml\\\\Lib\\\\site-packages\\\\zmq\\\\utils\\\\interop.py\": 1705606293.1226838, \"C:\\\\Users\\\\sghys\\\\miniconda3\\\\envs\\\\ml\\\\Lib\\\\site-packages\\\\zmq\\\\sugar\\\\attrsettr.py\": 1705606293.060009, \"C:\\\\Users\\\\sghys\\\\miniconda3\\\\envs\\\\ml\\\\Lib\\\\site-packages\\\\zmq\\\\_typing.py\": 1705606292.992955, \"C:\\\\Users\\\\sghys\\\\miniconda3\\\\envs\\\\ml\\\\Lib\\\\site-packages\\\\zmq\\\\utils\\\\jsonapi.py\": 1705606293.1391745, \"C:\\\\Users\\\\sghys\\\\miniconda3\\\\envs\\\\ml\\\\Lib\\\\site-packages\\\\zmq\\\\sugar\\\\poll.py\": 1705606293.060009, \"C:\\\\Users\\\\sghys\\\\miniconda3\\\\envs\\\\ml\\\\Lib\\\\site-packages\\\\zmq\\\\sugar\\\\socket.py\": 1705606293.060009, \"C:\\\\Users\\\\sghys\\\\miniconda3\\\\envs\\\\ml\\\\Lib\\\\site-packages\\\\zmq\\\\sugar\\\\context.py\": 1705606293.060009, \"C:\\\\Users\\\\sghys\\\\miniconda3\\\\envs\\\\ml\\\\Lib\\\\site-packages\\\\zmq\\\\sugar\\\\frame.py\": 1705606293.060009, \"C:\\\\Users\\\\sghys\\\\miniconda3\\\\envs\\\\ml\\\\Lib\\\\site-packages\\\\zmq\\\\sugar\\\\tracker.py\": 1705606293.060009, \"C:\\\\Users\\\\sghys\\\\miniconda3\\\\envs\\\\ml\\\\Lib\\\\site-packages\\\\zmq\\\\sugar\\\\version.py\": 1705606293.060009, \"C:\\\\Users\\\\sghys\\\\miniconda3\\\\envs\\\\ml\\\\Lib\\\\site-packages\\\\zmq\\\\sugar\\\\stopwatch.py\": 1705606293.060009, \"C:\\\\Users\\\\sghys\\\\miniconda3\\\\envs\\\\ml\\\\Lib\\\\site-packages\\\\zmq\\\\sugar\\\\__init__.py\": 1705606293.060009, \"C:\\\\Users\\\\sghys\\\\miniconda3\\\\envs\\\\ml\\\\Lib\\\\site-packages\\\\zmq\\\\__init__.py\": 1705606292.9773018, \"C:\\\\Users\\\\sghys\\\\miniconda3\\\\envs\\\\ml\\\\Lib\\\\concurrent\\\\__init__.py\": 1717698404.0, \"C:\\\\Users\\\\sghys\\\\miniconda3\\\\envs\\\\ml\\\\Lib\\\\token.py\": 1717698404.0, \"C:\\\\Users\\\\sghys\\\\miniconda3\\\\envs\\\\ml\\\\Lib\\\\tokenize.py\": 1717698404.0, \"C:\\\\Users\\\\sghys\\\\miniconda3\\\\envs\\\\ml\\\\Lib\\\\linecache.py\": 1717698404.0, \"C:\\\\Users\\\\sghys\\\\miniconda3\\\\envs\\\\ml\\\\Lib\\\\textwrap.py\": 1717698404.0, \"C:\\\\Users\\\\sghys\\\\miniconda3\\\\envs\\\\ml\\\\Lib\\\\traceback.py\": 1717698404.0, \"C:\\\\Users\\\\sghys\\\\miniconda3\\\\envs\\\\ml\\\\Lib\\\\string.py\": 1717698404.0, \"C:\\\\Users\\\\sghys\\\\miniconda3\\\\envs\\\\ml\\\\Lib\\\\logging\\\\__init__.py\": 1717698404.0, \"C:\\\\Users\\\\sghys\\\\miniconda3\\\\envs\\\\ml\\\\Lib\\\\concurrent\\\\futures\\\\_base.py\": 1717698404.0, \"C:\\\\Users\\\\sghys\\\\miniconda3\\\\envs\\\\ml\\\\Lib\\\\concurrent\\\\futures\\\\__init__.py\": 1717698404.0, \"C:\\\\Users\\\\sghys\\\\miniconda3\\\\envs\\\\ml\\\\Lib\\\\heapq.py\": 1717698404.0, \"C:\\\\Users\\\\sghys\\\\miniconda3\\\\envs\\\\ml\\\\DLLs\\\\_socket.pyd\": 1718723638.7530727, \"C:\\\\Users\\\\sghys\\\\miniconda3\\\\envs\\\\ml\\\\DLLs\\\\select.pyd\": 1718723600.1892438, \"C:\\\\Users\\\\sghys\\\\miniconda3\\\\envs\\\\ml\\\\Lib\\\\selectors.py\": 1717698404.0, \"C:\\\\Users\\\\sghys\\\\miniconda3\\\\envs\\\\ml\\\\Lib\\\\socket.py\": 1717698404.0, \"C:\\\\Users\\\\sghys\\\\miniconda3\\\\envs\\\\ml\\\\DLLs\\\\_ssl.pyd\": 1718723643.6446166, \"C:\\\\Users\\\\sghys\\\\miniconda3\\\\envs\\\\ml\\\\Lib\\\\base64.py\": 1717698404.0, \"C:\\\\Users\\\\sghys\\\\miniconda3\\\\envs\\\\ml\\\\Lib\\\\ssl.py\": 1717698404.0, \"C:\\\\Users\\\\sghys\\\\miniconda3\\\\envs\\\\ml\\\\Lib\\\\asyncio\\\\constants.py\": 1717698404.0, \"C:\\\\Users\\\\sghys\\\\miniconda3\\\\envs\\\\ml\\\\Lib\\\\ast.py\": 1717698404.0, \"C:\\\\Users\\\\sghys\\\\miniconda3\\\\envs\\\\ml\\\\Lib\\\\opcode.py\": 1717698404.0, \"C:\\\\Users\\\\sghys\\\\miniconda3\\\\envs\\\\ml\\\\Lib\\\\dis.py\": 1717698404.0, \"C:\\\\Users\\\\sghys\\\\miniconda3\\\\envs\\\\ml\\\\Lib\\\\inspect.py\": 1717698404.0, \"C:\\\\Users\\\\sghys\\\\miniconda3\\\\envs\\\\ml\\\\Lib\\\\asyncio\\\\coroutines.py\": 1717698404.0, \"C:\\\\Users\\\\sghys\\\\miniconda3\\\\envs\\\\ml\\\\Lib\\\\contextvars.py\": 1717698404.0, \"C:\\\\Users\\\\sghys\\\\miniconda3\\\\envs\\\\ml\\\\Lib\\\\asyncio\\\\format_helpers.py\": 1717698404.0, \"C:\\\\Users\\\\sghys\\\\miniconda3\\\\envs\\\\ml\\\\Lib\\\\asyncio\\\\base_futures.py\": 1717698404.0, \"C:\\\\Users\\\\sghys\\\\miniconda3\\\\envs\\\\ml\\\\Lib\\\\asyncio\\\\exceptions.py\": 1717698404.0, \"C:\\\\Users\\\\sghys\\\\miniconda3\\\\envs\\\\ml\\\\Lib\\\\asyncio\\\\base_tasks.py\": 1717698404.0, \"C:\\\\Users\\\\sghys\\\\miniconda3\\\\envs\\\\ml\\\\DLLs\\\\_asyncio.pyd\": 1718723611.5471094, \"C:\\\\Users\\\\sghys\\\\miniconda3\\\\envs\\\\ml\\\\Lib\\\\asyncio\\\\events.py\": 1717698404.0, \"C:\\\\Users\\\\sghys\\\\miniconda3\\\\envs\\\\ml\\\\Lib\\\\asyncio\\\\futures.py\": 1717698404.0, \"C:\\\\Users\\\\sghys\\\\miniconda3\\\\envs\\\\ml\\\\Lib\\\\asyncio\\\\protocols.py\": 1717698404.0, \"C:\\\\Users\\\\sghys\\\\miniconda3\\\\envs\\\\ml\\\\Lib\\\\asyncio\\\\transports.py\": 1717698404.0, \"C:\\\\Users\\\\sghys\\\\miniconda3\\\\envs\\\\ml\\\\Lib\\\\asyncio\\\\log.py\": 1717698404.0, \"C:\\\\Users\\\\sghys\\\\miniconda3\\\\envs\\\\ml\\\\Lib\\\\asyncio\\\\sslproto.py\": 1717698404.0, \"C:\\\\Users\\\\sghys\\\\miniconda3\\\\envs\\\\ml\\\\Lib\\\\asyncio\\\\mixins.py\": 1717698404.0, \"C:\\\\Users\\\\sghys\\\\miniconda3\\\\envs\\\\ml\\\\Lib\\\\asyncio\\\\locks.py\": 1717698404.0, \"C:\\\\Users\\\\sghys\\\\miniconda3\\\\envs\\\\ml\\\\Lib\\\\asyncio\\\\timeouts.py\": 1717698404.0, \"C:\\\\Users\\\\sghys\\\\miniconda3\\\\envs\\\\ml\\\\Lib\\\\asyncio\\\\tasks.py\": 1717698404.0, \"C:\\\\Users\\\\sghys\\\\miniconda3\\\\envs\\\\ml\\\\Lib\\\\asyncio\\\\staggered.py\": 1717698404.0, \"C:\\\\Users\\\\sghys\\\\miniconda3\\\\envs\\\\ml\\\\Lib\\\\asyncio\\\\trsock.py\": 1717698404.0, \"C:\\\\Users\\\\sghys\\\\miniconda3\\\\envs\\\\ml\\\\Lib\\\\asyncio\\\\base_events.py\": 1717698404.0, \"C:\\\\Users\\\\sghys\\\\miniconda3\\\\envs\\\\ml\\\\Lib\\\\asyncio\\\\runners.py\": 1717698404.0, \"C:\\\\Users\\\\sghys\\\\miniconda3\\\\envs\\\\ml\\\\Lib\\\\asyncio\\\\queues.py\": 1717698404.0, \"C:\\\\Users\\\\sghys\\\\miniconda3\\\\envs\\\\ml\\\\Lib\\\\asyncio\\\\streams.py\": 1717698404.0, \"C:\\\\Users\\\\sghys\\\\miniconda3\\\\envs\\\\ml\\\\Lib\\\\asyncio\\\\subprocess.py\": 1717698404.0, \"C:\\\\Users\\\\sghys\\\\miniconda3\\\\envs\\\\ml\\\\Lib\\\\asyncio\\\\taskgroups.py\": 1717698404.0, \"C:\\\\Users\\\\sghys\\\\miniconda3\\\\envs\\\\ml\\\\Lib\\\\asyncio\\\\threads.py\": 1717698404.0, \"C:\\\\Users\\\\sghys\\\\miniconda3\\\\envs\\\\ml\\\\DLLs\\\\_overlapped.pyd\": 1718723634.2132268, \"C:\\\\Users\\\\sghys\\\\miniconda3\\\\envs\\\\ml\\\\Lib\\\\asyncio\\\\base_subprocess.py\": 1717698404.0, \"C:\\\\Users\\\\sghys\\\\miniconda3\\\\envs\\\\ml\\\\Lib\\\\asyncio\\\\proactor_events.py\": 1717698404.0, \"C:\\\\Users\\\\sghys\\\\miniconda3\\\\envs\\\\ml\\\\Lib\\\\asyncio\\\\selector_events.py\": 1717698404.0, \"C:\\\\Users\\\\sghys\\\\miniconda3\\\\envs\\\\ml\\\\Lib\\\\posixpath.py\": 1717698404.0, \"C:\\\\Users\\\\sghys\\\\miniconda3\\\\envs\\\\ml\\\\Lib\\\\fnmatch.py\": 1717698404.0, \"C:\\\\Users\\\\sghys\\\\miniconda3\\\\envs\\\\ml\\\\Lib\\\\_compression.py\": 1717698404.0, \"C:\\\\Users\\\\sghys\\\\miniconda3\\\\envs\\\\ml\\\\DLLs\\\\_bz2.pyd\": 1718723613.7565362, \"C:\\\\Users\\\\sghys\\\\miniconda3\\\\envs\\\\ml\\\\Lib\\\\bz2.py\": 1717698404.0, \"C:\\\\Users\\\\sghys\\\\miniconda3\\\\envs\\\\ml\\\\DLLs\\\\_lzma.pyd\": 1718723627.3441088, \"C:\\\\Users\\\\sghys\\\\miniconda3\\\\envs\\\\ml\\\\Lib\\\\lzma.py\": 1717698404.0, \"C:\\\\Users\\\\sghys\\\\miniconda3\\\\envs\\\\ml\\\\Lib\\\\shutil.py\": 1717698404.0, \"C:\\\\Users\\\\sghys\\\\miniconda3\\\\envs\\\\ml\\\\Lib\\\\tempfile.py\": 1717698404.0, \"C:\\\\Users\\\\sghys\\\\miniconda3\\\\envs\\\\ml\\\\Lib\\\\asyncio\\\\windows_utils.py\": 1717698404.0, \"C:\\\\Users\\\\sghys\\\\miniconda3\\\\envs\\\\ml\\\\Lib\\\\asyncio\\\\windows_events.py\": 1717698404.0, \"C:\\\\Users\\\\sghys\\\\miniconda3\\\\envs\\\\ml\\\\Lib\\\\asyncio\\\\__init__.py\": 1717698404.0, \"C:\\\\Users\\\\sghys\\\\miniconda3\\\\envs\\\\ml\\\\Lib\\\\site-packages\\\\zmq\\\\_future.py\": 1705606292.9773018, \"C:\\\\Users\\\\sghys\\\\miniconda3\\\\envs\\\\ml\\\\Lib\\\\site-packages\\\\zmq\\\\asyncio.py\": 1705606292.992955, \"C:\\\\Users\\\\sghys\\\\miniconda3\\\\envs\\\\ml\\\\Lib\\\\urllib\\\\__init__.py\": 1717698404.0, \"C:\\\\Users\\\\sghys\\\\miniconda3\\\\envs\\\\ml\\\\Lib\\\\ipaddress.py\": 1717698404.0, \"C:\\\\Users\\\\sghys\\\\miniconda3\\\\envs\\\\ml\\\\Lib\\\\urllib\\\\parse.py\": 1717698404.0, \"C:\\\\Users\\\\sghys\\\\miniconda3\\\\envs\\\\ml\\\\Lib\\\\pathlib.py\": 1717698404.0, \"C:\\\\Users\\\\sghys\\\\miniconda3\\\\envs\\\\ml\\\\Lib\\\\site-packages\\\\traitlets\\\\utils\\\\__init__.py\": 1718227110.4151647, \"C:\\\\Users\\\\sghys\\\\miniconda3\\\\envs\\\\ml\\\\Lib\\\\site-packages\\\\traitlets\\\\utils\\\\bunch.py\": 1718227110.4151647, \"C:\\\\Users\\\\sghys\\\\miniconda3\\\\envs\\\\ml\\\\Lib\\\\site-packages\\\\traitlets\\\\utils\\\\descriptions.py\": 1718227110.4151647, \"C:\\\\Users\\\\sghys\\\\miniconda3\\\\envs\\\\ml\\\\Lib\\\\site-packages\\\\traitlets\\\\utils\\\\getargspec.py\": 1718227110.4151647, \"C:\\\\Users\\\\sghys\\\\miniconda3\\\\envs\\\\ml\\\\Lib\\\\site-packages\\\\traitlets\\\\utils\\\\importstring.py\": 1718227110.4151647, \"C:\\\\Users\\\\sghys\\\\miniconda3\\\\envs\\\\ml\\\\Lib\\\\site-packages\\\\traitlets\\\\utils\\\\sentinel.py\": 1718227110.4151647, \"C:\\\\Users\\\\sghys\\\\miniconda3\\\\envs\\\\ml\\\\Lib\\\\site-packages\\\\traitlets\\\\utils\\\\warnings.py\": 1718227110.4151647, \"C:\\\\Users\\\\sghys\\\\miniconda3\\\\envs\\\\ml\\\\Lib\\\\site-packages\\\\traitlets\\\\traitlets.py\": 1718227110.3994443, \"C:\\\\Users\\\\sghys\\\\miniconda3\\\\envs\\\\ml\\\\Lib\\\\site-packages\\\\traitlets\\\\_version.py\": 1718227110.3940501, \"C:\\\\Users\\\\sghys\\\\miniconda3\\\\envs\\\\ml\\\\Lib\\\\site-packages\\\\traitlets\\\\utils\\\\decorators.py\": 1718227110.4151647, \"C:\\\\Users\\\\sghys\\\\miniconda3\\\\envs\\\\ml\\\\Lib\\\\site-packages\\\\traitlets\\\\__init__.py\": 1718227110.383891, \"C:\\\\Users\\\\sghys\\\\miniconda3\\\\envs\\\\ml\\\\DLLs\\\\_queue.pyd\": 1718723636.4901505, \"C:\\\\Users\\\\sghys\\\\miniconda3\\\\envs\\\\ml\\\\Lib\\\\queue.py\": 1717698404.0, \"C:\\\\Users\\\\sghys\\\\miniconda3\\\\envs\\\\ml\\\\Lib\\\\site-packages\\\\jupyter_core\\\\version.py\": 1718818852.4207025, \"C:\\\\Users\\\\sghys\\\\miniconda3\\\\envs\\\\ml\\\\Lib\\\\site-packages\\\\jupyter_core\\\\__init__.py\": 1718818852.4044406, \"C:\\\\Users\\\\sghys\\\\miniconda3\\\\envs\\\\ml\\\\Lib\\\\site-packages\\\\jupyter_core\\\\utils\\\\__init__.py\": 1718818852.4207025, \"C:\\\\Users\\\\sghys\\\\miniconda3\\\\envs\\\\ml\\\\Lib\\\\site-packages\\\\jupyter_client\\\\channelsabc.py\": 1701796405.9728987, \"C:\\\\Users\\\\sghys\\\\miniconda3\\\\envs\\\\ml\\\\DLLs\\\\_hashlib.pyd\": 1718723625.1538324, \"C:\\\\Users\\\\sghys\\\\miniconda3\\\\envs\\\\ml\\\\Lib\\\\hashlib.py\": 1717698404.0, \"C:\\\\Users\\\\sghys\\\\miniconda3\\\\envs\\\\ml\\\\Lib\\\\hmac.py\": 1717698404.0, \"C:\\\\Users\\\\sghys\\\\miniconda3\\\\envs\\\\ml\\\\Lib\\\\dataclasses.py\": 1717698404.0, \"C:\\\\Users\\\\sghys\\\\miniconda3\\\\envs\\\\ml\\\\Lib\\\\pprint.py\": 1717698404.0, \"C:\\\\Users\\\\sghys\\\\miniconda3\\\\envs\\\\ml\\\\Lib\\\\datetime.py\": 1717698404.0, \"C:\\\\Users\\\\sghys\\\\miniconda3\\\\envs\\\\ml\\\\Lib\\\\site-packages\\\\tornado\\\\__init__.py\": 1718740362.3984861, \"C:\\\\Users\\\\sghys\\\\miniconda3\\\\envs\\\\ml\\\\Lib\\\\numbers.py\": 1717698404.0, \"C:\\\\Users\\\\sghys\\\\miniconda3\\\\envs\\\\ml\\\\Lib\\\\logging\\\\handlers.py\": 1717698404.0, \"C:\\\\Users\\\\sghys\\\\miniconda3\\\\envs\\\\ml\\\\Lib\\\\html\\\\entities.py\": 1717698404.0, \"C:\\\\Users\\\\sghys\\\\miniconda3\\\\envs\\\\ml\\\\Lib\\\\html\\\\__init__.py\": 1717698404.0, \"C:\\\\Users\\\\sghys\\\\miniconda3\\\\envs\\\\ml\\\\Lib\\\\site-packages\\\\tornado\\\\speedups.pyd\": 1718740627.17411, \"C:\\\\Users\\\\sghys\\\\miniconda3\\\\envs\\\\ml\\\\Lib\\\\site-packages\\\\tornado\\\\util.py\": 1718740362.4141996, \"C:\\\\Users\\\\sghys\\\\miniconda3\\\\envs\\\\ml\\\\Lib\\\\site-packages\\\\tornado\\\\escape.py\": 1718740362.3984861, \"C:\\\\Users\\\\sghys\\\\miniconda3\\\\envs\\\\ml\\\\Lib\\\\site-packages\\\\colorama\\\\ansi.py\": 1699472668.6326852, \"C:\\\\Users\\\\sghys\\\\miniconda3\\\\envs\\\\ml\\\\DLLs\\\\_ctypes.pyd\": 1718723616.0337, \"C:\\\\Users\\\\sghys\\\\miniconda3\\\\envs\\\\ml\\\\Lib\\\\ctypes\\\\_endian.py\": 1717698404.0, \"C:\\\\Users\\\\sghys\\\\miniconda3\\\\envs\\\\ml\\\\Lib\\\\ctypes\\\\__init__.py\": 1717698404.0, \"C:\\\\Users\\\\sghys\\\\miniconda3\\\\envs\\\\ml\\\\Lib\\\\ctypes\\\\wintypes.py\": 1717698404.0, \"C:\\\\Users\\\\sghys\\\\miniconda3\\\\envs\\\\ml\\\\Lib\\\\site-packages\\\\colorama\\\\win32.py\": 1699472668.6326852, \"C:\\\\Users\\\\sghys\\\\miniconda3\\\\envs\\\\ml\\\\Lib\\\\site-packages\\\\colorama\\\\winterm.py\": 1699472668.6326852, \"C:\\\\Users\\\\sghys\\\\miniconda3\\\\envs\\\\ml\\\\Lib\\\\site-packages\\\\colorama\\\\ansitowin32.py\": 1699472668.6326852, \"C:\\\\Users\\\\sghys\\\\miniconda3\\\\envs\\\\ml\\\\Lib\\\\site-packages\\\\colorama\\\\initialise.py\": 1699472668.6326852, \"C:\\\\Users\\\\sghys\\\\miniconda3\\\\envs\\\\ml\\\\Lib\\\\site-packages\\\\colorama\\\\__init__.py\": 1699472668.6326852, \"C:\\\\Users\\\\sghys\\\\miniconda3\\\\envs\\\\ml\\\\Lib\\\\site-packages\\\\tornado\\\\log.py\": 1718740362.4141996, \"C:\\\\Users\\\\sghys\\\\miniconda3\\\\envs\\\\ml\\\\Lib\\\\site-packages\\\\tornado\\\\concurrent.py\": 1718740362.3984861, \"C:\\\\Users\\\\sghys\\\\miniconda3\\\\envs\\\\ml\\\\Lib\\\\site-packages\\\\tornado\\\\ioloop.py\": 1718740362.3984861, \"C:\\\\Users\\\\sghys\\\\miniconda3\\\\envs\\\\ml\\\\Lib\\\\socketserver.py\": 1717698404.0, \"C:\\\\Users\\\\sghys\\\\miniconda3\\\\envs\\\\ml\\\\Lib\\\\logging\\\\config.py\": 1717698404.0, \"C:\\\\Users\\\\sghys\\\\miniconda3\\\\envs\\\\ml\\\\Lib\\\\site-packages\\\\traitlets\\\\utils\\\\text.py\": 1718227110.4151647, \"C:\\\\Users\\\\sghys\\\\miniconda3\\\\envs\\\\ml\\\\Lib\\\\gettext.py\": 1717698404.0, \"C:\\\\Users\\\\sghys\\\\miniconda3\\\\envs\\\\ml\\\\Lib\\\\argparse.py\": 1717698404.0, \"C:\\\\Users\\\\sghys\\\\miniconda3\\\\envs\\\\ml\\\\Lib\\\\site-packages\\\\traitlets\\\\config\\\\loader.py\": 1718227110.4151647, \"C:\\\\Users\\\\sghys\\\\miniconda3\\\\envs\\\\ml\\\\Lib\\\\site-packages\\\\traitlets\\\\config\\\\configurable.py\": 1718227110.3994443, \"C:\\\\Users\\\\sghys\\\\miniconda3\\\\envs\\\\ml\\\\Lib\\\\site-packages\\\\traitlets\\\\utils\\\\nested_update.py\": 1718227110.4151647, \"C:\\\\Users\\\\sghys\\\\miniconda3\\\\envs\\\\ml\\\\Lib\\\\site-packages\\\\traitlets\\\\config\\\\application.py\": 1718227110.3994443, \"C:\\\\Users\\\\sghys\\\\miniconda3\\\\envs\\\\ml\\\\Lib\\\\site-packages\\\\traitlets\\\\config\\\\__init__.py\": 1718227110.3994443, \"C:\\\\Users\\\\sghys\\\\miniconda3\\\\envs\\\\ml\\\\Lib\\\\site-packages\\\\traitlets\\\\log.py\": 1718227110.3953094, \"C:\\\\Users\\\\sghys\\\\miniconda3\\\\envs\\\\ml\\\\Lib\\\\site-packages\\\\zmq\\\\eventloop\\\\__init__.py\": 1705606293.0499601, \"C:\\\\Users\\\\sghys\\\\miniconda3\\\\envs\\\\ml\\\\Lib\\\\site-packages\\\\zmq\\\\eventloop\\\\zmqstream.py\": 1705606293.0499601, \"C:\\\\Users\\\\sghys\\\\miniconda3\\\\envs\\\\ml\\\\Lib\\\\site-packages\\\\jupyter_client\\\\adapter.py\": 1701796405.9728987, \"C:\\\\Users\\\\sghys\\\\miniconda3\\\\envs\\\\ml\\\\Lib\\\\site-packages\\\\dateutil\\\\_version.py\": 1716495997.962339, \"C:\\\\Users\\\\sghys\\\\miniconda3\\\\envs\\\\ml\\\\Lib\\\\site-packages\\\\dateutil\\\\__init__.py\": 1716495997.946707, \"C:\\\\Users\\\\sghys\\\\miniconda3\\\\envs\\\\ml\\\\Lib\\\\calendar.py\": 1717698404.0, \"C:\\\\Users\\\\sghys\\\\miniconda3\\\\envs\\\\ml\\\\Lib\\\\site-packages\\\\six.py\": 1644875973.0, \"C:\\\\Users\\\\sghys\\\\miniconda3\\\\envs\\\\ml\\\\DLLs\\\\_decimal.pyd\": 1718723620.3537476, \"C:\\\\Users\\\\sghys\\\\miniconda3\\\\envs\\\\ml\\\\Lib\\\\decimal.py\": 1717698404.0, \"C:\\\\Users\\\\sghys\\\\miniconda3\\\\envs\\\\ml\\\\Lib\\\\site-packages\\\\dateutil\\\\_common.py\": 1716495997.946707, \"C:\\\\Users\\\\sghys\\\\miniconda3\\\\envs\\\\ml\\\\Lib\\\\site-packages\\\\dateutil\\\\relativedelta.py\": 1716495997.962339, \"C:\\\\Users\\\\sghys\\\\miniconda3\\\\envs\\\\ml\\\\Lib\\\\site-packages\\\\dateutil\\\\tz\\\\_common.py\": 1716495997.962339, \"C:\\\\Users\\\\sghys\\\\miniconda3\\\\envs\\\\ml\\\\Lib\\\\site-packages\\\\dateutil\\\\tz\\\\_factories.py\": 1716495997.962339, \"C:\\\\Users\\\\sghys\\\\miniconda3\\\\envs\\\\ml\\\\Lib\\\\site-packages\\\\dateutil\\\\tz\\\\win.py\": 1716495997.962339, \"C:\\\\Users\\\\sghys\\\\miniconda3\\\\envs\\\\ml\\\\Lib\\\\site-packages\\\\dateutil\\\\tz\\\\tz.py\": 1716495997.962339, \"C:\\\\Users\\\\sghys\\\\miniconda3\\\\envs\\\\ml\\\\Lib\\\\site-packages\\\\dateutil\\\\tz\\\\__init__.py\": 1716495997.962339, \"C:\\\\Users\\\\sghys\\\\miniconda3\\\\envs\\\\ml\\\\Lib\\\\site-packages\\\\dateutil\\\\parser\\\\_parser.py\": 1716495997.962339, \"C:\\\\Users\\\\sghys\\\\miniconda3\\\\envs\\\\ml\\\\Lib\\\\site-packages\\\\dateutil\\\\parser\\\\isoparser.py\": 1716495997.962339, \"C:\\\\Users\\\\sghys\\\\miniconda3\\\\envs\\\\ml\\\\Lib\\\\site-packages\\\\dateutil\\\\parser\\\\__init__.py\": 1716495997.962339, \"C:\\\\Users\\\\sghys\\\\miniconda3\\\\envs\\\\ml\\\\Lib\\\\_strptime.py\": 1717698404.0, \"C:\\\\Users\\\\sghys\\\\miniconda3\\\\envs\\\\ml\\\\Lib\\\\site-packages\\\\jupyter_client\\\\jsonutil.py\": 1701796405.9885137, \"C:\\\\Users\\\\sghys\\\\miniconda3\\\\envs\\\\ml\\\\Lib\\\\site-packages\\\\jupyter_client\\\\session.py\": 1701796405.9885137, \"C:\\\\Users\\\\sghys\\\\miniconda3\\\\envs\\\\ml\\\\Lib\\\\site-packages\\\\jupyter_client\\\\channels.py\": 1701796405.9728987, \"C:\\\\Users\\\\sghys\\\\miniconda3\\\\envs\\\\ml\\\\Lib\\\\getpass.py\": 1717698404.0, \"C:\\\\Users\\\\sghys\\\\miniconda3\\\\envs\\\\ml\\\\Lib\\\\site-packages\\\\jupyter_client\\\\clientabc.py\": 1701796405.9728987, \"C:\\\\Users\\\\sghys\\\\miniconda3\\\\envs\\\\ml\\\\Lib\\\\glob.py\": 1717698404.0, \"C:\\\\Users\\\\sghys\\\\miniconda3\\\\envs\\\\ml\\\\Lib\\\\site-packages\\\\platformdirs\\\\api.py\": 1701797415.3158572, \"C:\\\\Users\\\\sghys\\\\miniconda3\\\\envs\\\\ml\\\\Lib\\\\site-packages\\\\platformdirs\\\\version.py\": 1701797415.3158572, \"C:\\\\Users\\\\sghys\\\\miniconda3\\\\envs\\\\ml\\\\Lib\\\\site-packages\\\\platformdirs\\\\windows.py\": 1701797415.3158572, \"C:\\\\Users\\\\sghys\\\\miniconda3\\\\envs\\\\ml\\\\Lib\\\\site-packages\\\\platformdirs\\\\__init__.py\": 1701797415.3158572, \"C:\\\\Users\\\\sghys\\\\miniconda3\\\\envs\\\\ml\\\\Lib\\\\site-packages\\\\jupyter_core\\\\paths.py\": 1718818852.4207025, \"C:\\\\Users\\\\sghys\\\\miniconda3\\\\envs\\\\ml\\\\Lib\\\\site-packages\\\\jupyter_client\\\\localinterfaces.py\": 1701796405.9885137, \"C:\\\\Users\\\\sghys\\\\miniconda3\\\\envs\\\\ml\\\\Lib\\\\site-packages\\\\jupyter_client\\\\utils.py\": 1701796405.9885137, \"C:\\\\Users\\\\sghys\\\\miniconda3\\\\envs\\\\ml\\\\Lib\\\\site-packages\\\\jupyter_client\\\\connect.py\": 1701796405.9728987, \"C:\\\\Users\\\\sghys\\\\miniconda3\\\\envs\\\\ml\\\\Lib\\\\site-packages\\\\jupyter_client\\\\client.py\": 1701796405.9728987, \"C:\\\\Users\\\\sghys\\\\miniconda3\\\\envs\\\\ml\\\\Lib\\\\site-packages\\\\jupyter_client\\\\asynchronous\\\\client.py\": 1701796405.9885137, \"C:\\\\Users\\\\sghys\\\\miniconda3\\\\envs\\\\ml\\\\Lib\\\\site-packages\\\\jupyter_client\\\\asynchronous\\\\__init__.py\": 1701796405.9885137, \"C:\\\\Users\\\\sghys\\\\miniconda3\\\\envs\\\\ml\\\\Lib\\\\site-packages\\\\jupyter_client\\\\blocking\\\\client.py\": 1701796405.9885137, \"C:\\\\Users\\\\sghys\\\\miniconda3\\\\envs\\\\ml\\\\Lib\\\\site-packages\\\\jupyter_client\\\\blocking\\\\__init__.py\": 1701796405.9885137, \"C:\\\\Users\\\\sghys\\\\miniconda3\\\\envs\\\\ml\\\\Lib\\\\site-packages\\\\jupyter_client\\\\launcher.py\": 1701796405.9885137, \"C:\\\\Users\\\\sghys\\\\miniconda3\\\\envs\\\\ml\\\\DLLs\\\\_uuid.pyd\": 1718723666.8272245, \"C:\\\\Users\\\\sghys\\\\miniconda3\\\\envs\\\\ml\\\\Lib\\\\uuid.py\": 1717698404.0, \"C:\\\\Users\\\\sghys\\\\miniconda3\\\\envs\\\\ml\\\\Lib\\\\csv.py\": 1717698404.0, \"C:\\\\Users\\\\sghys\\\\miniconda3\\\\envs\\\\ml\\\\Lib\\\\email\\\\__init__.py\": 1717698404.0, \"C:\\\\Users\\\\sghys\\\\miniconda3\\\\envs\\\\ml\\\\Lib\\\\zipfile\\\\_path\\\\glob.py\": 1717698404.0, \"C:\\\\Users\\\\sghys\\\\miniconda3\\\\envs\\\\ml\\\\Lib\\\\zipfile\\\\_path\\\\__init__.py\": 1717698404.0, \"C:\\\\Users\\\\sghys\\\\miniconda3\\\\envs\\\\ml\\\\Lib\\\\zipfile\\\\__init__.py\": 1717698404.0, \"C:\\\\Users\\\\sghys\\\\miniconda3\\\\envs\\\\ml\\\\Lib\\\\quopri.py\": 1717698404.0, \"C:\\\\Users\\\\sghys\\\\miniconda3\\\\envs\\\\ml\\\\Lib\\\\email\\\\_parseaddr.py\": 1717698404.0, \"C:\\\\Users\\\\sghys\\\\miniconda3\\\\envs\\\\ml\\\\Lib\\\\email\\\\base64mime.py\": 1717698404.0, \"C:\\\\Users\\\\sghys\\\\miniconda3\\\\envs\\\\ml\\\\Lib\\\\email\\\\quoprimime.py\": 1717698404.0, \"C:\\\\Users\\\\sghys\\\\miniconda3\\\\envs\\\\ml\\\\Lib\\\\email\\\\errors.py\": 1717698404.0, \"C:\\\\Users\\\\sghys\\\\miniconda3\\\\envs\\\\ml\\\\Lib\\\\email\\\\encoders.py\": 1717698404.0, \"C:\\\\Users\\\\sghys\\\\miniconda3\\\\envs\\\\ml\\\\Lib\\\\email\\\\charset.py\": 1717698404.0, \"C:\\\\Users\\\\sghys\\\\miniconda3\\\\envs\\\\ml\\\\Lib\\\\email\\\\utils.py\": 1717698404.0, \"C:\\\\Users\\\\sghys\\\\miniconda3\\\\envs\\\\ml\\\\Lib\\\\email\\\\header.py\": 1717698404.0, \"C:\\\\Users\\\\sghys\\\\miniconda3\\\\envs\\\\ml\\\\Lib\\\\email\\\\_policybase.py\": 1717698404.0, \"C:\\\\Users\\\\sghys\\\\miniconda3\\\\envs\\\\ml\\\\Lib\\\\email\\\\_encoded_words.py\": 1717698404.0, \"C:\\\\Users\\\\sghys\\\\miniconda3\\\\envs\\\\ml\\\\Lib\\\\email\\\\iterators.py\": 1717698404.0, \"C:\\\\Users\\\\sghys\\\\miniconda3\\\\envs\\\\ml\\\\Lib\\\\email\\\\message.py\": 1717698404.0, \"C:\\\\Users\\\\sghys\\\\miniconda3\\\\envs\\\\ml\\\\Lib\\\\importlib\\\\metadata\\\\_functools.py\": 1717698404.0, \"C:\\\\Users\\\\sghys\\\\miniconda3\\\\envs\\\\ml\\\\Lib\\\\importlib\\\\metadata\\\\_text.py\": 1717698404.0, \"C:\\\\Users\\\\sghys\\\\miniconda3\\\\envs\\\\ml\\\\Lib\\\\importlib\\\\metadata\\\\_adapters.py\": 1717698404.0, \"C:\\\\Users\\\\sghys\\\\miniconda3\\\\envs\\\\ml\\\\Lib\\\\importlib\\\\metadata\\\\_meta.py\": 1717698404.0, \"C:\\\\Users\\\\sghys\\\\miniconda3\\\\envs\\\\ml\\\\Lib\\\\importlib\\\\metadata\\\\_collections.py\": 1717698404.0, \"C:\\\\Users\\\\sghys\\\\miniconda3\\\\envs\\\\ml\\\\Lib\\\\importlib\\\\metadata\\\\_itertools.py\": 1717698404.0, \"C:\\\\Users\\\\sghys\\\\miniconda3\\\\envs\\\\ml\\\\Lib\\\\importlib\\\\resources\\\\abc.py\": 1717698404.0, \"C:\\\\Users\\\\sghys\\\\miniconda3\\\\envs\\\\ml\\\\Lib\\\\importlib\\\\resources\\\\_adapters.py\": 1717698404.0, \"C:\\\\Users\\\\sghys\\\\miniconda3\\\\envs\\\\ml\\\\Lib\\\\importlib\\\\resources\\\\_common.py\": 1717698404.0, \"C:\\\\Users\\\\sghys\\\\miniconda3\\\\envs\\\\ml\\\\Lib\\\\importlib\\\\resources\\\\_legacy.py\": 1717698404.0, \"C:\\\\Users\\\\sghys\\\\miniconda3\\\\envs\\\\ml\\\\Lib\\\\importlib\\\\resources\\\\__init__.py\": 1717698404.0, \"C:\\\\Users\\\\sghys\\\\miniconda3\\\\envs\\\\ml\\\\Lib\\\\importlib\\\\abc.py\": 1717698404.0, \"C:\\\\Users\\\\sghys\\\\miniconda3\\\\envs\\\\ml\\\\Lib\\\\importlib\\\\metadata\\\\__init__.py\": 1717698404.0, \"C:\\\\Users\\\\sghys\\\\miniconda3\\\\envs\\\\ml\\\\Lib\\\\site-packages\\\\jupyter_client\\\\provisioning\\\\provisioner_base.py\": 1701796405.9885137, \"C:\\\\Users\\\\sghys\\\\miniconda3\\\\envs\\\\ml\\\\Lib\\\\site-packages\\\\jupyter_client\\\\provisioning\\\\factory.py\": 1701796405.9885137, \"C:\\\\Users\\\\sghys\\\\miniconda3\\\\envs\\\\ml\\\\Lib\\\\site-packages\\\\jupyter_client\\\\provisioning\\\\local_provisioner.py\": 1701796405.9885137, \"C:\\\\Users\\\\sghys\\\\miniconda3\\\\envs\\\\ml\\\\Lib\\\\site-packages\\\\jupyter_client\\\\provisioning\\\\__init__.py\": 1701796405.9885137, \"C:\\\\Users\\\\sghys\\\\miniconda3\\\\envs\\\\ml\\\\Lib\\\\site-packages\\\\jupyter_client\\\\kernelspec.py\": 1701796405.9885137, \"C:\\\\Users\\\\sghys\\\\miniconda3\\\\envs\\\\ml\\\\Lib\\\\site-packages\\\\jupyter_client\\\\managerabc.py\": 1701796405.9885137, \"C:\\\\Users\\\\sghys\\\\miniconda3\\\\envs\\\\ml\\\\Lib\\\\site-packages\\\\jupyter_client\\\\manager.py\": 1701796405.9885137, \"C:\\\\Users\\\\sghys\\\\miniconda3\\\\envs\\\\ml\\\\Lib\\\\site-packages\\\\jupyter_client\\\\multikernelmanager.py\": 1701796405.9885137, \"C:\\\\Users\\\\sghys\\\\miniconda3\\\\envs\\\\ml\\\\Lib\\\\site-packages\\\\jupyter_client\\\\__init__.py\": 1701796405.9728987, \"C:\\\\Users\\\\sghys\\\\miniconda3\\\\envs\\\\ml\\\\Lib\\\\site-packages\\\\ipykernel\\\\connect.py\": 1705934932.4952164, \"C:\\\\Users\\\\sghys\\\\miniconda3\\\\envs\\\\ml\\\\Lib\\\\site-packages\\\\ipykernel\\\\__init__.py\": 1705934932.4952164, \"C:\\\\Users\\\\sghys\\\\miniconda3\\\\envs\\\\ml\\\\Lib\\\\site-packages\\\\IPython\\\\core\\\\__init__.py\": 1726064883.1139994, \"C:\\\\Users\\\\sghys\\\\miniconda3\\\\envs\\\\ml\\\\Lib\\\\site-packages\\\\IPython\\\\core\\\\getipython.py\": 1726064883.1298072, \"C:\\\\Users\\\\sghys\\\\miniconda3\\\\envs\\\\ml\\\\Lib\\\\site-packages\\\\IPython\\\\core\\\\release.py\": 1726064883.1497035, \"C:\\\\Users\\\\sghys\\\\miniconda3\\\\envs\\\\ml\\\\Lib\\\\pkgutil.py\": 1717698404.0, \"C:\\\\Users\\\\sghys\\\\miniconda3\\\\envs\\\\ml\\\\Lib\\\\sysconfig.py\": 1718722929.0475137, \"C:\\\\Users\\\\sghys\\\\miniconda3\\\\envs\\\\ml\\\\Lib\\\\pydoc.py\": 1717698404.0, \"C:\\\\Users\\\\sghys\\\\miniconda3\\\\envs\\\\ml\\\\Lib\\\\site-packages\\\\executing\\\\executing.py\": 1646925118.0, \"C:\\\\Users\\\\sghys\\\\miniconda3\\\\envs\\\\ml\\\\Lib\\\\site-packages\\\\executing\\\\version.py\": 1646925118.0, \"C:\\\\Users\\\\sghys\\\\miniconda3\\\\envs\\\\ml\\\\Lib\\\\site-packages\\\\executing\\\\__init__.py\": 1646925118.0, \"C:\\\\Users\\\\sghys\\\\miniconda3\\\\envs\\\\ml\\\\Lib\\\\site-packages\\\\asttokens\\\\line_numbers.py\": 1646925667.0, \"C:\\\\Users\\\\sghys\\\\miniconda3\\\\envs\\\\ml\\\\Lib\\\\site-packages\\\\asttokens\\\\util.py\": 1646925667.0, \"C:\\\\Users\\\\sghys\\\\miniconda3\\\\envs\\\\ml\\\\Lib\\\\site-packages\\\\asttokens\\\\mark_tokens.py\": 1646925667.0, \"C:\\\\Users\\\\sghys\\\\miniconda3\\\\envs\\\\ml\\\\Lib\\\\site-packages\\\\asttokens\\\\asttokens.py\": 1646925667.0, \"C:\\\\Users\\\\sghys\\\\miniconda3\\\\envs\\\\ml\\\\Lib\\\\site-packages\\\\asttokens\\\\__init__.py\": 1646925667.0, \"C:\\\\Users\\\\sghys\\\\miniconda3\\\\envs\\\\ml\\\\Lib\\\\fractions.py\": 1717698404.0, \"C:\\\\Users\\\\sghys\\\\miniconda3\\\\envs\\\\ml\\\\Lib\\\\site-packages\\\\pure_eval\\\\utils.py\": 1646925117.0, \"C:\\\\Users\\\\sghys\\\\miniconda3\\\\envs\\\\ml\\\\Lib\\\\site-packages\\\\pure_eval\\\\my_getattr_static.py\": 1646925117.0, \"C:\\\\Users\\\\sghys\\\\miniconda3\\\\envs\\\\ml\\\\Lib\\\\site-packages\\\\pure_eval\\\\core.py\": 1646925117.0, \"C:\\\\Users\\\\sghys\\\\miniconda3\\\\envs\\\\ml\\\\Lib\\\\site-packages\\\\pure_eval\\\\version.py\": 1646925117.0, \"C:\\\\Users\\\\sghys\\\\miniconda3\\\\envs\\\\ml\\\\Lib\\\\site-packages\\\\pure_eval\\\\__init__.py\": 1646925117.0, \"C:\\\\Users\\\\sghys\\\\miniconda3\\\\envs\\\\ml\\\\Lib\\\\site-packages\\\\stack_data\\\\utils.py\": 1646927639.0, \"C:\\\\Users\\\\sghys\\\\miniconda3\\\\envs\\\\ml\\\\Lib\\\\site-packages\\\\stack_data\\\\core.py\": 1646927639.0, \"C:\\\\Users\\\\sghys\\\\miniconda3\\\\envs\\\\ml\\\\Lib\\\\site-packages\\\\stack_data\\\\formatting.py\": 1646927639.0, \"C:\\\\Users\\\\sghys\\\\miniconda3\\\\envs\\\\ml\\\\Lib\\\\site-packages\\\\stack_data\\\\version.py\": 1646927639.0, \"C:\\\\Users\\\\sghys\\\\miniconda3\\\\envs\\\\ml\\\\Lib\\\\site-packages\\\\stack_data\\\\__init__.py\": 1646927639.0, \"C:\\\\Users\\\\sghys\\\\miniconda3\\\\envs\\\\ml\\\\Lib\\\\site-packages\\\\pygments\\\\__init__.py\": 1699474165.6741226, \"C:\\\\Users\\\\sghys\\\\miniconda3\\\\envs\\\\ml\\\\Lib\\\\site-packages\\\\pygments\\\\formatters\\\\_mapping.py\": 1699474165.6898007, \"C:\\\\Users\\\\sghys\\\\miniconda3\\\\envs\\\\ml\\\\Lib\\\\site-packages\\\\pygments\\\\plugin.py\": 1699474165.6741226, \"C:\\\\Users\\\\sghys\\\\miniconda3\\\\envs\\\\ml\\\\Lib\\\\site-packages\\\\pygments\\\\util.py\": 1699474165.6741226, \"C:\\\\Users\\\\sghys\\\\miniconda3\\\\envs\\\\ml\\\\Lib\\\\site-packages\\\\pygments\\\\formatters\\\\__init__.py\": 1699474165.6741226, \"C:\\\\Users\\\\sghys\\\\miniconda3\\\\envs\\\\ml\\\\Lib\\\\site-packages\\\\pygments\\\\styles\\\\__init__.py\": 1699474165.810695, \"C:\\\\Users\\\\sghys\\\\miniconda3\\\\envs\\\\ml\\\\Lib\\\\site-packages\\\\pygments\\\\formatter.py\": 1699474165.6741226, \"C:\\\\Users\\\\sghys\\\\miniconda3\\\\envs\\\\ml\\\\Lib\\\\site-packages\\\\pygments\\\\console.py\": 1699474165.6741226, \"C:\\\\Users\\\\sghys\\\\miniconda3\\\\envs\\\\ml\\\\Lib\\\\site-packages\\\\pygments\\\\token.py\": 1699474165.6741226, \"C:\\\\Users\\\\sghys\\\\miniconda3\\\\envs\\\\ml\\\\Lib\\\\site-packages\\\\pygments\\\\style.py\": 1699474165.6741226, \"C:\\\\Users\\\\sghys\\\\miniconda3\\\\envs\\\\ml\\\\Lib\\\\site-packages\\\\pygments\\\\formatters\\\\terminal256.py\": 1699474165.6898007, \"C:\\\\Users\\\\sghys\\\\miniconda3\\\\envs\\\\ml\\\\Lib\\\\site-packages\\\\IPython\\\\utils\\\\__init__.py\": 1726064883.3131294, \"C:\\\\Users\\\\sghys\\\\miniconda3\\\\envs\\\\ml\\\\Lib\\\\site-packages\\\\IPython\\\\utils\\\\colorable.py\": 1726064883.3233142, \"C:\\\\Users\\\\sghys\\\\miniconda3\\\\envs\\\\ml\\\\Lib\\\\site-packages\\\\IPython\\\\utils\\\\ipstruct.py\": 1726064883.3350036, \"C:\\\\Users\\\\sghys\\\\miniconda3\\\\envs\\\\ml\\\\Lib\\\\site-packages\\\\IPython\\\\utils\\\\coloransi.py\": 1726064883.3233142, \"C:\\\\Users\\\\sghys\\\\miniconda3\\\\envs\\\\ml\\\\Lib\\\\site-packages\\\\IPython\\\\core\\\\excolors.py\": 1726064883.1298072, \"C:\\\\Users\\\\sghys\\\\miniconda3\\\\envs\\\\ml\\\\Lib\\\\site-packages\\\\IPython\\\\utils\\\\PyColorize.py\": 1726064883.3131294, \"C:\\\\Users\\\\sghys\\\\miniconda3\\\\envs\\\\ml\\\\Lib\\\\site-packages\\\\IPython\\\\utils\\\\encoding.py\": 1726064883.3233142, \"C:\\\\Users\\\\sghys\\\\miniconda3\\\\envs\\\\ml\\\\Lib\\\\site-packages\\\\IPython\\\\utils\\\\py3compat.py\": 1726064883.3350036, \"C:\\\\Users\\\\sghys\\\\miniconda3\\\\envs\\\\ml\\\\Lib\\\\cmd.py\": 1717698404.0, \"C:\\\\Users\\\\sghys\\\\miniconda3\\\\envs\\\\ml\\\\Lib\\\\bdb.py\": 1717698404.0, \"C:\\\\Users\\\\sghys\\\\miniconda3\\\\envs\\\\ml\\\\Lib\\\\codeop.py\": 1717698404.0, \"C:\\\\Users\\\\sghys\\\\miniconda3\\\\envs\\\\ml\\\\Lib\\\\code.py\": 1717698404.0, \"C:\\\\Users\\\\sghys\\\\miniconda3\\\\envs\\\\ml\\\\Lib\\\\pdb.py\": 1717698404.0, \"C:\\\\Users\\\\sghys\\\\miniconda3\\\\envs\\\\ml\\\\Lib\\\\site-packages\\\\IPython\\\\core\\\\debugger.py\": 1726064883.1139994, \"C:\\\\Users\\\\sghys\\\\miniconda3\\\\envs\\\\ml\\\\Lib\\\\site-packages\\\\IPython\\\\core\\\\display_trap.py\": 1726064883.1139994, \"C:\\\\Users\\\\sghys\\\\miniconda3\\\\envs\\\\ml\\\\Lib\\\\shlex.py\": 1717698404.0, \"C:\\\\Users\\\\sghys\\\\miniconda3\\\\envs\\\\ml\\\\Lib\\\\site-packages\\\\IPython\\\\utils\\\\_process_common.py\": 1726064883.3131294, \"C:\\\\Users\\\\sghys\\\\miniconda3\\\\envs\\\\ml\\\\Lib\\\\site-packages\\\\IPython\\\\utils\\\\_process_win32.py\": 1726064883.3131294, \"C:\\\\Users\\\\sghys\\\\miniconda3\\\\envs\\\\ml\\\\Lib\\\\site-packages\\\\IPython\\\\utils\\\\process.py\": 1726064883.3350036, \"C:\\\\Users\\\\sghys\\\\miniconda3\\\\envs\\\\ml\\\\Lib\\\\site-packages\\\\IPython\\\\utils\\\\path.py\": 1726064883.3350036, \"C:\\\\Users\\\\sghys\\\\miniconda3\\\\envs\\\\ml\\\\Lib\\\\site-packages\\\\IPython\\\\utils\\\\terminal.py\": 1726064883.3451371, \"C:\\\\Users\\\\sghys\\\\miniconda3\\\\envs\\\\ml\\\\Lib\\\\site-packages\\\\IPython\\\\core\\\\ultratb.py\": 1726064883.1497035, \"C:\\\\Users\\\\sghys\\\\miniconda3\\\\envs\\\\ml\\\\Lib\\\\site-packages\\\\IPython\\\\utils\\\\_sysinfo.py\": 1726064883.3233142, \"C:\\\\Users\\\\sghys\\\\miniconda3\\\\envs\\\\ml\\\\Lib\\\\site-packages\\\\IPython\\\\utils\\\\sysinfo.py\": 1726064883.3451371, \"C:\\\\Users\\\\sghys\\\\miniconda3\\\\envs\\\\ml\\\\Lib\\\\site-packages\\\\IPython\\\\core\\\\crashhandler.py\": 1726064883.1139994, \"C:\\\\Users\\\\sghys\\\\miniconda3\\\\envs\\\\ml\\\\Lib\\\\site-packages\\\\IPython\\\\utils\\\\importstring.py\": 1726064883.3341672, \"C:\\\\Users\\\\sghys\\\\miniconda3\\\\envs\\\\ml\\\\Lib\\\\site-packages\\\\IPython\\\\paths.py\": 1726064883.1074493, \"C:\\\\Users\\\\sghys\\\\miniconda3\\\\envs\\\\ml\\\\Lib\\\\site-packages\\\\IPython\\\\core\\\\profiledir.py\": 1726064883.1497035, \"C:\\\\Users\\\\sghys\\\\miniconda3\\\\envs\\\\ml\\\\Lib\\\\site-packages\\\\IPython\\\\core\\\\application.py\": 1726064883.1139994, \"C:\\\\Users\\\\sghys\\\\miniconda3\\\\envs\\\\ml\\\\Lib\\\\site-packages\\\\IPython\\\\terminal\\\\__init__.py\": 1726064883.264149, \"C:\\\\Users\\\\sghys\\\\miniconda3\\\\envs\\\\ml\\\\Lib\\\\site-packages\\\\IPython\\\\core\\\\compilerop.py\": 1726064883.1139994, \"C:\\\\Users\\\\sghys\\\\miniconda3\\\\envs\\\\ml\\\\Lib\\\\site-packages\\\\IPython\\\\core\\\\error.py\": 1726064883.1139994, \"C:\\\\Users\\\\sghys\\\\miniconda3\\\\envs\\\\ml\\\\Lib\\\\site-packages\\\\IPython\\\\utils\\\\docs.py\": 1726064883.3233142, \"C:\\\\Users\\\\sghys\\\\miniconda3\\\\envs\\\\ml\\\\Lib\\\\site-packages\\\\IPython\\\\utils\\\\decorators.py\": 1726064883.3233142, \"C:\\\\Users\\\\sghys\\\\miniconda3\\\\envs\\\\ml\\\\Lib\\\\site-packages\\\\IPython\\\\utils\\\\text.py\": 1726064883.3451371, \"C:\\\\Users\\\\sghys\\\\miniconda3\\\\envs\\\\ml\\\\Lib\\\\site-packages\\\\IPython\\\\core\\\\magic_arguments.py\": 1726064883.133964, \"C:\\\\Users\\\\sghys\\\\miniconda3\\\\envs\\\\ml\\\\Lib\\\\getopt.py\": 1717698404.0, \"C:\\\\Users\\\\sghys\\\\miniconda3\\\\envs\\\\ml\\\\Lib\\\\site-packages\\\\IPython\\\\core\\\\display_functions.py\": 1726064883.1139994, \"C:\\\\Users\\\\sghys\\\\miniconda3\\\\envs\\\\ml\\\\Lib\\\\mimetypes.py\": 1717698404.0, \"C:\\\\Users\\\\sghys\\\\miniconda3\\\\envs\\\\ml\\\\Lib\\\\site-packages\\\\IPython\\\\testing\\\\__init__.py\": 1726064883.2968411, \"C:\\\\Users\\\\sghys\\\\miniconda3\\\\envs\\\\ml\\\\Lib\\\\site-packages\\\\IPython\\\\testing\\\\skipdoctest.py\": 1726064883.2968411, \"C:\\\\Users\\\\sghys\\\\miniconda3\\\\envs\\\\ml\\\\Lib\\\\site-packages\\\\IPython\\\\core\\\\display.py\": 1726064883.1139994, \"C:\\\\Users\\\\sghys\\\\miniconda3\\\\envs\\\\ml\\\\Lib\\\\site-packages\\\\IPython\\\\lib\\\\__init__.py\": 1726064883.2304952, \"C:\\\\Users\\\\sghys\\\\miniconda3\\\\envs\\\\ml\\\\Lib\\\\site-packages\\\\IPython\\\\lib\\\\display.py\": 1726064883.2462256, \"C:\\\\Users\\\\sghys\\\\miniconda3\\\\envs\\\\ml\\\\Lib\\\\site-packages\\\\IPython\\\\display.py\": 1726064883.1074493, \"C:\\\\Users\\\\sghys\\\\miniconda3\\\\envs\\\\ml\\\\Lib\\\\site-packages\\\\IPython\\\\utils\\\\data.py\": 1726064883.3233142, \"C:\\\\Users\\\\sghys\\\\miniconda3\\\\envs\\\\ml\\\\Lib\\\\site-packages\\\\IPython\\\\core\\\\page.py\": 1726064883.133964, \"C:\\\\Users\\\\sghys\\\\miniconda3\\\\envs\\\\ml\\\\Lib\\\\site-packages\\\\IPython\\\\lib\\\\pretty.py\": 1726064883.2477627, \"C:\\\\Users\\\\sghys\\\\miniconda3\\\\envs\\\\ml\\\\Lib\\\\site-packages\\\\IPython\\\\utils\\\\openpy.py\": 1726064883.3350036, \"C:\\\\Users\\\\sghys\\\\miniconda3\\\\envs\\\\ml\\\\Lib\\\\site-packages\\\\IPython\\\\utils\\\\dir2.py\": 1726064883.3233142, \"C:\\\\Users\\\\sghys\\\\miniconda3\\\\envs\\\\ml\\\\Lib\\\\site-packages\\\\IPython\\\\utils\\\\wildcard.py\": 1726064883.3451371, \"C:\\\\Users\\\\sghys\\\\miniconda3\\\\envs\\\\ml\\\\Lib\\\\site-packages\\\\pygments\\\\lexers\\\\_mapping.py\": 1699474165.6898007, \"C:\\\\Users\\\\sghys\\\\miniconda3\\\\envs\\\\ml\\\\Lib\\\\site-packages\\\\pygments\\\\modeline.py\": 1699474165.6741226, \"C:\\\\Users\\\\sghys\\\\miniconda3\\\\envs\\\\ml\\\\Lib\\\\site-packages\\\\pygments\\\\lexers\\\\__init__.py\": 1699474165.6898007, \"C:\\\\Users\\\\sghys\\\\miniconda3\\\\envs\\\\ml\\\\Lib\\\\site-packages\\\\pygments\\\\filter.py\": 1699474165.6741226, \"C:\\\\Users\\\\sghys\\\\miniconda3\\\\envs\\\\ml\\\\Lib\\\\site-packages\\\\pygments\\\\filters\\\\__init__.py\": 1699474165.6741226, \"C:\\\\Users\\\\sghys\\\\miniconda3\\\\envs\\\\ml\\\\Lib\\\\site-packages\\\\pygments\\\\regexopt.py\": 1699474165.6741226, \"C:\\\\Users\\\\sghys\\\\miniconda3\\\\envs\\\\ml\\\\Lib\\\\site-packages\\\\pygments\\\\lexer.py\": 1699474165.6741226, \"C:\\\\Users\\\\sghys\\\\miniconda3\\\\envs\\\\ml\\\\Lib\\\\site-packages\\\\pygments\\\\unistring.py\": 1699474165.6741226, \"C:\\\\Users\\\\sghys\\\\miniconda3\\\\envs\\\\ml\\\\Lib\\\\site-packages\\\\pygments\\\\lexers\\\\python.py\": 1699474165.779396, \"C:\\\\Users\\\\sghys\\\\miniconda3\\\\envs\\\\ml\\\\Lib\\\\site-packages\\\\pygments\\\\formatters\\\\html.py\": 1699474165.6898007, \"C:\\\\Users\\\\sghys\\\\miniconda3\\\\envs\\\\ml\\\\Lib\\\\site-packages\\\\IPython\\\\core\\\\oinspect.py\": 1726064883.133964, \"C:\\\\Users\\\\sghys\\\\miniconda3\\\\envs\\\\ml\\\\Lib\\\\site-packages\\\\IPython\\\\utils\\\\tokenutil.py\": 1726064883.3451371, \"C:\\\\Users\\\\sghys\\\\miniconda3\\\\envs\\\\ml\\\\Lib\\\\site-packages\\\\IPython\\\\core\\\\inputtransformer2.py\": 1726064883.133964, \"C:\\\\Users\\\\sghys\\\\miniconda3\\\\envs\\\\ml\\\\Lib\\\\site-packages\\\\IPython\\\\core\\\\magic.py\": 1726064883.133964, \"C:\\\\Users\\\\sghys\\\\miniconda3\\\\envs\\\\ml\\\\Lib\\\\site-packages\\\\IPython\\\\core\\\\hooks.py\": 1726064883.133964, \"C:\\\\Users\\\\sghys\\\\miniconda3\\\\envs\\\\ml\\\\Lib\\\\site-packages\\\\IPython\\\\core\\\\autocall.py\": 1726064883.1139994, \"C:\\\\Users\\\\sghys\\\\miniconda3\\\\envs\\\\ml\\\\Lib\\\\site-packages\\\\IPython\\\\core\\\\macro.py\": 1726064883.133964, \"C:\\\\Users\\\\sghys\\\\miniconda3\\\\envs\\\\ml\\\\Lib\\\\site-packages\\\\IPython\\\\core\\\\splitinput.py\": 1726064883.1497035, \"C:\\\\Users\\\\sghys\\\\miniconda3\\\\envs\\\\ml\\\\Lib\\\\site-packages\\\\IPython\\\\core\\\\prefilter.py\": 1726064883.1497035, \"C:\\\\Users\\\\sghys\\\\miniconda3\\\\envs\\\\ml\\\\Lib\\\\site-packages\\\\IPython\\\\core\\\\alias.py\": 1726064883.1139994, \"C:\\\\Users\\\\sghys\\\\miniconda3\\\\envs\\\\ml\\\\Lib\\\\site-packages\\\\IPython\\\\core\\\\builtin_trap.py\": 1726064883.1139994, \"C:\\\\Users\\\\sghys\\\\miniconda3\\\\envs\\\\ml\\\\Lib\\\\site-packages\\\\IPython\\\\core\\\\displayhook.py\": 1726064883.1139994, \"C:\\\\Users\\\\sghys\\\\miniconda3\\\\envs\\\\ml\\\\Lib\\\\site-packages\\\\IPython\\\\core\\\\displaypub.py\": 1726064883.1139994, \"C:\\\\Users\\\\sghys\\\\miniconda3\\\\envs\\\\ml\\\\Lib\\\\site-packages\\\\IPython\\\\core\\\\events.py\": 1726064883.1139994, \"C:\\\\Users\\\\sghys\\\\miniconda3\\\\envs\\\\ml\\\\Lib\\\\site-packages\\\\IPython\\\\core\\\\extensions.py\": 1726064883.1298072, \"C:\\\\Users\\\\sghys\\\\miniconda3\\\\envs\\\\ml\\\\Lib\\\\site-packages\\\\decorator.py\": 1643638344.0, \"C:\\\\Users\\\\sghys\\\\miniconda3\\\\envs\\\\ml\\\\Lib\\\\site-packages\\\\IPython\\\\utils\\\\sentinel.py\": 1726064883.3350036, \"C:\\\\Users\\\\sghys\\\\miniconda3\\\\envs\\\\ml\\\\Lib\\\\site-packages\\\\IPython\\\\core\\\\formatters.py\": 1726064883.1298072, \"C:\\\\Users\\\\sghys\\\\miniconda3\\\\envs\\\\ml\\\\DLLs\\\\_sqlite3.pyd\": 1718723641.2881956, \"C:\\\\Users\\\\sghys\\\\miniconda3\\\\envs\\\\ml\\\\Lib\\\\sqlite3\\\\dbapi2.py\": 1717698404.0, \"C:\\\\Users\\\\sghys\\\\miniconda3\\\\envs\\\\ml\\\\Lib\\\\sqlite3\\\\__init__.py\": 1717698404.0, \"C:\\\\Users\\\\sghys\\\\miniconda3\\\\envs\\\\ml\\\\Lib\\\\site-packages\\\\IPython\\\\core\\\\history.py\": 1726064883.133964, \"C:\\\\Users\\\\sghys\\\\miniconda3\\\\envs\\\\ml\\\\Lib\\\\site-packages\\\\IPython\\\\core\\\\logger.py\": 1726064883.133964, \"C:\\\\Users\\\\sghys\\\\miniconda3\\\\envs\\\\ml\\\\Lib\\\\site-packages\\\\IPython\\\\core\\\\payload.py\": 1726064883.133964, \"C:\\\\Users\\\\sghys\\\\miniconda3\\\\envs\\\\ml\\\\Lib\\\\site-packages\\\\IPython\\\\core\\\\usage.py\": 1726064883.1497035, \"C:\\\\Users\\\\sghys\\\\miniconda3\\\\envs\\\\ml\\\\Lib\\\\site-packages\\\\IPython\\\\utils\\\\capture.py\": 1726064883.3233142, \"C:\\\\Users\\\\sghys\\\\miniconda3\\\\envs\\\\ml\\\\Lib\\\\site-packages\\\\IPython\\\\utils\\\\io.py\": 1726064883.3350036, \"C:\\\\Users\\\\sghys\\\\miniconda3\\\\envs\\\\ml\\\\Lib\\\\site-packages\\\\IPython\\\\utils\\\\strdispatch.py\": 1726064883.3451371, \"C:\\\\Users\\\\sghys\\\\miniconda3\\\\envs\\\\ml\\\\Lib\\\\site-packages\\\\IPython\\\\utils\\\\syspathcontext.py\": 1726064883.3451371, \"C:\\\\Users\\\\sghys\\\\miniconda3\\\\envs\\\\ml\\\\Lib\\\\site-packages\\\\IPython\\\\core\\\\async_helpers.py\": 1726064883.1139994, \"C:\\\\Users\\\\sghys\\\\miniconda3\\\\envs\\\\ml\\\\Lib\\\\site-packages\\\\IPython\\\\core\\\\interactiveshell.py\": 1726064883.133964, \"C:\\\\Users\\\\sghys\\\\miniconda3\\\\envs\\\\ml\\\\Lib\\\\site-packages\\\\prompt_toolkit\\\\application\\\\current.py\": 1704404570.5925965, \"C:\\\\Users\\\\sghys\\\\miniconda3\\\\envs\\\\ml\\\\Lib\\\\site-packages\\\\prompt_toolkit\\\\eventloop\\\\utils.py\": 1704404570.643219, \"C:\\\\Users\\\\sghys\\\\miniconda3\\\\envs\\\\ml\\\\Lib\\\\site-packages\\\\prompt_toolkit\\\\eventloop\\\\async_generator.py\": 1704404570.643219, \"C:\\\\Users\\\\sghys\\\\miniconda3\\\\envs\\\\ml\\\\Lib\\\\site-packages\\\\prompt_toolkit\\\\eventloop\\\\inputhook.py\": 1704404570.643219, \"C:\\\\Users\\\\sghys\\\\miniconda3\\\\envs\\\\ml\\\\Lib\\\\site-packages\\\\prompt_toolkit\\\\eventloop\\\\__init__.py\": 1704404570.643219, \"C:\\\\Users\\\\sghys\\\\miniconda3\\\\envs\\\\ml\\\\Lib\\\\site-packages\\\\prompt_toolkit\\\\application\\\\run_in_terminal.py\": 1704404570.5925965, \"C:\\\\Users\\\\sghys\\\\miniconda3\\\\envs\\\\ml\\\\Lib\\\\site-packages\\\\prompt_toolkit\\\\selection.py\": 1704404570.5925965, \"C:\\\\Users\\\\sghys\\\\miniconda3\\\\envs\\\\ml\\\\Lib\\\\site-packages\\\\prompt_toolkit\\\\clipboard\\\\base.py\": 1704404570.6082337, \"C:\\\\Users\\\\sghys\\\\miniconda3\\\\envs\\\\ml\\\\Lib\\\\site-packages\\\\prompt_toolkit\\\\clipboard\\\\in_memory.py\": 1704404570.6082337, \"C:\\\\Users\\\\sghys\\\\miniconda3\\\\envs\\\\ml\\\\Lib\\\\site-packages\\\\prompt_toolkit\\\\clipboard\\\\__init__.py\": 1704404570.5925965, \"C:\\\\Users\\\\sghys\\\\miniconda3\\\\envs\\\\ml\\\\Lib\\\\site-packages\\\\prompt_toolkit\\\\cache.py\": 1704404570.5768578, \"C:\\\\Users\\\\sghys\\\\miniconda3\\\\envs\\\\ml\\\\Lib\\\\site-packages\\\\prompt_toolkit\\\\enums.py\": 1704404570.5768578, \"C:\\\\Users\\\\sghys\\\\miniconda3\\\\envs\\\\ml\\\\Lib\\\\site-packages\\\\prompt_toolkit\\\\filters\\\\base.py\": 1704404570.643219, \"C:\\\\Users\\\\sghys\\\\miniconda3\\\\envs\\\\ml\\\\Lib\\\\site-packages\\\\prompt_toolkit\\\\filters\\\\app.py\": 1704404570.643219, \"C:\\\\Users\\\\sghys\\\\miniconda3\\\\envs\\\\ml\\\\Lib\\\\site-packages\\\\prompt_toolkit\\\\filters\\\\cli.py\": 1704404570.643219, \"C:\\\\Users\\\\sghys\\\\miniconda3\\\\envs\\\\ml\\\\Lib\\\\site-packages\\\\prompt_toolkit\\\\filters\\\\utils.py\": 1704404570.643219, \"C:\\\\Users\\\\sghys\\\\miniconda3\\\\envs\\\\ml\\\\Lib\\\\site-packages\\\\prompt_toolkit\\\\filters\\\\__init__.py\": 1704404570.643219, \"C:\\\\Users\\\\sghys\\\\miniconda3\\\\envs\\\\ml\\\\Lib\\\\site-packages\\\\prompt_toolkit\\\\document.py\": 1704404570.5768578, \"C:\\\\Users\\\\sghys\\\\miniconda3\\\\envs\\\\ml\\\\Lib\\\\site-packages\\\\prompt_toolkit\\\\auto_suggest.py\": 1704404570.5768578, \"C:\\\\Users\\\\sghys\\\\miniconda3\\\\envs\\\\ml\\\\Lib\\\\site-packages\\\\prompt_toolkit\\\\keys.py\": 1704404570.5768578, \"C:\\\\Users\\\\sghys\\\\miniconda3\\\\envs\\\\ml\\\\Lib\\\\site-packages\\\\prompt_toolkit\\\\key_binding\\\\key_bindings.py\": 1704404570.658841, \"C:\\\\Users\\\\sghys\\\\miniconda3\\\\envs\\\\ml\\\\Lib\\\\site-packages\\\\wcwidth\\\\table_wide.py\": 1629357208.0, \"C:\\\\Users\\\\sghys\\\\miniconda3\\\\envs\\\\ml\\\\Lib\\\\site-packages\\\\wcwidth\\\\table_zero.py\": 1629357208.0, \"C:\\\\Users\\\\sghys\\\\miniconda3\\\\envs\\\\ml\\\\Lib\\\\site-packages\\\\wcwidth\\\\unicode_versions.py\": 1629357208.0, \"C:\\\\Users\\\\sghys\\\\miniconda3\\\\envs\\\\ml\\\\Lib\\\\site-packages\\\\wcwidth\\\\wcwidth.py\": 1629357208.0, \"C:\\\\Users\\\\sghys\\\\miniconda3\\\\envs\\\\ml\\\\Lib\\\\site-packages\\\\wcwidth\\\\__init__.py\": 1629357208.0, \"C:\\\\Users\\\\sghys\\\\miniconda3\\\\envs\\\\ml\\\\Lib\\\\site-packages\\\\prompt_toolkit\\\\utils.py\": 1704404570.5925965, \"C:\\\\Users\\\\sghys\\\\miniconda3\\\\envs\\\\ml\\\\Lib\\\\site-packages\\\\prompt_toolkit\\\\key_binding\\\\key_processor.py\": 1704404570.658841, \"C:\\\\Users\\\\sghys\\\\miniconda3\\\\envs\\\\ml\\\\Lib\\\\site-packages\\\\prompt_toolkit\\\\key_binding\\\\__init__.py\": 1704404570.658841, \"C:\\\\Users\\\\sghys\\\\miniconda3\\\\envs\\\\ml\\\\Lib\\\\site-packages\\\\prompt_toolkit\\\\key_binding\\\\vi_state.py\": 1704404570.658841, \"C:\\\\Users\\\\sghys\\\\miniconda3\\\\envs\\\\ml\\\\Lib\\\\site-packages\\\\prompt_toolkit\\\\cursor_shapes.py\": 1704404570.5768578, \"C:\\\\Users\\\\sghys\\\\miniconda3\\\\envs\\\\ml\\\\Lib\\\\site-packages\\\\prompt_toolkit\\\\data_structures.py\": 1704404570.5768578, \"C:\\\\Users\\\\sghys\\\\miniconda3\\\\envs\\\\ml\\\\Lib\\\\site-packages\\\\prompt_toolkit\\\\styles\\\\base.py\": 1704404570.7091787, \"C:\\\\Users\\\\sghys\\\\miniconda3\\\\envs\\\\ml\\\\Lib\\\\site-packages\\\\prompt_toolkit\\\\styles\\\\named_colors.py\": 1704404570.7248094, \"C:\\\\Users\\\\sghys\\\\miniconda3\\\\envs\\\\ml\\\\Lib\\\\site-packages\\\\prompt_toolkit\\\\styles\\\\style.py\": 1704404570.7260852, \"C:\\\\Users\\\\sghys\\\\miniconda3\\\\envs\\\\ml\\\\Lib\\\\site-packages\\\\prompt_toolkit\\\\styles\\\\defaults.py\": 1704404570.7091787, \"C:\\\\Users\\\\sghys\\\\miniconda3\\\\envs\\\\ml\\\\Lib\\\\site-packages\\\\prompt_toolkit\\\\styles\\\\pygments.py\": 1704404570.7255254, \"C:\\\\Users\\\\sghys\\\\miniconda3\\\\envs\\\\ml\\\\Lib\\\\colorsys.py\": 1717698404.0, \"C:\\\\Users\\\\sghys\\\\miniconda3\\\\envs\\\\ml\\\\Lib\\\\site-packages\\\\prompt_toolkit\\\\styles\\\\style_transformation.py\": 1704404570.7260852, \"C:\\\\Users\\\\sghys\\\\miniconda3\\\\envs\\\\ml\\\\Lib\\\\site-packages\\\\prompt_toolkit\\\\styles\\\\__init__.py\": 1704404570.7091787, \"C:\\\\Users\\\\sghys\\\\miniconda3\\\\envs\\\\ml\\\\Lib\\\\site-packages\\\\prompt_toolkit\\\\output\\\\color_depth.py\": 1704404570.69353, \"C:\\\\Users\\\\sghys\\\\miniconda3\\\\envs\\\\ml\\\\Lib\\\\site-packages\\\\prompt_toolkit\\\\output\\\\base.py\": 1704404570.69353, \"C:\\\\Users\\\\sghys\\\\miniconda3\\\\envs\\\\ml\\\\Lib\\\\site-packages\\\\prompt_toolkit\\\\output\\\\flush_stdout.py\": 1704404570.7091787, \"C:\\\\Users\\\\sghys\\\\miniconda3\\\\envs\\\\ml\\\\Lib\\\\site-packages\\\\prompt_toolkit\\\\output\\\\plain_text.py\": 1704404570.7091787, \"C:\\\\Users\\\\sghys\\\\miniconda3\\\\envs\\\\ml\\\\Lib\\\\site-packages\\\\prompt_toolkit\\\\output\\\\defaults.py\": 1704404570.69353, \"C:\\\\Users\\\\sghys\\\\miniconda3\\\\envs\\\\ml\\\\Lib\\\\site-packages\\\\prompt_toolkit\\\\output\\\\__init__.py\": 1704404570.69353, \"C:\\\\Users\\\\sghys\\\\miniconda3\\\\envs\\\\ml\\\\Lib\\\\site-packages\\\\prompt_toolkit\\\\output\\\\vt100.py\": 1704404570.7091787, \"C:\\\\Users\\\\sghys\\\\miniconda3\\\\envs\\\\ml\\\\Lib\\\\site-packages\\\\prompt_toolkit\\\\mouse_events.py\": 1704404570.5925965, \"C:\\\\Users\\\\sghys\\\\miniconda3\\\\envs\\\\ml\\\\Lib\\\\site-packages\\\\prompt_toolkit\\\\formatted_text\\\\base.py\": 1704404570.643219, \"C:\\\\Users\\\\sghys\\\\miniconda3\\\\envs\\\\ml\\\\Lib\\\\site-packages\\\\prompt_toolkit\\\\formatted_text\\\\ansi.py\": 1704404570.643219, \"C:\\\\Users\\\\sghys\\\\miniconda3\\\\envs\\\\ml\\\\Lib\\\\xml\\\\__init__.py\": 1717698404.0, \"C:\\\\Users\\\\sghys\\\\miniconda3\\\\envs\\\\ml\\\\Lib\\\\xml\\\\dom\\\\domreg.py\": 1717698404.0, \"C:\\\\Users\\\\sghys\\\\miniconda3\\\\envs\\\\ml\\\\Lib\\\\xml\\\\dom\\\\__init__.py\": 1717698404.0, \"C:\\\\Users\\\\sghys\\\\miniconda3\\\\envs\\\\ml\\\\Lib\\\\xml\\\\dom\\\\minicompat.py\": 1717698404.0, \"C:\\\\Users\\\\sghys\\\\miniconda3\\\\envs\\\\ml\\\\Lib\\\\xml\\\\dom\\\\NodeFilter.py\": 1717698404.0, \"C:\\\\Users\\\\sghys\\\\miniconda3\\\\envs\\\\ml\\\\Lib\\\\xml\\\\dom\\\\xmlbuilder.py\": 1717698404.0, \"C:\\\\Users\\\\sghys\\\\miniconda3\\\\envs\\\\ml\\\\Lib\\\\xml\\\\dom\\\\minidom.py\": 1717698404.0, \"C:\\\\Users\\\\sghys\\\\miniconda3\\\\envs\\\\ml\\\\Lib\\\\site-packages\\\\prompt_toolkit\\\\formatted_text\\\\html.py\": 1704404570.643219, \"C:\\\\Users\\\\sghys\\\\miniconda3\\\\envs\\\\ml\\\\Lib\\\\site-packages\\\\prompt_toolkit\\\\formatted_text\\\\pygments.py\": 1704404570.643219, \"C:\\\\Users\\\\sghys\\\\miniconda3\\\\envs\\\\ml\\\\Lib\\\\site-packages\\\\prompt_toolkit\\\\formatted_text\\\\utils.py\": 1704404570.643219, \"C:\\\\Users\\\\sghys\\\\miniconda3\\\\envs\\\\ml\\\\Lib\\\\site-packages\\\\prompt_toolkit\\\\formatted_text\\\\__init__.py\": 1704404570.643219, \"C:\\\\Users\\\\sghys\\\\miniconda3\\\\envs\\\\ml\\\\Lib\\\\site-packages\\\\prompt_toolkit\\\\completion\\\\base.py\": 1704404570.6082337, \"C:\\\\Users\\\\sghys\\\\miniconda3\\\\envs\\\\ml\\\\Lib\\\\site-packages\\\\prompt_toolkit\\\\completion\\\\deduplicate.py\": 1704404570.6082337, \"C:\\\\Users\\\\sghys\\\\miniconda3\\\\envs\\\\ml\\\\Lib\\\\site-packages\\\\prompt_toolkit\\\\completion\\\\filesystem.py\": 1704404570.6082337, \"C:\\\\Users\\\\sghys\\\\miniconda3\\\\envs\\\\ml\\\\Lib\\\\site-packages\\\\prompt_toolkit\\\\completion\\\\word_completer.py\": 1704404570.6258633, \"C:\\\\Users\\\\sghys\\\\miniconda3\\\\envs\\\\ml\\\\Lib\\\\site-packages\\\\prompt_toolkit\\\\completion\\\\fuzzy_completer.py\": 1704404570.624197, \"C:\\\\Users\\\\sghys\\\\miniconda3\\\\envs\\\\ml\\\\Lib\\\\site-packages\\\\prompt_toolkit\\\\completion\\\\nested.py\": 1704404570.6247604, \"C:\\\\Users\\\\sghys\\\\miniconda3\\\\envs\\\\ml\\\\Lib\\\\site-packages\\\\prompt_toolkit\\\\completion\\\\__init__.py\": 1704404570.6082337, \"C:\\\\Users\\\\sghys\\\\miniconda3\\\\envs\\\\ml\\\\Lib\\\\site-packages\\\\prompt_toolkit\\\\history.py\": 1704404570.5768578, \"C:\\\\Users\\\\sghys\\\\miniconda3\\\\envs\\\\ml\\\\Lib\\\\site-packages\\\\prompt_toolkit\\\\search.py\": 1704404570.5925965, \"C:\\\\Users\\\\sghys\\\\miniconda3\\\\envs\\\\ml\\\\Lib\\\\site-packages\\\\prompt_toolkit\\\\validation.py\": 1704404570.5925965, \"C:\\\\Users\\\\sghys\\\\miniconda3\\\\envs\\\\ml\\\\Lib\\\\site-packages\\\\prompt_toolkit\\\\buffer.py\": 1704404570.5768578, \"C:\\\\Users\\\\sghys\\\\miniconda3\\\\envs\\\\ml\\\\Lib\\\\site-packages\\\\prompt_toolkit\\\\input\\\\base.py\": 1704404570.643219, \"C:\\\\Users\\\\sghys\\\\miniconda3\\\\envs\\\\ml\\\\Lib\\\\site-packages\\\\prompt_toolkit\\\\input\\\\defaults.py\": 1704404570.643219, \"C:\\\\Users\\\\sghys\\\\miniconda3\\\\envs\\\\ml\\\\Lib\\\\site-packages\\\\prompt_toolkit\\\\input\\\\__init__.py\": 1704404570.643219, \"C:\\\\Users\\\\sghys\\\\miniconda3\\\\envs\\\\ml\\\\Lib\\\\site-packages\\\\prompt_toolkit\\\\input\\\\typeahead.py\": 1704404570.658841, \"C:\\\\Users\\\\sghys\\\\miniconda3\\\\envs\\\\ml\\\\Lib\\\\site-packages\\\\prompt_toolkit\\\\key_binding\\\\bindings\\\\__init__.py\": 1704404570.658841, \"C:\\\\Users\\\\sghys\\\\miniconda3\\\\envs\\\\ml\\\\Lib\\\\site-packages\\\\prompt_toolkit\\\\key_binding\\\\bindings\\\\scroll.py\": 1704404570.677812, \"C:\\\\Users\\\\sghys\\\\miniconda3\\\\envs\\\\ml\\\\Lib\\\\site-packages\\\\prompt_toolkit\\\\key_binding\\\\bindings\\\\page_navigation.py\": 1704404570.677812, \"C:\\\\Users\\\\sghys\\\\miniconda3\\\\envs\\\\ml\\\\Lib\\\\site-packages\\\\prompt_toolkit\\\\lexers\\\\base.py\": 1704404570.69353, \"C:\\\\Users\\\\sghys\\\\miniconda3\\\\envs\\\\ml\\\\Lib\\\\site-packages\\\\prompt_toolkit\\\\lexers\\\\pygments.py\": 1704404570.69353, \"C:\\\\Users\\\\sghys\\\\miniconda3\\\\envs\\\\ml\\\\Lib\\\\site-packages\\\\prompt_toolkit\\\\lexers\\\\__init__.py\": 1704404570.69353, \"C:\\\\Users\\\\sghys\\\\miniconda3\\\\envs\\\\ml\\\\Lib\\\\site-packages\\\\prompt_toolkit\\\\layout\\\\utils.py\": 1704404570.69353, \"C:\\\\Users\\\\sghys\\\\miniconda3\\\\envs\\\\ml\\\\Lib\\\\site-packages\\\\prompt_toolkit\\\\layout\\\\processors.py\": 1704404570.69353, \"C:\\\\Users\\\\sghys\\\\miniconda3\\\\envs\\\\ml\\\\Lib\\\\site-packages\\\\prompt_toolkit\\\\layout\\\\controls.py\": 1704404570.677812, \"C:\\\\Users\\\\sghys\\\\miniconda3\\\\envs\\\\ml\\\\Lib\\\\site-packages\\\\prompt_toolkit\\\\layout\\\\dimension.py\": 1704404570.677812, \"C:\\\\Users\\\\sghys\\\\miniconda3\\\\envs\\\\ml\\\\Lib\\\\site-packages\\\\prompt_toolkit\\\\layout\\\\margins.py\": 1704404570.69353, \"C:\\\\Users\\\\sghys\\\\miniconda3\\\\envs\\\\ml\\\\Lib\\\\site-packages\\\\prompt_toolkit\\\\layout\\\\mouse_handlers.py\": 1704404570.69353, \"C:\\\\Users\\\\sghys\\\\miniconda3\\\\envs\\\\ml\\\\Lib\\\\site-packages\\\\prompt_toolkit\\\\layout\\\\screen.py\": 1704404570.69353, \"C:\\\\Users\\\\sghys\\\\miniconda3\\\\envs\\\\ml\\\\Lib\\\\site-packages\\\\prompt_toolkit\\\\layout\\\\containers.py\": 1704404570.677812, \"C:\\\\Users\\\\sghys\\\\miniconda3\\\\envs\\\\ml\\\\Lib\\\\site-packages\\\\prompt_toolkit\\\\layout\\\\layout.py\": 1704404570.677812, \"C:\\\\Users\\\\sghys\\\\miniconda3\\\\envs\\\\ml\\\\Lib\\\\site-packages\\\\prompt_toolkit\\\\layout\\\\menus.py\": 1704404570.69353, \"C:\\\\Users\\\\sghys\\\\miniconda3\\\\envs\\\\ml\\\\Lib\\\\site-packages\\\\prompt_toolkit\\\\layout\\\\scrollable_pane.py\": 1704404570.69353, \"C:\\\\Users\\\\sghys\\\\miniconda3\\\\envs\\\\ml\\\\Lib\\\\site-packages\\\\prompt_toolkit\\\\layout\\\\__init__.py\": 1704404570.677812, \"C:\\\\Users\\\\sghys\\\\miniconda3\\\\envs\\\\ml\\\\Lib\\\\site-packages\\\\prompt_toolkit\\\\key_binding\\\\bindings\\\\completion.py\": 1704404570.674756, \"C:\\\\Users\\\\sghys\\\\miniconda3\\\\envs\\\\ml\\\\Lib\\\\site-packages\\\\prompt_toolkit\\\\key_binding\\\\bindings\\\\named_commands.py\": 1704404570.677812, \"C:\\\\Users\\\\sghys\\\\miniconda3\\\\envs\\\\ml\\\\Lib\\\\site-packages\\\\prompt_toolkit\\\\key_binding\\\\bindings\\\\basic.py\": 1704404570.658841, \"C:\\\\Users\\\\sghys\\\\miniconda3\\\\envs\\\\ml\\\\Lib\\\\site-packages\\\\prompt_toolkit\\\\key_binding\\\\bindings\\\\cpr.py\": 1704404570.674756, \"C:\\\\Users\\\\sghys\\\\miniconda3\\\\envs\\\\ml\\\\Lib\\\\site-packages\\\\prompt_toolkit\\\\key_binding\\\\bindings\\\\emacs.py\": 1704404570.677812, \"C:\\\\Users\\\\sghys\\\\miniconda3\\\\envs\\\\ml\\\\Lib\\\\site-packages\\\\prompt_toolkit\\\\key_binding\\\\bindings\\\\mouse.py\": 1704404570.677812, \"C:\\\\Users\\\\sghys\\\\miniconda3\\\\envs\\\\ml\\\\Lib\\\\site-packages\\\\prompt_toolkit\\\\input\\\\ansi_escape_sequences.py\": 1704404570.643219, \"C:\\\\Users\\\\sghys\\\\miniconda3\\\\envs\\\\ml\\\\Lib\\\\site-packages\\\\prompt_toolkit\\\\input\\\\vt100_parser.py\": 1704404570.658841, \"C:\\\\Users\\\\sghys\\\\miniconda3\\\\envs\\\\ml\\\\Lib\\\\site-packages\\\\prompt_toolkit\\\\key_binding\\\\digraphs.py\": 1704404570.658841, \"C:\\\\Users\\\\sghys\\\\miniconda3\\\\envs\\\\ml\\\\Lib\\\\site-packages\\\\prompt_toolkit\\\\key_binding\\\\bindings\\\\vi.py\": 1704404570.677812, \"C:\\\\Users\\\\sghys\\\\miniconda3\\\\envs\\\\ml\\\\Lib\\\\site-packages\\\\prompt_toolkit\\\\key_binding\\\\defaults.py\": 1704404570.658841, \"C:\\\\Users\\\\sghys\\\\miniconda3\\\\envs\\\\ml\\\\Lib\\\\site-packages\\\\prompt_toolkit\\\\key_binding\\\\emacs_state.py\": 1704404570.658841, \"C:\\\\Users\\\\sghys\\\\miniconda3\\\\envs\\\\ml\\\\Lib\\\\site-packages\\\\prompt_toolkit\\\\layout\\\\dummy.py\": 1704404570.677812, \"C:\\\\Users\\\\sghys\\\\miniconda3\\\\envs\\\\ml\\\\Lib\\\\site-packages\\\\prompt_toolkit\\\\renderer.py\": 1704404570.5925965, \"C:\\\\Users\\\\sghys\\\\miniconda3\\\\envs\\\\ml\\\\Lib\\\\site-packages\\\\prompt_toolkit\\\\application\\\\application.py\": 1704404570.5925965, \"C:\\\\Users\\\\sghys\\\\miniconda3\\\\envs\\\\ml\\\\Lib\\\\site-packages\\\\prompt_toolkit\\\\application\\\\dummy.py\": 1704404570.5925965, \"C:\\\\Users\\\\sghys\\\\miniconda3\\\\envs\\\\ml\\\\Lib\\\\site-packages\\\\prompt_toolkit\\\\application\\\\__init__.py\": 1704404570.5925965, \"C:\\\\Users\\\\sghys\\\\miniconda3\\\\envs\\\\ml\\\\Lib\\\\site-packages\\\\prompt_toolkit\\\\key_binding\\\\bindings\\\\focus.py\": 1704404570.677812, \"C:\\\\Users\\\\sghys\\\\miniconda3\\\\envs\\\\ml\\\\Lib\\\\site-packages\\\\prompt_toolkit\\\\widgets\\\\toolbars.py\": 1704404570.7260852, \"C:\\\\Users\\\\sghys\\\\miniconda3\\\\envs\\\\ml\\\\Lib\\\\site-packages\\\\prompt_toolkit\\\\widgets\\\\base.py\": 1704404570.7260852, \"C:\\\\Users\\\\sghys\\\\miniconda3\\\\envs\\\\ml\\\\Lib\\\\site-packages\\\\prompt_toolkit\\\\widgets\\\\dialogs.py\": 1704404570.7260852, \"C:\\\\Users\\\\sghys\\\\miniconda3\\\\envs\\\\ml\\\\Lib\\\\site-packages\\\\prompt_toolkit\\\\widgets\\\\menus.py\": 1704404570.7260852, \"C:\\\\Users\\\\sghys\\\\miniconda3\\\\envs\\\\ml\\\\Lib\\\\site-packages\\\\prompt_toolkit\\\\widgets\\\\__init__.py\": 1704404570.7260852, \"C:\\\\Users\\\\sghys\\\\miniconda3\\\\envs\\\\ml\\\\Lib\\\\site-packages\\\\prompt_toolkit\\\\shortcuts\\\\dialogs.py\": 1704404570.7091787, \"C:\\\\Users\\\\sghys\\\\miniconda3\\\\envs\\\\ml\\\\Lib\\\\site-packages\\\\prompt_toolkit\\\\shortcuts\\\\progress_bar\\\\formatters.py\": 1704404570.7091787, \"C:\\\\Users\\\\sghys\\\\miniconda3\\\\envs\\\\ml\\\\Lib\\\\site-packages\\\\prompt_toolkit\\\\shortcuts\\\\progress_bar\\\\base.py\": 1704404570.7091787, \"C:\\\\Users\\\\sghys\\\\miniconda3\\\\envs\\\\ml\\\\Lib\\\\site-packages\\\\prompt_toolkit\\\\shortcuts\\\\progress_bar\\\\__init__.py\": 1704404570.7091787, \"C:\\\\Users\\\\sghys\\\\miniconda3\\\\envs\\\\ml\\\\Lib\\\\site-packages\\\\prompt_toolkit\\\\key_binding\\\\bindings\\\\auto_suggest.py\": 1704404570.658841, \"C:\\\\Users\\\\sghys\\\\miniconda3\\\\envs\\\\ml\\\\Lib\\\\site-packages\\\\prompt_toolkit\\\\key_binding\\\\bindings\\\\open_in_editor.py\": 1704404570.677812, \"C:\\\\Users\\\\sghys\\\\miniconda3\\\\envs\\\\ml\\\\Lib\\\\site-packages\\\\prompt_toolkit\\\\shortcuts\\\\prompt.py\": 1704404570.7091787, \"C:\\\\Users\\\\sghys\\\\miniconda3\\\\envs\\\\ml\\\\Lib\\\\site-packages\\\\prompt_toolkit\\\\shortcuts\\\\utils.py\": 1704404570.7091787, \"C:\\\\Users\\\\sghys\\\\miniconda3\\\\envs\\\\ml\\\\Lib\\\\site-packages\\\\prompt_toolkit\\\\shortcuts\\\\__init__.py\": 1704404570.7091787, \"C:\\\\Users\\\\sghys\\\\miniconda3\\\\envs\\\\ml\\\\Lib\\\\site-packages\\\\prompt_toolkit\\\\__init__.py\": 1704404570.5768578, \"C:\\\\Users\\\\sghys\\\\miniconda3\\\\envs\\\\ml\\\\Lib\\\\site-packages\\\\prompt_toolkit\\\\patch_stdout.py\": 1704404570.5925965, \"C:\\\\Users\\\\sghys\\\\miniconda3\\\\envs\\\\ml\\\\DLLs\\\\unicodedata.pyd\": 1718723602.398722, \"C:\\\\Users\\\\sghys\\\\miniconda3\\\\envs\\\\ml\\\\Lib\\\\site-packages\\\\IPython\\\\core\\\\guarded_eval.py\": 1726064883.133964, \"C:\\\\Users\\\\sghys\\\\miniconda3\\\\envs\\\\ml\\\\Lib\\\\site-packages\\\\IPython\\\\core\\\\latex_symbols.py\": 1726064883.133964, \"C:\\\\Users\\\\sghys\\\\miniconda3\\\\envs\\\\ml\\\\Lib\\\\site-packages\\\\IPython\\\\utils\\\\generics.py\": 1726064883.3333724, \"C:\\\\Users\\\\sghys\\\\miniconda3\\\\envs\\\\ml\\\\Lib\\\\site-packages\\\\parso\\\\utils.py\": 1641458668.0, \"C:\\\\Users\\\\sghys\\\\miniconda3\\\\envs\\\\ml\\\\Lib\\\\site-packages\\\\parso\\\\tree.py\": 1641458668.0, \"C:\\\\Users\\\\sghys\\\\miniconda3\\\\envs\\\\ml\\\\Lib\\\\site-packages\\\\parso\\\\python\\\\__init__.py\": 1641458668.0, \"C:\\\\Users\\\\sghys\\\\miniconda3\\\\envs\\\\ml\\\\Lib\\\\site-packages\\\\parso\\\\python\\\\token.py\": 1641458668.0, \"C:\\\\Users\\\\sghys\\\\miniconda3\\\\envs\\\\ml\\\\Lib\\\\site-packages\\\\parso\\\\python\\\\tokenize.py\": 1641458668.0, \"C:\\\\Users\\\\sghys\\\\miniconda3\\\\envs\\\\ml\\\\Lib\\\\site-packages\\\\parso\\\\pgen2\\\\grammar_parser.py\": 1641458668.0, \"C:\\\\Users\\\\sghys\\\\miniconda3\\\\envs\\\\ml\\\\Lib\\\\site-packages\\\\parso\\\\pgen2\\\\generator.py\": 1641458668.0, \"C:\\\\Users\\\\sghys\\\\miniconda3\\\\envs\\\\ml\\\\Lib\\\\site-packages\\\\parso\\\\pgen2\\\\__init__.py\": 1641458668.0, \"C:\\\\Users\\\\sghys\\\\miniconda3\\\\envs\\\\ml\\\\Lib\\\\site-packages\\\\parso\\\\parser.py\": 1641458668.0, \"C:\\\\Users\\\\sghys\\\\miniconda3\\\\envs\\\\ml\\\\Lib\\\\site-packages\\\\parso\\\\_compatibility.py\": 1641458668.0, \"C:\\\\Users\\\\sghys\\\\miniconda3\\\\envs\\\\ml\\\\Lib\\\\difflib.py\": 1717698404.0, \"C:\\\\Users\\\\sghys\\\\miniconda3\\\\envs\\\\ml\\\\Lib\\\\site-packages\\\\parso\\\\python\\\\prefix.py\": 1641458668.0, \"C:\\\\Users\\\\sghys\\\\miniconda3\\\\envs\\\\ml\\\\Lib\\\\site-packages\\\\parso\\\\python\\\\tree.py\": 1641458668.0, \"C:\\\\Users\\\\sghys\\\\miniconda3\\\\envs\\\\ml\\\\Lib\\\\site-packages\\\\parso\\\\python\\\\parser.py\": 1641458668.0, \"C:\\\\Users\\\\sghys\\\\miniconda3\\\\envs\\\\ml\\\\Lib\\\\site-packages\\\\parso\\\\python\\\\diff.py\": 1641458668.0, \"C:\\\\Users\\\\sghys\\\\miniconda3\\\\envs\\\\ml\\\\Lib\\\\site-packages\\\\parso\\\\cache.py\": 1641458668.0, \"C:\\\\Users\\\\sghys\\\\miniconda3\\\\envs\\\\ml\\\\Lib\\\\site-packages\\\\parso\\\\normalizer.py\": 1641458668.0, \"C:\\\\Users\\\\sghys\\\\miniconda3\\\\envs\\\\ml\\\\Lib\\\\site-packages\\\\parso\\\\python\\\\errors.py\": 1641458668.0, \"C:\\\\Users\\\\sghys\\\\miniconda3\\\\envs\\\\ml\\\\Lib\\\\site-packages\\\\parso\\\\python\\\\pep8.py\": 1641458668.0, \"C:\\\\Users\\\\sghys\\\\miniconda3\\\\envs\\\\ml\\\\Lib\\\\site-packages\\\\parso\\\\file_io.py\": 1641458668.0, \"C:\\\\Users\\\\sghys\\\\miniconda3\\\\envs\\\\ml\\\\Lib\\\\site-packages\\\\parso\\\\grammar.py\": 1641458668.0, \"C:\\\\Users\\\\sghys\\\\miniconda3\\\\envs\\\\ml\\\\Lib\\\\site-packages\\\\parso\\\\__init__.py\": 1641458668.0, \"C:\\\\Users\\\\sghys\\\\miniconda3\\\\envs\\\\ml\\\\Lib\\\\site-packages\\\\jedi\\\\parser_utils.py\": 1721059466.6471822, \"C:\\\\Users\\\\sghys\\\\miniconda3\\\\envs\\\\ml\\\\Lib\\\\site-packages\\\\jedi\\\\debug.py\": 1721059466.6471822, \"C:\\\\Users\\\\sghys\\\\miniconda3\\\\envs\\\\ml\\\\Lib\\\\site-packages\\\\jedi\\\\settings.py\": 1721059466.6471822, \"C:\\\\Users\\\\sghys\\\\miniconda3\\\\envs\\\\ml\\\\Lib\\\\site-packages\\\\jedi\\\\cache.py\": 1721059466.6471822, \"C:\\\\Users\\\\sghys\\\\miniconda3\\\\envs\\\\ml\\\\Lib\\\\site-packages\\\\jedi\\\\file_io.py\": 1721059466.6471822, \"C:\\\\Users\\\\sghys\\\\miniconda3\\\\envs\\\\ml\\\\Lib\\\\site-packages\\\\jedi\\\\inference\\\\cache.py\": 1721059466.681614, \"C:\\\\Users\\\\sghys\\\\miniconda3\\\\envs\\\\ml\\\\Lib\\\\site-packages\\\\jedi\\\\inference\\\\helpers.py\": 1721059466.6886563, \"C:\\\\Users\\\\sghys\\\\miniconda3\\\\envs\\\\ml\\\\Lib\\\\site-packages\\\\jedi\\\\inference\\\\utils.py\": 1721059466.6923902, \"C:\\\\Users\\\\sghys\\\\miniconda3\\\\envs\\\\ml\\\\Lib\\\\site-packages\\\\jedi\\\\inference\\\\base_value.py\": 1721059466.6809776, \"C:\\\\Users\\\\sghys\\\\miniconda3\\\\envs\\\\ml\\\\Lib\\\\site-packages\\\\jedi\\\\inference\\\\sys_path.py\": 1721059466.6923902, \"C:\\\\Users\\\\sghys\\\\miniconda3\\\\envs\\\\ml\\\\Lib\\\\site-packages\\\\jedi\\\\inference\\\\recursion.py\": 1721059466.6923902, \"C:\\\\Users\\\\sghys\\\\miniconda3\\\\envs\\\\ml\\\\Lib\\\\site-packages\\\\jedi\\\\inference\\\\flow_analysis.py\": 1721059466.687361, \"C:\\\\Users\\\\sghys\\\\miniconda3\\\\envs\\\\ml\\\\Lib\\\\site-packages\\\\jedi\\\\common.py\": 1721059466.6471822, \"C:\\\\Users\\\\sghys\\\\miniconda3\\\\envs\\\\ml\\\\Lib\\\\site-packages\\\\jedi\\\\inference\\\\lazy_value.py\": 1721059466.6899178, \"C:\\\\Users\\\\sghys\\\\miniconda3\\\\envs\\\\ml\\\\Lib\\\\site-packages\\\\jedi\\\\inference\\\\docstrings.py\": 1721059466.684091, \"C:\\\\Users\\\\sghys\\\\miniconda3\\\\envs\\\\ml\\\\Lib\\\\site-packages\\\\jedi\\\\plugins\\\\__init__.py\": 1721059466.725837, \"C:\\\\Users\\\\sghys\\\\miniconda3\\\\envs\\\\ml\\\\Lib\\\\site-packages\\\\jedi\\\\inference\\\\names.py\": 1721059466.6912198, \"C:\\\\Users\\\\sghys\\\\miniconda3\\\\envs\\\\ml\\\\Lib\\\\site-packages\\\\jedi\\\\inference\\\\filters.py\": 1721059466.6860478, \"C:\\\\Users\\\\sghys\\\\miniconda3\\\\envs\\\\ml\\\\Lib\\\\site-packages\\\\jedi\\\\inference\\\\compiled\\\\getattr_static.py\": 1721059466.6923902, \"C:\\\\Users\\\\sghys\\\\miniconda3\\\\envs\\\\ml\\\\Lib\\\\site-packages\\\\jedi\\\\inference\\\\compiled\\\\access.py\": 1721059466.6923902, \"C:\\\\Users\\\\sghys\\\\miniconda3\\\\envs\\\\ml\\\\Lib\\\\site-packages\\\\jedi\\\\inference\\\\signature.py\": 1721059466.6923902, \"C:\\\\Users\\\\sghys\\\\miniconda3\\\\envs\\\\ml\\\\Lib\\\\site-packages\\\\jedi\\\\inference\\\\context.py\": 1721059466.6828341, \"C:\\\\Users\\\\sghys\\\\miniconda3\\\\envs\\\\ml\\\\Lib\\\\site-packages\\\\jedi\\\\inference\\\\compiled\\\\value.py\": 1721059466.6923902, \"C:\\\\Users\\\\sghys\\\\miniconda3\\\\envs\\\\ml\\\\Lib\\\\site-packages\\\\jedi\\\\inference\\\\compiled\\\\__init__.py\": 1721059466.6923902, \"C:\\\\Users\\\\sghys\\\\miniconda3\\\\envs\\\\ml\\\\Lib\\\\site-packages\\\\jedi\\\\inference\\\\analysis.py\": 1721059466.662754, \"C:\\\\Users\\\\sghys\\\\miniconda3\\\\envs\\\\ml\\\\Lib\\\\site-packages\\\\jedi\\\\inference\\\\gradual\\\\__init__.py\": 1721059466.7094715, \"C:\\\\Users\\\\sghys\\\\miniconda3\\\\envs\\\\ml\\\\Lib\\\\site-packages\\\\jedi\\\\inference\\\\value\\\\module.py\": 1721059466.725837, \"C:\\\\Users\\\\sghys\\\\miniconda3\\\\envs\\\\ml\\\\Lib\\\\site-packages\\\\jedi\\\\inference\\\\value\\\\dynamic_arrays.py\": 1721059466.7094715, \"C:\\\\Users\\\\sghys\\\\miniconda3\\\\envs\\\\ml\\\\Lib\\\\site-packages\\\\jedi\\\\inference\\\\value\\\\iterable.py\": 1721059466.725837, \"C:\\\\Users\\\\sghys\\\\miniconda3\\\\envs\\\\ml\\\\Lib\\\\site-packages\\\\jedi\\\\inference\\\\arguments.py\": 1721059466.6783931, \"C:\\\\Users\\\\sghys\\\\miniconda3\\\\envs\\\\ml\\\\Lib\\\\site-packages\\\\jedi\\\\inference\\\\parser_cache.py\": 1721059466.6923902, \"C:\\\\Users\\\\sghys\\\\miniconda3\\\\envs\\\\ml\\\\Lib\\\\site-packages\\\\jedi\\\\inference\\\\gradual\\\\generics.py\": 1721059466.7094715, \"C:\\\\Users\\\\sghys\\\\miniconda3\\\\envs\\\\ml\\\\Lib\\\\site-packages\\\\jedi\\\\inference\\\\value\\\\function.py\": 1721059466.7094715, \"C:\\\\Users\\\\sghys\\\\miniconda3\\\\envs\\\\ml\\\\Lib\\\\site-packages\\\\jedi\\\\inference\\\\value\\\\klass.py\": 1721059466.725837, \"C:\\\\Users\\\\sghys\\\\miniconda3\\\\envs\\\\ml\\\\Lib\\\\site-packages\\\\jedi\\\\inference\\\\value\\\\instance.py\": 1721059466.725837, \"C:\\\\Users\\\\sghys\\\\miniconda3\\\\envs\\\\ml\\\\Lib\\\\site-packages\\\\jedi\\\\inference\\\\value\\\\__init__.py\": 1721059466.7094715, \"C:\\\\Users\\\\sghys\\\\miniconda3\\\\envs\\\\ml\\\\Lib\\\\site-packages\\\\jedi\\\\inference\\\\gradual\\\\base.py\": 1721059466.7094715, \"C:\\\\Users\\\\sghys\\\\miniconda3\\\\envs\\\\ml\\\\Lib\\\\site-packages\\\\jedi\\\\inference\\\\gradual\\\\type_var.py\": 1721059466.7094715, \"C:\\\\Users\\\\sghys\\\\miniconda3\\\\envs\\\\ml\\\\Lib\\\\site-packages\\\\jedi\\\\inference\\\\gradual\\\\typing.py\": 1721059466.7094715, \"C:\\\\Users\\\\sghys\\\\miniconda3\\\\envs\\\\ml\\\\Lib\\\\site-packages\\\\jedi\\\\inference\\\\gradual\\\\stub_value.py\": 1721059466.7094715, \"C:\\\\Users\\\\sghys\\\\miniconda3\\\\envs\\\\ml\\\\Lib\\\\site-packages\\\\jedi\\\\inference\\\\gradual\\\\typeshed.py\": 1721059466.7094715, \"C:\\\\Users\\\\sghys\\\\miniconda3\\\\envs\\\\ml\\\\Lib\\\\site-packages\\\\jedi\\\\_compatibility.py\": 1721059466.6471822, \"C:\\\\Users\\\\sghys\\\\miniconda3\\\\envs\\\\ml\\\\Lib\\\\site-packages\\\\jedi\\\\inference\\\\compiled\\\\subprocess\\\\functions.py\": 1721059466.7094715, \"C:\\\\Users\\\\sghys\\\\miniconda3\\\\envs\\\\ml\\\\Lib\\\\site-packages\\\\jedi\\\\api\\\\exceptions.py\": 1721059466.662754, \"C:\\\\Users\\\\sghys\\\\miniconda3\\\\envs\\\\ml\\\\Lib\\\\site-packages\\\\jedi\\\\inference\\\\compiled\\\\subprocess\\\\__init__.py\": 1721059466.7081194, \"C:\\\\Users\\\\sghys\\\\miniconda3\\\\envs\\\\ml\\\\Lib\\\\site-packages\\\\jedi\\\\inference\\\\imports.py\": 1721059466.6892962, \"C:\\\\Users\\\\sghys\\\\miniconda3\\\\envs\\\\ml\\\\Lib\\\\site-packages\\\\jedi\\\\inference\\\\param.py\": 1721059466.6923902, \"C:\\\\Users\\\\sghys\\\\miniconda3\\\\envs\\\\ml\\\\Lib\\\\site-packages\\\\jedi\\\\inference\\\\gradual\\\\annotation.py\": 1721059466.7094715, \"C:\\\\Users\\\\sghys\\\\miniconda3\\\\envs\\\\ml\\\\Lib\\\\site-packages\\\\jedi\\\\inference\\\\value\\\\decorator.py\": 1721059466.7094715, \"C:\\\\Users\\\\sghys\\\\miniconda3\\\\envs\\\\ml\\\\Lib\\\\site-packages\\\\jedi\\\\inference\\\\syntax_tree.py\": 1721059466.6923902, \"C:\\\\Users\\\\sghys\\\\miniconda3\\\\envs\\\\ml\\\\Lib\\\\site-packages\\\\jedi\\\\inference\\\\__init__.py\": 1721059466.662754, \"C:\\\\Users\\\\sghys\\\\miniconda3\\\\envs\\\\ml\\\\Lib\\\\site-packages\\\\jedi\\\\inference\\\\gradual\\\\conversion.py\": 1721059466.7094715, \"C:\\\\Users\\\\sghys\\\\miniconda3\\\\envs\\\\ml\\\\Lib\\\\site-packages\\\\jedi\\\\inference\\\\compiled\\\\mixed.py\": 1721059466.6923902, \"C:\\\\Users\\\\sghys\\\\miniconda3\\\\envs\\\\ml\\\\Lib\\\\pydoc_data\\\\__init__.py\": 1717698404.0, \"C:\\\\Users\\\\sghys\\\\miniconda3\\\\envs\\\\ml\\\\Lib\\\\pydoc_data\\\\topics.py\": 1717698404.0, \"C:\\\\Users\\\\sghys\\\\miniconda3\\\\envs\\\\ml\\\\Lib\\\\site-packages\\\\jedi\\\\api\\\\keywords.py\": 1721059466.662754, \"C:\\\\Users\\\\sghys\\\\miniconda3\\\\envs\\\\ml\\\\Lib\\\\site-packages\\\\jedi\\\\api\\\\completion_cache.py\": 1721059466.6471822, \"C:\\\\Users\\\\sghys\\\\miniconda3\\\\envs\\\\ml\\\\Lib\\\\site-packages\\\\jedi\\\\api\\\\helpers.py\": 1721059466.662754, \"C:\\\\Users\\\\sghys\\\\miniconda3\\\\envs\\\\ml\\\\Lib\\\\site-packages\\\\jedi\\\\api\\\\classes.py\": 1721059466.6471822, \"C:\\\\Users\\\\sghys\\\\miniconda3\\\\envs\\\\ml\\\\Lib\\\\site-packages\\\\jedi\\\\api\\\\interpreter.py\": 1721059466.662754, \"C:\\\\Users\\\\sghys\\\\miniconda3\\\\envs\\\\ml\\\\Lib\\\\site-packages\\\\jedi\\\\api\\\\strings.py\": 1721059466.662754, \"C:\\\\Users\\\\sghys\\\\miniconda3\\\\envs\\\\ml\\\\Lib\\\\site-packages\\\\jedi\\\\api\\\\file_name.py\": 1721059466.662754, \"C:\\\\Users\\\\sghys\\\\miniconda3\\\\envs\\\\ml\\\\Lib\\\\site-packages\\\\jedi\\\\inference\\\\docstring_utils.py\": 1721059466.6834705, \"C:\\\\Users\\\\sghys\\\\miniconda3\\\\envs\\\\ml\\\\Lib\\\\site-packages\\\\jedi\\\\api\\\\completion.py\": 1721059466.6471822, \"C:\\\\Users\\\\sghys\\\\miniconda3\\\\envs\\\\ml\\\\Lib\\\\filecmp.py\": 1717698404.0, \"C:\\\\Users\\\\sghys\\\\miniconda3\\\\envs\\\\ml\\\\Lib\\\\site-packages\\\\jedi\\\\api\\\\environment.py\": 1721059466.662754, \"C:\\\\Users\\\\sghys\\\\miniconda3\\\\envs\\\\ml\\\\Lib\\\\site-packages\\\\jedi\\\\inference\\\\references.py\": 1721059466.6923902, \"C:\\\\Users\\\\sghys\\\\miniconda3\\\\envs\\\\ml\\\\Lib\\\\site-packages\\\\jedi\\\\api\\\\project.py\": 1721059466.662754, \"C:\\\\Users\\\\sghys\\\\miniconda3\\\\envs\\\\ml\\\\Lib\\\\site-packages\\\\jedi\\\\api\\\\errors.py\": 1721059466.662754, \"C:\\\\Users\\\\sghys\\\\miniconda3\\\\envs\\\\ml\\\\Lib\\\\site-packages\\\\jedi\\\\inference\\\\value\\\\namespace.py\": 1721059466.725837, \"C:\\\\Users\\\\sghys\\\\miniconda3\\\\envs\\\\ml\\\\Lib\\\\site-packages\\\\jedi\\\\api\\\\refactoring\\\\__init__.py\": 1721059466.662754, \"C:\\\\Users\\\\sghys\\\\miniconda3\\\\envs\\\\ml\\\\Lib\\\\site-packages\\\\jedi\\\\api\\\\refactoring\\\\extract.py\": 1721059466.662754, \"C:\\\\Users\\\\sghys\\\\miniconda3\\\\envs\\\\ml\\\\Lib\\\\site-packages\\\\jedi\\\\inference\\\\gradual\\\\utils.py\": 1721059466.7094715, \"C:\\\\Users\\\\sghys\\\\miniconda3\\\\envs\\\\ml\\\\Lib\\\\site-packages\\\\jedi\\\\api\\\\__init__.py\": 1721059466.6471822, \"C:\\\\Users\\\\sghys\\\\miniconda3\\\\envs\\\\ml\\\\Lib\\\\site-packages\\\\jedi\\\\plugins\\\\stdlib.py\": 1721059466.725837, \"C:\\\\Users\\\\sghys\\\\miniconda3\\\\envs\\\\ml\\\\Lib\\\\site-packages\\\\jedi\\\\plugins\\\\flask.py\": 1721059466.725837, \"C:\\\\Users\\\\sghys\\\\miniconda3\\\\envs\\\\ml\\\\Lib\\\\site-packages\\\\jedi\\\\plugins\\\\pytest.py\": 1721059466.725837, \"C:\\\\Users\\\\sghys\\\\miniconda3\\\\envs\\\\ml\\\\Lib\\\\site-packages\\\\jedi\\\\plugins\\\\django.py\": 1721059466.725837, \"C:\\\\Users\\\\sghys\\\\miniconda3\\\\envs\\\\ml\\\\Lib\\\\site-packages\\\\jedi\\\\plugins\\\\registry.py\": 1721059466.725837, \"C:\\\\Users\\\\sghys\\\\miniconda3\\\\envs\\\\ml\\\\Lib\\\\site-packages\\\\jedi\\\\__init__.py\": 1721059466.6471822, \"C:\\\\Users\\\\sghys\\\\miniconda3\\\\envs\\\\ml\\\\Lib\\\\site-packages\\\\IPython\\\\core\\\\completer.py\": 1726064883.1139994, \"C:\\\\Users\\\\sghys\\\\miniconda3\\\\envs\\\\ml\\\\Lib\\\\site-packages\\\\IPython\\\\terminal\\\\ptutils.py\": 1726064883.264149, \"C:\\\\Users\\\\sghys\\\\miniconda3\\\\envs\\\\ml\\\\Lib\\\\site-packages\\\\IPython\\\\terminal\\\\shortcuts\\\\auto_match.py\": 1726064883.2798674, \"C:\\\\Users\\\\sghys\\\\miniconda3\\\\envs\\\\ml\\\\Lib\\\\site-packages\\\\IPython\\\\terminal\\\\shortcuts\\\\filters.py\": 1726064883.2798674, \"C:\\\\Users\\\\sghys\\\\miniconda3\\\\envs\\\\ml\\\\Lib\\\\site-packages\\\\IPython\\\\terminal\\\\shortcuts\\\\auto_suggest.py\": 1726064883.2798674, \"C:\\\\Users\\\\sghys\\\\miniconda3\\\\envs\\\\ml\\\\Lib\\\\site-packages\\\\IPython\\\\lib\\\\clipboard.py\": 1726064883.2304952, \"C:\\\\Users\\\\sghys\\\\miniconda3\\\\envs\\\\ml\\\\Lib\\\\site-packages\\\\IPython\\\\terminal\\\\shortcuts\\\\__init__.py\": 1726064883.2798674, \"C:\\\\Users\\\\sghys\\\\miniconda3\\\\envs\\\\ml\\\\Lib\\\\concurrent\\\\futures\\\\thread.py\": 1717698404.0, \"C:\\\\Users\\\\sghys\\\\miniconda3\\\\envs\\\\ml\\\\Lib\\\\site-packages\\\\IPython\\\\terminal\\\\debugger.py\": 1726064883.264149, \"C:\\\\Users\\\\sghys\\\\miniconda3\\\\envs\\\\ml\\\\Lib\\\\site-packages\\\\IPython\\\\terminal\\\\magics.py\": 1726064883.264149, \"C:\\\\Users\\\\sghys\\\\miniconda3\\\\envs\\\\ml\\\\Lib\\\\site-packages\\\\IPython\\\\terminal\\\\pt_inputhooks\\\\__init__.py\": 1726064883.264149, \"C:\\\\Users\\\\sghys\\\\miniconda3\\\\envs\\\\ml\\\\Lib\\\\site-packages\\\\IPython\\\\terminal\\\\prompts.py\": 1726064883.264149, \"C:\\\\Users\\\\sghys\\\\miniconda3\\\\envs\\\\ml\\\\Lib\\\\site-packages\\\\IPython\\\\terminal\\\\interactiveshell.py\": 1726064883.264149, \"C:\\\\Users\\\\sghys\\\\miniconda3\\\\envs\\\\ml\\\\Lib\\\\site-packages\\\\IPython\\\\core\\\\magics\\\\auto.py\": 1726064883.1497035, \"C:\\\\Users\\\\sghys\\\\miniconda3\\\\envs\\\\ml\\\\Lib\\\\site-packages\\\\IPython\\\\core\\\\magics\\\\basic.py\": 1726064883.1497035, \"C:\\\\Users\\\\sghys\\\\miniconda3\\\\envs\\\\ml\\\\Lib\\\\http\\\\__init__.py\": 1717698404.0, \"C:\\\\Users\\\\sghys\\\\miniconda3\\\\envs\\\\ml\\\\Lib\\\\email\\\\feedparser.py\": 1717698404.0, \"C:\\\\Users\\\\sghys\\\\miniconda3\\\\envs\\\\ml\\\\Lib\\\\email\\\\parser.py\": 1717698404.0, \"C:\\\\Users\\\\sghys\\\\miniconda3\\\\envs\\\\ml\\\\Lib\\\\http\\\\client.py\": 1717698404.0, \"C:\\\\Users\\\\sghys\\\\miniconda3\\\\envs\\\\ml\\\\Lib\\\\urllib\\\\response.py\": 1717698404.0, \"C:\\\\Users\\\\sghys\\\\miniconda3\\\\envs\\\\ml\\\\Lib\\\\urllib\\\\error.py\": 1717698404.0, \"C:\\\\Users\\\\sghys\\\\miniconda3\\\\envs\\\\ml\\\\Lib\\\\nturl2path.py\": 1717698404.0, \"C:\\\\Users\\\\sghys\\\\miniconda3\\\\envs\\\\ml\\\\Lib\\\\urllib\\\\request.py\": 1717698404.0, \"C:\\\\Users\\\\sghys\\\\miniconda3\\\\envs\\\\ml\\\\Lib\\\\site-packages\\\\IPython\\\\utils\\\\contexts.py\": 1726064883.3233142, \"C:\\\\Users\\\\sghys\\\\miniconda3\\\\envs\\\\ml\\\\Lib\\\\site-packages\\\\IPython\\\\core\\\\magics\\\\code.py\": 1726064883.1497035, \"C:\\\\Users\\\\sghys\\\\miniconda3\\\\envs\\\\ml\\\\Lib\\\\site-packages\\\\IPython\\\\core\\\\magics\\\\config.py\": 1726064883.1497035, \"C:\\\\Users\\\\sghys\\\\miniconda3\\\\envs\\\\ml\\\\Lib\\\\site-packages\\\\IPython\\\\core\\\\magics\\\\display.py\": 1726064883.1664257, \"C:\\\\Users\\\\sghys\\\\miniconda3\\\\envs\\\\ml\\\\Lib\\\\profile.py\": 1717698404.0, \"C:\\\\Users\\\\sghys\\\\miniconda3\\\\envs\\\\ml\\\\Lib\\\\cProfile.py\": 1717698404.0, \"C:\\\\Users\\\\sghys\\\\miniconda3\\\\envs\\\\ml\\\\Lib\\\\pstats.py\": 1717698404.0, \"C:\\\\Users\\\\sghys\\\\miniconda3\\\\envs\\\\ml\\\\Lib\\\\timeit.py\": 1717698404.0, \"C:\\\\Users\\\\sghys\\\\miniconda3\\\\envs\\\\ml\\\\Lib\\\\site-packages\\\\IPython\\\\utils\\\\module_paths.py\": 1726064883.3350036, \"C:\\\\Users\\\\sghys\\\\miniconda3\\\\envs\\\\ml\\\\Lib\\\\site-packages\\\\IPython\\\\utils\\\\timing.py\": 1726064883.3451371, \"C:\\\\Users\\\\sghys\\\\miniconda3\\\\envs\\\\ml\\\\Lib\\\\site-packages\\\\IPython\\\\core\\\\magics\\\\ast_mod.py\": 1726064883.1497035, \"C:\\\\Users\\\\sghys\\\\miniconda3\\\\envs\\\\ml\\\\Lib\\\\site-packages\\\\IPython\\\\core\\\\magics\\\\execution.py\": 1726064883.1664257, \"C:\\\\Users\\\\sghys\\\\miniconda3\\\\envs\\\\ml\\\\Lib\\\\site-packages\\\\IPython\\\\core\\\\magics\\\\extension.py\": 1726064883.1664257, \"C:\\\\Users\\\\sghys\\\\miniconda3\\\\envs\\\\ml\\\\Lib\\\\site-packages\\\\IPython\\\\core\\\\magics\\\\history.py\": 1726064883.1664257, \"C:\\\\Users\\\\sghys\\\\miniconda3\\\\envs\\\\ml\\\\Lib\\\\site-packages\\\\IPython\\\\core\\\\magics\\\\logging.py\": 1726064883.1664257, \"C:\\\\Users\\\\sghys\\\\miniconda3\\\\envs\\\\ml\\\\Lib\\\\site-packages\\\\IPython\\\\core\\\\magics\\\\namespace.py\": 1726064883.1664257, \"C:\\\\Users\\\\sghys\\\\miniconda3\\\\envs\\\\ml\\\\Lib\\\\site-packages\\\\IPython\\\\core\\\\magics\\\\osm.py\": 1726064883.1664257, \"C:\\\\Users\\\\sghys\\\\miniconda3\\\\envs\\\\ml\\\\Lib\\\\site-packages\\\\IPython\\\\core\\\\magics\\\\packaging.py\": 1726064883.1664257, \"C:\\\\Users\\\\sghys\\\\miniconda3\\\\envs\\\\ml\\\\Lib\\\\site-packages\\\\IPython\\\\core\\\\magics\\\\pylab.py\": 1726064883.1664257, \"C:\\\\Users\\\\sghys\\\\miniconda3\\\\envs\\\\ml\\\\Lib\\\\site-packages\\\\IPython\\\\core\\\\magics\\\\script.py\": 1726064883.1664257, \"C:\\\\Users\\\\sghys\\\\miniconda3\\\\envs\\\\ml\\\\Lib\\\\site-packages\\\\IPython\\\\core\\\\magics\\\\__init__.py\": 1726064883.1497035, \"C:\\\\Users\\\\sghys\\\\miniconda3\\\\envs\\\\ml\\\\Lib\\\\site-packages\\\\IPython\\\\core\\\\shellapp.py\": 1726064883.1497035, \"C:\\\\Users\\\\sghys\\\\miniconda3\\\\envs\\\\ml\\\\Lib\\\\site-packages\\\\IPython\\\\extensions\\\\__init__.py\": 1726064883.2304952, \"C:\\\\Users\\\\sghys\\\\miniconda3\\\\envs\\\\ml\\\\Lib\\\\site-packages\\\\IPython\\\\extensions\\\\storemagic.py\": 1726064883.2304952, \"C:\\\\Users\\\\sghys\\\\miniconda3\\\\envs\\\\ml\\\\Lib\\\\site-packages\\\\IPython\\\\terminal\\\\ipapp.py\": 1726064883.264149, \"C:\\\\Users\\\\sghys\\\\miniconda3\\\\envs\\\\ml\\\\Lib\\\\site-packages\\\\IPython\\\\terminal\\\\embed.py\": 1726064883.264149, \"C:\\\\Users\\\\sghys\\\\miniconda3\\\\envs\\\\ml\\\\Lib\\\\site-packages\\\\IPython\\\\utils\\\\frame.py\": 1726064883.3233142, \"C:\\\\Users\\\\sghys\\\\miniconda3\\\\envs\\\\ml\\\\Lib\\\\site-packages\\\\IPython\\\\__init__.py\": 1726064883.1074493, \"C:\\\\Users\\\\sghys\\\\miniconda3\\\\envs\\\\ml\\\\Lib\\\\site-packages\\\\ipykernel\\\\control.py\": 1705934932.4952164, \"C:\\\\Users\\\\sghys\\\\miniconda3\\\\envs\\\\ml\\\\Lib\\\\site-packages\\\\ipykernel\\\\heartbeat.py\": 1705934932.5116293, \"C:\\\\Users\\\\sghys\\\\miniconda3\\\\envs\\\\ml\\\\Lib\\\\site-packages\\\\ipykernel\\\\iostream.py\": 1705934932.5116293, \"C:\\\\Users\\\\sghys\\\\miniconda3\\\\envs\\\\ml\\\\Lib\\\\site-packages\\\\comm\\\\base_comm.py\": 1709323207.163522, \"C:\\\\Users\\\\sghys\\\\miniconda3\\\\envs\\\\ml\\\\Lib\\\\site-packages\\\\comm\\\\__init__.py\": 1709323207.1477485, \"C:\\\\Users\\\\sghys\\\\miniconda3\\\\envs\\\\ml\\\\Lib\\\\site-packages\\\\ipykernel\\\\jsonutil.py\": 1705934932.5116293, \"C:\\\\Users\\\\sghys\\\\miniconda3\\\\envs\\\\ml\\\\Lib\\\\site-packages\\\\psutil\\\\_common.py\": 1699482867.4772117, \"C:\\\\Users\\\\sghys\\\\miniconda3\\\\envs\\\\ml\\\\Lib\\\\site-packages\\\\psutil\\\\_compat.py\": 1699482867.4772117, \"C:\\\\Users\\\\sghys\\\\miniconda3\\\\envs\\\\ml\\\\Lib\\\\site-packages\\\\psutil\\\\_psutil_windows.cp312-win_amd64.pyd\": 1699482867.4772117, \"C:\\\\Users\\\\sghys\\\\miniconda3\\\\envs\\\\ml\\\\Lib\\\\site-packages\\\\psutil\\\\_pswindows.py\": 1699482867.4772117, \"C:\\\\Users\\\\sghys\\\\miniconda3\\\\envs\\\\ml\\\\Lib\\\\site-packages\\\\psutil\\\\__init__.py\": 1699482867.4772117, \"C:\\\\Users\\\\sghys\\\\miniconda3\\\\envs\\\\ml\\\\Lib\\\\site-packages\\\\tornado\\\\gen.py\": 1718740362.3984861, \"C:\\\\Users\\\\sghys\\\\miniconda3\\\\envs\\\\ml\\\\Lib\\\\site-packages\\\\tornado\\\\locks.py\": 1718740362.3984861, \"C:\\\\Users\\\\sghys\\\\miniconda3\\\\envs\\\\ml\\\\Lib\\\\site-packages\\\\tornado\\\\queues.py\": 1718740362.4141996, \"C:\\\\Users\\\\sghys\\\\miniconda3\\\\envs\\\\ml\\\\Lib\\\\site-packages\\\\ipykernel\\\\kernelbase.py\": 1705934932.5116293, \"C:\\\\Users\\\\sghys\\\\miniconda3\\\\envs\\\\ml\\\\Lib\\\\site-packages\\\\ipykernel\\\\comm\\\\comm.py\": 1705934932.5166974, \"C:\\\\Users\\\\sghys\\\\miniconda3\\\\envs\\\\ml\\\\Lib\\\\site-packages\\\\ipykernel\\\\comm\\\\manager.py\": 1705934932.5166974, \"C:\\\\Users\\\\sghys\\\\miniconda3\\\\envs\\\\ml\\\\Lib\\\\site-packages\\\\ipykernel\\\\comm\\\\__init__.py\": 1705934932.5166974, \"C:\\\\Users\\\\sghys\\\\miniconda3\\\\envs\\\\ml\\\\Lib\\\\site-packages\\\\ipykernel\\\\compiler.py\": 1705934932.4952164, \"C:\\\\Users\\\\sghys\\\\miniconda3\\\\envs\\\\ml\\\\Lib\\\\site-packages\\\\debugpy\\\\_version.py\": 1699555033.206005, \"C:\\\\Users\\\\sghys\\\\miniconda3\\\\envs\\\\ml\\\\Lib\\\\site-packages\\\\debugpy\\\\public_api.py\": 1699555033.206005, \"C:\\\\Users\\\\sghys\\\\miniconda3\\\\envs\\\\ml\\\\Lib\\\\site-packages\\\\debugpy\\\\__init__.py\": 1699555033.206005, \"C:\\\\Users\\\\sghys\\\\miniconda3\\\\envs\\\\ml\\\\Lib\\\\site-packages\\\\debugpy\\\\_vendored\\\\_util.py\": 1699555033.2216237, \"C:\\\\Users\\\\sghys\\\\miniconda3\\\\envs\\\\ml\\\\Lib\\\\site-packages\\\\debugpy\\\\_vendored\\\\__init__.py\": 1699555033.206005, \"C:\\\\Users\\\\sghys\\\\miniconda3\\\\envs\\\\ml\\\\Lib\\\\site-packages\\\\debugpy\\\\_vendored\\\\pydevd\\\\_pydevd_bundle\\\\__init__.py\": 1699555033.2378044, \"C:\\\\Users\\\\sghys\\\\miniconda3\\\\envs\\\\ml\\\\Lib\\\\encodings\\\\ascii.py\": 1717698404.0, \"C:\\\\Users\\\\sghys\\\\miniconda3\\\\envs\\\\ml\\\\Lib\\\\encodings\\\\latin_1.py\": 1717698404.0, \"C:\\\\Users\\\\sghys\\\\miniconda3\\\\envs\\\\ml\\\\Lib\\\\stringprep.py\": 1717698404.0, \"C:\\\\Users\\\\sghys\\\\miniconda3\\\\envs\\\\ml\\\\Lib\\\\encodings\\\\idna.py\": 1717698404.0, \"C:\\\\Users\\\\sghys\\\\miniconda3\\\\envs\\\\ml\\\\Lib\\\\site-packages\\\\debugpy\\\\_vendored\\\\pydevd\\\\_pydevd_bundle\\\\pydevd_vm_type.py\": 1699555033.2859256, \"C:\\\\Users\\\\sghys\\\\miniconda3\\\\envs\\\\ml\\\\Lib\\\\site-packages\\\\debugpy\\\\_vendored\\\\pydevd\\\\_pydev_bundle\\\\__init__.py\": 1699555033.2216237, \"C:\\\\Users\\\\sghys\\\\miniconda3\\\\envs\\\\ml\\\\Lib\\\\xmlrpc\\\\__init__.py\": 1717698404.0, \"C:\\\\Users\\\\sghys\\\\miniconda3\\\\envs\\\\ml\\\\Lib\\\\xml\\\\parsers\\\\__init__.py\": 1717698404.0, \"C:\\\\Users\\\\sghys\\\\miniconda3\\\\envs\\\\ml\\\\DLLs\\\\pyexpat.pyd\": 1718723597.9902167, \"C:\\\\Users\\\\sghys\\\\miniconda3\\\\envs\\\\ml\\\\Lib\\\\xml\\\\parsers\\\\expat.py\": 1717698404.0, \"C:\\\\Users\\\\sghys\\\\miniconda3\\\\envs\\\\ml\\\\Lib\\\\gzip.py\": 1717698404.0, \"C:\\\\Users\\\\sghys\\\\miniconda3\\\\envs\\\\ml\\\\Lib\\\\xmlrpc\\\\client.py\": 1717698404.0, \"C:\\\\Users\\\\sghys\\\\miniconda3\\\\envs\\\\ml\\\\Lib\\\\http\\\\server.py\": 1717698404.0, \"C:\\\\Users\\\\sghys\\\\miniconda3\\\\envs\\\\ml\\\\Lib\\\\xmlrpc\\\\server.py\": 1717698404.0, \"C:\\\\Users\\\\sghys\\\\miniconda3\\\\envs\\\\ml\\\\Lib\\\\site-packages\\\\debugpy\\\\_vendored\\\\pydevd\\\\_pydev_bundle\\\\_pydev_saved_modules.py\": 1699555033.2216237, \"C:\\\\Users\\\\sghys\\\\miniconda3\\\\envs\\\\ml\\\\Lib\\\\site-packages\\\\debugpy\\\\_vendored\\\\pydevd\\\\_pydevd_bundle\\\\pydevd_constants.py\": 1699555033.253483, \"C:\\\\Users\\\\sghys\\\\miniconda3\\\\envs\\\\ml\\\\Lib\\\\site-packages\\\\debugpy\\\\_vendored\\\\pydevd\\\\_pydev_runfiles\\\\__init__.py\": 1699555033.2378044, \"C:\\\\Users\\\\sghys\\\\miniconda3\\\\envs\\\\ml\\\\Lib\\\\site-packages\\\\debugpy\\\\_vendored\\\\pydevd\\\\_pydevd_frame_eval\\\\__init__.py\": 1699555033.2859256, \"C:\\\\Users\\\\sghys\\\\miniconda3\\\\envs\\\\ml\\\\Lib\\\\site-packages\\\\debugpy\\\\_vendored\\\\pydevd\\\\pydev_ipython\\\\__init__.py\": 1699555033.302151, \"C:\\\\Users\\\\sghys\\\\miniconda3\\\\envs\\\\ml\\\\Lib\\\\plistlib.py\": 1717698404.0, \"C:\\\\Users\\\\sghys\\\\miniconda3\\\\envs\\\\ml\\\\Lib\\\\site-packages\\\\packaging\\\\__init__.py\": 1720103497.6455503, \"C:\\\\Users\\\\sghys\\\\miniconda3\\\\envs\\\\ml\\\\Lib\\\\site-packages\\\\packaging\\\\_elffile.py\": 1720103497.6455503, \"C:\\\\Users\\\\sghys\\\\miniconda3\\\\envs\\\\ml\\\\Lib\\\\site-packages\\\\packaging\\\\_manylinux.py\": 1720103497.6620238, \"C:\\\\Users\\\\sghys\\\\miniconda3\\\\envs\\\\ml\\\\Lib\\\\site-packages\\\\packaging\\\\_musllinux.py\": 1720103497.6620238, \"C:\\\\Users\\\\sghys\\\\miniconda3\\\\envs\\\\ml\\\\Lib\\\\site-packages\\\\packaging\\\\tags.py\": 1720103497.6620238, \"C:\\\\Users\\\\sghys\\\\miniconda3\\\\envs\\\\ml\\\\Lib\\\\site-packages\\\\packaging\\\\_structures.py\": 1720103497.6620238, \"C:\\\\Users\\\\sghys\\\\miniconda3\\\\envs\\\\ml\\\\Lib\\\\site-packages\\\\packaging\\\\version.py\": 1720103497.6620238, \"C:\\\\Users\\\\sghys\\\\miniconda3\\\\envs\\\\ml\\\\Lib\\\\site-packages\\\\packaging\\\\utils.py\": 1720103497.6620238, \"C:\\\\Users\\\\sghys\\\\miniconda3\\\\envs\\\\ml\\\\Lib\\\\site-packages\\\\packaging\\\\specifiers.py\": 1720103497.6620238, \"C:\\\\Users\\\\sghys\\\\miniconda3\\\\envs\\\\ml\\\\Lib\\\\site-packages\\\\more_itertools\\\\recipes.py\": 1725139587.7986226, \"C:\\\\Users\\\\sghys\\\\miniconda3\\\\envs\\\\ml\\\\Lib\\\\site-packages\\\\more_itertools\\\\more.py\": 1725139587.7966256, \"C:\\\\Users\\\\sghys\\\\miniconda3\\\\envs\\\\ml\\\\Lib\\\\site-packages\\\\more_itertools\\\\__init__.py\": 1725139587.795626, \"C:\\\\Users\\\\sghys\\\\miniconda3\\\\envs\\\\ml\\\\Lib\\\\site-packages\\\\setuptools\\\\_vendor\\\\jaraco\\\\functools\\\\__init__.py\": 1722265877.0, \"C:\\\\Users\\\\sghys\\\\miniconda3\\\\envs\\\\ml\\\\Lib\\\\tarfile.py\": 1717698404.0, \"C:\\\\Users\\\\sghys\\\\miniconda3\\\\envs\\\\ml\\\\Lib\\\\site-packages\\\\setuptools\\\\_vendor\\\\jaraco\\\\context.py\": 1722265877.0, \"C:\\\\Users\\\\sghys\\\\miniconda3\\\\envs\\\\ml\\\\Lib\\\\importlib\\\\resources\\\\_itertools.py\": 1717698404.0, \"C:\\\\Users\\\\sghys\\\\miniconda3\\\\envs\\\\ml\\\\Lib\\\\importlib\\\\resources\\\\readers.py\": 1717698404.0, \"C:\\\\Users\\\\sghys\\\\miniconda3\\\\envs\\\\ml\\\\Lib\\\\importlib\\\\readers.py\": 1717698404.0, \"C:\\\\Users\\\\sghys\\\\miniconda3\\\\envs\\\\ml\\\\Lib\\\\site-packages\\\\setuptools\\\\_vendor\\\\jaraco\\\\text\\\\__init__.py\": 1722265877.0, \"C:\\\\Users\\\\sghys\\\\miniconda3\\\\envs\\\\ml\\\\Lib\\\\site-packages\\\\packaging\\\\_tokenizer.py\": 1720103497.6620238, \"C:\\\\Users\\\\sghys\\\\miniconda3\\\\envs\\\\ml\\\\Lib\\\\site-packages\\\\packaging\\\\_parser.py\": 1720103497.6620238, \"C:\\\\Users\\\\sghys\\\\miniconda3\\\\envs\\\\ml\\\\Lib\\\\site-packages\\\\packaging\\\\markers.py\": 1720103497.6620238, \"C:\\\\Users\\\\sghys\\\\miniconda3\\\\envs\\\\ml\\\\Lib\\\\site-packages\\\\packaging\\\\requirements.py\": 1720103497.6620238, \"C:\\\\Users\\\\sghys\\\\miniconda3\\\\envs\\\\ml\\\\Lib\\\\site-packages\\\\pkg_resources\\\\__init__.py\": 1722265876.0, \"C:\\\\Users\\\\sghys\\\\miniconda3\\\\envs\\\\ml\\\\Lib\\\\site-packages\\\\debugpy\\\\_vendored\\\\pydevd\\\\pydevd_plugins\\\\__init__.py\": 1699555033.3815284, \"C:\\\\Users\\\\sghys\\\\miniconda3\\\\envs\\\\ml\\\\Lib\\\\site-packages\\\\debugpy\\\\_vendored\\\\pydevd\\\\_pydev_bundle\\\\pydev_log.py\": 1699555033.2378044, \"C:\\\\Users\\\\sghys\\\\miniconda3\\\\envs\\\\ml\\\\Lib\\\\site-packages\\\\debugpy\\\\_vendored\\\\pydevd\\\\_pydev_bundle\\\\_pydev_filesystem_encoding.py\": 1699555033.2216237, \"C:\\\\Users\\\\sghys\\\\miniconda3\\\\envs\\\\ml\\\\Lib\\\\site-packages\\\\debugpy\\\\_vendored\\\\pydevd\\\\_pydevd_bundle\\\\pydevd_comm_constants.py\": 1699555033.253483, \"C:\\\\Users\\\\sghys\\\\miniconda3\\\\envs\\\\ml\\\\Lib\\\\site-packages\\\\debugpy\\\\_vendored\\\\pydevd\\\\pydevd_file_utils.py\": 1699555033.2216237, \"C:\\\\Users\\\\sghys\\\\miniconda3\\\\envs\\\\ml\\\\Lib\\\\site-packages\\\\debugpy\\\\_vendored\\\\pydevd\\\\_pydev_bundle\\\\_pydev_execfile.py\": 1699555033.2216237, \"C:\\\\Users\\\\sghys\\\\miniconda3\\\\envs\\\\ml\\\\Lib\\\\site-packages\\\\debugpy\\\\_vendored\\\\pydevd\\\\_pydevd_bundle\\\\pydevd_exec2.py\": 1699555033.253483, \"C:\\\\Users\\\\sghys\\\\miniconda3\\\\envs\\\\ml\\\\Lib\\\\site-packages\\\\debugpy\\\\_vendored\\\\pydevd\\\\_pydev_bundle\\\\pydev_imports.py\": 1699555033.2216237, \"C:\\\\Users\\\\sghys\\\\miniconda3\\\\envs\\\\ml\\\\Lib\\\\site-packages\\\\debugpy\\\\_vendored\\\\pydevd\\\\_pydev_bundle\\\\pydev_is_thread_alive.py\": 1699555033.2378044, \"C:\\\\Users\\\\sghys\\\\miniconda3\\\\envs\\\\ml\\\\Lib\\\\site-packages\\\\debugpy\\\\_vendored\\\\pydevd\\\\_pydev_bundle\\\\pydev_override.py\": 1699555033.2378044, \"C:\\\\Users\\\\sghys\\\\miniconda3\\\\envs\\\\ml\\\\Lib\\\\site-packages\\\\debugpy\\\\_vendored\\\\pydevd\\\\pydevd_plugins\\\\extensions\\\\__init__.py\": 1699555033.3815284, \"C:\\\\Users\\\\sghys\\\\miniconda3\\\\envs\\\\ml\\\\Lib\\\\site-packages\\\\debugpy\\\\_vendored\\\\pydevd\\\\_pydevd_bundle\\\\pydevd_extension_utils.py\": 1699555033.253483, \"C:\\\\Users\\\\sghys\\\\miniconda3\\\\envs\\\\ml\\\\Lib\\\\site-packages\\\\debugpy\\\\_vendored\\\\pydevd\\\\_pydevd_bundle\\\\pydevd_frame_utils.py\": 1699555033.2691514, \"C:\\\\Users\\\\sghys\\\\miniconda3\\\\envs\\\\ml\\\\Lib\\\\site-packages\\\\debugpy\\\\_vendored\\\\pydevd\\\\_pydevd_bundle\\\\pydevd_filtering.py\": 1699555033.253483, \"C:\\\\Users\\\\sghys\\\\miniconda3\\\\envs\\\\ml\\\\Lib\\\\site-packages\\\\debugpy\\\\_vendored\\\\pydevd\\\\_pydevd_bundle\\\\pydevd_io.py\": 1699555033.2696786, \"C:\\\\Users\\\\sghys\\\\miniconda3\\\\envs\\\\ml\\\\Lib\\\\site-packages\\\\debugpy\\\\_vendored\\\\pydevd\\\\_pydevd_bundle\\\\pydevd_defaults.py\": 1699555033.253483, \"C:\\\\Users\\\\sghys\\\\miniconda3\\\\envs\\\\ml\\\\Lib\\\\site-packages\\\\debugpy\\\\_vendored\\\\pydevd\\\\_pydevd_bundle\\\\pydevd_utils.py\": 1699555033.2859256, \"C:\\\\Users\\\\sghys\\\\miniconda3\\\\envs\\\\ml\\\\Lib\\\\site-packages\\\\debugpy\\\\_vendored\\\\pydevd\\\\_pydevd_bundle\\\\pydevd_runpy.py\": 1699555033.2696786, \"C:\\\\Users\\\\sghys\\\\miniconda3\\\\envs\\\\ml\\\\Lib\\\\site-packages\\\\debugpy\\\\_vendored\\\\pydevd\\\\_pydev_bundle\\\\_pydev_tipper_common.py\": 1699555033.2216237, \"C:\\\\Users\\\\sghys\\\\miniconda3\\\\envs\\\\ml\\\\Lib\\\\site-packages\\\\debugpy\\\\_vendored\\\\pydevd\\\\_pydev_bundle\\\\_pydev_imports_tipper.py\": 1699555033.2216237, \"C:\\\\Users\\\\sghys\\\\miniconda3\\\\envs\\\\ml\\\\Lib\\\\site-packages\\\\debugpy\\\\_vendored\\\\pydevd\\\\_pydev_bundle\\\\_pydev_calltip_util.py\": 1699555033.2216237, \"C:\\\\Users\\\\sghys\\\\miniconda3\\\\envs\\\\ml\\\\Lib\\\\site-packages\\\\debugpy\\\\_vendored\\\\pydevd\\\\_pydevd_bundle\\\\pydevd_safe_repr.py\": 1699555033.2696786, \"C:\\\\Users\\\\sghys\\\\miniconda3\\\\envs\\\\ml\\\\Lib\\\\site-packages\\\\debugpy\\\\_vendored\\\\pydevd\\\\_pydevd_bundle\\\\pydevd_resolver.py\": 1699555033.2696786, \"C:\\\\Users\\\\sghys\\\\miniconda3\\\\envs\\\\ml\\\\Lib\\\\site-packages\\\\debugpy\\\\_vendored\\\\pydevd\\\\_pydevd_bundle\\\\pydevd_extension_api.py\": 1699555033.253483, \"C:\\\\Users\\\\sghys\\\\miniconda3\\\\envs\\\\ml\\\\Lib\\\\site-packages\\\\debugpy\\\\_vendored\\\\pydevd\\\\_pydevd_bundle\\\\pydevd_xml.py\": 1699555033.2859256, \"C:\\\\Users\\\\sghys\\\\miniconda3\\\\envs\\\\ml\\\\Lib\\\\site-packages\\\\debugpy\\\\_vendored\\\\pydevd\\\\_pydevd_bundle\\\\pydevd_dont_trace.py\": 1699555033.253483, \"C:\\\\Users\\\\sghys\\\\miniconda3\\\\envs\\\\ml\\\\Lib\\\\site-packages\\\\debugpy\\\\_vendored\\\\pydevd\\\\_pydevd_frame_eval\\\\vendored\\\\__init__.py\": 1699555033.302151, \"C:\\\\Users\\\\sghys\\\\miniconda3\\\\envs\\\\ml\\\\Lib\\\\site-packages\\\\debugpy\\\\_vendored\\\\pydevd\\\\_pydevd_frame_eval\\\\vendored\\\\bytecode\\\\flags.py\": 1699555033.302151, \"C:\\\\Users\\\\sghys\\\\miniconda3\\\\envs\\\\ml\\\\Lib\\\\site-packages\\\\debugpy\\\\_vendored\\\\pydevd\\\\_pydevd_frame_eval\\\\vendored\\\\bytecode\\\\instr.py\": 1699555033.302151, \"C:\\\\Users\\\\sghys\\\\miniconda3\\\\envs\\\\ml\\\\Lib\\\\site-packages\\\\debugpy\\\\_vendored\\\\pydevd\\\\_pydevd_frame_eval\\\\vendored\\\\bytecode\\\\bytecode.py\": 1699555033.302151, \"C:\\\\Users\\\\sghys\\\\miniconda3\\\\envs\\\\ml\\\\Lib\\\\site-packages\\\\debugpy\\\\_vendored\\\\pydevd\\\\_pydevd_frame_eval\\\\vendored\\\\bytecode\\\\concrete.py\": 1699555033.302151, \"C:\\\\Users\\\\sghys\\\\miniconda3\\\\envs\\\\ml\\\\Lib\\\\site-packages\\\\debugpy\\\\_vendored\\\\pydevd\\\\_pydevd_frame_eval\\\\vendored\\\\bytecode\\\\cfg.py\": 1699555033.302151, \"C:\\\\Users\\\\sghys\\\\miniconda3\\\\envs\\\\ml\\\\Lib\\\\site-packages\\\\debugpy\\\\_vendored\\\\pydevd\\\\_pydevd_frame_eval\\\\vendored\\\\bytecode\\\\__init__.py\": 1699555033.302151, \"C:\\\\Users\\\\sghys\\\\miniconda3\\\\envs\\\\ml\\\\Lib\\\\site-packages\\\\debugpy\\\\_vendored\\\\pydevd\\\\_pydevd_bundle\\\\pydevd_bytecode_utils.py\": 1699555033.2378044, \"C:\\\\Users\\\\sghys\\\\miniconda3\\\\envs\\\\ml\\\\Lib\\\\site-packages\\\\debugpy\\\\_vendored\\\\pydevd\\\\_pydevd_bundle\\\\pydevd_frame.py\": 1699555033.253483, \"C:\\\\Users\\\\sghys\\\\miniconda3\\\\envs\\\\ml\\\\Lib\\\\site-packages\\\\debugpy\\\\_vendored\\\\pydevd\\\\_pydevd_bundle\\\\pydevd_additional_thread_info_regular.py\": 1699555033.2378044, \"C:\\\\Users\\\\sghys\\\\miniconda3\\\\envs\\\\ml\\\\Lib\\\\site-packages\\\\debugpy\\\\_vendored\\\\pydevd\\\\_pydevd_bundle\\\\pydevd_additional_thread_info.py\": 1699555033.2378044, \"C:\\\\Users\\\\sghys\\\\miniconda3\\\\envs\\\\ml\\\\Lib\\\\site-packages\\\\debugpy\\\\_vendored\\\\pydevd\\\\_pydevd_bundle\\\\pydevd_thread_lifecycle.py\": 1699555033.2696786, \"C:\\\\Users\\\\sghys\\\\miniconda3\\\\envs\\\\ml\\\\Lib\\\\site-packages\\\\debugpy\\\\_vendored\\\\pydevd\\\\_pydevd_bundle\\\\pydevd_save_locals.py\": 1699555033.2696786, \"C:\\\\Users\\\\sghys\\\\miniconda3\\\\envs\\\\ml\\\\Lib\\\\site-packages\\\\debugpy\\\\_vendored\\\\pydevd\\\\_pydev_bundle\\\\pydev_monkey.py\": 1699555033.2378044, \"C:\\\\Users\\\\sghys\\\\miniconda3\\\\envs\\\\ml\\\\Lib\\\\site-packages\\\\debugpy\\\\_vendored\\\\pydevd\\\\pydevd_tracing.py\": 1699555033.2216237, \"C:\\\\Users\\\\sghys\\\\miniconda3\\\\envs\\\\ml\\\\Lib\\\\site-packages\\\\debugpy\\\\_vendored\\\\pydevd\\\\_pydevd_bundle\\\\pydevd_collect_bytecode_info.py\": 1699555033.253483, \"C:\\\\Users\\\\sghys\\\\miniconda3\\\\envs\\\\ml\\\\Lib\\\\site-packages\\\\debugpy\\\\_vendored\\\\pydevd\\\\_pydevd_bundle\\\\pydevd_daemon_thread.py\": 1699555033.253483, \"C:\\\\Users\\\\sghys\\\\miniconda3\\\\envs\\\\ml\\\\Lib\\\\site-packages\\\\debugpy\\\\_vendored\\\\pydevd\\\\_pydevd_bundle\\\\pydevd_timeout.py\": 1699555033.2696786, \"C:\\\\Users\\\\sghys\\\\miniconda3\\\\envs\\\\ml\\\\Lib\\\\site-packages\\\\debugpy\\\\_vendored\\\\pydevd\\\\_pydevd_bundle\\\\pydevd_vars.py\": 1699555033.2859256, \"C:\\\\Users\\\\sghys\\\\miniconda3\\\\envs\\\\ml\\\\Lib\\\\site-packages\\\\debugpy\\\\_vendored\\\\pydevd\\\\_pydev_bundle\\\\pydev_console_utils.py\": 1699555033.2216237, \"C:\\\\Users\\\\sghys\\\\miniconda3\\\\envs\\\\ml\\\\Lib\\\\site-packages\\\\debugpy\\\\_vendored\\\\pydevd\\\\_pydevd_bundle\\\\pydevd_import_class.py\": 1699555033.2696786, \"C:\\\\Users\\\\sghys\\\\miniconda3\\\\envs\\\\ml\\\\Lib\\\\site-packages\\\\debugpy\\\\_vendored\\\\pydevd\\\\_pydevd_bundle\\\\pydevd_breakpoints.py\": 1699555033.2378044, \"C:\\\\Users\\\\sghys\\\\miniconda3\\\\envs\\\\ml\\\\Lib\\\\site-packages\\\\debugpy\\\\_vendored\\\\pydevd\\\\_pydevd_bundle\\\\pydevd_custom_frames.py\": 1699555033.253483, \"C:\\\\Users\\\\sghys\\\\miniconda3\\\\envs\\\\ml\\\\Lib\\\\site-packages\\\\debugpy\\\\_vendored\\\\pydevd\\\\_pydevd_bundle\\\\pydevd_dont_trace_files.py\": 1699555033.253483, \"C:\\\\Users\\\\sghys\\\\miniconda3\\\\envs\\\\ml\\\\Lib\\\\site-packages\\\\debugpy\\\\_vendored\\\\pydevd\\\\_pydevd_bundle\\\\pydevd_net_command.py\": 1699555033.2696786, \"C:\\\\Users\\\\sghys\\\\miniconda3\\\\envs\\\\ml\\\\Lib\\\\site-packages\\\\debugpy\\\\_vendored\\\\pydevd\\\\_pydevd_bundle\\\\pydevconsole_code.py\": 1699555033.2378044, \"C:\\\\Users\\\\sghys\\\\miniconda3\\\\envs\\\\ml\\\\Lib\\\\site-packages\\\\debugpy\\\\_vendored\\\\pydevd\\\\_pydev_bundle\\\\pydev_umd.py\": 1699555033.2378044, \"C:\\\\Users\\\\sghys\\\\miniconda3\\\\envs\\\\ml\\\\Lib\\\\site-packages\\\\debugpy\\\\_vendored\\\\pydevd\\\\pydevconsole.py\": 1699555033.2216237, \"C:\\\\Users\\\\sghys\\\\miniconda3\\\\envs\\\\ml\\\\Lib\\\\site-packages\\\\debugpy\\\\_vendored\\\\pydevd\\\\_pydev_bundle\\\\_pydev_completer.py\": 1699555033.2216237, \"C:\\\\Users\\\\sghys\\\\miniconda3\\\\envs\\\\ml\\\\Lib\\\\site-packages\\\\debugpy\\\\_vendored\\\\pydevd\\\\_pydevd_bundle\\\\pydevd_net_command_factory_xml.py\": 1699555033.2696786, \"C:\\\\Users\\\\sghys\\\\miniconda3\\\\envs\\\\ml\\\\Lib\\\\site-packages\\\\debugpy\\\\_vendored\\\\pydevd\\\\_pydevd_bundle\\\\pydevd_trace_dispatch_regular.py\": 1699555033.2696786, \"C:\\\\Users\\\\sghys\\\\miniconda3\\\\envs\\\\ml\\\\Lib\\\\site-packages\\\\debugpy\\\\_vendored\\\\pydevd\\\\_pydevd_bundle\\\\pydevd_trace_dispatch.py\": 1699555033.2696786, \"C:\\\\Users\\\\sghys\\\\miniconda3\\\\envs\\\\ml\\\\Lib\\\\site-packages\\\\debugpy\\\\_vendored\\\\pydevd\\\\_pydevd_frame_eval\\\\pydevd_frame_eval_main.py\": 1699555033.2859256, \"C:\\\\Users\\\\sghys\\\\miniconda3\\\\envs\\\\ml\\\\Lib\\\\site-packages\\\\debugpy\\\\_vendored\\\\pydevd\\\\_pydevd_bundle\\\\pydevd_source_mapping.py\": 1699555033.2696786, \"C:\\\\Users\\\\sghys\\\\miniconda3\\\\envs\\\\ml\\\\Lib\\\\site-packages\\\\debugpy\\\\_vendored\\\\pydevd\\\\_pydevd_bundle\\\\pydevd_concurrency_analyser\\\\__init__.py\": 1699555033.2859256, \"C:\\\\Users\\\\sghys\\\\miniconda3\\\\envs\\\\ml\\\\Lib\\\\site-packages\\\\debugpy\\\\_vendored\\\\pydevd\\\\_pydevd_bundle\\\\pydevd_concurrency_analyser\\\\pydevd_thread_wrappers.py\": 1699555033.2859256, \"C:\\\\Users\\\\sghys\\\\miniconda3\\\\envs\\\\ml\\\\Lib\\\\site-packages\\\\debugpy\\\\_vendored\\\\pydevd\\\\_pydevd_bundle\\\\pydevd_concurrency_analyser\\\\pydevd_concurrency_logger.py\": 1699555033.2859256, \"C:\\\\Users\\\\sghys\\\\miniconda3\\\\envs\\\\ml\\\\Lib\\\\site-packages\\\\debugpy\\\\_vendored\\\\pydevd\\\\_pydevd_bundle\\\\_debug_adapter\\\\__init__.py\": 1699555033.2859256, \"C:\\\\Users\\\\sghys\\\\miniconda3\\\\envs\\\\ml\\\\Lib\\\\site-packages\\\\debugpy\\\\_vendored\\\\pydevd\\\\_pydevd_bundle\\\\_debug_adapter\\\\pydevd_schema_log.py\": 1699555033.2859256, \"C:\\\\Users\\\\sghys\\\\miniconda3\\\\envs\\\\ml\\\\Lib\\\\site-packages\\\\debugpy\\\\_vendored\\\\pydevd\\\\_pydevd_bundle\\\\_debug_adapter\\\\pydevd_base_schema.py\": 1699555033.2859256, \"C:\\\\Users\\\\sghys\\\\miniconda3\\\\envs\\\\ml\\\\Lib\\\\site-packages\\\\debugpy\\\\_vendored\\\\pydevd\\\\_pydevd_bundle\\\\_debug_adapter\\\\pydevd_schema.py\": 1699555033.2859256, \"C:\\\\Users\\\\sghys\\\\miniconda3\\\\envs\\\\ml\\\\Lib\\\\site-packages\\\\debugpy\\\\_vendored\\\\pydevd\\\\_pydevd_bundle\\\\pydevd_reload.py\": 1699555033.2696786, \"C:\\\\Users\\\\sghys\\\\miniconda3\\\\envs\\\\ml\\\\Lib\\\\site-packages\\\\debugpy\\\\_vendored\\\\pydevd\\\\_pydev_bundle\\\\fsnotify\\\\__init__.py\": 1699555033.2378044, \"C:\\\\Users\\\\sghys\\\\miniconda3\\\\envs\\\\ml\\\\Lib\\\\site-packages\\\\debugpy\\\\_vendored\\\\pydevd\\\\_pydevd_bundle\\\\pydevd_console.py\": 1699555033.253483, \"C:\\\\Users\\\\sghys\\\\miniconda3\\\\envs\\\\ml\\\\Lib\\\\site-packages\\\\debugpy\\\\_vendored\\\\pydevd\\\\_pydevd_bundle\\\\pydevd_comm.py\": 1699555033.253483, \"C:\\\\Users\\\\sghys\\\\miniconda3\\\\envs\\\\ml\\\\Lib\\\\site-packages\\\\debugpy\\\\_vendored\\\\pydevd\\\\_pydevd_bundle\\\\pydevd_net_command_factory_json.py\": 1699555033.2696786, \"C:\\\\Users\\\\sghys\\\\miniconda3\\\\envs\\\\ml\\\\Lib\\\\site-packages\\\\debugpy\\\\_vendored\\\\pydevd\\\\_pydevd_bundle\\\\pydevd_api.py\": 1699555033.2378044, \"C:\\\\Users\\\\sghys\\\\miniconda3\\\\envs\\\\ml\\\\Lib\\\\site-packages\\\\debugpy\\\\_vendored\\\\pydevd\\\\_pydevd_bundle\\\\pydevd_json_debug_options.py\": 1699555033.2696786, \"C:\\\\Users\\\\sghys\\\\miniconda3\\\\envs\\\\ml\\\\Lib\\\\site-packages\\\\debugpy\\\\_vendored\\\\pydevd\\\\_pydevd_bundle\\\\pydevd_process_net_command_json.py\": 1699555033.2696786, \"C:\\\\Users\\\\sghys\\\\miniconda3\\\\envs\\\\ml\\\\Lib\\\\site-packages\\\\debugpy\\\\_vendored\\\\pydevd\\\\_pydevd_bundle\\\\pydevd_traceproperty.py\": 1699555033.2853863, \"C:\\\\Users\\\\sghys\\\\miniconda3\\\\envs\\\\ml\\\\Lib\\\\site-packages\\\\debugpy\\\\_vendored\\\\pydevd\\\\_pydevd_bundle\\\\pydevd_process_net_command.py\": 1699555033.2696786, \"C:\\\\Users\\\\sghys\\\\miniconda3\\\\envs\\\\ml\\\\Lib\\\\site-packages\\\\debugpy\\\\_vendored\\\\pydevd\\\\_pydevd_bundle\\\\pydevd_suspended_frames.py\": 1699555033.2696786, \"C:\\\\Users\\\\sghys\\\\miniconda3\\\\envs\\\\ml\\\\Lib\\\\site-packages\\\\debugpy\\\\_vendored\\\\pydevd\\\\_pydevd_bundle\\\\pydevd_trace_api.py\": 1699555033.2696786, \"C:\\\\Users\\\\sghys\\\\miniconda3\\\\envs\\\\ml\\\\Lib\\\\site-packages\\\\debugpy\\\\_vendored\\\\pydevd\\\\pydevd_plugins\\\\pydevd_line_validation.py\": 1699555033.3815284, \"C:\\\\Users\\\\sghys\\\\miniconda3\\\\envs\\\\ml\\\\Lib\\\\site-packages\\\\debugpy\\\\_vendored\\\\pydevd\\\\pydevd_plugins\\\\django_debug.py\": 1699555033.3815284, \"C:\\\\Users\\\\sghys\\\\miniconda3\\\\envs\\\\ml\\\\Lib\\\\site-packages\\\\debugpy\\\\_vendored\\\\pydevd\\\\pydevd_plugins\\\\jinja2_debug.py\": 1699555033.3815284, \"C:\\\\Users\\\\sghys\\\\miniconda3\\\\envs\\\\ml\\\\Lib\\\\site-packages\\\\debugpy\\\\_vendored\\\\pydevd\\\\_pydevd_bundle\\\\pydevd_plugin_utils.py\": 1699555033.2696786, \"C:\\\\Users\\\\sghys\\\\miniconda3\\\\envs\\\\ml\\\\Lib\\\\site-packages\\\\debugpy\\\\_vendored\\\\pydevd\\\\pydevd_plugins\\\\extensions\\\\types\\\\__init__.py\": 1699555033.3815284, \"C:\\\\Users\\\\sghys\\\\miniconda3\\\\envs\\\\ml\\\\Lib\\\\site-packages\\\\debugpy\\\\_vendored\\\\pydevd\\\\pydevd_plugins\\\\extensions\\\\types\\\\pydevd_helpers.py\": 1699555033.3972354, \"C:\\\\Users\\\\sghys\\\\miniconda3\\\\envs\\\\ml\\\\Lib\\\\site-packages\\\\debugpy\\\\_vendored\\\\pydevd\\\\pydevd_plugins\\\\extensions\\\\types\\\\pydevd_plugin_numpy_types.py\": 1699555033.3977623, \"C:\\\\Users\\\\sghys\\\\miniconda3\\\\envs\\\\ml\\\\Lib\\\\site-packages\\\\debugpy\\\\_vendored\\\\pydevd\\\\pydevd_plugins\\\\extensions\\\\types\\\\pydevd_plugin_pandas_types.py\": 1699555033.3977623, \"C:\\\\Users\\\\sghys\\\\miniconda3\\\\envs\\\\ml\\\\Lib\\\\site-packages\\\\debugpy\\\\_vendored\\\\pydevd\\\\pydevd_plugins\\\\extensions\\\\types\\\\pydevd_plugins_django_form_str.py\": 1699555033.3977623, \"C:\\\\Users\\\\sghys\\\\miniconda3\\\\envs\\\\ml\\\\Lib\\\\site-packages\\\\debugpy\\\\_vendored\\\\pydevd\\\\pydevd.py\": 1699555033.2216237, \"C:\\\\Users\\\\sghys\\\\miniconda3\\\\envs\\\\ml\\\\Lib\\\\site-packages\\\\debugpy\\\\_vendored\\\\force_pydevd.py\": 1699555033.2216237, \"C:\\\\Users\\\\sghys\\\\miniconda3\\\\envs\\\\ml\\\\Lib\\\\site-packages\\\\debugpy\\\\server\\\\__init__.py\": 1699555033.3977623, \"C:\\\\Users\\\\sghys\\\\miniconda3\\\\envs\\\\ml\\\\Lib\\\\site-packages\\\\debugpy\\\\adapter\\\\__init__.py\": 1699555033.3977623, \"C:\\\\Users\\\\sghys\\\\miniconda3\\\\envs\\\\ml\\\\Lib\\\\site-packages\\\\debugpy\\\\common\\\\__init__.py\": 1699555033.3977623, \"C:\\\\Users\\\\sghys\\\\miniconda3\\\\envs\\\\ml\\\\Lib\\\\site-packages\\\\debugpy\\\\common\\\\json.py\": 1699555033.3977623, \"C:\\\\Users\\\\sghys\\\\miniconda3\\\\envs\\\\ml\\\\Lib\\\\site-packages\\\\debugpy\\\\common\\\\timestamp.py\": 1699555033.3977623, \"C:\\\\Users\\\\sghys\\\\miniconda3\\\\envs\\\\ml\\\\Lib\\\\site-packages\\\\debugpy\\\\common\\\\util.py\": 1699555033.3977623, \"C:\\\\Users\\\\sghys\\\\miniconda3\\\\envs\\\\ml\\\\Lib\\\\site-packages\\\\debugpy\\\\common\\\\log.py\": 1699555033.3977623, \"C:\\\\Users\\\\sghys\\\\miniconda3\\\\envs\\\\ml\\\\Lib\\\\site-packages\\\\debugpy\\\\common\\\\sockets.py\": 1699555033.3977623, \"C:\\\\Users\\\\sghys\\\\miniconda3\\\\envs\\\\ml\\\\Lib\\\\site-packages\\\\debugpy\\\\server\\\\api.py\": 1699555033.413453, \"C:\\\\Users\\\\sghys\\\\miniconda3\\\\envs\\\\ml\\\\Lib\\\\site-packages\\\\ipykernel\\\\debugger.py\": 1705934932.4952164, \"C:\\\\Users\\\\sghys\\\\miniconda3\\\\envs\\\\ml\\\\Lib\\\\site-packages\\\\ipykernel\\\\eventloops.py\": 1705934932.5109825, \"C:\\\\Users\\\\sghys\\\\miniconda3\\\\envs\\\\ml\\\\Lib\\\\site-packages\\\\IPython\\\\core\\\\payloadpage.py\": 1726064883.1497035, \"C:\\\\Users\\\\sghys\\\\miniconda3\\\\envs\\\\ml\\\\Lib\\\\site-packages\\\\ipykernel\\\\displayhook.py\": 1705934932.4952164, \"C:\\\\Users\\\\sghys\\\\miniconda3\\\\envs\\\\ml\\\\Lib\\\\site-packages\\\\ipykernel\\\\zmqshell.py\": 1705934932.5166974, \"C:\\\\Users\\\\sghys\\\\miniconda3\\\\envs\\\\ml\\\\Lib\\\\site-packages\\\\ipykernel\\\\ipkernel.py\": 1705934932.5116293, \"C:\\\\Users\\\\sghys\\\\miniconda3\\\\envs\\\\ml\\\\Lib\\\\site-packages\\\\ipykernel\\\\parentpoller.py\": 1705934932.5166974, \"C:\\\\Users\\\\sghys\\\\miniconda3\\\\envs\\\\ml\\\\Lib\\\\site-packages\\\\ipykernel\\\\kernelapp.py\": 1705934932.5116293, \"C:\\\\Users\\\\sghys\\\\miniconda3\\\\envs\\\\ml\\\\Lib\\\\site-packages\\\\tornado\\\\platform\\\\__init__.py\": 1718740362.4312315, \"C:\\\\Users\\\\sghys\\\\miniconda3\\\\envs\\\\ml\\\\Lib\\\\site-packages\\\\tornado\\\\platform\\\\asyncio.py\": 1718740362.4312315, \"C:\\\\Users\\\\sghys\\\\miniconda3\\\\envs\\\\ml\\\\Lib\\\\site-packages\\\\IPython\\\\core\\\\completerlib.py\": 1726064883.1139994, \"C:\\\\Users\\\\sghys\\\\miniconda3\\\\envs\\\\ml\\\\Lib\\\\site-packages\\\\numpy\\\\_utils\\\\_convertions.py\": 1725139585.777076, \"C:\\\\Users\\\\sghys\\\\miniconda3\\\\envs\\\\ml\\\\Lib\\\\site-packages\\\\numpy\\\\_utils\\\\__init__.py\": 1725139585.7784538, \"C:\\\\Users\\\\sghys\\\\miniconda3\\\\envs\\\\ml\\\\Lib\\\\site-packages\\\\numpy\\\\_globals.py\": 1725139585.4456325, \"C:\\\\Users\\\\sghys\\\\miniconda3\\\\envs\\\\ml\\\\Lib\\\\site-packages\\\\numpy\\\\exceptions.py\": 1725139585.4436233, \"C:\\\\Users\\\\sghys\\\\miniconda3\\\\envs\\\\ml\\\\Lib\\\\site-packages\\\\numpy\\\\version.py\": 1725139585.4446309, \"C:\\\\Users\\\\sghys\\\\miniconda3\\\\envs\\\\ml\\\\Lib\\\\site-packages\\\\numpy\\\\_distributor_init.py\": 1725139585.4456325, \"C:\\\\Users\\\\sghys\\\\miniconda3\\\\envs\\\\ml\\\\Lib\\\\site-packages\\\\numpy\\\\_utils\\\\_inspect.py\": 1725139585.7784538, \"C:\\\\Users\\\\sghys\\\\miniconda3\\\\envs\\\\ml\\\\Lib\\\\site-packages\\\\numpy\\\\core\\\\_exceptions.py\": 1725139585.47653, \"C:\\\\Users\\\\sghys\\\\miniconda3\\\\envs\\\\ml\\\\Lib\\\\site-packages\\\\numpy\\\\dtypes.py\": 1725139585.4436233, \"C:\\\\Users\\\\sghys\\\\miniconda3\\\\envs\\\\ml\\\\Lib\\\\site-packages\\\\numpy\\\\core\\\\_multiarray_umath.cp312-win_amd64.pyd\": 1725139585.488469, \"C:\\\\Users\\\\sghys\\\\miniconda3\\\\envs\\\\ml\\\\Lib\\\\site-packages\\\\numpy\\\\core\\\\overrides.py\": 1725139585.4705234, \"C:\\\\Users\\\\sghys\\\\miniconda3\\\\envs\\\\ml\\\\Lib\\\\site-packages\\\\numpy\\\\core\\\\multiarray.py\": 1725139585.4680884, \"C:\\\\Users\\\\sghys\\\\miniconda3\\\\envs\\\\ml\\\\Lib\\\\site-packages\\\\numpy\\\\core\\\\umath.py\": 1725139585.4725296, \"C:\\\\Users\\\\sghys\\\\miniconda3\\\\envs\\\\ml\\\\Lib\\\\site-packages\\\\numpy\\\\core\\\\_string_helpers.py\": 1725139585.498047, \"C:\\\\Users\\\\sghys\\\\miniconda3\\\\envs\\\\ml\\\\Lib\\\\site-packages\\\\numpy\\\\compat\\\\py3k.py\": 1725139585.459443, \"C:\\\\Users\\\\sghys\\\\miniconda3\\\\envs\\\\ml\\\\Lib\\\\site-packages\\\\numpy\\\\compat\\\\__init__.py\": 1725139585.4604437, \"C:\\\\Users\\\\sghys\\\\miniconda3\\\\envs\\\\ml\\\\Lib\\\\site-packages\\\\numpy\\\\core\\\\_dtype.py\": 1725139585.4755292, \"C:\\\\Users\\\\sghys\\\\miniconda3\\\\envs\\\\ml\\\\Lib\\\\site-packages\\\\numpy\\\\core\\\\_type_aliases.py\": 1725139585.4993906, \"C:\\\\Users\\\\sghys\\\\miniconda3\\\\envs\\\\ml\\\\Lib\\\\site-packages\\\\numpy\\\\core\\\\numerictypes.py\": 1725139585.4690976, \"C:\\\\Users\\\\sghys\\\\miniconda3\\\\envs\\\\ml\\\\Lib\\\\site-packages\\\\numpy\\\\core\\\\_ufunc_config.py\": 1725139585.4993906, \"C:\\\\Users\\\\sghys\\\\miniconda3\\\\envs\\\\ml\\\\Lib\\\\site-packages\\\\numpy\\\\core\\\\_methods.py\": 1725139585.47653, \"C:\\\\Users\\\\sghys\\\\miniconda3\\\\envs\\\\ml\\\\Lib\\\\site-packages\\\\numpy\\\\core\\\\fromnumeric.py\": 1725139585.4654436, \"C:\\\\Users\\\\sghys\\\\miniconda3\\\\envs\\\\ml\\\\Lib\\\\site-packages\\\\numpy\\\\core\\\\shape_base.py\": 1725139585.4725296, \"C:\\\\Users\\\\sghys\\\\miniconda3\\\\envs\\\\ml\\\\Lib\\\\site-packages\\\\numpy\\\\core\\\\arrayprint.py\": 1725139585.461443, \"C:\\\\Users\\\\sghys\\\\miniconda3\\\\envs\\\\ml\\\\Lib\\\\site-packages\\\\numpy\\\\core\\\\_asarray.py\": 1725139585.4745293, \"C:\\\\Users\\\\sghys\\\\miniconda3\\\\envs\\\\ml\\\\Lib\\\\site-packages\\\\numpy\\\\core\\\\numeric.py\": 1725139585.4690976, \"C:\\\\Users\\\\sghys\\\\miniconda3\\\\envs\\\\ml\\\\Lib\\\\site-packages\\\\numpy\\\\core\\\\defchararray.py\": 1725139585.4634433, \"C:\\\\Users\\\\sghys\\\\miniconda3\\\\envs\\\\ml\\\\Lib\\\\site-packages\\\\numpy\\\\core\\\\records.py\": 1725139585.4715302, \"C:\\\\Users\\\\sghys\\\\miniconda3\\\\envs\\\\ml\\\\Lib\\\\site-packages\\\\numpy\\\\core\\\\memmap.py\": 1725139585.4680884, \"C:\\\\Users\\\\sghys\\\\miniconda3\\\\envs\\\\ml\\\\Lib\\\\site-packages\\\\numpy\\\\core\\\\function_base.py\": 1725139585.4667318, \"C:\\\\Users\\\\sghys\\\\miniconda3\\\\envs\\\\ml\\\\Lib\\\\site-packages\\\\numpy\\\\core\\\\_machar.py\": 1725139585.47653, \"C:\\\\Users\\\\sghys\\\\miniconda3\\\\envs\\\\ml\\\\Lib\\\\site-packages\\\\numpy\\\\core\\\\getlimits.py\": 1725139585.4667318, \"C:\\\\Users\\\\sghys\\\\miniconda3\\\\envs\\\\ml\\\\Lib\\\\site-packages\\\\numpy\\\\core\\\\einsumfunc.py\": 1725139585.4634433, \"C:\\\\Users\\\\sghys\\\\miniconda3\\\\envs\\\\ml\\\\Lib\\\\site-packages\\\\numpy\\\\core\\\\_multiarray_tests.cp312-win_amd64.pyd\": 1725139585.477993, \"C:\\\\Users\\\\sghys\\\\miniconda3\\\\envs\\\\ml\\\\Lib\\\\site-packages\\\\numpy\\\\core\\\\_add_newdocs.py\": 1725139585.4735289, \"C:\\\\Users\\\\sghys\\\\miniconda3\\\\envs\\\\ml\\\\Lib\\\\site-packages\\\\numpy\\\\core\\\\_add_newdocs_scalars.py\": 1725139585.4745293, \"C:\\\\Users\\\\sghys\\\\miniconda3\\\\envs\\\\ml\\\\Lib\\\\site-packages\\\\numpy\\\\core\\\\_dtype_ctypes.py\": 1725139585.4755292, \"C:\\\\Users\\\\sghys\\\\miniconda3\\\\envs\\\\ml\\\\Lib\\\\site-packages\\\\numpy\\\\core\\\\_internal.py\": 1725139585.47653, \"C:\\\\Users\\\\sghys\\\\miniconda3\\\\envs\\\\ml\\\\Lib\\\\site-packages\\\\numpy\\\\_pytesttester.py\": 1725139585.4456325, \"C:\\\\Users\\\\sghys\\\\miniconda3\\\\envs\\\\ml\\\\Lib\\\\site-packages\\\\numpy\\\\core\\\\__init__.py\": 1725139585.5019965, \"C:\\\\Users\\\\sghys\\\\miniconda3\\\\envs\\\\ml\\\\Lib\\\\site-packages\\\\numpy\\\\__config__.py\": 1725139585.4470172, \"C:\\\\Users\\\\sghys\\\\miniconda3\\\\envs\\\\ml\\\\Lib\\\\site-packages\\\\numpy\\\\lib\\\\mixins.py\": 1725139585.6236768, \"C:\\\\Users\\\\sghys\\\\miniconda3\\\\envs\\\\ml\\\\Lib\\\\site-packages\\\\numpy\\\\lib\\\\ufunclike.py\": 1725139585.631989, \"C:\\\\Users\\\\sghys\\\\miniconda3\\\\envs\\\\ml\\\\Lib\\\\site-packages\\\\numpy\\\\lib\\\\type_check.py\": 1725139585.6306472, \"C:\\\\Users\\\\sghys\\\\miniconda3\\\\envs\\\\ml\\\\Lib\\\\site-packages\\\\numpy\\\\lib\\\\scimath.py\": 1725139585.6276424, \"C:\\\\Users\\\\sghys\\\\miniconda3\\\\envs\\\\ml\\\\Lib\\\\site-packages\\\\numpy\\\\lib\\\\stride_tricks.py\": 1725139585.6296475, \"C:\\\\Users\\\\sghys\\\\miniconda3\\\\envs\\\\ml\\\\Lib\\\\site-packages\\\\numpy\\\\lib\\\\twodim_base.py\": 1725139585.6296475, \"C:\\\\Users\\\\sghys\\\\miniconda3\\\\envs\\\\ml\\\\Lib\\\\site-packages\\\\numpy\\\\linalg\\\\_umath_linalg.cp312-win_amd64.pyd\": 1725139585.6488204, \"C:\\\\Users\\\\sghys\\\\miniconda3\\\\envs\\\\ml\\\\Lib\\\\site-packages\\\\numpy\\\\_typing\\\\_nested_sequence.py\": 1725139585.775994, \"C:\\\\Users\\\\sghys\\\\miniconda3\\\\envs\\\\ml\\\\Lib\\\\site-packages\\\\numpy\\\\_typing\\\\_nbit.py\": 1725139585.775994, \"C:\\\\Users\\\\sghys\\\\miniconda3\\\\envs\\\\ml\\\\Lib\\\\site-packages\\\\numpy\\\\_typing\\\\_char_codes.py\": 1725139585.774553, \"C:\\\\Users\\\\sghys\\\\miniconda3\\\\envs\\\\ml\\\\Lib\\\\site-packages\\\\numpy\\\\_typing\\\\_scalars.py\": 1725139585.775994, \"C:\\\\Users\\\\sghys\\\\miniconda3\\\\envs\\\\ml\\\\Lib\\\\site-packages\\\\numpy\\\\_typing\\\\_shape.py\": 1725139585.777076, \"C:\\\\Users\\\\sghys\\\\miniconda3\\\\envs\\\\ml\\\\Lib\\\\site-packages\\\\numpy\\\\_typing\\\\_dtype_like.py\": 1725139585.774553, \"C:\\\\Users\\\\sghys\\\\miniconda3\\\\envs\\\\ml\\\\Lib\\\\site-packages\\\\numpy\\\\_typing\\\\_array_like.py\": 1725139585.7735524, \"C:\\\\Users\\\\sghys\\\\miniconda3\\\\envs\\\\ml\\\\Lib\\\\site-packages\\\\numpy\\\\_typing\\\\__init__.py\": 1725139585.777076, \"C:\\\\Users\\\\sghys\\\\miniconda3\\\\envs\\\\ml\\\\Lib\\\\site-packages\\\\numpy\\\\linalg\\\\linalg.py\": 1725139585.647815, \"C:\\\\Users\\\\sghys\\\\miniconda3\\\\envs\\\\ml\\\\Lib\\\\site-packages\\\\numpy\\\\linalg\\\\__init__.py\": 1725139585.650014, \"C:\\\\Users\\\\sghys\\\\miniconda3\\\\envs\\\\ml\\\\Lib\\\\site-packages\\\\numpy\\\\matrixlib\\\\defmatrix.py\": 1725139585.6601784, \"C:\\\\Users\\\\sghys\\\\miniconda3\\\\envs\\\\ml\\\\Lib\\\\site-packages\\\\numpy\\\\matrixlib\\\\__init__.py\": 1725139585.6615453, \"C:\\\\Users\\\\sghys\\\\miniconda3\\\\envs\\\\ml\\\\Lib\\\\site-packages\\\\numpy\\\\lib\\\\histograms.py\": 1725139585.6222632, \"C:\\\\Users\\\\sghys\\\\miniconda3\\\\envs\\\\ml\\\\Lib\\\\site-packages\\\\numpy\\\\lib\\\\function_base.py\": 1725139585.6211896, \"C:\\\\Users\\\\sghys\\\\miniconda3\\\\envs\\\\ml\\\\Lib\\\\site-packages\\\\numpy\\\\lib\\\\index_tricks.py\": 1725139585.6222632, \"C:\\\\Users\\\\sghys\\\\miniconda3\\\\envs\\\\ml\\\\Lib\\\\site-packages\\\\numpy\\\\lib\\\\nanfunctions.py\": 1725139585.6236768, \"C:\\\\Users\\\\sghys\\\\miniconda3\\\\envs\\\\ml\\\\Lib\\\\site-packages\\\\numpy\\\\lib\\\\shape_base.py\": 1725139585.6286478, \"C:\\\\Users\\\\sghys\\\\miniconda3\\\\envs\\\\ml\\\\Lib\\\\site-packages\\\\numpy\\\\lib\\\\polynomial.py\": 1725139585.6266365, \"C:\\\\Users\\\\sghys\\\\miniconda3\\\\envs\\\\ml\\\\Lib\\\\site-packages\\\\numpy\\\\lib\\\\utils.py\": 1725139585.631989, \"C:\\\\Users\\\\sghys\\\\miniconda3\\\\envs\\\\ml\\\\Lib\\\\site-packages\\\\numpy\\\\lib\\\\arraysetops.py\": 1725139585.6187, \"C:\\\\Users\\\\sghys\\\\miniconda3\\\\envs\\\\ml\\\\Lib\\\\site-packages\\\\numpy\\\\lib\\\\format.py\": 1725139585.6196997, \"C:\\\\Users\\\\sghys\\\\miniconda3\\\\envs\\\\ml\\\\Lib\\\\site-packages\\\\numpy\\\\lib\\\\_datasource.py\": 1725139585.6333077, \"C:\\\\Users\\\\sghys\\\\miniconda3\\\\envs\\\\ml\\\\Lib\\\\site-packages\\\\numpy\\\\lib\\\\_iotools.py\": 1725139585.6333077, \"C:\\\\Users\\\\sghys\\\\miniconda3\\\\envs\\\\ml\\\\Lib\\\\site-packages\\\\numpy\\\\lib\\\\npyio.py\": 1725139585.6251445, \"C:\\\\Users\\\\sghys\\\\miniconda3\\\\envs\\\\ml\\\\Lib\\\\site-packages\\\\numpy\\\\lib\\\\arrayterator.py\": 1725139585.6196997, \"C:\\\\Users\\\\sghys\\\\miniconda3\\\\envs\\\\ml\\\\Lib\\\\site-packages\\\\numpy\\\\lib\\\\arraypad.py\": 1725139585.6187, \"C:\\\\Users\\\\sghys\\\\miniconda3\\\\envs\\\\ml\\\\Lib\\\\site-packages\\\\numpy\\\\lib\\\\_version.py\": 1725139585.6333077, \"C:\\\\Users\\\\sghys\\\\miniconda3\\\\envs\\\\ml\\\\Lib\\\\site-packages\\\\numpy\\\\lib\\\\__init__.py\": 1725139585.6347954, \"C:\\\\Users\\\\sghys\\\\miniconda3\\\\envs\\\\ml\\\\Lib\\\\site-packages\\\\numpy\\\\fft\\\\_pocketfft_internal.cp312-win_amd64.pyd\": 1725139585.616694, \"C:\\\\Users\\\\sghys\\\\miniconda3\\\\envs\\\\ml\\\\Lib\\\\site-packages\\\\numpy\\\\fft\\\\_pocketfft.py\": 1725139585.6141453, \"C:\\\\Users\\\\sghys\\\\miniconda3\\\\envs\\\\ml\\\\Lib\\\\site-packages\\\\numpy\\\\fft\\\\helper.py\": 1725139585.6141453, \"C:\\\\Users\\\\sghys\\\\miniconda3\\\\envs\\\\ml\\\\Lib\\\\site-packages\\\\numpy\\\\fft\\\\__init__.py\": 1725139585.616694, \"C:\\\\Users\\\\sghys\\\\miniconda3\\\\envs\\\\ml\\\\Lib\\\\site-packages\\\\numpy\\\\polynomial\\\\polyutils.py\": 1725139585.6701262, \"C:\\\\Users\\\\sghys\\\\miniconda3\\\\envs\\\\ml\\\\Lib\\\\site-packages\\\\numpy\\\\polynomial\\\\_polybase.py\": 1725139585.6701262, \"C:\\\\Users\\\\sghys\\\\miniconda3\\\\envs\\\\ml\\\\Lib\\\\site-packages\\\\numpy\\\\polynomial\\\\polynomial.py\": 1725139585.6687868, \"C:\\\\Users\\\\sghys\\\\miniconda3\\\\envs\\\\ml\\\\Lib\\\\site-packages\\\\numpy\\\\polynomial\\\\chebyshev.py\": 1725139585.6652083, \"C:\\\\Users\\\\sghys\\\\miniconda3\\\\envs\\\\ml\\\\Lib\\\\site-packages\\\\numpy\\\\polynomial\\\\legendre.py\": 1725139585.6687868, \"C:\\\\Users\\\\sghys\\\\miniconda3\\\\envs\\\\ml\\\\Lib\\\\site-packages\\\\numpy\\\\polynomial\\\\hermite.py\": 1725139585.6652083, \"C:\\\\Users\\\\sghys\\\\miniconda3\\\\envs\\\\ml\\\\Lib\\\\site-packages\\\\numpy\\\\polynomial\\\\hermite_e.py\": 1725139585.666489, \"C:\\\\Users\\\\sghys\\\\miniconda3\\\\envs\\\\ml\\\\Lib\\\\site-packages\\\\numpy\\\\polynomial\\\\laguerre.py\": 1725139585.667494, \"C:\\\\Users\\\\sghys\\\\miniconda3\\\\envs\\\\ml\\\\Lib\\\\site-packages\\\\numpy\\\\polynomial\\\\__init__.py\": 1725139585.671306, \"C:\\\\Users\\\\sghys\\\\miniconda3\\\\envs\\\\ml\\\\Lib\\\\site-packages\\\\numpy\\\\random\\\\_common.cp312-win_amd64.pyd\": 1725139585.683843, \"C:\\\\Users\\\\sghys\\\\miniconda3\\\\envs\\\\ml\\\\Lib\\\\secrets.py\": 1717698404.0, \"C:\\\\Users\\\\sghys\\\\miniconda3\\\\envs\\\\ml\\\\Lib\\\\site-packages\\\\numpy\\\\random\\\\bit_generator.cp312-win_amd64.pyd\": 1725139585.6767, \"C:\\\\Users\\\\sghys\\\\miniconda3\\\\envs\\\\ml\\\\Lib\\\\site-packages\\\\numpy\\\\random\\\\_bounded_integers.cp312-win_amd64.pyd\": 1725139585.6827526, \"C:\\\\Users\\\\sghys\\\\miniconda3\\\\envs\\\\ml\\\\Lib\\\\site-packages\\\\numpy\\\\random\\\\_mt19937.cp312-win_amd64.pyd\": 1725139585.6898425, \"C:\\\\Users\\\\sghys\\\\miniconda3\\\\envs\\\\ml\\\\Lib\\\\site-packages\\\\numpy\\\\random\\\\mtrand.cp312-win_amd64.pyd\": 1725139585.680282, \"C:\\\\Users\\\\sghys\\\\miniconda3\\\\envs\\\\ml\\\\Lib\\\\site-packages\\\\numpy\\\\random\\\\_philox.cp312-win_amd64.pyd\": 1725139585.691843, \"C:\\\\Users\\\\sghys\\\\miniconda3\\\\envs\\\\ml\\\\Lib\\\\site-packages\\\\numpy\\\\random\\\\_pcg64.cp312-win_amd64.pyd\": 1725139585.690843, \"C:\\\\Users\\\\sghys\\\\miniconda3\\\\envs\\\\ml\\\\Lib\\\\site-packages\\\\numpy\\\\random\\\\_sfc64.cp312-win_amd64.pyd\": 1725139585.6942408, \"C:\\\\Users\\\\sghys\\\\miniconda3\\\\envs\\\\ml\\\\Lib\\\\site-packages\\\\numpy\\\\random\\\\_generator.cp312-win_amd64.pyd\": 1725139585.6878464, \"C:\\\\Users\\\\sghys\\\\miniconda3\\\\envs\\\\ml\\\\Lib\\\\site-packages\\\\numpy\\\\random\\\\_pickle.py\": 1725139585.6928425, \"C:\\\\Users\\\\sghys\\\\miniconda3\\\\envs\\\\ml\\\\Lib\\\\site-packages\\\\numpy\\\\random\\\\__init__.py\": 1725139585.6942408, \"C:\\\\Users\\\\sghys\\\\miniconda3\\\\envs\\\\ml\\\\Lib\\\\site-packages\\\\numpy\\\\ctypeslib.py\": 1725139585.4421124, \"C:\\\\Users\\\\sghys\\\\miniconda3\\\\envs\\\\ml\\\\Lib\\\\site-packages\\\\numpy\\\\ma\\\\core.py\": 1725139585.6534493, \"C:\\\\Users\\\\sghys\\\\miniconda3\\\\envs\\\\ml\\\\Lib\\\\site-packages\\\\numpy\\\\ma\\\\extras.py\": 1725139585.6534493, \"C:\\\\Users\\\\sghys\\\\miniconda3\\\\envs\\\\ml\\\\Lib\\\\site-packages\\\\numpy\\\\ma\\\\__init__.py\": 1725139585.6568809, \"C:\\\\Users\\\\sghys\\\\miniconda3\\\\envs\\\\ml\\\\Lib\\\\site-packages\\\\numpy\\\\__init__.py\": 1725139585.4470172, \"C:\\\\Users\\\\sghys\\\\miniconda3\\\\envs\\\\ml\\\\Lib\\\\site-packages\\\\matplotlib\\\\_api\\\\deprecation.py\": 1725139590.114541, \"C:\\\\Users\\\\sghys\\\\miniconda3\\\\envs\\\\ml\\\\Lib\\\\site-packages\\\\matplotlib\\\\_api\\\\__init__.py\": 1725139590.114541, \"C:\\\\Users\\\\sghys\\\\miniconda3\\\\envs\\\\ml\\\\Lib\\\\site-packages\\\\matplotlib\\\\_version.py\": 1725139589.9524999, \"C:\\\\Users\\\\sghys\\\\miniconda3\\\\envs\\\\ml\\\\Lib\\\\site-packages\\\\matplotlib\\\\_c_internal_utils.cp312-win_amd64.pyd\": 1725139589.9407628, \"C:\\\\Users\\\\sghys\\\\miniconda3\\\\envs\\\\ml\\\\Lib\\\\site-packages\\\\matplotlib\\\\cbook\\\\__init__.py\": 1725139589.9784973, \"C:\\\\Users\\\\sghys\\\\miniconda3\\\\envs\\\\ml\\\\Lib\\\\site-packages\\\\matplotlib\\\\_docstring.py\": 1725139589.9407628, \"C:\\\\Users\\\\sghys\\\\miniconda3\\\\envs\\\\ml\\\\Lib\\\\site-packages\\\\PIL\\\\_version.py\": 1725137720.9099002, \"C:\\\\Users\\\\sghys\\\\miniconda3\\\\envs\\\\ml\\\\Lib\\\\site-packages\\\\PIL\\\\__init__.py\": 1725137720.8874009, \"C:\\\\Users\\\\sghys\\\\miniconda3\\\\envs\\\\ml\\\\Lib\\\\site-packages\\\\PIL\\\\ExifTags.py\": 1725137720.8624852, \"C:\\\\Users\\\\sghys\\\\miniconda3\\\\envs\\\\ml\\\\Lib\\\\site-packages\\\\PIL\\\\_deprecate.py\": 1725137720.88886, \"C:\\\\Users\\\\sghys\\\\miniconda3\\\\envs\\\\ml\\\\Lib\\\\site-packages\\\\PIL\\\\ImageMode.py\": 1725137720.872525, \"C:\\\\Users\\\\sghys\\\\miniconda3\\\\envs\\\\ml\\\\Lib\\\\site-packages\\\\PIL\\\\TiffTags.py\": 1725137720.8851566, \"C:\\\\Users\\\\sghys\\\\miniconda3\\\\envs\\\\ml\\\\Lib\\\\site-packages\\\\PIL\\\\_binary.py\": 1725137720.88886, \"C:\\\\Users\\\\sghys\\\\miniconda3\\\\envs\\\\ml\\\\Lib\\\\site-packages\\\\numpy\\\\_typing\\\\_add_docstring.py\": 1725139585.7735524, \"C:\\\\Users\\\\sghys\\\\miniconda3\\\\envs\\\\ml\\\\Lib\\\\site-packages\\\\numpy\\\\typing\\\\__init__.py\": 1725139585.7204924, \"C:\\\\Users\\\\sghys\\\\miniconda3\\\\envs\\\\ml\\\\Lib\\\\site-packages\\\\PIL\\\\_typing.py\": 1725137720.9099002, \"C:\\\\Users\\\\sghys\\\\miniconda3\\\\envs\\\\ml\\\\Lib\\\\site-packages\\\\PIL\\\\_util.py\": 1725137720.9099002, \"C:\\\\Users\\\\sghys\\\\miniconda3\\\\envs\\\\ml\\\\Lib\\\\site-packages\\\\defusedxml\\\\common.py\": 1615228157.0, \"C:\\\\Users\\\\sghys\\\\miniconda3\\\\envs\\\\ml\\\\Lib\\\\site-packages\\\\defusedxml\\\\__init__.py\": 1615228157.0, \"C:\\\\Users\\\\sghys\\\\miniconda3\\\\envs\\\\ml\\\\Lib\\\\xml\\\\etree\\\\__init__.py\": 1717698404.0, \"C:\\\\Users\\\\sghys\\\\miniconda3\\\\envs\\\\ml\\\\Lib\\\\xml\\\\etree\\\\ElementPath.py\": 1717698404.0, \"C:\\\\Users\\\\sghys\\\\miniconda3\\\\envs\\\\ml\\\\DLLs\\\\_elementtree.pyd\": 1718723622.8222737, \"C:\\\\Users\\\\sghys\\\\miniconda3\\\\envs\\\\ml\\\\Lib\\\\xml\\\\etree\\\\ElementTree.py\": 1717698404.0, \"C:\\\\Users\\\\sghys\\\\miniconda3\\\\envs\\\\ml\\\\Lib\\\\site-packages\\\\defusedxml\\\\ElementTree.py\": 1615228157.0, \"C:\\\\Users\\\\sghys\\\\miniconda3\\\\envs\\\\ml\\\\Lib\\\\site-packages\\\\PIL\\\\_imaging.cp312-win_amd64.pyd\": 1725137720.8968894, \"C:\\\\Users\\\\sghys\\\\miniconda3\\\\envs\\\\ml\\\\Lib\\\\site-packages\\\\cffi\\\\lock.py\": 1726856664.0144067, \"C:\\\\Users\\\\sghys\\\\miniconda3\\\\envs\\\\ml\\\\Lib\\\\site-packages\\\\cffi\\\\error.py\": 1726856664.0144067, \"C:\\\\Users\\\\sghys\\\\miniconda3\\\\envs\\\\ml\\\\Lib\\\\site-packages\\\\cffi\\\\model.py\": 1726856664.0144067, \"C:\\\\Users\\\\sghys\\\\miniconda3\\\\envs\\\\ml\\\\Lib\\\\site-packages\\\\cffi\\\\api.py\": 1726856664.0144067, \"C:\\\\Users\\\\sghys\\\\miniconda3\\\\envs\\\\ml\\\\Lib\\\\site-packages\\\\cffi\\\\__init__.py\": 1726856663.9987838, \"C:\\\\Users\\\\sghys\\\\miniconda3\\\\envs\\\\ml\\\\Lib\\\\site-packages\\\\PIL\\\\Image.py\": 1725137720.8681502, \"C:\\\\Users\\\\sghys\\\\miniconda3\\\\envs\\\\ml\\\\Lib\\\\site-packages\\\\PIL\\\\ImageChops.py\": 1725137720.8681502, \"C:\\\\Users\\\\sghys\\\\miniconda3\\\\envs\\\\ml\\\\Lib\\\\site-packages\\\\PIL\\\\ImageFile.py\": 1725137720.8705266, \"C:\\\\Users\\\\sghys\\\\miniconda3\\\\envs\\\\ml\\\\Lib\\\\site-packages\\\\PIL\\\\GimpGradientFile.py\": 1725137720.8654854, \"C:\\\\Users\\\\sghys\\\\miniconda3\\\\envs\\\\ml\\\\Lib\\\\site-packages\\\\PIL\\\\GimpPaletteFile.py\": 1725137720.8654854, \"C:\\\\Users\\\\sghys\\\\miniconda3\\\\envs\\\\ml\\\\Lib\\\\site-packages\\\\PIL\\\\ImageColor.py\": 1725137720.8695061, \"C:\\\\Users\\\\sghys\\\\miniconda3\\\\envs\\\\ml\\\\Lib\\\\site-packages\\\\PIL\\\\PaletteFile.py\": 1725137720.87955, \"C:\\\\Users\\\\sghys\\\\miniconda3\\\\envs\\\\ml\\\\Lib\\\\site-packages\\\\PIL\\\\ImagePalette.py\": 1725137720.8737416, \"C:\\\\Users\\\\sghys\\\\miniconda3\\\\envs\\\\ml\\\\Lib\\\\site-packages\\\\PIL\\\\ImageSequence.py\": 1725137720.8747706, \"C:\\\\Users\\\\sghys\\\\miniconda3\\\\envs\\\\ml\\\\Lib\\\\site-packages\\\\PIL\\\\PngImagePlugin.py\": 1725137720.882147, \"C:\\\\Users\\\\sghys\\\\miniconda3\\\\envs\\\\ml\\\\Lib\\\\site-packages\\\\matplotlib\\\\_cm.py\": 1725139589.938763, \"C:\\\\Users\\\\sghys\\\\miniconda3\\\\envs\\\\ml\\\\Lib\\\\site-packages\\\\matplotlib\\\\_path.cp312-win_amd64.pyd\": 1725139589.9454925, \"C:\\\\Users\\\\sghys\\\\miniconda3\\\\envs\\\\ml\\\\Lib\\\\site-packages\\\\matplotlib\\\\bezier.py\": 1725139589.9133718, \"C:\\\\Users\\\\sghys\\\\miniconda3\\\\envs\\\\ml\\\\Lib\\\\site-packages\\\\matplotlib\\\\path.py\": 1725139589.92847, \"C:\\\\Users\\\\sghys\\\\miniconda3\\\\envs\\\\ml\\\\Lib\\\\site-packages\\\\matplotlib\\\\transforms.py\": 1725139589.9357665, \"C:\\\\Users\\\\sghys\\\\miniconda3\\\\envs\\\\ml\\\\Lib\\\\site-packages\\\\matplotlib\\\\ticker.py\": 1725139589.9347606, \"C:\\\\Users\\\\sghys\\\\miniconda3\\\\envs\\\\ml\\\\Lib\\\\site-packages\\\\matplotlib\\\\scale.py\": 1725139589.9317608, \"C:\\\\Users\\\\sghys\\\\miniconda3\\\\envs\\\\ml\\\\Lib\\\\site-packages\\\\matplotlib\\\\_color_data.py\": 1725139589.9397645, \"C:\\\\Users\\\\sghys\\\\miniconda3\\\\envs\\\\ml\\\\Lib\\\\site-packages\\\\matplotlib\\\\colors.py\": 1725139589.915371, \"C:\\\\Users\\\\sghys\\\\miniconda3\\\\envs\\\\ml\\\\Lib\\\\site-packages\\\\pyparsing\\\\util.py\": 1725137719.2080383, \"C:\\\\Users\\\\sghys\\\\miniconda3\\\\envs\\\\ml\\\\Lib\\\\site-packages\\\\pyparsing\\\\unicode.py\": 1725137719.2080383, \"C:\\\\Users\\\\sghys\\\\miniconda3\\\\envs\\\\ml\\\\Lib\\\\site-packages\\\\pyparsing\\\\exceptions.py\": 1725137719.206035, \"C:\\\\Users\\\\sghys\\\\miniconda3\\\\envs\\\\ml\\\\Lib\\\\site-packages\\\\pyparsing\\\\actions.py\": 1725137719.204035, \"C:\\\\Users\\\\sghys\\\\miniconda3\\\\envs\\\\ml\\\\Lib\\\\site-packages\\\\pyparsing\\\\results.py\": 1725137719.207037, \"C:\\\\Users\\\\sghys\\\\miniconda3\\\\envs\\\\ml\\\\Lib\\\\site-packages\\\\pyparsing\\\\core.py\": 1725137719.2050357, \"C:\\\\Users\\\\sghys\\\\miniconda3\\\\envs\\\\ml\\\\Lib\\\\site-packages\\\\pyparsing\\\\helpers.py\": 1725137719.206035, \"C:\\\\Users\\\\sghys\\\\miniconda3\\\\envs\\\\ml\\\\Lib\\\\site-packages\\\\pyparsing\\\\testing.py\": 1725137719.207037, \"C:\\\\Users\\\\sghys\\\\miniconda3\\\\envs\\\\ml\\\\Lib\\\\site-packages\\\\pyparsing\\\\common.py\": 1725137719.204035, \"C:\\\\Users\\\\sghys\\\\miniconda3\\\\envs\\\\ml\\\\Lib\\\\site-packages\\\\pyparsing\\\\__init__.py\": 1725137719.204035, \"C:\\\\Users\\\\sghys\\\\miniconda3\\\\envs\\\\ml\\\\Lib\\\\site-packages\\\\matplotlib\\\\_fontconfig_pattern.py\": 1725139589.941973, \"C:\\\\Users\\\\sghys\\\\miniconda3\\\\envs\\\\ml\\\\Lib\\\\site-packages\\\\matplotlib\\\\_enums.py\": 1725139589.9407628, \"C:\\\\Users\\\\sghys\\\\miniconda3\\\\envs\\\\ml\\\\Lib\\\\site-packages\\\\cycler\\\\__init__.py\": 1725137725.8189797, \"C:\\\\Users\\\\sghys\\\\miniconda3\\\\envs\\\\ml\\\\Lib\\\\site-packages\\\\matplotlib\\\\rcsetup.py\": 1725139589.9307568, \"C:\\\\Users\\\\sghys\\\\miniconda3\\\\envs\\\\ml\\\\Lib\\\\site-packages\\\\matplotlib\\\\ft2font.cp312-win_amd64.pyd\": 1725139589.9224684, \"C:\\\\Users\\\\sghys\\\\miniconda3\\\\envs\\\\ml\\\\Lib\\\\site-packages\\\\kiwisolver\\\\exceptions.py\": 1725137723.519051, \"C:\\\\Users\\\\sghys\\\\miniconda3\\\\envs\\\\ml\\\\Lib\\\\site-packages\\\\kiwisolver\\\\_cext.cp312-win_amd64.pyd\": 1725137723.5180514, \"C:\\\\Users\\\\sghys\\\\miniconda3\\\\envs\\\\ml\\\\Lib\\\\site-packages\\\\kiwisolver\\\\__init__.py\": 1725137723.5180514, \"C:\\\\Users\\\\sghys\\\\miniconda3\\\\envs\\\\ml\\\\Lib\\\\site-packages\\\\matplotlib\\\\_cm_listed.py\": 1725139589.9397645, \"C:\\\\Users\\\\sghys\\\\miniconda3\\\\envs\\\\ml\\\\Lib\\\\site-packages\\\\matplotlib\\\\cm.py\": 1725139589.9133718, \"C:\\\\Users\\\\sghys\\\\miniconda3\\\\envs\\\\ml\\\\Lib\\\\site-packages\\\\matplotlib\\\\__init__.py\": 1725139589.9535, \"C:\\\\Users\\\\sghys\\\\miniconda3\\\\envs\\\\ml\\\\Lib\\\\site-packages\\\\matplotlib\\\\artist.py\": 1725139589.9103687, \"C:\\\\Users\\\\sghys\\\\miniconda3\\\\envs\\\\ml\\\\Lib\\\\site-packages\\\\matplotlib\\\\hatch.py\": 1725139589.9234688, \"C:\\\\Users\\\\sghys\\\\miniconda3\\\\envs\\\\ml\\\\Lib\\\\site-packages\\\\matplotlib\\\\markers.py\": 1725139589.9264693, \"C:\\\\Users\\\\sghys\\\\miniconda3\\\\envs\\\\ml\\\\Lib\\\\site-packages\\\\matplotlib\\\\lines.py\": 1725139589.9264693, \"C:\\\\Users\\\\sghys\\\\miniconda3\\\\envs\\\\ml\\\\Lib\\\\site-packages\\\\matplotlib\\\\collections.py\": 1725139589.9143715, \"C:\\\\Users\\\\sghys\\\\miniconda3\\\\envs\\\\ml\\\\Lib\\\\site-packages\\\\matplotlib\\\\_pylab_helpers.py\": 1725139589.9454925, \"C:\\\\Users\\\\sghys\\\\miniconda3\\\\envs\\\\ml\\\\Lib\\\\site-packages\\\\matplotlib\\\\backend_tools.py\": 1725139589.9123728, \"C:\\\\Users\\\\sghys\\\\miniconda3\\\\envs\\\\ml\\\\Lib\\\\site-packages\\\\matplotlib\\\\_mathtext_data.py\": 1725139589.9439838, \"C:\\\\Users\\\\sghys\\\\miniconda3\\\\envs\\\\ml\\\\Lib\\\\site-packages\\\\matplotlib\\\\_afm.py\": 1725139589.9377642, \"C:\\\\Users\\\\sghys\\\\miniconda3\\\\envs\\\\ml\\\\Lib\\\\site-packages\\\\matplotlib\\\\font_manager.py\": 1725139589.9194765, \"C:\\\\Users\\\\sghys\\\\miniconda3\\\\envs\\\\ml\\\\Lib\\\\site-packages\\\\matplotlib\\\\patches.py\": 1725139589.92847, \"C:\\\\Users\\\\sghys\\\\miniconda3\\\\envs\\\\ml\\\\Lib\\\\site-packages\\\\matplotlib\\\\_text_helpers.py\": 1725139589.9485006, \"C:\\\\Users\\\\sghys\\\\miniconda3\\\\envs\\\\ml\\\\Lib\\\\site-packages\\\\matplotlib\\\\dviread.py\": 1725139589.9173717, \"C:\\\\Users\\\\sghys\\\\miniconda3\\\\envs\\\\ml\\\\Lib\\\\site-packages\\\\matplotlib\\\\_mathtext.py\": 1725139589.9439838, \"C:\\\\Users\\\\sghys\\\\miniconda3\\\\envs\\\\ml\\\\Lib\\\\site-packages\\\\matplotlib\\\\mathtext.py\": 1725139589.9264693, \"C:\\\\Users\\\\sghys\\\\miniconda3\\\\envs\\\\ml\\\\Lib\\\\site-packages\\\\matplotlib\\\\texmanager.py\": 1725139589.9337628, \"C:\\\\Users\\\\sghys\\\\miniconda3\\\\envs\\\\ml\\\\Lib\\\\site-packages\\\\matplotlib\\\\textpath.py\": 1725139589.9347606, \"C:\\\\Users\\\\sghys\\\\miniconda3\\\\envs\\\\ml\\\\Lib\\\\site-packages\\\\matplotlib\\\\text.py\": 1725139589.9337628, \"C:\\\\Users\\\\sghys\\\\miniconda3\\\\envs\\\\ml\\\\Lib\\\\site-packages\\\\matplotlib\\\\_tight_bbox.py\": 1725139589.9485006, \"C:\\\\Users\\\\sghys\\\\miniconda3\\\\envs\\\\ml\\\\Lib\\\\site-packages\\\\matplotlib\\\\widgets.py\": 1725139589.9377642, \"C:\\\\Users\\\\sghys\\\\miniconda3\\\\envs\\\\ml\\\\Lib\\\\site-packages\\\\matplotlib\\\\backend_managers.py\": 1725139589.9123728, \"C:\\\\Users\\\\sghys\\\\miniconda3\\\\envs\\\\ml\\\\Lib\\\\site-packages\\\\matplotlib\\\\backend_bases.py\": 1725139589.911367, \"C:\\\\Users\\\\sghys\\\\miniconda3\\\\envs\\\\ml\\\\Lib\\\\site-packages\\\\matplotlib\\\\contour.py\": 1725139589.916375, \"C:\\\\Users\\\\sghys\\\\miniconda3\\\\envs\\\\ml\\\\Lib\\\\site-packages\\\\matplotlib\\\\spines.py\": 1725139589.9317608, \"C:\\\\Users\\\\sghys\\\\miniconda3\\\\envs\\\\ml\\\\Lib\\\\site-packages\\\\matplotlib\\\\colorbar.py\": 1725139589.915371, \"C:\\\\Users\\\\sghys\\\\miniconda3\\\\envs\\\\ml\\\\Lib\\\\site-packages\\\\matplotlib\\\\_image.cp312-win_amd64.pyd\": 1725139589.9429848, \"C:\\\\Users\\\\sghys\\\\miniconda3\\\\envs\\\\ml\\\\Lib\\\\site-packages\\\\matplotlib\\\\image.py\": 1725139589.9244728, \"C:\\\\Users\\\\sghys\\\\miniconda3\\\\envs\\\\ml\\\\Lib\\\\site-packages\\\\matplotlib\\\\style\\\\core.py\": 1725139590.070533, \"C:\\\\Users\\\\sghys\\\\miniconda3\\\\envs\\\\ml\\\\Lib\\\\site-packages\\\\matplotlib\\\\style\\\\__init__.py\": 1725139590.070533, \"C:\\\\Users\\\\sghys\\\\miniconda3\\\\envs\\\\ml\\\\Lib\\\\site-packages\\\\matplotlib\\\\_blocking_input.py\": 1725139589.938763, \"C:\\\\Users\\\\sghys\\\\miniconda3\\\\envs\\\\ml\\\\Lib\\\\site-packages\\\\matplotlib\\\\offsetbox.py\": 1725139589.927469, \"C:\\\\Users\\\\sghys\\\\miniconda3\\\\envs\\\\ml\\\\Lib\\\\site-packages\\\\matplotlib\\\\units.py\": 1725139589.9367635, \"C:\\\\Users\\\\sghys\\\\miniconda3\\\\envs\\\\ml\\\\Lib\\\\site-packages\\\\matplotlib\\\\axis.py\": 1725139589.9103687, \"C:\\\\Users\\\\sghys\\\\miniconda3\\\\envs\\\\ml\\\\Lib\\\\site-packages\\\\matplotlib\\\\_tight_layout.py\": 1725139589.9495, \"C:\\\\Users\\\\sghys\\\\miniconda3\\\\envs\\\\ml\\\\Lib\\\\site-packages\\\\matplotlib\\\\gridspec.py\": 1725139589.9234688, \"C:\\\\Users\\\\sghys\\\\miniconda3\\\\envs\\\\ml\\\\Lib\\\\site-packages\\\\matplotlib\\\\table.py\": 1725139589.932762, \"C:\\\\Users\\\\sghys\\\\miniconda3\\\\envs\\\\ml\\\\Lib\\\\site-packages\\\\matplotlib\\\\axes\\\\_base.py\": 1725139589.9555004, \"C:\\\\Users\\\\sghys\\\\miniconda3\\\\envs\\\\ml\\\\Lib\\\\site-packages\\\\matplotlib\\\\category.py\": 1725139589.9133718, \"C:\\\\Users\\\\sghys\\\\miniconda3\\\\envs\\\\ml\\\\Lib\\\\site-packages\\\\dateutil\\\\rrule.py\": 1716495997.962339, \"C:\\\\Users\\\\sghys\\\\miniconda3\\\\envs\\\\ml\\\\Lib\\\\site-packages\\\\matplotlib\\\\dates.py\": 1725139589.916375, \"C:\\\\Users\\\\sghys\\\\miniconda3\\\\envs\\\\ml\\\\Lib\\\\site-packages\\\\matplotlib\\\\container.py\": 1725139589.915371, \"C:\\\\Users\\\\sghys\\\\miniconda3\\\\envs\\\\ml\\\\Lib\\\\site-packages\\\\matplotlib\\\\legend_handler.py\": 1725139589.9254737, \"C:\\\\Users\\\\sghys\\\\miniconda3\\\\envs\\\\ml\\\\Lib\\\\site-packages\\\\matplotlib\\\\legend.py\": 1725139589.9254737, \"C:\\\\Users\\\\sghys\\\\miniconda3\\\\envs\\\\ml\\\\Lib\\\\site-packages\\\\matplotlib\\\\mlab.py\": 1725139589.927469, \"C:\\\\Users\\\\sghys\\\\miniconda3\\\\envs\\\\ml\\\\Lib\\\\site-packages\\\\matplotlib\\\\quiver.py\": 1725139589.9307568, \"C:\\\\Users\\\\sghys\\\\miniconda3\\\\envs\\\\ml\\\\Lib\\\\site-packages\\\\matplotlib\\\\stackplot.py\": 1725139589.932762, \"C:\\\\Users\\\\sghys\\\\miniconda3\\\\envs\\\\ml\\\\Lib\\\\site-packages\\\\matplotlib\\\\streamplot.py\": 1725139589.932762, \"C:\\\\Users\\\\sghys\\\\miniconda3\\\\envs\\\\ml\\\\Lib\\\\site-packages\\\\matplotlib\\\\tri\\\\_triangulation.py\": 1725139590.111543, \"C:\\\\Users\\\\sghys\\\\miniconda3\\\\envs\\\\ml\\\\Lib\\\\site-packages\\\\matplotlib\\\\tri\\\\_tricontour.py\": 1725139590.1125417, \"C:\\\\Users\\\\sghys\\\\miniconda3\\\\envs\\\\ml\\\\Lib\\\\site-packages\\\\matplotlib\\\\tri\\\\_trifinder.py\": 1725139590.1125417, \"C:\\\\Users\\\\sghys\\\\miniconda3\\\\envs\\\\ml\\\\Lib\\\\site-packages\\\\matplotlib\\\\tri\\\\_tritools.py\": 1725139590.1135411, \"C:\\\\Users\\\\sghys\\\\miniconda3\\\\envs\\\\ml\\\\Lib\\\\site-packages\\\\matplotlib\\\\tri\\\\_triinterpolate.py\": 1725139590.1125417, \"C:\\\\Users\\\\sghys\\\\miniconda3\\\\envs\\\\ml\\\\Lib\\\\site-packages\\\\matplotlib\\\\tri\\\\_tripcolor.py\": 1725139590.1135411, \"C:\\\\Users\\\\sghys\\\\miniconda3\\\\envs\\\\ml\\\\Lib\\\\site-packages\\\\matplotlib\\\\tri\\\\_triplot.py\": 1725139590.1135411, \"C:\\\\Users\\\\sghys\\\\miniconda3\\\\envs\\\\ml\\\\Lib\\\\site-packages\\\\matplotlib\\\\tri\\\\_trirefine.py\": 1725139590.1135411, \"C:\\\\Users\\\\sghys\\\\miniconda3\\\\envs\\\\ml\\\\Lib\\\\site-packages\\\\matplotlib\\\\tri\\\\__init__.py\": 1725139590.114541, \"C:\\\\Users\\\\sghys\\\\miniconda3\\\\envs\\\\ml\\\\Lib\\\\site-packages\\\\matplotlib\\\\axes\\\\_secondary_axes.py\": 1725139589.9555004, \"C:\\\\Users\\\\sghys\\\\miniconda3\\\\envs\\\\ml\\\\Lib\\\\site-packages\\\\matplotlib\\\\axes\\\\_axes.py\": 1725139589.9545012, \"C:\\\\Users\\\\sghys\\\\miniconda3\\\\envs\\\\ml\\\\Lib\\\\site-packages\\\\matplotlib\\\\axes\\\\__init__.py\": 1725139589.9555004, \"C:\\\\Users\\\\sghys\\\\miniconda3\\\\envs\\\\ml\\\\Lib\\\\site-packages\\\\matplotlib\\\\projections\\\\geo.py\": 1725139590.0685327, \"C:\\\\Users\\\\sghys\\\\miniconda3\\\\envs\\\\ml\\\\Lib\\\\site-packages\\\\matplotlib\\\\projections\\\\polar.py\": 1725139590.0685327, \"C:\\\\Users\\\\sghys\\\\miniconda3\\\\envs\\\\ml\\\\Lib\\\\site-packages\\\\mpl_toolkits\\\\mplot3d\\\\proj3d.py\": 1725139590.1350548, \"C:\\\\Users\\\\sghys\\\\miniconda3\\\\envs\\\\ml\\\\Lib\\\\site-packages\\\\mpl_toolkits\\\\mplot3d\\\\art3d.py\": 1725139590.134054, \"C:\\\\Users\\\\sghys\\\\miniconda3\\\\envs\\\\ml\\\\Lib\\\\site-packages\\\\mpl_toolkits\\\\mplot3d\\\\axis3d.py\": 1725139590.1350548, \"C:\\\\Users\\\\sghys\\\\miniconda3\\\\envs\\\\ml\\\\Lib\\\\site-packages\\\\mpl_toolkits\\\\mplot3d\\\\axes3d.py\": 1725139590.134054, \"C:\\\\Users\\\\sghys\\\\miniconda3\\\\envs\\\\ml\\\\Lib\\\\site-packages\\\\mpl_toolkits\\\\mplot3d\\\\__init__.py\": 1725139590.1350548, \"C:\\\\Users\\\\sghys\\\\miniconda3\\\\envs\\\\ml\\\\Lib\\\\site-packages\\\\matplotlib\\\\projections\\\\__init__.py\": 1725139590.0685327, \"C:\\\\Users\\\\sghys\\\\miniconda3\\\\envs\\\\ml\\\\Lib\\\\site-packages\\\\matplotlib\\\\_layoutgrid.py\": 1725139589.9439838, \"C:\\\\Users\\\\sghys\\\\miniconda3\\\\envs\\\\ml\\\\Lib\\\\site-packages\\\\matplotlib\\\\_constrained_layout.py\": 1725139589.9407628, \"C:\\\\Users\\\\sghys\\\\miniconda3\\\\envs\\\\ml\\\\Lib\\\\site-packages\\\\matplotlib\\\\layout_engine.py\": 1725139589.9244728, \"C:\\\\Users\\\\sghys\\\\miniconda3\\\\envs\\\\ml\\\\Lib\\\\site-packages\\\\matplotlib\\\\figure.py\": 1725139589.9184623, \"C:\\\\Users\\\\sghys\\\\miniconda3\\\\envs\\\\ml\\\\Lib\\\\site-packages\\\\matplotlib\\\\pyplot.py\": 1725139589.9297502, \"C:\\\\Users\\\\sghys\\\\miniconda3\\\\envs\\\\ml\\\\Lib\\\\site-packages\\\\matplotlib\\\\backends\\\\__init__.py\": 1725139589.9714973, \"C:\\\\Users\\\\sghys\\\\miniconda3\\\\envs\\\\ml\\\\Lib\\\\site-packages\\\\matplotlib\\\\backends\\\\_backend_agg.cp312-win_amd64.pyd\": 1725139589.9685028, \"C:\\\\Users\\\\sghys\\\\miniconda3\\\\envs\\\\ml\\\\Lib\\\\site-packages\\\\matplotlib\\\\backends\\\\backend_agg.py\": 1725139589.956498, \"C:\\\\Users\\\\sghys\\\\miniconda3\\\\envs\\\\ml\\\\Lib\\\\site-packages\\\\IPython\\\\core\\\\pylabtools.py\": 1726064883.1497035, \"C:\\\\Users\\\\sghys\\\\miniconda3\\\\envs\\\\ml\\\\Lib\\\\site-packages\\\\matplotlib_inline\\\\config.py\": 1699484816.6597307, \"C:\\\\Users\\\\sghys\\\\miniconda3\\\\envs\\\\ml\\\\Lib\\\\site-packages\\\\matplotlib_inline\\\\backend_inline.py\": 1699484816.6597307, \"C:\\\\Users\\\\sghys\\\\miniconda3\\\\envs\\\\ml\\\\Lib\\\\site-packages\\\\matplotlib_inline\\\\__init__.py\": 1699484816.6597307, \"C:\\\\Users\\\\sghys\\\\miniconda3\\\\envs\\\\ml\\\\Lib\\\\site-packages\\\\pytz\\\\exceptions.py\": 1713974619.2359748, \"C:\\\\Users\\\\sghys\\\\miniconda3\\\\envs\\\\ml\\\\Lib\\\\site-packages\\\\pytz\\\\lazy.py\": 1713974619.2359748, \"C:\\\\Users\\\\sghys\\\\miniconda3\\\\envs\\\\ml\\\\Lib\\\\site-packages\\\\pytz\\\\tzinfo.py\": 1713974619.2359748, \"C:\\\\Users\\\\sghys\\\\miniconda3\\\\envs\\\\ml\\\\Lib\\\\site-packages\\\\pytz\\\\tzfile.py\": 1713974619.2359748, \"C:\\\\Users\\\\sghys\\\\miniconda3\\\\envs\\\\ml\\\\Lib\\\\site-packages\\\\pytz\\\\__init__.py\": 1713974619.2359748, \"C:\\\\Users\\\\sghys\\\\miniconda3\\\\envs\\\\ml\\\\Lib\\\\site-packages\\\\pandas\\\\compat\\\\_constants.py\": 1725141804.8470771, \"C:\\\\Users\\\\sghys\\\\miniconda3\\\\envs\\\\ml\\\\Lib\\\\site-packages\\\\pandas\\\\compat\\\\compressors.py\": 1725141804.8460772, \"C:\\\\Users\\\\sghys\\\\miniconda3\\\\envs\\\\ml\\\\Lib\\\\site-packages\\\\pandas\\\\util\\\\__init__.py\": 1725141805.3770747, \"C:\\\\Users\\\\sghys\\\\miniconda3\\\\envs\\\\ml\\\\Lib\\\\site-packages\\\\pandas\\\\util\\\\version\\\\__init__.py\": 1725141805.3784952, \"C:\\\\Users\\\\sghys\\\\miniconda3\\\\envs\\\\ml\\\\Lib\\\\site-packages\\\\pandas\\\\compat\\\\numpy\\\\__init__.py\": 1725141804.8480983, \"C:\\\\Users\\\\sghys\\\\miniconda3\\\\envs\\\\ml\\\\Lib\\\\site-packages\\\\pandas\\\\compat\\\\pyarrow.py\": 1725141804.8460772, \"C:\\\\Users\\\\sghys\\\\miniconda3\\\\envs\\\\ml\\\\Lib\\\\site-packages\\\\pandas\\\\compat\\\\__init__.py\": 1725141804.8470771, \"C:\\\\Users\\\\sghys\\\\miniconda3\\\\envs\\\\ml\\\\Lib\\\\site-packages\\\\pandas\\\\_typing.py\": 1725141804.842078, \"C:\\\\Users\\\\sghys\\\\miniconda3\\\\envs\\\\ml\\\\Lib\\\\site-packages\\\\pandas\\\\util\\\\_exceptions.py\": 1725141805.3750749, \"C:\\\\Users\\\\sghys\\\\miniconda3\\\\envs\\\\ml\\\\Lib\\\\site-packages\\\\pandas\\\\_config\\\\config.py\": 1725141805.3784952, \"C:\\\\Users\\\\sghys\\\\miniconda3\\\\envs\\\\ml\\\\Lib\\\\site-packages\\\\pandas\\\\_config\\\\dates.py\": 1725141805.3784952, \"C:\\\\Users\\\\sghys\\\\miniconda3\\\\envs\\\\ml\\\\Lib\\\\site-packages\\\\pandas\\\\_config\\\\display.py\": 1725141805.3795002, \"C:\\\\Users\\\\sghys\\\\miniconda3\\\\envs\\\\ml\\\\Lib\\\\site-packages\\\\pandas\\\\_config\\\\__init__.py\": 1725141805.3795002, \"C:\\\\Users\\\\sghys\\\\miniconda3\\\\envs\\\\ml\\\\Lib\\\\site-packages\\\\pandas\\\\core\\\\__init__.py\": 1725141804.8600774, \"C:\\\\Users\\\\sghys\\\\miniconda3\\\\envs\\\\ml\\\\Lib\\\\site-packages\\\\pandas\\\\core\\\\config_init.py\": 1725141804.8510785, \"C:\\\\Users\\\\sghys\\\\miniconda3\\\\envs\\\\ml\\\\Lib\\\\site-packages\\\\pandas\\\\_libs\\\\pandas_parser.cp312-win_amd64.pyd\": 1725141805.428307, \"C:\\\\Users\\\\sghys\\\\miniconda3\\\\envs\\\\ml\\\\Lib\\\\site-packages\\\\numpy\\\\_core\\\\__init__.py\": 1725139585.771043, \"C:\\\\Users\\\\sghys\\\\miniconda3\\\\envs\\\\ml\\\\Lib\\\\site-packages\\\\pandas\\\\_libs\\\\pandas_datetime.cp312-win_amd64.pyd\": 1725141805.4271684, \"C:\\\\Users\\\\sghys\\\\miniconda3\\\\envs\\\\ml\\\\Lib\\\\site-packages\\\\pandas\\\\_libs\\\\tslibs\\\\ccalendar.cp312-win_amd64.pyd\": 1725141805.4537904, \"C:\\\\Users\\\\sghys\\\\miniconda3\\\\envs\\\\ml\\\\Lib\\\\site-packages\\\\pandas\\\\_libs\\\\tslibs\\\\np_datetime.cp312-win_amd64.pyd\": 1725141805.4643006, \"C:\\\\Users\\\\sghys\\\\miniconda3\\\\envs\\\\ml\\\\Lib\\\\site-packages\\\\pandas\\\\_libs\\\\tslibs\\\\dtypes.cp312-win_amd64.pyd\": 1725141805.458295, \"C:\\\\Users\\\\sghys\\\\miniconda3\\\\envs\\\\ml\\\\Lib\\\\site-packages\\\\pandas\\\\_libs\\\\tslibs\\\\base.cp312-win_amd64.pyd\": 1725141805.4517846, \"C:\\\\Users\\\\sghys\\\\miniconda3\\\\envs\\\\ml\\\\Lib\\\\site-packages\\\\pandas\\\\_libs\\\\tslibs\\\\nattype.cp312-win_amd64.pyd\": 1725141805.4612951, \"C:\\\\Users\\\\sghys\\\\miniconda3\\\\envs\\\\ml\\\\Lib\\\\site-packages\\\\pandas\\\\compat\\\\_optional.py\": 1725141804.8470771, \"C:\\\\Users\\\\sghys\\\\miniconda3\\\\envs\\\\ml\\\\Lib\\\\zoneinfo\\\\_tzpath.py\": 1717698404.0, \"C:\\\\Users\\\\sghys\\\\miniconda3\\\\envs\\\\ml\\\\Lib\\\\zoneinfo\\\\_common.py\": 1717698404.0, \"C:\\\\Users\\\\sghys\\\\miniconda3\\\\envs\\\\ml\\\\DLLs\\\\_zoneinfo.pyd\": 1718723671.1773508, \"C:\\\\Users\\\\sghys\\\\miniconda3\\\\envs\\\\ml\\\\Lib\\\\zoneinfo\\\\__init__.py\": 1717698404.0, \"C:\\\\Users\\\\sghys\\\\miniconda3\\\\envs\\\\ml\\\\Lib\\\\site-packages\\\\pandas\\\\_libs\\\\tslibs\\\\timezones.cp312-win_amd64.pyd\": 1725141805.4854639, \"C:\\\\Users\\\\sghys\\\\miniconda3\\\\envs\\\\ml\\\\Lib\\\\site-packages\\\\pandas\\\\_config\\\\localization.py\": 1725141805.3795002, \"C:\\\\Users\\\\sghys\\\\miniconda3\\\\envs\\\\ml\\\\Lib\\\\site-packages\\\\pandas\\\\_libs\\\\tslibs\\\\fields.cp312-win_amd64.pyd\": 1725141805.4602952, \"C:\\\\Users\\\\sghys\\\\miniconda3\\\\envs\\\\ml\\\\Lib\\\\site-packages\\\\pandas\\\\_libs\\\\tslibs\\\\timedeltas.cp312-win_amd64.pyd\": 1725141805.4804635, \"C:\\\\Users\\\\sghys\\\\miniconda3\\\\envs\\\\ml\\\\Lib\\\\site-packages\\\\pandas\\\\_libs\\\\tslibs\\\\tzconversion.cp312-win_amd64.pyd\": 1725141805.4874763, \"C:\\\\Users\\\\sghys\\\\miniconda3\\\\envs\\\\ml\\\\Lib\\\\site-packages\\\\pandas\\\\_libs\\\\tslibs\\\\timestamps.cp312-win_amd64.pyd\": 1725141805.482463, \"C:\\\\Users\\\\sghys\\\\miniconda3\\\\envs\\\\ml\\\\Lib\\\\site-packages\\\\pandas\\\\_libs\\\\properties.cp312-win_amd64.pyd\": 1725141805.434315, \"C:\\\\Users\\\\sghys\\\\miniconda3\\\\envs\\\\ml\\\\Lib\\\\site-packages\\\\pandas\\\\_libs\\\\tslibs\\\\offsets.cp312-win_amd64.pyd\": 1725141805.4694586, \"C:\\\\Users\\\\sghys\\\\miniconda3\\\\envs\\\\ml\\\\Lib\\\\site-packages\\\\pandas\\\\_libs\\\\tslibs\\\\strptime.cp312-win_amd64.pyd\": 1725141805.477463, \"C:\\\\Users\\\\sghys\\\\miniconda3\\\\envs\\\\ml\\\\Lib\\\\site-packages\\\\pandas\\\\_libs\\\\tslibs\\\\parsing.cp312-win_amd64.pyd\": 1725141805.4724655, \"C:\\\\Users\\\\sghys\\\\miniconda3\\\\envs\\\\ml\\\\Lib\\\\site-packages\\\\pandas\\\\_libs\\\\tslibs\\\\conversion.cp312-win_amd64.pyd\": 1725141805.4562955, \"C:\\\\Users\\\\sghys\\\\miniconda3\\\\envs\\\\ml\\\\Lib\\\\site-packages\\\\pandas\\\\_libs\\\\tslibs\\\\period.cp312-win_amd64.pyd\": 1725141805.475465, \"C:\\\\Users\\\\sghys\\\\miniconda3\\\\envs\\\\ml\\\\Lib\\\\site-packages\\\\pandas\\\\_libs\\\\tslibs\\\\vectorized.cp312-win_amd64.pyd\": 1725141805.489486, \"C:\\\\Users\\\\sghys\\\\miniconda3\\\\envs\\\\ml\\\\Lib\\\\site-packages\\\\pandas\\\\_libs\\\\tslibs\\\\__init__.py\": 1725141805.489486, \"C:\\\\Users\\\\sghys\\\\miniconda3\\\\envs\\\\ml\\\\Lib\\\\site-packages\\\\pandas\\\\_libs\\\\ops_dispatch.cp312-win_amd64.pyd\": 1725141805.4251688, \"C:\\\\Users\\\\sghys\\\\miniconda3\\\\envs\\\\ml\\\\Lib\\\\site-packages\\\\pandas\\\\_libs\\\\missing.cp312-win_amd64.pyd\": 1725141805.422183, \"C:\\\\Users\\\\sghys\\\\miniconda3\\\\envs\\\\ml\\\\Lib\\\\site-packages\\\\pandas\\\\_libs\\\\hashtable.cp312-win_amd64.pyd\": 1725141805.4015286, \"C:\\\\Users\\\\sghys\\\\miniconda3\\\\envs\\\\ml\\\\Lib\\\\site-packages\\\\pandas\\\\_libs\\\\algos.cp312-win_amd64.pyd\": 1725141805.3855, \"C:\\\\Users\\\\sghys\\\\miniconda3\\\\envs\\\\ml\\\\Lib\\\\site-packages\\\\pandas\\\\_libs\\\\interval.cp312-win_amd64.pyd\": 1725141805.4126306, \"C:\\\\Users\\\\sghys\\\\miniconda3\\\\envs\\\\ml\\\\Lib\\\\site-packages\\\\pandas\\\\_libs\\\\__init__.py\": 1725141805.4503126, \"C:\\\\Users\\\\sghys\\\\miniconda3\\\\envs\\\\ml\\\\Lib\\\\site-packages\\\\pandas\\\\core\\\\dtypes\\\\__init__.py\": 1725141804.8840773, \"C:\\\\Users\\\\sghys\\\\miniconda3\\\\envs\\\\ml\\\\Lib\\\\site-packages\\\\pandas\\\\_libs\\\\lib.cp312-win_amd64.pyd\": 1725141805.4201834, \"C:\\\\Users\\\\sghys\\\\miniconda3\\\\envs\\\\ml\\\\Lib\\\\site-packages\\\\pandas\\\\errors\\\\__init__.py\": 1725141804.9226582, \"C:\\\\Users\\\\sghys\\\\miniconda3\\\\envs\\\\ml\\\\Lib\\\\site-packages\\\\pandas\\\\core\\\\dtypes\\\\generic.py\": 1725141804.8830774, \"C:\\\\Users\\\\sghys\\\\miniconda3\\\\envs\\\\ml\\\\Lib\\\\site-packages\\\\pandas\\\\core\\\\dtypes\\\\base.py\": 1725141804.8810775, \"C:\\\\Users\\\\sghys\\\\miniconda3\\\\envs\\\\ml\\\\Lib\\\\site-packages\\\\pandas\\\\core\\\\dtypes\\\\inference.py\": 1725141804.8830774, \"C:\\\\Users\\\\sghys\\\\miniconda3\\\\envs\\\\ml\\\\Lib\\\\site-packages\\\\pandas\\\\core\\\\dtypes\\\\dtypes.py\": 1725141804.8820775, \"C:\\\\Users\\\\sghys\\\\miniconda3\\\\envs\\\\ml\\\\Lib\\\\site-packages\\\\pandas\\\\core\\\\dtypes\\\\common.py\": 1725141804.8810775, \"C:\\\\Users\\\\sghys\\\\miniconda3\\\\envs\\\\ml\\\\Lib\\\\site-packages\\\\pandas\\\\core\\\\dtypes\\\\missing.py\": 1725141804.8830774, \"C:\\\\Users\\\\sghys\\\\miniconda3\\\\envs\\\\ml\\\\Lib\\\\site-packages\\\\pandas\\\\util\\\\_decorators.py\": 1725141805.3740747, \"C:\\\\Users\\\\sghys\\\\miniconda3\\\\envs\\\\ml\\\\Lib\\\\site-packages\\\\pandas\\\\io\\\\__init__.py\": 1725141804.9286582, \"C:\\\\Users\\\\sghys\\\\miniconda3\\\\envs\\\\ml\\\\Lib\\\\site-packages\\\\pandas\\\\io\\\\_util.py\": 1725141804.9286582, \"C:\\\\Users\\\\sghys\\\\miniconda3\\\\envs\\\\ml\\\\Lib\\\\site-packages\\\\pandas\\\\core\\\\dtypes\\\\cast.py\": 1725141804.8810775, \"C:\\\\Users\\\\sghys\\\\miniconda3\\\\envs\\\\ml\\\\Lib\\\\site-packages\\\\pandas\\\\core\\\\dtypes\\\\astype.py\": 1725141804.8800771, \"C:\\\\Users\\\\sghys\\\\miniconda3\\\\envs\\\\ml\\\\Lib\\\\site-packages\\\\pandas\\\\core\\\\dtypes\\\\concat.py\": 1725141804.8820775, \"C:\\\\Users\\\\sghys\\\\miniconda3\\\\envs\\\\ml\\\\Lib\\\\site-packages\\\\pandas\\\\core\\\\array_algos\\\\__init__.py\": 1725141804.8750784, \"C:\\\\Users\\\\sghys\\\\miniconda3\\\\envs\\\\ml\\\\Lib\\\\site-packages\\\\pandas\\\\core\\\\common.py\": 1725141804.8510785, \"C:\\\\Users\\\\sghys\\\\miniconda3\\\\envs\\\\ml\\\\Lib\\\\site-packages\\\\pandas\\\\core\\\\construction.py\": 1725141804.8520782, \"C:\\\\Users\\\\sghys\\\\miniconda3\\\\envs\\\\ml\\\\Lib\\\\site-packages\\\\pandas\\\\core\\\\array_algos\\\\take.py\": 1725141804.8740797, \"C:\\\\Users\\\\sghys\\\\miniconda3\\\\envs\\\\ml\\\\Lib\\\\site-packages\\\\pandas\\\\core\\\\indexers\\\\utils.py\": 1725141804.8880773, \"C:\\\\Users\\\\sghys\\\\miniconda3\\\\envs\\\\ml\\\\Lib\\\\site-packages\\\\pandas\\\\core\\\\indexers\\\\__init__.py\": 1725141804.8890772, \"C:\\\\Users\\\\sghys\\\\miniconda3\\\\envs\\\\ml\\\\Lib\\\\site-packages\\\\pandas\\\\core\\\\algorithms.py\": 1725141804.8490982, \"C:\\\\Users\\\\sghys\\\\miniconda3\\\\envs\\\\ml\\\\Lib\\\\site-packages\\\\pandas\\\\core\\\\arrays\\\\arrow\\\\accessors.py\": 1725141804.8690772, \"C:\\\\Users\\\\sghys\\\\miniconda3\\\\envs\\\\ml\\\\Lib\\\\site-packages\\\\pandas\\\\util\\\\_validators.py\": 1725141805.3770747, \"C:\\\\Users\\\\sghys\\\\miniconda3\\\\envs\\\\ml\\\\Lib\\\\site-packages\\\\pandas\\\\core\\\\missing.py\": 1725141804.8560774, \"C:\\\\Users\\\\sghys\\\\miniconda3\\\\envs\\\\ml\\\\Lib\\\\site-packages\\\\pandas\\\\_libs\\\\ops.cp312-win_amd64.pyd\": 1725141805.4231832, \"C:\\\\Users\\\\sghys\\\\miniconda3\\\\envs\\\\ml\\\\Lib\\\\site-packages\\\\pandas\\\\core\\\\roperator.py\": 1725141804.8580785, \"C:\\\\Users\\\\sghys\\\\miniconda3\\\\envs\\\\ml\\\\Lib\\\\site-packages\\\\pandas\\\\core\\\\computation\\\\__init__.py\": 1725141804.8800771, \"C:\\\\Users\\\\sghys\\\\miniconda3\\\\envs\\\\ml\\\\Lib\\\\site-packages\\\\pandas\\\\core\\\\computation\\\\check.py\": 1725141804.8760774, \"C:\\\\Users\\\\sghys\\\\miniconda3\\\\envs\\\\ml\\\\Lib\\\\site-packages\\\\pandas\\\\core\\\\computation\\\\expressions.py\": 1725141804.878077, \"C:\\\\Users\\\\sghys\\\\miniconda3\\\\envs\\\\ml\\\\Lib\\\\site-packages\\\\pandas\\\\core\\\\ops\\\\missing.py\": 1725141804.9060822, \"C:\\\\Users\\\\sghys\\\\miniconda3\\\\envs\\\\ml\\\\Lib\\\\site-packages\\\\pandas\\\\core\\\\ops\\\\dispatch.py\": 1725141804.9040818, \"C:\\\\Users\\\\sghys\\\\miniconda3\\\\envs\\\\ml\\\\Lib\\\\site-packages\\\\pandas\\\\core\\\\ops\\\\invalid.py\": 1725141804.9050822, \"C:\\\\Users\\\\sghys\\\\miniconda3\\\\envs\\\\ml\\\\Lib\\\\site-packages\\\\pandas\\\\core\\\\ops\\\\array_ops.py\": 1725141804.9030821, \"C:\\\\Users\\\\sghys\\\\miniconda3\\\\envs\\\\ml\\\\Lib\\\\site-packages\\\\pandas\\\\core\\\\ops\\\\common.py\": 1725141804.9040818, \"C:\\\\Users\\\\sghys\\\\miniconda3\\\\envs\\\\ml\\\\Lib\\\\site-packages\\\\pandas\\\\core\\\\ops\\\\docstrings.py\": 1725141804.9040818, \"C:\\\\Users\\\\sghys\\\\miniconda3\\\\envs\\\\ml\\\\Lib\\\\site-packages\\\\pandas\\\\core\\\\ops\\\\mask_ops.py\": 1725141804.9050822, \"C:\\\\Users\\\\sghys\\\\miniconda3\\\\envs\\\\ml\\\\Lib\\\\site-packages\\\\pandas\\\\core\\\\ops\\\\__init__.py\": 1725141804.9060822, \"C:\\\\Users\\\\sghys\\\\miniconda3\\\\envs\\\\ml\\\\Lib\\\\site-packages\\\\pandas\\\\core\\\\arraylike.py\": 1725141804.8500981, \"C:\\\\Users\\\\sghys\\\\miniconda3\\\\envs\\\\ml\\\\Lib\\\\site-packages\\\\pandas\\\\core\\\\arrays\\\\_arrow_string_mixins.py\": 1725141804.8670776, \"C:\\\\Users\\\\sghys\\\\miniconda3\\\\envs\\\\ml\\\\Lib\\\\site-packages\\\\pandas\\\\core\\\\arrays\\\\_utils.py\": 1725141804.868078, \"C:\\\\Users\\\\sghys\\\\miniconda3\\\\envs\\\\ml\\\\Lib\\\\site-packages\\\\pandas\\\\compat\\\\numpy\\\\function.py\": 1725141804.8480983, \"C:\\\\Users\\\\sghys\\\\miniconda3\\\\envs\\\\ml\\\\Lib\\\\site-packages\\\\pandas\\\\core\\\\array_algos\\\\quantile.py\": 1725141804.8730779, \"C:\\\\Users\\\\sghys\\\\miniconda3\\\\envs\\\\ml\\\\Lib\\\\site-packages\\\\pandas\\\\core\\\\sorting.py\": 1725141804.8590777, \"C:\\\\Users\\\\sghys\\\\miniconda3\\\\envs\\\\ml\\\\Lib\\\\site-packages\\\\pandas\\\\core\\\\arrays\\\\base.py\": 1725141804.8600774, \"C:\\\\Users\\\\sghys\\\\miniconda3\\\\envs\\\\ml\\\\Lib\\\\site-packages\\\\pandas\\\\core\\\\nanops.py\": 1725141804.8560774, \"C:\\\\Users\\\\sghys\\\\miniconda3\\\\envs\\\\ml\\\\Lib\\\\site-packages\\\\pandas\\\\core\\\\array_algos\\\\masked_accumulations.py\": 1725141804.8720775, \"C:\\\\Users\\\\sghys\\\\miniconda3\\\\envs\\\\ml\\\\Lib\\\\site-packages\\\\pandas\\\\core\\\\array_algos\\\\masked_reductions.py\": 1725141804.8730779, \"C:\\\\Users\\\\sghys\\\\miniconda3\\\\envs\\\\ml\\\\Lib\\\\site-packages\\\\pandas\\\\core\\\\util\\\\__init__.py\": 1725141804.9146583, \"C:\\\\Users\\\\sghys\\\\miniconda3\\\\envs\\\\ml\\\\Lib\\\\site-packages\\\\pandas\\\\_libs\\\\hashing.cp312-win_amd64.pyd\": 1725141805.3965077, \"C:\\\\Users\\\\sghys\\\\miniconda3\\\\envs\\\\ml\\\\Lib\\\\site-packages\\\\pandas\\\\core\\\\util\\\\hashing.py\": 1725141804.9146583, \"C:\\\\Users\\\\sghys\\\\miniconda3\\\\envs\\\\ml\\\\Lib\\\\site-packages\\\\pandas\\\\core\\\\arrays\\\\masked.py\": 1725141804.8640797, \"C:\\\\Users\\\\sghys\\\\miniconda3\\\\envs\\\\ml\\\\Lib\\\\site-packages\\\\pandas\\\\_libs\\\\arrays.cp312-win_amd64.pyd\": 1725141805.3864996, \"C:\\\\Users\\\\sghys\\\\miniconda3\\\\envs\\\\ml\\\\Lib\\\\site-packages\\\\pandas\\\\core\\\\arrays\\\\numeric.py\": 1725141804.8650792, \"C:\\\\Users\\\\sghys\\\\miniconda3\\\\envs\\\\ml\\\\Lib\\\\site-packages\\\\pandas\\\\core\\\\arrays\\\\floating.py\": 1725141804.8630803, \"C:\\\\Users\\\\sghys\\\\miniconda3\\\\envs\\\\ml\\\\Lib\\\\site-packages\\\\pandas\\\\core\\\\arrays\\\\integer.py\": 1725141804.8630803, \"C:\\\\Users\\\\sghys\\\\miniconda3\\\\envs\\\\ml\\\\Lib\\\\site-packages\\\\pandas\\\\core\\\\array_algos\\\\transforms.py\": 1725141804.8740797, \"C:\\\\Users\\\\sghys\\\\miniconda3\\\\envs\\\\ml\\\\Lib\\\\site-packages\\\\pandas\\\\core\\\\arrays\\\\_mixins.py\": 1725141804.8670776, \"C:\\\\Users\\\\sghys\\\\miniconda3\\\\envs\\\\ml\\\\Lib\\\\site-packages\\\\pandas\\\\core\\\\strings\\\\__init__.py\": 1725141804.9121485, \"C:\\\\Users\\\\sghys\\\\miniconda3\\\\envs\\\\ml\\\\Lib\\\\site-packages\\\\pandas\\\\core\\\\strings\\\\base.py\": 1725141804.9121485, \"C:\\\\Users\\\\sghys\\\\miniconda3\\\\envs\\\\ml\\\\Lib\\\\site-packages\\\\pandas\\\\core\\\\strings\\\\object_array.py\": 1725141804.9121485, \"C:\\\\Users\\\\sghys\\\\miniconda3\\\\envs\\\\ml\\\\Lib\\\\site-packages\\\\pandas\\\\core\\\\arrays\\\\numpy_.py\": 1725141804.8650792, \"C:\\\\Users\\\\sghys\\\\miniconda3\\\\envs\\\\ml\\\\Lib\\\\site-packages\\\\pandas\\\\core\\\\arrays\\\\string_.py\": 1725141804.8660793, \"C:\\\\Users\\\\sghys\\\\miniconda3\\\\envs\\\\ml\\\\Lib\\\\site-packages\\\\pandas\\\\tseries\\\\__init__.py\": 1725141805.3740747, \"C:\\\\Users\\\\sghys\\\\miniconda3\\\\envs\\\\ml\\\\Lib\\\\site-packages\\\\pandas\\\\tseries\\\\frequencies.py\": 1725141805.3730748, \"C:\\\\Users\\\\sghys\\\\miniconda3\\\\envs\\\\ml\\\\Lib\\\\site-packages\\\\pandas\\\\core\\\\arrays\\\\arrow\\\\array.py\": 1725141804.8690772, \"C:\\\\Users\\\\sghys\\\\miniconda3\\\\envs\\\\ml\\\\Lib\\\\site-packages\\\\pandas\\\\core\\\\arrays\\\\arrow\\\\__init__.py\": 1725141804.8700778, \"C:\\\\Users\\\\sghys\\\\miniconda3\\\\envs\\\\ml\\\\Lib\\\\site-packages\\\\pandas\\\\core\\\\arrays\\\\boolean.py\": 1725141804.8610785, \"C:\\\\Users\\\\sghys\\\\miniconda3\\\\envs\\\\ml\\\\Lib\\\\site-packages\\\\pandas\\\\core\\\\accessor.py\": 1725141804.8490982, \"C:\\\\Users\\\\sghys\\\\miniconda3\\\\envs\\\\ml\\\\Lib\\\\site-packages\\\\pandas\\\\core\\\\base.py\": 1725141804.8510785, \"C:\\\\Users\\\\sghys\\\\miniconda3\\\\envs\\\\ml\\\\Lib\\\\site-packages\\\\pandas\\\\io\\\\formats\\\\__init__.py\": 1725141804.9386594, \"C:\\\\Users\\\\sghys\\\\miniconda3\\\\envs\\\\ml\\\\Lib\\\\site-packages\\\\pandas\\\\io\\\\formats\\\\console.py\": 1725141804.9336593, \"C:\\\\Users\\\\sghys\\\\miniconda3\\\\envs\\\\ml\\\\Lib\\\\site-packages\\\\pandas\\\\core\\\\arrays\\\\categorical.py\": 1725141804.8610785, \"C:\\\\Users\\\\sghys\\\\miniconda3\\\\envs\\\\ml\\\\Lib\\\\site-packages\\\\pandas\\\\_libs\\\\tslib.cp312-win_amd64.pyd\": 1725141805.4473147, \"C:\\\\Users\\\\sghys\\\\miniconda3\\\\envs\\\\ml\\\\Lib\\\\site-packages\\\\pandas\\\\core\\\\array_algos\\\\datetimelike_accumulations.py\": 1725141804.8720775, \"C:\\\\Users\\\\sghys\\\\miniconda3\\\\envs\\\\ml\\\\Lib\\\\site-packages\\\\pandas\\\\core\\\\arrays\\\\datetimelike.py\": 1725141804.8620787, \"C:\\\\Users\\\\sghys\\\\miniconda3\\\\envs\\\\ml\\\\Lib\\\\site-packages\\\\pandas\\\\core\\\\arrays\\\\_ranges.py\": 1725141804.868078, \"C:\\\\Users\\\\sghys\\\\miniconda3\\\\envs\\\\ml\\\\Lib\\\\site-packages\\\\pandas\\\\tseries\\\\offsets.py\": 1725141805.3740747, \"C:\\\\Users\\\\sghys\\\\miniconda3\\\\envs\\\\ml\\\\Lib\\\\site-packages\\\\pandas\\\\core\\\\arrays\\\\datetimes.py\": 1725141804.8620787, \"C:\\\\Users\\\\sghys\\\\miniconda3\\\\envs\\\\ml\\\\Lib\\\\site-packages\\\\pandas\\\\core\\\\arrays\\\\timedeltas.py\": 1725141804.8670776, \"C:\\\\Users\\\\sghys\\\\miniconda3\\\\envs\\\\ml\\\\Lib\\\\site-packages\\\\pandas\\\\core\\\\arrays\\\\interval.py\": 1725141804.8640797, \"C:\\\\Users\\\\sghys\\\\miniconda3\\\\envs\\\\ml\\\\Lib\\\\site-packages\\\\pandas\\\\core\\\\arrays\\\\period.py\": 1725141804.8660793, \"C:\\\\Users\\\\sghys\\\\miniconda3\\\\envs\\\\ml\\\\Lib\\\\site-packages\\\\pandas\\\\_libs\\\\sparse.cp312-win_amd64.pyd\": 1725141805.4433157, \"C:\\\\Users\\\\sghys\\\\miniconda3\\\\envs\\\\ml\\\\Lib\\\\site-packages\\\\pandas\\\\io\\\\formats\\\\printing.py\": 1725141804.9366584, \"C:\\\\Users\\\\sghys\\\\miniconda3\\\\envs\\\\ml\\\\Lib\\\\site-packages\\\\pandas\\\\core\\\\arrays\\\\sparse\\\\array.py\": 1725141804.8710773, \"C:\\\\Users\\\\sghys\\\\miniconda3\\\\envs\\\\ml\\\\Lib\\\\site-packages\\\\pandas\\\\core\\\\arrays\\\\sparse\\\\accessor.py\": 1725141804.8710773, \"C:\\\\Users\\\\sghys\\\\miniconda3\\\\envs\\\\ml\\\\Lib\\\\site-packages\\\\pandas\\\\core\\\\arrays\\\\sparse\\\\__init__.py\": 1725141804.8720775, \"C:\\\\Users\\\\sghys\\\\miniconda3\\\\envs\\\\ml\\\\Lib\\\\site-packages\\\\pandas\\\\core\\\\arrays\\\\string_arrow.py\": 1725141804.8660793, \"C:\\\\Users\\\\sghys\\\\miniconda3\\\\envs\\\\ml\\\\Lib\\\\site-packages\\\\pandas\\\\core\\\\arrays\\\\__init__.py\": 1725141804.868078, \"C:\\\\Users\\\\sghys\\\\miniconda3\\\\envs\\\\ml\\\\Lib\\\\site-packages\\\\pandas\\\\core\\\\flags.py\": 1725141804.8520782, \"C:\\\\Users\\\\sghys\\\\miniconda3\\\\envs\\\\ml\\\\Lib\\\\site-packages\\\\pandas\\\\_libs\\\\internals.cp312-win_amd64.pyd\": 1725141805.408528, \"C:\\\\Users\\\\sghys\\\\miniconda3\\\\envs\\\\ml\\\\Lib\\\\site-packages\\\\pandas\\\\core\\\\_numba\\\\__init__.py\": 1725141804.9196584, \"C:\\\\Users\\\\sghys\\\\miniconda3\\\\envs\\\\ml\\\\Lib\\\\site-packages\\\\pandas\\\\core\\\\_numba\\\\executor.py\": 1725141804.918658, \"C:\\\\Users\\\\sghys\\\\miniconda3\\\\envs\\\\ml\\\\Lib\\\\site-packages\\\\pandas\\\\core\\\\apply.py\": 1725141804.8500981, \"C:\\\\Users\\\\sghys\\\\miniconda3\\\\envs\\\\ml\\\\Lib\\\\site-packages\\\\pandas\\\\_libs\\\\indexing.cp312-win_amd64.pyd\": 1725141805.4065282, \"C:\\\\Users\\\\sghys\\\\miniconda3\\\\envs\\\\ml\\\\Lib\\\\site-packages\\\\pandas\\\\core\\\\indexes\\\\__init__.py\": 1725141804.895082, \"C:\\\\Users\\\\sghys\\\\miniconda3\\\\envs\\\\ml\\\\Lib\\\\site-packages\\\\pandas\\\\_libs\\\\index.cp312-win_amd64.pyd\": 1725141805.4045281, \"C:\\\\Users\\\\sghys\\\\miniconda3\\\\envs\\\\ml\\\\Lib\\\\site-packages\\\\pandas\\\\_libs\\\\writers.cp312-win_amd64.pyd\": 1725141805.4493153, \"C:\\\\Users\\\\sghys\\\\miniconda3\\\\envs\\\\ml\\\\Lib\\\\site-packages\\\\pandas\\\\_libs\\\\join.cp312-win_amd64.pyd\": 1725141805.4161842, \"C:\\\\Users\\\\sghys\\\\miniconda3\\\\envs\\\\ml\\\\Lib\\\\site-packages\\\\pandas\\\\core\\\\array_algos\\\\putmask.py\": 1725141804.8730779, \"C:\\\\Users\\\\sghys\\\\miniconda3\\\\envs\\\\ml\\\\Lib\\\\site-packages\\\\pandas\\\\core\\\\indexes\\\\frozen.py\": 1725141804.8920774, \"C:\\\\Users\\\\sghys\\\\miniconda3\\\\envs\\\\ml\\\\Lib\\\\site-packages\\\\pandas\\\\core\\\\strings\\\\accessor.py\": 1725141804.9111485, \"C:\\\\Users\\\\sghys\\\\miniconda3\\\\envs\\\\ml\\\\Lib\\\\site-packages\\\\pandas\\\\core\\\\indexes\\\\base.py\": 1725141804.8900783, \"C:\\\\Users\\\\sghys\\\\miniconda3\\\\envs\\\\ml\\\\Lib\\\\site-packages\\\\pandas\\\\core\\\\indexes\\\\extension.py\": 1725141804.8920774, \"C:\\\\Users\\\\sghys\\\\miniconda3\\\\envs\\\\ml\\\\Lib\\\\site-packages\\\\pandas\\\\core\\\\indexes\\\\category.py\": 1725141804.8910801, \"C:\\\\Users\\\\sghys\\\\miniconda3\\\\envs\\\\ml\\\\Lib\\\\site-packages\\\\pandas\\\\core\\\\indexes\\\\range.py\": 1725141804.8940818, \"C:\\\\Users\\\\sghys\\\\miniconda3\\\\envs\\\\ml\\\\Lib\\\\site-packages\\\\pandas\\\\core\\\\tools\\\\__init__.py\": 1725141804.9136539, \"C:\\\\Users\\\\sghys\\\\miniconda3\\\\envs\\\\ml\\\\Lib\\\\site-packages\\\\pandas\\\\core\\\\tools\\\\timedeltas.py\": 1725141804.9136539, \"C:\\\\Users\\\\sghys\\\\miniconda3\\\\envs\\\\ml\\\\Lib\\\\site-packages\\\\pandas\\\\core\\\\indexes\\\\datetimelike.py\": 1725141804.8910801, \"C:\\\\Users\\\\sghys\\\\miniconda3\\\\envs\\\\ml\\\\Lib\\\\site-packages\\\\pandas\\\\core\\\\tools\\\\times.py\": 1725141804.9136539, \"C:\\\\Users\\\\sghys\\\\miniconda3\\\\envs\\\\ml\\\\Lib\\\\site-packages\\\\pandas\\\\core\\\\indexes\\\\datetimes.py\": 1725141804.8920774, \"C:\\\\Users\\\\sghys\\\\miniconda3\\\\envs\\\\ml\\\\Lib\\\\site-packages\\\\pandas\\\\core\\\\indexes\\\\multi.py\": 1725141804.8930776, \"C:\\\\Users\\\\sghys\\\\miniconda3\\\\envs\\\\ml\\\\Lib\\\\site-packages\\\\pandas\\\\core\\\\indexes\\\\timedeltas.py\": 1725141804.895082, \"C:\\\\Users\\\\sghys\\\\miniconda3\\\\envs\\\\ml\\\\Lib\\\\site-packages\\\\pandas\\\\core\\\\indexes\\\\interval.py\": 1725141804.8930776, \"C:\\\\Users\\\\sghys\\\\miniconda3\\\\envs\\\\ml\\\\Lib\\\\site-packages\\\\pandas\\\\core\\\\indexes\\\\period.py\": 1725141804.8940818, \"C:\\\\Users\\\\sghys\\\\miniconda3\\\\envs\\\\ml\\\\Lib\\\\site-packages\\\\pandas\\\\core\\\\indexes\\\\api.py\": 1725141804.8900783, \"C:\\\\Users\\\\sghys\\\\miniconda3\\\\envs\\\\ml\\\\Lib\\\\site-packages\\\\pandas\\\\core\\\\indexing.py\": 1725141804.8560774, \"C:\\\\Users\\\\sghys\\\\miniconda3\\\\envs\\\\ml\\\\Lib\\\\site-packages\\\\pandas\\\\core\\\\sample.py\": 1725141804.8580785, \"C:\\\\Users\\\\sghys\\\\miniconda3\\\\envs\\\\ml\\\\Lib\\\\site-packages\\\\pandas\\\\core\\\\array_algos\\\\replace.py\": 1725141804.8740797, \"C:\\\\Users\\\\sghys\\\\miniconda3\\\\envs\\\\ml\\\\Lib\\\\site-packages\\\\pandas\\\\core\\\\internals\\\\blocks.py\": 1725141804.8990817, \"C:\\\\Users\\\\sghys\\\\miniconda3\\\\envs\\\\ml\\\\Lib\\\\site-packages\\\\pandas\\\\core\\\\internals\\\\api.py\": 1725141804.8980815, \"C:\\\\Users\\\\sghys\\\\miniconda3\\\\envs\\\\ml\\\\Lib\\\\site-packages\\\\pandas\\\\core\\\\internals\\\\base.py\": 1725141804.8990817, \"C:\\\\Users\\\\sghys\\\\miniconda3\\\\envs\\\\ml\\\\Lib\\\\site-packages\\\\pandas\\\\core\\\\internals\\\\ops.py\": 1725141804.901084, \"C:\\\\Users\\\\sghys\\\\miniconda3\\\\envs\\\\ml\\\\Lib\\\\site-packages\\\\pandas\\\\core\\\\internals\\\\managers.py\": 1725141804.9000819, \"C:\\\\Users\\\\sghys\\\\miniconda3\\\\envs\\\\ml\\\\Lib\\\\site-packages\\\\pandas\\\\core\\\\internals\\\\array_manager.py\": 1725141804.8980815, \"C:\\\\Users\\\\sghys\\\\miniconda3\\\\envs\\\\ml\\\\Lib\\\\site-packages\\\\pandas\\\\core\\\\internals\\\\concat.py\": 1725141804.8990817, \"C:\\\\Users\\\\sghys\\\\miniconda3\\\\envs\\\\ml\\\\Lib\\\\site-packages\\\\pandas\\\\core\\\\internals\\\\__init__.py\": 1725141804.901084, \"C:\\\\Users\\\\sghys\\\\miniconda3\\\\envs\\\\ml\\\\Lib\\\\site-packages\\\\pandas\\\\core\\\\internals\\\\construction.py\": 1725141804.9000819, \"C:\\\\Users\\\\sghys\\\\miniconda3\\\\envs\\\\ml\\\\Lib\\\\site-packages\\\\pandas\\\\core\\\\methods\\\\__init__.py\": 1725141804.9030821, \"C:\\\\Users\\\\sghys\\\\miniconda3\\\\envs\\\\ml\\\\Lib\\\\site-packages\\\\pandas\\\\core\\\\reshape\\\\__init__.py\": 1725141804.9101484, \"C:\\\\Users\\\\sghys\\\\miniconda3\\\\envs\\\\ml\\\\Lib\\\\site-packages\\\\pandas\\\\core\\\\reshape\\\\concat.py\": 1725141804.9070818, \"C:\\\\Users\\\\sghys\\\\miniconda3\\\\envs\\\\ml\\\\Lib\\\\site-packages\\\\pandas\\\\core\\\\shared_docs.py\": 1725141804.8590777, \"C:\\\\Users\\\\sghys\\\\miniconda3\\\\envs\\\\ml\\\\Lib\\\\site-packages\\\\pandas\\\\io\\\\common.py\": 1725141804.9236581, \"C:\\\\Users\\\\sghys\\\\miniconda3\\\\envs\\\\ml\\\\Lib\\\\site-packages\\\\pandas\\\\io\\\\formats\\\\format.py\": 1725141804.934658, \"C:\\\\Users\\\\sghys\\\\miniconda3\\\\envs\\\\ml\\\\Lib\\\\site-packages\\\\pandas\\\\core\\\\methods\\\\describe.py\": 1725141804.9020839, \"C:\\\\Users\\\\sghys\\\\miniconda3\\\\envs\\\\ml\\\\Lib\\\\site-packages\\\\pandas\\\\_libs\\\\window\\\\__init__.py\": 1725141805.493486, \"C:\\\\Users\\\\sghys\\\\miniconda3\\\\envs\\\\ml\\\\Lib\\\\site-packages\\\\pandas\\\\_libs\\\\window\\\\aggregations.cp312-win_amd64.pyd\": 1725141805.4914854, \"C:\\\\Users\\\\sghys\\\\miniconda3\\\\envs\\\\ml\\\\Lib\\\\site-packages\\\\pandas\\\\_libs\\\\window\\\\indexers.cp312-win_amd64.pyd\": 1725141805.493486, \"C:\\\\Users\\\\sghys\\\\miniconda3\\\\envs\\\\ml\\\\Lib\\\\site-packages\\\\pandas\\\\core\\\\indexers\\\\objects.py\": 1725141804.8880773, \"C:\\\\Users\\\\sghys\\\\miniconda3\\\\envs\\\\ml\\\\Lib\\\\site-packages\\\\pandas\\\\core\\\\util\\\\numba_.py\": 1725141804.9146583, \"C:\\\\Users\\\\sghys\\\\miniconda3\\\\envs\\\\ml\\\\Lib\\\\site-packages\\\\pandas\\\\core\\\\window\\\\common.py\": 1725141804.915658, \"C:\\\\Users\\\\sghys\\\\miniconda3\\\\envs\\\\ml\\\\Lib\\\\site-packages\\\\pandas\\\\core\\\\window\\\\doc.py\": 1725141804.915658, \"C:\\\\Users\\\\sghys\\\\miniconda3\\\\envs\\\\ml\\\\Lib\\\\site-packages\\\\pandas\\\\core\\\\window\\\\numba_.py\": 1725141804.916658, \"C:\\\\Users\\\\sghys\\\\miniconda3\\\\envs\\\\ml\\\\Lib\\\\site-packages\\\\pandas\\\\core\\\\window\\\\online.py\": 1725141804.917658, \"C:\\\\Users\\\\sghys\\\\miniconda3\\\\envs\\\\ml\\\\Lib\\\\site-packages\\\\pandas\\\\core\\\\window\\\\rolling.py\": 1725141804.917658, \"C:\\\\Users\\\\sghys\\\\miniconda3\\\\envs\\\\ml\\\\Lib\\\\site-packages\\\\pandas\\\\core\\\\window\\\\ewm.py\": 1725141804.916658, \"C:\\\\Users\\\\sghys\\\\miniconda3\\\\envs\\\\ml\\\\Lib\\\\site-packages\\\\pandas\\\\core\\\\window\\\\expanding.py\": 1725141804.916658, \"C:\\\\Users\\\\sghys\\\\miniconda3\\\\envs\\\\ml\\\\Lib\\\\site-packages\\\\pandas\\\\core\\\\window\\\\__init__.py\": 1725141804.918658, \"C:\\\\Users\\\\sghys\\\\miniconda3\\\\envs\\\\ml\\\\Lib\\\\site-packages\\\\pandas\\\\core\\\\generic.py\": 1725141804.8550777, \"C:\\\\Users\\\\sghys\\\\miniconda3\\\\envs\\\\ml\\\\Lib\\\\site-packages\\\\pandas\\\\core\\\\methods\\\\selectn.py\": 1725141804.9020839, \"C:\\\\Users\\\\sghys\\\\miniconda3\\\\envs\\\\ml\\\\Lib\\\\site-packages\\\\pandas\\\\core\\\\reshape\\\\util.py\": 1725141804.9101484, \"C:\\\\Users\\\\sghys\\\\miniconda3\\\\envs\\\\ml\\\\Lib\\\\site-packages\\\\pandas\\\\core\\\\tools\\\\numeric.py\": 1725141804.9136539, \"C:\\\\Users\\\\sghys\\\\miniconda3\\\\envs\\\\ml\\\\Lib\\\\site-packages\\\\pandas\\\\core\\\\reshape\\\\melt.py\": 1725141804.9070818, \"C:\\\\Users\\\\sghys\\\\miniconda3\\\\envs\\\\ml\\\\Lib\\\\site-packages\\\\pandas\\\\_libs\\\\reshape.cp312-win_amd64.pyd\": 1725141805.436314, \"C:\\\\Users\\\\sghys\\\\miniconda3\\\\envs\\\\ml\\\\Lib\\\\site-packages\\\\pandas\\\\core\\\\indexes\\\\accessors.py\": 1725141804.8890772, \"C:\\\\Users\\\\sghys\\\\miniconda3\\\\envs\\\\ml\\\\Lib\\\\site-packages\\\\pandas\\\\arrays\\\\__init__.py\": 1725141804.8460772, \"C:\\\\Users\\\\sghys\\\\miniconda3\\\\envs\\\\ml\\\\Lib\\\\site-packages\\\\pandas\\\\core\\\\tools\\\\datetimes.py\": 1725141804.9131489, \"C:\\\\Users\\\\sghys\\\\miniconda3\\\\envs\\\\ml\\\\Lib\\\\site-packages\\\\pandas\\\\io\\\\formats\\\\info.py\": 1725141804.9356582, \"C:\\\\Users\\\\sghys\\\\miniconda3\\\\envs\\\\ml\\\\Lib\\\\site-packages\\\\pandas\\\\plotting\\\\_core.py\": 1725141804.9493308, \"C:\\\\Users\\\\sghys\\\\miniconda3\\\\envs\\\\ml\\\\Lib\\\\site-packages\\\\pandas\\\\plotting\\\\_misc.py\": 1725141804.9493308, \"C:\\\\Users\\\\sghys\\\\miniconda3\\\\envs\\\\ml\\\\Lib\\\\site-packages\\\\pandas\\\\plotting\\\\__init__.py\": 1725141804.9493308, \"C:\\\\Users\\\\sghys\\\\miniconda3\\\\envs\\\\ml\\\\Lib\\\\site-packages\\\\pandas\\\\core\\\\series.py\": 1725141804.8590777, \"C:\\\\Users\\\\sghys\\\\miniconda3\\\\envs\\\\ml\\\\Lib\\\\site-packages\\\\pandas\\\\core\\\\frame.py\": 1725141804.854078, \"C:\\\\Users\\\\sghys\\\\miniconda3\\\\envs\\\\ml\\\\Lib\\\\site-packages\\\\pandas\\\\core\\\\groupby\\\\base.py\": 1725141804.8840773, \"C:\\\\Users\\\\sghys\\\\miniconda3\\\\envs\\\\ml\\\\Lib\\\\site-packages\\\\pandas\\\\_libs\\\\groupby.cp312-win_amd64.pyd\": 1725141805.3945096, \"C:\\\\Users\\\\sghys\\\\miniconda3\\\\envs\\\\ml\\\\Lib\\\\site-packages\\\\pandas\\\\core\\\\groupby\\\\categorical.py\": 1725141804.8840773, \"C:\\\\Users\\\\sghys\\\\miniconda3\\\\envs\\\\ml\\\\Lib\\\\site-packages\\\\pandas\\\\core\\\\groupby\\\\grouper.py\": 1725141804.8860774, \"C:\\\\Users\\\\sghys\\\\miniconda3\\\\envs\\\\ml\\\\Lib\\\\site-packages\\\\pandas\\\\core\\\\groupby\\\\ops.py\": 1725141804.8870776, \"C:\\\\Users\\\\sghys\\\\miniconda3\\\\envs\\\\ml\\\\Lib\\\\site-packages\\\\pandas\\\\core\\\\groupby\\\\numba_.py\": 1725141804.8870776, \"C:\\\\Users\\\\sghys\\\\miniconda3\\\\envs\\\\ml\\\\Lib\\\\site-packages\\\\pandas\\\\core\\\\groupby\\\\indexing.py\": 1725141804.8860774, \"C:\\\\Users\\\\sghys\\\\miniconda3\\\\envs\\\\ml\\\\Lib\\\\site-packages\\\\pandas\\\\core\\\\groupby\\\\groupby.py\": 1725141804.8850775, \"C:\\\\Users\\\\sghys\\\\miniconda3\\\\envs\\\\ml\\\\Lib\\\\site-packages\\\\pandas\\\\core\\\\groupby\\\\generic.py\": 1725141804.8850775, \"C:\\\\Users\\\\sghys\\\\miniconda3\\\\envs\\\\ml\\\\Lib\\\\site-packages\\\\pandas\\\\core\\\\groupby\\\\__init__.py\": 1725141804.8880773, \"C:\\\\Users\\\\sghys\\\\miniconda3\\\\envs\\\\ml\\\\Lib\\\\site-packages\\\\pandas\\\\core\\\\api.py\": 1725141804.8490982, \"C:\\\\Users\\\\sghys\\\\miniconda3\\\\envs\\\\ml\\\\Lib\\\\site-packages\\\\pandas\\\\tseries\\\\api.py\": 1725141805.3730748, \"C:\\\\Users\\\\sghys\\\\miniconda3\\\\envs\\\\ml\\\\Lib\\\\site-packages\\\\pandas\\\\core\\\\computation\\\\common.py\": 1725141804.8760774, \"C:\\\\Users\\\\sghys\\\\miniconda3\\\\envs\\\\ml\\\\Lib\\\\site-packages\\\\pandas\\\\core\\\\computation\\\\align.py\": 1725141804.8750784, \"C:\\\\Users\\\\sghys\\\\miniconda3\\\\envs\\\\ml\\\\Lib\\\\site-packages\\\\pandas\\\\core\\\\computation\\\\scope.py\": 1725141804.8790774, \"C:\\\\Users\\\\sghys\\\\miniconda3\\\\envs\\\\ml\\\\Lib\\\\site-packages\\\\pandas\\\\core\\\\computation\\\\ops.py\": 1725141804.878077, \"C:\\\\Users\\\\sghys\\\\miniconda3\\\\envs\\\\ml\\\\Lib\\\\site-packages\\\\pandas\\\\core\\\\computation\\\\engines.py\": 1725141804.8760774, \"C:\\\\Users\\\\sghys\\\\miniconda3\\\\envs\\\\ml\\\\Lib\\\\site-packages\\\\pandas\\\\core\\\\computation\\\\parsing.py\": 1725141804.878077, \"C:\\\\Users\\\\sghys\\\\miniconda3\\\\envs\\\\ml\\\\Lib\\\\site-packages\\\\pandas\\\\core\\\\computation\\\\expr.py\": 1725141804.877077, \"C:\\\\Users\\\\sghys\\\\miniconda3\\\\envs\\\\ml\\\\Lib\\\\site-packages\\\\pandas\\\\core\\\\computation\\\\eval.py\": 1725141804.877077, \"C:\\\\Users\\\\sghys\\\\miniconda3\\\\envs\\\\ml\\\\Lib\\\\site-packages\\\\pandas\\\\core\\\\computation\\\\api.py\": 1725141804.8750784, \"C:\\\\Users\\\\sghys\\\\miniconda3\\\\envs\\\\ml\\\\Lib\\\\site-packages\\\\pandas\\\\core\\\\reshape\\\\encoding.py\": 1725141804.9070818, \"C:\\\\Users\\\\sghys\\\\miniconda3\\\\envs\\\\ml\\\\Lib\\\\site-packages\\\\pandas\\\\core\\\\reshape\\\\merge.py\": 1725141804.908082, \"C:\\\\Users\\\\sghys\\\\miniconda3\\\\envs\\\\ml\\\\Lib\\\\site-packages\\\\pandas\\\\core\\\\reshape\\\\pivot.py\": 1725141804.908082, \"C:\\\\Users\\\\sghys\\\\miniconda3\\\\envs\\\\ml\\\\Lib\\\\site-packages\\\\pandas\\\\core\\\\reshape\\\\tile.py\": 1725141804.9091487, \"C:\\\\Users\\\\sghys\\\\miniconda3\\\\envs\\\\ml\\\\Lib\\\\site-packages\\\\pandas\\\\core\\\\reshape\\\\api.py\": 1725141804.9060822, \"C:\\\\Users\\\\sghys\\\\miniconda3\\\\envs\\\\ml\\\\Lib\\\\site-packages\\\\pandas\\\\api\\\\extensions\\\\__init__.py\": 1725141804.844077, \"C:\\\\Users\\\\sghys\\\\miniconda3\\\\envs\\\\ml\\\\Lib\\\\site-packages\\\\pandas\\\\api\\\\indexers\\\\__init__.py\": 1725141804.844077, \"C:\\\\Users\\\\sghys\\\\miniconda3\\\\envs\\\\ml\\\\Lib\\\\site-packages\\\\pandas\\\\core\\\\interchange\\\\__init__.py\": 1725141804.8970816, \"C:\\\\Users\\\\sghys\\\\miniconda3\\\\envs\\\\ml\\\\Lib\\\\site-packages\\\\pandas\\\\core\\\\interchange\\\\dataframe_protocol.py\": 1725141804.8970816, \"C:\\\\Users\\\\sghys\\\\miniconda3\\\\envs\\\\ml\\\\Lib\\\\site-packages\\\\pandas\\\\core\\\\interchange\\\\utils.py\": 1725141804.8970816, \"C:\\\\Users\\\\sghys\\\\miniconda3\\\\envs\\\\ml\\\\Lib\\\\site-packages\\\\pandas\\\\core\\\\interchange\\\\from_dataframe.py\": 1725141804.8970816, \"C:\\\\Users\\\\sghys\\\\miniconda3\\\\envs\\\\ml\\\\Lib\\\\site-packages\\\\pandas\\\\api\\\\interchange\\\\__init__.py\": 1725141804.844077, \"C:\\\\Users\\\\sghys\\\\miniconda3\\\\envs\\\\ml\\\\Lib\\\\site-packages\\\\pandas\\\\core\\\\dtypes\\\\api.py\": 1725141804.8800771, \"C:\\\\Users\\\\sghys\\\\miniconda3\\\\envs\\\\ml\\\\Lib\\\\site-packages\\\\pandas\\\\api\\\\types\\\\__init__.py\": 1725141804.8450773, \"C:\\\\Users\\\\sghys\\\\miniconda3\\\\envs\\\\ml\\\\Lib\\\\site-packages\\\\pandas\\\\core\\\\resample.py\": 1725141804.8570774, \"C:\\\\Users\\\\sghys\\\\miniconda3\\\\envs\\\\ml\\\\Lib\\\\site-packages\\\\pandas\\\\_libs\\\\json.cp312-win_amd64.pyd\": 1725141805.4171832, \"C:\\\\Users\\\\sghys\\\\miniconda3\\\\envs\\\\ml\\\\Lib\\\\site-packages\\\\pandas\\\\io\\\\json\\\\_normalize.py\": 1725141804.9426577, \"C:\\\\Users\\\\sghys\\\\miniconda3\\\\envs\\\\ml\\\\Lib\\\\site-packages\\\\pandas\\\\io\\\\json\\\\_table_schema.py\": 1725141804.9426577, \"C:\\\\Users\\\\sghys\\\\miniconda3\\\\envs\\\\ml\\\\Lib\\\\site-packages\\\\pandas\\\\_libs\\\\parsers.cp312-win_amd64.pyd\": 1725141805.4313161, \"C:\\\\Users\\\\sghys\\\\miniconda3\\\\envs\\\\ml\\\\Lib\\\\site-packages\\\\pandas\\\\io\\\\parsers\\\\base_parser.py\": 1725141804.9436593, \"C:\\\\Users\\\\sghys\\\\miniconda3\\\\envs\\\\ml\\\\Lib\\\\site-packages\\\\pandas\\\\io\\\\parsers\\\\arrow_parser_wrapper.py\": 1725141804.9436593, \"C:\\\\Users\\\\sghys\\\\miniconda3\\\\envs\\\\ml\\\\Lib\\\\site-packages\\\\pandas\\\\io\\\\parsers\\\\c_parser_wrapper.py\": 1725141804.944949, \"C:\\\\Users\\\\sghys\\\\miniconda3\\\\envs\\\\ml\\\\Lib\\\\site-packages\\\\pandas\\\\io\\\\parsers\\\\python_parser.py\": 1725141804.944949, \"C:\\\\Users\\\\sghys\\\\miniconda3\\\\envs\\\\ml\\\\Lib\\\\site-packages\\\\pandas\\\\io\\\\parsers\\\\readers.py\": 1725141804.944949, \"C:\\\\Users\\\\sghys\\\\miniconda3\\\\envs\\\\ml\\\\Lib\\\\site-packages\\\\pandas\\\\io\\\\parsers\\\\__init__.py\": 1725141804.9459548, \"C:\\\\Users\\\\sghys\\\\miniconda3\\\\envs\\\\ml\\\\Lib\\\\site-packages\\\\pandas\\\\io\\\\json\\\\_json.py\": 1725141804.9416585, \"C:\\\\Users\\\\sghys\\\\miniconda3\\\\envs\\\\ml\\\\Lib\\\\site-packages\\\\pandas\\\\io\\\\json\\\\__init__.py\": 1725141804.9436593, \"C:\\\\Users\\\\sghys\\\\miniconda3\\\\envs\\\\ml\\\\Lib\\\\site-packages\\\\pandas\\\\io\\\\stata.py\": 1725141804.927658, \"C:\\\\Users\\\\sghys\\\\miniconda3\\\\envs\\\\ml\\\\Lib\\\\site-packages\\\\pandas\\\\api\\\\typing\\\\__init__.py\": 1725141804.8450773, \"C:\\\\Users\\\\sghys\\\\miniconda3\\\\envs\\\\ml\\\\Lib\\\\site-packages\\\\pandas\\\\api\\\\__init__.py\": 1725141804.8430772, \"C:\\\\Users\\\\sghys\\\\miniconda3\\\\envs\\\\ml\\\\Lib\\\\site-packages\\\\pandas\\\\_testing\\\\contexts.py\": 1725141805.4954908, \"C:\\\\Users\\\\sghys\\\\miniconda3\\\\envs\\\\ml\\\\Lib\\\\site-packages\\\\pandas\\\\_testing\\\\_io.py\": 1725141805.4964905, \"C:\\\\Users\\\\sghys\\\\miniconda3\\\\envs\\\\ml\\\\Lib\\\\site-packages\\\\pandas\\\\_testing\\\\_warnings.py\": 1725141805.4974906, \"C:\\\\Users\\\\sghys\\\\miniconda3\\\\envs\\\\ml\\\\Lib\\\\site-packages\\\\pandas\\\\_libs\\\\testing.cp312-win_amd64.pyd\": 1725141805.4453142, \"C:\\\\Users\\\\sghys\\\\miniconda3\\\\envs\\\\ml\\\\Lib\\\\site-packages\\\\pandas\\\\_testing\\\\asserters.py\": 1725141805.4944906, \"C:\\\\Users\\\\sghys\\\\miniconda3\\\\envs\\\\ml\\\\Lib\\\\site-packages\\\\pandas\\\\_testing\\\\compat.py\": 1725141805.4944906, \"C:\\\\Users\\\\sghys\\\\miniconda3\\\\envs\\\\ml\\\\Lib\\\\site-packages\\\\pandas\\\\_testing\\\\__init__.py\": 1725141805.4974906, \"C:\\\\Users\\\\sghys\\\\miniconda3\\\\envs\\\\ml\\\\Lib\\\\site-packages\\\\pandas\\\\testing.py\": 1725141804.8410778, \"C:\\\\Users\\\\sghys\\\\miniconda3\\\\envs\\\\ml\\\\Lib\\\\site-packages\\\\pandas\\\\util\\\\_print_versions.py\": 1725141805.3760748, \"C:\\\\Users\\\\sghys\\\\miniconda3\\\\envs\\\\ml\\\\Lib\\\\site-packages\\\\pandas\\\\io\\\\clipboards.py\": 1725141804.9236581, \"C:\\\\Users\\\\sghys\\\\miniconda3\\\\envs\\\\ml\\\\Lib\\\\site-packages\\\\pandas\\\\io\\\\excel\\\\_util.py\": 1725141804.9316583, \"C:\\\\Users\\\\sghys\\\\miniconda3\\\\envs\\\\ml\\\\Lib\\\\site-packages\\\\pandas\\\\io\\\\excel\\\\_calamine.py\": 1725141804.930658, \"C:\\\\Users\\\\sghys\\\\miniconda3\\\\envs\\\\ml\\\\Lib\\\\site-packages\\\\pandas\\\\io\\\\excel\\\\_odfreader.py\": 1725141804.930658, \"C:\\\\Users\\\\sghys\\\\miniconda3\\\\envs\\\\ml\\\\Lib\\\\site-packages\\\\pandas\\\\io\\\\excel\\\\_openpyxl.py\": 1725141804.9316583, \"C:\\\\Users\\\\sghys\\\\miniconda3\\\\envs\\\\ml\\\\Lib\\\\site-packages\\\\pandas\\\\io\\\\excel\\\\_pyxlsb.py\": 1725141804.9316583, \"C:\\\\Users\\\\sghys\\\\miniconda3\\\\envs\\\\ml\\\\Lib\\\\site-packages\\\\pandas\\\\io\\\\excel\\\\_xlrd.py\": 1725141804.93266, \"C:\\\\Users\\\\sghys\\\\miniconda3\\\\envs\\\\ml\\\\Lib\\\\site-packages\\\\pandas\\\\io\\\\excel\\\\_base.py\": 1725141804.9296584, \"C:\\\\Users\\\\sghys\\\\miniconda3\\\\envs\\\\ml\\\\Lib\\\\site-packages\\\\pandas\\\\io\\\\excel\\\\_odswriter.py\": 1725141804.930658, \"C:\\\\Users\\\\sghys\\\\miniconda3\\\\envs\\\\ml\\\\Lib\\\\site-packages\\\\pandas\\\\io\\\\excel\\\\_xlsxwriter.py\": 1725141804.93266, \"C:\\\\Users\\\\sghys\\\\miniconda3\\\\envs\\\\ml\\\\Lib\\\\site-packages\\\\pandas\\\\io\\\\excel\\\\__init__.py\": 1725141804.93266, \"C:\\\\Users\\\\sghys\\\\miniconda3\\\\envs\\\\ml\\\\Lib\\\\site-packages\\\\pandas\\\\io\\\\feather_format.py\": 1725141804.9236581, \"C:\\\\Users\\\\sghys\\\\miniconda3\\\\envs\\\\ml\\\\Lib\\\\site-packages\\\\pandas\\\\io\\\\gbq.py\": 1725141804.9246583, \"C:\\\\Users\\\\sghys\\\\miniconda3\\\\envs\\\\ml\\\\Lib\\\\site-packages\\\\pandas\\\\io\\\\html.py\": 1725141804.9246583, \"C:\\\\Users\\\\sghys\\\\miniconda3\\\\envs\\\\ml\\\\Lib\\\\site-packages\\\\pandas\\\\io\\\\orc.py\": 1725141804.9246583, \"C:\\\\Users\\\\sghys\\\\miniconda3\\\\envs\\\\ml\\\\Lib\\\\site-packages\\\\pandas\\\\io\\\\parquet.py\": 1725141804.9256597, \"C:\\\\Users\\\\sghys\\\\miniconda3\\\\envs\\\\ml\\\\Lib\\\\site-packages\\\\pandas\\\\compat\\\\pickle_compat.py\": 1725141804.8460772, \"C:\\\\Users\\\\sghys\\\\miniconda3\\\\envs\\\\ml\\\\Lib\\\\site-packages\\\\pandas\\\\io\\\\pickle.py\": 1725141804.9256597, \"C:\\\\Users\\\\sghys\\\\miniconda3\\\\envs\\\\ml\\\\Lib\\\\site-packages\\\\pandas\\\\core\\\\computation\\\\pytables.py\": 1725141804.8790774, \"C:\\\\Users\\\\sghys\\\\miniconda3\\\\envs\\\\ml\\\\Lib\\\\site-packages\\\\pandas\\\\io\\\\pytables.py\": 1725141804.9266586, \"C:\\\\Users\\\\sghys\\\\miniconda3\\\\envs\\\\ml\\\\Lib\\\\site-packages\\\\pandas\\\\io\\\\sas\\\\sasreader.py\": 1725141804.9473262, \"C:\\\\Users\\\\sghys\\\\miniconda3\\\\envs\\\\ml\\\\Lib\\\\site-packages\\\\pandas\\\\io\\\\sas\\\\__init__.py\": 1725141804.9483318, \"C:\\\\Users\\\\sghys\\\\miniconda3\\\\envs\\\\ml\\\\Lib\\\\site-packages\\\\pandas\\\\io\\\\spss.py\": 1725141804.9266586, \"C:\\\\Users\\\\sghys\\\\miniconda3\\\\envs\\\\ml\\\\Lib\\\\site-packages\\\\pandas\\\\io\\\\sql.py\": 1725141804.927658, \"C:\\\\Users\\\\sghys\\\\miniconda3\\\\envs\\\\ml\\\\Lib\\\\site-packages\\\\pandas\\\\io\\\\xml.py\": 1725141804.9286582, \"C:\\\\Users\\\\sghys\\\\miniconda3\\\\envs\\\\ml\\\\Lib\\\\site-packages\\\\pandas\\\\io\\\\api.py\": 1725141804.9226582, \"C:\\\\Users\\\\sghys\\\\miniconda3\\\\envs\\\\ml\\\\Lib\\\\site-packages\\\\pandas\\\\util\\\\_tester.py\": 1725141805.3760748, \"C:\\\\Users\\\\sghys\\\\miniconda3\\\\envs\\\\ml\\\\Lib\\\\site-packages\\\\pandas\\\\_version_meson.py\": 1725141804.8430772, \"C:\\\\Users\\\\sghys\\\\miniconda3\\\\envs\\\\ml\\\\Lib\\\\site-packages\\\\pandas\\\\__init__.py\": 1725141804.8430772}\n"
     ]
    }
   ],
   "source": [
    "\n",
    "# imports\n",
    "import os\n",
    "import sys\n",
    "import types\n",
    "import json\n",
    "import base64\n",
    "\n",
    "# figure size/format\n",
    "fig_width = 7\n",
    "fig_height = 5\n",
    "fig_format = 'retina'\n",
    "fig_dpi = 96\n",
    "interactivity = ''\n",
    "is_shiny = False\n",
    "is_dashboard = False\n",
    "plotly_connected = True\n",
    "\n",
    "# matplotlib defaults / format\n",
    "try:\n",
    "  import matplotlib.pyplot as plt\n",
    "  plt.rcParams['figure.figsize'] = (fig_width, fig_height)\n",
    "  plt.rcParams['figure.dpi'] = fig_dpi\n",
    "  plt.rcParams['savefig.dpi'] = \"figure\"\n",
    "  from IPython.display import set_matplotlib_formats\n",
    "  set_matplotlib_formats(fig_format)\n",
    "except Exception:\n",
    "  pass\n",
    "\n",
    "# plotly use connected mode\n",
    "try:\n",
    "  import plotly.io as pio\n",
    "  if plotly_connected:\n",
    "    pio.renderers.default = \"notebook_connected\"\n",
    "  else:\n",
    "    pio.renderers.default = \"notebook\"\n",
    "  for template in pio.templates.keys():\n",
    "    pio.templates[template].layout.margin = dict(t=30,r=0,b=0,l=0)\n",
    "except Exception:\n",
    "  pass\n",
    "\n",
    "# disable itables paging for dashboards\n",
    "if is_dashboard:\n",
    "  try:\n",
    "    from itables import options\n",
    "    options.dom = 'fiBrtlp'\n",
    "    options.maxBytes = 1024 * 1024\n",
    "    options.language = dict(info = \"Showing _TOTAL_ entries\")\n",
    "    options.classes = \"display nowrap compact\"\n",
    "    options.paging = False\n",
    "    options.searching = True\n",
    "    options.ordering = True\n",
    "    options.info = True\n",
    "    options.lengthChange = False\n",
    "    options.autoWidth = False\n",
    "    options.responsive = True\n",
    "    options.keys = True\n",
    "    options.buttons = []\n",
    "  except Exception:\n",
    "    pass\n",
    "  \n",
    "  try:\n",
    "    import altair as alt\n",
    "    # By default, dashboards will have container sized\n",
    "    # vega visualizations which allows them to flow reasonably\n",
    "    theme_sentinel = '_quarto-dashboard-internal'\n",
    "    def make_theme(name):\n",
    "        nonTheme = alt.themes._plugins[name]    \n",
    "        def patch_theme(*args, **kwargs):\n",
    "            existingTheme = nonTheme()\n",
    "            if 'height' not in existingTheme:\n",
    "              existingTheme['height'] = 'container'\n",
    "            if 'width' not in existingTheme:\n",
    "              existingTheme['width'] = 'container'\n",
    "\n",
    "            if 'config' not in existingTheme:\n",
    "              existingTheme['config'] = dict()\n",
    "            \n",
    "            # Configure the default font sizes\n",
    "            title_font_size = 15\n",
    "            header_font_size = 13\n",
    "            axis_font_size = 12\n",
    "            legend_font_size = 12\n",
    "            mark_font_size = 12\n",
    "            tooltip = False\n",
    "\n",
    "            config = existingTheme['config']\n",
    "\n",
    "            # The Axis\n",
    "            if 'axis' not in config:\n",
    "              config['axis'] = dict()\n",
    "            axis = config['axis']\n",
    "            if 'labelFontSize' not in axis:\n",
    "              axis['labelFontSize'] = axis_font_size\n",
    "            if 'titleFontSize' not in axis:\n",
    "              axis['titleFontSize'] = axis_font_size  \n",
    "\n",
    "            # The legend\n",
    "            if 'legend' not in config:\n",
    "              config['legend'] = dict()\n",
    "            legend = config['legend']\n",
    "            if 'labelFontSize' not in legend:\n",
    "              legend['labelFontSize'] = legend_font_size\n",
    "            if 'titleFontSize' not in legend:\n",
    "              legend['titleFontSize'] = legend_font_size  \n",
    "\n",
    "            # The header\n",
    "            if 'header' not in config:\n",
    "              config['header'] = dict()\n",
    "            header = config['header']\n",
    "            if 'labelFontSize' not in header:\n",
    "              header['labelFontSize'] = header_font_size\n",
    "            if 'titleFontSize' not in header:\n",
    "              header['titleFontSize'] = header_font_size    \n",
    "\n",
    "            # Title\n",
    "            if 'title' not in config:\n",
    "              config['title'] = dict()\n",
    "            title = config['title']\n",
    "            if 'fontSize' not in title:\n",
    "              title['fontSize'] = title_font_size\n",
    "\n",
    "            # Marks\n",
    "            if 'mark' not in config:\n",
    "              config['mark'] = dict()\n",
    "            mark = config['mark']\n",
    "            if 'fontSize' not in mark:\n",
    "              mark['fontSize'] = mark_font_size\n",
    "\n",
    "            # Mark tooltips\n",
    "            if tooltip and 'tooltip' not in mark:\n",
    "              mark['tooltip'] = dict(content=\"encoding\")\n",
    "\n",
    "            return existingTheme\n",
    "            \n",
    "        return patch_theme\n",
    "\n",
    "    # We can only do this once per session\n",
    "    if theme_sentinel not in alt.themes.names():\n",
    "      for name in alt.themes.names():\n",
    "        alt.themes.register(name, make_theme(name))\n",
    "      \n",
    "      # register a sentinel theme so we only do this once\n",
    "      alt.themes.register(theme_sentinel, make_theme('default'))\n",
    "      alt.themes.enable('default')\n",
    "\n",
    "  except Exception:\n",
    "    pass\n",
    "\n",
    "# enable pandas latex repr when targeting pdfs\n",
    "try:\n",
    "  import pandas as pd\n",
    "  if fig_format == 'pdf':\n",
    "    pd.set_option('display.latex.repr', True)\n",
    "except Exception:\n",
    "  pass\n",
    "\n",
    "# interactivity\n",
    "if interactivity:\n",
    "  from IPython.core.interactiveshell import InteractiveShell\n",
    "  InteractiveShell.ast_node_interactivity = interactivity\n",
    "\n",
    "# NOTE: the kernel_deps code is repeated in the cleanup.py file\n",
    "# (we can't easily share this code b/c of the way it is run).\n",
    "# If you edit this code also edit the same code in cleanup.py!\n",
    "\n",
    "# output kernel dependencies\n",
    "kernel_deps = dict()\n",
    "for module in list(sys.modules.values()):\n",
    "  # Some modules play games with sys.modules (e.g. email/__init__.py\n",
    "  # in the standard library), and occasionally this can cause strange\n",
    "  # failures in getattr.  Just ignore anything that's not an ordinary\n",
    "  # module.\n",
    "  if not isinstance(module, types.ModuleType):\n",
    "    continue\n",
    "  path = getattr(module, \"__file__\", None)\n",
    "  if not path:\n",
    "    continue\n",
    "  if path.endswith(\".pyc\") or path.endswith(\".pyo\"):\n",
    "    path = path[:-1]\n",
    "  if not os.path.exists(path):\n",
    "    continue\n",
    "  kernel_deps[path] = os.stat(path).st_mtime\n",
    "print(json.dumps(kernel_deps))\n",
    "\n",
    "# set run_path if requested\n",
    "run_path = 'QzpcVXNlcnNcc2doeXNcTXkgRHJpdmUgKHNnaHlzZWxpQHN0dWRlbnQudWJjLmNhKVxxdWFydG9cZ2l0aHViaW9cY29udGVudFxlb3NjNTU1XGxlY3R1cmVzXGxlY3R1cmUz'\n",
    "if run_path:\n",
    "  # hex-decode the path\n",
    "  run_path = base64.b64decode(run_path.encode(\"utf-8\")).decode(\"utf-8\")\n",
    "  os.chdir(run_path)\n",
    "\n",
    "# reset state\n",
    "%reset\n",
    "\n",
    "# shiny\n",
    "# Checking for shiny by using False directly because we're after the %reset. We don't want\n",
    "# to set a variable that stays in global scope.\n",
    "if False:\n",
    "  try:\n",
    "    import htmltools as _htmltools\n",
    "    import ast as _ast\n",
    "\n",
    "    _htmltools.html_dependency_render_mode = \"json\"\n",
    "\n",
    "    # This decorator will be added to all function definitions\n",
    "    def _display_if_has_repr_html(x):\n",
    "      try:\n",
    "        # IPython 7.14 preferred import\n",
    "        from IPython.display import display, HTML\n",
    "      except:\n",
    "        from IPython.core.display import display, HTML\n",
    "\n",
    "      if hasattr(x, '_repr_html_'):\n",
    "        display(HTML(x._repr_html_()))\n",
    "      return x\n",
    "\n",
    "    # ideally we would undo the call to ast_transformers.append\n",
    "    # at the end of this block whenver an error occurs, we do \n",
    "    # this for now as it will only be a problem if the user \n",
    "    # switches from shiny to not-shiny mode (and even then likely\n",
    "    # won't matter)\n",
    "    import builtins\n",
    "    builtins._display_if_has_repr_html = _display_if_has_repr_html\n",
    "\n",
    "    class _FunctionDefReprHtml(_ast.NodeTransformer):\n",
    "      def visit_FunctionDef(self, node):\n",
    "        node.decorator_list.insert(\n",
    "          0,\n",
    "          _ast.Name(id=\"_display_if_has_repr_html\", ctx=_ast.Load())\n",
    "        )\n",
    "        return node\n",
    "\n",
    "      def visit_AsyncFunctionDef(self, node):\n",
    "        node.decorator_list.insert(\n",
    "          0,\n",
    "          _ast.Name(id=\"_display_if_has_repr_html\", ctx=_ast.Load())\n",
    "        )\n",
    "        return node\n",
    "\n",
    "    ip = get_ipython()\n",
    "    ip.ast_transformers.append(_FunctionDefReprHtml())\n",
    "\n",
    "  except:\n",
    "    pass\n",
    "\n",
    "def ojs_define(**kwargs):\n",
    "  import json\n",
    "  try:\n",
    "    # IPython 7.14 preferred import\n",
    "    from IPython.display import display, HTML\n",
    "  except:\n",
    "    from IPython.core.display import display, HTML\n",
    "\n",
    "  # do some minor magic for convenience when handling pandas\n",
    "  # dataframes\n",
    "  def convert(v):\n",
    "    try:\n",
    "      import pandas as pd\n",
    "    except ModuleNotFoundError: # don't do the magic when pandas is not available\n",
    "      return v\n",
    "    if type(v) == pd.Series:\n",
    "      v = pd.DataFrame(v)\n",
    "    if type(v) == pd.DataFrame:\n",
    "      j = json.loads(v.T.to_json(orient='split'))\n",
    "      return dict((k,v) for (k,v) in zip(j[\"index\"], j[\"data\"]))\n",
    "    else:\n",
    "      return v\n",
    "\n",
    "  v = dict(contents=list(dict(name=key, value=convert(value)) for (key, value) in kwargs.items()))\n",
    "  display(HTML('<script type=\"ojs-define\">' + json.dumps(v) + '</script>'), metadata=dict(ojs_define = True))\n",
    "globals()[\"ojs_define\"] = ojs_define\n",
    "# globals()[\"__spec__\"] = None"
   ]
  },
  {
   "cell_type": "code",
   "execution_count": 2,
   "id": "1bb305e6",
   "metadata": {},
   "outputs": [
    {
     "data": {
      "image/png": "[encoded data removed]",
      "text/plain": [
       "<Figure size 720x384 with 1 Axes>"
      ]
     },
     "metadata": {
      "image/png": {
       "height": 374,
       "width": 703
      }
     },
     "output_type": "display_data"
    }
   ],
   "source": [
    "import numpy as np\n",
    "import matplotlib.pyplot as plt\n",
    "import seaborn as sns\n",
    "\n",
    "# Seed for reproducibility\n",
    "np.random.seed(4)\n",
    "# Create a 5x10 matrix A with random values\n",
    "A = np.random.randn(5, 10)\n",
    "# Create a vector b of size 5 with random values\n",
    "b = np.random.randn(5)\n",
    "\n",
    "# Compute the SVD of A\n",
    "U, S, Vt = np.linalg.svd(A, full_matrices=False)\n",
    "\n",
    "# Create a time dependent vector of the singular values\n",
    "def St(t):\n",
    "    Sdim = S[:, np.newaxis]\n",
    "    return (1 - np.exp(-Sdim**2*t)) / Sdim\n",
    "\n",
    "# Compute the time evolution of the values and plot them on a log scale y axis with a linear time x axis\n",
    "t = np.linspace(0, .6, 100)\n",
    "T = t[np.newaxis, :]\n",
    "\n",
    "singular_vals_t = St(T)\n",
    "\n",
    "# Initialize the plot\n",
    "plt.figure(figsize=(7.5, 4))\n",
    "\n",
    "# Create a color palette\n",
    "palette = sns.color_palette(\"husl\", len(S))\n",
    "\n",
    "# Plot the singular values and their asymptotes\n",
    "for i in range(len(S)):\n",
    "    # Plot the time evolution of each singular value\n",
    "    sns.lineplot(x=t, y=singular_vals_t[i, :], color=palette[i], linewidth=2, label=f'$1/S_{i}$ ')\n",
    "    \n",
    "    Sinv = 1/S[i]\n",
    "\n",
    "    # Add a horizontal asymptote at the original singular value\n",
    "    plt.axhline(y=Sinv, color=palette[i], linestyle='--', linewidth=1)\n",
    "    \n",
    "    # Annotate the asymptote with the singular value\n",
    "    plt.text(t[-1] + 0.02, Sinv, f'{Sinv:.2f}', color=palette[i], va='center')\n",
    "\n",
    "# Configure plot aesthetics\n",
    "plt.xlabel('Time', fontsize=14)\n",
    "plt.ylabel('Inverse Singular Vals', fontsize=14)\n",
    "plt.title('Time Evolution of Pseudo Inverse in Gradient Flow', fontsize=16)\n",
    "plt.legend(title='Inverse Singular Vals', bbox_to_anchor=(1.05, 1), loc='upper left')\n",
    "plt.xlim(t[0], t[-1] + 0.1)\n",
    "plt.tight_layout()\n",
    "plt.savefig('imgs/pseudo_inverse_time_evolution.png')\n",
    "plt.show()"
   ]
  },
  {
   "cell_type": "code",
   "execution_count": 3,
   "id": "efc349f9",
   "metadata": {},
   "outputs": [],
   "source": [
    "import matplotlib.pyplot as plt\n",
    "import matplotlib\n",
    "#matplotlib.use('TkAgg')\n",
    "import numpy as np\n",
    "import torch.optim\n",
    "import torch\n",
    "import torch.nn as nn\n",
    "import torch.nn.functional as F\n",
    "from torch.optim import Adam\n",
    "import copy\n",
    "\n",
    "import seaborn as sns\n",
    "\n",
    "import math\n",
    "import os\n",
    "import time\n",
    "\n",
    "import matplotlib.pyplot as plt\n",
    "import numpy as np\n",
    "import torch.fft\n",
    "\n",
    "class gaussianConv(nn.Module):\n",
    "    \"\"\"\n",
    "    A PyTorch module that applies a Gaussian convolution to an input image using \n",
    "    a parameterized Gaussian Point Spread Function (PSF). The PSF is derived \n",
    "    from a covariance matrix and the derivatives of the Gaussian are computed \n",
    "    for edge detection.\n",
    "\n",
    "    Args:\n",
    "        C (torch.Tensor): Inverse of covariance matrix used to define the shape of the Gaussian.\n",
    "        t (float, optional): Scaling factor for the Gaussian, default is np.exp(5).\n",
    "        n0 (float, optional): Scaling factor for the original PSF, default is 1.\n",
    "        nx (float, optional): Scaling factor for the derivative along the x-axis, default is 1.\n",
    "        ny (float, optional): Scaling factor for the derivative along the y-axis, default is 1.\n",
    "    \"\"\"\n",
    "    def __init__(self, C, t=np.exp(5), n0=1, nx=1, ny=1):\n",
    "        super(gaussianConv, self).__init__()\n",
    "\n",
    "        self.C = C\n",
    "        self.t = t\n",
    "        self.n0 = n0\n",
    "        self.nx = nx\n",
    "        self.ny = ny\n",
    "\n",
    "    def forward(self, image):\n",
    "        P, center = self.psfGauss(image.shape[-1], image.device)\n",
    "        P_shifted = torch.roll(P, shifts=center, dims=[2, 3])\n",
    "        S = torch.fft.fft2(P_shifted)\n",
    "        I_fft = torch.fft.fft2(image)\n",
    "        B_fft = S * I_fft\n",
    "        B = torch.real(torch.fft.ifft2(B_fft))\n",
    "\n",
    "        return B\n",
    "\n",
    "    def psfGauss(self, dim, device='cpu'):\n",
    "        m = dim\n",
    "        n = dim\n",
    "\n",
    "        # Create a meshgrid of (X, Y) coordinates\n",
    "        x = torch.arange(-m // 2 + 1, m // 2 + 1, device=device)\n",
    "        y = torch.arange(-n // 2 + 1, n // 2 + 1, device=device)\n",
    "        X, Y = torch.meshgrid(x, y, indexing='ij')\n",
    "        X = X.unsqueeze(0).unsqueeze(0)  # Shape: (1, 1, m, n)\n",
    "        Y = Y.unsqueeze(0).unsqueeze(0)  # Shape: (1, 1, m, n)\n",
    "\n",
    "        cx, cy, cxy = self.C[0, 0], self.C[1, 1], self.C[0, 1]\n",
    "\n",
    "        PSF = torch.exp(-self.t * (cx * X ** 2 + cy * Y ** 2 + 2 * cxy * X * Y))\n",
    "        PSF0 = PSF / torch.sum(PSF.abs())\n",
    "\n",
    "        Kdx = torch.tensor([[-1, 0, 1],\n",
    "                            [-2, 0, 2],\n",
    "                            [-1, 0, 1]], dtype=PSF0.dtype, device=device) / 4\n",
    "        Kdy = torch.tensor([[-1, -2, -1],\n",
    "                            [0, 0, 0],\n",
    "                            [1, 2, 1]], dtype=PSF0.dtype, device=device) / 4\n",
    "\n",
    "        Kdx = Kdx.unsqueeze(0).unsqueeze(0)  # Shape: (1, 1, 3, 3)\n",
    "        Kdy = Kdy.unsqueeze(0).unsqueeze(0)  # Shape: (1, 1, 3, 3)\n",
    "\n",
    "        PSFdx = F.conv2d(PSF0, Kdx, padding=1)\n",
    "        PSFdy = F.conv2d(PSF0, Kdy, padding=1)\n",
    "\n",
    "        PSF_combined = self.n0 * PSF0 + self.nx * PSFdx + self.ny * PSFdy\n",
    "\n",
    "        center = [1 - m // 2, 1 - n // 2]\n",
    "\n",
    "        return PSF_combined, center\n",
    "\n",
    "dim = 32\n",
    "x = torch.zeros(1, 1, dim, dim)\n",
    "x[:,:, 12:14, 12:14] = 1.0\n",
    "x[:,:, 10:12, 10:12] = -1.0\n",
    "\n",
    "C = torch.tensor([[1, 0],[0, 1]])\n",
    "Amv = gaussianConv(C, t=0.1,n0=1, nx=0.1,  ny=0.1)\n",
    "\n",
    "n=(len(x.flatten()))\n",
    "Amat = torch.zeros(n,n)\n",
    "\n",
    "k=0\n",
    "for i in range(x.shape[-2]):\n",
    "  for j in range(x.shape[-1]):\n",
    "    e_ij = torch.zeros_like(x)\n",
    "    e_ij[:,:, i, j] = 1.0\n",
    "    y = Amv(e_ij)\n",
    "    Amat[:, k] = y.flatten()\n",
    "    k = k+1\n",
    "\n",
    "U, S, V = torch.svd(Amat.to(torch.float64))\n",
    "b = Amv(x)"
   ]
  },
  {
   "cell_type": "code",
   "execution_count": 4,
   "id": "f0f63cb5",
   "metadata": {},
   "outputs": [
    {
     "data": {
      "image/png": "[encoded data removed]",
      "text/plain": [
       "<Figure size 576x288 with 2 Axes>"
      ]
     },
     "metadata": {
      "image/png": {
       "height": 287,
       "width": 548
      }
     },
     "output_type": "display_data"
    }
   ],
   "source": [
    "plt.figure(figsize=(6, 3))\n",
    "plt.subplot(1, 2, 1)\n",
    "plt.imshow(x[0, 0], cmap='viridis', vmin=-1, vmax=1)\n",
    "plt.title('Original Image')\n",
    "plt.axis('off')\n",
    "plt.subplot(1, 2, 2)\n",
    "\n",
    "b_noisy = b+ 0.01 * torch.randn_like(b)\n",
    "plt.imshow(b_noisy[0, 0], cmap='viridis', vmin=-1, vmax=1)\n",
    "plt.title('Distorted Image')\n",
    "plt.axis('off')\n",
    "plt.tight_layout()"
   ]
  },
  {
   "cell_type": "code",
   "execution_count": 5,
   "id": "95a813ee",
   "metadata": {},
   "outputs": [],
   "source": [
    "from matplotlib import animation\n",
    "\n",
    "b_flat = b.flatten().to(torch.float64)\n",
    "x_flat = x.flatten().to(torch.float64)\n",
    "b_noisy = b_flat + 0.001 * torch.randn_like(b_flat)\n",
    "\n",
    "def get_xhat(t):\n",
    "    Sinv_t = (1 - torch.exp(-S**2 * t)) / S\n",
    "    A_pinv = V @ torch.diag(Sinv_t) @ U.T\n",
    "    xhat = A_pinv @ b_noisy\n",
    "    return xhat\n",
    "\n",
    "# Time evolution parameters\n",
    "num_frames = 50\n",
    "t_vals = np.logspace(0, 6, num_frames)\n",
    "\n",
    "# Prepare the plot\n",
    "fig, ax = plt.subplots(figsize=(6, 6))\n",
    "im = ax.imshow(np.zeros((dim, dim)), cmap='viridis', vmin=-1, vmax=1)\n",
    "ax.set_title('Time Evolution of Pseudo-Inverse Gradient Flow')\n",
    "plt.axis('off')\n",
    "\n",
    "# Initialize the error text\n",
    "error_text = ax.text(0.02, 0.95, '', transform=ax.transAxes, color='blue', fontsize=12,\n",
    "                     verticalalignment='top')\n",
    "\n",
    "time_text = ax.text(0.5, 0.95, '', transform=ax.transAxes, color='blue', fontsize=12,\n",
    "                        verticalalignment='top')\n",
    "\n",
    "# Initialize containers to track min error and best time\n",
    "tracking = {'min_error': float('inf'), 'best_t': 0.0}\n",
    "\n",
    "# Animation update function\n",
    "def update_frame(t):\n",
    "    # Compute time-dependent singular values\n",
    "    Sinv_t = (1 - torch.exp(-S ** 2 * t)) / S\n",
    "    # Construct the pseudoinverse of Amat at time t\n",
    "    A_pinv = V @ torch.diag(Sinv_t) @ U.t()\n",
    "    # Reconstruct the image estimate x(t)\n",
    "    xt = A_pinv @ b_noisy\n",
    "    # Compute the relative error\n",
    "    error = torch.norm(x_flat - xt) / torch.norm(x_flat)\n",
    "    \n",
    "    # Update min_error and best_t if current error is lower\n",
    "    if error.item() < tracking['min_error']:\n",
    "        tracking['min_error'] = error.item()\n",
    "        tracking['best_t'] = t\n",
    "\n",
    "    # Reshape to image dimensions\n",
    "    x_image = xt.reshape(dim, dim).detach().numpy()\n",
    "\n",
    "    # Update the image data\n",
    "    im.set_data(x_image)\n",
    "\n",
    "    # Update the error text\n",
    "    error_text.set_text(f'Relative Error: {error.item():.4f}')\n",
    "    time_text.set_text(f'Time: {t:.2f}')\n",
    "\n",
    "    return [im, error_text, time_text]\n",
    "\n",
    "# Create the animation\n",
    "ani = animation.FuncAnimation(fig, update_frame, frames=t_vals, blit=True, interval=100)\n",
    "\n",
    "ani.save('imgs/gradient_flow.gif', writer='pillow', fps=5)\n",
    "plt.close(fig)"
   ]
  },
  {
   "cell_type": "code",
   "execution_count": 6,
   "id": "99cfb0cb",
   "metadata": {},
   "outputs": [
    {
     "data": {
      "image/png": "[encoded data removed]",
      "text/plain": [
       "<Figure size 576x576 with 1 Axes>"
      ]
     },
     "metadata": {
      "image/png": {
       "height": 500,
       "width": 462
      }
     },
     "output_type": "display_data"
    }
   ],
   "source": [
    "best_img = get_xhat(tracking['best_t']).reshape(dim, dim).detach().numpy()\n",
    "\n",
    "plt.figure(figsize=(6, 6))\n",
    "plt.imshow(best_img / np.max(np.abs(best_img)), cmap='viridis', vmin=-1, vmax=1)\n",
    "plt.title(f'Best Reconstruction at t={tracking[\"best_t\"]:.2f}\\nRelative Error: {tracking[\"min_error\"]:.4f}')\n",
    "plt.axis('off')\n",
    "plt.show()"
   ]
  },
  {
   "cell_type": "code",
   "execution_count": 7,
   "id": "16c7d667",
   "metadata": {},
   "outputs": [],
   "source": [
    "def Amv_adjoint(v):\n",
    "    x = torch.zeros(1, 1, dim, dim)\n",
    "    x.requires_grad = True\n",
    "    b = Amv(x)\n",
    "    # Compute the dot product of the forward operator with the input vector\n",
    "    h = torch.sum(b * v)\n",
    "    # Compute the gradient of the dot product with respect to the input image\n",
    "    adjoint = torch.autograd.grad(h, x, create_graph=True)[0]\n",
    "    return adjoint"
   ]
  },
  {
   "cell_type": "code",
   "execution_count": 8,
   "id": "89eb340d",
   "metadata": {},
   "outputs": [
    {
     "name": "stdout",
     "output_type": "stream",
     "text": [
      "Norm of difference between adjoint and transpose: 4.43e-07\n"
     ]
    }
   ],
   "source": [
    "Amat_adj = torch.zeros(n,n)\n",
    "\n",
    "dim = 32 # Same as earlier\n",
    "k=0\n",
    "for i in range(dim):\n",
    "  for j in range(dim):\n",
    "    e_ij = torch.zeros_like(x)\n",
    "    e_ij[:,:, i, j] = 1.0\n",
    "    y = Amv_adjoint(e_ij)\n",
    "    Amat_adj[:, k] = y.flatten()\n",
    "    k = k+1\n",
    "\n",
    "diff = torch.norm(Amat_adj - Amat.T)\n",
    "print(f'Norm of difference between adjoint and transpose: {diff:.2e}')"
   ]
  },
  {
   "cell_type": "code",
   "execution_count": 9,
   "id": "a462796b",
   "metadata": {},
   "outputs": [
    {
     "name": "stderr",
     "output_type": "stream",
     "text": [
      "\r",
      "Least Squares Iteration:   0%|          | 0/1000 [00:00<?, ?iter/s]"
     ]
    },
    {
     "name": "stderr",
     "output_type": "stream",
     "text": [
      "\r",
      "Least Squares Iteration:   0%|          | 0/1000 [00:00<?, ?iter/s, Error=2.1563e-01]"
     ]
    },
    {
     "name": "stderr",
     "output_type": "stream",
     "text": [
      "\r",
      "Least Squares Iteration:   0%|          | 1/1000 [00:00<00:04, 219.83iter/s, Error=1.2599e-01]"
     ]
    },
    {
     "name": "stderr",
     "output_type": "stream",
     "text": [
      "\r",
      "Least Squares Iteration:   0%|          | 2/1000 [00:00<00:03, 303.86iter/s, Error=9.0033e-02]"
     ]
    },
    {
     "name": "stderr",
     "output_type": "stream",
     "text": [
      "\r",
      "Least Squares Iteration:   0%|          | 3/1000 [00:00<00:02, 345.11iter/s, Error=7.0516e-02]"
     ]
    },
    {
     "name": "stderr",
     "output_type": "stream",
     "text": [
      "\r",
      "Least Squares Iteration:   0%|          | 4/1000 [00:00<00:02, 392.76iter/s, Error=5.8476e-02]"
     ]
    },
    {
     "name": "stderr",
     "output_type": "stream",
     "text": [
      "\r",
      "Least Squares Iteration:   0%|          | 5/1000 [00:00<00:02, 410.06iter/s, Error=5.0304e-02]"
     ]
    },
    {
     "name": "stderr",
     "output_type": "stream",
     "text": [
      "\r",
      "Least Squares Iteration:   1%|          | 6/1000 [00:00<00:02, 422.22iter/s, Error=4.4323e-02]"
     ]
    },
    {
     "name": "stderr",
     "output_type": "stream",
     "text": [
      "\r",
      "Least Squares Iteration:   1%|          | 7/1000 [00:00<00:02, 406.40iter/s, Error=3.9702e-02]"
     ]
    },
    {
     "name": "stderr",
     "output_type": "stream",
     "text": [
      "\r",
      "Least Squares Iteration:   1%|          | 8/1000 [00:00<00:02, 409.52iter/s, Error=3.6006e-02]"
     ]
    },
    {
     "name": "stderr",
     "output_type": "stream",
     "text": [
      "\r",
      "Least Squares Iteration:   1%|          | 9/1000 [00:00<00:02, 433.07iter/s, Error=3.2978e-02]"
     ]
    },
    {
     "name": "stderr",
     "output_type": "stream",
     "text": [
      "\r",
      "Least Squares Iteration:   1%|          | 10/1000 [00:00<00:02, 438.77iter/s, Error=3.0457e-02]"
     ]
    },
    {
     "name": "stderr",
     "output_type": "stream",
     "text": [
      "\r",
      "Least Squares Iteration:   1%|          | 11/1000 [00:00<00:02, 443.66iter/s, Error=2.8329e-02]"
     ]
    },
    {
     "name": "stderr",
     "output_type": "stream",
     "text": [
      "\r",
      "Least Squares Iteration:   1%|          | 12/1000 [00:00<00:02, 450.71iter/s, Error=2.6512e-02]"
     ]
    },
    {
     "name": "stderr",
     "output_type": "stream",
     "text": [
      "\r",
      "Least Squares Iteration:   1%|▏         | 13/1000 [00:00<00:02, 452.52iter/s, Error=2.4943e-02]"
     ]
    },
    {
     "name": "stderr",
     "output_type": "stream",
     "text": [
      "\r",
      "Least Squares Iteration:   1%|▏         | 14/1000 [00:00<00:02, 455.73iter/s, Error=2.3576e-02]"
     ]
    },
    {
     "name": "stderr",
     "output_type": "stream",
     "text": [
      "\r",
      "Least Squares Iteration:   2%|▏         | 15/1000 [00:00<00:02, 454.41iter/s, Error=2.2371e-02]"
     ]
    },
    {
     "name": "stderr",
     "output_type": "stream",
     "text": [
      "\r",
      "Least Squares Iteration:   2%|▏         | 16/1000 [00:00<00:02, 439.31iter/s, Error=2.1301e-02]"
     ]
    },
    {
     "name": "stderr",
     "output_type": "stream",
     "text": [
      "\r",
      "Least Squares Iteration:   2%|▏         | 17/1000 [00:00<00:02, 451.96iter/s, Error=2.0342e-02]"
     ]
    },
    {
     "name": "stderr",
     "output_type": "stream",
     "text": [
      "\r",
      "Least Squares Iteration:   2%|▏         | 18/1000 [00:00<00:02, 453.20iter/s, Error=1.9476e-02]"
     ]
    },
    {
     "name": "stderr",
     "output_type": "stream",
     "text": [
      "\r",
      "Least Squares Iteration:   2%|▏         | 19/1000 [00:00<00:02, 455.17iter/s, Error=1.8689e-02]"
     ]
    },
    {
     "name": "stderr",
     "output_type": "stream",
     "text": [
      "\r",
      "Least Squares Iteration:   2%|▏         | 20/1000 [00:00<00:02, 447.02iter/s, Error=1.7969e-02]"
     ]
    },
    {
     "name": "stderr",
     "output_type": "stream",
     "text": [
      "\r",
      "Least Squares Iteration:   2%|▏         | 21/1000 [00:00<00:02, 449.30iter/s, Error=1.7307e-02]"
     ]
    },
    {
     "name": "stderr",
     "output_type": "stream",
     "text": [
      "\r",
      "Least Squares Iteration:   2%|▏         | 22/1000 [00:00<00:02, 455.90iter/s, Error=1.6694e-02]"
     ]
    },
    {
     "name": "stderr",
     "output_type": "stream",
     "text": [
      "\r",
      "Least Squares Iteration:   2%|▏         | 23/1000 [00:00<00:02, 443.75iter/s, Error=1.6126e-02]"
     ]
    },
    {
     "name": "stderr",
     "output_type": "stream",
     "text": [
      "\r",
      "Least Squares Iteration:   2%|▏         | 24/1000 [00:00<00:02, 442.15iter/s, Error=1.5596e-02]"
     ]
    },
    {
     "name": "stderr",
     "output_type": "stream",
     "text": [
      "\r",
      "Least Squares Iteration:   2%|▎         | 25/1000 [00:00<00:02, 451.48iter/s, Error=1.5101e-02]"
     ]
    },
    {
     "name": "stderr",
     "output_type": "stream",
     "text": [
      "\r",
      "Least Squares Iteration:   3%|▎         | 26/1000 [00:00<00:02, 443.46iter/s, Error=1.4636e-02]"
     ]
    },
    {
     "name": "stderr",
     "output_type": "stream",
     "text": [
      "\r",
      "Least Squares Iteration:   3%|▎         | 27/1000 [00:00<00:02, 445.37iter/s, Error=1.4200e-02]"
     ]
    },
    {
     "name": "stderr",
     "output_type": "stream",
     "text": [
      "\r",
      "Least Squares Iteration:   3%|▎         | 28/1000 [00:00<00:02, 444.71iter/s, Error=1.3788e-02]"
     ]
    },
    {
     "name": "stderr",
     "output_type": "stream",
     "text": [
      "\r",
      "Least Squares Iteration:   3%|▎         | 29/1000 [00:00<00:02, 444.69iter/s, Error=1.3399e-02]"
     ]
    },
    {
     "name": "stderr",
     "output_type": "stream",
     "text": [
      "\r",
      "Least Squares Iteration:   3%|▎         | 30/1000 [00:00<00:02, 435.33iter/s, Error=1.3031e-02]"
     ]
    },
    {
     "name": "stderr",
     "output_type": "stream",
     "text": [
      "\r",
      "Least Squares Iteration:   3%|▎         | 31/1000 [00:00<00:02, 437.11iter/s, Error=1.2682e-02]"
     ]
    },
    {
     "name": "stderr",
     "output_type": "stream",
     "text": [
      "\r",
      "Least Squares Iteration:   3%|▎         | 32/1000 [00:00<00:02, 438.84iter/s, Error=1.2351e-02]"
     ]
    },
    {
     "name": "stderr",
     "output_type": "stream",
     "text": [
      "\r",
      "Least Squares Iteration:   3%|▎         | 33/1000 [00:00<00:02, 440.48iter/s, Error=1.2036e-02]"
     ]
    },
    {
     "name": "stderr",
     "output_type": "stream",
     "text": [
      "\r",
      "Least Squares Iteration:   3%|▎         | 34/1000 [00:00<00:02, 442.02iter/s, Error=1.1737e-02]"
     ]
    },
    {
     "name": "stderr",
     "output_type": "stream",
     "text": [
      "\r",
      "Least Squares Iteration:   4%|▎         | 35/1000 [00:00<00:02, 443.34iter/s, Error=1.1451e-02]"
     ]
    },
    {
     "name": "stderr",
     "output_type": "stream",
     "text": [
      "\r",
      "Least Squares Iteration:   4%|▎         | 36/1000 [00:00<00:02, 449.26iter/s, Error=1.1179e-02]"
     ]
    },
    {
     "name": "stderr",
     "output_type": "stream",
     "text": [
      "\r",
      "Least Squares Iteration:   4%|▎         | 37/1000 [00:00<00:02, 445.03iter/s, Error=1.0919e-02]"
     ]
    },
    {
     "name": "stderr",
     "output_type": "stream",
     "text": [
      "\r",
      "Least Squares Iteration:   4%|▍         | 38/1000 [00:00<00:02, 443.92iter/s, Error=1.0670e-02]"
     ]
    },
    {
     "name": "stderr",
     "output_type": "stream",
     "text": [
      "\r",
      "Least Squares Iteration:   4%|▍         | 39/1000 [00:00<00:02, 443.44iter/s, Error=1.0433e-02]"
     ]
    },
    {
     "name": "stderr",
     "output_type": "stream",
     "text": [
      "\r",
      "Least Squares Iteration:   4%|▍         | 40/1000 [00:00<00:02, 444.69iter/s, Error=1.0205e-02]"
     ]
    },
    {
     "name": "stderr",
     "output_type": "stream",
     "text": [
      "\r",
      "Least Squares Iteration:   4%|▍         | 41/1000 [00:00<00:02, 445.82iter/s, Error=9.9872e-03]"
     ]
    },
    {
     "name": "stderr",
     "output_type": "stream",
     "text": [
      "\r",
      "Least Squares Iteration:   4%|▍         | 42/1000 [00:00<00:02, 446.98iter/s, Error=9.7783e-03]"
     ]
    },
    {
     "name": "stderr",
     "output_type": "stream",
     "text": [
      "\r",
      "Least Squares Iteration:   4%|▍         | 43/1000 [00:00<00:02, 446.45iter/s, Error=9.5779e-03]"
     ]
    },
    {
     "name": "stderr",
     "output_type": "stream",
     "text": [
      "\r",
      "Least Squares Iteration:   4%|▍         | 44/1000 [00:00<00:02, 447.52iter/s, Error=9.3856e-03]"
     ]
    },
    {
     "name": "stderr",
     "output_type": "stream",
     "text": [
      "\r",
      "Least Squares Iteration:   4%|▍         | 45/1000 [00:00<00:02, 444.15iter/s, Error=9.2009e-03]"
     ]
    },
    {
     "name": "stderr",
     "output_type": "stream",
     "text": [
      "\r",
      "Least Squares Iteration:   5%|▍         | 46/1000 [00:00<00:02, 454.02iter/s, Error=9.2009e-03]"
     ]
    },
    {
     "name": "stderr",
     "output_type": "stream",
     "text": [
      "\r",
      "Least Squares Iteration:   5%|▍         | 46/1000 [00:00<00:02, 454.02iter/s, Error=9.0235e-03]"
     ]
    },
    {
     "name": "stderr",
     "output_type": "stream",
     "text": [
      "\r",
      "Least Squares Iteration:   5%|▍         | 47/1000 [00:00<00:02, 454.02iter/s, Error=8.8529e-03]"
     ]
    },
    {
     "name": "stderr",
     "output_type": "stream",
     "text": [
      "\r",
      "Least Squares Iteration:   5%|▍         | 48/1000 [00:00<00:02, 454.02iter/s, Error=8.6888e-03]"
     ]
    },
    {
     "name": "stderr",
     "output_type": "stream",
     "text": [
      "\r",
      "Least Squares Iteration:   5%|▍         | 49/1000 [00:00<00:02, 454.02iter/s, Error=8.5310e-03]"
     ]
    },
    {
     "name": "stderr",
     "output_type": "stream",
     "text": [
      "\r",
      "Least Squares Iteration:   5%|▌         | 50/1000 [00:00<00:02, 454.02iter/s, Error=8.3790e-03]"
     ]
    },
    {
     "name": "stderr",
     "output_type": "stream",
     "text": [
      "\r",
      "Least Squares Iteration:   5%|▌         | 51/1000 [00:00<00:02, 454.02iter/s, Error=8.2326e-03]"
     ]
    },
    {
     "name": "stderr",
     "output_type": "stream",
     "text": [
      "\r",
      "Least Squares Iteration:   5%|▌         | 52/1000 [00:00<00:02, 454.02iter/s, Error=8.0915e-03]"
     ]
    },
    {
     "name": "stderr",
     "output_type": "stream",
     "text": [
      "\r",
      "Least Squares Iteration:   5%|▌         | 53/1000 [00:00<00:02, 454.02iter/s, Error=7.9555e-03]"
     ]
    },
    {
     "name": "stderr",
     "output_type": "stream",
     "text": [
      "\r",
      "Least Squares Iteration:   5%|▌         | 54/1000 [00:00<00:02, 454.02iter/s, Error=7.8244e-03]"
     ]
    },
    {
     "name": "stderr",
     "output_type": "stream",
     "text": [
      "\r",
      "Least Squares Iteration:   6%|▌         | 55/1000 [00:00<00:02, 454.02iter/s, Error=7.6978e-03]"
     ]
    },
    {
     "name": "stderr",
     "output_type": "stream",
     "text": [
      "\r",
      "Least Squares Iteration:   6%|▌         | 56/1000 [00:00<00:02, 454.02iter/s, Error=7.5757e-03]"
     ]
    },
    {
     "name": "stderr",
     "output_type": "stream",
     "text": [
      "\r",
      "Least Squares Iteration:   6%|▌         | 57/1000 [00:00<00:02, 454.02iter/s, Error=7.4578e-03]"
     ]
    },
    {
     "name": "stderr",
     "output_type": "stream",
     "text": [
      "\r",
      "Least Squares Iteration:   6%|▌         | 58/1000 [00:00<00:02, 454.02iter/s, Error=7.3438e-03]"
     ]
    },
    {
     "name": "stderr",
     "output_type": "stream",
     "text": [
      "\r",
      "Least Squares Iteration:   6%|▌         | 59/1000 [00:00<00:02, 454.02iter/s, Error=7.2337e-03]"
     ]
    },
    {
     "name": "stderr",
     "output_type": "stream",
     "text": [
      "\r",
      "Least Squares Iteration:   6%|▌         | 60/1000 [00:00<00:02, 454.02iter/s, Error=7.1272e-03]"
     ]
    },
    {
     "name": "stderr",
     "output_type": "stream",
     "text": [
      "\r",
      "Least Squares Iteration:   6%|▌         | 61/1000 [00:00<00:02, 454.02iter/s, Error=7.0243e-03]"
     ]
    },
    {
     "name": "stderr",
     "output_type": "stream",
     "text": [
      "\r",
      "Least Squares Iteration:   6%|▌         | 62/1000 [00:00<00:02, 454.02iter/s, Error=6.9246e-03]"
     ]
    },
    {
     "name": "stderr",
     "output_type": "stream",
     "text": [
      "\r",
      "Least Squares Iteration:   6%|▋         | 63/1000 [00:00<00:02, 454.02iter/s, Error=6.8282e-03]"
     ]
    },
    {
     "name": "stderr",
     "output_type": "stream",
     "text": [
      "\r",
      "Least Squares Iteration:   6%|▋         | 64/1000 [00:00<00:02, 454.02iter/s, Error=6.7348e-03]"
     ]
    },
    {
     "name": "stderr",
     "output_type": "stream",
     "text": [
      "\r",
      "Least Squares Iteration:   6%|▋         | 65/1000 [00:00<00:02, 454.02iter/s, Error=6.6443e-03]"
     ]
    },
    {
     "name": "stderr",
     "output_type": "stream",
     "text": [
      "\r",
      "Least Squares Iteration:   7%|▋         | 66/1000 [00:00<00:02, 454.02iter/s, Error=6.5567e-03]"
     ]
    },
    {
     "name": "stderr",
     "output_type": "stream",
     "text": [
      "\r",
      "Least Squares Iteration:   7%|▋         | 67/1000 [00:00<00:02, 454.02iter/s, Error=6.4717e-03]"
     ]
    },
    {
     "name": "stderr",
     "output_type": "stream",
     "text": [
      "\r",
      "Least Squares Iteration:   7%|▋         | 68/1000 [00:00<00:02, 454.02iter/s, Error=6.3893e-03]"
     ]
    },
    {
     "name": "stderr",
     "output_type": "stream",
     "text": [
      "\r",
      "Least Squares Iteration:   7%|▋         | 69/1000 [00:00<00:02, 454.02iter/s, Error=6.3093e-03]"
     ]
    },
    {
     "name": "stderr",
     "output_type": "stream",
     "text": [
      "\r",
      "Least Squares Iteration:   7%|▋         | 70/1000 [00:00<00:02, 454.02iter/s, Error=6.2316e-03]"
     ]
    },
    {
     "name": "stderr",
     "output_type": "stream",
     "text": [
      "\r",
      "Least Squares Iteration:   7%|▋         | 71/1000 [00:00<00:02, 454.02iter/s, Error=6.1563e-03]"
     ]
    },
    {
     "name": "stderr",
     "output_type": "stream",
     "text": [
      "\r",
      "Least Squares Iteration:   7%|▋         | 72/1000 [00:00<00:02, 454.02iter/s, Error=6.0830e-03]"
     ]
    },
    {
     "name": "stderr",
     "output_type": "stream",
     "text": [
      "\r",
      "Least Squares Iteration:   7%|▋         | 73/1000 [00:00<00:02, 454.02iter/s, Error=6.0119e-03]"
     ]
    },
    {
     "name": "stderr",
     "output_type": "stream",
     "text": [
      "\r",
      "Least Squares Iteration:   7%|▋         | 74/1000 [00:00<00:02, 454.02iter/s, Error=5.9427e-03]"
     ]
    },
    {
     "name": "stderr",
     "output_type": "stream",
     "text": [
      "\r",
      "Least Squares Iteration:   8%|▊         | 75/1000 [00:00<00:02, 454.02iter/s, Error=5.8755e-03]"
     ]
    },
    {
     "name": "stderr",
     "output_type": "stream",
     "text": [
      "\r",
      "Least Squares Iteration:   8%|▊         | 76/1000 [00:00<00:02, 454.02iter/s, Error=5.8100e-03]"
     ]
    },
    {
     "name": "stderr",
     "output_type": "stream",
     "text": [
      "\r",
      "Least Squares Iteration:   8%|▊         | 77/1000 [00:00<00:02, 454.02iter/s, Error=5.7463e-03]"
     ]
    },
    {
     "name": "stderr",
     "output_type": "stream",
     "text": [
      "\r",
      "Least Squares Iteration:   8%|▊         | 78/1000 [00:00<00:02, 454.02iter/s, Error=5.6843e-03]"
     ]
    },
    {
     "name": "stderr",
     "output_type": "stream",
     "text": [
      "\r",
      "Least Squares Iteration:   8%|▊         | 79/1000 [00:00<00:02, 454.02iter/s, Error=5.6240e-03]"
     ]
    },
    {
     "name": "stderr",
     "output_type": "stream",
     "text": [
      "\r",
      "Least Squares Iteration:   8%|▊         | 80/1000 [00:00<00:02, 454.02iter/s, Error=5.5651e-03]"
     ]
    },
    {
     "name": "stderr",
     "output_type": "stream",
     "text": [
      "\r",
      "Least Squares Iteration:   8%|▊         | 81/1000 [00:00<00:02, 454.02iter/s, Error=5.5078e-03]"
     ]
    },
    {
     "name": "stderr",
     "output_type": "stream",
     "text": [
      "\r",
      "Least Squares Iteration:   8%|▊         | 82/1000 [00:00<00:02, 454.02iter/s, Error=5.4519e-03]"
     ]
    },
    {
     "name": "stderr",
     "output_type": "stream",
     "text": [
      "\r",
      "Least Squares Iteration:   8%|▊         | 83/1000 [00:00<00:02, 454.02iter/s, Error=5.3974e-03]"
     ]
    },
    {
     "name": "stderr",
     "output_type": "stream",
     "text": [
      "\r",
      "Least Squares Iteration:   8%|▊         | 84/1000 [00:00<00:02, 454.02iter/s, Error=5.3442e-03]"
     ]
    },
    {
     "name": "stderr",
     "output_type": "stream",
     "text": [
      "\r",
      "Least Squares Iteration:   8%|▊         | 85/1000 [00:00<00:02, 454.02iter/s, Error=5.2923e-03]"
     ]
    },
    {
     "name": "stderr",
     "output_type": "stream",
     "text": [
      "\r",
      "Least Squares Iteration:   9%|▊         | 86/1000 [00:00<00:02, 454.02iter/s, Error=5.2416e-03]"
     ]
    },
    {
     "name": "stderr",
     "output_type": "stream",
     "text": [
      "\r",
      "Least Squares Iteration:   9%|▊         | 87/1000 [00:00<00:02, 454.02iter/s, Error=5.1921e-03]"
     ]
    },
    {
     "name": "stderr",
     "output_type": "stream",
     "text": [
      "\r",
      "Least Squares Iteration:   9%|▉         | 88/1000 [00:00<00:02, 454.02iter/s, Error=5.1437e-03]"
     ]
    },
    {
     "name": "stderr",
     "output_type": "stream",
     "text": [
      "\r",
      "Least Squares Iteration:   9%|▉         | 89/1000 [00:00<00:02, 454.02iter/s, Error=5.0964e-03]"
     ]
    },
    {
     "name": "stderr",
     "output_type": "stream",
     "text": [
      "\r",
      "Least Squares Iteration:   9%|▉         | 90/1000 [00:00<00:02, 454.02iter/s, Error=5.0502e-03]"
     ]
    },
    {
     "name": "stderr",
     "output_type": "stream",
     "text": [
      "\r",
      "Least Squares Iteration:   9%|▉         | 91/1000 [00:00<00:02, 454.02iter/s, Error=5.0050e-03]"
     ]
    },
    {
     "name": "stderr",
     "output_type": "stream",
     "text": [
      "\r",
      "Least Squares Iteration:   9%|▉         | 92/1000 [00:00<00:02, 424.05iter/s, Error=5.0050e-03]"
     ]
    },
    {
     "name": "stderr",
     "output_type": "stream",
     "text": [
      "\r",
      "Least Squares Iteration:   9%|▉         | 92/1000 [00:00<00:02, 424.05iter/s, Error=4.9608e-03]"
     ]
    },
    {
     "name": "stderr",
     "output_type": "stream",
     "text": [
      "\r",
      "Least Squares Iteration:   9%|▉         | 93/1000 [00:00<00:02, 424.05iter/s, Error=4.9175e-03]"
     ]
    },
    {
     "name": "stderr",
     "output_type": "stream",
     "text": [
      "\r",
      "Least Squares Iteration:   9%|▉         | 94/1000 [00:00<00:02, 424.05iter/s, Error=4.8751e-03]"
     ]
    },
    {
     "name": "stderr",
     "output_type": "stream",
     "text": [
      "\r",
      "Least Squares Iteration:  10%|▉         | 95/1000 [00:00<00:02, 424.05iter/s, Error=4.8337e-03]"
     ]
    },
    {
     "name": "stderr",
     "output_type": "stream",
     "text": [
      "\r",
      "Least Squares Iteration:  10%|▉         | 96/1000 [00:00<00:02, 424.05iter/s, Error=4.7930e-03]"
     ]
    },
    {
     "name": "stderr",
     "output_type": "stream",
     "text": [
      "\r",
      "Least Squares Iteration:  10%|▉         | 97/1000 [00:00<00:02, 424.05iter/s, Error=4.7532e-03]"
     ]
    },
    {
     "name": "stderr",
     "output_type": "stream",
     "text": [
      "\r",
      "Least Squares Iteration:  10%|▉         | 98/1000 [00:00<00:02, 424.05iter/s, Error=4.7142e-03]"
     ]
    },
    {
     "name": "stderr",
     "output_type": "stream",
     "text": [
      "\r",
      "Least Squares Iteration:  10%|▉         | 99/1000 [00:00<00:02, 424.05iter/s, Error=4.6760e-03]"
     ]
    },
    {
     "name": "stderr",
     "output_type": "stream",
     "text": [
      "\r",
      "Least Squares Iteration:  10%|█         | 100/1000 [00:00<00:02, 424.05iter/s, Error=4.6385e-03]"
     ]
    },
    {
     "name": "stderr",
     "output_type": "stream",
     "text": [
      "\r",
      "Least Squares Iteration:  10%|█         | 101/1000 [00:00<00:02, 424.05iter/s, Error=4.6017e-03]"
     ]
    },
    {
     "name": "stderr",
     "output_type": "stream",
     "text": [
      "\r",
      "Least Squares Iteration:  10%|█         | 102/1000 [00:00<00:02, 424.05iter/s, Error=4.5656e-03]"
     ]
    },
    {
     "name": "stderr",
     "output_type": "stream",
     "text": [
      "\r",
      "Least Squares Iteration:  10%|█         | 103/1000 [00:00<00:02, 424.05iter/s, Error=4.5302e-03]"
     ]
    },
    {
     "name": "stderr",
     "output_type": "stream",
     "text": [
      "\r",
      "Least Squares Iteration:  10%|█         | 104/1000 [00:00<00:02, 424.05iter/s, Error=4.4955e-03]"
     ]
    },
    {
     "name": "stderr",
     "output_type": "stream",
     "text": [
      "\r",
      "Least Squares Iteration:  10%|█         | 105/1000 [00:00<00:02, 424.05iter/s, Error=4.4614e-03]"
     ]
    },
    {
     "name": "stderr",
     "output_type": "stream",
     "text": [
      "\r",
      "Least Squares Iteration:  11%|█         | 106/1000 [00:00<00:02, 424.05iter/s, Error=4.4279e-03]"
     ]
    },
    {
     "name": "stderr",
     "output_type": "stream",
     "text": [
      "\r",
      "Least Squares Iteration:  11%|█         | 107/1000 [00:00<00:02, 424.05iter/s, Error=4.3949e-03]"
     ]
    },
    {
     "name": "stderr",
     "output_type": "stream",
     "text": [
      "\r",
      "Least Squares Iteration:  11%|█         | 108/1000 [00:00<00:02, 424.05iter/s, Error=4.3626e-03]"
     ]
    },
    {
     "name": "stderr",
     "output_type": "stream",
     "text": [
      "\r",
      "Least Squares Iteration:  11%|█         | 109/1000 [00:00<00:02, 424.05iter/s, Error=4.3308e-03]"
     ]
    },
    {
     "name": "stderr",
     "output_type": "stream",
     "text": [
      "\r",
      "Least Squares Iteration:  11%|█         | 110/1000 [00:00<00:02, 424.05iter/s, Error=4.2996e-03]"
     ]
    },
    {
     "name": "stderr",
     "output_type": "stream",
     "text": [
      "\r",
      "Least Squares Iteration:  11%|█         | 111/1000 [00:00<00:02, 424.05iter/s, Error=4.2688e-03]"
     ]
    },
    {
     "name": "stderr",
     "output_type": "stream",
     "text": [
      "\r",
      "Least Squares Iteration:  11%|█         | 112/1000 [00:00<00:02, 424.05iter/s, Error=4.2386e-03]"
     ]
    },
    {
     "name": "stderr",
     "output_type": "stream",
     "text": [
      "\r",
      "Least Squares Iteration:  11%|█▏        | 113/1000 [00:00<00:02, 424.05iter/s, Error=4.2089e-03]"
     ]
    },
    {
     "name": "stderr",
     "output_type": "stream",
     "text": [
      "\r",
      "Least Squares Iteration:  11%|█▏        | 114/1000 [00:00<00:02, 424.05iter/s, Error=4.1797e-03]"
     ]
    },
    {
     "name": "stderr",
     "output_type": "stream",
     "text": [
      "\r",
      "Least Squares Iteration:  12%|█▏        | 115/1000 [00:00<00:02, 424.05iter/s, Error=4.1509e-03]"
     ]
    },
    {
     "name": "stderr",
     "output_type": "stream",
     "text": [
      "\r",
      "Least Squares Iteration:  12%|█▏        | 116/1000 [00:00<00:02, 424.05iter/s, Error=4.1226e-03]"
     ]
    },
    {
     "name": "stderr",
     "output_type": "stream",
     "text": [
      "\r",
      "Least Squares Iteration:  12%|█▏        | 117/1000 [00:00<00:02, 424.05iter/s, Error=4.0948e-03]"
     ]
    },
    {
     "name": "stderr",
     "output_type": "stream",
     "text": [
      "\r",
      "Least Squares Iteration:  12%|█▏        | 118/1000 [00:00<00:02, 424.05iter/s, Error=4.0673e-03]"
     ]
    },
    {
     "name": "stderr",
     "output_type": "stream",
     "text": [
      "\r",
      "Least Squares Iteration:  12%|█▏        | 119/1000 [00:00<00:02, 424.05iter/s, Error=4.0403e-03]"
     ]
    },
    {
     "name": "stderr",
     "output_type": "stream",
     "text": [
      "\r",
      "Least Squares Iteration:  12%|█▏        | 120/1000 [00:00<00:02, 424.05iter/s, Error=4.0137e-03]"
     ]
    },
    {
     "name": "stderr",
     "output_type": "stream",
     "text": [
      "\r",
      "Least Squares Iteration:  12%|█▏        | 121/1000 [00:00<00:02, 424.05iter/s, Error=3.9875e-03]"
     ]
    },
    {
     "name": "stderr",
     "output_type": "stream",
     "text": [
      "\r",
      "Least Squares Iteration:  12%|█▏        | 122/1000 [00:00<00:02, 424.05iter/s, Error=3.9617e-03]"
     ]
    },
    {
     "name": "stderr",
     "output_type": "stream",
     "text": [
      "\r",
      "Least Squares Iteration:  12%|█▏        | 123/1000 [00:00<00:02, 424.05iter/s, Error=3.9362e-03]"
     ]
    },
    {
     "name": "stderr",
     "output_type": "stream",
     "text": [
      "\r",
      "Least Squares Iteration:  12%|█▏        | 124/1000 [00:00<00:02, 424.05iter/s, Error=3.9112e-03]"
     ]
    },
    {
     "name": "stderr",
     "output_type": "stream",
     "text": [
      "\r",
      "Least Squares Iteration:  12%|█▎        | 125/1000 [00:00<00:02, 424.05iter/s, Error=3.8865e-03]"
     ]
    },
    {
     "name": "stderr",
     "output_type": "stream",
     "text": [
      "\r",
      "Least Squares Iteration:  13%|█▎        | 126/1000 [00:00<00:02, 424.05iter/s, Error=3.8621e-03]"
     ]
    },
    {
     "name": "stderr",
     "output_type": "stream",
     "text": [
      "\r",
      "Least Squares Iteration:  13%|█▎        | 127/1000 [00:00<00:02, 424.05iter/s, Error=3.8381e-03]"
     ]
    },
    {
     "name": "stderr",
     "output_type": "stream",
     "text": [
      "\r",
      "Least Squares Iteration:  13%|█▎        | 128/1000 [00:00<00:02, 424.05iter/s, Error=3.8144e-03]"
     ]
    },
    {
     "name": "stderr",
     "output_type": "stream",
     "text": [
      "\r",
      "Least Squares Iteration:  13%|█▎        | 129/1000 [00:00<00:02, 424.05iter/s, Error=3.7910e-03]"
     ]
    },
    {
     "name": "stderr",
     "output_type": "stream",
     "text": [
      "\r",
      "Least Squares Iteration:  13%|█▎        | 130/1000 [00:00<00:02, 424.05iter/s, Error=3.7680e-03]"
     ]
    },
    {
     "name": "stderr",
     "output_type": "stream",
     "text": [
      "\r",
      "Least Squares Iteration:  13%|█▎        | 131/1000 [00:00<00:02, 424.05iter/s, Error=3.7453e-03]"
     ]
    },
    {
     "name": "stderr",
     "output_type": "stream",
     "text": [
      "\r",
      "Least Squares Iteration:  13%|█▎        | 132/1000 [00:00<00:02, 424.05iter/s, Error=3.7228e-03]"
     ]
    },
    {
     "name": "stderr",
     "output_type": "stream",
     "text": [
      "\r",
      "Least Squares Iteration:  13%|█▎        | 133/1000 [00:00<00:02, 424.05iter/s, Error=3.7007e-03]"
     ]
    },
    {
     "name": "stderr",
     "output_type": "stream",
     "text": [
      "\r",
      "Least Squares Iteration:  13%|█▎        | 134/1000 [00:00<00:02, 424.05iter/s, Error=3.6789e-03]"
     ]
    },
    {
     "name": "stderr",
     "output_type": "stream",
     "text": [
      "\r",
      "Least Squares Iteration:  14%|█▎        | 135/1000 [00:00<00:02, 393.64iter/s, Error=3.6789e-03]"
     ]
    },
    {
     "name": "stderr",
     "output_type": "stream",
     "text": [
      "\r",
      "Least Squares Iteration:  14%|█▎        | 135/1000 [00:00<00:02, 393.64iter/s, Error=3.6573e-03]"
     ]
    },
    {
     "name": "stderr",
     "output_type": "stream",
     "text": [
      "\r",
      "Least Squares Iteration:  14%|█▎        | 136/1000 [00:00<00:02, 393.64iter/s, Error=3.6361e-03]"
     ]
    },
    {
     "name": "stderr",
     "output_type": "stream",
     "text": [
      "\r",
      "Least Squares Iteration:  14%|█▎        | 137/1000 [00:00<00:02, 393.64iter/s, Error=3.6151e-03]"
     ]
    },
    {
     "name": "stderr",
     "output_type": "stream",
     "text": [
      "\r",
      "Least Squares Iteration:  14%|█▍        | 138/1000 [00:00<00:02, 393.64iter/s, Error=3.5943e-03]"
     ]
    },
    {
     "name": "stderr",
     "output_type": "stream",
     "text": [
      "\r",
      "Least Squares Iteration:  14%|█▍        | 139/1000 [00:00<00:02, 393.64iter/s, Error=3.5739e-03]"
     ]
    },
    {
     "name": "stderr",
     "output_type": "stream",
     "text": [
      "\r",
      "Least Squares Iteration:  14%|█▍        | 140/1000 [00:00<00:02, 393.64iter/s, Error=3.5537e-03]"
     ]
    },
    {
     "name": "stderr",
     "output_type": "stream",
     "text": [
      "\r",
      "Least Squares Iteration:  14%|█▍        | 141/1000 [00:00<00:02, 393.64iter/s, Error=3.5337e-03]"
     ]
    },
    {
     "name": "stderr",
     "output_type": "stream",
     "text": [
      "\r",
      "Least Squares Iteration:  14%|█▍        | 142/1000 [00:00<00:02, 393.64iter/s, Error=3.5140e-03]"
     ]
    },
    {
     "name": "stderr",
     "output_type": "stream",
     "text": [
      "\r",
      "Least Squares Iteration:  14%|█▍        | 143/1000 [00:00<00:02, 393.64iter/s, Error=3.4945e-03]"
     ]
    },
    {
     "name": "stderr",
     "output_type": "stream",
     "text": [
      "\r",
      "Least Squares Iteration:  14%|█▍        | 144/1000 [00:00<00:02, 393.64iter/s, Error=3.4753e-03]"
     ]
    },
    {
     "name": "stderr",
     "output_type": "stream",
     "text": [
      "\r",
      "Least Squares Iteration:  14%|█▍        | 145/1000 [00:00<00:02, 393.64iter/s, Error=3.4563e-03]"
     ]
    },
    {
     "name": "stderr",
     "output_type": "stream",
     "text": [
      "\r",
      "Least Squares Iteration:  15%|█▍        | 146/1000 [00:00<00:02, 393.64iter/s, Error=3.4375e-03]"
     ]
    },
    {
     "name": "stderr",
     "output_type": "stream",
     "text": [
      "\r",
      "Least Squares Iteration:  15%|█▍        | 147/1000 [00:00<00:02, 393.64iter/s, Error=3.4190e-03]"
     ]
    },
    {
     "name": "stderr",
     "output_type": "stream",
     "text": [
      "\r",
      "Least Squares Iteration:  15%|█▍        | 148/1000 [00:00<00:02, 393.64iter/s, Error=3.4006e-03]"
     ]
    },
    {
     "name": "stderr",
     "output_type": "stream",
     "text": [
      "\r",
      "Least Squares Iteration:  15%|█▍        | 149/1000 [00:00<00:02, 393.64iter/s, Error=3.3825e-03]"
     ]
    },
    {
     "name": "stderr",
     "output_type": "stream",
     "text": [
      "\r",
      "Least Squares Iteration:  15%|█▌        | 150/1000 [00:00<00:02, 393.64iter/s, Error=3.3646e-03]"
     ]
    },
    {
     "name": "stderr",
     "output_type": "stream",
     "text": [
      "\r",
      "Least Squares Iteration:  15%|█▌        | 151/1000 [00:00<00:02, 393.64iter/s, Error=3.3469e-03]"
     ]
    },
    {
     "name": "stderr",
     "output_type": "stream",
     "text": [
      "\r",
      "Least Squares Iteration:  15%|█▌        | 152/1000 [00:00<00:02, 393.64iter/s, Error=3.3295e-03]"
     ]
    },
    {
     "name": "stderr",
     "output_type": "stream",
     "text": [
      "\r",
      "Least Squares Iteration:  15%|█▌        | 153/1000 [00:00<00:02, 393.64iter/s, Error=3.3122e-03]"
     ]
    },
    {
     "name": "stderr",
     "output_type": "stream",
     "text": [
      "\r",
      "Least Squares Iteration:  15%|█▌        | 154/1000 [00:00<00:02, 393.64iter/s, Error=3.2951e-03]"
     ]
    },
    {
     "name": "stderr",
     "output_type": "stream",
     "text": [
      "\r",
      "Least Squares Iteration:  16%|█▌        | 155/1000 [00:00<00:02, 393.64iter/s, Error=3.2782e-03]"
     ]
    },
    {
     "name": "stderr",
     "output_type": "stream",
     "text": [
      "\r",
      "Least Squares Iteration:  16%|█▌        | 156/1000 [00:00<00:02, 393.64iter/s, Error=3.2615e-03]"
     ]
    },
    {
     "name": "stderr",
     "output_type": "stream",
     "text": [
      "\r",
      "Least Squares Iteration:  16%|█▌        | 157/1000 [00:00<00:02, 393.64iter/s, Error=3.2450e-03]"
     ]
    },
    {
     "name": "stderr",
     "output_type": "stream",
     "text": [
      "\r",
      "Least Squares Iteration:  16%|█▌        | 158/1000 [00:00<00:02, 393.64iter/s, Error=3.2286e-03]"
     ]
    },
    {
     "name": "stderr",
     "output_type": "stream",
     "text": [
      "\r",
      "Least Squares Iteration:  16%|█▌        | 159/1000 [00:00<00:02, 393.64iter/s, Error=3.2125e-03]"
     ]
    },
    {
     "name": "stderr",
     "output_type": "stream",
     "text": [
      "\r",
      "Least Squares Iteration:  16%|█▌        | 160/1000 [00:00<00:02, 393.64iter/s, Error=3.1965e-03]"
     ]
    },
    {
     "name": "stderr",
     "output_type": "stream",
     "text": [
      "\r",
      "Least Squares Iteration:  16%|█▌        | 161/1000 [00:00<00:02, 393.64iter/s, Error=3.1807e-03]"
     ]
    },
    {
     "name": "stderr",
     "output_type": "stream",
     "text": [
      "\r",
      "Least Squares Iteration:  16%|█▌        | 162/1000 [00:00<00:02, 393.64iter/s, Error=3.1651e-03]"
     ]
    },
    {
     "name": "stderr",
     "output_type": "stream",
     "text": [
      "\r",
      "Least Squares Iteration:  16%|█▋        | 163/1000 [00:00<00:02, 393.64iter/s, Error=3.1496e-03]"
     ]
    },
    {
     "name": "stderr",
     "output_type": "stream",
     "text": [
      "\r",
      "Least Squares Iteration:  16%|█▋        | 164/1000 [00:00<00:02, 393.64iter/s, Error=3.1344e-03]"
     ]
    },
    {
     "name": "stderr",
     "output_type": "stream",
     "text": [
      "\r",
      "Least Squares Iteration:  16%|█▋        | 165/1000 [00:00<00:02, 393.64iter/s, Error=3.1192e-03]"
     ]
    },
    {
     "name": "stderr",
     "output_type": "stream",
     "text": [
      "\r",
      "Least Squares Iteration:  17%|█▋        | 166/1000 [00:00<00:02, 393.64iter/s, Error=3.1043e-03]"
     ]
    },
    {
     "name": "stderr",
     "output_type": "stream",
     "text": [
      "\r",
      "Least Squares Iteration:  17%|█▋        | 167/1000 [00:00<00:02, 393.64iter/s, Error=3.0895e-03]"
     ]
    },
    {
     "name": "stderr",
     "output_type": "stream",
     "text": [
      "\r",
      "Least Squares Iteration:  17%|█▋        | 168/1000 [00:00<00:02, 393.64iter/s, Error=3.0748e-03]"
     ]
    },
    {
     "name": "stderr",
     "output_type": "stream",
     "text": [
      "\r",
      "Least Squares Iteration:  17%|█▋        | 169/1000 [00:00<00:02, 393.64iter/s, Error=3.0604e-03]"
     ]
    },
    {
     "name": "stderr",
     "output_type": "stream",
     "text": [
      "\r",
      "Least Squares Iteration:  17%|█▋        | 170/1000 [00:00<00:02, 393.64iter/s, Error=3.0460e-03]"
     ]
    },
    {
     "name": "stderr",
     "output_type": "stream",
     "text": [
      "\r",
      "Least Squares Iteration:  17%|█▋        | 171/1000 [00:00<00:02, 393.64iter/s, Error=3.0319e-03]"
     ]
    },
    {
     "name": "stderr",
     "output_type": "stream",
     "text": [
      "\r",
      "Least Squares Iteration:  17%|█▋        | 172/1000 [00:00<00:02, 393.64iter/s, Error=3.0178e-03]"
     ]
    },
    {
     "name": "stderr",
     "output_type": "stream",
     "text": [
      "\r",
      "Least Squares Iteration:  17%|█▋        | 173/1000 [00:00<00:02, 393.64iter/s, Error=3.0039e-03]"
     ]
    },
    {
     "name": "stderr",
     "output_type": "stream",
     "text": [
      "\r",
      "Least Squares Iteration:  17%|█▋        | 174/1000 [00:00<00:02, 393.64iter/s, Error=2.9902e-03]"
     ]
    },
    {
     "name": "stderr",
     "output_type": "stream",
     "text": [
      "\r",
      "Least Squares Iteration:  18%|█▊        | 175/1000 [00:00<00:02, 359.51iter/s, Error=2.9902e-03]"
     ]
    },
    {
     "name": "stderr",
     "output_type": "stream",
     "text": [
      "\r",
      "Least Squares Iteration:  18%|█▊        | 175/1000 [00:00<00:02, 359.51iter/s, Error=2.9766e-03]"
     ]
    },
    {
     "name": "stderr",
     "output_type": "stream",
     "text": [
      "\r",
      "Least Squares Iteration:  18%|█▊        | 176/1000 [00:00<00:02, 359.51iter/s, Error=2.9632e-03]"
     ]
    },
    {
     "name": "stderr",
     "output_type": "stream",
     "text": [
      "\r",
      "Least Squares Iteration:  18%|█▊        | 177/1000 [00:00<00:02, 359.51iter/s, Error=2.9499e-03]"
     ]
    },
    {
     "name": "stderr",
     "output_type": "stream",
     "text": [
      "\r",
      "Least Squares Iteration:  18%|█▊        | 178/1000 [00:00<00:02, 359.51iter/s, Error=2.9367e-03]"
     ]
    },
    {
     "name": "stderr",
     "output_type": "stream",
     "text": [
      "\r",
      "Least Squares Iteration:  18%|█▊        | 179/1000 [00:00<00:02, 359.51iter/s, Error=2.9236e-03]"
     ]
    },
    {
     "name": "stderr",
     "output_type": "stream",
     "text": [
      "\r",
      "Least Squares Iteration:  18%|█▊        | 180/1000 [00:00<00:02, 359.51iter/s, Error=2.9107e-03]"
     ]
    },
    {
     "name": "stderr",
     "output_type": "stream",
     "text": [
      "\r",
      "Least Squares Iteration:  18%|█▊        | 181/1000 [00:00<00:02, 359.51iter/s, Error=2.8979e-03]"
     ]
    },
    {
     "name": "stderr",
     "output_type": "stream",
     "text": [
      "\r",
      "Least Squares Iteration:  18%|█▊        | 182/1000 [00:00<00:02, 359.51iter/s, Error=2.8853e-03]"
     ]
    },
    {
     "name": "stderr",
     "output_type": "stream",
     "text": [
      "\r",
      "Least Squares Iteration:  18%|█▊        | 183/1000 [00:00<00:02, 359.51iter/s, Error=2.8728e-03]"
     ]
    },
    {
     "name": "stderr",
     "output_type": "stream",
     "text": [
      "\r",
      "Least Squares Iteration:  18%|█▊        | 184/1000 [00:00<00:02, 359.51iter/s, Error=2.8604e-03]"
     ]
    },
    {
     "name": "stderr",
     "output_type": "stream",
     "text": [
      "\r",
      "Least Squares Iteration:  18%|█▊        | 185/1000 [00:00<00:02, 359.51iter/s, Error=2.8481e-03]"
     ]
    },
    {
     "name": "stderr",
     "output_type": "stream",
     "text": [
      "\r",
      "Least Squares Iteration:  19%|█▊        | 186/1000 [00:00<00:02, 359.51iter/s, Error=2.8360e-03]"
     ]
    },
    {
     "name": "stderr",
     "output_type": "stream",
     "text": [
      "\r",
      "Least Squares Iteration:  19%|█▊        | 187/1000 [00:00<00:02, 359.51iter/s, Error=2.8240e-03]"
     ]
    },
    {
     "name": "stderr",
     "output_type": "stream",
     "text": [
      "\r",
      "Least Squares Iteration:  19%|█▉        | 188/1000 [00:00<00:02, 359.51iter/s, Error=2.8121e-03]"
     ]
    },
    {
     "name": "stderr",
     "output_type": "stream",
     "text": [
      "\r",
      "Least Squares Iteration:  19%|█▉        | 189/1000 [00:00<00:02, 359.51iter/s, Error=2.8003e-03]"
     ]
    },
    {
     "name": "stderr",
     "output_type": "stream",
     "text": [
      "\r",
      "Least Squares Iteration:  19%|█▉        | 190/1000 [00:00<00:02, 359.51iter/s, Error=2.7886e-03]"
     ]
    },
    {
     "name": "stderr",
     "output_type": "stream",
     "text": [
      "\r",
      "Least Squares Iteration:  19%|█▉        | 191/1000 [00:00<00:02, 359.51iter/s, Error=2.7771e-03]"
     ]
    },
    {
     "name": "stderr",
     "output_type": "stream",
     "text": [
      "\r",
      "Least Squares Iteration:  19%|█▉        | 192/1000 [00:00<00:02, 359.51iter/s, Error=2.7656e-03]"
     ]
    },
    {
     "name": "stderr",
     "output_type": "stream",
     "text": [
      "\r",
      "Least Squares Iteration:  19%|█▉        | 193/1000 [00:00<00:02, 359.51iter/s, Error=2.7543e-03]"
     ]
    },
    {
     "name": "stderr",
     "output_type": "stream",
     "text": [
      "\r",
      "Least Squares Iteration:  19%|█▉        | 194/1000 [00:00<00:02, 359.51iter/s, Error=2.7431e-03]"
     ]
    },
    {
     "name": "stderr",
     "output_type": "stream",
     "text": [
      "\r",
      "Least Squares Iteration:  20%|█▉        | 195/1000 [00:00<00:02, 359.51iter/s, Error=2.7320e-03]"
     ]
    },
    {
     "name": "stderr",
     "output_type": "stream",
     "text": [
      "\r",
      "Least Squares Iteration:  20%|█▉        | 196/1000 [00:00<00:02, 359.51iter/s, Error=2.7210e-03]"
     ]
    },
    {
     "name": "stderr",
     "output_type": "stream",
     "text": [
      "\r",
      "Least Squares Iteration:  20%|█▉        | 197/1000 [00:00<00:02, 359.51iter/s, Error=2.7101e-03]"
     ]
    },
    {
     "name": "stderr",
     "output_type": "stream",
     "text": [
      "\r",
      "Least Squares Iteration:  20%|█▉        | 198/1000 [00:00<00:02, 359.51iter/s, Error=2.6994e-03]"
     ]
    },
    {
     "name": "stderr",
     "output_type": "stream",
     "text": [
      "\r",
      "Least Squares Iteration:  20%|█▉        | 199/1000 [00:00<00:02, 359.51iter/s, Error=2.6887e-03]"
     ]
    },
    {
     "name": "stderr",
     "output_type": "stream",
     "text": [
      "\r",
      "Least Squares Iteration:  20%|██        | 200/1000 [00:00<00:02, 359.51iter/s, Error=2.6781e-03]"
     ]
    },
    {
     "name": "stderr",
     "output_type": "stream",
     "text": [
      "\r",
      "Least Squares Iteration:  20%|██        | 201/1000 [00:00<00:02, 359.51iter/s, Error=2.6676e-03]"
     ]
    },
    {
     "name": "stderr",
     "output_type": "stream",
     "text": [
      "\r",
      "Least Squares Iteration:  20%|██        | 202/1000 [00:00<00:02, 359.51iter/s, Error=2.6573e-03]"
     ]
    },
    {
     "name": "stderr",
     "output_type": "stream",
     "text": [
      "\r",
      "Least Squares Iteration:  20%|██        | 203/1000 [00:00<00:02, 359.51iter/s, Error=2.6470e-03]"
     ]
    },
    {
     "name": "stderr",
     "output_type": "stream",
     "text": [
      "\r",
      "Least Squares Iteration:  20%|██        | 204/1000 [00:00<00:02, 359.51iter/s, Error=2.6369e-03]"
     ]
    },
    {
     "name": "stderr",
     "output_type": "stream",
     "text": [
      "\r",
      "Least Squares Iteration:  20%|██        | 205/1000 [00:00<00:02, 359.51iter/s, Error=2.6268e-03]"
     ]
    },
    {
     "name": "stderr",
     "output_type": "stream",
     "text": [
      "\r",
      "Least Squares Iteration:  21%|██        | 206/1000 [00:00<00:02, 359.51iter/s, Error=2.6168e-03]"
     ]
    },
    {
     "name": "stderr",
     "output_type": "stream",
     "text": [
      "\r",
      "Least Squares Iteration:  21%|██        | 207/1000 [00:00<00:02, 359.51iter/s, Error=2.6069e-03]"
     ]
    },
    {
     "name": "stderr",
     "output_type": "stream",
     "text": [
      "\r",
      "Least Squares Iteration:  21%|██        | 208/1000 [00:00<00:02, 359.51iter/s, Error=2.5972e-03]"
     ]
    },
    {
     "name": "stderr",
     "output_type": "stream",
     "text": [
      "\r",
      "Least Squares Iteration:  21%|██        | 209/1000 [00:00<00:02, 359.51iter/s, Error=2.5875e-03]"
     ]
    },
    {
     "name": "stderr",
     "output_type": "stream",
     "text": [
      "\r",
      "Least Squares Iteration:  21%|██        | 210/1000 [00:00<00:02, 359.51iter/s, Error=2.5779e-03]"
     ]
    },
    {
     "name": "stderr",
     "output_type": "stream",
     "text": [
      "\r",
      "Least Squares Iteration:  21%|██        | 211/1000 [00:00<00:02, 359.51iter/s, Error=2.5684e-03]"
     ]
    },
    {
     "name": "stderr",
     "output_type": "stream",
     "text": [
      "\r",
      "Least Squares Iteration:  21%|██        | 212/1000 [00:00<00:02, 315.15iter/s, Error=2.5684e-03]"
     ]
    },
    {
     "name": "stderr",
     "output_type": "stream",
     "text": [
      "\r",
      "Least Squares Iteration:  21%|██        | 212/1000 [00:00<00:02, 315.15iter/s, Error=2.5590e-03]"
     ]
    },
    {
     "name": "stderr",
     "output_type": "stream",
     "text": [
      "\r",
      "Least Squares Iteration:  21%|██▏       | 213/1000 [00:00<00:02, 315.15iter/s, Error=2.5496e-03]"
     ]
    },
    {
     "name": "stderr",
     "output_type": "stream",
     "text": [
      "\r",
      "Least Squares Iteration:  21%|██▏       | 214/1000 [00:00<00:02, 315.15iter/s, Error=2.5404e-03]"
     ]
    },
    {
     "name": "stderr",
     "output_type": "stream",
     "text": [
      "\r",
      "Least Squares Iteration:  22%|██▏       | 215/1000 [00:00<00:02, 315.15iter/s, Error=2.5313e-03]"
     ]
    },
    {
     "name": "stderr",
     "output_type": "stream",
     "text": [
      "\r",
      "Least Squares Iteration:  22%|██▏       | 216/1000 [00:00<00:02, 315.15iter/s, Error=2.5222e-03]"
     ]
    },
    {
     "name": "stderr",
     "output_type": "stream",
     "text": [
      "\r",
      "Least Squares Iteration:  22%|██▏       | 217/1000 [00:00<00:02, 315.15iter/s, Error=2.5132e-03]"
     ]
    },
    {
     "name": "stderr",
     "output_type": "stream",
     "text": [
      "\r",
      "Least Squares Iteration:  22%|██▏       | 218/1000 [00:00<00:02, 315.15iter/s, Error=2.5043e-03]"
     ]
    },
    {
     "name": "stderr",
     "output_type": "stream",
     "text": [
      "\r",
      "Least Squares Iteration:  22%|██▏       | 219/1000 [00:00<00:02, 315.15iter/s, Error=2.4955e-03]"
     ]
    },
    {
     "name": "stderr",
     "output_type": "stream",
     "text": [
      "\r",
      "Least Squares Iteration:  22%|██▏       | 220/1000 [00:00<00:02, 315.15iter/s, Error=2.4868e-03]"
     ]
    },
    {
     "name": "stderr",
     "output_type": "stream",
     "text": [
      "\r",
      "Least Squares Iteration:  22%|██▏       | 221/1000 [00:00<00:02, 315.15iter/s, Error=2.4782e-03]"
     ]
    },
    {
     "name": "stderr",
     "output_type": "stream",
     "text": [
      "\r",
      "Least Squares Iteration:  22%|██▏       | 222/1000 [00:00<00:02, 315.15iter/s, Error=2.4696e-03]"
     ]
    },
    {
     "name": "stderr",
     "output_type": "stream",
     "text": [
      "\r",
      "Least Squares Iteration:  22%|██▏       | 223/1000 [00:00<00:02, 315.15iter/s, Error=2.4611e-03]"
     ]
    },
    {
     "name": "stderr",
     "output_type": "stream",
     "text": [
      "\r",
      "Least Squares Iteration:  22%|██▏       | 224/1000 [00:00<00:02, 315.15iter/s, Error=2.4527e-03]"
     ]
    },
    {
     "name": "stderr",
     "output_type": "stream",
     "text": [
      "\r",
      "Least Squares Iteration:  22%|██▎       | 225/1000 [00:00<00:02, 315.15iter/s, Error=2.4444e-03]"
     ]
    },
    {
     "name": "stderr",
     "output_type": "stream",
     "text": [
      "\r",
      "Least Squares Iteration:  23%|██▎       | 226/1000 [00:00<00:02, 315.15iter/s, Error=2.4361e-03]"
     ]
    },
    {
     "name": "stderr",
     "output_type": "stream",
     "text": [
      "\r",
      "Least Squares Iteration:  23%|██▎       | 227/1000 [00:00<00:02, 315.15iter/s, Error=2.4280e-03]"
     ]
    },
    {
     "name": "stderr",
     "output_type": "stream",
     "text": [
      "\r",
      "Least Squares Iteration:  23%|██▎       | 228/1000 [00:00<00:02, 315.15iter/s, Error=2.4199e-03]"
     ]
    },
    {
     "name": "stderr",
     "output_type": "stream",
     "text": [
      "\r",
      "Least Squares Iteration:  23%|██▎       | 229/1000 [00:00<00:02, 315.15iter/s, Error=2.4118e-03]"
     ]
    },
    {
     "name": "stderr",
     "output_type": "stream",
     "text": [
      "\r",
      "Least Squares Iteration:  23%|██▎       | 230/1000 [00:00<00:02, 315.15iter/s, Error=2.4039e-03]"
     ]
    },
    {
     "name": "stderr",
     "output_type": "stream",
     "text": [
      "\r",
      "Least Squares Iteration:  23%|██▎       | 231/1000 [00:00<00:02, 315.15iter/s, Error=2.3960e-03]"
     ]
    },
    {
     "name": "stderr",
     "output_type": "stream",
     "text": [
      "\r",
      "Least Squares Iteration:  23%|██▎       | 232/1000 [00:00<00:02, 315.15iter/s, Error=2.3882e-03]"
     ]
    },
    {
     "name": "stderr",
     "output_type": "stream",
     "text": [
      "\r",
      "Least Squares Iteration:  23%|██▎       | 233/1000 [00:00<00:02, 315.15iter/s, Error=2.3805e-03]"
     ]
    },
    {
     "name": "stderr",
     "output_type": "stream",
     "text": [
      "\r",
      "Least Squares Iteration:  23%|██▎       | 234/1000 [00:00<00:02, 315.15iter/s, Error=2.3728e-03]"
     ]
    },
    {
     "name": "stderr",
     "output_type": "stream",
     "text": [
      "\r",
      "Least Squares Iteration:  24%|██▎       | 235/1000 [00:00<00:02, 315.15iter/s, Error=2.3652e-03]"
     ]
    },
    {
     "name": "stderr",
     "output_type": "stream",
     "text": [
      "\r",
      "Least Squares Iteration:  24%|██▎       | 236/1000 [00:00<00:02, 315.15iter/s, Error=2.3577e-03]"
     ]
    },
    {
     "name": "stderr",
     "output_type": "stream",
     "text": [
      "\r",
      "Least Squares Iteration:  24%|██▎       | 237/1000 [00:00<00:02, 315.15iter/s, Error=2.3503e-03]"
     ]
    },
    {
     "name": "stderr",
     "output_type": "stream",
     "text": [
      "\r",
      "Least Squares Iteration:  24%|██▍       | 238/1000 [00:00<00:02, 315.15iter/s, Error=2.3429e-03]"
     ]
    },
    {
     "name": "stderr",
     "output_type": "stream",
     "text": [
      "\r",
      "Least Squares Iteration:  24%|██▍       | 239/1000 [00:00<00:02, 315.15iter/s, Error=2.3355e-03]"
     ]
    },
    {
     "name": "stderr",
     "output_type": "stream",
     "text": [
      "\r",
      "Least Squares Iteration:  24%|██▍       | 240/1000 [00:00<00:02, 315.15iter/s, Error=2.3283e-03]"
     ]
    },
    {
     "name": "stderr",
     "output_type": "stream",
     "text": [
      "\r",
      "Least Squares Iteration:  24%|██▍       | 241/1000 [00:00<00:02, 315.15iter/s, Error=2.3211e-03]"
     ]
    },
    {
     "name": "stderr",
     "output_type": "stream",
     "text": [
      "\r",
      "Least Squares Iteration:  24%|██▍       | 242/1000 [00:00<00:02, 315.15iter/s, Error=2.3140e-03]"
     ]
    },
    {
     "name": "stderr",
     "output_type": "stream",
     "text": [
      "\r",
      "Least Squares Iteration:  24%|██▍       | 243/1000 [00:00<00:02, 315.15iter/s, Error=2.3069e-03]"
     ]
    },
    {
     "name": "stderr",
     "output_type": "stream",
     "text": [
      "\r",
      "Least Squares Iteration:  24%|██▍       | 244/1000 [00:00<00:02, 315.15iter/s, Error=2.2999e-03]"
     ]
    },
    {
     "name": "stderr",
     "output_type": "stream",
     "text": [
      "\r",
      "Least Squares Iteration:  24%|██▍       | 245/1000 [00:00<00:02, 290.22iter/s, Error=2.2999e-03]"
     ]
    },
    {
     "name": "stderr",
     "output_type": "stream",
     "text": [
      "\r",
      "Least Squares Iteration:  24%|██▍       | 245/1000 [00:00<00:02, 290.22iter/s, Error=2.2930e-03]"
     ]
    },
    {
     "name": "stderr",
     "output_type": "stream",
     "text": [
      "\r",
      "Least Squares Iteration:  25%|██▍       | 246/1000 [00:00<00:02, 290.22iter/s, Error=2.2861e-03]"
     ]
    },
    {
     "name": "stderr",
     "output_type": "stream",
     "text": [
      "\r",
      "Least Squares Iteration:  25%|██▍       | 247/1000 [00:00<00:02, 290.22iter/s, Error=2.2793e-03]"
     ]
    },
    {
     "name": "stderr",
     "output_type": "stream",
     "text": [
      "\r",
      "Least Squares Iteration:  25%|██▍       | 248/1000 [00:00<00:02, 290.22iter/s, Error=2.2726e-03]"
     ]
    },
    {
     "name": "stderr",
     "output_type": "stream",
     "text": [
      "\r",
      "Least Squares Iteration:  25%|██▍       | 249/1000 [00:00<00:02, 290.22iter/s, Error=2.2659e-03]"
     ]
    },
    {
     "name": "stderr",
     "output_type": "stream",
     "text": [
      "\r",
      "Least Squares Iteration:  25%|██▌       | 250/1000 [00:00<00:02, 290.22iter/s, Error=2.2592e-03]"
     ]
    },
    {
     "name": "stderr",
     "output_type": "stream",
     "text": [
      "\r",
      "Least Squares Iteration:  25%|██▌       | 251/1000 [00:00<00:02, 290.22iter/s, Error=2.2527e-03]"
     ]
    },
    {
     "name": "stderr",
     "output_type": "stream",
     "text": [
      "\r",
      "Least Squares Iteration:  25%|██▌       | 252/1000 [00:00<00:02, 290.22iter/s, Error=2.2462e-03]"
     ]
    },
    {
     "name": "stderr",
     "output_type": "stream",
     "text": [
      "\r",
      "Least Squares Iteration:  25%|██▌       | 253/1000 [00:00<00:02, 290.22iter/s, Error=2.2397e-03]"
     ]
    },
    {
     "name": "stderr",
     "output_type": "stream",
     "text": [
      "\r",
      "Least Squares Iteration:  25%|██▌       | 254/1000 [00:00<00:02, 290.22iter/s, Error=2.2333e-03]"
     ]
    },
    {
     "name": "stderr",
     "output_type": "stream",
     "text": [
      "\r",
      "Least Squares Iteration:  26%|██▌       | 255/1000 [00:00<00:02, 290.22iter/s, Error=2.2270e-03]"
     ]
    },
    {
     "name": "stderr",
     "output_type": "stream",
     "text": [
      "\r",
      "Least Squares Iteration:  26%|██▌       | 256/1000 [00:00<00:02, 290.22iter/s, Error=2.2207e-03]"
     ]
    },
    {
     "name": "stderr",
     "output_type": "stream",
     "text": [
      "\r",
      "Least Squares Iteration:  26%|██▌       | 257/1000 [00:00<00:02, 290.22iter/s, Error=2.2145e-03]"
     ]
    },
    {
     "name": "stderr",
     "output_type": "stream",
     "text": [
      "\r",
      "Least Squares Iteration:  26%|██▌       | 258/1000 [00:00<00:02, 290.22iter/s, Error=2.2083e-03]"
     ]
    },
    {
     "name": "stderr",
     "output_type": "stream",
     "text": [
      "\r",
      "Least Squares Iteration:  26%|██▌       | 259/1000 [00:00<00:02, 290.22iter/s, Error=2.2022e-03]"
     ]
    },
    {
     "name": "stderr",
     "output_type": "stream",
     "text": [
      "\r",
      "Least Squares Iteration:  26%|██▌       | 260/1000 [00:00<00:02, 290.22iter/s, Error=2.1961e-03]"
     ]
    },
    {
     "name": "stderr",
     "output_type": "stream",
     "text": [
      "\r",
      "Least Squares Iteration:  26%|██▌       | 261/1000 [00:00<00:02, 290.22iter/s, Error=2.1901e-03]"
     ]
    },
    {
     "name": "stderr",
     "output_type": "stream",
     "text": [
      "\r",
      "Least Squares Iteration:  26%|██▌       | 262/1000 [00:00<00:02, 290.22iter/s, Error=2.1841e-03]"
     ]
    },
    {
     "name": "stderr",
     "output_type": "stream",
     "text": [
      "\r",
      "Least Squares Iteration:  26%|██▋       | 263/1000 [00:00<00:02, 290.22iter/s, Error=2.1782e-03]"
     ]
    },
    {
     "name": "stderr",
     "output_type": "stream",
     "text": [
      "\r",
      "Least Squares Iteration:  26%|██▋       | 264/1000 [00:00<00:02, 290.22iter/s, Error=2.1723e-03]"
     ]
    },
    {
     "name": "stderr",
     "output_type": "stream",
     "text": [
      "\r",
      "Least Squares Iteration:  26%|██▋       | 265/1000 [00:00<00:02, 290.22iter/s, Error=2.1665e-03]"
     ]
    },
    {
     "name": "stderr",
     "output_type": "stream",
     "text": [
      "\r",
      "Least Squares Iteration:  27%|██▋       | 266/1000 [00:00<00:02, 290.22iter/s, Error=2.1608e-03]"
     ]
    },
    {
     "name": "stderr",
     "output_type": "stream",
     "text": [
      "\r",
      "Least Squares Iteration:  27%|██▋       | 267/1000 [00:00<00:02, 290.22iter/s, Error=2.1551e-03]"
     ]
    },
    {
     "name": "stderr",
     "output_type": "stream",
     "text": [
      "\r",
      "Least Squares Iteration:  27%|██▋       | 268/1000 [00:00<00:02, 290.22iter/s, Error=2.1494e-03]"
     ]
    },
    {
     "name": "stderr",
     "output_type": "stream",
     "text": [
      "\r",
      "Least Squares Iteration:  27%|██▋       | 269/1000 [00:00<00:02, 290.22iter/s, Error=2.1438e-03]"
     ]
    },
    {
     "name": "stderr",
     "output_type": "stream",
     "text": [
      "\r",
      "Least Squares Iteration:  27%|██▋       | 270/1000 [00:00<00:02, 290.22iter/s, Error=2.1382e-03]"
     ]
    },
    {
     "name": "stderr",
     "output_type": "stream",
     "text": [
      "\r",
      "Least Squares Iteration:  27%|██▋       | 271/1000 [00:00<00:02, 290.22iter/s, Error=2.1327e-03]"
     ]
    },
    {
     "name": "stderr",
     "output_type": "stream",
     "text": [
      "\r",
      "Least Squares Iteration:  27%|██▋       | 272/1000 [00:00<00:02, 290.22iter/s, Error=2.1272e-03]"
     ]
    },
    {
     "name": "stderr",
     "output_type": "stream",
     "text": [
      "\r",
      "Least Squares Iteration:  27%|██▋       | 273/1000 [00:00<00:02, 290.22iter/s, Error=2.1218e-03]"
     ]
    },
    {
     "name": "stderr",
     "output_type": "stream",
     "text": [
      "\r",
      "Least Squares Iteration:  27%|██▋       | 274/1000 [00:00<00:02, 290.22iter/s, Error=2.1164e-03]"
     ]
    },
    {
     "name": "stderr",
     "output_type": "stream",
     "text": [
      "\r",
      "Least Squares Iteration:  28%|██▊       | 275/1000 [00:00<00:02, 272.42iter/s, Error=2.1164e-03]"
     ]
    },
    {
     "name": "stderr",
     "output_type": "stream",
     "text": [
      "\r",
      "Least Squares Iteration:  28%|██▊       | 275/1000 [00:00<00:02, 272.42iter/s, Error=2.1111e-03]"
     ]
    },
    {
     "name": "stderr",
     "output_type": "stream",
     "text": [
      "\r",
      "Least Squares Iteration:  28%|██▊       | 276/1000 [00:00<00:02, 272.42iter/s, Error=2.1058e-03]"
     ]
    },
    {
     "name": "stderr",
     "output_type": "stream",
     "text": [
      "\r",
      "Least Squares Iteration:  28%|██▊       | 277/1000 [00:00<00:02, 272.42iter/s, Error=2.1006e-03]"
     ]
    },
    {
     "name": "stderr",
     "output_type": "stream",
     "text": [
      "\r",
      "Least Squares Iteration:  28%|██▊       | 278/1000 [00:00<00:02, 272.42iter/s, Error=2.0954e-03]"
     ]
    },
    {
     "name": "stderr",
     "output_type": "stream",
     "text": [
      "\r",
      "Least Squares Iteration:  28%|██▊       | 279/1000 [00:00<00:02, 272.42iter/s, Error=2.0902e-03]"
     ]
    },
    {
     "name": "stderr",
     "output_type": "stream",
     "text": [
      "\r",
      "Least Squares Iteration:  28%|██▊       | 280/1000 [00:00<00:02, 272.42iter/s, Error=2.0851e-03]"
     ]
    },
    {
     "name": "stderr",
     "output_type": "stream",
     "text": [
      "\r",
      "Least Squares Iteration:  28%|██▊       | 281/1000 [00:00<00:02, 272.42iter/s, Error=2.0800e-03]"
     ]
    },
    {
     "name": "stderr",
     "output_type": "stream",
     "text": [
      "\r",
      "Least Squares Iteration:  28%|██▊       | 282/1000 [00:00<00:02, 272.42iter/s, Error=2.0750e-03]"
     ]
    },
    {
     "name": "stderr",
     "output_type": "stream",
     "text": [
      "\r",
      "Least Squares Iteration:  28%|██▊       | 283/1000 [00:00<00:02, 272.42iter/s, Error=2.0700e-03]"
     ]
    },
    {
     "name": "stderr",
     "output_type": "stream",
     "text": [
      "\r",
      "Least Squares Iteration:  28%|██▊       | 284/1000 [00:00<00:02, 272.42iter/s, Error=2.0651e-03]"
     ]
    },
    {
     "name": "stderr",
     "output_type": "stream",
     "text": [
      "\r",
      "Least Squares Iteration:  28%|██▊       | 285/1000 [00:00<00:02, 272.42iter/s, Error=2.0602e-03]"
     ]
    },
    {
     "name": "stderr",
     "output_type": "stream",
     "text": [
      "\r",
      "Least Squares Iteration:  29%|██▊       | 286/1000 [00:00<00:02, 272.42iter/s, Error=2.0553e-03]"
     ]
    },
    {
     "name": "stderr",
     "output_type": "stream",
     "text": [
      "\r",
      "Least Squares Iteration:  29%|██▊       | 287/1000 [00:00<00:02, 272.42iter/s, Error=2.0505e-03]"
     ]
    },
    {
     "name": "stderr",
     "output_type": "stream",
     "text": [
      "\r",
      "Least Squares Iteration:  29%|██▉       | 288/1000 [00:00<00:02, 272.42iter/s, Error=2.0457e-03]"
     ]
    },
    {
     "name": "stderr",
     "output_type": "stream",
     "text": [
      "\r",
      "Least Squares Iteration:  29%|██▉       | 289/1000 [00:00<00:02, 272.42iter/s, Error=2.0409e-03]"
     ]
    },
    {
     "name": "stderr",
     "output_type": "stream",
     "text": [
      "\r",
      "Least Squares Iteration:  29%|██▉       | 290/1000 [00:00<00:02, 272.42iter/s, Error=2.0362e-03]"
     ]
    },
    {
     "name": "stderr",
     "output_type": "stream",
     "text": [
      "\r",
      "Least Squares Iteration:  29%|██▉       | 291/1000 [00:00<00:02, 272.42iter/s, Error=2.0315e-03]"
     ]
    },
    {
     "name": "stderr",
     "output_type": "stream",
     "text": [
      "\r",
      "Least Squares Iteration:  29%|██▉       | 292/1000 [00:00<00:02, 272.42iter/s, Error=2.0269e-03]"
     ]
    },
    {
     "name": "stderr",
     "output_type": "stream",
     "text": [
      "\r",
      "Least Squares Iteration:  29%|██▉       | 293/1000 [00:00<00:02, 272.42iter/s, Error=2.0223e-03]"
     ]
    },
    {
     "name": "stderr",
     "output_type": "stream",
     "text": [
      "\r",
      "Least Squares Iteration:  29%|██▉       | 294/1000 [00:00<00:02, 272.42iter/s, Error=2.0178e-03]"
     ]
    },
    {
     "name": "stderr",
     "output_type": "stream",
     "text": [
      "\r",
      "Least Squares Iteration:  30%|██▉       | 295/1000 [00:00<00:02, 272.42iter/s, Error=2.0132e-03]"
     ]
    },
    {
     "name": "stderr",
     "output_type": "stream",
     "text": [
      "\r",
      "Least Squares Iteration:  30%|██▉       | 296/1000 [00:00<00:02, 272.42iter/s, Error=2.0087e-03]"
     ]
    },
    {
     "name": "stderr",
     "output_type": "stream",
     "text": [
      "\r",
      "Least Squares Iteration:  30%|██▉       | 297/1000 [00:00<00:02, 272.42iter/s, Error=2.0043e-03]"
     ]
    },
    {
     "name": "stderr",
     "output_type": "stream",
     "text": [
      "\r",
      "Least Squares Iteration:  30%|██▉       | 298/1000 [00:00<00:02, 272.42iter/s, Error=1.9999e-03]"
     ]
    },
    {
     "name": "stderr",
     "output_type": "stream",
     "text": [
      "\r",
      "Least Squares Iteration:  30%|██▉       | 299/1000 [00:00<00:02, 272.42iter/s, Error=1.9955e-03]"
     ]
    },
    {
     "name": "stderr",
     "output_type": "stream",
     "text": [
      "\r",
      "Least Squares Iteration:  30%|███       | 300/1000 [00:00<00:02, 272.42iter/s, Error=1.9912e-03]"
     ]
    },
    {
     "name": "stderr",
     "output_type": "stream",
     "text": [
      "\r",
      "Least Squares Iteration:  30%|███       | 301/1000 [00:00<00:02, 272.42iter/s, Error=1.9868e-03]"
     ]
    },
    {
     "name": "stderr",
     "output_type": "stream",
     "text": [
      "\r",
      "Least Squares Iteration:  30%|███       | 302/1000 [00:00<00:02, 272.42iter/s, Error=1.9826e-03]"
     ]
    },
    {
     "name": "stderr",
     "output_type": "stream",
     "text": [
      "\r",
      "Least Squares Iteration:  30%|███       | 303/1000 [00:00<00:02, 258.60iter/s, Error=1.9826e-03]"
     ]
    },
    {
     "name": "stderr",
     "output_type": "stream",
     "text": [
      "\r",
      "Least Squares Iteration:  30%|███       | 303/1000 [00:00<00:02, 258.60iter/s, Error=1.9783e-03]"
     ]
    },
    {
     "name": "stderr",
     "output_type": "stream",
     "text": [
      "\r",
      "Least Squares Iteration:  30%|███       | 304/1000 [00:01<00:02, 258.60iter/s, Error=1.9741e-03]"
     ]
    },
    {
     "name": "stderr",
     "output_type": "stream",
     "text": [
      "\r",
      "Least Squares Iteration:  30%|███       | 305/1000 [00:01<00:02, 258.60iter/s, Error=1.9699e-03]"
     ]
    },
    {
     "name": "stderr",
     "output_type": "stream",
     "text": [
      "\r",
      "Least Squares Iteration:  31%|███       | 306/1000 [00:01<00:02, 258.60iter/s, Error=1.9658e-03]"
     ]
    },
    {
     "name": "stderr",
     "output_type": "stream",
     "text": [
      "\r",
      "Least Squares Iteration:  31%|███       | 307/1000 [00:01<00:02, 258.60iter/s, Error=1.9617e-03]"
     ]
    },
    {
     "name": "stderr",
     "output_type": "stream",
     "text": [
      "\r",
      "Least Squares Iteration:  31%|███       | 308/1000 [00:01<00:02, 258.60iter/s, Error=1.9576e-03]"
     ]
    },
    {
     "name": "stderr",
     "output_type": "stream",
     "text": [
      "\r",
      "Least Squares Iteration:  31%|███       | 309/1000 [00:01<00:02, 258.60iter/s, Error=1.9535e-03]"
     ]
    },
    {
     "name": "stderr",
     "output_type": "stream",
     "text": [
      "\r",
      "Least Squares Iteration:  31%|███       | 310/1000 [00:01<00:02, 258.60iter/s, Error=1.9495e-03]"
     ]
    },
    {
     "name": "stderr",
     "output_type": "stream",
     "text": [
      "\r",
      "Least Squares Iteration:  31%|███       | 311/1000 [00:01<00:02, 258.60iter/s, Error=1.9455e-03]"
     ]
    },
    {
     "name": "stderr",
     "output_type": "stream",
     "text": [
      "\r",
      "Least Squares Iteration:  31%|███       | 312/1000 [00:01<00:02, 258.60iter/s, Error=1.9416e-03]"
     ]
    },
    {
     "name": "stderr",
     "output_type": "stream",
     "text": [
      "\r",
      "Least Squares Iteration:  31%|███▏      | 313/1000 [00:01<00:02, 258.60iter/s, Error=1.9377e-03]"
     ]
    },
    {
     "name": "stderr",
     "output_type": "stream",
     "text": [
      "\r",
      "Least Squares Iteration:  31%|███▏      | 314/1000 [00:01<00:02, 258.60iter/s, Error=1.9338e-03]"
     ]
    },
    {
     "name": "stderr",
     "output_type": "stream",
     "text": [
      "\r",
      "Least Squares Iteration:  32%|███▏      | 315/1000 [00:01<00:02, 258.60iter/s, Error=1.9299e-03]"
     ]
    },
    {
     "name": "stderr",
     "output_type": "stream",
     "text": [
      "\r",
      "Least Squares Iteration:  32%|███▏      | 316/1000 [00:01<00:02, 258.60iter/s, Error=1.9260e-03]"
     ]
    },
    {
     "name": "stderr",
     "output_type": "stream",
     "text": [
      "\r",
      "Least Squares Iteration:  32%|███▏      | 317/1000 [00:01<00:02, 258.60iter/s, Error=1.9222e-03]"
     ]
    },
    {
     "name": "stderr",
     "output_type": "stream",
     "text": [
      "\r",
      "Least Squares Iteration:  32%|███▏      | 318/1000 [00:01<00:02, 258.60iter/s, Error=1.9185e-03]"
     ]
    },
    {
     "name": "stderr",
     "output_type": "stream",
     "text": [
      "\r",
      "Least Squares Iteration:  32%|███▏      | 319/1000 [00:01<00:02, 258.60iter/s, Error=1.9147e-03]"
     ]
    },
    {
     "name": "stderr",
     "output_type": "stream",
     "text": [
      "\r",
      "Least Squares Iteration:  32%|███▏      | 320/1000 [00:01<00:02, 258.60iter/s, Error=1.9110e-03]"
     ]
    },
    {
     "name": "stderr",
     "output_type": "stream",
     "text": [
      "\r",
      "Least Squares Iteration:  32%|███▏      | 321/1000 [00:01<00:02, 258.60iter/s, Error=1.9073e-03]"
     ]
    },
    {
     "name": "stderr",
     "output_type": "stream",
     "text": [
      "\r",
      "Least Squares Iteration:  32%|███▏      | 322/1000 [00:01<00:02, 258.60iter/s, Error=1.9036e-03]"
     ]
    },
    {
     "name": "stderr",
     "output_type": "stream",
     "text": [
      "\r",
      "Least Squares Iteration:  32%|███▏      | 323/1000 [00:01<00:02, 258.60iter/s, Error=1.9000e-03]"
     ]
    },
    {
     "name": "stderr",
     "output_type": "stream",
     "text": [
      "\r",
      "Least Squares Iteration:  32%|███▏      | 324/1000 [00:01<00:02, 258.60iter/s, Error=1.8963e-03]"
     ]
    },
    {
     "name": "stderr",
     "output_type": "stream",
     "text": [
      "\r",
      "Least Squares Iteration:  32%|███▎      | 325/1000 [00:01<00:02, 258.60iter/s, Error=1.8928e-03]"
     ]
    },
    {
     "name": "stderr",
     "output_type": "stream",
     "text": [
      "\r",
      "Least Squares Iteration:  33%|███▎      | 326/1000 [00:01<00:02, 258.60iter/s, Error=1.8892e-03]"
     ]
    },
    {
     "name": "stderr",
     "output_type": "stream",
     "text": [
      "\r",
      "Least Squares Iteration:  33%|███▎      | 327/1000 [00:01<00:02, 258.60iter/s, Error=1.8856e-03]"
     ]
    },
    {
     "name": "stderr",
     "output_type": "stream",
     "text": [
      "\r",
      "Least Squares Iteration:  33%|███▎      | 328/1000 [00:01<00:02, 258.60iter/s, Error=1.8821e-03]"
     ]
    },
    {
     "name": "stderr",
     "output_type": "stream",
     "text": [
      "\r",
      "Least Squares Iteration:  33%|███▎      | 329/1000 [00:01<00:02, 258.60iter/s, Error=1.8786e-03]"
     ]
    },
    {
     "name": "stderr",
     "output_type": "stream",
     "text": [
      "\r",
      "Least Squares Iteration:  33%|███▎      | 330/1000 [00:01<00:02, 239.94iter/s, Error=1.8786e-03]"
     ]
    },
    {
     "name": "stderr",
     "output_type": "stream",
     "text": [
      "\r",
      "Least Squares Iteration:  33%|███▎      | 330/1000 [00:01<00:02, 239.94iter/s, Error=1.8752e-03]"
     ]
    },
    {
     "name": "stderr",
     "output_type": "stream",
     "text": [
      "\r",
      "Least Squares Iteration:  33%|███▎      | 331/1000 [00:01<00:02, 239.94iter/s, Error=1.8717e-03]"
     ]
    },
    {
     "name": "stderr",
     "output_type": "stream",
     "text": [
      "\r",
      "Least Squares Iteration:  33%|███▎      | 332/1000 [00:01<00:02, 239.94iter/s, Error=1.8683e-03]"
     ]
    },
    {
     "name": "stderr",
     "output_type": "stream",
     "text": [
      "\r",
      "Least Squares Iteration:  33%|███▎      | 333/1000 [00:01<00:02, 239.94iter/s, Error=1.8649e-03]"
     ]
    },
    {
     "name": "stderr",
     "output_type": "stream",
     "text": [
      "\r",
      "Least Squares Iteration:  33%|███▎      | 334/1000 [00:01<00:02, 239.94iter/s, Error=1.8616e-03]"
     ]
    },
    {
     "name": "stderr",
     "output_type": "stream",
     "text": [
      "\r",
      "Least Squares Iteration:  34%|███▎      | 335/1000 [00:01<00:02, 239.94iter/s, Error=1.8582e-03]"
     ]
    },
    {
     "name": "stderr",
     "output_type": "stream",
     "text": [
      "\r",
      "Least Squares Iteration:  34%|███▎      | 336/1000 [00:01<00:02, 239.94iter/s, Error=1.8549e-03]"
     ]
    },
    {
     "name": "stderr",
     "output_type": "stream",
     "text": [
      "\r",
      "Least Squares Iteration:  34%|███▎      | 337/1000 [00:01<00:02, 239.94iter/s, Error=1.8516e-03]"
     ]
    },
    {
     "name": "stderr",
     "output_type": "stream",
     "text": [
      "\r",
      "Least Squares Iteration:  34%|███▍      | 338/1000 [00:01<00:02, 239.94iter/s, Error=1.8483e-03]"
     ]
    },
    {
     "name": "stderr",
     "output_type": "stream",
     "text": [
      "\r",
      "Least Squares Iteration:  34%|███▍      | 339/1000 [00:01<00:02, 239.94iter/s, Error=1.8451e-03]"
     ]
    },
    {
     "name": "stderr",
     "output_type": "stream",
     "text": [
      "\r",
      "Least Squares Iteration:  34%|███▍      | 340/1000 [00:01<00:02, 239.94iter/s, Error=1.8419e-03]"
     ]
    },
    {
     "name": "stderr",
     "output_type": "stream",
     "text": [
      "\r",
      "Least Squares Iteration:  34%|███▍      | 341/1000 [00:01<00:02, 239.94iter/s, Error=1.8387e-03]"
     ]
    },
    {
     "name": "stderr",
     "output_type": "stream",
     "text": [
      "\r",
      "Least Squares Iteration:  34%|███▍      | 342/1000 [00:01<00:02, 239.94iter/s, Error=1.8355e-03]"
     ]
    },
    {
     "name": "stderr",
     "output_type": "stream",
     "text": [
      "\r",
      "Least Squares Iteration:  34%|███▍      | 343/1000 [00:01<00:02, 239.94iter/s, Error=1.8323e-03]"
     ]
    },
    {
     "name": "stderr",
     "output_type": "stream",
     "text": [
      "\r",
      "Least Squares Iteration:  34%|███▍      | 344/1000 [00:01<00:02, 239.94iter/s, Error=1.8292e-03]"
     ]
    },
    {
     "name": "stderr",
     "output_type": "stream",
     "text": [
      "\r",
      "Least Squares Iteration:  34%|███▍      | 345/1000 [00:01<00:02, 239.94iter/s, Error=1.8261e-03]"
     ]
    },
    {
     "name": "stderr",
     "output_type": "stream",
     "text": [
      "\r",
      "Least Squares Iteration:  35%|███▍      | 346/1000 [00:01<00:02, 239.94iter/s, Error=1.8230e-03]"
     ]
    },
    {
     "name": "stderr",
     "output_type": "stream",
     "text": [
      "\r",
      "Least Squares Iteration:  35%|███▍      | 347/1000 [00:01<00:02, 239.94iter/s, Error=1.8199e-03]"
     ]
    },
    {
     "name": "stderr",
     "output_type": "stream",
     "text": [
      "\r",
      "Least Squares Iteration:  35%|███▍      | 348/1000 [00:01<00:02, 239.94iter/s, Error=1.8168e-03]"
     ]
    },
    {
     "name": "stderr",
     "output_type": "stream",
     "text": [
      "\r",
      "Least Squares Iteration:  35%|███▍      | 349/1000 [00:01<00:02, 239.94iter/s, Error=1.8138e-03]"
     ]
    },
    {
     "name": "stderr",
     "output_type": "stream",
     "text": [
      "\r",
      "Least Squares Iteration:  35%|███▌      | 350/1000 [00:01<00:02, 239.94iter/s, Error=1.8108e-03]"
     ]
    },
    {
     "name": "stderr",
     "output_type": "stream",
     "text": [
      "\r",
      "Least Squares Iteration:  35%|███▌      | 351/1000 [00:01<00:02, 239.94iter/s, Error=1.8078e-03]"
     ]
    },
    {
     "name": "stderr",
     "output_type": "stream",
     "text": [
      "\r",
      "Least Squares Iteration:  35%|███▌      | 352/1000 [00:01<00:02, 239.94iter/s, Error=1.8048e-03]"
     ]
    },
    {
     "name": "stderr",
     "output_type": "stream",
     "text": [
      "\r",
      "Least Squares Iteration:  35%|███▌      | 353/1000 [00:01<00:02, 239.94iter/s, Error=1.8018e-03]"
     ]
    },
    {
     "name": "stderr",
     "output_type": "stream",
     "text": [
      "\r",
      "Least Squares Iteration:  35%|███▌      | 354/1000 [00:01<00:02, 239.94iter/s, Error=1.7989e-03]"
     ]
    },
    {
     "name": "stderr",
     "output_type": "stream",
     "text": [
      "\r",
      "Least Squares Iteration:  36%|███▌      | 355/1000 [00:01<00:02, 230.78iter/s, Error=1.7989e-03]"
     ]
    },
    {
     "name": "stderr",
     "output_type": "stream",
     "text": [
      "\r",
      "Least Squares Iteration:  36%|███▌      | 355/1000 [00:01<00:02, 230.78iter/s, Error=1.7960e-03]"
     ]
    },
    {
     "name": "stderr",
     "output_type": "stream",
     "text": [
      "\r",
      "Least Squares Iteration:  36%|███▌      | 356/1000 [00:01<00:02, 230.78iter/s, Error=1.7931e-03]"
     ]
    },
    {
     "name": "stderr",
     "output_type": "stream",
     "text": [
      "\r",
      "Least Squares Iteration:  36%|███▌      | 357/1000 [00:01<00:02, 230.78iter/s, Error=1.7902e-03]"
     ]
    },
    {
     "name": "stderr",
     "output_type": "stream",
     "text": [
      "\r",
      "Least Squares Iteration:  36%|███▌      | 358/1000 [00:01<00:02, 230.78iter/s, Error=1.7873e-03]"
     ]
    },
    {
     "name": "stderr",
     "output_type": "stream",
     "text": [
      "\r",
      "Least Squares Iteration:  36%|███▌      | 359/1000 [00:01<00:02, 230.78iter/s, Error=1.7845e-03]"
     ]
    },
    {
     "name": "stderr",
     "output_type": "stream",
     "text": [
      "\r",
      "Least Squares Iteration:  36%|███▌      | 360/1000 [00:01<00:02, 230.78iter/s, Error=1.7817e-03]"
     ]
    },
    {
     "name": "stderr",
     "output_type": "stream",
     "text": [
      "\r",
      "Least Squares Iteration:  36%|███▌      | 361/1000 [00:01<00:02, 230.78iter/s, Error=1.7789e-03]"
     ]
    },
    {
     "name": "stderr",
     "output_type": "stream",
     "text": [
      "\r",
      "Least Squares Iteration:  36%|███▌      | 362/1000 [00:01<00:02, 230.78iter/s, Error=1.7761e-03]"
     ]
    },
    {
     "name": "stderr",
     "output_type": "stream",
     "text": [
      "\r",
      "Least Squares Iteration:  36%|███▋      | 363/1000 [00:01<00:02, 230.78iter/s, Error=1.7733e-03]"
     ]
    },
    {
     "name": "stderr",
     "output_type": "stream",
     "text": [
      "\r",
      "Least Squares Iteration:  36%|███▋      | 364/1000 [00:01<00:02, 230.78iter/s, Error=1.7706e-03]"
     ]
    },
    {
     "name": "stderr",
     "output_type": "stream",
     "text": [
      "\r",
      "Least Squares Iteration:  36%|███▋      | 365/1000 [00:01<00:02, 230.78iter/s, Error=1.7678e-03]"
     ]
    },
    {
     "name": "stderr",
     "output_type": "stream",
     "text": [
      "\r",
      "Least Squares Iteration:  37%|███▋      | 366/1000 [00:01<00:02, 230.78iter/s, Error=1.7651e-03]"
     ]
    },
    {
     "name": "stderr",
     "output_type": "stream",
     "text": [
      "\r",
      "Least Squares Iteration:  37%|███▋      | 367/1000 [00:01<00:02, 230.78iter/s, Error=1.7624e-03]"
     ]
    },
    {
     "name": "stderr",
     "output_type": "stream",
     "text": [
      "\r",
      "Least Squares Iteration:  37%|███▋      | 368/1000 [00:01<00:02, 230.78iter/s, Error=1.7597e-03]"
     ]
    },
    {
     "name": "stderr",
     "output_type": "stream",
     "text": [
      "\r",
      "Least Squares Iteration:  37%|███▋      | 369/1000 [00:01<00:02, 230.78iter/s, Error=1.7570e-03]"
     ]
    },
    {
     "name": "stderr",
     "output_type": "stream",
     "text": [
      "\r",
      "Least Squares Iteration:  37%|███▋      | 370/1000 [00:01<00:02, 230.78iter/s, Error=1.7544e-03]"
     ]
    },
    {
     "name": "stderr",
     "output_type": "stream",
     "text": [
      "\r",
      "Least Squares Iteration:  37%|███▋      | 371/1000 [00:01<00:02, 230.78iter/s, Error=1.7517e-03]"
     ]
    },
    {
     "name": "stderr",
     "output_type": "stream",
     "text": [
      "\r",
      "Least Squares Iteration:  37%|███▋      | 372/1000 [00:01<00:02, 230.78iter/s, Error=1.7491e-03]"
     ]
    },
    {
     "name": "stderr",
     "output_type": "stream",
     "text": [
      "\r",
      "Least Squares Iteration:  37%|███▋      | 373/1000 [00:01<00:02, 230.78iter/s, Error=1.7465e-03]"
     ]
    },
    {
     "name": "stderr",
     "output_type": "stream",
     "text": [
      "\r",
      "Least Squares Iteration:  37%|███▋      | 374/1000 [00:01<00:02, 230.78iter/s, Error=1.7439e-03]"
     ]
    },
    {
     "name": "stderr",
     "output_type": "stream",
     "text": [
      "\r",
      "Least Squares Iteration:  38%|███▊      | 375/1000 [00:01<00:02, 230.78iter/s, Error=1.7414e-03]"
     ]
    },
    {
     "name": "stderr",
     "output_type": "stream",
     "text": [
      "\r",
      "Least Squares Iteration:  38%|███▊      | 376/1000 [00:01<00:02, 230.78iter/s, Error=1.7388e-03]"
     ]
    },
    {
     "name": "stderr",
     "output_type": "stream",
     "text": [
      "\r",
      "Least Squares Iteration:  38%|███▊      | 377/1000 [00:01<00:02, 230.78iter/s, Error=1.7362e-03]"
     ]
    },
    {
     "name": "stderr",
     "output_type": "stream",
     "text": [
      "\r",
      "Least Squares Iteration:  38%|███▊      | 378/1000 [00:01<00:02, 230.78iter/s, Error=1.7337e-03]"
     ]
    },
    {
     "name": "stderr",
     "output_type": "stream",
     "text": [
      "\r",
      "Least Squares Iteration:  38%|███▊      | 379/1000 [00:01<00:02, 218.88iter/s, Error=1.7337e-03]"
     ]
    },
    {
     "name": "stderr",
     "output_type": "stream",
     "text": [
      "\r",
      "Least Squares Iteration:  38%|███▊      | 379/1000 [00:01<00:02, 218.88iter/s, Error=1.7312e-03]"
     ]
    },
    {
     "name": "stderr",
     "output_type": "stream",
     "text": [
      "\r",
      "Least Squares Iteration:  38%|███▊      | 380/1000 [00:01<00:02, 218.88iter/s, Error=1.7287e-03]"
     ]
    },
    {
     "name": "stderr",
     "output_type": "stream",
     "text": [
      "\r",
      "Least Squares Iteration:  38%|███▊      | 381/1000 [00:01<00:02, 218.88iter/s, Error=1.7262e-03]"
     ]
    },
    {
     "name": "stderr",
     "output_type": "stream",
     "text": [
      "\r",
      "Least Squares Iteration:  38%|███▊      | 382/1000 [00:01<00:02, 218.88iter/s, Error=1.7237e-03]"
     ]
    },
    {
     "name": "stderr",
     "output_type": "stream",
     "text": [
      "\r",
      "Least Squares Iteration:  38%|███▊      | 383/1000 [00:01<00:02, 218.88iter/s, Error=1.7213e-03]"
     ]
    },
    {
     "name": "stderr",
     "output_type": "stream",
     "text": [
      "\r",
      "Least Squares Iteration:  38%|███▊      | 384/1000 [00:01<00:02, 218.88iter/s, Error=1.7189e-03]"
     ]
    },
    {
     "name": "stderr",
     "output_type": "stream",
     "text": [
      "\r",
      "Least Squares Iteration:  38%|███▊      | 385/1000 [00:01<00:02, 218.88iter/s, Error=1.7164e-03]"
     ]
    },
    {
     "name": "stderr",
     "output_type": "stream",
     "text": [
      "\r",
      "Least Squares Iteration:  39%|███▊      | 386/1000 [00:01<00:02, 218.88iter/s, Error=1.7140e-03]"
     ]
    },
    {
     "name": "stderr",
     "output_type": "stream",
     "text": [
      "\r",
      "Least Squares Iteration:  39%|███▊      | 387/1000 [00:01<00:02, 218.88iter/s, Error=1.7116e-03]"
     ]
    },
    {
     "name": "stderr",
     "output_type": "stream",
     "text": [
      "\r",
      "Least Squares Iteration:  39%|███▉      | 388/1000 [00:01<00:02, 218.88iter/s, Error=1.7092e-03]"
     ]
    },
    {
     "name": "stderr",
     "output_type": "stream",
     "text": [
      "\r",
      "Least Squares Iteration:  39%|███▉      | 389/1000 [00:01<00:02, 218.88iter/s, Error=1.7069e-03]"
     ]
    },
    {
     "name": "stderr",
     "output_type": "stream",
     "text": [
      "\r",
      "Least Squares Iteration:  39%|███▉      | 390/1000 [00:01<00:02, 218.88iter/s, Error=1.7045e-03]"
     ]
    },
    {
     "name": "stderr",
     "output_type": "stream",
     "text": [
      "\r",
      "Least Squares Iteration:  39%|███▉      | 391/1000 [00:01<00:02, 218.88iter/s, Error=1.7021e-03]"
     ]
    },
    {
     "name": "stderr",
     "output_type": "stream",
     "text": [
      "\r",
      "Least Squares Iteration:  39%|███▉      | 392/1000 [00:01<00:02, 218.88iter/s, Error=1.6998e-03]"
     ]
    },
    {
     "name": "stderr",
     "output_type": "stream",
     "text": [
      "\r",
      "Least Squares Iteration:  39%|███▉      | 393/1000 [00:01<00:02, 218.88iter/s, Error=1.6975e-03]"
     ]
    },
    {
     "name": "stderr",
     "output_type": "stream",
     "text": [
      "\r",
      "Least Squares Iteration:  39%|███▉      | 394/1000 [00:01<00:02, 218.88iter/s, Error=1.6952e-03]"
     ]
    },
    {
     "name": "stderr",
     "output_type": "stream",
     "text": [
      "\r",
      "Least Squares Iteration:  40%|███▉      | 395/1000 [00:01<00:02, 218.88iter/s, Error=1.6929e-03]"
     ]
    },
    {
     "name": "stderr",
     "output_type": "stream",
     "text": [
      "\r",
      "Least Squares Iteration:  40%|███▉      | 396/1000 [00:01<00:02, 218.88iter/s, Error=1.6906e-03]"
     ]
    },
    {
     "name": "stderr",
     "output_type": "stream",
     "text": [
      "\r",
      "Least Squares Iteration:  40%|███▉      | 397/1000 [00:01<00:02, 218.88iter/s, Error=1.6883e-03]"
     ]
    },
    {
     "name": "stderr",
     "output_type": "stream",
     "text": [
      "\r",
      "Least Squares Iteration:  40%|███▉      | 398/1000 [00:01<00:02, 218.88iter/s, Error=1.6861e-03]"
     ]
    },
    {
     "name": "stderr",
     "output_type": "stream",
     "text": [
      "\r",
      "Least Squares Iteration:  40%|███▉      | 399/1000 [00:01<00:02, 218.88iter/s, Error=1.6838e-03]"
     ]
    },
    {
     "name": "stderr",
     "output_type": "stream",
     "text": [
      "\r",
      "Least Squares Iteration:  40%|████      | 400/1000 [00:01<00:02, 218.88iter/s, Error=1.6816e-03]"
     ]
    },
    {
     "name": "stderr",
     "output_type": "stream",
     "text": [
      "\r",
      "Least Squares Iteration:  40%|████      | 401/1000 [00:01<00:02, 209.68iter/s, Error=1.6816e-03]"
     ]
    },
    {
     "name": "stderr",
     "output_type": "stream",
     "text": [
      "\r",
      "Least Squares Iteration:  40%|████      | 401/1000 [00:01<00:02, 209.68iter/s, Error=1.6794e-03]"
     ]
    },
    {
     "name": "stderr",
     "output_type": "stream",
     "text": [
      "\r",
      "Least Squares Iteration:  40%|████      | 402/1000 [00:01<00:02, 209.68iter/s, Error=1.6771e-03]"
     ]
    },
    {
     "name": "stderr",
     "output_type": "stream",
     "text": [
      "\r",
      "Least Squares Iteration:  40%|████      | 403/1000 [00:01<00:02, 209.68iter/s, Error=1.6750e-03]"
     ]
    },
    {
     "name": "stderr",
     "output_type": "stream",
     "text": [
      "\r",
      "Least Squares Iteration:  40%|████      | 404/1000 [00:01<00:02, 209.68iter/s, Error=1.6728e-03]"
     ]
    },
    {
     "name": "stderr",
     "output_type": "stream",
     "text": [
      "\r",
      "Least Squares Iteration:  40%|████      | 405/1000 [00:01<00:02, 209.68iter/s, Error=1.6706e-03]"
     ]
    },
    {
     "name": "stderr",
     "output_type": "stream",
     "text": [
      "\r",
      "Least Squares Iteration:  41%|████      | 406/1000 [00:01<00:02, 209.68iter/s, Error=1.6684e-03]"
     ]
    },
    {
     "name": "stderr",
     "output_type": "stream",
     "text": [
      "\r",
      "Least Squares Iteration:  41%|████      | 407/1000 [00:01<00:02, 209.68iter/s, Error=1.6663e-03]"
     ]
    },
    {
     "name": "stderr",
     "output_type": "stream",
     "text": [
      "\r",
      "Least Squares Iteration:  41%|████      | 408/1000 [00:01<00:02, 209.68iter/s, Error=1.6641e-03]"
     ]
    },
    {
     "name": "stderr",
     "output_type": "stream",
     "text": [
      "\r",
      "Least Squares Iteration:  41%|████      | 409/1000 [00:01<00:02, 209.68iter/s, Error=1.6620e-03]"
     ]
    },
    {
     "name": "stderr",
     "output_type": "stream",
     "text": [
      "\r",
      "Least Squares Iteration:  41%|████      | 410/1000 [00:01<00:02, 209.68iter/s, Error=1.6599e-03]"
     ]
    },
    {
     "name": "stderr",
     "output_type": "stream",
     "text": [
      "\r",
      "Least Squares Iteration:  41%|████      | 411/1000 [00:01<00:02, 209.68iter/s, Error=1.6578e-03]"
     ]
    },
    {
     "name": "stderr",
     "output_type": "stream",
     "text": [
      "\r",
      "Least Squares Iteration:  41%|████      | 412/1000 [00:01<00:02, 209.68iter/s, Error=1.6557e-03]"
     ]
    },
    {
     "name": "stderr",
     "output_type": "stream",
     "text": [
      "\r",
      "Least Squares Iteration:  41%|████▏     | 413/1000 [00:01<00:02, 209.68iter/s, Error=1.6536e-03]"
     ]
    },
    {
     "name": "stderr",
     "output_type": "stream",
     "text": [
      "\r",
      "Least Squares Iteration:  41%|████▏     | 414/1000 [00:01<00:02, 209.68iter/s, Error=1.6515e-03]"
     ]
    },
    {
     "name": "stderr",
     "output_type": "stream",
     "text": [
      "\r",
      "Least Squares Iteration:  42%|████▏     | 415/1000 [00:01<00:02, 209.68iter/s, Error=1.6494e-03]"
     ]
    },
    {
     "name": "stderr",
     "output_type": "stream",
     "text": [
      "\r",
      "Least Squares Iteration:  42%|████▏     | 416/1000 [00:01<00:02, 209.68iter/s, Error=1.6474e-03]"
     ]
    },
    {
     "name": "stderr",
     "output_type": "stream",
     "text": [
      "\r",
      "Least Squares Iteration:  42%|████▏     | 417/1000 [00:01<00:02, 209.68iter/s, Error=1.6453e-03]"
     ]
    },
    {
     "name": "stderr",
     "output_type": "stream",
     "text": [
      "\r",
      "Least Squares Iteration:  42%|████▏     | 418/1000 [00:01<00:02, 209.68iter/s, Error=1.6433e-03]"
     ]
    },
    {
     "name": "stderr",
     "output_type": "stream",
     "text": [
      "\r",
      "Least Squares Iteration:  42%|████▏     | 419/1000 [00:01<00:02, 209.68iter/s, Error=1.6413e-03]"
     ]
    },
    {
     "name": "stderr",
     "output_type": "stream",
     "text": [
      "\r",
      "Least Squares Iteration:  42%|████▏     | 420/1000 [00:01<00:02, 209.68iter/s, Error=1.6392e-03]"
     ]
    },
    {
     "name": "stderr",
     "output_type": "stream",
     "text": [
      "\r",
      "Least Squares Iteration:  42%|████▏     | 421/1000 [00:01<00:02, 209.68iter/s, Error=1.6372e-03]"
     ]
    },
    {
     "name": "stderr",
     "output_type": "stream",
     "text": [
      "\r",
      "Least Squares Iteration:  42%|████▏     | 422/1000 [00:01<00:02, 195.58iter/s, Error=1.6372e-03]"
     ]
    },
    {
     "name": "stderr",
     "output_type": "stream",
     "text": [
      "\r",
      "Least Squares Iteration:  42%|████▏     | 422/1000 [00:01<00:02, 195.58iter/s, Error=1.6352e-03]"
     ]
    },
    {
     "name": "stderr",
     "output_type": "stream",
     "text": [
      "\r",
      "Least Squares Iteration:  42%|████▏     | 423/1000 [00:01<00:02, 195.58iter/s, Error=1.6332e-03]"
     ]
    },
    {
     "name": "stderr",
     "output_type": "stream",
     "text": [
      "\r",
      "Least Squares Iteration:  42%|████▏     | 424/1000 [00:01<00:02, 195.58iter/s, Error=1.6313e-03]"
     ]
    },
    {
     "name": "stderr",
     "output_type": "stream",
     "text": [
      "\r",
      "Least Squares Iteration:  42%|████▎     | 425/1000 [00:01<00:02, 195.58iter/s, Error=1.6293e-03]"
     ]
    },
    {
     "name": "stderr",
     "output_type": "stream",
     "text": [
      "\r",
      "Least Squares Iteration:  43%|████▎     | 426/1000 [00:01<00:02, 195.58iter/s, Error=1.6273e-03]"
     ]
    },
    {
     "name": "stderr",
     "output_type": "stream",
     "text": [
      "\r",
      "Least Squares Iteration:  43%|████▎     | 427/1000 [00:01<00:02, 195.58iter/s, Error=1.6254e-03]"
     ]
    },
    {
     "name": "stderr",
     "output_type": "stream",
     "text": [
      "\r",
      "Least Squares Iteration:  43%|████▎     | 428/1000 [00:01<00:02, 195.58iter/s, Error=1.6234e-03]"
     ]
    },
    {
     "name": "stderr",
     "output_type": "stream",
     "text": [
      "\r",
      "Least Squares Iteration:  43%|████▎     | 429/1000 [00:01<00:02, 195.58iter/s, Error=1.6215e-03]"
     ]
    },
    {
     "name": "stderr",
     "output_type": "stream",
     "text": [
      "\r",
      "Least Squares Iteration:  43%|████▎     | 430/1000 [00:01<00:02, 195.58iter/s, Error=1.6196e-03]"
     ]
    },
    {
     "name": "stderr",
     "output_type": "stream",
     "text": [
      "\r",
      "Least Squares Iteration:  43%|████▎     | 431/1000 [00:01<00:02, 195.58iter/s, Error=1.6177e-03]"
     ]
    },
    {
     "name": "stderr",
     "output_type": "stream",
     "text": [
      "\r",
      "Least Squares Iteration:  43%|████▎     | 432/1000 [00:01<00:02, 195.58iter/s, Error=1.6158e-03]"
     ]
    },
    {
     "name": "stderr",
     "output_type": "stream",
     "text": [
      "\r",
      "Least Squares Iteration:  43%|████▎     | 433/1000 [00:01<00:02, 195.58iter/s, Error=1.6139e-03]"
     ]
    },
    {
     "name": "stderr",
     "output_type": "stream",
     "text": [
      "\r",
      "Least Squares Iteration:  43%|████▎     | 434/1000 [00:01<00:02, 195.58iter/s, Error=1.6120e-03]"
     ]
    },
    {
     "name": "stderr",
     "output_type": "stream",
     "text": [
      "\r",
      "Least Squares Iteration:  44%|████▎     | 435/1000 [00:01<00:02, 195.58iter/s, Error=1.6101e-03]"
     ]
    },
    {
     "name": "stderr",
     "output_type": "stream",
     "text": [
      "\r",
      "Least Squares Iteration:  44%|████▎     | 436/1000 [00:01<00:02, 195.58iter/s, Error=1.6082e-03]"
     ]
    },
    {
     "name": "stderr",
     "output_type": "stream",
     "text": [
      "\r",
      "Least Squares Iteration:  44%|████▎     | 437/1000 [00:01<00:02, 195.58iter/s, Error=1.6064e-03]"
     ]
    },
    {
     "name": "stderr",
     "output_type": "stream",
     "text": [
      "\r",
      "Least Squares Iteration:  44%|████▍     | 438/1000 [00:01<00:02, 195.58iter/s, Error=1.6045e-03]"
     ]
    },
    {
     "name": "stderr",
     "output_type": "stream",
     "text": [
      "\r",
      "Least Squares Iteration:  44%|████▍     | 439/1000 [00:01<00:02, 195.58iter/s, Error=1.6026e-03]"
     ]
    },
    {
     "name": "stderr",
     "output_type": "stream",
     "text": [
      "\r",
      "Least Squares Iteration:  44%|████▍     | 440/1000 [00:01<00:02, 195.58iter/s, Error=1.6008e-03]"
     ]
    },
    {
     "name": "stderr",
     "output_type": "stream",
     "text": [
      "\r",
      "Least Squares Iteration:  44%|████▍     | 441/1000 [00:01<00:02, 195.58iter/s, Error=1.5990e-03]"
     ]
    },
    {
     "name": "stderr",
     "output_type": "stream",
     "text": [
      "\r",
      "Least Squares Iteration:  44%|████▍     | 442/1000 [00:01<00:02, 190.77iter/s, Error=1.5990e-03]"
     ]
    },
    {
     "name": "stderr",
     "output_type": "stream",
     "text": [
      "\r",
      "Least Squares Iteration:  44%|████▍     | 442/1000 [00:01<00:02, 190.77iter/s, Error=1.5971e-03]"
     ]
    },
    {
     "name": "stderr",
     "output_type": "stream",
     "text": [
      "\r",
      "Least Squares Iteration:  44%|████▍     | 443/1000 [00:01<00:02, 190.77iter/s, Error=1.5953e-03]"
     ]
    },
    {
     "name": "stderr",
     "output_type": "stream",
     "text": [
      "\r",
      "Least Squares Iteration:  44%|████▍     | 444/1000 [00:01<00:02, 190.77iter/s, Error=1.5935e-03]"
     ]
    },
    {
     "name": "stderr",
     "output_type": "stream",
     "text": [
      "\r",
      "Least Squares Iteration:  44%|████▍     | 445/1000 [00:01<00:02, 190.77iter/s, Error=1.5917e-03]"
     ]
    },
    {
     "name": "stderr",
     "output_type": "stream",
     "text": [
      "\r",
      "Least Squares Iteration:  45%|████▍     | 446/1000 [00:01<00:02, 190.77iter/s, Error=1.5899e-03]"
     ]
    },
    {
     "name": "stderr",
     "output_type": "stream",
     "text": [
      "\r",
      "Least Squares Iteration:  45%|████▍     | 447/1000 [00:01<00:02, 190.77iter/s, Error=1.5882e-03]"
     ]
    },
    {
     "name": "stderr",
     "output_type": "stream",
     "text": [
      "\r",
      "Least Squares Iteration:  45%|████▍     | 448/1000 [00:01<00:02, 190.77iter/s, Error=1.5864e-03]"
     ]
    },
    {
     "name": "stderr",
     "output_type": "stream",
     "text": [
      "\r",
      "Least Squares Iteration:  45%|████▍     | 449/1000 [00:01<00:02, 190.77iter/s, Error=1.5846e-03]"
     ]
    },
    {
     "name": "stderr",
     "output_type": "stream",
     "text": [
      "\r",
      "Least Squares Iteration:  45%|████▌     | 450/1000 [00:01<00:02, 190.77iter/s, Error=1.5828e-03]"
     ]
    },
    {
     "name": "stderr",
     "output_type": "stream",
     "text": [
      "\r",
      "Least Squares Iteration:  45%|████▌     | 451/1000 [00:01<00:02, 190.77iter/s, Error=1.5811e-03]"
     ]
    },
    {
     "name": "stderr",
     "output_type": "stream",
     "text": [
      "\r",
      "Least Squares Iteration:  45%|████▌     | 452/1000 [00:01<00:02, 190.77iter/s, Error=1.5793e-03]"
     ]
    },
    {
     "name": "stderr",
     "output_type": "stream",
     "text": [
      "\r",
      "Least Squares Iteration:  45%|████▌     | 453/1000 [00:01<00:02, 190.77iter/s, Error=1.5776e-03]"
     ]
    },
    {
     "name": "stderr",
     "output_type": "stream",
     "text": [
      "\r",
      "Least Squares Iteration:  45%|████▌     | 454/1000 [00:01<00:02, 190.77iter/s, Error=1.5759e-03]"
     ]
    },
    {
     "name": "stderr",
     "output_type": "stream",
     "text": [
      "\r",
      "Least Squares Iteration:  46%|████▌     | 455/1000 [00:01<00:02, 190.77iter/s, Error=1.5741e-03]"
     ]
    },
    {
     "name": "stderr",
     "output_type": "stream",
     "text": [
      "\r",
      "Least Squares Iteration:  46%|████▌     | 456/1000 [00:01<00:02, 190.77iter/s, Error=1.5724e-03]"
     ]
    },
    {
     "name": "stderr",
     "output_type": "stream",
     "text": [
      "\r",
      "Least Squares Iteration:  46%|████▌     | 457/1000 [00:01<00:02, 190.77iter/s, Error=1.5707e-03]"
     ]
    },
    {
     "name": "stderr",
     "output_type": "stream",
     "text": [
      "\r",
      "Least Squares Iteration:  46%|████▌     | 458/1000 [00:01<00:02, 190.77iter/s, Error=1.5690e-03]"
     ]
    },
    {
     "name": "stderr",
     "output_type": "stream",
     "text": [
      "\r",
      "Least Squares Iteration:  46%|████▌     | 459/1000 [00:01<00:02, 190.77iter/s, Error=1.5673e-03]"
     ]
    },
    {
     "name": "stderr",
     "output_type": "stream",
     "text": [
      "\r",
      "Least Squares Iteration:  46%|████▌     | 460/1000 [00:01<00:02, 190.77iter/s, Error=1.5656e-03]"
     ]
    },
    {
     "name": "stderr",
     "output_type": "stream",
     "text": [
      "\r",
      "Least Squares Iteration:  46%|████▌     | 461/1000 [00:01<00:02, 190.77iter/s, Error=1.5639e-03]"
     ]
    },
    {
     "name": "stderr",
     "output_type": "stream",
     "text": [
      "\r",
      "Least Squares Iteration:  46%|████▌     | 462/1000 [00:01<00:02, 186.80iter/s, Error=1.5639e-03]"
     ]
    },
    {
     "name": "stderr",
     "output_type": "stream",
     "text": [
      "\r",
      "Least Squares Iteration:  46%|████▌     | 462/1000 [00:01<00:02, 186.80iter/s, Error=1.5623e-03]"
     ]
    },
    {
     "name": "stderr",
     "output_type": "stream",
     "text": [
      "\r",
      "Least Squares Iteration:  46%|████▋     | 463/1000 [00:01<00:02, 186.80iter/s, Error=1.5606e-03]"
     ]
    },
    {
     "name": "stderr",
     "output_type": "stream",
     "text": [
      "\r",
      "Least Squares Iteration:  46%|████▋     | 464/1000 [00:01<00:02, 186.80iter/s, Error=1.5589e-03]"
     ]
    },
    {
     "name": "stderr",
     "output_type": "stream",
     "text": [
      "\r",
      "Least Squares Iteration:  46%|████▋     | 465/1000 [00:01<00:02, 186.80iter/s, Error=1.5573e-03]"
     ]
    },
    {
     "name": "stderr",
     "output_type": "stream",
     "text": [
      "\r",
      "Least Squares Iteration:  47%|████▋     | 466/1000 [00:01<00:02, 186.80iter/s, Error=1.5556e-03]"
     ]
    },
    {
     "name": "stderr",
     "output_type": "stream",
     "text": [
      "\r",
      "Least Squares Iteration:  47%|████▋     | 467/1000 [00:01<00:02, 186.80iter/s, Error=1.5540e-03]"
     ]
    },
    {
     "name": "stderr",
     "output_type": "stream",
     "text": [
      "\r",
      "Least Squares Iteration:  47%|████▋     | 468/1000 [00:01<00:02, 186.80iter/s, Error=1.5523e-03]"
     ]
    },
    {
     "name": "stderr",
     "output_type": "stream",
     "text": [
      "\r",
      "Least Squares Iteration:  47%|████▋     | 469/1000 [00:01<00:02, 186.80iter/s, Error=1.5507e-03]"
     ]
    },
    {
     "name": "stderr",
     "output_type": "stream",
     "text": [
      "\r",
      "Least Squares Iteration:  47%|████▋     | 470/1000 [00:01<00:02, 186.80iter/s, Error=1.5491e-03]"
     ]
    },
    {
     "name": "stderr",
     "output_type": "stream",
     "text": [
      "\r",
      "Least Squares Iteration:  47%|████▋     | 471/1000 [00:01<00:02, 186.80iter/s, Error=1.5474e-03]"
     ]
    },
    {
     "name": "stderr",
     "output_type": "stream",
     "text": [
      "\r",
      "Least Squares Iteration:  47%|████▋     | 472/1000 [00:01<00:02, 186.80iter/s, Error=1.5458e-03]"
     ]
    },
    {
     "name": "stderr",
     "output_type": "stream",
     "text": [
      "\r",
      "Least Squares Iteration:  47%|████▋     | 473/1000 [00:01<00:02, 186.80iter/s, Error=1.5442e-03]"
     ]
    },
    {
     "name": "stderr",
     "output_type": "stream",
     "text": [
      "\r",
      "Least Squares Iteration:  47%|████▋     | 474/1000 [00:01<00:02, 186.80iter/s, Error=1.5426e-03]"
     ]
    },
    {
     "name": "stderr",
     "output_type": "stream",
     "text": [
      "\r",
      "Least Squares Iteration:  48%|████▊     | 475/1000 [00:01<00:02, 186.80iter/s, Error=1.5410e-03]"
     ]
    },
    {
     "name": "stderr",
     "output_type": "stream",
     "text": [
      "\r",
      "Least Squares Iteration:  48%|████▊     | 476/1000 [00:01<00:02, 186.80iter/s, Error=1.5394e-03]"
     ]
    },
    {
     "name": "stderr",
     "output_type": "stream",
     "text": [
      "\r",
      "Least Squares Iteration:  48%|████▊     | 477/1000 [00:01<00:02, 186.80iter/s, Error=1.5378e-03]"
     ]
    },
    {
     "name": "stderr",
     "output_type": "stream",
     "text": [
      "\r",
      "Least Squares Iteration:  48%|████▊     | 478/1000 [00:01<00:02, 186.80iter/s, Error=1.5363e-03]"
     ]
    },
    {
     "name": "stderr",
     "output_type": "stream",
     "text": [
      "\r",
      "Least Squares Iteration:  48%|████▊     | 479/1000 [00:01<00:02, 186.80iter/s, Error=1.5347e-03]"
     ]
    },
    {
     "name": "stderr",
     "output_type": "stream",
     "text": [
      "\r",
      "Least Squares Iteration:  48%|████▊     | 480/1000 [00:01<00:02, 186.80iter/s, Error=1.5331e-03]"
     ]
    },
    {
     "name": "stderr",
     "output_type": "stream",
     "text": [
      "\r",
      "Least Squares Iteration:  48%|████▊     | 481/1000 [00:01<00:02, 173.50iter/s, Error=1.5331e-03]"
     ]
    },
    {
     "name": "stderr",
     "output_type": "stream",
     "text": [
      "\r",
      "Least Squares Iteration:  48%|████▊     | 481/1000 [00:01<00:02, 173.50iter/s, Error=1.5316e-03]"
     ]
    },
    {
     "name": "stderr",
     "output_type": "stream",
     "text": [
      "\r",
      "Least Squares Iteration:  48%|████▊     | 482/1000 [00:02<00:02, 173.50iter/s, Error=1.5300e-03]"
     ]
    },
    {
     "name": "stderr",
     "output_type": "stream",
     "text": [
      "\r",
      "Least Squares Iteration:  48%|████▊     | 483/1000 [00:02<00:02, 173.50iter/s, Error=1.5285e-03]"
     ]
    },
    {
     "name": "stderr",
     "output_type": "stream",
     "text": [
      "\r",
      "Least Squares Iteration:  48%|████▊     | 484/1000 [00:02<00:02, 173.50iter/s, Error=1.5269e-03]"
     ]
    },
    {
     "name": "stderr",
     "output_type": "stream",
     "text": [
      "\r",
      "Least Squares Iteration:  48%|████▊     | 485/1000 [00:02<00:02, 173.50iter/s, Error=1.5254e-03]"
     ]
    },
    {
     "name": "stderr",
     "output_type": "stream",
     "text": [
      "\r",
      "Least Squares Iteration:  49%|████▊     | 486/1000 [00:02<00:02, 173.50iter/s, Error=1.5238e-03]"
     ]
    },
    {
     "name": "stderr",
     "output_type": "stream",
     "text": [
      "\r",
      "Least Squares Iteration:  49%|████▊     | 487/1000 [00:02<00:02, 173.50iter/s, Error=1.5223e-03]"
     ]
    },
    {
     "name": "stderr",
     "output_type": "stream",
     "text": [
      "\r",
      "Least Squares Iteration:  49%|████▉     | 488/1000 [00:02<00:02, 173.50iter/s, Error=1.5208e-03]"
     ]
    },
    {
     "name": "stderr",
     "output_type": "stream",
     "text": [
      "\r",
      "Least Squares Iteration:  49%|████▉     | 489/1000 [00:02<00:02, 173.50iter/s, Error=1.5193e-03]"
     ]
    },
    {
     "name": "stderr",
     "output_type": "stream",
     "text": [
      "\r",
      "Least Squares Iteration:  49%|████▉     | 490/1000 [00:02<00:02, 173.50iter/s, Error=1.5178e-03]"
     ]
    },
    {
     "name": "stderr",
     "output_type": "stream",
     "text": [
      "\r",
      "Least Squares Iteration:  49%|████▉     | 491/1000 [00:02<00:02, 173.50iter/s, Error=1.5162e-03]"
     ]
    },
    {
     "name": "stderr",
     "output_type": "stream",
     "text": [
      "\r",
      "Least Squares Iteration:  49%|████▉     | 492/1000 [00:02<00:02, 173.50iter/s, Error=1.5148e-03]"
     ]
    },
    {
     "name": "stderr",
     "output_type": "stream",
     "text": [
      "\r",
      "Least Squares Iteration:  49%|████▉     | 493/1000 [00:02<00:02, 173.50iter/s, Error=1.5133e-03]"
     ]
    },
    {
     "name": "stderr",
     "output_type": "stream",
     "text": [
      "\r",
      "Least Squares Iteration:  49%|████▉     | 494/1000 [00:02<00:02, 173.50iter/s, Error=1.5118e-03]"
     ]
    },
    {
     "name": "stderr",
     "output_type": "stream",
     "text": [
      "\r",
      "Least Squares Iteration:  50%|████▉     | 495/1000 [00:02<00:02, 173.50iter/s, Error=1.5103e-03]"
     ]
    },
    {
     "name": "stderr",
     "output_type": "stream",
     "text": [
      "\r",
      "Least Squares Iteration:  50%|████▉     | 496/1000 [00:02<00:02, 173.50iter/s, Error=1.5088e-03]"
     ]
    },
    {
     "name": "stderr",
     "output_type": "stream",
     "text": [
      "\r",
      "Least Squares Iteration:  50%|████▉     | 497/1000 [00:02<00:02, 173.50iter/s, Error=1.5073e-03]"
     ]
    },
    {
     "name": "stderr",
     "output_type": "stream",
     "text": [
      "\r",
      "Least Squares Iteration:  50%|████▉     | 498/1000 [00:02<00:02, 173.50iter/s, Error=1.5058e-03]"
     ]
    },
    {
     "name": "stderr",
     "output_type": "stream",
     "text": [
      "\r",
      "Least Squares Iteration:  50%|████▉     | 499/1000 [00:02<00:03, 140.89iter/s, Error=1.5058e-03]"
     ]
    },
    {
     "name": "stderr",
     "output_type": "stream",
     "text": [
      "\r",
      "Least Squares Iteration:  50%|████▉     | 499/1000 [00:02<00:03, 140.89iter/s, Error=1.5044e-03]"
     ]
    },
    {
     "name": "stderr",
     "output_type": "stream",
     "text": [
      "\r",
      "Least Squares Iteration:  50%|█████     | 500/1000 [00:02<00:03, 140.89iter/s, Error=1.5029e-03]"
     ]
    },
    {
     "name": "stderr",
     "output_type": "stream",
     "text": [
      "\r",
      "Least Squares Iteration:  50%|█████     | 501/1000 [00:02<00:03, 140.89iter/s, Error=1.5015e-03]"
     ]
    },
    {
     "name": "stderr",
     "output_type": "stream",
     "text": [
      "\r",
      "Least Squares Iteration:  50%|█████     | 502/1000 [00:02<00:03, 140.89iter/s, Error=1.5000e-03]"
     ]
    },
    {
     "name": "stderr",
     "output_type": "stream",
     "text": [
      "\r",
      "Least Squares Iteration:  50%|█████     | 503/1000 [00:02<00:03, 140.89iter/s, Error=1.4986e-03]"
     ]
    },
    {
     "name": "stderr",
     "output_type": "stream",
     "text": [
      "\r",
      "Least Squares Iteration:  50%|█████     | 504/1000 [00:02<00:03, 140.89iter/s, Error=1.4971e-03]"
     ]
    },
    {
     "name": "stderr",
     "output_type": "stream",
     "text": [
      "\r",
      "Least Squares Iteration:  50%|█████     | 505/1000 [00:02<00:03, 140.89iter/s, Error=1.4957e-03]"
     ]
    },
    {
     "name": "stderr",
     "output_type": "stream",
     "text": [
      "\r",
      "Least Squares Iteration:  51%|█████     | 506/1000 [00:02<00:03, 140.89iter/s, Error=1.4943e-03]"
     ]
    },
    {
     "name": "stderr",
     "output_type": "stream",
     "text": [
      "\r",
      "Least Squares Iteration:  51%|█████     | 507/1000 [00:02<00:03, 140.89iter/s, Error=1.4928e-03]"
     ]
    },
    {
     "name": "stderr",
     "output_type": "stream",
     "text": [
      "\r",
      "Least Squares Iteration:  51%|█████     | 508/1000 [00:02<00:03, 140.89iter/s, Error=1.4914e-03]"
     ]
    },
    {
     "name": "stderr",
     "output_type": "stream",
     "text": [
      "\r",
      "Least Squares Iteration:  51%|█████     | 509/1000 [00:02<00:03, 140.89iter/s, Error=1.4900e-03]"
     ]
    },
    {
     "name": "stderr",
     "output_type": "stream",
     "text": [
      "\r",
      "Least Squares Iteration:  51%|█████     | 510/1000 [00:02<00:03, 140.89iter/s, Error=1.4886e-03]"
     ]
    },
    {
     "name": "stderr",
     "output_type": "stream",
     "text": [
      "\r",
      "Least Squares Iteration:  51%|█████     | 511/1000 [00:02<00:03, 140.89iter/s, Error=1.4872e-03]"
     ]
    },
    {
     "name": "stderr",
     "output_type": "stream",
     "text": [
      "\r",
      "Least Squares Iteration:  51%|█████     | 512/1000 [00:02<00:03, 140.89iter/s, Error=1.4857e-03]"
     ]
    },
    {
     "name": "stderr",
     "output_type": "stream",
     "text": [
      "\r",
      "Least Squares Iteration:  51%|█████▏    | 513/1000 [00:02<00:03, 140.89iter/s, Error=1.4843e-03]"
     ]
    },
    {
     "name": "stderr",
     "output_type": "stream",
     "text": [
      "\r",
      "Least Squares Iteration:  51%|█████▏    | 514/1000 [00:02<00:03, 139.40iter/s, Error=1.4843e-03]"
     ]
    },
    {
     "name": "stderr",
     "output_type": "stream",
     "text": [
      "\r",
      "Least Squares Iteration:  51%|█████▏    | 514/1000 [00:02<00:03, 139.40iter/s, Error=1.4829e-03]"
     ]
    },
    {
     "name": "stderr",
     "output_type": "stream",
     "text": [
      "\r",
      "Least Squares Iteration:  52%|█████▏    | 515/1000 [00:02<00:03, 139.40iter/s, Error=1.4815e-03]"
     ]
    },
    {
     "name": "stderr",
     "output_type": "stream",
     "text": [
      "\r",
      "Least Squares Iteration:  52%|█████▏    | 516/1000 [00:02<00:03, 139.40iter/s, Error=1.4802e-03]"
     ]
    },
    {
     "name": "stderr",
     "output_type": "stream",
     "text": [
      "\r",
      "Least Squares Iteration:  52%|█████▏    | 517/1000 [00:02<00:03, 139.40iter/s, Error=1.4788e-03]"
     ]
    },
    {
     "name": "stderr",
     "output_type": "stream",
     "text": [
      "\r",
      "Least Squares Iteration:  52%|█████▏    | 518/1000 [00:02<00:03, 139.40iter/s, Error=1.4774e-03]"
     ]
    },
    {
     "name": "stderr",
     "output_type": "stream",
     "text": [
      "\r",
      "Least Squares Iteration:  52%|█████▏    | 519/1000 [00:02<00:03, 139.40iter/s, Error=1.4760e-03]"
     ]
    },
    {
     "name": "stderr",
     "output_type": "stream",
     "text": [
      "\r",
      "Least Squares Iteration:  52%|█████▏    | 520/1000 [00:02<00:03, 139.40iter/s, Error=1.4747e-03]"
     ]
    },
    {
     "name": "stderr",
     "output_type": "stream",
     "text": [
      "\r",
      "Least Squares Iteration:  52%|█████▏    | 521/1000 [00:02<00:03, 139.40iter/s, Error=1.4733e-03]"
     ]
    },
    {
     "name": "stderr",
     "output_type": "stream",
     "text": [
      "\r",
      "Least Squares Iteration:  52%|█████▏    | 522/1000 [00:02<00:03, 139.40iter/s, Error=1.4719e-03]"
     ]
    },
    {
     "name": "stderr",
     "output_type": "stream",
     "text": [
      "\r",
      "Least Squares Iteration:  52%|█████▏    | 523/1000 [00:02<00:03, 139.40iter/s, Error=1.4706e-03]"
     ]
    },
    {
     "name": "stderr",
     "output_type": "stream",
     "text": [
      "\r",
      "Least Squares Iteration:  52%|█████▏    | 524/1000 [00:02<00:03, 139.40iter/s, Error=1.4692e-03]"
     ]
    },
    {
     "name": "stderr",
     "output_type": "stream",
     "text": [
      "\r",
      "Least Squares Iteration:  52%|█████▎    | 525/1000 [00:02<00:03, 139.40iter/s, Error=1.4679e-03]"
     ]
    },
    {
     "name": "stderr",
     "output_type": "stream",
     "text": [
      "\r",
      "Least Squares Iteration:  53%|█████▎    | 526/1000 [00:02<00:03, 139.40iter/s, Error=1.4665e-03]"
     ]
    },
    {
     "name": "stderr",
     "output_type": "stream",
     "text": [
      "\r",
      "Least Squares Iteration:  53%|█████▎    | 527/1000 [00:02<00:03, 139.40iter/s, Error=1.4652e-03]"
     ]
    },
    {
     "name": "stderr",
     "output_type": "stream",
     "text": [
      "\r",
      "Least Squares Iteration:  53%|█████▎    | 528/1000 [00:02<00:03, 139.40iter/s, Error=1.4638e-03]"
     ]
    },
    {
     "name": "stderr",
     "output_type": "stream",
     "text": [
      "\r",
      "Least Squares Iteration:  53%|█████▎    | 529/1000 [00:02<00:03, 135.16iter/s, Error=1.4638e-03]"
     ]
    },
    {
     "name": "stderr",
     "output_type": "stream",
     "text": [
      "\r",
      "Least Squares Iteration:  53%|█████▎    | 529/1000 [00:02<00:03, 135.16iter/s, Error=1.4625e-03]"
     ]
    },
    {
     "name": "stderr",
     "output_type": "stream",
     "text": [
      "\r",
      "Least Squares Iteration:  53%|█████▎    | 530/1000 [00:02<00:03, 135.16iter/s, Error=1.4612e-03]"
     ]
    },
    {
     "name": "stderr",
     "output_type": "stream",
     "text": [
      "\r",
      "Least Squares Iteration:  53%|█████▎    | 531/1000 [00:02<00:03, 135.16iter/s, Error=1.4598e-03]"
     ]
    },
    {
     "name": "stderr",
     "output_type": "stream",
     "text": [
      "\r",
      "Least Squares Iteration:  53%|█████▎    | 532/1000 [00:02<00:03, 135.16iter/s, Error=1.4585e-03]"
     ]
    },
    {
     "name": "stderr",
     "output_type": "stream",
     "text": [
      "\r",
      "Least Squares Iteration:  53%|█████▎    | 533/1000 [00:02<00:03, 135.16iter/s, Error=1.4572e-03]"
     ]
    },
    {
     "name": "stderr",
     "output_type": "stream",
     "text": [
      "\r",
      "Least Squares Iteration:  53%|█████▎    | 534/1000 [00:02<00:03, 135.16iter/s, Error=1.4559e-03]"
     ]
    },
    {
     "name": "stderr",
     "output_type": "stream",
     "text": [
      "\r",
      "Least Squares Iteration:  54%|█████▎    | 535/1000 [00:02<00:03, 135.16iter/s, Error=1.4546e-03]"
     ]
    },
    {
     "name": "stderr",
     "output_type": "stream",
     "text": [
      "\r",
      "Least Squares Iteration:  54%|█████▎    | 536/1000 [00:02<00:03, 135.16iter/s, Error=1.4533e-03]"
     ]
    },
    {
     "name": "stderr",
     "output_type": "stream",
     "text": [
      "\r",
      "Least Squares Iteration:  54%|█████▎    | 537/1000 [00:02<00:03, 135.16iter/s, Error=1.4519e-03]"
     ]
    },
    {
     "name": "stderr",
     "output_type": "stream",
     "text": [
      "\r",
      "Least Squares Iteration:  54%|█████▍    | 538/1000 [00:02<00:03, 135.16iter/s, Error=1.4506e-03]"
     ]
    },
    {
     "name": "stderr",
     "output_type": "stream",
     "text": [
      "\r",
      "Least Squares Iteration:  54%|█████▍    | 539/1000 [00:02<00:03, 135.16iter/s, Error=1.4493e-03]"
     ]
    },
    {
     "name": "stderr",
     "output_type": "stream",
     "text": [
      "\r",
      "Least Squares Iteration:  54%|█████▍    | 540/1000 [00:02<00:03, 135.16iter/s, Error=1.4480e-03]"
     ]
    },
    {
     "name": "stderr",
     "output_type": "stream",
     "text": [
      "\r",
      "Least Squares Iteration:  54%|█████▍    | 541/1000 [00:02<00:03, 135.16iter/s, Error=1.4468e-03]"
     ]
    },
    {
     "name": "stderr",
     "output_type": "stream",
     "text": [
      "\r",
      "Least Squares Iteration:  54%|█████▍    | 542/1000 [00:02<00:03, 135.16iter/s, Error=1.4455e-03]"
     ]
    },
    {
     "name": "stderr",
     "output_type": "stream",
     "text": [
      "\r",
      "Least Squares Iteration:  54%|█████▍    | 543/1000 [00:02<00:03, 135.18iter/s, Error=1.4455e-03]"
     ]
    },
    {
     "name": "stderr",
     "output_type": "stream",
     "text": [
      "\r",
      "Least Squares Iteration:  54%|█████▍    | 543/1000 [00:02<00:03, 135.18iter/s, Error=1.4442e-03]"
     ]
    },
    {
     "name": "stderr",
     "output_type": "stream",
     "text": [
      "\r",
      "Least Squares Iteration:  54%|█████▍    | 544/1000 [00:02<00:03, 135.18iter/s, Error=1.4429e-03]"
     ]
    },
    {
     "name": "stderr",
     "output_type": "stream",
     "text": [
      "\r",
      "Least Squares Iteration:  55%|█████▍    | 545/1000 [00:02<00:03, 135.18iter/s, Error=1.4416e-03]"
     ]
    },
    {
     "name": "stderr",
     "output_type": "stream",
     "text": [
      "\r",
      "Least Squares Iteration:  55%|█████▍    | 546/1000 [00:02<00:03, 135.18iter/s, Error=1.4404e-03]"
     ]
    },
    {
     "name": "stderr",
     "output_type": "stream",
     "text": [
      "\r",
      "Least Squares Iteration:  55%|█████▍    | 547/1000 [00:02<00:03, 135.18iter/s, Error=1.4391e-03]"
     ]
    },
    {
     "name": "stderr",
     "output_type": "stream",
     "text": [
      "\r",
      "Least Squares Iteration:  55%|█████▍    | 548/1000 [00:02<00:03, 135.18iter/s, Error=1.4378e-03]"
     ]
    },
    {
     "name": "stderr",
     "output_type": "stream",
     "text": [
      "\r",
      "Least Squares Iteration:  55%|█████▍    | 549/1000 [00:02<00:03, 135.18iter/s, Error=1.4366e-03]"
     ]
    },
    {
     "name": "stderr",
     "output_type": "stream",
     "text": [
      "\r",
      "Least Squares Iteration:  55%|█████▌    | 550/1000 [00:02<00:03, 135.18iter/s, Error=1.4353e-03]"
     ]
    },
    {
     "name": "stderr",
     "output_type": "stream",
     "text": [
      "\r",
      "Least Squares Iteration:  55%|█████▌    | 551/1000 [00:02<00:03, 135.18iter/s, Error=1.4340e-03]"
     ]
    },
    {
     "name": "stderr",
     "output_type": "stream",
     "text": [
      "\r",
      "Least Squares Iteration:  55%|█████▌    | 552/1000 [00:02<00:03, 135.18iter/s, Error=1.4328e-03]"
     ]
    },
    {
     "name": "stderr",
     "output_type": "stream",
     "text": [
      "\r",
      "Least Squares Iteration:  55%|█████▌    | 553/1000 [00:02<00:03, 135.18iter/s, Error=1.4315e-03]"
     ]
    },
    {
     "name": "stderr",
     "output_type": "stream",
     "text": [
      "\r",
      "Least Squares Iteration:  55%|█████▌    | 554/1000 [00:02<00:03, 135.18iter/s, Error=1.4303e-03]"
     ]
    },
    {
     "name": "stderr",
     "output_type": "stream",
     "text": [
      "\r",
      "Least Squares Iteration:  56%|█████▌    | 555/1000 [00:02<00:03, 135.18iter/s, Error=1.4291e-03]"
     ]
    },
    {
     "name": "stderr",
     "output_type": "stream",
     "text": [
      "\r",
      "Least Squares Iteration:  56%|█████▌    | 556/1000 [00:02<00:03, 135.18iter/s, Error=1.4278e-03]"
     ]
    },
    {
     "name": "stderr",
     "output_type": "stream",
     "text": [
      "\r",
      "Least Squares Iteration:  56%|█████▌    | 557/1000 [00:02<00:03, 133.50iter/s, Error=1.4278e-03]"
     ]
    },
    {
     "name": "stderr",
     "output_type": "stream",
     "text": [
      "\r",
      "Least Squares Iteration:  56%|█████▌    | 557/1000 [00:02<00:03, 133.50iter/s, Error=1.4266e-03]"
     ]
    },
    {
     "name": "stderr",
     "output_type": "stream",
     "text": [
      "\r",
      "Least Squares Iteration:  56%|█████▌    | 558/1000 [00:02<00:03, 133.50iter/s, Error=1.4254e-03]"
     ]
    },
    {
     "name": "stderr",
     "output_type": "stream",
     "text": [
      "\r",
      "Least Squares Iteration:  56%|█████▌    | 559/1000 [00:02<00:03, 133.50iter/s, Error=1.4241e-03]"
     ]
    },
    {
     "name": "stderr",
     "output_type": "stream",
     "text": [
      "\r",
      "Least Squares Iteration:  56%|█████▌    | 560/1000 [00:02<00:03, 133.50iter/s, Error=1.4229e-03]"
     ]
    },
    {
     "name": "stderr",
     "output_type": "stream",
     "text": [
      "\r",
      "Least Squares Iteration:  56%|█████▌    | 561/1000 [00:02<00:03, 133.50iter/s, Error=1.4217e-03]"
     ]
    },
    {
     "name": "stderr",
     "output_type": "stream",
     "text": [
      "\r",
      "Least Squares Iteration:  56%|█████▌    | 562/1000 [00:02<00:03, 133.50iter/s, Error=1.4205e-03]"
     ]
    },
    {
     "name": "stderr",
     "output_type": "stream",
     "text": [
      "\r",
      "Least Squares Iteration:  56%|█████▋    | 563/1000 [00:02<00:03, 133.50iter/s, Error=1.4192e-03]"
     ]
    },
    {
     "name": "stderr",
     "output_type": "stream",
     "text": [
      "\r",
      "Least Squares Iteration:  56%|█████▋    | 564/1000 [00:02<00:03, 133.50iter/s, Error=1.4180e-03]"
     ]
    },
    {
     "name": "stderr",
     "output_type": "stream",
     "text": [
      "\r",
      "Least Squares Iteration:  56%|█████▋    | 565/1000 [00:02<00:03, 133.50iter/s, Error=1.4168e-03]"
     ]
    },
    {
     "name": "stderr",
     "output_type": "stream",
     "text": [
      "\r",
      "Least Squares Iteration:  57%|█████▋    | 566/1000 [00:02<00:03, 133.50iter/s, Error=1.4156e-03]"
     ]
    },
    {
     "name": "stderr",
     "output_type": "stream",
     "text": [
      "\r",
      "Least Squares Iteration:  57%|█████▋    | 567/1000 [00:02<00:03, 133.50iter/s, Error=1.4144e-03]"
     ]
    },
    {
     "name": "stderr",
     "output_type": "stream",
     "text": [
      "\r",
      "Least Squares Iteration:  57%|█████▋    | 568/1000 [00:02<00:03, 133.50iter/s, Error=1.4132e-03]"
     ]
    },
    {
     "name": "stderr",
     "output_type": "stream",
     "text": [
      "\r",
      "Least Squares Iteration:  57%|█████▋    | 569/1000 [00:02<00:03, 133.50iter/s, Error=1.4120e-03]"
     ]
    },
    {
     "name": "stderr",
     "output_type": "stream",
     "text": [
      "\r",
      "Least Squares Iteration:  57%|█████▋    | 570/1000 [00:02<00:03, 133.50iter/s, Error=1.4108e-03]"
     ]
    },
    {
     "name": "stderr",
     "output_type": "stream",
     "text": [
      "\r",
      "Least Squares Iteration:  57%|█████▋    | 571/1000 [00:02<00:03, 123.71iter/s, Error=1.4108e-03]"
     ]
    },
    {
     "name": "stderr",
     "output_type": "stream",
     "text": [
      "\r",
      "Least Squares Iteration:  57%|█████▋    | 571/1000 [00:02<00:03, 123.71iter/s, Error=1.4096e-03]"
     ]
    },
    {
     "name": "stderr",
     "output_type": "stream",
     "text": [
      "\r",
      "Least Squares Iteration:  57%|█████▋    | 572/1000 [00:02<00:03, 123.71iter/s, Error=1.4084e-03]"
     ]
    },
    {
     "name": "stderr",
     "output_type": "stream",
     "text": [
      "\r",
      "Least Squares Iteration:  57%|█████▋    | 573/1000 [00:02<00:03, 123.71iter/s, Error=1.4072e-03]"
     ]
    },
    {
     "name": "stderr",
     "output_type": "stream",
     "text": [
      "\r",
      "Least Squares Iteration:  57%|█████▋    | 574/1000 [00:02<00:03, 123.71iter/s, Error=1.4061e-03]"
     ]
    },
    {
     "name": "stderr",
     "output_type": "stream",
     "text": [
      "\r",
      "Least Squares Iteration:  57%|█████▊    | 575/1000 [00:02<00:03, 123.71iter/s, Error=1.4049e-03]"
     ]
    },
    {
     "name": "stderr",
     "output_type": "stream",
     "text": [
      "\r",
      "Least Squares Iteration:  58%|█████▊    | 576/1000 [00:02<00:03, 123.71iter/s, Error=1.4037e-03]"
     ]
    },
    {
     "name": "stderr",
     "output_type": "stream",
     "text": [
      "\r",
      "Least Squares Iteration:  58%|█████▊    | 577/1000 [00:02<00:03, 123.71iter/s, Error=1.4025e-03]"
     ]
    },
    {
     "name": "stderr",
     "output_type": "stream",
     "text": [
      "\r",
      "Least Squares Iteration:  58%|█████▊    | 578/1000 [00:02<00:03, 123.71iter/s, Error=1.4014e-03]"
     ]
    },
    {
     "name": "stderr",
     "output_type": "stream",
     "text": [
      "\r",
      "Least Squares Iteration:  58%|█████▊    | 579/1000 [00:02<00:03, 123.71iter/s, Error=1.4002e-03]"
     ]
    },
    {
     "name": "stderr",
     "output_type": "stream",
     "text": [
      "\r",
      "Least Squares Iteration:  58%|█████▊    | 580/1000 [00:02<00:03, 123.71iter/s, Error=1.3990e-03]"
     ]
    },
    {
     "name": "stderr",
     "output_type": "stream",
     "text": [
      "\r",
      "Least Squares Iteration:  58%|█████▊    | 581/1000 [00:02<00:03, 123.71iter/s, Error=1.3979e-03]"
     ]
    },
    {
     "name": "stderr",
     "output_type": "stream",
     "text": [
      "\r",
      "Least Squares Iteration:  58%|█████▊    | 582/1000 [00:02<00:03, 123.71iter/s, Error=1.3967e-03]"
     ]
    },
    {
     "name": "stderr",
     "output_type": "stream",
     "text": [
      "\r",
      "Least Squares Iteration:  58%|█████▊    | 583/1000 [00:02<00:03, 123.71iter/s, Error=1.3955e-03]"
     ]
    },
    {
     "name": "stderr",
     "output_type": "stream",
     "text": [
      "\r",
      "Least Squares Iteration:  58%|█████▊    | 584/1000 [00:02<00:03, 119.24iter/s, Error=1.3955e-03]"
     ]
    },
    {
     "name": "stderr",
     "output_type": "stream",
     "text": [
      "\r",
      "Least Squares Iteration:  58%|█████▊    | 584/1000 [00:02<00:03, 119.24iter/s, Error=1.3944e-03]"
     ]
    },
    {
     "name": "stderr",
     "output_type": "stream",
     "text": [
      "\r",
      "Least Squares Iteration:  58%|█████▊    | 585/1000 [00:02<00:03, 119.24iter/s, Error=1.3932e-03]"
     ]
    },
    {
     "name": "stderr",
     "output_type": "stream",
     "text": [
      "\r",
      "Least Squares Iteration:  59%|█████▊    | 586/1000 [00:02<00:03, 119.24iter/s, Error=1.3921e-03]"
     ]
    },
    {
     "name": "stderr",
     "output_type": "stream",
     "text": [
      "\r",
      "Least Squares Iteration:  59%|█████▊    | 587/1000 [00:02<00:03, 119.24iter/s, Error=1.3909e-03]"
     ]
    },
    {
     "name": "stderr",
     "output_type": "stream",
     "text": [
      "\r",
      "Least Squares Iteration:  59%|█████▉    | 588/1000 [00:02<00:03, 119.24iter/s, Error=1.3898e-03]"
     ]
    },
    {
     "name": "stderr",
     "output_type": "stream",
     "text": [
      "\r",
      "Least Squares Iteration:  59%|█████▉    | 589/1000 [00:02<00:03, 119.24iter/s, Error=1.3887e-03]"
     ]
    },
    {
     "name": "stderr",
     "output_type": "stream",
     "text": [
      "\r",
      "Least Squares Iteration:  59%|█████▉    | 590/1000 [00:02<00:03, 119.24iter/s, Error=1.3875e-03]"
     ]
    },
    {
     "name": "stderr",
     "output_type": "stream",
     "text": [
      "\r",
      "Least Squares Iteration:  59%|█████▉    | 591/1000 [00:02<00:03, 119.24iter/s, Error=1.3864e-03]"
     ]
    },
    {
     "name": "stderr",
     "output_type": "stream",
     "text": [
      "\r",
      "Least Squares Iteration:  59%|█████▉    | 592/1000 [00:02<00:03, 119.24iter/s, Error=1.3852e-03]"
     ]
    },
    {
     "name": "stderr",
     "output_type": "stream",
     "text": [
      "\r",
      "Least Squares Iteration:  59%|█████▉    | 593/1000 [00:02<00:03, 119.24iter/s, Error=1.3841e-03]"
     ]
    },
    {
     "name": "stderr",
     "output_type": "stream",
     "text": [
      "\r",
      "Least Squares Iteration:  59%|█████▉    | 594/1000 [00:02<00:03, 119.24iter/s, Error=1.3830e-03]"
     ]
    },
    {
     "name": "stderr",
     "output_type": "stream",
     "text": [
      "\r",
      "Least Squares Iteration:  60%|█████▉    | 595/1000 [00:02<00:03, 119.24iter/s, Error=1.3819e-03]"
     ]
    },
    {
     "name": "stderr",
     "output_type": "stream",
     "text": [
      "\r",
      "Least Squares Iteration:  60%|█████▉    | 596/1000 [00:02<00:03, 119.24iter/s, Error=1.3807e-03]"
     ]
    },
    {
     "name": "stderr",
     "output_type": "stream",
     "text": [
      "\r",
      "Least Squares Iteration:  60%|█████▉    | 597/1000 [00:02<00:03, 117.81iter/s, Error=1.3807e-03]"
     ]
    },
    {
     "name": "stderr",
     "output_type": "stream",
     "text": [
      "\r",
      "Least Squares Iteration:  60%|█████▉    | 597/1000 [00:02<00:03, 117.81iter/s, Error=1.3796e-03]"
     ]
    },
    {
     "name": "stderr",
     "output_type": "stream",
     "text": [
      "\r",
      "Least Squares Iteration:  60%|█████▉    | 598/1000 [00:02<00:03, 117.81iter/s, Error=1.3785e-03]"
     ]
    },
    {
     "name": "stderr",
     "output_type": "stream",
     "text": [
      "\r",
      "Least Squares Iteration:  60%|█████▉    | 599/1000 [00:03<00:03, 117.81iter/s, Error=1.3774e-03]"
     ]
    },
    {
     "name": "stderr",
     "output_type": "stream",
     "text": [
      "\r",
      "Least Squares Iteration:  60%|██████    | 600/1000 [00:03<00:03, 117.81iter/s, Error=1.3763e-03]"
     ]
    },
    {
     "name": "stderr",
     "output_type": "stream",
     "text": [
      "\r",
      "Least Squares Iteration:  60%|██████    | 601/1000 [00:03<00:03, 117.81iter/s, Error=1.3752e-03]"
     ]
    },
    {
     "name": "stderr",
     "output_type": "stream",
     "text": [
      "\r",
      "Least Squares Iteration:  60%|██████    | 602/1000 [00:03<00:03, 117.81iter/s, Error=1.3741e-03]"
     ]
    },
    {
     "name": "stderr",
     "output_type": "stream",
     "text": [
      "\r",
      "Least Squares Iteration:  60%|██████    | 603/1000 [00:03<00:03, 117.81iter/s, Error=1.3729e-03]"
     ]
    },
    {
     "name": "stderr",
     "output_type": "stream",
     "text": [
      "\r",
      "Least Squares Iteration:  60%|██████    | 604/1000 [00:03<00:03, 117.81iter/s, Error=1.3718e-03]"
     ]
    },
    {
     "name": "stderr",
     "output_type": "stream",
     "text": [
      "\r",
      "Least Squares Iteration:  60%|██████    | 605/1000 [00:03<00:03, 117.81iter/s, Error=1.3707e-03]"
     ]
    },
    {
     "name": "stderr",
     "output_type": "stream",
     "text": [
      "\r",
      "Least Squares Iteration:  61%|██████    | 606/1000 [00:03<00:03, 117.81iter/s, Error=1.3696e-03]"
     ]
    },
    {
     "name": "stderr",
     "output_type": "stream",
     "text": [
      "\r",
      "Least Squares Iteration:  61%|██████    | 607/1000 [00:03<00:03, 117.81iter/s, Error=1.3686e-03]"
     ]
    },
    {
     "name": "stderr",
     "output_type": "stream",
     "text": [
      "\r",
      "Least Squares Iteration:  61%|██████    | 608/1000 [00:03<00:03, 117.81iter/s, Error=1.3675e-03]"
     ]
    },
    {
     "name": "stderr",
     "output_type": "stream",
     "text": [
      "\r",
      "Least Squares Iteration:  61%|██████    | 609/1000 [00:03<00:03, 114.98iter/s, Error=1.3675e-03]"
     ]
    },
    {
     "name": "stderr",
     "output_type": "stream",
     "text": [
      "\r",
      "Least Squares Iteration:  61%|██████    | 609/1000 [00:03<00:03, 114.98iter/s, Error=1.3664e-03]"
     ]
    },
    {
     "name": "stderr",
     "output_type": "stream",
     "text": [
      "\r",
      "Least Squares Iteration:  61%|██████    | 610/1000 [00:03<00:03, 114.98iter/s, Error=1.3653e-03]"
     ]
    },
    {
     "name": "stderr",
     "output_type": "stream",
     "text": [
      "\r",
      "Least Squares Iteration:  61%|██████    | 611/1000 [00:03<00:03, 114.98iter/s, Error=1.3642e-03]"
     ]
    },
    {
     "name": "stderr",
     "output_type": "stream",
     "text": [
      "\r",
      "Least Squares Iteration:  61%|██████    | 612/1000 [00:03<00:03, 114.98iter/s, Error=1.3631e-03]"
     ]
    },
    {
     "name": "stderr",
     "output_type": "stream",
     "text": [
      "\r",
      "Least Squares Iteration:  61%|██████▏   | 613/1000 [00:03<00:03, 114.98iter/s, Error=1.3620e-03]"
     ]
    },
    {
     "name": "stderr",
     "output_type": "stream",
     "text": [
      "\r",
      "Least Squares Iteration:  61%|██████▏   | 614/1000 [00:03<00:03, 114.98iter/s, Error=1.3610e-03]"
     ]
    },
    {
     "name": "stderr",
     "output_type": "stream",
     "text": [
      "\r",
      "Least Squares Iteration:  62%|██████▏   | 615/1000 [00:03<00:03, 114.98iter/s, Error=1.3599e-03]"
     ]
    },
    {
     "name": "stderr",
     "output_type": "stream",
     "text": [
      "\r",
      "Least Squares Iteration:  62%|██████▏   | 616/1000 [00:03<00:03, 114.98iter/s, Error=1.3588e-03]"
     ]
    },
    {
     "name": "stderr",
     "output_type": "stream",
     "text": [
      "\r",
      "Least Squares Iteration:  62%|██████▏   | 617/1000 [00:03<00:03, 114.98iter/s, Error=1.3577e-03]"
     ]
    },
    {
     "name": "stderr",
     "output_type": "stream",
     "text": [
      "\r",
      "Least Squares Iteration:  62%|██████▏   | 618/1000 [00:03<00:03, 114.98iter/s, Error=1.3567e-03]"
     ]
    },
    {
     "name": "stderr",
     "output_type": "stream",
     "text": [
      "\r",
      "Least Squares Iteration:  62%|██████▏   | 619/1000 [00:03<00:03, 114.98iter/s, Error=1.3556e-03]"
     ]
    },
    {
     "name": "stderr",
     "output_type": "stream",
     "text": [
      "\r",
      "Least Squares Iteration:  62%|██████▏   | 620/1000 [00:03<00:03, 114.98iter/s, Error=1.3545e-03]"
     ]
    },
    {
     "name": "stderr",
     "output_type": "stream",
     "text": [
      "\r",
      "Least Squares Iteration:  62%|██████▏   | 621/1000 [00:03<00:03, 114.98iter/s, Error=1.3535e-03]"
     ]
    },
    {
     "name": "stderr",
     "output_type": "stream",
     "text": [
      "\r",
      "Least Squares Iteration:  62%|██████▏   | 622/1000 [00:03<00:03, 116.77iter/s, Error=1.3535e-03]"
     ]
    },
    {
     "name": "stderr",
     "output_type": "stream",
     "text": [
      "\r",
      "Least Squares Iteration:  62%|██████▏   | 622/1000 [00:03<00:03, 116.77iter/s, Error=1.3524e-03]"
     ]
    },
    {
     "name": "stderr",
     "output_type": "stream",
     "text": [
      "\r",
      "Least Squares Iteration:  62%|██████▏   | 623/1000 [00:03<00:03, 116.77iter/s, Error=1.3514e-03]"
     ]
    },
    {
     "name": "stderr",
     "output_type": "stream",
     "text": [
      "\r",
      "Least Squares Iteration:  62%|██████▏   | 624/1000 [00:03<00:03, 116.77iter/s, Error=1.3503e-03]"
     ]
    },
    {
     "name": "stderr",
     "output_type": "stream",
     "text": [
      "\r",
      "Least Squares Iteration:  62%|██████▎   | 625/1000 [00:03<00:03, 116.77iter/s, Error=1.3492e-03]"
     ]
    },
    {
     "name": "stderr",
     "output_type": "stream",
     "text": [
      "\r",
      "Least Squares Iteration:  63%|██████▎   | 626/1000 [00:03<00:03, 116.77iter/s, Error=1.3482e-03]"
     ]
    },
    {
     "name": "stderr",
     "output_type": "stream",
     "text": [
      "\r",
      "Least Squares Iteration:  63%|██████▎   | 627/1000 [00:03<00:03, 116.77iter/s, Error=1.3471e-03]"
     ]
    },
    {
     "name": "stderr",
     "output_type": "stream",
     "text": [
      "\r",
      "Least Squares Iteration:  63%|██████▎   | 628/1000 [00:03<00:03, 116.77iter/s, Error=1.3461e-03]"
     ]
    },
    {
     "name": "stderr",
     "output_type": "stream",
     "text": [
      "\r",
      "Least Squares Iteration:  63%|██████▎   | 629/1000 [00:03<00:03, 116.77iter/s, Error=1.3450e-03]"
     ]
    },
    {
     "name": "stderr",
     "output_type": "stream",
     "text": [
      "\r",
      "Least Squares Iteration:  63%|██████▎   | 630/1000 [00:03<00:03, 116.77iter/s, Error=1.3440e-03]"
     ]
    },
    {
     "name": "stderr",
     "output_type": "stream",
     "text": [
      "\r",
      "Least Squares Iteration:  63%|██████▎   | 631/1000 [00:03<00:03, 116.77iter/s, Error=1.3430e-03]"
     ]
    },
    {
     "name": "stderr",
     "output_type": "stream",
     "text": [
      "\r",
      "Least Squares Iteration:  63%|██████▎   | 632/1000 [00:03<00:03, 116.77iter/s, Error=1.3419e-03]"
     ]
    },
    {
     "name": "stderr",
     "output_type": "stream",
     "text": [
      "\r",
      "Least Squares Iteration:  63%|██████▎   | 633/1000 [00:03<00:03, 116.77iter/s, Error=1.3409e-03]"
     ]
    },
    {
     "name": "stderr",
     "output_type": "stream",
     "text": [
      "\r",
      "Least Squares Iteration:  63%|██████▎   | 634/1000 [00:03<00:03, 116.77iter/s, Error=1.3399e-03]"
     ]
    },
    {
     "name": "stderr",
     "output_type": "stream",
     "text": [
      "\r",
      "Least Squares Iteration:  64%|██████▎   | 635/1000 [00:03<00:03, 118.85iter/s, Error=1.3399e-03]"
     ]
    },
    {
     "name": "stderr",
     "output_type": "stream",
     "text": [
      "\r",
      "Least Squares Iteration:  64%|██████▎   | 635/1000 [00:03<00:03, 118.85iter/s, Error=1.3388e-03]"
     ]
    },
    {
     "name": "stderr",
     "output_type": "stream",
     "text": [
      "\r",
      "Least Squares Iteration:  64%|██████▎   | 636/1000 [00:03<00:03, 118.85iter/s, Error=1.3378e-03]"
     ]
    },
    {
     "name": "stderr",
     "output_type": "stream",
     "text": [
      "\r",
      "Least Squares Iteration:  64%|██████▎   | 637/1000 [00:03<00:03, 118.85iter/s, Error=1.3368e-03]"
     ]
    },
    {
     "name": "stderr",
     "output_type": "stream",
     "text": [
      "\r",
      "Least Squares Iteration:  64%|██████▍   | 638/1000 [00:03<00:03, 118.85iter/s, Error=1.3357e-03]"
     ]
    },
    {
     "name": "stderr",
     "output_type": "stream",
     "text": [
      "\r",
      "Least Squares Iteration:  64%|██████▍   | 639/1000 [00:03<00:03, 118.85iter/s, Error=1.3347e-03]"
     ]
    },
    {
     "name": "stderr",
     "output_type": "stream",
     "text": [
      "\r",
      "Least Squares Iteration:  64%|██████▍   | 640/1000 [00:03<00:03, 118.85iter/s, Error=1.3337e-03]"
     ]
    },
    {
     "name": "stderr",
     "output_type": "stream",
     "text": [
      "\r",
      "Least Squares Iteration:  64%|██████▍   | 641/1000 [00:03<00:03, 118.85iter/s, Error=1.3327e-03]"
     ]
    },
    {
     "name": "stderr",
     "output_type": "stream",
     "text": [
      "\r",
      "Least Squares Iteration:  64%|██████▍   | 642/1000 [00:03<00:03, 118.85iter/s, Error=1.3317e-03]"
     ]
    },
    {
     "name": "stderr",
     "output_type": "stream",
     "text": [
      "\r",
      "Least Squares Iteration:  64%|██████▍   | 643/1000 [00:03<00:03, 118.85iter/s, Error=1.3306e-03]"
     ]
    },
    {
     "name": "stderr",
     "output_type": "stream",
     "text": [
      "\r",
      "Least Squares Iteration:  64%|██████▍   | 644/1000 [00:03<00:02, 118.85iter/s, Error=1.3296e-03]"
     ]
    },
    {
     "name": "stderr",
     "output_type": "stream",
     "text": [
      "\r",
      "Least Squares Iteration:  64%|██████▍   | 645/1000 [00:03<00:02, 118.85iter/s, Error=1.3286e-03]"
     ]
    },
    {
     "name": "stderr",
     "output_type": "stream",
     "text": [
      "\r",
      "Least Squares Iteration:  65%|██████▍   | 646/1000 [00:03<00:02, 118.85iter/s, Error=1.3276e-03]"
     ]
    },
    {
     "name": "stderr",
     "output_type": "stream",
     "text": [
      "\r",
      "Least Squares Iteration:  65%|██████▍   | 647/1000 [00:03<00:03, 107.70iter/s, Error=1.3276e-03]"
     ]
    },
    {
     "name": "stderr",
     "output_type": "stream",
     "text": [
      "\r",
      "Least Squares Iteration:  65%|██████▍   | 647/1000 [00:03<00:03, 107.70iter/s, Error=1.3266e-03]"
     ]
    },
    {
     "name": "stderr",
     "output_type": "stream",
     "text": [
      "\r",
      "Least Squares Iteration:  65%|██████▍   | 648/1000 [00:03<00:03, 107.70iter/s, Error=1.3256e-03]"
     ]
    },
    {
     "name": "stderr",
     "output_type": "stream",
     "text": [
      "\r",
      "Least Squares Iteration:  65%|██████▍   | 649/1000 [00:03<00:03, 107.70iter/s, Error=1.3246e-03]"
     ]
    },
    {
     "name": "stderr",
     "output_type": "stream",
     "text": [
      "\r",
      "Least Squares Iteration:  65%|██████▌   | 650/1000 [00:03<00:03, 107.70iter/s, Error=1.3236e-03]"
     ]
    },
    {
     "name": "stderr",
     "output_type": "stream",
     "text": [
      "\r",
      "Least Squares Iteration:  65%|██████▌   | 651/1000 [00:03<00:03, 107.70iter/s, Error=1.3226e-03]"
     ]
    },
    {
     "name": "stderr",
     "output_type": "stream",
     "text": [
      "\r",
      "Least Squares Iteration:  65%|██████▌   | 652/1000 [00:03<00:03, 107.70iter/s, Error=1.3216e-03]"
     ]
    },
    {
     "name": "stderr",
     "output_type": "stream",
     "text": [
      "\r",
      "Least Squares Iteration:  65%|██████▌   | 653/1000 [00:03<00:03, 107.70iter/s, Error=1.3206e-03]"
     ]
    },
    {
     "name": "stderr",
     "output_type": "stream",
     "text": [
      "\r",
      "Least Squares Iteration:  65%|██████▌   | 654/1000 [00:03<00:03, 107.70iter/s, Error=1.3196e-03]"
     ]
    },
    {
     "name": "stderr",
     "output_type": "stream",
     "text": [
      "\r",
      "Least Squares Iteration:  66%|██████▌   | 655/1000 [00:03<00:03, 107.70iter/s, Error=1.3186e-03]"
     ]
    },
    {
     "name": "stderr",
     "output_type": "stream",
     "text": [
      "\r",
      "Least Squares Iteration:  66%|██████▌   | 656/1000 [00:03<00:03, 107.70iter/s, Error=1.3176e-03]"
     ]
    },
    {
     "name": "stderr",
     "output_type": "stream",
     "text": [
      "\r",
      "Least Squares Iteration:  66%|██████▌   | 657/1000 [00:03<00:03, 107.70iter/s, Error=1.3166e-03]"
     ]
    },
    {
     "name": "stderr",
     "output_type": "stream",
     "text": [
      "\r",
      "Least Squares Iteration:  66%|██████▌   | 658/1000 [00:03<00:03, 104.94iter/s, Error=1.3166e-03]"
     ]
    },
    {
     "name": "stderr",
     "output_type": "stream",
     "text": [
      "\r",
      "Least Squares Iteration:  66%|██████▌   | 658/1000 [00:03<00:03, 104.94iter/s, Error=1.3156e-03]"
     ]
    },
    {
     "name": "stderr",
     "output_type": "stream",
     "text": [
      "\r",
      "Least Squares Iteration:  66%|██████▌   | 659/1000 [00:03<00:03, 104.94iter/s, Error=1.3147e-03]"
     ]
    },
    {
     "name": "stderr",
     "output_type": "stream",
     "text": [
      "\r",
      "Least Squares Iteration:  66%|██████▌   | 660/1000 [00:03<00:03, 104.94iter/s, Error=1.3137e-03]"
     ]
    },
    {
     "name": "stderr",
     "output_type": "stream",
     "text": [
      "\r",
      "Least Squares Iteration:  66%|██████▌   | 661/1000 [00:03<00:03, 104.94iter/s, Error=1.3127e-03]"
     ]
    },
    {
     "name": "stderr",
     "output_type": "stream",
     "text": [
      "\r",
      "Least Squares Iteration:  66%|██████▌   | 662/1000 [00:03<00:03, 104.94iter/s, Error=1.3117e-03]"
     ]
    },
    {
     "name": "stderr",
     "output_type": "stream",
     "text": [
      "\r",
      "Least Squares Iteration:  66%|██████▋   | 663/1000 [00:03<00:03, 104.94iter/s, Error=1.3108e-03]"
     ]
    },
    {
     "name": "stderr",
     "output_type": "stream",
     "text": [
      "\r",
      "Least Squares Iteration:  66%|██████▋   | 664/1000 [00:03<00:03, 104.94iter/s, Error=1.3098e-03]"
     ]
    },
    {
     "name": "stderr",
     "output_type": "stream",
     "text": [
      "\r",
      "Least Squares Iteration:  66%|██████▋   | 665/1000 [00:03<00:03, 104.94iter/s, Error=1.3088e-03]"
     ]
    },
    {
     "name": "stderr",
     "output_type": "stream",
     "text": [
      "\r",
      "Least Squares Iteration:  67%|██████▋   | 666/1000 [00:03<00:03, 104.94iter/s, Error=1.3078e-03]"
     ]
    },
    {
     "name": "stderr",
     "output_type": "stream",
     "text": [
      "\r",
      "Least Squares Iteration:  67%|██████▋   | 667/1000 [00:03<00:03, 104.94iter/s, Error=1.3069e-03]"
     ]
    },
    {
     "name": "stderr",
     "output_type": "stream",
     "text": [
      "\r",
      "Least Squares Iteration:  67%|██████▋   | 668/1000 [00:03<00:03, 104.94iter/s, Error=1.3059e-03]"
     ]
    },
    {
     "name": "stderr",
     "output_type": "stream",
     "text": [
      "\r",
      "Least Squares Iteration:  67%|██████▋   | 669/1000 [00:03<00:03, 97.30iter/s, Error=1.3059e-03] "
     ]
    },
    {
     "name": "stderr",
     "output_type": "stream",
     "text": [
      "\r",
      "Least Squares Iteration:  67%|██████▋   | 669/1000 [00:03<00:03, 97.30iter/s, Error=1.3049e-03]"
     ]
    },
    {
     "name": "stderr",
     "output_type": "stream",
     "text": [
      "\r",
      "Least Squares Iteration:  67%|██████▋   | 670/1000 [00:03<00:03, 97.30iter/s, Error=1.3040e-03]"
     ]
    },
    {
     "name": "stderr",
     "output_type": "stream",
     "text": [
      "\r",
      "Least Squares Iteration:  67%|██████▋   | 671/1000 [00:03<00:03, 97.30iter/s, Error=1.3030e-03]"
     ]
    },
    {
     "name": "stderr",
     "output_type": "stream",
     "text": [
      "\r",
      "Least Squares Iteration:  67%|██████▋   | 672/1000 [00:03<00:03, 97.30iter/s, Error=1.3020e-03]"
     ]
    },
    {
     "name": "stderr",
     "output_type": "stream",
     "text": [
      "\r",
      "Least Squares Iteration:  67%|██████▋   | 673/1000 [00:03<00:03, 97.30iter/s, Error=1.3011e-03]"
     ]
    },
    {
     "name": "stderr",
     "output_type": "stream",
     "text": [
      "\r",
      "Least Squares Iteration:  67%|██████▋   | 674/1000 [00:03<00:03, 97.30iter/s, Error=1.3001e-03]"
     ]
    },
    {
     "name": "stderr",
     "output_type": "stream",
     "text": [
      "\r",
      "Least Squares Iteration:  68%|██████▊   | 675/1000 [00:03<00:03, 97.30iter/s, Error=1.2992e-03]"
     ]
    },
    {
     "name": "stderr",
     "output_type": "stream",
     "text": [
      "\r",
      "Least Squares Iteration:  68%|██████▊   | 676/1000 [00:03<00:03, 97.30iter/s, Error=1.2982e-03]"
     ]
    },
    {
     "name": "stderr",
     "output_type": "stream",
     "text": [
      "\r",
      "Least Squares Iteration:  68%|██████▊   | 677/1000 [00:03<00:03, 97.30iter/s, Error=1.2973e-03]"
     ]
    },
    {
     "name": "stderr",
     "output_type": "stream",
     "text": [
      "\r",
      "Least Squares Iteration:  68%|██████▊   | 678/1000 [00:03<00:03, 97.30iter/s, Error=1.2963e-03]"
     ]
    },
    {
     "name": "stderr",
     "output_type": "stream",
     "text": [
      "\r",
      "Least Squares Iteration:  68%|██████▊   | 679/1000 [00:03<00:03, 94.90iter/s, Error=1.2963e-03]"
     ]
    },
    {
     "name": "stderr",
     "output_type": "stream",
     "text": [
      "\r",
      "Least Squares Iteration:  68%|██████▊   | 679/1000 [00:03<00:03, 94.90iter/s, Error=1.2954e-03]"
     ]
    },
    {
     "name": "stderr",
     "output_type": "stream",
     "text": [
      "\r",
      "Least Squares Iteration:  68%|██████▊   | 680/1000 [00:03<00:03, 94.90iter/s, Error=1.2944e-03]"
     ]
    },
    {
     "name": "stderr",
     "output_type": "stream",
     "text": [
      "\r",
      "Least Squares Iteration:  68%|██████▊   | 681/1000 [00:03<00:03, 94.90iter/s, Error=1.2935e-03]"
     ]
    },
    {
     "name": "stderr",
     "output_type": "stream",
     "text": [
      "\r",
      "Least Squares Iteration:  68%|██████▊   | 682/1000 [00:03<00:03, 94.90iter/s, Error=1.2925e-03]"
     ]
    },
    {
     "name": "stderr",
     "output_type": "stream",
     "text": [
      "\r",
      "Least Squares Iteration:  68%|██████▊   | 683/1000 [00:03<00:03, 94.90iter/s, Error=1.2916e-03]"
     ]
    },
    {
     "name": "stderr",
     "output_type": "stream",
     "text": [
      "\r",
      "Least Squares Iteration:  68%|██████▊   | 684/1000 [00:03<00:03, 94.90iter/s, Error=1.2907e-03]"
     ]
    },
    {
     "name": "stderr",
     "output_type": "stream",
     "text": [
      "\r",
      "Least Squares Iteration:  68%|██████▊   | 685/1000 [00:03<00:03, 94.90iter/s, Error=1.2897e-03]"
     ]
    },
    {
     "name": "stderr",
     "output_type": "stream",
     "text": [
      "\r",
      "Least Squares Iteration:  69%|██████▊   | 686/1000 [00:03<00:03, 94.90iter/s, Error=1.2888e-03]"
     ]
    },
    {
     "name": "stderr",
     "output_type": "stream",
     "text": [
      "\r",
      "Least Squares Iteration:  69%|██████▊   | 687/1000 [00:03<00:03, 94.90iter/s, Error=1.2879e-03]"
     ]
    },
    {
     "name": "stderr",
     "output_type": "stream",
     "text": [
      "\r",
      "Least Squares Iteration:  69%|██████▉   | 688/1000 [00:03<00:03, 94.90iter/s, Error=1.2869e-03]"
     ]
    },
    {
     "name": "stderr",
     "output_type": "stream",
     "text": [
      "\r",
      "Least Squares Iteration:  69%|██████▉   | 689/1000 [00:03<00:03, 92.93iter/s, Error=1.2869e-03]"
     ]
    },
    {
     "name": "stderr",
     "output_type": "stream",
     "text": [
      "\r",
      "Least Squares Iteration:  69%|██████▉   | 689/1000 [00:03<00:03, 92.93iter/s, Error=1.2860e-03]"
     ]
    },
    {
     "name": "stderr",
     "output_type": "stream",
     "text": [
      "\r",
      "Least Squares Iteration:  69%|██████▉   | 690/1000 [00:03<00:03, 92.93iter/s, Error=1.2851e-03]"
     ]
    },
    {
     "name": "stderr",
     "output_type": "stream",
     "text": [
      "\r",
      "Least Squares Iteration:  69%|██████▉   | 691/1000 [00:03<00:03, 92.93iter/s, Error=1.2841e-03]"
     ]
    },
    {
     "name": "stderr",
     "output_type": "stream",
     "text": [
      "\r",
      "Least Squares Iteration:  69%|██████▉   | 692/1000 [00:03<00:03, 92.93iter/s, Error=1.2832e-03]"
     ]
    },
    {
     "name": "stderr",
     "output_type": "stream",
     "text": [
      "\r",
      "Least Squares Iteration:  69%|██████▉   | 693/1000 [00:03<00:03, 92.93iter/s, Error=1.2823e-03]"
     ]
    },
    {
     "name": "stderr",
     "output_type": "stream",
     "text": [
      "\r",
      "Least Squares Iteration:  69%|██████▉   | 694/1000 [00:03<00:03, 92.93iter/s, Error=1.2814e-03]"
     ]
    },
    {
     "name": "stderr",
     "output_type": "stream",
     "text": [
      "\r",
      "Least Squares Iteration:  70%|██████▉   | 695/1000 [00:03<00:03, 92.93iter/s, Error=1.2805e-03]"
     ]
    },
    {
     "name": "stderr",
     "output_type": "stream",
     "text": [
      "\r",
      "Least Squares Iteration:  70%|██████▉   | 696/1000 [00:03<00:03, 92.93iter/s, Error=1.2795e-03]"
     ]
    },
    {
     "name": "stderr",
     "output_type": "stream",
     "text": [
      "\r",
      "Least Squares Iteration:  70%|██████▉   | 697/1000 [00:03<00:03, 92.93iter/s, Error=1.2786e-03]"
     ]
    },
    {
     "name": "stderr",
     "output_type": "stream",
     "text": [
      "\r",
      "Least Squares Iteration:  70%|██████▉   | 698/1000 [00:03<00:03, 92.93iter/s, Error=1.2777e-03]"
     ]
    },
    {
     "name": "stderr",
     "output_type": "stream",
     "text": [
      "\r",
      "Least Squares Iteration:  70%|██████▉   | 699/1000 [00:04<00:03, 92.93iter/s, Error=1.2768e-03]"
     ]
    },
    {
     "name": "stderr",
     "output_type": "stream",
     "text": [
      "\r",
      "Least Squares Iteration:  70%|███████   | 700/1000 [00:04<00:03, 92.93iter/s, Error=1.2759e-03]"
     ]
    },
    {
     "name": "stderr",
     "output_type": "stream",
     "text": [
      "\r",
      "Least Squares Iteration:  70%|███████   | 701/1000 [00:04<00:03, 98.64iter/s, Error=1.2759e-03]"
     ]
    },
    {
     "name": "stderr",
     "output_type": "stream",
     "text": [
      "\r",
      "Least Squares Iteration:  70%|███████   | 701/1000 [00:04<00:03, 98.64iter/s, Error=1.2750e-03]"
     ]
    },
    {
     "name": "stderr",
     "output_type": "stream",
     "text": [
      "\r",
      "Least Squares Iteration:  70%|███████   | 702/1000 [00:04<00:03, 98.64iter/s, Error=1.2741e-03]"
     ]
    },
    {
     "name": "stderr",
     "output_type": "stream",
     "text": [
      "\r",
      "Least Squares Iteration:  70%|███████   | 703/1000 [00:04<00:03, 98.64iter/s, Error=1.2731e-03]"
     ]
    },
    {
     "name": "stderr",
     "output_type": "stream",
     "text": [
      "\r",
      "Least Squares Iteration:  70%|███████   | 704/1000 [00:04<00:03, 98.64iter/s, Error=1.2722e-03]"
     ]
    },
    {
     "name": "stderr",
     "output_type": "stream",
     "text": [
      "\r",
      "Least Squares Iteration:  70%|███████   | 705/1000 [00:04<00:02, 98.64iter/s, Error=1.2713e-03]"
     ]
    },
    {
     "name": "stderr",
     "output_type": "stream",
     "text": [
      "\r",
      "Least Squares Iteration:  71%|███████   | 706/1000 [00:04<00:02, 98.64iter/s, Error=1.2704e-03]"
     ]
    },
    {
     "name": "stderr",
     "output_type": "stream",
     "text": [
      "\r",
      "Least Squares Iteration:  71%|███████   | 707/1000 [00:04<00:02, 98.64iter/s, Error=1.2695e-03]"
     ]
    },
    {
     "name": "stderr",
     "output_type": "stream",
     "text": [
      "\r",
      "Least Squares Iteration:  71%|███████   | 708/1000 [00:04<00:02, 98.64iter/s, Error=1.2686e-03]"
     ]
    },
    {
     "name": "stderr",
     "output_type": "stream",
     "text": [
      "\r",
      "Least Squares Iteration:  71%|███████   | 709/1000 [00:04<00:02, 98.64iter/s, Error=1.2677e-03]"
     ]
    },
    {
     "name": "stderr",
     "output_type": "stream",
     "text": [
      "\r",
      "Least Squares Iteration:  71%|███████   | 710/1000 [00:04<00:02, 98.64iter/s, Error=1.2668e-03]"
     ]
    },
    {
     "name": "stderr",
     "output_type": "stream",
     "text": [
      "\r",
      "Least Squares Iteration:  71%|███████   | 711/1000 [00:04<00:02, 98.64iter/s, Error=1.2659e-03]"
     ]
    },
    {
     "name": "stderr",
     "output_type": "stream",
     "text": [
      "\r",
      "Least Squares Iteration:  71%|███████   | 712/1000 [00:04<00:02, 98.64iter/s, Error=1.2651e-03]"
     ]
    },
    {
     "name": "stderr",
     "output_type": "stream",
     "text": [
      "\r",
      "Least Squares Iteration:  71%|███████▏  | 713/1000 [00:04<00:02, 104.15iter/s, Error=1.2651e-03]"
     ]
    },
    {
     "name": "stderr",
     "output_type": "stream",
     "text": [
      "\r",
      "Least Squares Iteration:  71%|███████▏  | 713/1000 [00:04<00:02, 104.15iter/s, Error=1.2642e-03]"
     ]
    },
    {
     "name": "stderr",
     "output_type": "stream",
     "text": [
      "\r",
      "Least Squares Iteration:  71%|███████▏  | 714/1000 [00:04<00:02, 104.15iter/s, Error=1.2633e-03]"
     ]
    },
    {
     "name": "stderr",
     "output_type": "stream",
     "text": [
      "\r",
      "Least Squares Iteration:  72%|███████▏  | 715/1000 [00:04<00:02, 104.15iter/s, Error=1.2624e-03]"
     ]
    },
    {
     "name": "stderr",
     "output_type": "stream",
     "text": [
      "\r",
      "Least Squares Iteration:  72%|███████▏  | 716/1000 [00:04<00:02, 104.15iter/s, Error=1.2615e-03]"
     ]
    },
    {
     "name": "stderr",
     "output_type": "stream",
     "text": [
      "\r",
      "Least Squares Iteration:  72%|███████▏  | 717/1000 [00:04<00:02, 104.15iter/s, Error=1.2606e-03]"
     ]
    },
    {
     "name": "stderr",
     "output_type": "stream",
     "text": [
      "\r",
      "Least Squares Iteration:  72%|███████▏  | 718/1000 [00:04<00:02, 104.15iter/s, Error=1.2597e-03]"
     ]
    },
    {
     "name": "stderr",
     "output_type": "stream",
     "text": [
      "\r",
      "Least Squares Iteration:  72%|███████▏  | 719/1000 [00:04<00:02, 104.15iter/s, Error=1.2588e-03]"
     ]
    },
    {
     "name": "stderr",
     "output_type": "stream",
     "text": [
      "\r",
      "Least Squares Iteration:  72%|███████▏  | 720/1000 [00:04<00:02, 104.15iter/s, Error=1.2580e-03]"
     ]
    },
    {
     "name": "stderr",
     "output_type": "stream",
     "text": [
      "\r",
      "Least Squares Iteration:  72%|███████▏  | 721/1000 [00:04<00:02, 104.15iter/s, Error=1.2571e-03]"
     ]
    },
    {
     "name": "stderr",
     "output_type": "stream",
     "text": [
      "\r",
      "Least Squares Iteration:  72%|███████▏  | 722/1000 [00:04<00:02, 104.15iter/s, Error=1.2562e-03]"
     ]
    },
    {
     "name": "stderr",
     "output_type": "stream",
     "text": [
      "\r",
      "Least Squares Iteration:  72%|███████▏  | 723/1000 [00:04<00:02, 104.15iter/s, Error=1.2553e-03]"
     ]
    },
    {
     "name": "stderr",
     "output_type": "stream",
     "text": [
      "\r",
      "Least Squares Iteration:  72%|███████▏  | 724/1000 [00:04<00:02, 104.15iter/s, Error=1.2545e-03]"
     ]
    },
    {
     "name": "stderr",
     "output_type": "stream",
     "text": [
      "\r",
      "Least Squares Iteration:  72%|███████▎  | 725/1000 [00:04<00:02, 106.63iter/s, Error=1.2545e-03]"
     ]
    },
    {
     "name": "stderr",
     "output_type": "stream",
     "text": [
      "\r",
      "Least Squares Iteration:  72%|███████▎  | 725/1000 [00:04<00:02, 106.63iter/s, Error=1.2536e-03]"
     ]
    },
    {
     "name": "stderr",
     "output_type": "stream",
     "text": [
      "\r",
      "Least Squares Iteration:  73%|███████▎  | 726/1000 [00:04<00:02, 106.63iter/s, Error=1.2527e-03]"
     ]
    },
    {
     "name": "stderr",
     "output_type": "stream",
     "text": [
      "\r",
      "Least Squares Iteration:  73%|███████▎  | 727/1000 [00:04<00:02, 106.63iter/s, Error=1.2518e-03]"
     ]
    },
    {
     "name": "stderr",
     "output_type": "stream",
     "text": [
      "\r",
      "Least Squares Iteration:  73%|███████▎  | 728/1000 [00:04<00:02, 106.63iter/s, Error=1.2510e-03]"
     ]
    },
    {
     "name": "stderr",
     "output_type": "stream",
     "text": [
      "\r",
      "Least Squares Iteration:  73%|███████▎  | 729/1000 [00:04<00:02, 106.63iter/s, Error=1.2501e-03]"
     ]
    },
    {
     "name": "stderr",
     "output_type": "stream",
     "text": [
      "\r",
      "Least Squares Iteration:  73%|███████▎  | 730/1000 [00:04<00:02, 106.63iter/s, Error=1.2492e-03]"
     ]
    },
    {
     "name": "stderr",
     "output_type": "stream",
     "text": [
      "\r",
      "Least Squares Iteration:  73%|███████▎  | 731/1000 [00:04<00:02, 106.63iter/s, Error=1.2484e-03]"
     ]
    },
    {
     "name": "stderr",
     "output_type": "stream",
     "text": [
      "\r",
      "Least Squares Iteration:  73%|███████▎  | 732/1000 [00:04<00:02, 106.63iter/s, Error=1.2475e-03]"
     ]
    },
    {
     "name": "stderr",
     "output_type": "stream",
     "text": [
      "\r",
      "Least Squares Iteration:  73%|███████▎  | 733/1000 [00:04<00:02, 106.63iter/s, Error=1.2466e-03]"
     ]
    },
    {
     "name": "stderr",
     "output_type": "stream",
     "text": [
      "\r",
      "Least Squares Iteration:  73%|███████▎  | 734/1000 [00:04<00:02, 106.63iter/s, Error=1.2458e-03]"
     ]
    },
    {
     "name": "stderr",
     "output_type": "stream",
     "text": [
      "\r",
      "Least Squares Iteration:  74%|███████▎  | 735/1000 [00:04<00:02, 106.63iter/s, Error=1.2449e-03]"
     ]
    },
    {
     "name": "stderr",
     "output_type": "stream",
     "text": [
      "\r",
      "Least Squares Iteration:  74%|███████▎  | 736/1000 [00:04<00:02, 106.63iter/s, Error=1.2441e-03]"
     ]
    },
    {
     "name": "stderr",
     "output_type": "stream",
     "text": [
      "\r",
      "Least Squares Iteration:  74%|███████▎  | 737/1000 [00:04<00:02, 109.84iter/s, Error=1.2441e-03]"
     ]
    },
    {
     "name": "stderr",
     "output_type": "stream",
     "text": [
      "\r",
      "Least Squares Iteration:  74%|███████▎  | 737/1000 [00:04<00:02, 109.84iter/s, Error=1.2432e-03]"
     ]
    },
    {
     "name": "stderr",
     "output_type": "stream",
     "text": [
      "\r",
      "Least Squares Iteration:  74%|███████▍  | 738/1000 [00:04<00:02, 109.84iter/s, Error=1.2424e-03]"
     ]
    },
    {
     "name": "stderr",
     "output_type": "stream",
     "text": [
      "\r",
      "Least Squares Iteration:  74%|███████▍  | 739/1000 [00:04<00:02, 109.84iter/s, Error=1.2415e-03]"
     ]
    },
    {
     "name": "stderr",
     "output_type": "stream",
     "text": [
      "\r",
      "Least Squares Iteration:  74%|███████▍  | 740/1000 [00:04<00:02, 109.84iter/s, Error=1.2407e-03]"
     ]
    },
    {
     "name": "stderr",
     "output_type": "stream",
     "text": [
      "\r",
      "Least Squares Iteration:  74%|███████▍  | 741/1000 [00:04<00:02, 109.84iter/s, Error=1.2398e-03]"
     ]
    },
    {
     "name": "stderr",
     "output_type": "stream",
     "text": [
      "\r",
      "Least Squares Iteration:  74%|███████▍  | 742/1000 [00:04<00:02, 109.84iter/s, Error=1.2390e-03]"
     ]
    },
    {
     "name": "stderr",
     "output_type": "stream",
     "text": [
      "\r",
      "Least Squares Iteration:  74%|███████▍  | 743/1000 [00:04<00:02, 109.84iter/s, Error=1.2381e-03]"
     ]
    },
    {
     "name": "stderr",
     "output_type": "stream",
     "text": [
      "\r",
      "Least Squares Iteration:  74%|███████▍  | 744/1000 [00:04<00:02, 109.84iter/s, Error=1.2373e-03]"
     ]
    },
    {
     "name": "stderr",
     "output_type": "stream",
     "text": [
      "\r",
      "Least Squares Iteration:  74%|███████▍  | 745/1000 [00:04<00:02, 109.84iter/s, Error=1.2364e-03]"
     ]
    },
    {
     "name": "stderr",
     "output_type": "stream",
     "text": [
      "\r",
      "Least Squares Iteration:  75%|███████▍  | 746/1000 [00:04<00:02, 109.84iter/s, Error=1.2356e-03]"
     ]
    },
    {
     "name": "stderr",
     "output_type": "stream",
     "text": [
      "\r",
      "Least Squares Iteration:  75%|███████▍  | 747/1000 [00:04<00:02, 109.84iter/s, Error=1.2347e-03]"
     ]
    },
    {
     "name": "stderr",
     "output_type": "stream",
     "text": [
      "\r",
      "Least Squares Iteration:  75%|███████▍  | 748/1000 [00:04<00:02, 109.84iter/s, Error=1.2339e-03]"
     ]
    },
    {
     "name": "stderr",
     "output_type": "stream",
     "text": [
      "\r",
      "Least Squares Iteration:  75%|███████▍  | 749/1000 [00:04<00:02, 103.18iter/s, Error=1.2339e-03]"
     ]
    },
    {
     "name": "stderr",
     "output_type": "stream",
     "text": [
      "\r",
      "Least Squares Iteration:  75%|███████▍  | 749/1000 [00:04<00:02, 103.18iter/s, Error=1.2330e-03]"
     ]
    },
    {
     "name": "stderr",
     "output_type": "stream",
     "text": [
      "\r",
      "Least Squares Iteration:  75%|███████▌  | 750/1000 [00:04<00:02, 103.18iter/s, Error=1.2322e-03]"
     ]
    },
    {
     "name": "stderr",
     "output_type": "stream",
     "text": [
      "\r",
      "Least Squares Iteration:  75%|███████▌  | 751/1000 [00:04<00:02, 103.18iter/s, Error=1.2314e-03]"
     ]
    },
    {
     "name": "stderr",
     "output_type": "stream",
     "text": [
      "\r",
      "Least Squares Iteration:  75%|███████▌  | 752/1000 [00:04<00:02, 103.18iter/s, Error=1.2305e-03]"
     ]
    },
    {
     "name": "stderr",
     "output_type": "stream",
     "text": [
      "\r",
      "Least Squares Iteration:  75%|███████▌  | 753/1000 [00:04<00:02, 103.18iter/s, Error=1.2297e-03]"
     ]
    },
    {
     "name": "stderr",
     "output_type": "stream",
     "text": [
      "\r",
      "Least Squares Iteration:  75%|███████▌  | 754/1000 [00:04<00:02, 103.18iter/s, Error=1.2289e-03]"
     ]
    },
    {
     "name": "stderr",
     "output_type": "stream",
     "text": [
      "\r",
      "Least Squares Iteration:  76%|███████▌  | 755/1000 [00:04<00:02, 103.18iter/s, Error=1.2280e-03]"
     ]
    },
    {
     "name": "stderr",
     "output_type": "stream",
     "text": [
      "\r",
      "Least Squares Iteration:  76%|███████▌  | 756/1000 [00:04<00:02, 103.18iter/s, Error=1.2272e-03]"
     ]
    },
    {
     "name": "stderr",
     "output_type": "stream",
     "text": [
      "\r",
      "Least Squares Iteration:  76%|███████▌  | 757/1000 [00:04<00:02, 103.18iter/s, Error=1.2264e-03]"
     ]
    },
    {
     "name": "stderr",
     "output_type": "stream",
     "text": [
      "\r",
      "Least Squares Iteration:  76%|███████▌  | 758/1000 [00:04<00:02, 103.18iter/s, Error=1.2255e-03]"
     ]
    },
    {
     "name": "stderr",
     "output_type": "stream",
     "text": [
      "\r",
      "Least Squares Iteration:  76%|███████▌  | 759/1000 [00:04<00:02, 103.18iter/s, Error=1.2247e-03]"
     ]
    },
    {
     "name": "stderr",
     "output_type": "stream",
     "text": [
      "\r",
      "Least Squares Iteration:  76%|███████▌  | 760/1000 [00:04<00:02, 104.05iter/s, Error=1.2247e-03]"
     ]
    },
    {
     "name": "stderr",
     "output_type": "stream",
     "text": [
      "\r",
      "Least Squares Iteration:  76%|███████▌  | 760/1000 [00:04<00:02, 104.05iter/s, Error=1.2239e-03]"
     ]
    },
    {
     "name": "stderr",
     "output_type": "stream",
     "text": [
      "\r",
      "Least Squares Iteration:  76%|███████▌  | 761/1000 [00:04<00:02, 104.05iter/s, Error=1.2231e-03]"
     ]
    },
    {
     "name": "stderr",
     "output_type": "stream",
     "text": [
      "\r",
      "Least Squares Iteration:  76%|███████▌  | 762/1000 [00:04<00:02, 104.05iter/s, Error=1.2223e-03]"
     ]
    },
    {
     "name": "stderr",
     "output_type": "stream",
     "text": [
      "\r",
      "Least Squares Iteration:  76%|███████▋  | 763/1000 [00:04<00:02, 104.05iter/s, Error=1.2214e-03]"
     ]
    },
    {
     "name": "stderr",
     "output_type": "stream",
     "text": [
      "\r",
      "Least Squares Iteration:  76%|███████▋  | 764/1000 [00:04<00:02, 104.05iter/s, Error=1.2206e-03]"
     ]
    },
    {
     "name": "stderr",
     "output_type": "stream",
     "text": [
      "\r",
      "Least Squares Iteration:  76%|███████▋  | 765/1000 [00:04<00:02, 104.05iter/s, Error=1.2198e-03]"
     ]
    },
    {
     "name": "stderr",
     "output_type": "stream",
     "text": [
      "\r",
      "Least Squares Iteration:  77%|███████▋  | 766/1000 [00:04<00:02, 104.05iter/s, Error=1.2190e-03]"
     ]
    },
    {
     "name": "stderr",
     "output_type": "stream",
     "text": [
      "\r",
      "Least Squares Iteration:  77%|███████▋  | 767/1000 [00:04<00:02, 104.05iter/s, Error=1.2182e-03]"
     ]
    },
    {
     "name": "stderr",
     "output_type": "stream",
     "text": [
      "\r",
      "Least Squares Iteration:  77%|███████▋  | 768/1000 [00:04<00:02, 104.05iter/s, Error=1.2174e-03]"
     ]
    },
    {
     "name": "stderr",
     "output_type": "stream",
     "text": [
      "\r",
      "Least Squares Iteration:  77%|███████▋  | 769/1000 [00:04<00:02, 104.05iter/s, Error=1.2165e-03]"
     ]
    },
    {
     "name": "stderr",
     "output_type": "stream",
     "text": [
      "\r",
      "Least Squares Iteration:  77%|███████▋  | 770/1000 [00:04<00:02, 104.05iter/s, Error=1.2157e-03]"
     ]
    },
    {
     "name": "stderr",
     "output_type": "stream",
     "text": [
      "\r",
      "Least Squares Iteration:  77%|███████▋  | 771/1000 [00:04<00:02, 104.05iter/s, Error=1.2149e-03]"
     ]
    },
    {
     "name": "stderr",
     "output_type": "stream",
     "text": [
      "\r",
      "Least Squares Iteration:  77%|███████▋  | 772/1000 [00:04<00:02, 108.00iter/s, Error=1.2149e-03]"
     ]
    },
    {
     "name": "stderr",
     "output_type": "stream",
     "text": [
      "\r",
      "Least Squares Iteration:  77%|███████▋  | 772/1000 [00:04<00:02, 108.00iter/s, Error=1.2141e-03]"
     ]
    },
    {
     "name": "stderr",
     "output_type": "stream",
     "text": [
      "\r",
      "Least Squares Iteration:  77%|███████▋  | 773/1000 [00:04<00:02, 108.00iter/s, Error=1.2133e-03]"
     ]
    },
    {
     "name": "stderr",
     "output_type": "stream",
     "text": [
      "\r",
      "Least Squares Iteration:  77%|███████▋  | 774/1000 [00:04<00:02, 108.00iter/s, Error=1.2125e-03]"
     ]
    },
    {
     "name": "stderr",
     "output_type": "stream",
     "text": [
      "\r",
      "Least Squares Iteration:  78%|███████▊  | 775/1000 [00:04<00:02, 108.00iter/s, Error=1.2117e-03]"
     ]
    },
    {
     "name": "stderr",
     "output_type": "stream",
     "text": [
      "\r",
      "Least Squares Iteration:  78%|███████▊  | 776/1000 [00:04<00:02, 108.00iter/s, Error=1.2109e-03]"
     ]
    },
    {
     "name": "stderr",
     "output_type": "stream",
     "text": [
      "\r",
      "Least Squares Iteration:  78%|███████▊  | 777/1000 [00:04<00:02, 108.00iter/s, Error=1.2101e-03]"
     ]
    },
    {
     "name": "stderr",
     "output_type": "stream",
     "text": [
      "\r",
      "Least Squares Iteration:  78%|███████▊  | 778/1000 [00:04<00:02, 108.00iter/s, Error=1.2093e-03]"
     ]
    },
    {
     "name": "stderr",
     "output_type": "stream",
     "text": [
      "\r",
      "Least Squares Iteration:  78%|███████▊  | 779/1000 [00:04<00:02, 108.00iter/s, Error=1.2085e-03]"
     ]
    },
    {
     "name": "stderr",
     "output_type": "stream",
     "text": [
      "\r",
      "Least Squares Iteration:  78%|███████▊  | 780/1000 [00:04<00:02, 108.00iter/s, Error=1.2077e-03]"
     ]
    },
    {
     "name": "stderr",
     "output_type": "stream",
     "text": [
      "\r",
      "Least Squares Iteration:  78%|███████▊  | 781/1000 [00:04<00:02, 108.00iter/s, Error=1.2069e-03]"
     ]
    },
    {
     "name": "stderr",
     "output_type": "stream",
     "text": [
      "\r",
      "Least Squares Iteration:  78%|███████▊  | 782/1000 [00:04<00:02, 108.00iter/s, Error=1.2061e-03]"
     ]
    },
    {
     "name": "stderr",
     "output_type": "stream",
     "text": [
      "\r",
      "Least Squares Iteration:  78%|███████▊  | 783/1000 [00:04<00:02, 107.39iter/s, Error=1.2061e-03]"
     ]
    },
    {
     "name": "stderr",
     "output_type": "stream",
     "text": [
      "\r",
      "Least Squares Iteration:  78%|███████▊  | 783/1000 [00:04<00:02, 107.39iter/s, Error=1.2053e-03]"
     ]
    },
    {
     "name": "stderr",
     "output_type": "stream",
     "text": [
      "\r",
      "Least Squares Iteration:  78%|███████▊  | 784/1000 [00:04<00:02, 107.39iter/s, Error=1.2045e-03]"
     ]
    },
    {
     "name": "stderr",
     "output_type": "stream",
     "text": [
      "\r",
      "Least Squares Iteration:  78%|███████▊  | 785/1000 [00:04<00:02, 107.39iter/s, Error=1.2037e-03]"
     ]
    },
    {
     "name": "stderr",
     "output_type": "stream",
     "text": [
      "\r",
      "Least Squares Iteration:  79%|███████▊  | 786/1000 [00:04<00:01, 107.39iter/s, Error=1.2029e-03]"
     ]
    },
    {
     "name": "stderr",
     "output_type": "stream",
     "text": [
      "\r",
      "Least Squares Iteration:  79%|███████▊  | 787/1000 [00:04<00:01, 107.39iter/s, Error=1.2021e-03]"
     ]
    },
    {
     "name": "stderr",
     "output_type": "stream",
     "text": [
      "\r",
      "Least Squares Iteration:  79%|███████▉  | 788/1000 [00:04<00:01, 107.39iter/s, Error=1.2013e-03]"
     ]
    },
    {
     "name": "stderr",
     "output_type": "stream",
     "text": [
      "\r",
      "Least Squares Iteration:  79%|███████▉  | 789/1000 [00:04<00:01, 107.39iter/s, Error=1.2005e-03]"
     ]
    },
    {
     "name": "stderr",
     "output_type": "stream",
     "text": [
      "\r",
      "Least Squares Iteration:  79%|███████▉  | 790/1000 [00:04<00:01, 107.39iter/s, Error=1.1998e-03]"
     ]
    },
    {
     "name": "stderr",
     "output_type": "stream",
     "text": [
      "\r",
      "Least Squares Iteration:  79%|███████▉  | 791/1000 [00:04<00:01, 107.39iter/s, Error=1.1990e-03]"
     ]
    },
    {
     "name": "stderr",
     "output_type": "stream",
     "text": [
      "\r",
      "Least Squares Iteration:  79%|███████▉  | 792/1000 [00:04<00:01, 107.39iter/s, Error=1.1982e-03]"
     ]
    },
    {
     "name": "stderr",
     "output_type": "stream",
     "text": [
      "\r",
      "Least Squares Iteration:  79%|███████▉  | 793/1000 [00:04<00:01, 107.39iter/s, Error=1.1974e-03]"
     ]
    },
    {
     "name": "stderr",
     "output_type": "stream",
     "text": [
      "\r",
      "Least Squares Iteration:  79%|███████▉  | 794/1000 [00:04<00:01, 105.79iter/s, Error=1.1974e-03]"
     ]
    },
    {
     "name": "stderr",
     "output_type": "stream",
     "text": [
      "\r",
      "Least Squares Iteration:  79%|███████▉  | 794/1000 [00:04<00:01, 105.79iter/s, Error=1.1966e-03]"
     ]
    },
    {
     "name": "stderr",
     "output_type": "stream",
     "text": [
      "\r",
      "Least Squares Iteration:  80%|███████▉  | 795/1000 [00:04<00:01, 105.79iter/s, Error=1.1958e-03]"
     ]
    },
    {
     "name": "stderr",
     "output_type": "stream",
     "text": [
      "\r",
      "Least Squares Iteration:  80%|███████▉  | 796/1000 [00:04<00:01, 105.79iter/s, Error=1.1951e-03]"
     ]
    },
    {
     "name": "stderr",
     "output_type": "stream",
     "text": [
      "\r",
      "Least Squares Iteration:  80%|███████▉  | 797/1000 [00:04<00:01, 105.79iter/s, Error=1.1943e-03]"
     ]
    },
    {
     "name": "stderr",
     "output_type": "stream",
     "text": [
      "\r",
      "Least Squares Iteration:  80%|███████▉  | 798/1000 [00:04<00:01, 105.79iter/s, Error=1.1935e-03]"
     ]
    },
    {
     "name": "stderr",
     "output_type": "stream",
     "text": [
      "\r",
      "Least Squares Iteration:  80%|███████▉  | 799/1000 [00:04<00:01, 105.79iter/s, Error=1.1927e-03]"
     ]
    },
    {
     "name": "stderr",
     "output_type": "stream",
     "text": [
      "\r",
      "Least Squares Iteration:  80%|████████  | 800/1000 [00:04<00:01, 105.79iter/s, Error=1.1919e-03]"
     ]
    },
    {
     "name": "stderr",
     "output_type": "stream",
     "text": [
      "\r",
      "Least Squares Iteration:  80%|████████  | 801/1000 [00:04<00:01, 105.79iter/s, Error=1.1912e-03]"
     ]
    },
    {
     "name": "stderr",
     "output_type": "stream",
     "text": [
      "\r",
      "Least Squares Iteration:  80%|████████  | 802/1000 [00:04<00:01, 105.79iter/s, Error=1.1904e-03]"
     ]
    },
    {
     "name": "stderr",
     "output_type": "stream",
     "text": [
      "\r",
      "Least Squares Iteration:  80%|████████  | 803/1000 [00:04<00:01, 105.79iter/s, Error=1.1896e-03]"
     ]
    },
    {
     "name": "stderr",
     "output_type": "stream",
     "text": [
      "\r",
      "Least Squares Iteration:  80%|████████  | 804/1000 [00:04<00:01, 105.79iter/s, Error=1.1889e-03]"
     ]
    },
    {
     "name": "stderr",
     "output_type": "stream",
     "text": [
      "\r",
      "Least Squares Iteration:  80%|████████  | 805/1000 [00:04<00:01, 102.62iter/s, Error=1.1889e-03]"
     ]
    },
    {
     "name": "stderr",
     "output_type": "stream",
     "text": [
      "\r",
      "Least Squares Iteration:  80%|████████  | 805/1000 [00:05<00:01, 102.62iter/s, Error=1.1881e-03]"
     ]
    },
    {
     "name": "stderr",
     "output_type": "stream",
     "text": [
      "\r",
      "Least Squares Iteration:  81%|████████  | 806/1000 [00:05<00:01, 102.62iter/s, Error=1.1873e-03]"
     ]
    },
    {
     "name": "stderr",
     "output_type": "stream",
     "text": [
      "\r",
      "Least Squares Iteration:  81%|████████  | 807/1000 [00:05<00:01, 102.62iter/s, Error=1.1866e-03]"
     ]
    },
    {
     "name": "stderr",
     "output_type": "stream",
     "text": [
      "\r",
      "Least Squares Iteration:  81%|████████  | 808/1000 [00:05<00:01, 102.62iter/s, Error=1.1858e-03]"
     ]
    },
    {
     "name": "stderr",
     "output_type": "stream",
     "text": [
      "\r",
      "Least Squares Iteration:  81%|████████  | 809/1000 [00:05<00:01, 102.62iter/s, Error=1.1850e-03]"
     ]
    },
    {
     "name": "stderr",
     "output_type": "stream",
     "text": [
      "\r",
      "Least Squares Iteration:  81%|████████  | 810/1000 [00:05<00:01, 102.62iter/s, Error=1.1843e-03]"
     ]
    },
    {
     "name": "stderr",
     "output_type": "stream",
     "text": [
      "\r",
      "Least Squares Iteration:  81%|████████  | 811/1000 [00:05<00:01, 102.62iter/s, Error=1.1835e-03]"
     ]
    },
    {
     "name": "stderr",
     "output_type": "stream",
     "text": [
      "\r",
      "Least Squares Iteration:  81%|████████  | 812/1000 [00:05<00:01, 102.62iter/s, Error=1.1827e-03]"
     ]
    },
    {
     "name": "stderr",
     "output_type": "stream",
     "text": [
      "\r",
      "Least Squares Iteration:  81%|████████▏ | 813/1000 [00:05<00:01, 102.62iter/s, Error=1.1820e-03]"
     ]
    },
    {
     "name": "stderr",
     "output_type": "stream",
     "text": [
      "\r",
      "Least Squares Iteration:  81%|████████▏ | 814/1000 [00:05<00:01, 102.62iter/s, Error=1.1812e-03]"
     ]
    },
    {
     "name": "stderr",
     "output_type": "stream",
     "text": [
      "\r",
      "Least Squares Iteration:  82%|████████▏ | 815/1000 [00:05<00:01, 102.62iter/s, Error=1.1804e-03]"
     ]
    },
    {
     "name": "stderr",
     "output_type": "stream",
     "text": [
      "\r",
      "Least Squares Iteration:  82%|████████▏ | 816/1000 [00:05<00:01, 93.28iter/s, Error=1.1804e-03] "
     ]
    },
    {
     "name": "stderr",
     "output_type": "stream",
     "text": [
      "\r",
      "Least Squares Iteration:  82%|████████▏ | 816/1000 [00:05<00:01, 93.28iter/s, Error=1.1797e-03]"
     ]
    },
    {
     "name": "stderr",
     "output_type": "stream",
     "text": [
      "\r",
      "Least Squares Iteration:  82%|████████▏ | 817/1000 [00:05<00:01, 93.28iter/s, Error=1.1789e-03]"
     ]
    },
    {
     "name": "stderr",
     "output_type": "stream",
     "text": [
      "\r",
      "Least Squares Iteration:  82%|████████▏ | 818/1000 [00:05<00:01, 93.28iter/s, Error=1.1782e-03]"
     ]
    },
    {
     "name": "stderr",
     "output_type": "stream",
     "text": [
      "\r",
      "Least Squares Iteration:  82%|████████▏ | 819/1000 [00:05<00:01, 93.28iter/s, Error=1.1774e-03]"
     ]
    },
    {
     "name": "stderr",
     "output_type": "stream",
     "text": [
      "\r",
      "Least Squares Iteration:  82%|████████▏ | 820/1000 [00:05<00:01, 93.28iter/s, Error=1.1767e-03]"
     ]
    },
    {
     "name": "stderr",
     "output_type": "stream",
     "text": [
      "\r",
      "Least Squares Iteration:  82%|████████▏ | 821/1000 [00:05<00:01, 93.28iter/s, Error=1.1759e-03]"
     ]
    },
    {
     "name": "stderr",
     "output_type": "stream",
     "text": [
      "\r",
      "Least Squares Iteration:  82%|████████▏ | 822/1000 [00:05<00:01, 93.28iter/s, Error=1.1752e-03]"
     ]
    },
    {
     "name": "stderr",
     "output_type": "stream",
     "text": [
      "\r",
      "Least Squares Iteration:  82%|████████▏ | 823/1000 [00:05<00:01, 93.28iter/s, Error=1.1744e-03]"
     ]
    },
    {
     "name": "stderr",
     "output_type": "stream",
     "text": [
      "\r",
      "Least Squares Iteration:  82%|████████▏ | 824/1000 [00:05<00:01, 93.28iter/s, Error=1.1737e-03]"
     ]
    },
    {
     "name": "stderr",
     "output_type": "stream",
     "text": [
      "\r",
      "Least Squares Iteration:  82%|████████▎ | 825/1000 [00:05<00:01, 93.28iter/s, Error=1.1729e-03]"
     ]
    },
    {
     "name": "stderr",
     "output_type": "stream",
     "text": [
      "\r",
      "Least Squares Iteration:  83%|████████▎ | 826/1000 [00:05<00:01, 91.52iter/s, Error=1.1729e-03]"
     ]
    },
    {
     "name": "stderr",
     "output_type": "stream",
     "text": [
      "\r",
      "Least Squares Iteration:  83%|████████▎ | 826/1000 [00:05<00:01, 91.52iter/s, Error=1.1722e-03]"
     ]
    },
    {
     "name": "stderr",
     "output_type": "stream",
     "text": [
      "\r",
      "Least Squares Iteration:  83%|████████▎ | 827/1000 [00:05<00:01, 91.52iter/s, Error=1.1715e-03]"
     ]
    },
    {
     "name": "stderr",
     "output_type": "stream",
     "text": [
      "\r",
      "Least Squares Iteration:  83%|████████▎ | 828/1000 [00:05<00:01, 91.52iter/s, Error=1.1707e-03]"
     ]
    },
    {
     "name": "stderr",
     "output_type": "stream",
     "text": [
      "\r",
      "Least Squares Iteration:  83%|████████▎ | 829/1000 [00:05<00:01, 91.52iter/s, Error=1.1700e-03]"
     ]
    },
    {
     "name": "stderr",
     "output_type": "stream",
     "text": [
      "\r",
      "Least Squares Iteration:  83%|████████▎ | 830/1000 [00:05<00:01, 91.52iter/s, Error=1.1692e-03]"
     ]
    },
    {
     "name": "stderr",
     "output_type": "stream",
     "text": [
      "\r",
      "Least Squares Iteration:  83%|████████▎ | 831/1000 [00:05<00:01, 91.52iter/s, Error=1.1685e-03]"
     ]
    },
    {
     "name": "stderr",
     "output_type": "stream",
     "text": [
      "\r",
      "Least Squares Iteration:  83%|████████▎ | 832/1000 [00:05<00:01, 91.52iter/s, Error=1.1677e-03]"
     ]
    },
    {
     "name": "stderr",
     "output_type": "stream",
     "text": [
      "\r",
      "Least Squares Iteration:  83%|████████▎ | 833/1000 [00:05<00:01, 91.52iter/s, Error=1.1670e-03]"
     ]
    },
    {
     "name": "stderr",
     "output_type": "stream",
     "text": [
      "\r",
      "Least Squares Iteration:  83%|████████▎ | 834/1000 [00:05<00:01, 91.52iter/s, Error=1.1663e-03]"
     ]
    },
    {
     "name": "stderr",
     "output_type": "stream",
     "text": [
      "\r",
      "Least Squares Iteration:  84%|████████▎ | 835/1000 [00:05<00:01, 91.52iter/s, Error=1.1655e-03]"
     ]
    },
    {
     "name": "stderr",
     "output_type": "stream",
     "text": [
      "\r",
      "Least Squares Iteration:  84%|████████▎ | 836/1000 [00:05<00:01, 92.73iter/s, Error=1.1655e-03]"
     ]
    },
    {
     "name": "stderr",
     "output_type": "stream",
     "text": [
      "\r",
      "Least Squares Iteration:  84%|████████▎ | 836/1000 [00:05<00:01, 92.73iter/s, Error=1.1648e-03]"
     ]
    },
    {
     "name": "stderr",
     "output_type": "stream",
     "text": [
      "\r",
      "Least Squares Iteration:  84%|████████▎ | 837/1000 [00:05<00:01, 92.73iter/s, Error=1.1641e-03]"
     ]
    },
    {
     "name": "stderr",
     "output_type": "stream",
     "text": [
      "\r",
      "Least Squares Iteration:  84%|████████▍ | 838/1000 [00:05<00:01, 92.73iter/s, Error=1.1633e-03]"
     ]
    },
    {
     "name": "stderr",
     "output_type": "stream",
     "text": [
      "\r",
      "Least Squares Iteration:  84%|████████▍ | 839/1000 [00:05<00:01, 92.73iter/s, Error=1.1626e-03]"
     ]
    },
    {
     "name": "stderr",
     "output_type": "stream",
     "text": [
      "\r",
      "Least Squares Iteration:  84%|████████▍ | 840/1000 [00:05<00:01, 92.73iter/s, Error=1.1619e-03]"
     ]
    },
    {
     "name": "stderr",
     "output_type": "stream",
     "text": [
      "\r",
      "Least Squares Iteration:  84%|████████▍ | 841/1000 [00:05<00:01, 92.73iter/s, Error=1.1611e-03]"
     ]
    },
    {
     "name": "stderr",
     "output_type": "stream",
     "text": [
      "\r",
      "Least Squares Iteration:  84%|████████▍ | 842/1000 [00:05<00:01, 92.73iter/s, Error=1.1604e-03]"
     ]
    },
    {
     "name": "stderr",
     "output_type": "stream",
     "text": [
      "\r",
      "Least Squares Iteration:  84%|████████▍ | 843/1000 [00:05<00:01, 92.73iter/s, Error=1.1597e-03]"
     ]
    },
    {
     "name": "stderr",
     "output_type": "stream",
     "text": [
      "\r",
      "Least Squares Iteration:  84%|████████▍ | 844/1000 [00:05<00:01, 92.73iter/s, Error=1.1590e-03]"
     ]
    },
    {
     "name": "stderr",
     "output_type": "stream",
     "text": [
      "\r",
      "Least Squares Iteration:  84%|████████▍ | 845/1000 [00:05<00:01, 92.73iter/s, Error=1.1582e-03]"
     ]
    },
    {
     "name": "stderr",
     "output_type": "stream",
     "text": [
      "\r",
      "Least Squares Iteration:  85%|████████▍ | 846/1000 [00:05<00:01, 92.25iter/s, Error=1.1582e-03]"
     ]
    },
    {
     "name": "stderr",
     "output_type": "stream",
     "text": [
      "\r",
      "Least Squares Iteration:  85%|████████▍ | 846/1000 [00:05<00:01, 92.25iter/s, Error=1.1575e-03]"
     ]
    },
    {
     "name": "stderr",
     "output_type": "stream",
     "text": [
      "\r",
      "Least Squares Iteration:  85%|████████▍ | 847/1000 [00:05<00:01, 92.25iter/s, Error=1.1568e-03]"
     ]
    },
    {
     "name": "stderr",
     "output_type": "stream",
     "text": [
      "\r",
      "Least Squares Iteration:  85%|████████▍ | 848/1000 [00:05<00:01, 92.25iter/s, Error=1.1561e-03]"
     ]
    },
    {
     "name": "stderr",
     "output_type": "stream",
     "text": [
      "\r",
      "Least Squares Iteration:  85%|████████▍ | 849/1000 [00:05<00:01, 92.25iter/s, Error=1.1553e-03]"
     ]
    },
    {
     "name": "stderr",
     "output_type": "stream",
     "text": [
      "\r",
      "Least Squares Iteration:  85%|████████▌ | 850/1000 [00:05<00:01, 92.25iter/s, Error=1.1546e-03]"
     ]
    },
    {
     "name": "stderr",
     "output_type": "stream",
     "text": [
      "\r",
      "Least Squares Iteration:  85%|████████▌ | 851/1000 [00:05<00:01, 92.25iter/s, Error=1.1539e-03]"
     ]
    },
    {
     "name": "stderr",
     "output_type": "stream",
     "text": [
      "\r",
      "Least Squares Iteration:  85%|████████▌ | 852/1000 [00:05<00:01, 92.25iter/s, Error=1.1532e-03]"
     ]
    },
    {
     "name": "stderr",
     "output_type": "stream",
     "text": [
      "\r",
      "Least Squares Iteration:  85%|████████▌ | 853/1000 [00:05<00:01, 92.25iter/s, Error=1.1525e-03]"
     ]
    },
    {
     "name": "stderr",
     "output_type": "stream",
     "text": [
      "\r",
      "Least Squares Iteration:  85%|████████▌ | 854/1000 [00:05<00:01, 92.25iter/s, Error=1.1517e-03]"
     ]
    },
    {
     "name": "stderr",
     "output_type": "stream",
     "text": [
      "\r",
      "Least Squares Iteration:  86%|████████▌ | 855/1000 [00:05<00:01, 92.25iter/s, Error=1.1510e-03]"
     ]
    },
    {
     "name": "stderr",
     "output_type": "stream",
     "text": [
      "\r",
      "Least Squares Iteration:  86%|████████▌ | 856/1000 [00:05<00:01, 91.42iter/s, Error=1.1510e-03]"
     ]
    },
    {
     "name": "stderr",
     "output_type": "stream",
     "text": [
      "\r",
      "Least Squares Iteration:  86%|████████▌ | 856/1000 [00:05<00:01, 91.42iter/s, Error=1.1503e-03]"
     ]
    },
    {
     "name": "stderr",
     "output_type": "stream",
     "text": [
      "\r",
      "Least Squares Iteration:  86%|████████▌ | 857/1000 [00:05<00:01, 91.42iter/s, Error=1.1496e-03]"
     ]
    },
    {
     "name": "stderr",
     "output_type": "stream",
     "text": [
      "\r",
      "Least Squares Iteration:  86%|████████▌ | 858/1000 [00:05<00:01, 91.42iter/s, Error=1.1489e-03]"
     ]
    },
    {
     "name": "stderr",
     "output_type": "stream",
     "text": [
      "\r",
      "Least Squares Iteration:  86%|████████▌ | 859/1000 [00:05<00:01, 91.42iter/s, Error=1.1482e-03]"
     ]
    },
    {
     "name": "stderr",
     "output_type": "stream",
     "text": [
      "\r",
      "Least Squares Iteration:  86%|████████▌ | 860/1000 [00:05<00:01, 91.42iter/s, Error=1.1475e-03]"
     ]
    },
    {
     "name": "stderr",
     "output_type": "stream",
     "text": [
      "\r",
      "Least Squares Iteration:  86%|████████▌ | 861/1000 [00:05<00:01, 91.42iter/s, Error=1.1468e-03]"
     ]
    },
    {
     "name": "stderr",
     "output_type": "stream",
     "text": [
      "\r",
      "Least Squares Iteration:  86%|████████▌ | 862/1000 [00:05<00:01, 91.42iter/s, Error=1.1461e-03]"
     ]
    },
    {
     "name": "stderr",
     "output_type": "stream",
     "text": [
      "\r",
      "Least Squares Iteration:  86%|████████▋ | 863/1000 [00:05<00:01, 91.42iter/s, Error=1.1453e-03]"
     ]
    },
    {
     "name": "stderr",
     "output_type": "stream",
     "text": [
      "\r",
      "Least Squares Iteration:  86%|████████▋ | 864/1000 [00:05<00:01, 91.42iter/s, Error=1.1446e-03]"
     ]
    },
    {
     "name": "stderr",
     "output_type": "stream",
     "text": [
      "\r",
      "Least Squares Iteration:  86%|████████▋ | 865/1000 [00:05<00:01, 91.42iter/s, Error=1.1439e-03]"
     ]
    },
    {
     "name": "stderr",
     "output_type": "stream",
     "text": [
      "\r",
      "Least Squares Iteration:  87%|████████▋ | 866/1000 [00:05<00:01, 88.89iter/s, Error=1.1439e-03]"
     ]
    },
    {
     "name": "stderr",
     "output_type": "stream",
     "text": [
      "\r",
      "Least Squares Iteration:  87%|████████▋ | 866/1000 [00:05<00:01, 88.89iter/s, Error=1.1432e-03]"
     ]
    },
    {
     "name": "stderr",
     "output_type": "stream",
     "text": [
      "\r",
      "Least Squares Iteration:  87%|████████▋ | 867/1000 [00:05<00:01, 88.89iter/s, Error=1.1425e-03]"
     ]
    },
    {
     "name": "stderr",
     "output_type": "stream",
     "text": [
      "\r",
      "Least Squares Iteration:  87%|████████▋ | 868/1000 [00:05<00:01, 88.89iter/s, Error=1.1418e-03]"
     ]
    },
    {
     "name": "stderr",
     "output_type": "stream",
     "text": [
      "\r",
      "Least Squares Iteration:  87%|████████▋ | 869/1000 [00:05<00:01, 88.89iter/s, Error=1.1411e-03]"
     ]
    },
    {
     "name": "stderr",
     "output_type": "stream",
     "text": [
      "\r",
      "Least Squares Iteration:  87%|████████▋ | 870/1000 [00:05<00:01, 88.89iter/s, Error=1.1404e-03]"
     ]
    },
    {
     "name": "stderr",
     "output_type": "stream",
     "text": [
      "\r",
      "Least Squares Iteration:  87%|████████▋ | 871/1000 [00:05<00:01, 88.89iter/s, Error=1.1397e-03]"
     ]
    },
    {
     "name": "stderr",
     "output_type": "stream",
     "text": [
      "\r",
      "Least Squares Iteration:  87%|████████▋ | 872/1000 [00:05<00:01, 88.89iter/s, Error=1.1390e-03]"
     ]
    },
    {
     "name": "stderr",
     "output_type": "stream",
     "text": [
      "\r",
      "Least Squares Iteration:  87%|████████▋ | 873/1000 [00:05<00:01, 88.89iter/s, Error=1.1383e-03]"
     ]
    },
    {
     "name": "stderr",
     "output_type": "stream",
     "text": [
      "\r",
      "Least Squares Iteration:  87%|████████▋ | 874/1000 [00:05<00:01, 88.89iter/s, Error=1.1376e-03]"
     ]
    },
    {
     "name": "stderr",
     "output_type": "stream",
     "text": [
      "\r",
      "Least Squares Iteration:  88%|████████▊ | 875/1000 [00:05<00:01, 88.66iter/s, Error=1.1376e-03]"
     ]
    },
    {
     "name": "stderr",
     "output_type": "stream",
     "text": [
      "\r",
      "Least Squares Iteration:  88%|████████▊ | 875/1000 [00:05<00:01, 88.66iter/s, Error=1.1369e-03]"
     ]
    },
    {
     "name": "stderr",
     "output_type": "stream",
     "text": [
      "\r",
      "Least Squares Iteration:  88%|████████▊ | 876/1000 [00:05<00:01, 88.66iter/s, Error=1.1362e-03]"
     ]
    },
    {
     "name": "stderr",
     "output_type": "stream",
     "text": [
      "\r",
      "Least Squares Iteration:  88%|████████▊ | 877/1000 [00:05<00:01, 88.66iter/s, Error=1.1355e-03]"
     ]
    },
    {
     "name": "stderr",
     "output_type": "stream",
     "text": [
      "\r",
      "Least Squares Iteration:  88%|████████▊ | 878/1000 [00:05<00:01, 88.66iter/s, Error=1.1349e-03]"
     ]
    },
    {
     "name": "stderr",
     "output_type": "stream",
     "text": [
      "\r",
      "Least Squares Iteration:  88%|████████▊ | 879/1000 [00:05<00:01, 88.66iter/s, Error=1.1342e-03]"
     ]
    },
    {
     "name": "stderr",
     "output_type": "stream",
     "text": [
      "\r",
      "Least Squares Iteration:  88%|████████▊ | 880/1000 [00:05<00:01, 88.66iter/s, Error=1.1335e-03]"
     ]
    },
    {
     "name": "stderr",
     "output_type": "stream",
     "text": [
      "\r",
      "Least Squares Iteration:  88%|████████▊ | 881/1000 [00:05<00:01, 88.66iter/s, Error=1.1328e-03]"
     ]
    },
    {
     "name": "stderr",
     "output_type": "stream",
     "text": [
      "\r",
      "Least Squares Iteration:  88%|████████▊ | 882/1000 [00:05<00:01, 88.66iter/s, Error=1.1321e-03]"
     ]
    },
    {
     "name": "stderr",
     "output_type": "stream",
     "text": [
      "\r",
      "Least Squares Iteration:  88%|████████▊ | 883/1000 [00:05<00:01, 88.66iter/s, Error=1.1314e-03]"
     ]
    },
    {
     "name": "stderr",
     "output_type": "stream",
     "text": [
      "\r",
      "Least Squares Iteration:  88%|████████▊ | 884/1000 [00:05<00:01, 88.52iter/s, Error=1.1314e-03]"
     ]
    },
    {
     "name": "stderr",
     "output_type": "stream",
     "text": [
      "\r",
      "Least Squares Iteration:  88%|████████▊ | 884/1000 [00:05<00:01, 88.52iter/s, Error=1.1307e-03]"
     ]
    },
    {
     "name": "stderr",
     "output_type": "stream",
     "text": [
      "\r",
      "Least Squares Iteration:  88%|████████▊ | 885/1000 [00:05<00:01, 88.52iter/s, Error=1.1300e-03]"
     ]
    },
    {
     "name": "stderr",
     "output_type": "stream",
     "text": [
      "\r",
      "Least Squares Iteration:  89%|████████▊ | 886/1000 [00:05<00:01, 88.52iter/s, Error=1.1293e-03]"
     ]
    },
    {
     "name": "stderr",
     "output_type": "stream",
     "text": [
      "\r",
      "Least Squares Iteration:  89%|████████▊ | 887/1000 [00:05<00:01, 88.52iter/s, Error=1.1287e-03]"
     ]
    },
    {
     "name": "stderr",
     "output_type": "stream",
     "text": [
      "\r",
      "Least Squares Iteration:  89%|████████▉ | 888/1000 [00:05<00:01, 88.52iter/s, Error=1.1280e-03]"
     ]
    },
    {
     "name": "stderr",
     "output_type": "stream",
     "text": [
      "\r",
      "Least Squares Iteration:  89%|████████▉ | 889/1000 [00:05<00:01, 88.52iter/s, Error=1.1273e-03]"
     ]
    },
    {
     "name": "stderr",
     "output_type": "stream",
     "text": [
      "\r",
      "Least Squares Iteration:  89%|████████▉ | 890/1000 [00:05<00:01, 88.52iter/s, Error=1.1266e-03]"
     ]
    },
    {
     "name": "stderr",
     "output_type": "stream",
     "text": [
      "\r",
      "Least Squares Iteration:  89%|████████▉ | 891/1000 [00:05<00:01, 88.52iter/s, Error=1.1259e-03]"
     ]
    },
    {
     "name": "stderr",
     "output_type": "stream",
     "text": [
      "\r",
      "Least Squares Iteration:  89%|████████▉ | 892/1000 [00:06<00:01, 88.52iter/s, Error=1.1253e-03]"
     ]
    },
    {
     "name": "stderr",
     "output_type": "stream",
     "text": [
      "\r",
      "Least Squares Iteration:  89%|████████▉ | 893/1000 [00:06<00:01, 87.63iter/s, Error=1.1253e-03]"
     ]
    },
    {
     "name": "stderr",
     "output_type": "stream",
     "text": [
      "\r",
      "Least Squares Iteration:  89%|████████▉ | 893/1000 [00:06<00:01, 87.63iter/s, Error=1.1246e-03]"
     ]
    },
    {
     "name": "stderr",
     "output_type": "stream",
     "text": [
      "\r",
      "Least Squares Iteration:  89%|████████▉ | 894/1000 [00:06<00:01, 87.63iter/s, Error=1.1239e-03]"
     ]
    },
    {
     "name": "stderr",
     "output_type": "stream",
     "text": [
      "\r",
      "Least Squares Iteration:  90%|████████▉ | 895/1000 [00:06<00:01, 87.63iter/s, Error=1.1232e-03]"
     ]
    },
    {
     "name": "stderr",
     "output_type": "stream",
     "text": [
      "\r",
      "Least Squares Iteration:  90%|████████▉ | 896/1000 [00:06<00:01, 87.63iter/s, Error=1.1225e-03]"
     ]
    },
    {
     "name": "stderr",
     "output_type": "stream",
     "text": [
      "\r",
      "Least Squares Iteration:  90%|████████▉ | 897/1000 [00:06<00:01, 87.63iter/s, Error=1.1219e-03]"
     ]
    },
    {
     "name": "stderr",
     "output_type": "stream",
     "text": [
      "\r",
      "Least Squares Iteration:  90%|████████▉ | 898/1000 [00:06<00:01, 87.63iter/s, Error=1.1212e-03]"
     ]
    },
    {
     "name": "stderr",
     "output_type": "stream",
     "text": [
      "\r",
      "Least Squares Iteration:  90%|████████▉ | 899/1000 [00:06<00:01, 87.63iter/s, Error=1.1205e-03]"
     ]
    },
    {
     "name": "stderr",
     "output_type": "stream",
     "text": [
      "\r",
      "Least Squares Iteration:  90%|█████████ | 900/1000 [00:06<00:01, 87.63iter/s, Error=1.1199e-03]"
     ]
    },
    {
     "name": "stderr",
     "output_type": "stream",
     "text": [
      "\r",
      "Least Squares Iteration:  90%|█████████ | 901/1000 [00:06<00:01, 87.63iter/s, Error=1.1192e-03]"
     ]
    },
    {
     "name": "stderr",
     "output_type": "stream",
     "text": [
      "\r",
      "Least Squares Iteration:  90%|█████████ | 902/1000 [00:06<00:01, 87.63iter/s, Error=1.1185e-03]"
     ]
    },
    {
     "name": "stderr",
     "output_type": "stream",
     "text": [
      "\r",
      "Least Squares Iteration:  90%|█████████ | 903/1000 [00:06<00:01, 90.42iter/s, Error=1.1185e-03]"
     ]
    },
    {
     "name": "stderr",
     "output_type": "stream",
     "text": [
      "\r",
      "Least Squares Iteration:  90%|█████████ | 903/1000 [00:06<00:01, 90.42iter/s, Error=1.1178e-03]"
     ]
    },
    {
     "name": "stderr",
     "output_type": "stream",
     "text": [
      "\r",
      "Least Squares Iteration:  90%|█████████ | 904/1000 [00:06<00:01, 90.42iter/s, Error=1.1172e-03]"
     ]
    },
    {
     "name": "stderr",
     "output_type": "stream",
     "text": [
      "\r",
      "Least Squares Iteration:  90%|█████████ | 905/1000 [00:06<00:01, 90.42iter/s, Error=1.1165e-03]"
     ]
    },
    {
     "name": "stderr",
     "output_type": "stream",
     "text": [
      "\r",
      "Least Squares Iteration:  91%|█████████ | 906/1000 [00:06<00:01, 90.42iter/s, Error=1.1158e-03]"
     ]
    },
    {
     "name": "stderr",
     "output_type": "stream",
     "text": [
      "\r",
      "Least Squares Iteration:  91%|█████████ | 907/1000 [00:06<00:01, 90.42iter/s, Error=1.1152e-03]"
     ]
    },
    {
     "name": "stderr",
     "output_type": "stream",
     "text": [
      "\r",
      "Least Squares Iteration:  91%|█████████ | 908/1000 [00:06<00:01, 90.42iter/s, Error=1.1145e-03]"
     ]
    },
    {
     "name": "stderr",
     "output_type": "stream",
     "text": [
      "\r",
      "Least Squares Iteration:  91%|█████████ | 909/1000 [00:06<00:01, 90.42iter/s, Error=1.1138e-03]"
     ]
    },
    {
     "name": "stderr",
     "output_type": "stream",
     "text": [
      "\r",
      "Least Squares Iteration:  91%|█████████ | 910/1000 [00:06<00:00, 90.42iter/s, Error=1.1132e-03]"
     ]
    },
    {
     "name": "stderr",
     "output_type": "stream",
     "text": [
      "\r",
      "Least Squares Iteration:  91%|█████████ | 911/1000 [00:06<00:00, 90.42iter/s, Error=1.1125e-03]"
     ]
    },
    {
     "name": "stderr",
     "output_type": "stream",
     "text": [
      "\r",
      "Least Squares Iteration:  91%|█████████ | 912/1000 [00:06<00:00, 90.42iter/s, Error=1.1119e-03]"
     ]
    },
    {
     "name": "stderr",
     "output_type": "stream",
     "text": [
      "\r",
      "Least Squares Iteration:  91%|█████████▏| 913/1000 [00:06<00:00, 92.22iter/s, Error=1.1119e-03]"
     ]
    },
    {
     "name": "stderr",
     "output_type": "stream",
     "text": [
      "\r",
      "Least Squares Iteration:  91%|█████████▏| 913/1000 [00:06<00:00, 92.22iter/s, Error=1.1112e-03]"
     ]
    },
    {
     "name": "stderr",
     "output_type": "stream",
     "text": [
      "\r",
      "Least Squares Iteration:  91%|█████████▏| 914/1000 [00:06<00:00, 92.22iter/s, Error=1.1105e-03]"
     ]
    },
    {
     "name": "stderr",
     "output_type": "stream",
     "text": [
      "\r",
      "Least Squares Iteration:  92%|█████████▏| 915/1000 [00:06<00:00, 92.22iter/s, Error=1.1099e-03]"
     ]
    },
    {
     "name": "stderr",
     "output_type": "stream",
     "text": [
      "\r",
      "Least Squares Iteration:  92%|█████████▏| 916/1000 [00:06<00:00, 92.22iter/s, Error=1.1092e-03]"
     ]
    },
    {
     "name": "stderr",
     "output_type": "stream",
     "text": [
      "\r",
      "Least Squares Iteration:  92%|█████████▏| 917/1000 [00:06<00:00, 92.22iter/s, Error=1.1086e-03]"
     ]
    },
    {
     "name": "stderr",
     "output_type": "stream",
     "text": [
      "\r",
      "Least Squares Iteration:  92%|█████████▏| 918/1000 [00:06<00:00, 92.22iter/s, Error=1.1079e-03]"
     ]
    },
    {
     "name": "stderr",
     "output_type": "stream",
     "text": [
      "\r",
      "Least Squares Iteration:  92%|█████████▏| 919/1000 [00:06<00:00, 92.22iter/s, Error=1.1073e-03]"
     ]
    },
    {
     "name": "stderr",
     "output_type": "stream",
     "text": [
      "\r",
      "Least Squares Iteration:  92%|█████████▏| 920/1000 [00:06<00:00, 92.22iter/s, Error=1.1066e-03]"
     ]
    },
    {
     "name": "stderr",
     "output_type": "stream",
     "text": [
      "\r",
      "Least Squares Iteration:  92%|█████████▏| 921/1000 [00:06<00:00, 92.22iter/s, Error=1.1059e-03]"
     ]
    },
    {
     "name": "stderr",
     "output_type": "stream",
     "text": [
      "\r",
      "Least Squares Iteration:  92%|█████████▏| 922/1000 [00:06<00:00, 92.22iter/s, Error=1.1053e-03]"
     ]
    },
    {
     "name": "stderr",
     "output_type": "stream",
     "text": [
      "\r",
      "Least Squares Iteration:  92%|█████████▏| 923/1000 [00:06<00:00, 89.89iter/s, Error=1.1053e-03]"
     ]
    },
    {
     "name": "stderr",
     "output_type": "stream",
     "text": [
      "\r",
      "Least Squares Iteration:  92%|█████████▏| 923/1000 [00:06<00:00, 89.89iter/s, Error=1.1046e-03]"
     ]
    },
    {
     "name": "stderr",
     "output_type": "stream",
     "text": [
      "\r",
      "Least Squares Iteration:  92%|█████████▏| 924/1000 [00:06<00:00, 89.89iter/s, Error=1.1040e-03]"
     ]
    },
    {
     "name": "stderr",
     "output_type": "stream",
     "text": [
      "\r",
      "Least Squares Iteration:  92%|█████████▎| 925/1000 [00:06<00:00, 89.89iter/s, Error=1.1033e-03]"
     ]
    },
    {
     "name": "stderr",
     "output_type": "stream",
     "text": [
      "\r",
      "Least Squares Iteration:  93%|█████████▎| 926/1000 [00:06<00:00, 89.89iter/s, Error=1.1027e-03]"
     ]
    },
    {
     "name": "stderr",
     "output_type": "stream",
     "text": [
      "\r",
      "Least Squares Iteration:  93%|█████████▎| 927/1000 [00:06<00:00, 89.89iter/s, Error=1.1020e-03]"
     ]
    },
    {
     "name": "stderr",
     "output_type": "stream",
     "text": [
      "\r",
      "Least Squares Iteration:  93%|█████████▎| 928/1000 [00:06<00:00, 89.89iter/s, Error=1.1014e-03]"
     ]
    },
    {
     "name": "stderr",
     "output_type": "stream",
     "text": [
      "\r",
      "Least Squares Iteration:  93%|█████████▎| 929/1000 [00:06<00:00, 89.89iter/s, Error=1.1007e-03]"
     ]
    },
    {
     "name": "stderr",
     "output_type": "stream",
     "text": [
      "\r",
      "Least Squares Iteration:  93%|█████████▎| 930/1000 [00:06<00:00, 89.89iter/s, Error=1.1001e-03]"
     ]
    },
    {
     "name": "stderr",
     "output_type": "stream",
     "text": [
      "\r",
      "Least Squares Iteration:  93%|█████████▎| 931/1000 [00:06<00:00, 89.89iter/s, Error=1.0995e-03]"
     ]
    },
    {
     "name": "stderr",
     "output_type": "stream",
     "text": [
      "\r",
      "Least Squares Iteration:  93%|█████████▎| 932/1000 [00:06<00:00, 89.89iter/s, Error=1.0988e-03]"
     ]
    },
    {
     "name": "stderr",
     "output_type": "stream",
     "text": [
      "\r",
      "Least Squares Iteration:  93%|█████████▎| 933/1000 [00:06<00:00, 86.99iter/s, Error=1.0988e-03]"
     ]
    },
    {
     "name": "stderr",
     "output_type": "stream",
     "text": [
      "\r",
      "Least Squares Iteration:  93%|█████████▎| 933/1000 [00:06<00:00, 86.99iter/s, Error=1.0982e-03]"
     ]
    },
    {
     "name": "stderr",
     "output_type": "stream",
     "text": [
      "\r",
      "Least Squares Iteration:  93%|█████████▎| 934/1000 [00:06<00:00, 86.99iter/s, Error=1.0975e-03]"
     ]
    },
    {
     "name": "stderr",
     "output_type": "stream",
     "text": [
      "\r",
      "Least Squares Iteration:  94%|█████████▎| 935/1000 [00:06<00:00, 86.99iter/s, Error=1.0969e-03]"
     ]
    },
    {
     "name": "stderr",
     "output_type": "stream",
     "text": [
      "\r",
      "Least Squares Iteration:  94%|█████████▎| 936/1000 [00:06<00:00, 86.99iter/s, Error=1.0962e-03]"
     ]
    },
    {
     "name": "stderr",
     "output_type": "stream",
     "text": [
      "\r",
      "Least Squares Iteration:  94%|█████████▎| 937/1000 [00:06<00:00, 86.99iter/s, Error=1.0956e-03]"
     ]
    },
    {
     "name": "stderr",
     "output_type": "stream",
     "text": [
      "\r",
      "Least Squares Iteration:  94%|█████████▍| 938/1000 [00:06<00:00, 86.99iter/s, Error=1.0950e-03]"
     ]
    },
    {
     "name": "stderr",
     "output_type": "stream",
     "text": [
      "\r",
      "Least Squares Iteration:  94%|█████████▍| 939/1000 [00:06<00:00, 86.99iter/s, Error=1.0943e-03]"
     ]
    },
    {
     "name": "stderr",
     "output_type": "stream",
     "text": [
      "\r",
      "Least Squares Iteration:  94%|█████████▍| 940/1000 [00:06<00:00, 86.99iter/s, Error=1.0937e-03]"
     ]
    },
    {
     "name": "stderr",
     "output_type": "stream",
     "text": [
      "\r",
      "Least Squares Iteration:  94%|█████████▍| 941/1000 [00:06<00:00, 86.99iter/s, Error=1.0931e-03]"
     ]
    },
    {
     "name": "stderr",
     "output_type": "stream",
     "text": [
      "\r",
      "Least Squares Iteration:  94%|█████████▍| 942/1000 [00:06<00:00, 83.14iter/s, Error=1.0931e-03]"
     ]
    },
    {
     "name": "stderr",
     "output_type": "stream",
     "text": [
      "\r",
      "Least Squares Iteration:  94%|█████████▍| 942/1000 [00:06<00:00, 83.14iter/s, Error=1.0924e-03]"
     ]
    },
    {
     "name": "stderr",
     "output_type": "stream",
     "text": [
      "\r",
      "Least Squares Iteration:  94%|█████████▍| 943/1000 [00:06<00:00, 83.14iter/s, Error=1.0918e-03]"
     ]
    },
    {
     "name": "stderr",
     "output_type": "stream",
     "text": [
      "\r",
      "Least Squares Iteration:  94%|█████████▍| 944/1000 [00:06<00:00, 83.14iter/s, Error=1.0912e-03]"
     ]
    },
    {
     "name": "stderr",
     "output_type": "stream",
     "text": [
      "\r",
      "Least Squares Iteration:  94%|█████████▍| 945/1000 [00:06<00:00, 83.14iter/s, Error=1.0905e-03]"
     ]
    },
    {
     "name": "stderr",
     "output_type": "stream",
     "text": [
      "\r",
      "Least Squares Iteration:  95%|█████████▍| 946/1000 [00:06<00:00, 83.14iter/s, Error=1.0899e-03]"
     ]
    },
    {
     "name": "stderr",
     "output_type": "stream",
     "text": [
      "\r",
      "Least Squares Iteration:  95%|█████████▍| 947/1000 [00:06<00:00, 83.14iter/s, Error=1.0893e-03]"
     ]
    },
    {
     "name": "stderr",
     "output_type": "stream",
     "text": [
      "\r",
      "Least Squares Iteration:  95%|█████████▍| 948/1000 [00:06<00:00, 83.14iter/s, Error=1.0886e-03]"
     ]
    },
    {
     "name": "stderr",
     "output_type": "stream",
     "text": [
      "\r",
      "Least Squares Iteration:  95%|█████████▍| 949/1000 [00:06<00:00, 83.14iter/s, Error=1.0880e-03]"
     ]
    },
    {
     "name": "stderr",
     "output_type": "stream",
     "text": [
      "\r",
      "Least Squares Iteration:  95%|█████████▌| 950/1000 [00:06<00:00, 83.14iter/s, Error=1.0874e-03]"
     ]
    },
    {
     "name": "stderr",
     "output_type": "stream",
     "text": [
      "\r",
      "Least Squares Iteration:  95%|█████████▌| 951/1000 [00:06<00:00, 78.01iter/s, Error=1.0874e-03]"
     ]
    },
    {
     "name": "stderr",
     "output_type": "stream",
     "text": [
      "\r",
      "Least Squares Iteration:  95%|█████████▌| 951/1000 [00:06<00:00, 78.01iter/s, Error=1.0867e-03]"
     ]
    },
    {
     "name": "stderr",
     "output_type": "stream",
     "text": [
      "\r",
      "Least Squares Iteration:  95%|█████████▌| 952/1000 [00:06<00:00, 78.01iter/s, Error=1.0861e-03]"
     ]
    },
    {
     "name": "stderr",
     "output_type": "stream",
     "text": [
      "\r",
      "Least Squares Iteration:  95%|█████████▌| 953/1000 [00:06<00:00, 78.01iter/s, Error=1.0855e-03]"
     ]
    },
    {
     "name": "stderr",
     "output_type": "stream",
     "text": [
      "\r",
      "Least Squares Iteration:  95%|█████████▌| 954/1000 [00:06<00:00, 78.01iter/s, Error=1.0849e-03]"
     ]
    },
    {
     "name": "stderr",
     "output_type": "stream",
     "text": [
      "\r",
      "Least Squares Iteration:  96%|█████████▌| 955/1000 [00:06<00:00, 78.01iter/s, Error=1.0842e-03]"
     ]
    },
    {
     "name": "stderr",
     "output_type": "stream",
     "text": [
      "\r",
      "Least Squares Iteration:  96%|█████████▌| 956/1000 [00:06<00:00, 78.01iter/s, Error=1.0836e-03]"
     ]
    },
    {
     "name": "stderr",
     "output_type": "stream",
     "text": [
      "\r",
      "Least Squares Iteration:  96%|█████████▌| 957/1000 [00:06<00:00, 78.01iter/s, Error=1.0830e-03]"
     ]
    },
    {
     "name": "stderr",
     "output_type": "stream",
     "text": [
      "\r",
      "Least Squares Iteration:  96%|█████████▌| 958/1000 [00:06<00:00, 78.01iter/s, Error=1.0824e-03]"
     ]
    },
    {
     "name": "stderr",
     "output_type": "stream",
     "text": [
      "\r",
      "Least Squares Iteration:  96%|█████████▌| 959/1000 [00:06<00:00, 78.01iter/s, Error=1.0817e-03]"
     ]
    },
    {
     "name": "stderr",
     "output_type": "stream",
     "text": [
      "\r",
      "Least Squares Iteration:  96%|█████████▌| 960/1000 [00:06<00:00, 79.14iter/s, Error=1.0817e-03]"
     ]
    },
    {
     "name": "stderr",
     "output_type": "stream",
     "text": [
      "\r",
      "Least Squares Iteration:  96%|█████████▌| 960/1000 [00:06<00:00, 79.14iter/s, Error=1.0811e-03]"
     ]
    },
    {
     "name": "stderr",
     "output_type": "stream",
     "text": [
      "\r",
      "Least Squares Iteration:  96%|█████████▌| 961/1000 [00:06<00:00, 79.14iter/s, Error=1.0805e-03]"
     ]
    },
    {
     "name": "stderr",
     "output_type": "stream",
     "text": [
      "\r",
      "Least Squares Iteration:  96%|█████████▌| 962/1000 [00:06<00:00, 79.14iter/s, Error=1.0799e-03]"
     ]
    },
    {
     "name": "stderr",
     "output_type": "stream",
     "text": [
      "\r",
      "Least Squares Iteration:  96%|█████████▋| 963/1000 [00:06<00:00, 79.14iter/s, Error=1.0793e-03]"
     ]
    },
    {
     "name": "stderr",
     "output_type": "stream",
     "text": [
      "\r",
      "Least Squares Iteration:  96%|█████████▋| 964/1000 [00:06<00:00, 79.14iter/s, Error=1.0787e-03]"
     ]
    },
    {
     "name": "stderr",
     "output_type": "stream",
     "text": [
      "\r",
      "Least Squares Iteration:  96%|█████████▋| 965/1000 [00:06<00:00, 79.14iter/s, Error=1.0780e-03]"
     ]
    },
    {
     "name": "stderr",
     "output_type": "stream",
     "text": [
      "\r",
      "Least Squares Iteration:  97%|█████████▋| 966/1000 [00:06<00:00, 79.14iter/s, Error=1.0774e-03]"
     ]
    },
    {
     "name": "stderr",
     "output_type": "stream",
     "text": [
      "\r",
      "Least Squares Iteration:  97%|█████████▋| 967/1000 [00:06<00:00, 79.14iter/s, Error=1.0768e-03]"
     ]
    },
    {
     "name": "stderr",
     "output_type": "stream",
     "text": [
      "\r",
      "Least Squares Iteration:  97%|█████████▋| 968/1000 [00:06<00:00, 79.18iter/s, Error=1.0768e-03]"
     ]
    },
    {
     "name": "stderr",
     "output_type": "stream",
     "text": [
      "\r",
      "Least Squares Iteration:  97%|█████████▋| 968/1000 [00:06<00:00, 79.18iter/s, Error=1.0762e-03]"
     ]
    },
    {
     "name": "stderr",
     "output_type": "stream",
     "text": [
      "\r",
      "Least Squares Iteration:  97%|█████████▋| 969/1000 [00:06<00:00, 79.18iter/s, Error=1.0756e-03]"
     ]
    },
    {
     "name": "stderr",
     "output_type": "stream",
     "text": [
      "\r",
      "Least Squares Iteration:  97%|█████████▋| 970/1000 [00:06<00:00, 79.18iter/s, Error=1.0750e-03]"
     ]
    },
    {
     "name": "stderr",
     "output_type": "stream",
     "text": [
      "\r",
      "Least Squares Iteration:  97%|█████████▋| 971/1000 [00:06<00:00, 79.18iter/s, Error=1.0744e-03]"
     ]
    },
    {
     "name": "stderr",
     "output_type": "stream",
     "text": [
      "\r",
      "Least Squares Iteration:  97%|█████████▋| 972/1000 [00:06<00:00, 79.18iter/s, Error=1.0737e-03]"
     ]
    },
    {
     "name": "stderr",
     "output_type": "stream",
     "text": [
      "\r",
      "Least Squares Iteration:  97%|█████████▋| 973/1000 [00:07<00:00, 79.18iter/s, Error=1.0731e-03]"
     ]
    },
    {
     "name": "stderr",
     "output_type": "stream",
     "text": [
      "\r",
      "Least Squares Iteration:  97%|█████████▋| 974/1000 [00:07<00:00, 79.18iter/s, Error=1.0725e-03]"
     ]
    },
    {
     "name": "stderr",
     "output_type": "stream",
     "text": [
      "\r",
      "Least Squares Iteration:  98%|█████████▊| 975/1000 [00:07<00:00, 79.18iter/s, Error=1.0719e-03]"
     ]
    },
    {
     "name": "stderr",
     "output_type": "stream",
     "text": [
      "\r",
      "Least Squares Iteration:  98%|█████████▊| 976/1000 [00:07<00:00, 76.36iter/s, Error=1.0719e-03]"
     ]
    },
    {
     "name": "stderr",
     "output_type": "stream",
     "text": [
      "\r",
      "Least Squares Iteration:  98%|█████████▊| 976/1000 [00:07<00:00, 76.36iter/s, Error=1.0713e-03]"
     ]
    },
    {
     "name": "stderr",
     "output_type": "stream",
     "text": [
      "\r",
      "Least Squares Iteration:  98%|█████████▊| 977/1000 [00:07<00:00, 76.36iter/s, Error=1.0707e-03]"
     ]
    },
    {
     "name": "stderr",
     "output_type": "stream",
     "text": [
      "\r",
      "Least Squares Iteration:  98%|█████████▊| 978/1000 [00:07<00:00, 76.36iter/s, Error=1.0701e-03]"
     ]
    },
    {
     "name": "stderr",
     "output_type": "stream",
     "text": [
      "\r",
      "Least Squares Iteration:  98%|█████████▊| 979/1000 [00:07<00:00, 76.36iter/s, Error=1.0695e-03]"
     ]
    },
    {
     "name": "stderr",
     "output_type": "stream",
     "text": [
      "\r",
      "Least Squares Iteration:  98%|█████████▊| 980/1000 [00:07<00:00, 76.36iter/s, Error=1.0689e-03]"
     ]
    },
    {
     "name": "stderr",
     "output_type": "stream",
     "text": [
      "\r",
      "Least Squares Iteration:  98%|█████████▊| 981/1000 [00:07<00:00, 76.36iter/s, Error=1.0683e-03]"
     ]
    },
    {
     "name": "stderr",
     "output_type": "stream",
     "text": [
      "\r",
      "Least Squares Iteration:  98%|█████████▊| 982/1000 [00:07<00:00, 76.36iter/s, Error=1.0677e-03]"
     ]
    },
    {
     "name": "stderr",
     "output_type": "stream",
     "text": [
      "\r",
      "Least Squares Iteration:  98%|█████████▊| 983/1000 [00:07<00:00, 76.36iter/s, Error=1.0671e-03]"
     ]
    },
    {
     "name": "stderr",
     "output_type": "stream",
     "text": [
      "\r",
      "Least Squares Iteration:  98%|█████████▊| 984/1000 [00:07<00:00, 70.77iter/s, Error=1.0671e-03]"
     ]
    },
    {
     "name": "stderr",
     "output_type": "stream",
     "text": [
      "\r",
      "Least Squares Iteration:  98%|█████████▊| 984/1000 [00:07<00:00, 70.77iter/s, Error=1.0665e-03]"
     ]
    },
    {
     "name": "stderr",
     "output_type": "stream",
     "text": [
      "\r",
      "Least Squares Iteration:  98%|█████████▊| 985/1000 [00:07<00:00, 70.77iter/s, Error=1.0659e-03]"
     ]
    },
    {
     "name": "stderr",
     "output_type": "stream",
     "text": [
      "\r",
      "Least Squares Iteration:  99%|█████████▊| 986/1000 [00:07<00:00, 70.77iter/s, Error=1.0653e-03]"
     ]
    },
    {
     "name": "stderr",
     "output_type": "stream",
     "text": [
      "\r",
      "Least Squares Iteration:  99%|█████████▊| 987/1000 [00:07<00:00, 70.77iter/s, Error=1.0647e-03]"
     ]
    },
    {
     "name": "stderr",
     "output_type": "stream",
     "text": [
      "\r",
      "Least Squares Iteration:  99%|█████████▉| 988/1000 [00:07<00:00, 70.77iter/s, Error=1.0641e-03]"
     ]
    },
    {
     "name": "stderr",
     "output_type": "stream",
     "text": [
      "\r",
      "Least Squares Iteration:  99%|█████████▉| 989/1000 [00:07<00:00, 70.77iter/s, Error=1.0635e-03]"
     ]
    },
    {
     "name": "stderr",
     "output_type": "stream",
     "text": [
      "\r",
      "Least Squares Iteration:  99%|█████████▉| 990/1000 [00:07<00:00, 70.77iter/s, Error=1.0629e-03]"
     ]
    },
    {
     "name": "stderr",
     "output_type": "stream",
     "text": [
      "\r",
      "Least Squares Iteration:  99%|█████████▉| 991/1000 [00:07<00:00, 70.77iter/s, Error=1.0623e-03]"
     ]
    },
    {
     "name": "stderr",
     "output_type": "stream",
     "text": [
      "\r",
      "Least Squares Iteration:  99%|█████████▉| 992/1000 [00:07<00:00, 70.37iter/s, Error=1.0623e-03]"
     ]
    },
    {
     "name": "stderr",
     "output_type": "stream",
     "text": [
      "\r",
      "Least Squares Iteration:  99%|█████████▉| 992/1000 [00:07<00:00, 70.37iter/s, Error=1.0617e-03]"
     ]
    },
    {
     "name": "stderr",
     "output_type": "stream",
     "text": [
      "\r",
      "Least Squares Iteration:  99%|█████████▉| 993/1000 [00:07<00:00, 70.37iter/s, Error=1.0611e-03]"
     ]
    },
    {
     "name": "stderr",
     "output_type": "stream",
     "text": [
      "\r",
      "Least Squares Iteration:  99%|█████████▉| 994/1000 [00:07<00:00, 70.37iter/s, Error=1.0605e-03]"
     ]
    },
    {
     "name": "stderr",
     "output_type": "stream",
     "text": [
      "\r",
      "Least Squares Iteration: 100%|█████████▉| 995/1000 [00:07<00:00, 70.37iter/s, Error=1.0599e-03]"
     ]
    },
    {
     "name": "stderr",
     "output_type": "stream",
     "text": [
      "\r",
      "Least Squares Iteration: 100%|█████████▉| 996/1000 [00:07<00:00, 70.37iter/s, Error=1.0593e-03]"
     ]
    },
    {
     "name": "stderr",
     "output_type": "stream",
     "text": [
      "\r",
      "Least Squares Iteration: 100%|█████████▉| 997/1000 [00:07<00:00, 70.37iter/s, Error=1.0587e-03]"
     ]
    },
    {
     "name": "stderr",
     "output_type": "stream",
     "text": [
      "\r",
      "Least Squares Iteration: 100%|█████████▉| 998/1000 [00:07<00:00, 70.37iter/s, Error=1.0581e-03]"
     ]
    },
    {
     "name": "stderr",
     "output_type": "stream",
     "text": [
      "\r",
      "Least Squares Iteration: 100%|█████████▉| 999/1000 [00:07<00:00, 70.37iter/s, Error=1.0575e-03]"
     ]
    },
    {
     "name": "stderr",
     "output_type": "stream",
     "text": [
      "\r",
      "Least Squares Iteration: 100%|██████████| 1000/1000 [00:07<00:00, 70.45iter/s, Error=1.0575e-03]"
     ]
    },
    {
     "name": "stderr",
     "output_type": "stream",
     "text": [
      "\r",
      "Least Squares Iteration: 100%|██████████| 1000/1000 [00:07<00:00, 135.15iter/s, Error=1.0575e-03]"
     ]
    },
    {
     "name": "stderr",
     "output_type": "stream",
     "text": [
      "\n"
     ]
    },
    {
     "data": {
      "image/png": "[encoded data removed]",
      "text/plain": [
       "<Figure size 576x288 with 2 Axes>"
      ]
     },
     "metadata": {
      "image/png": {
       "height": 287,
       "width": 548
      }
     },
     "output_type": "display_data"
    }
   ],
   "source": [
    "from tqdm import tqdm\n",
    "\n",
    "def least_squares_sol(x0, b, Amv, Amv_adjoint, max_iter=1000, alpha=1e-3, tol=1e-6):\n",
    "    \"\"\"\n",
    "    Solves the least squares problem using gradient descent with progress tracking.\n",
    "\n",
    "    Parameters:\n",
    "    - x0 (torch.Tensor): Initial guess for the solution.\n",
    "    - b (torch.Tensor): Observation vector.\n",
    "    - Amv (callable): Function to compute A @ x.\n",
    "    - Amv_adjoint (callable): Function to compute A^T @ v.\n",
    "    - max_iter (int): Maximum number of iterations.\n",
    "    - alpha (float): Learning rate.\n",
    "    - tol (float): Tolerance for convergence.\n",
    "\n",
    "    Returns:\n",
    "    - x (torch.Tensor): Approximated solution vector.\n",
    "    \"\"\"\n",
    "    x = x0.clone()\n",
    "    x.requires_grad = True\n",
    "    b_noisy = b.clone() + 0.01 * torch.randn_like(b)\n",
    "\n",
    "    # Initialize the progress bar\n",
    "    with tqdm(total=max_iter, desc='Least Squares Iteration', unit='iter') as pbar:\n",
    "        for i in range(max_iter):\n",
    "            # Gradient descent update\n",
    "            residual = Amv(x) - b_noisy\n",
    "            gradient = Amv_adjoint(residual)\n",
    "            xnext = x - alpha * gradient\n",
    "\n",
    "            # Compute relative error\n",
    "            error = torch.norm(xnext - x) \n",
    "\n",
    "            # Update the progress bar with the current error\n",
    "            pbar.set_postfix({'Error': f'{error.item():.4e}'})\n",
    "            pbar.update(1);\n",
    "\n",
    "            # Check for convergence\n",
    "            if error < tol:\n",
    "                pbar.write(f'Converged at iteration {i+1} with error {error.item():.4e}')\n",
    "                x = xnext\n",
    "                break\n",
    "\n",
    "            x = xnext\n",
    "\n",
    "    return x\n",
    "\n",
    "b = Amv(x)\n",
    "x0 = torch.zeros_like(x)\n",
    "xhat = least_squares_sol(x0, b, Amv, Amv_adjoint, max_iter=1000, alpha=1, tol=1e-6)\n",
    "\n",
    "plt.figure(figsize=(6,3))\n",
    "plt.subplot(1, 2, 1)\n",
    "plt.imshow(x[0, 0], cmap='viridis', vmin=-1, vmax=1)\n",
    "plt.title('Original Image')\n",
    "plt.axis('off')\n",
    "plt.subplot(1, 2, 2)\n",
    "plt.imshow(xhat.detach().numpy()[0, 0], cmap='viridis', vmin=-1, vmax=1)\n",
    "plt.title('Recovered Image')\n",
    "plt.axis('off')\n",
    "plt.tight_layout()\n",
    "plt.show()"
   ]
  }
 ],
 "metadata": {
  "kernelspec": {
   "display_name": "Python (ml)",
   "language": "python",
   "name": "ml",
   "path": "C:\\Users\\sghys\\AppData\\Roaming\\jupyter\\kernels\\ml"
  },
  "language_info": {
   "codemirror_mode": {
    "name": "ipython",
    "version": 3
   },
   "file_extension": ".py",
   "mimetype": "text/x-python",
   "name": "python",
   "nbconvert_exporter": "python",
   "pygments_lexer": "ipython3",
   "version": "3.12.4"
  }
 },
 "nbformat": 4,
 "nbformat_minor": 5
}