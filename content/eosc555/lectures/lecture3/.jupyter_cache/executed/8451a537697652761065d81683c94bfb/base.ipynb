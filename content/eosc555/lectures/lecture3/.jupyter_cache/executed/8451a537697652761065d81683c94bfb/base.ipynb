{
 "cells": [
  {
   "cell_type": "code",
   "execution_count": 1,
   "id": "cf824241",
   "metadata": {},
   "outputs": [
    {
     "name": "stderr",
     "output_type": "stream",
     "text": [
      "C:\\Users\\sghys\\AppData\\Local\\Temp\\ipykernel_27404\\2406774753.py:25: DeprecationWarning: `set_matplotlib_formats` is deprecated since IPython 7.23, directly use `matplotlib_inline.backend_inline.set_matplotlib_formats()`\n",
      "  set_matplotlib_formats(fig_format)\n"
     ]
    },
    {
     "name": "stdout",
     "output_type": "stream",
     "text": [
      "{\"C:\\\\Users\\\\sghys\\\\miniconda3\\\\envs\\\\ml\\\\Lib\\\\importlib\\\\_bootstrap.py\": 1712046304.0, \"C:\\\\Users\\\\sghys\\\\miniconda3\\\\envs\\\\ml\\\\Lib\\\\importlib\\\\_bootstrap_external.py\": 1712046304.0, \"C:\\\\Users\\\\sghys\\\\miniconda3\\\\envs\\\\ml\\\\Lib\\\\zipimport.py\": 1712046304.0, \"C:\\\\Users\\\\sghys\\\\miniconda3\\\\envs\\\\ml\\\\Lib\\\\codecs.py\": 1712046304.0, \"C:\\\\Users\\\\sghys\\\\miniconda3\\\\envs\\\\ml\\\\Lib\\\\encodings\\\\aliases.py\": 1712046304.0, \"C:\\\\Users\\\\sghys\\\\miniconda3\\\\envs\\\\ml\\\\Lib\\\\encodings\\\\__init__.py\": 1712046304.0, \"C:\\\\Users\\\\sghys\\\\miniconda3\\\\envs\\\\ml\\\\Lib\\\\encodings\\\\utf_8.py\": 1712046304.0, \"C:\\\\Users\\\\sghys\\\\miniconda3\\\\envs\\\\ml\\\\Lib\\\\encodings\\\\cp1252.py\": 1712046304.0, \"C:\\\\Users\\\\sghys\\\\miniconda3\\\\envs\\\\ml\\\\Lib\\\\abc.py\": 1712046304.0, \"C:\\\\Users\\\\sghys\\\\miniconda3\\\\envs\\\\ml\\\\Lib\\\\io.py\": 1712046304.0, \"C:\\\\Users\\\\sghys\\\\miniconda3\\\\envs\\\\ml\\\\Lib\\\\stat.py\": 1712046304.0, \"C:\\\\Users\\\\sghys\\\\miniconda3\\\\envs\\\\ml\\\\Lib\\\\_collections_abc.py\": 1712046304.0, \"C:\\\\Users\\\\sghys\\\\miniconda3\\\\envs\\\\ml\\\\Lib\\\\genericpath.py\": 1712046304.0, \"C:\\\\Users\\\\sghys\\\\miniconda3\\\\envs\\\\ml\\\\Lib\\\\ntpath.py\": 1712046304.0, \"C:\\\\Users\\\\sghys\\\\miniconda3\\\\envs\\\\ml\\\\Lib\\\\os.py\": 1712046304.0, \"C:\\\\Users\\\\sghys\\\\miniconda3\\\\envs\\\\ml\\\\Lib\\\\_sitebuiltins.py\": 1712046304.0, \"C:\\\\Users\\\\sghys\\\\miniconda3\\\\envs\\\\ml\\\\Lib\\\\site-packages\\\\_distutils_hack\\\\__init__.py\": 1713042365.0, \"C:\\\\Users\\\\sghys\\\\miniconda3\\\\envs\\\\ml\\\\Lib\\\\types.py\": 1712046304.0, \"C:\\\\Users\\\\sghys\\\\miniconda3\\\\envs\\\\ml\\\\Lib\\\\warnings.py\": 1712046304.0, \"C:\\\\Users\\\\sghys\\\\miniconda3\\\\envs\\\\ml\\\\Lib\\\\importlib\\\\__init__.py\": 1712046304.0, \"C:\\\\Users\\\\sghys\\\\miniconda3\\\\envs\\\\ml\\\\Lib\\\\importlib\\\\_abc.py\": 1712046304.0, \"C:\\\\Users\\\\sghys\\\\miniconda3\\\\envs\\\\ml\\\\Lib\\\\keyword.py\": 1712046304.0, \"C:\\\\Users\\\\sghys\\\\miniconda3\\\\envs\\\\ml\\\\Lib\\\\operator.py\": 1712046304.0, \"C:\\\\Users\\\\sghys\\\\miniconda3\\\\envs\\\\ml\\\\Lib\\\\reprlib.py\": 1712046304.0, \"C:\\\\Users\\\\sghys\\\\miniconda3\\\\envs\\\\ml\\\\Lib\\\\collections\\\\__init__.py\": 1712046304.0, \"C:\\\\Users\\\\sghys\\\\miniconda3\\\\envs\\\\ml\\\\Lib\\\\functools.py\": 1712046304.0, \"C:\\\\Users\\\\sghys\\\\miniconda3\\\\envs\\\\ml\\\\Lib\\\\contextlib.py\": 1712046304.0, \"C:\\\\Users\\\\sghys\\\\miniconda3\\\\envs\\\\ml\\\\Lib\\\\_weakrefset.py\": 1712046304.0, \"C:\\\\Users\\\\sghys\\\\miniconda3\\\\envs\\\\ml\\\\Lib\\\\threading.py\": 1712046304.0, \"C:\\\\Users\\\\sghys\\\\miniconda3\\\\envs\\\\ml\\\\Lib\\\\importlib\\\\util.py\": 1712046304.0, \"C:\\\\Users\\\\sghys\\\\miniconda3\\\\envs\\\\ml\\\\Lib\\\\importlib\\\\machinery.py\": 1712046304.0, \"C:\\\\Users\\\\sghys\\\\miniconda3\\\\envs\\\\ml\\\\Lib\\\\site-packages\\\\mpl_toolkits\\\\__init__.py\": 1724350803.5677621, \"C:\\\\Users\\\\sghys\\\\miniconda3\\\\envs\\\\ml\\\\Lib\\\\site-packages\\\\win32\\\\lib\\\\pywin32_bootstrap.py\": 1720913248.4387605, \"C:\\\\Users\\\\sghys\\\\miniconda3\\\\envs\\\\ml\\\\Lib\\\\site.py\": 1712046304.0, \"C:\\\\Users\\\\sghys\\\\miniconda3\\\\envs\\\\ml\\\\Lib\\\\runpy.py\": 1712046304.0, \"C:\\\\Users\\\\sghys\\\\miniconda3\\\\envs\\\\ml\\\\Lib\\\\posixpath.py\": 1712046304.0, \"C:\\\\Users\\\\sghys\\\\miniconda3\\\\envs\\\\ml\\\\Lib\\\\enum.py\": 1712046304.0, \"C:\\\\Users\\\\sghys\\\\miniconda3\\\\envs\\\\ml\\\\Lib\\\\re\\\\_constants.py\": 1712046304.0, \"C:\\\\Users\\\\sghys\\\\miniconda3\\\\envs\\\\ml\\\\Lib\\\\re\\\\_parser.py\": 1712046304.0, \"C:\\\\Users\\\\sghys\\\\miniconda3\\\\envs\\\\ml\\\\Lib\\\\re\\\\_casefix.py\": 1712046304.0, \"C:\\\\Users\\\\sghys\\\\miniconda3\\\\envs\\\\ml\\\\Lib\\\\re\\\\_compiler.py\": 1712046304.0, \"C:\\\\Users\\\\sghys\\\\miniconda3\\\\envs\\\\ml\\\\Lib\\\\copyreg.py\": 1712046304.0, \"C:\\\\Users\\\\sghys\\\\miniconda3\\\\envs\\\\ml\\\\Lib\\\\re\\\\__init__.py\": 1712046304.0, \"C:\\\\Users\\\\sghys\\\\miniconda3\\\\envs\\\\ml\\\\Lib\\\\fnmatch.py\": 1712046304.0, \"C:\\\\Users\\\\sghys\\\\miniconda3\\\\envs\\\\ml\\\\Lib\\\\urllib\\\\__init__.py\": 1712046304.0, \"C:\\\\Users\\\\sghys\\\\miniconda3\\\\envs\\\\ml\\\\Lib\\\\ipaddress.py\": 1712046304.0, \"C:\\\\Users\\\\sghys\\\\miniconda3\\\\envs\\\\ml\\\\Lib\\\\urllib\\\\parse.py\": 1712046304.0, \"C:\\\\Users\\\\sghys\\\\miniconda3\\\\envs\\\\ml\\\\Lib\\\\pathlib.py\": 1712046304.0, \"C:\\\\Users\\\\sghys\\\\miniconda3\\\\envs\\\\ml\\\\Lib\\\\collections\\\\abc.py\": 1712046304.0, \"C:\\\\Users\\\\sghys\\\\miniconda3\\\\envs\\\\ml\\\\Lib\\\\typing.py\": 1712046304.0, \"C:\\\\Users\\\\sghys\\\\miniconda3\\\\envs\\\\ml\\\\Lib\\\\site-packages\\\\ipykernel\\\\_version.py\": 1720913265.6181867, \"C:\\\\Users\\\\sghys\\\\miniconda3\\\\envs\\\\ml\\\\Lib\\\\__future__.py\": 1712046304.0, \"C:\\\\Users\\\\sghys\\\\miniconda3\\\\envs\\\\ml\\\\Lib\\\\json\\\\scanner.py\": 1712046304.0, \"C:\\\\Users\\\\sghys\\\\miniconda3\\\\envs\\\\ml\\\\Lib\\\\json\\\\decoder.py\": 1712046304.0, \"C:\\\\Users\\\\sghys\\\\miniconda3\\\\envs\\\\ml\\\\Lib\\\\json\\\\encoder.py\": 1712046304.0, \"C:\\\\Users\\\\sghys\\\\miniconda3\\\\envs\\\\ml\\\\Lib\\\\json\\\\__init__.py\": 1712046304.0, \"C:\\\\Users\\\\sghys\\\\miniconda3\\\\envs\\\\ml\\\\Lib\\\\locale.py\": 1712046304.0, \"C:\\\\Users\\\\sghys\\\\miniconda3\\\\envs\\\\ml\\\\Lib\\\\signal.py\": 1712046304.0, \"C:\\\\Users\\\\sghys\\\\miniconda3\\\\envs\\\\ml\\\\Lib\\\\subprocess.py\": 1712046304.0, \"C:\\\\Users\\\\sghys\\\\miniconda3\\\\envs\\\\ml\\\\Lib\\\\site-packages\\\\jupyter_client\\\\_version.py\": 1720913261.6991906, \"C:\\\\Users\\\\sghys\\\\miniconda3\\\\envs\\\\ml\\\\Lib\\\\platform.py\": 1713544750.7991009, \"C:\\\\Users\\\\sghys\\\\miniconda3\\\\envs\\\\ml\\\\Lib\\\\site-packages\\\\zmq\\\\backend\\\\select.py\": 1720913250.7112627, \"C:\\\\Users\\\\sghys\\\\miniconda3\\\\envs\\\\ml\\\\Lib\\\\weakref.py\": 1712046304.0, \"C:\\\\Users\\\\sghys\\\\miniconda3\\\\envs\\\\ml\\\\Lib\\\\site-packages\\\\zmq\\\\constants.py\": 1720913250.7042625, \"C:\\\\Users\\\\sghys\\\\miniconda3\\\\envs\\\\ml\\\\Lib\\\\site-packages\\\\zmq\\\\error.py\": 1720913250.7052622, \"C:\\\\Users\\\\sghys\\\\miniconda3\\\\envs\\\\ml\\\\Lib\\\\site-packages\\\\zmq\\\\backend\\\\cython\\\\_zmq.cp311-win_amd64.pyd\": 1720913250.7232628, \"C:\\\\Users\\\\sghys\\\\miniconda3\\\\envs\\\\ml\\\\Lib\\\\site-packages\\\\zmq\\\\backend\\\\cython\\\\__init__.py\": 1720913250.7252617, \"C:\\\\Users\\\\sghys\\\\miniconda3\\\\envs\\\\ml\\\\Lib\\\\site-packages\\\\zmq\\\\backend\\\\__init__.py\": 1720913250.7122633, \"C:\\\\Users\\\\sghys\\\\miniconda3\\\\envs\\\\ml\\\\Lib\\\\site-packages\\\\zmq\\\\_typing.py\": 1720913250.7062614, \"C:\\\\Users\\\\sghys\\\\miniconda3\\\\envs\\\\ml\\\\Lib\\\\site-packages\\\\zmq\\\\utils\\\\__init__.py\": 1720913250.765266, \"C:\\\\Users\\\\sghys\\\\miniconda3\\\\envs\\\\ml\\\\Lib\\\\site-packages\\\\zmq\\\\utils\\\\interop.py\": 1720913250.7612667, \"C:\\\\Users\\\\sghys\\\\miniconda3\\\\envs\\\\ml\\\\Lib\\\\site-packages\\\\zmq\\\\sugar\\\\attrsettr.py\": 1720913250.7372622, \"C:\\\\Users\\\\sghys\\\\miniconda3\\\\envs\\\\ml\\\\Lib\\\\struct.py\": 1712046304.0, \"C:\\\\Users\\\\sghys\\\\miniconda3\\\\envs\\\\ml\\\\Lib\\\\_compat_pickle.py\": 1712046304.0, \"C:\\\\Users\\\\sghys\\\\miniconda3\\\\envs\\\\ml\\\\Lib\\\\pickle.py\": 1712046304.0, \"C:\\\\Users\\\\sghys\\\\miniconda3\\\\envs\\\\ml\\\\Lib\\\\bisect.py\": 1712046304.0, \"C:\\\\Users\\\\sghys\\\\miniconda3\\\\envs\\\\ml\\\\Lib\\\\random.py\": 1712046304.0, \"C:\\\\Users\\\\sghys\\\\miniconda3\\\\envs\\\\ml\\\\Lib\\\\site-packages\\\\zmq\\\\utils\\\\jsonapi.py\": 1720913250.762266, \"C:\\\\Users\\\\sghys\\\\miniconda3\\\\envs\\\\ml\\\\Lib\\\\site-packages\\\\zmq\\\\sugar\\\\poll.py\": 1720913250.738266, \"C:\\\\Users\\\\sghys\\\\miniconda3\\\\envs\\\\ml\\\\Lib\\\\site-packages\\\\zmq\\\\sugar\\\\socket.py\": 1720913250.739262, \"C:\\\\Users\\\\sghys\\\\miniconda3\\\\envs\\\\ml\\\\Lib\\\\site-packages\\\\zmq\\\\sugar\\\\context.py\": 1720913250.7372622, \"C:\\\\Users\\\\sghys\\\\miniconda3\\\\envs\\\\ml\\\\Lib\\\\site-packages\\\\zmq\\\\sugar\\\\frame.py\": 1720913250.738266, \"C:\\\\Users\\\\sghys\\\\miniconda3\\\\envs\\\\ml\\\\Lib\\\\site-packages\\\\zmq\\\\sugar\\\\tracker.py\": 1720913250.7402608, \"C:\\\\Users\\\\sghys\\\\miniconda3\\\\envs\\\\ml\\\\Lib\\\\site-packages\\\\zmq\\\\sugar\\\\version.py\": 1720913250.7402608, \"C:\\\\Users\\\\sghys\\\\miniconda3\\\\envs\\\\ml\\\\Lib\\\\site-packages\\\\zmq\\\\sugar\\\\stopwatch.py\": 1720913250.739262, \"C:\\\\Users\\\\sghys\\\\miniconda3\\\\envs\\\\ml\\\\Lib\\\\site-packages\\\\zmq\\\\sugar\\\\__init__.py\": 1720913250.741262, \"C:\\\\Users\\\\sghys\\\\miniconda3\\\\envs\\\\ml\\\\Lib\\\\site-packages\\\\zmq\\\\__init__.py\": 1720913250.707261, \"C:\\\\Users\\\\sghys\\\\miniconda3\\\\envs\\\\ml\\\\Lib\\\\concurrent\\\\__init__.py\": 1712046304.0, \"C:\\\\Users\\\\sghys\\\\miniconda3\\\\envs\\\\ml\\\\Lib\\\\token.py\": 1712046304.0, \"C:\\\\Users\\\\sghys\\\\miniconda3\\\\envs\\\\ml\\\\Lib\\\\tokenize.py\": 1712046304.0, \"C:\\\\Users\\\\sghys\\\\miniconda3\\\\envs\\\\ml\\\\Lib\\\\linecache.py\": 1712046304.0, \"C:\\\\Users\\\\sghys\\\\miniconda3\\\\envs\\\\ml\\\\Lib\\\\textwrap.py\": 1712046304.0, \"C:\\\\Users\\\\sghys\\\\miniconda3\\\\envs\\\\ml\\\\Lib\\\\traceback.py\": 1712046304.0, \"C:\\\\Users\\\\sghys\\\\miniconda3\\\\envs\\\\ml\\\\Lib\\\\string.py\": 1712046304.0, \"C:\\\\Users\\\\sghys\\\\miniconda3\\\\envs\\\\ml\\\\Lib\\\\logging\\\\__init__.py\": 1712046304.0, \"C:\\\\Users\\\\sghys\\\\miniconda3\\\\envs\\\\ml\\\\Lib\\\\concurrent\\\\futures\\\\_base.py\": 1712046304.0, \"C:\\\\Users\\\\sghys\\\\miniconda3\\\\envs\\\\ml\\\\Lib\\\\concurrent\\\\futures\\\\__init__.py\": 1712046304.0, \"C:\\\\Users\\\\sghys\\\\miniconda3\\\\envs\\\\ml\\\\Lib\\\\heapq.py\": 1712046304.0, \"C:\\\\Users\\\\sghys\\\\miniconda3\\\\envs\\\\ml\\\\DLLs\\\\_socket.pyd\": 1713545362.0732257, \"C:\\\\Users\\\\sghys\\\\miniconda3\\\\envs\\\\ml\\\\DLLs\\\\select.pyd\": 1713545321.9013052, \"C:\\\\Users\\\\sghys\\\\miniconda3\\\\envs\\\\ml\\\\Lib\\\\selectors.py\": 1712046304.0, \"C:\\\\Users\\\\sghys\\\\miniconda3\\\\envs\\\\ml\\\\Lib\\\\socket.py\": 1712046304.0, \"C:\\\\Users\\\\sghys\\\\miniconda3\\\\envs\\\\ml\\\\DLLs\\\\_ssl.pyd\": 1713545366.7251625, \"C:\\\\Users\\\\sghys\\\\miniconda3\\\\envs\\\\ml\\\\Lib\\\\base64.py\": 1712046304.0, \"C:\\\\Users\\\\sghys\\\\miniconda3\\\\envs\\\\ml\\\\Lib\\\\ssl.py\": 1712046304.0, \"C:\\\\Users\\\\sghys\\\\miniconda3\\\\envs\\\\ml\\\\Lib\\\\asyncio\\\\constants.py\": 1712046304.0, \"C:\\\\Users\\\\sghys\\\\miniconda3\\\\envs\\\\ml\\\\Lib\\\\ast.py\": 1712046304.0, \"C:\\\\Users\\\\sghys\\\\miniconda3\\\\envs\\\\ml\\\\Lib\\\\opcode.py\": 1712046304.0, \"C:\\\\Users\\\\sghys\\\\miniconda3\\\\envs\\\\ml\\\\Lib\\\\dis.py\": 1712046304.0, \"C:\\\\Users\\\\sghys\\\\miniconda3\\\\envs\\\\ml\\\\Lib\\\\inspect.py\": 1712046304.0, \"C:\\\\Users\\\\sghys\\\\miniconda3\\\\envs\\\\ml\\\\Lib\\\\asyncio\\\\coroutines.py\": 1712046304.0, \"C:\\\\Users\\\\sghys\\\\miniconda3\\\\envs\\\\ml\\\\Lib\\\\contextvars.py\": 1712046304.0, \"C:\\\\Users\\\\sghys\\\\miniconda3\\\\envs\\\\ml\\\\Lib\\\\asyncio\\\\format_helpers.py\": 1712046304.0, \"C:\\\\Users\\\\sghys\\\\miniconda3\\\\envs\\\\ml\\\\Lib\\\\asyncio\\\\base_futures.py\": 1712046304.0, \"C:\\\\Users\\\\sghys\\\\miniconda3\\\\envs\\\\ml\\\\Lib\\\\asyncio\\\\exceptions.py\": 1712046304.0, \"C:\\\\Users\\\\sghys\\\\miniconda3\\\\envs\\\\ml\\\\Lib\\\\asyncio\\\\base_tasks.py\": 1712046304.0, \"C:\\\\Users\\\\sghys\\\\miniconda3\\\\envs\\\\ml\\\\DLLs\\\\_asyncio.pyd\": 1713545333.8903904, \"C:\\\\Users\\\\sghys\\\\miniconda3\\\\envs\\\\ml\\\\Lib\\\\asyncio\\\\events.py\": 1712046304.0, \"C:\\\\Users\\\\sghys\\\\miniconda3\\\\envs\\\\ml\\\\Lib\\\\asyncio\\\\futures.py\": 1712046304.0, \"C:\\\\Users\\\\sghys\\\\miniconda3\\\\envs\\\\ml\\\\Lib\\\\asyncio\\\\protocols.py\": 1712046304.0, \"C:\\\\Users\\\\sghys\\\\miniconda3\\\\envs\\\\ml\\\\Lib\\\\asyncio\\\\transports.py\": 1712046304.0, \"C:\\\\Users\\\\sghys\\\\miniconda3\\\\envs\\\\ml\\\\Lib\\\\asyncio\\\\log.py\": 1712046304.0, \"C:\\\\Users\\\\sghys\\\\miniconda3\\\\envs\\\\ml\\\\Lib\\\\asyncio\\\\sslproto.py\": 1712046304.0, \"C:\\\\Users\\\\sghys\\\\miniconda3\\\\envs\\\\ml\\\\Lib\\\\asyncio\\\\mixins.py\": 1712046304.0, \"C:\\\\Users\\\\sghys\\\\miniconda3\\\\envs\\\\ml\\\\Lib\\\\asyncio\\\\tasks.py\": 1712046304.0, \"C:\\\\Users\\\\sghys\\\\miniconda3\\\\envs\\\\ml\\\\Lib\\\\asyncio\\\\locks.py\": 1712046304.0, \"C:\\\\Users\\\\sghys\\\\miniconda3\\\\envs\\\\ml\\\\Lib\\\\asyncio\\\\staggered.py\": 1712046304.0, \"C:\\\\Users\\\\sghys\\\\miniconda3\\\\envs\\\\ml\\\\Lib\\\\asyncio\\\\trsock.py\": 1712046304.0, \"C:\\\\Users\\\\sghys\\\\miniconda3\\\\envs\\\\ml\\\\Lib\\\\asyncio\\\\base_events.py\": 1712046304.0, \"C:\\\\Users\\\\sghys\\\\miniconda3\\\\envs\\\\ml\\\\Lib\\\\asyncio\\\\runners.py\": 1712046304.0, \"C:\\\\Users\\\\sghys\\\\miniconda3\\\\envs\\\\ml\\\\Lib\\\\asyncio\\\\queues.py\": 1712046304.0, \"C:\\\\Users\\\\sghys\\\\miniconda3\\\\envs\\\\ml\\\\Lib\\\\asyncio\\\\streams.py\": 1712046304.0, \"C:\\\\Users\\\\sghys\\\\miniconda3\\\\envs\\\\ml\\\\Lib\\\\asyncio\\\\subprocess.py\": 1712046304.0, \"C:\\\\Users\\\\sghys\\\\miniconda3\\\\envs\\\\ml\\\\Lib\\\\asyncio\\\\taskgroups.py\": 1712046304.0, \"C:\\\\Users\\\\sghys\\\\miniconda3\\\\envs\\\\ml\\\\Lib\\\\asyncio\\\\timeouts.py\": 1712046304.0, \"C:\\\\Users\\\\sghys\\\\miniconda3\\\\envs\\\\ml\\\\Lib\\\\asyncio\\\\threads.py\": 1712046304.0, \"C:\\\\Users\\\\sghys\\\\miniconda3\\\\envs\\\\ml\\\\DLLs\\\\_overlapped.pyd\": 1713545357.6942816, \"C:\\\\Users\\\\sghys\\\\miniconda3\\\\envs\\\\ml\\\\Lib\\\\asyncio\\\\base_subprocess.py\": 1712046304.0, \"C:\\\\Users\\\\sghys\\\\miniconda3\\\\envs\\\\ml\\\\Lib\\\\asyncio\\\\proactor_events.py\": 1712046304.0, \"C:\\\\Users\\\\sghys\\\\miniconda3\\\\envs\\\\ml\\\\Lib\\\\asyncio\\\\selector_events.py\": 1712046304.0, \"C:\\\\Users\\\\sghys\\\\miniconda3\\\\envs\\\\ml\\\\Lib\\\\_compression.py\": 1712046304.0, \"C:\\\\Users\\\\sghys\\\\miniconda3\\\\envs\\\\ml\\\\DLLs\\\\_bz2.pyd\": 1713545336.1420155, \"C:\\\\Users\\\\sghys\\\\miniconda3\\\\envs\\\\ml\\\\Lib\\\\bz2.py\": 1712046304.0, \"C:\\\\Users\\\\sghys\\\\miniconda3\\\\envs\\\\ml\\\\DLLs\\\\_lzma.pyd\": 1713545350.3058076, \"C:\\\\Users\\\\sghys\\\\miniconda3\\\\envs\\\\ml\\\\Lib\\\\lzma.py\": 1712046304.0, \"C:\\\\Users\\\\sghys\\\\miniconda3\\\\envs\\\\ml\\\\Lib\\\\shutil.py\": 1712046304.0, \"C:\\\\Users\\\\sghys\\\\miniconda3\\\\envs\\\\ml\\\\Lib\\\\tempfile.py\": 1712046304.0, \"C:\\\\Users\\\\sghys\\\\miniconda3\\\\envs\\\\ml\\\\Lib\\\\asyncio\\\\windows_utils.py\": 1712046304.0, \"C:\\\\Users\\\\sghys\\\\miniconda3\\\\envs\\\\ml\\\\Lib\\\\asyncio\\\\windows_events.py\": 1712046304.0, \"C:\\\\Users\\\\sghys\\\\miniconda3\\\\envs\\\\ml\\\\Lib\\\\asyncio\\\\__init__.py\": 1712046304.0, \"C:\\\\Users\\\\sghys\\\\miniconda3\\\\envs\\\\ml\\\\Lib\\\\site-packages\\\\zmq\\\\_future.py\": 1720913250.7062614, \"C:\\\\Users\\\\sghys\\\\miniconda3\\\\envs\\\\ml\\\\Lib\\\\site-packages\\\\zmq\\\\asyncio.py\": 1720913250.7042625, \"C:\\\\Users\\\\sghys\\\\miniconda3\\\\envs\\\\ml\\\\Lib\\\\site-packages\\\\traitlets\\\\utils\\\\__init__.py\": 1720913250.1005788, \"C:\\\\Users\\\\sghys\\\\miniconda3\\\\envs\\\\ml\\\\Lib\\\\site-packages\\\\traitlets\\\\utils\\\\bunch.py\": 1720913250.1005788, \"C:\\\\Users\\\\sghys\\\\miniconda3\\\\envs\\\\ml\\\\Lib\\\\site-packages\\\\traitlets\\\\utils\\\\descriptions.py\": 1720913250.1015794, \"C:\\\\Users\\\\sghys\\\\miniconda3\\\\envs\\\\ml\\\\Lib\\\\site-packages\\\\traitlets\\\\utils\\\\getargspec.py\": 1720913250.1025777, \"C:\\\\Users\\\\sghys\\\\miniconda3\\\\envs\\\\ml\\\\Lib\\\\site-packages\\\\traitlets\\\\utils\\\\importstring.py\": 1720913250.1025777, \"C:\\\\Users\\\\sghys\\\\miniconda3\\\\envs\\\\ml\\\\Lib\\\\site-packages\\\\traitlets\\\\utils\\\\sentinel.py\": 1720913250.1035788, \"C:\\\\Users\\\\sghys\\\\miniconda3\\\\envs\\\\ml\\\\Lib\\\\site-packages\\\\traitlets\\\\utils\\\\warnings.py\": 1720913250.1035788, \"C:\\\\Users\\\\sghys\\\\miniconda3\\\\envs\\\\ml\\\\Lib\\\\site-packages\\\\traitlets\\\\traitlets.py\": 1720913250.0955782, \"C:\\\\Users\\\\sghys\\\\miniconda3\\\\envs\\\\ml\\\\Lib\\\\site-packages\\\\traitlets\\\\_version.py\": 1720913250.09358, \"C:\\\\Users\\\\sghys\\\\miniconda3\\\\envs\\\\ml\\\\Lib\\\\copy.py\": 1712046304.0, \"C:\\\\Users\\\\sghys\\\\miniconda3\\\\envs\\\\ml\\\\Lib\\\\site-packages\\\\traitlets\\\\utils\\\\decorators.py\": 1720913250.1015794, \"C:\\\\Users\\\\sghys\\\\miniconda3\\\\envs\\\\ml\\\\Lib\\\\site-packages\\\\traitlets\\\\__init__.py\": 1720913250.09358, \"C:\\\\Users\\\\sghys\\\\miniconda3\\\\envs\\\\ml\\\\DLLs\\\\_queue.pyd\": 1713545359.8799767, \"C:\\\\Users\\\\sghys\\\\miniconda3\\\\envs\\\\ml\\\\Lib\\\\queue.py\": 1712046304.0, \"C:\\\\Users\\\\sghys\\\\miniconda3\\\\envs\\\\ml\\\\Lib\\\\site-packages\\\\jupyter_core\\\\version.py\": 1720913257.5753865, \"C:\\\\Users\\\\sghys\\\\miniconda3\\\\envs\\\\ml\\\\Lib\\\\site-packages\\\\jupyter_core\\\\__init__.py\": 1720913257.5698726, \"C:\\\\Users\\\\sghys\\\\miniconda3\\\\envs\\\\ml\\\\Lib\\\\site-packages\\\\jupyter_core\\\\utils\\\\__init__.py\": 1720913257.5763843, \"C:\\\\Users\\\\sghys\\\\miniconda3\\\\envs\\\\ml\\\\Lib\\\\site-packages\\\\jupyter_client\\\\channelsabc.py\": 1720913261.7021866, \"C:\\\\Users\\\\sghys\\\\miniconda3\\\\envs\\\\ml\\\\DLLs\\\\_hashlib.pyd\": 1713545347.7337258, \"C:\\\\Users\\\\sghys\\\\miniconda3\\\\envs\\\\ml\\\\Lib\\\\hashlib.py\": 1712046304.0, \"C:\\\\Users\\\\sghys\\\\miniconda3\\\\envs\\\\ml\\\\Lib\\\\hmac.py\": 1712046304.0, \"C:\\\\Users\\\\sghys\\\\miniconda3\\\\envs\\\\ml\\\\Lib\\\\dataclasses.py\": 1712046304.0, \"C:\\\\Users\\\\sghys\\\\miniconda3\\\\envs\\\\ml\\\\Lib\\\\pprint.py\": 1712046304.0, \"C:\\\\Users\\\\sghys\\\\miniconda3\\\\envs\\\\ml\\\\Lib\\\\datetime.py\": 1712046304.0, \"C:\\\\Users\\\\sghys\\\\miniconda3\\\\envs\\\\ml\\\\Lib\\\\site-packages\\\\tornado\\\\__init__.py\": 1720913250.171657, \"C:\\\\Users\\\\sghys\\\\miniconda3\\\\envs\\\\ml\\\\Lib\\\\numbers.py\": 1712046304.0, \"C:\\\\Users\\\\sghys\\\\miniconda3\\\\envs\\\\ml\\\\Lib\\\\logging\\\\handlers.py\": 1712046304.0, \"C:\\\\Users\\\\sghys\\\\miniconda3\\\\envs\\\\ml\\\\Lib\\\\html\\\\entities.py\": 1712046304.0, \"C:\\\\Users\\\\sghys\\\\miniconda3\\\\envs\\\\ml\\\\Lib\\\\html\\\\__init__.py\": 1712046304.0, \"C:\\\\Users\\\\sghys\\\\miniconda3\\\\envs\\\\ml\\\\Lib\\\\site-packages\\\\tornado\\\\speedups.pyd\": 1720913250.184656, \"C:\\\\Users\\\\sghys\\\\miniconda3\\\\envs\\\\ml\\\\Lib\\\\site-packages\\\\tornado\\\\util.py\": 1720913250.1876557, \"C:\\\\Users\\\\sghys\\\\miniconda3\\\\envs\\\\ml\\\\Lib\\\\site-packages\\\\tornado\\\\escape.py\": 1720913250.1756551, \"C:\\\\Users\\\\sghys\\\\miniconda3\\\\envs\\\\ml\\\\Lib\\\\site-packages\\\\colorama\\\\ansi.py\": 1720913195.2000268, \"C:\\\\Users\\\\sghys\\\\miniconda3\\\\envs\\\\ml\\\\DLLs\\\\_ctypes.pyd\": 1713545338.3813834, \"C:\\\\Users\\\\sghys\\\\miniconda3\\\\envs\\\\ml\\\\Lib\\\\ctypes\\\\_endian.py\": 1712046304.0, \"C:\\\\Users\\\\sghys\\\\miniconda3\\\\envs\\\\ml\\\\Lib\\\\ctypes\\\\__init__.py\": 1712046304.0, \"C:\\\\Users\\\\sghys\\\\miniconda3\\\\envs\\\\ml\\\\Lib\\\\ctypes\\\\wintypes.py\": 1712046304.0, \"C:\\\\Users\\\\sghys\\\\miniconda3\\\\envs\\\\ml\\\\Lib\\\\site-packages\\\\colorama\\\\win32.py\": 1720913195.202025, \"C:\\\\Users\\\\sghys\\\\miniconda3\\\\envs\\\\ml\\\\Lib\\\\site-packages\\\\colorama\\\\winterm.py\": 1720913195.202025, \"C:\\\\Users\\\\sghys\\\\miniconda3\\\\envs\\\\ml\\\\Lib\\\\site-packages\\\\colorama\\\\ansitowin32.py\": 1720913195.2010245, \"C:\\\\Users\\\\sghys\\\\miniconda3\\\\envs\\\\ml\\\\Lib\\\\site-packages\\\\colorama\\\\initialise.py\": 1720913195.2010245, \"C:\\\\Users\\\\sghys\\\\miniconda3\\\\envs\\\\ml\\\\Lib\\\\site-packages\\\\colorama\\\\__init__.py\": 1720913195.2000268, \"C:\\\\Users\\\\sghys\\\\miniconda3\\\\envs\\\\ml\\\\Lib\\\\site-packages\\\\tornado\\\\log.py\": 1720913250.1806557, \"C:\\\\Users\\\\sghys\\\\miniconda3\\\\envs\\\\ml\\\\Lib\\\\site-packages\\\\tornado\\\\concurrent.py\": 1720913250.1746576, \"C:\\\\Users\\\\sghys\\\\miniconda3\\\\envs\\\\ml\\\\Lib\\\\site-packages\\\\tornado\\\\ioloop.py\": 1720913250.1776562, \"C:\\\\Users\\\\sghys\\\\miniconda3\\\\envs\\\\ml\\\\Lib\\\\socketserver.py\": 1712046304.0, \"C:\\\\Users\\\\sghys\\\\miniconda3\\\\envs\\\\ml\\\\Lib\\\\logging\\\\config.py\": 1712046304.0, \"C:\\\\Users\\\\sghys\\\\miniconda3\\\\envs\\\\ml\\\\Lib\\\\site-packages\\\\traitlets\\\\utils\\\\text.py\": 1720913250.1035788, \"C:\\\\Users\\\\sghys\\\\miniconda3\\\\envs\\\\ml\\\\Lib\\\\gettext.py\": 1712046304.0, \"C:\\\\Users\\\\sghys\\\\miniconda3\\\\envs\\\\ml\\\\Lib\\\\argparse.py\": 1712046304.0, \"C:\\\\Users\\\\sghys\\\\miniconda3\\\\envs\\\\ml\\\\Lib\\\\site-packages\\\\traitlets\\\\config\\\\loader.py\": 1720913250.0975792, \"C:\\\\Users\\\\sghys\\\\miniconda3\\\\envs\\\\ml\\\\Lib\\\\site-packages\\\\traitlets\\\\config\\\\configurable.py\": 1720913250.0975792, \"C:\\\\Users\\\\sghys\\\\miniconda3\\\\envs\\\\ml\\\\Lib\\\\site-packages\\\\traitlets\\\\utils\\\\nested_update.py\": 1720913250.1025777, \"C:\\\\Users\\\\sghys\\\\miniconda3\\\\envs\\\\ml\\\\Lib\\\\site-packages\\\\traitlets\\\\config\\\\application.py\": 1720913250.0965784, \"C:\\\\Users\\\\sghys\\\\miniconda3\\\\envs\\\\ml\\\\Lib\\\\site-packages\\\\traitlets\\\\config\\\\__init__.py\": 1720913250.0955782, \"C:\\\\Users\\\\sghys\\\\miniconda3\\\\envs\\\\ml\\\\Lib\\\\site-packages\\\\traitlets\\\\log.py\": 1720913250.0945847, \"C:\\\\Users\\\\sghys\\\\miniconda3\\\\envs\\\\ml\\\\Lib\\\\site-packages\\\\zmq\\\\eventloop\\\\__init__.py\": 1720913250.7302616, \"C:\\\\Users\\\\sghys\\\\miniconda3\\\\envs\\\\ml\\\\Lib\\\\site-packages\\\\zmq\\\\eventloop\\\\zmqstream.py\": 1720913250.7292628, \"C:\\\\Users\\\\sghys\\\\miniconda3\\\\envs\\\\ml\\\\Lib\\\\site-packages\\\\jupyter_client\\\\adapter.py\": 1720913261.7011967, \"C:\\\\Users\\\\sghys\\\\miniconda3\\\\envs\\\\ml\\\\Lib\\\\site-packages\\\\dateutil\\\\_version.py\": 1720913257.2236364, \"C:\\\\Users\\\\sghys\\\\miniconda3\\\\envs\\\\ml\\\\Lib\\\\site-packages\\\\dateutil\\\\__init__.py\": 1720913257.222636, \"C:\\\\Users\\\\sghys\\\\miniconda3\\\\envs\\\\ml\\\\Lib\\\\calendar.py\": 1712046304.0, \"C:\\\\Users\\\\sghys\\\\miniconda3\\\\envs\\\\ml\\\\Lib\\\\site-packages\\\\six.py\": 1720913250.5897503, \"C:\\\\Users\\\\sghys\\\\miniconda3\\\\envs\\\\ml\\\\DLLs\\\\_decimal.pyd\": 1713545343.0940626, \"C:\\\\Users\\\\sghys\\\\miniconda3\\\\envs\\\\ml\\\\Lib\\\\decimal.py\": 1712046304.0, \"C:\\\\Users\\\\sghys\\\\miniconda3\\\\envs\\\\ml\\\\Lib\\\\site-packages\\\\dateutil\\\\_common.py\": 1720913257.2236364, \"C:\\\\Users\\\\sghys\\\\miniconda3\\\\envs\\\\ml\\\\Lib\\\\site-packages\\\\dateutil\\\\relativedelta.py\": 1720913257.224637, \"C:\\\\Users\\\\sghys\\\\miniconda3\\\\envs\\\\ml\\\\Lib\\\\site-packages\\\\dateutil\\\\tz\\\\_common.py\": 1720913257.2306383, \"C:\\\\Users\\\\sghys\\\\miniconda3\\\\envs\\\\ml\\\\Lib\\\\site-packages\\\\dateutil\\\\tz\\\\_factories.py\": 1720913257.2316375, \"C:\\\\Users\\\\sghys\\\\miniconda3\\\\envs\\\\ml\\\\Lib\\\\site-packages\\\\dateutil\\\\tz\\\\win.py\": 1720913257.232639, \"C:\\\\Users\\\\sghys\\\\miniconda3\\\\envs\\\\ml\\\\Lib\\\\site-packages\\\\dateutil\\\\tz\\\\tz.py\": 1720913257.232639, \"C:\\\\Users\\\\sghys\\\\miniconda3\\\\envs\\\\ml\\\\Lib\\\\site-packages\\\\dateutil\\\\tz\\\\__init__.py\": 1720913257.2296379, \"C:\\\\Users\\\\sghys\\\\miniconda3\\\\envs\\\\ml\\\\Lib\\\\site-packages\\\\dateutil\\\\parser\\\\_parser.py\": 1720913257.2286367, \"C:\\\\Users\\\\sghys\\\\miniconda3\\\\envs\\\\ml\\\\Lib\\\\site-packages\\\\dateutil\\\\parser\\\\isoparser.py\": 1720913257.2296379, \"C:\\\\Users\\\\sghys\\\\miniconda3\\\\envs\\\\ml\\\\Lib\\\\site-packages\\\\dateutil\\\\parser\\\\__init__.py\": 1720913257.2276387, \"C:\\\\Users\\\\sghys\\\\miniconda3\\\\envs\\\\ml\\\\Lib\\\\_strptime.py\": 1712046304.0, \"C:\\\\Users\\\\sghys\\\\miniconda3\\\\envs\\\\ml\\\\Lib\\\\site-packages\\\\jupyter_client\\\\jsonutil.py\": 1720913261.7051854, \"C:\\\\Users\\\\sghys\\\\miniconda3\\\\envs\\\\ml\\\\Lib\\\\site-packages\\\\jupyter_client\\\\session.py\": 1720913261.7111852, \"C:\\\\Users\\\\sghys\\\\miniconda3\\\\envs\\\\ml\\\\Lib\\\\site-packages\\\\jupyter_client\\\\channels.py\": 1720913261.7011967, \"C:\\\\Users\\\\sghys\\\\miniconda3\\\\envs\\\\ml\\\\Lib\\\\getpass.py\": 1712046304.0, \"C:\\\\Users\\\\sghys\\\\miniconda3\\\\envs\\\\ml\\\\Lib\\\\site-packages\\\\jupyter_client\\\\clientabc.py\": 1720913261.7031853, \"C:\\\\Users\\\\sghys\\\\miniconda3\\\\envs\\\\ml\\\\Lib\\\\glob.py\": 1712046304.0, \"C:\\\\Users\\\\sghys\\\\miniconda3\\\\envs\\\\ml\\\\Lib\\\\site-packages\\\\platformdirs\\\\api.py\": 1720913252.6344717, \"C:\\\\Users\\\\sghys\\\\miniconda3\\\\envs\\\\ml\\\\Lib\\\\site-packages\\\\platformdirs\\\\version.py\": 1720913252.6364715, \"C:\\\\Users\\\\sghys\\\\miniconda3\\\\envs\\\\ml\\\\Lib\\\\site-packages\\\\platformdirs\\\\windows.py\": 1720913252.6364715, \"C:\\\\Users\\\\sghys\\\\miniconda3\\\\envs\\\\ml\\\\Lib\\\\site-packages\\\\platformdirs\\\\__init__.py\": 1720913252.6334715, \"C:\\\\Users\\\\sghys\\\\miniconda3\\\\envs\\\\ml\\\\Lib\\\\site-packages\\\\jupyter_core\\\\paths.py\": 1720913257.572376, \"C:\\\\Users\\\\sghys\\\\miniconda3\\\\envs\\\\ml\\\\Lib\\\\site-packages\\\\jupyter_client\\\\localinterfaces.py\": 1720913261.707186, \"C:\\\\Users\\\\sghys\\\\miniconda3\\\\envs\\\\ml\\\\Lib\\\\site-packages\\\\jupyter_client\\\\utils.py\": 1720913261.7131853, \"C:\\\\Users\\\\sghys\\\\miniconda3\\\\envs\\\\ml\\\\Lib\\\\site-packages\\\\jupyter_client\\\\connect.py\": 1720913261.7031853, \"C:\\\\Users\\\\sghys\\\\miniconda3\\\\envs\\\\ml\\\\Lib\\\\site-packages\\\\jupyter_client\\\\client.py\": 1720913261.7021866, \"C:\\\\Users\\\\sghys\\\\miniconda3\\\\envs\\\\ml\\\\Lib\\\\site-packages\\\\jupyter_client\\\\asynchronous\\\\client.py\": 1720913261.7151859, \"C:\\\\Users\\\\sghys\\\\miniconda3\\\\envs\\\\ml\\\\Lib\\\\site-packages\\\\jupyter_client\\\\asynchronous\\\\__init__.py\": 1720913261.7141857, \"C:\\\\Users\\\\sghys\\\\miniconda3\\\\envs\\\\ml\\\\Lib\\\\site-packages\\\\jupyter_client\\\\blocking\\\\client.py\": 1720913261.7161853, \"C:\\\\Users\\\\sghys\\\\miniconda3\\\\envs\\\\ml\\\\Lib\\\\site-packages\\\\jupyter_client\\\\blocking\\\\__init__.py\": 1720913261.7151859, \"C:\\\\Users\\\\sghys\\\\miniconda3\\\\envs\\\\ml\\\\Lib\\\\site-packages\\\\jupyter_client\\\\launcher.py\": 1720913261.707186, \"C:\\\\Users\\\\sghys\\\\miniconda3\\\\envs\\\\ml\\\\DLLs\\\\_uuid.pyd\": 1713545385.0128758, \"C:\\\\Users\\\\sghys\\\\miniconda3\\\\envs\\\\ml\\\\Lib\\\\uuid.py\": 1712046304.0, \"C:\\\\Users\\\\sghys\\\\miniconda3\\\\envs\\\\ml\\\\Lib\\\\csv.py\": 1712046304.0, \"C:\\\\Users\\\\sghys\\\\miniconda3\\\\envs\\\\ml\\\\Lib\\\\email\\\\__init__.py\": 1712046304.0, \"C:\\\\Users\\\\sghys\\\\miniconda3\\\\envs\\\\ml\\\\Lib\\\\zipfile.py\": 1712046304.0, \"C:\\\\Users\\\\sghys\\\\miniconda3\\\\envs\\\\ml\\\\Lib\\\\quopri.py\": 1712046304.0, \"C:\\\\Users\\\\sghys\\\\miniconda3\\\\envs\\\\ml\\\\Lib\\\\email\\\\_parseaddr.py\": 1712046304.0, \"C:\\\\Users\\\\sghys\\\\miniconda3\\\\envs\\\\ml\\\\Lib\\\\email\\\\base64mime.py\": 1712046304.0, \"C:\\\\Users\\\\sghys\\\\miniconda3\\\\envs\\\\ml\\\\Lib\\\\email\\\\quoprimime.py\": 1712046304.0, \"C:\\\\Users\\\\sghys\\\\miniconda3\\\\envs\\\\ml\\\\Lib\\\\email\\\\errors.py\": 1712046304.0, \"C:\\\\Users\\\\sghys\\\\miniconda3\\\\envs\\\\ml\\\\Lib\\\\email\\\\encoders.py\": 1712046304.0, \"C:\\\\Users\\\\sghys\\\\miniconda3\\\\envs\\\\ml\\\\Lib\\\\email\\\\charset.py\": 1712046304.0, \"C:\\\\Users\\\\sghys\\\\miniconda3\\\\envs\\\\ml\\\\Lib\\\\email\\\\utils.py\": 1712046304.0, \"C:\\\\Users\\\\sghys\\\\miniconda3\\\\envs\\\\ml\\\\Lib\\\\email\\\\header.py\": 1712046304.0, \"C:\\\\Users\\\\sghys\\\\miniconda3\\\\envs\\\\ml\\\\Lib\\\\email\\\\_policybase.py\": 1712046304.0, \"C:\\\\Users\\\\sghys\\\\miniconda3\\\\envs\\\\ml\\\\Lib\\\\email\\\\_encoded_words.py\": 1712046304.0, \"C:\\\\Users\\\\sghys\\\\miniconda3\\\\envs\\\\ml\\\\Lib\\\\email\\\\iterators.py\": 1712046304.0, \"C:\\\\Users\\\\sghys\\\\miniconda3\\\\envs\\\\ml\\\\Lib\\\\email\\\\message.py\": 1712046304.0, \"C:\\\\Users\\\\sghys\\\\miniconda3\\\\envs\\\\ml\\\\Lib\\\\importlib\\\\metadata\\\\_functools.py\": 1712046304.0, \"C:\\\\Users\\\\sghys\\\\miniconda3\\\\envs\\\\ml\\\\Lib\\\\importlib\\\\metadata\\\\_text.py\": 1712046304.0, \"C:\\\\Users\\\\sghys\\\\miniconda3\\\\envs\\\\ml\\\\Lib\\\\importlib\\\\metadata\\\\_adapters.py\": 1712046304.0, \"C:\\\\Users\\\\sghys\\\\miniconda3\\\\envs\\\\ml\\\\Lib\\\\importlib\\\\metadata\\\\_meta.py\": 1712046304.0, \"C:\\\\Users\\\\sghys\\\\miniconda3\\\\envs\\\\ml\\\\Lib\\\\importlib\\\\metadata\\\\_collections.py\": 1712046304.0, \"C:\\\\Users\\\\sghys\\\\miniconda3\\\\envs\\\\ml\\\\Lib\\\\importlib\\\\metadata\\\\_itertools.py\": 1712046304.0, \"C:\\\\Users\\\\sghys\\\\miniconda3\\\\envs\\\\ml\\\\Lib\\\\importlib\\\\resources\\\\abc.py\": 1712046304.0, \"C:\\\\Users\\\\sghys\\\\miniconda3\\\\envs\\\\ml\\\\Lib\\\\importlib\\\\resources\\\\_adapters.py\": 1712046304.0, \"C:\\\\Users\\\\sghys\\\\miniconda3\\\\envs\\\\ml\\\\Lib\\\\importlib\\\\resources\\\\_common.py\": 1712046304.0, \"C:\\\\Users\\\\sghys\\\\miniconda3\\\\envs\\\\ml\\\\Lib\\\\importlib\\\\resources\\\\_legacy.py\": 1712046304.0, \"C:\\\\Users\\\\sghys\\\\miniconda3\\\\envs\\\\ml\\\\Lib\\\\importlib\\\\resources\\\\__init__.py\": 1712046304.0, \"C:\\\\Users\\\\sghys\\\\miniconda3\\\\envs\\\\ml\\\\Lib\\\\importlib\\\\abc.py\": 1712046304.0, \"C:\\\\Users\\\\sghys\\\\miniconda3\\\\envs\\\\ml\\\\Lib\\\\importlib\\\\metadata\\\\__init__.py\": 1712046304.0, \"C:\\\\Users\\\\sghys\\\\miniconda3\\\\envs\\\\ml\\\\Lib\\\\site-packages\\\\jupyter_client\\\\provisioning\\\\provisioner_base.py\": 1720913261.720186, \"C:\\\\Users\\\\sghys\\\\miniconda3\\\\envs\\\\ml\\\\Lib\\\\site-packages\\\\jupyter_client\\\\provisioning\\\\factory.py\": 1720913261.718186, \"C:\\\\Users\\\\sghys\\\\miniconda3\\\\envs\\\\ml\\\\Lib\\\\site-packages\\\\jupyter_client\\\\provisioning\\\\local_provisioner.py\": 1720913261.719186, \"C:\\\\Users\\\\sghys\\\\miniconda3\\\\envs\\\\ml\\\\Lib\\\\site-packages\\\\jupyter_client\\\\provisioning\\\\__init__.py\": 1720913261.718186, \"C:\\\\Users\\\\sghys\\\\miniconda3\\\\envs\\\\ml\\\\Lib\\\\site-packages\\\\jupyter_client\\\\kernelspec.py\": 1720913261.7061863, \"C:\\\\Users\\\\sghys\\\\miniconda3\\\\envs\\\\ml\\\\Lib\\\\site-packages\\\\jupyter_client\\\\managerabc.py\": 1720913261.7091875, \"C:\\\\Users\\\\sghys\\\\miniconda3\\\\envs\\\\ml\\\\Lib\\\\site-packages\\\\jupyter_client\\\\manager.py\": 1720913261.708186, \"C:\\\\Users\\\\sghys\\\\miniconda3\\\\envs\\\\ml\\\\Lib\\\\site-packages\\\\jupyter_client\\\\multikernelmanager.py\": 1720913261.7091875, \"C:\\\\Users\\\\sghys\\\\miniconda3\\\\envs\\\\ml\\\\Lib\\\\site-packages\\\\jupyter_client\\\\__init__.py\": 1720913261.698198, \"C:\\\\Users\\\\sghys\\\\miniconda3\\\\envs\\\\ml\\\\Lib\\\\site-packages\\\\ipykernel\\\\connect.py\": 1720913265.619182, \"C:\\\\Users\\\\sghys\\\\miniconda3\\\\envs\\\\ml\\\\Lib\\\\site-packages\\\\ipykernel\\\\__init__.py\": 1720913265.6171832, \"C:\\\\Users\\\\sghys\\\\miniconda3\\\\envs\\\\ml\\\\Lib\\\\site-packages\\\\IPython\\\\core\\\\__init__.py\": 1720913263.721691, \"C:\\\\Users\\\\sghys\\\\miniconda3\\\\envs\\\\ml\\\\Lib\\\\site-packages\\\\IPython\\\\core\\\\getipython.py\": 1720913263.7326925, \"C:\\\\Users\\\\sghys\\\\miniconda3\\\\envs\\\\ml\\\\Lib\\\\site-packages\\\\IPython\\\\core\\\\release.py\": 1720913263.7506926, \"C:\\\\Users\\\\sghys\\\\miniconda3\\\\envs\\\\ml\\\\Lib\\\\pkgutil.py\": 1712046304.0, \"C:\\\\Users\\\\sghys\\\\miniconda3\\\\envs\\\\ml\\\\Lib\\\\sysconfig.py\": 1713544739.1383293, \"C:\\\\Users\\\\sghys\\\\miniconda3\\\\envs\\\\ml\\\\Lib\\\\pydoc.py\": 1712046304.0, \"C:\\\\Users\\\\sghys\\\\miniconda3\\\\envs\\\\ml\\\\Lib\\\\site-packages\\\\executing\\\\_exceptions.py\": 1720913254.641117, \"C:\\\\Users\\\\sghys\\\\miniconda3\\\\envs\\\\ml\\\\Lib\\\\site-packages\\\\executing\\\\_position_node_finder.py\": 1720913254.641117, \"C:\\\\Users\\\\sghys\\\\miniconda3\\\\envs\\\\ml\\\\Lib\\\\site-packages\\\\executing\\\\executing.py\": 1720913254.642115, \"C:\\\\Users\\\\sghys\\\\miniconda3\\\\envs\\\\ml\\\\Lib\\\\site-packages\\\\executing\\\\version.py\": 1720913254.6431189, \"C:\\\\Users\\\\sghys\\\\miniconda3\\\\envs\\\\ml\\\\Lib\\\\site-packages\\\\executing\\\\__init__.py\": 1720913254.640117, \"C:\\\\Users\\\\sghys\\\\miniconda3\\\\envs\\\\ml\\\\Lib\\\\site-packages\\\\asttokens\\\\line_numbers.py\": 1720913259.300408, \"C:\\\\Users\\\\sghys\\\\miniconda3\\\\envs\\\\ml\\\\Lib\\\\site-packages\\\\asttokens\\\\util.py\": 1720913259.3014066, \"C:\\\\Users\\\\sghys\\\\miniconda3\\\\envs\\\\ml\\\\Lib\\\\site-packages\\\\asttokens\\\\asttokens.py\": 1720913259.300408, \"C:\\\\Users\\\\sghys\\\\miniconda3\\\\envs\\\\ml\\\\Lib\\\\site-packages\\\\asttokens\\\\__init__.py\": 1720913259.2994077, \"C:\\\\Users\\\\sghys\\\\miniconda3\\\\envs\\\\ml\\\\Lib\\\\fractions.py\": 1712046304.0, \"C:\\\\Users\\\\sghys\\\\miniconda3\\\\envs\\\\ml\\\\Lib\\\\site-packages\\\\pure_eval\\\\utils.py\": 1720913249.5996697, \"C:\\\\Users\\\\sghys\\\\miniconda3\\\\envs\\\\ml\\\\Lib\\\\site-packages\\\\pure_eval\\\\my_getattr_static.py\": 1720913249.5986702, \"C:\\\\Users\\\\sghys\\\\miniconda3\\\\envs\\\\ml\\\\Lib\\\\site-packages\\\\pure_eval\\\\core.py\": 1720913249.5976682, \"C:\\\\Users\\\\sghys\\\\miniconda3\\\\envs\\\\ml\\\\Lib\\\\site-packages\\\\pure_eval\\\\version.py\": 1720913249.5996697, \"C:\\\\Users\\\\sghys\\\\miniconda3\\\\envs\\\\ml\\\\Lib\\\\site-packages\\\\pure_eval\\\\__init__.py\": 1720913249.5976682, \"C:\\\\Users\\\\sghys\\\\miniconda3\\\\envs\\\\ml\\\\Lib\\\\site-packages\\\\stack_data\\\\utils.py\": 1720913259.4609387, \"C:\\\\Users\\\\sghys\\\\miniconda3\\\\envs\\\\ml\\\\Lib\\\\site-packages\\\\stack_data\\\\core.py\": 1720913259.4589386, \"C:\\\\Users\\\\sghys\\\\miniconda3\\\\envs\\\\ml\\\\Lib\\\\site-packages\\\\stack_data\\\\formatting.py\": 1720913259.4599388, \"C:\\\\Users\\\\sghys\\\\miniconda3\\\\envs\\\\ml\\\\Lib\\\\site-packages\\\\stack_data\\\\serializing.py\": 1720913259.4609387, \"C:\\\\Users\\\\sghys\\\\miniconda3\\\\envs\\\\ml\\\\Lib\\\\site-packages\\\\stack_data\\\\version.py\": 1720913259.461938, \"C:\\\\Users\\\\sghys\\\\miniconda3\\\\envs\\\\ml\\\\Lib\\\\site-packages\\\\stack_data\\\\__init__.py\": 1720913259.4589386, \"C:\\\\Users\\\\sghys\\\\miniconda3\\\\envs\\\\ml\\\\Lib\\\\site-packages\\\\pygments\\\\__init__.py\": 1720913251.0790365, \"C:\\\\Users\\\\sghys\\\\miniconda3\\\\envs\\\\ml\\\\Lib\\\\site-packages\\\\pygments\\\\formatters\\\\_mapping.py\": 1720913251.0870333, \"C:\\\\Users\\\\sghys\\\\miniconda3\\\\envs\\\\ml\\\\Lib\\\\site-packages\\\\pygments\\\\plugin.py\": 1720913251.0830336, \"C:\\\\Users\\\\sghys\\\\miniconda3\\\\envs\\\\ml\\\\Lib\\\\site-packages\\\\pygments\\\\util.py\": 1720913251.0860336, \"C:\\\\Users\\\\sghys\\\\miniconda3\\\\envs\\\\ml\\\\Lib\\\\site-packages\\\\pygments\\\\formatters\\\\__init__.py\": 1720913251.0870333, \"C:\\\\Users\\\\sghys\\\\miniconda3\\\\envs\\\\ml\\\\Lib\\\\site-packages\\\\pygments\\\\styles\\\\_mapping.py\": 1720913251.2233078, \"C:\\\\Users\\\\sghys\\\\miniconda3\\\\envs\\\\ml\\\\Lib\\\\site-packages\\\\pygments\\\\styles\\\\__init__.py\": 1720913251.222308, \"C:\\\\Users\\\\sghys\\\\miniconda3\\\\envs\\\\ml\\\\Lib\\\\site-packages\\\\pygments\\\\formatter.py\": 1720913251.0820343, \"C:\\\\Users\\\\sghys\\\\miniconda3\\\\envs\\\\ml\\\\Lib\\\\site-packages\\\\pygments\\\\console.py\": 1720913251.0810351, \"C:\\\\Users\\\\sghys\\\\miniconda3\\\\envs\\\\ml\\\\Lib\\\\site-packages\\\\pygments\\\\token.py\": 1720913251.0850337, \"C:\\\\Users\\\\sghys\\\\miniconda3\\\\envs\\\\ml\\\\Lib\\\\site-packages\\\\pygments\\\\style.py\": 1720913251.0850337, \"C:\\\\Users\\\\sghys\\\\miniconda3\\\\envs\\\\ml\\\\Lib\\\\site-packages\\\\pygments\\\\formatters\\\\terminal256.py\": 1720913251.0920343, \"C:\\\\Users\\\\sghys\\\\miniconda3\\\\envs\\\\ml\\\\Lib\\\\site-packages\\\\IPython\\\\utils\\\\__init__.py\": 1720913263.85048, \"C:\\\\Users\\\\sghys\\\\miniconda3\\\\envs\\\\ml\\\\Lib\\\\site-packages\\\\IPython\\\\utils\\\\colorable.py\": 1720913263.8554797, \"C:\\\\Users\\\\sghys\\\\miniconda3\\\\envs\\\\ml\\\\Lib\\\\site-packages\\\\IPython\\\\utils\\\\ipstruct.py\": 1720913263.8634858, \"C:\\\\Users\\\\sghys\\\\miniconda3\\\\envs\\\\ml\\\\Lib\\\\site-packages\\\\IPython\\\\utils\\\\coloransi.py\": 1720913263.8564787, \"C:\\\\Users\\\\sghys\\\\miniconda3\\\\envs\\\\ml\\\\Lib\\\\site-packages\\\\IPython\\\\core\\\\excolors.py\": 1720913263.7306921, \"C:\\\\Users\\\\sghys\\\\miniconda3\\\\envs\\\\ml\\\\Lib\\\\site-packages\\\\IPython\\\\utils\\\\PyColorize.py\": 1720913263.85048, \"C:\\\\Users\\\\sghys\\\\miniconda3\\\\envs\\\\ml\\\\Lib\\\\site-packages\\\\IPython\\\\utils\\\\encoding.py\": 1720913263.8594782, \"C:\\\\Users\\\\sghys\\\\miniconda3\\\\envs\\\\ml\\\\Lib\\\\site-packages\\\\IPython\\\\utils\\\\py3compat.py\": 1720913263.8684845, \"C:\\\\Users\\\\sghys\\\\miniconda3\\\\envs\\\\ml\\\\Lib\\\\cmd.py\": 1712046304.0, \"C:\\\\Users\\\\sghys\\\\miniconda3\\\\envs\\\\ml\\\\Lib\\\\bdb.py\": 1712046304.0, \"C:\\\\Users\\\\sghys\\\\miniconda3\\\\envs\\\\ml\\\\Lib\\\\codeop.py\": 1712046304.0, \"C:\\\\Users\\\\sghys\\\\miniconda3\\\\envs\\\\ml\\\\Lib\\\\code.py\": 1712046304.0, \"C:\\\\Users\\\\sghys\\\\miniconda3\\\\envs\\\\ml\\\\Lib\\\\pdb.py\": 1712046304.0, \"C:\\\\Users\\\\sghys\\\\miniconda3\\\\envs\\\\ml\\\\Lib\\\\site-packages\\\\IPython\\\\core\\\\debugger.py\": 1720913263.7266917, \"C:\\\\Users\\\\sghys\\\\miniconda3\\\\envs\\\\ml\\\\Lib\\\\site-packages\\\\IPython\\\\core\\\\display_trap.py\": 1720913263.7286918, \"C:\\\\Users\\\\sghys\\\\miniconda3\\\\envs\\\\ml\\\\Lib\\\\shlex.py\": 1712046304.0, \"C:\\\\Users\\\\sghys\\\\miniconda3\\\\envs\\\\ml\\\\Lib\\\\site-packages\\\\IPython\\\\utils\\\\_process_common.py\": 1720913263.851482, \"C:\\\\Users\\\\sghys\\\\miniconda3\\\\envs\\\\ml\\\\Lib\\\\site-packages\\\\IPython\\\\utils\\\\_process_win32.py\": 1720913263.8534794, \"C:\\\\Users\\\\sghys\\\\miniconda3\\\\envs\\\\ml\\\\Lib\\\\site-packages\\\\IPython\\\\utils\\\\process.py\": 1720913263.8674858, \"C:\\\\Users\\\\sghys\\\\miniconda3\\\\envs\\\\ml\\\\Lib\\\\site-packages\\\\IPython\\\\utils\\\\path.py\": 1720913263.8664849, \"C:\\\\Users\\\\sghys\\\\miniconda3\\\\envs\\\\ml\\\\Lib\\\\site-packages\\\\IPython\\\\utils\\\\terminal.py\": 1720913263.8714836, \"C:\\\\Users\\\\sghys\\\\miniconda3\\\\envs\\\\ml\\\\Lib\\\\site-packages\\\\IPython\\\\core\\\\ultratb.py\": 1720913263.7526925, \"C:\\\\Users\\\\sghys\\\\miniconda3\\\\envs\\\\ml\\\\Lib\\\\site-packages\\\\IPython\\\\utils\\\\_sysinfo.py\": 1720913263.8544786, \"C:\\\\Users\\\\sghys\\\\miniconda3\\\\envs\\\\ml\\\\Lib\\\\site-packages\\\\IPython\\\\utils\\\\sysinfo.py\": 1720913263.8704836, \"C:\\\\Users\\\\sghys\\\\miniconda3\\\\envs\\\\ml\\\\Lib\\\\site-packages\\\\IPython\\\\core\\\\crashhandler.py\": 1720913263.7266917, \"C:\\\\Users\\\\sghys\\\\miniconda3\\\\envs\\\\ml\\\\Lib\\\\site-packages\\\\IPython\\\\utils\\\\importstring.py\": 1720913263.8614855, \"C:\\\\Users\\\\sghys\\\\miniconda3\\\\envs\\\\ml\\\\Lib\\\\site-packages\\\\IPython\\\\paths.py\": 1720913263.7206912, \"C:\\\\Users\\\\sghys\\\\miniconda3\\\\envs\\\\ml\\\\Lib\\\\site-packages\\\\IPython\\\\core\\\\profiledir.py\": 1720913263.7486918, \"C:\\\\Users\\\\sghys\\\\miniconda3\\\\envs\\\\ml\\\\Lib\\\\site-packages\\\\IPython\\\\core\\\\application.py\": 1720913263.722694, \"C:\\\\Users\\\\sghys\\\\miniconda3\\\\envs\\\\ml\\\\Lib\\\\site-packages\\\\IPython\\\\terminal\\\\__init__.py\": 1720913263.8154786, \"C:\\\\Users\\\\sghys\\\\miniconda3\\\\envs\\\\ml\\\\Lib\\\\site-packages\\\\IPython\\\\core\\\\compilerop.py\": 1720913263.724691, \"C:\\\\Users\\\\sghys\\\\miniconda3\\\\envs\\\\ml\\\\Lib\\\\site-packages\\\\IPython\\\\core\\\\error.py\": 1720913263.7296913, \"C:\\\\Users\\\\sghys\\\\miniconda3\\\\envs\\\\ml\\\\Lib\\\\site-packages\\\\IPython\\\\utils\\\\docs.py\": 1720913263.8594782, \"C:\\\\Users\\\\sghys\\\\miniconda3\\\\envs\\\\ml\\\\Lib\\\\site-packages\\\\IPython\\\\utils\\\\decorators.py\": 1720913263.8584816, \"C:\\\\Users\\\\sghys\\\\miniconda3\\\\envs\\\\ml\\\\Lib\\\\site-packages\\\\typing_extensions.py\": 1720913182.2037795, \"C:\\\\Users\\\\sghys\\\\miniconda3\\\\envs\\\\ml\\\\Lib\\\\site-packages\\\\IPython\\\\utils\\\\text.py\": 1720913263.8724835, \"C:\\\\Users\\\\sghys\\\\miniconda3\\\\envs\\\\ml\\\\Lib\\\\site-packages\\\\IPython\\\\core\\\\magic_arguments.py\": 1720913263.7446966, \"C:\\\\Users\\\\sghys\\\\miniconda3\\\\envs\\\\ml\\\\Lib\\\\getopt.py\": 1712046304.0, \"C:\\\\Users\\\\sghys\\\\miniconda3\\\\envs\\\\ml\\\\Lib\\\\site-packages\\\\IPython\\\\core\\\\display_functions.py\": 1720913263.7286918, \"C:\\\\Users\\\\sghys\\\\miniconda3\\\\envs\\\\ml\\\\Lib\\\\mimetypes.py\": 1712046304.0, \"C:\\\\Users\\\\sghys\\\\miniconda3\\\\envs\\\\ml\\\\Lib\\\\site-packages\\\\IPython\\\\testing\\\\__init__.py\": 1720913263.833479, \"C:\\\\Users\\\\sghys\\\\miniconda3\\\\envs\\\\ml\\\\Lib\\\\site-packages\\\\IPython\\\\testing\\\\skipdoctest.py\": 1720913263.83548, \"C:\\\\Users\\\\sghys\\\\miniconda3\\\\envs\\\\ml\\\\Lib\\\\site-packages\\\\IPython\\\\core\\\\display.py\": 1720913263.7276914, \"C:\\\\Users\\\\sghys\\\\miniconda3\\\\envs\\\\ml\\\\Lib\\\\site-packages\\\\IPython\\\\lib\\\\__init__.py\": 1720913263.799568, \"C:\\\\Users\\\\sghys\\\\miniconda3\\\\envs\\\\ml\\\\Lib\\\\site-packages\\\\IPython\\\\lib\\\\display.py\": 1720913263.8025663, \"C:\\\\Users\\\\sghys\\\\miniconda3\\\\envs\\\\ml\\\\Lib\\\\site-packages\\\\IPython\\\\display.py\": 1720913263.7206912, \"C:\\\\Users\\\\sghys\\\\miniconda3\\\\envs\\\\ml\\\\Lib\\\\site-packages\\\\IPython\\\\utils\\\\data.py\": 1720913263.857479, \"C:\\\\Users\\\\sghys\\\\miniconda3\\\\envs\\\\ml\\\\Lib\\\\site-packages\\\\IPython\\\\core\\\\page.py\": 1720913263.7456903, \"C:\\\\Users\\\\sghys\\\\miniconda3\\\\envs\\\\ml\\\\Lib\\\\site-packages\\\\IPython\\\\lib\\\\pretty.py\": 1720913263.8064659, \"C:\\\\Users\\\\sghys\\\\miniconda3\\\\envs\\\\ml\\\\Lib\\\\site-packages\\\\IPython\\\\utils\\\\openpy.py\": 1720913263.8664849, \"C:\\\\Users\\\\sghys\\\\miniconda3\\\\envs\\\\ml\\\\Lib\\\\site-packages\\\\IPython\\\\utils\\\\dir2.py\": 1720913263.8584816, \"C:\\\\Users\\\\sghys\\\\miniconda3\\\\envs\\\\ml\\\\Lib\\\\site-packages\\\\IPython\\\\utils\\\\wildcard.py\": 1720913263.8768353, \"C:\\\\Users\\\\sghys\\\\miniconda3\\\\envs\\\\ml\\\\Lib\\\\site-packages\\\\pygments\\\\lexers\\\\_mapping.py\": 1720913251.0990336, \"C:\\\\Users\\\\sghys\\\\miniconda3\\\\envs\\\\ml\\\\Lib\\\\site-packages\\\\pygments\\\\modeline.py\": 1720913251.0830336, \"C:\\\\Users\\\\sghys\\\\miniconda3\\\\envs\\\\ml\\\\Lib\\\\site-packages\\\\pygments\\\\lexers\\\\__init__.py\": 1720913251.093034, \"C:\\\\Users\\\\sghys\\\\miniconda3\\\\envs\\\\ml\\\\Lib\\\\site-packages\\\\pygments\\\\filter.py\": 1720913251.0810351, \"C:\\\\Users\\\\sghys\\\\miniconda3\\\\envs\\\\ml\\\\Lib\\\\site-packages\\\\pygments\\\\filters\\\\__init__.py\": 1720913251.0860336, \"C:\\\\Users\\\\sghys\\\\miniconda3\\\\envs\\\\ml\\\\Lib\\\\site-packages\\\\pygments\\\\regexopt.py\": 1720913251.0830336, \"C:\\\\Users\\\\sghys\\\\miniconda3\\\\envs\\\\ml\\\\Lib\\\\site-packages\\\\pygments\\\\lexer.py\": 1720913251.0820343, \"C:\\\\Users\\\\sghys\\\\miniconda3\\\\envs\\\\ml\\\\Lib\\\\site-packages\\\\pygments\\\\unistring.py\": 1720913251.0850337, \"C:\\\\Users\\\\sghys\\\\miniconda3\\\\envs\\\\ml\\\\Lib\\\\site-packages\\\\pygments\\\\lexers\\\\python.py\": 1720913251.178307, \"C:\\\\Users\\\\sghys\\\\miniconda3\\\\envs\\\\ml\\\\Lib\\\\site-packages\\\\pygments\\\\formatters\\\\html.py\": 1720913251.0890331, \"C:\\\\Users\\\\sghys\\\\miniconda3\\\\envs\\\\ml\\\\Lib\\\\site-packages\\\\IPython\\\\core\\\\oinspect.py\": 1720913263.7456903, \"C:\\\\Users\\\\sghys\\\\miniconda3\\\\envs\\\\ml\\\\Lib\\\\site-packages\\\\IPython\\\\utils\\\\tokenutil.py\": 1720913263.873484, \"C:\\\\Users\\\\sghys\\\\miniconda3\\\\envs\\\\ml\\\\Lib\\\\site-packages\\\\IPython\\\\core\\\\inputtransformer2.py\": 1720913263.7376986, \"C:\\\\Users\\\\sghys\\\\miniconda3\\\\envs\\\\ml\\\\Lib\\\\site-packages\\\\IPython\\\\core\\\\magic.py\": 1720913263.7446966, \"C:\\\\Users\\\\sghys\\\\miniconda3\\\\envs\\\\ml\\\\Lib\\\\site-packages\\\\IPython\\\\core\\\\hooks.py\": 1720913263.7356956, \"C:\\\\Users\\\\sghys\\\\miniconda3\\\\envs\\\\ml\\\\Lib\\\\site-packages\\\\IPython\\\\core\\\\autocall.py\": 1720913263.723693, \"C:\\\\Users\\\\sghys\\\\miniconda3\\\\envs\\\\ml\\\\Lib\\\\site-packages\\\\IPython\\\\core\\\\macro.py\": 1720913263.7426946, \"C:\\\\Users\\\\sghys\\\\miniconda3\\\\envs\\\\ml\\\\Lib\\\\site-packages\\\\IPython\\\\core\\\\splitinput.py\": 1720913263.7516918, \"C:\\\\Users\\\\sghys\\\\miniconda3\\\\envs\\\\ml\\\\Lib\\\\site-packages\\\\IPython\\\\core\\\\prefilter.py\": 1720913263.7476935, \"C:\\\\Users\\\\sghys\\\\miniconda3\\\\envs\\\\ml\\\\Lib\\\\site-packages\\\\IPython\\\\core\\\\alias.py\": 1720913263.722694, \"C:\\\\Users\\\\sghys\\\\miniconda3\\\\envs\\\\ml\\\\Lib\\\\site-packages\\\\IPython\\\\core\\\\builtin_trap.py\": 1720913263.724691, \"C:\\\\Users\\\\sghys\\\\miniconda3\\\\envs\\\\ml\\\\Lib\\\\site-packages\\\\IPython\\\\core\\\\displayhook.py\": 1720913263.7286918, \"C:\\\\Users\\\\sghys\\\\miniconda3\\\\envs\\\\ml\\\\Lib\\\\site-packages\\\\IPython\\\\core\\\\displaypub.py\": 1720913263.7296913, \"C:\\\\Users\\\\sghys\\\\miniconda3\\\\envs\\\\ml\\\\Lib\\\\site-packages\\\\IPython\\\\core\\\\events.py\": 1720913263.7306921, \"C:\\\\Users\\\\sghys\\\\miniconda3\\\\envs\\\\ml\\\\Lib\\\\site-packages\\\\IPython\\\\core\\\\extensions.py\": 1720913263.7316914, \"C:\\\\Users\\\\sghys\\\\miniconda3\\\\envs\\\\ml\\\\Lib\\\\site-packages\\\\decorator.py\": 1720913254.711653, \"C:\\\\Users\\\\sghys\\\\miniconda3\\\\envs\\\\ml\\\\Lib\\\\site-packages\\\\IPython\\\\utils\\\\sentinel.py\": 1720913263.8684845, \"C:\\\\Users\\\\sghys\\\\miniconda3\\\\envs\\\\ml\\\\Lib\\\\site-packages\\\\IPython\\\\core\\\\formatters.py\": 1720913263.7316914, \"C:\\\\Users\\\\sghys\\\\miniconda3\\\\envs\\\\ml\\\\DLLs\\\\_sqlite3.pyd\": 1713545364.4949327, \"C:\\\\Users\\\\sghys\\\\miniconda3\\\\envs\\\\ml\\\\Lib\\\\sqlite3\\\\dbapi2.py\": 1712046304.0, \"C:\\\\Users\\\\sghys\\\\miniconda3\\\\envs\\\\ml\\\\Lib\\\\sqlite3\\\\__init__.py\": 1712046304.0, \"C:\\\\Users\\\\sghys\\\\miniconda3\\\\envs\\\\ml\\\\Lib\\\\site-packages\\\\IPython\\\\core\\\\history.py\": 1720913263.7336926, \"C:\\\\Users\\\\sghys\\\\miniconda3\\\\envs\\\\ml\\\\Lib\\\\site-packages\\\\IPython\\\\core\\\\logger.py\": 1720913263.7417006, \"C:\\\\Users\\\\sghys\\\\miniconda3\\\\envs\\\\ml\\\\Lib\\\\site-packages\\\\IPython\\\\core\\\\payload.py\": 1720913263.746694, \"C:\\\\Users\\\\sghys\\\\miniconda3\\\\envs\\\\ml\\\\Lib\\\\site-packages\\\\IPython\\\\core\\\\usage.py\": 1720913263.7526925, \"C:\\\\Users\\\\sghys\\\\miniconda3\\\\envs\\\\ml\\\\Lib\\\\site-packages\\\\IPython\\\\utils\\\\capture.py\": 1720913263.8554797, \"C:\\\\Users\\\\sghys\\\\miniconda3\\\\envs\\\\ml\\\\Lib\\\\site-packages\\\\IPython\\\\utils\\\\io.py\": 1720913263.862488, \"C:\\\\Users\\\\sghys\\\\miniconda3\\\\envs\\\\ml\\\\Lib\\\\site-packages\\\\IPython\\\\utils\\\\strdispatch.py\": 1720913263.8704836, \"C:\\\\Users\\\\sghys\\\\miniconda3\\\\envs\\\\ml\\\\Lib\\\\site-packages\\\\IPython\\\\utils\\\\syspathcontext.py\": 1720913263.8704836, \"C:\\\\Users\\\\sghys\\\\miniconda3\\\\envs\\\\ml\\\\Lib\\\\site-packages\\\\IPython\\\\core\\\\async_helpers.py\": 1720913263.723693, \"C:\\\\Users\\\\sghys\\\\miniconda3\\\\envs\\\\ml\\\\Lib\\\\site-packages\\\\IPython\\\\core\\\\interactiveshell.py\": 1720913263.738698, \"C:\\\\Users\\\\sghys\\\\miniconda3\\\\envs\\\\ml\\\\Lib\\\\site-packages\\\\prompt_toolkit\\\\application\\\\current.py\": 1720913252.193144, \"C:\\\\Users\\\\sghys\\\\miniconda3\\\\envs\\\\ml\\\\Lib\\\\site-packages\\\\prompt_toolkit\\\\eventloop\\\\utils.py\": 1720913252.2081442, \"C:\\\\Users\\\\sghys\\\\miniconda3\\\\envs\\\\ml\\\\Lib\\\\site-packages\\\\prompt_toolkit\\\\eventloop\\\\async_generator.py\": 1720913252.207144, \"C:\\\\Users\\\\sghys\\\\miniconda3\\\\envs\\\\ml\\\\Lib\\\\site-packages\\\\prompt_toolkit\\\\eventloop\\\\inputhook.py\": 1720913252.2081442, \"C:\\\\Users\\\\sghys\\\\miniconda3\\\\envs\\\\ml\\\\Lib\\\\site-packages\\\\prompt_toolkit\\\\eventloop\\\\__init__.py\": 1720913252.207144, \"C:\\\\Users\\\\sghys\\\\miniconda3\\\\envs\\\\ml\\\\Lib\\\\site-packages\\\\prompt_toolkit\\\\application\\\\run_in_terminal.py\": 1720913252.1941483, \"C:\\\\Users\\\\sghys\\\\miniconda3\\\\envs\\\\ml\\\\Lib\\\\site-packages\\\\prompt_toolkit\\\\selection.py\": 1720913252.1891448, \"C:\\\\Users\\\\sghys\\\\miniconda3\\\\envs\\\\ml\\\\Lib\\\\site-packages\\\\prompt_toolkit\\\\clipboard\\\\base.py\": 1720913252.195145, \"C:\\\\Users\\\\sghys\\\\miniconda3\\\\envs\\\\ml\\\\Lib\\\\site-packages\\\\prompt_toolkit\\\\clipboard\\\\in_memory.py\": 1720913252.195145, \"C:\\\\Users\\\\sghys\\\\miniconda3\\\\envs\\\\ml\\\\Lib\\\\site-packages\\\\prompt_toolkit\\\\clipboard\\\\__init__.py\": 1720913252.1941483, \"C:\\\\Users\\\\sghys\\\\miniconda3\\\\envs\\\\ml\\\\Lib\\\\site-packages\\\\prompt_toolkit\\\\cache.py\": 1720913252.1821444, \"C:\\\\Users\\\\sghys\\\\miniconda3\\\\envs\\\\ml\\\\Lib\\\\site-packages\\\\prompt_toolkit\\\\enums.py\": 1720913252.184144, \"C:\\\\Users\\\\sghys\\\\miniconda3\\\\envs\\\\ml\\\\Lib\\\\site-packages\\\\prompt_toolkit\\\\filters\\\\base.py\": 1720913252.2101445, \"C:\\\\Users\\\\sghys\\\\miniconda3\\\\envs\\\\ml\\\\Lib\\\\site-packages\\\\prompt_toolkit\\\\filters\\\\app.py\": 1720913252.2101445, \"C:\\\\Users\\\\sghys\\\\miniconda3\\\\envs\\\\ml\\\\Lib\\\\site-packages\\\\prompt_toolkit\\\\filters\\\\cli.py\": 1720913252.211144, \"C:\\\\Users\\\\sghys\\\\miniconda3\\\\envs\\\\ml\\\\Lib\\\\site-packages\\\\prompt_toolkit\\\\filters\\\\utils.py\": 1720913252.211144, \"C:\\\\Users\\\\sghys\\\\miniconda3\\\\envs\\\\ml\\\\Lib\\\\site-packages\\\\prompt_toolkit\\\\filters\\\\__init__.py\": 1720913252.2091446, \"C:\\\\Users\\\\sghys\\\\miniconda3\\\\envs\\\\ml\\\\Lib\\\\site-packages\\\\prompt_toolkit\\\\document.py\": 1720913252.184144, \"C:\\\\Users\\\\sghys\\\\miniconda3\\\\envs\\\\ml\\\\Lib\\\\site-packages\\\\prompt_toolkit\\\\auto_suggest.py\": 1720913252.181144, \"C:\\\\Users\\\\sghys\\\\miniconda3\\\\envs\\\\ml\\\\Lib\\\\site-packages\\\\prompt_toolkit\\\\keys.py\": 1720913252.1851444, \"C:\\\\Users\\\\sghys\\\\miniconda3\\\\envs\\\\ml\\\\Lib\\\\site-packages\\\\prompt_toolkit\\\\key_binding\\\\key_bindings.py\": 1720913252.222144, \"C:\\\\Users\\\\sghys\\\\miniconda3\\\\envs\\\\ml\\\\Lib\\\\site-packages\\\\wcwidth\\\\table_vs16.py\": 1720913248.1322372, \"C:\\\\Users\\\\sghys\\\\miniconda3\\\\envs\\\\ml\\\\Lib\\\\site-packages\\\\wcwidth\\\\table_wide.py\": 1720913248.1332388, \"C:\\\\Users\\\\sghys\\\\miniconda3\\\\envs\\\\ml\\\\Lib\\\\site-packages\\\\wcwidth\\\\table_zero.py\": 1720913248.134238, \"C:\\\\Users\\\\sghys\\\\miniconda3\\\\envs\\\\ml\\\\Lib\\\\site-packages\\\\wcwidth\\\\unicode_versions.py\": 1720913248.134238, \"C:\\\\Users\\\\sghys\\\\miniconda3\\\\envs\\\\ml\\\\Lib\\\\site-packages\\\\wcwidth\\\\wcwidth.py\": 1720913248.1352398, \"C:\\\\Users\\\\sghys\\\\miniconda3\\\\envs\\\\ml\\\\Lib\\\\site-packages\\\\wcwidth\\\\__init__.py\": 1720913248.1312373, \"C:\\\\Users\\\\sghys\\\\miniconda3\\\\envs\\\\ml\\\\Lib\\\\site-packages\\\\prompt_toolkit\\\\utils.py\": 1720913252.1901448, \"C:\\\\Users\\\\sghys\\\\miniconda3\\\\envs\\\\ml\\\\Lib\\\\site-packages\\\\prompt_toolkit\\\\key_binding\\\\key_processor.py\": 1720913252.222144, \"C:\\\\Users\\\\sghys\\\\miniconda3\\\\envs\\\\ml\\\\Lib\\\\site-packages\\\\prompt_toolkit\\\\key_binding\\\\__init__.py\": 1720913252.2201445, \"C:\\\\Users\\\\sghys\\\\miniconda3\\\\envs\\\\ml\\\\Lib\\\\site-packages\\\\prompt_toolkit\\\\key_binding\\\\vi_state.py\": 1720913252.2231443, \"C:\\\\Users\\\\sghys\\\\miniconda3\\\\envs\\\\ml\\\\Lib\\\\site-packages\\\\prompt_toolkit\\\\cursor_shapes.py\": 1720913252.183144, \"C:\\\\Users\\\\sghys\\\\miniconda3\\\\envs\\\\ml\\\\Lib\\\\site-packages\\\\prompt_toolkit\\\\data_structures.py\": 1720913252.183144, \"C:\\\\Users\\\\sghys\\\\miniconda3\\\\envs\\\\ml\\\\Lib\\\\site-packages\\\\prompt_toolkit\\\\styles\\\\base.py\": 1720913252.2481446, \"C:\\\\Users\\\\sghys\\\\miniconda3\\\\envs\\\\ml\\\\Lib\\\\site-packages\\\\prompt_toolkit\\\\styles\\\\named_colors.py\": 1720913252.2491438, \"C:\\\\Users\\\\sghys\\\\miniconda3\\\\envs\\\\ml\\\\Lib\\\\site-packages\\\\prompt_toolkit\\\\styles\\\\style.py\": 1720913252.250144, \"C:\\\\Users\\\\sghys\\\\miniconda3\\\\envs\\\\ml\\\\Lib\\\\site-packages\\\\prompt_toolkit\\\\styles\\\\defaults.py\": 1720913252.2491438, \"C:\\\\Users\\\\sghys\\\\miniconda3\\\\envs\\\\ml\\\\Lib\\\\site-packages\\\\prompt_toolkit\\\\styles\\\\pygments.py\": 1720913252.250144, \"C:\\\\Users\\\\sghys\\\\miniconda3\\\\envs\\\\ml\\\\Lib\\\\colorsys.py\": 1712046304.0, \"C:\\\\Users\\\\sghys\\\\miniconda3\\\\envs\\\\ml\\\\Lib\\\\site-packages\\\\prompt_toolkit\\\\styles\\\\style_transformation.py\": 1720913252.2511444, \"C:\\\\Users\\\\sghys\\\\miniconda3\\\\envs\\\\ml\\\\Lib\\\\site-packages\\\\prompt_toolkit\\\\styles\\\\__init__.py\": 1720913252.2481446, \"C:\\\\Users\\\\sghys\\\\miniconda3\\\\envs\\\\ml\\\\Lib\\\\site-packages\\\\prompt_toolkit\\\\output\\\\color_depth.py\": 1720913252.2401438, \"C:\\\\Users\\\\sghys\\\\miniconda3\\\\envs\\\\ml\\\\Lib\\\\site-packages\\\\prompt_toolkit\\\\output\\\\base.py\": 1720913252.2401438, \"C:\\\\Users\\\\sghys\\\\miniconda3\\\\envs\\\\ml\\\\Lib\\\\site-packages\\\\prompt_toolkit\\\\output\\\\flush_stdout.py\": 1720913252.2411444, \"C:\\\\Users\\\\sghys\\\\miniconda3\\\\envs\\\\ml\\\\Lib\\\\site-packages\\\\prompt_toolkit\\\\output\\\\plain_text.py\": 1720913252.242146, \"C:\\\\Users\\\\sghys\\\\miniconda3\\\\envs\\\\ml\\\\Lib\\\\site-packages\\\\prompt_toolkit\\\\output\\\\defaults.py\": 1720913252.2411444, \"C:\\\\Users\\\\sghys\\\\miniconda3\\\\envs\\\\ml\\\\Lib\\\\site-packages\\\\prompt_toolkit\\\\output\\\\__init__.py\": 1720913252.239144, \"C:\\\\Users\\\\sghys\\\\miniconda3\\\\envs\\\\ml\\\\Lib\\\\site-packages\\\\prompt_toolkit\\\\output\\\\vt100.py\": 1720913252.242146, \"C:\\\\Users\\\\sghys\\\\miniconda3\\\\envs\\\\ml\\\\Lib\\\\site-packages\\\\prompt_toolkit\\\\mouse_events.py\": 1720913252.1861446, \"C:\\\\Users\\\\sghys\\\\miniconda3\\\\envs\\\\ml\\\\Lib\\\\site-packages\\\\prompt_toolkit\\\\formatted_text\\\\base.py\": 1720913252.2131448, \"C:\\\\Users\\\\sghys\\\\miniconda3\\\\envs\\\\ml\\\\Lib\\\\site-packages\\\\prompt_toolkit\\\\formatted_text\\\\ansi.py\": 1720913252.2121484, \"C:\\\\Users\\\\sghys\\\\miniconda3\\\\envs\\\\ml\\\\Lib\\\\xml\\\\__init__.py\": 1712046304.0, \"C:\\\\Users\\\\sghys\\\\miniconda3\\\\envs\\\\ml\\\\Lib\\\\xml\\\\dom\\\\domreg.py\": 1712046304.0, \"C:\\\\Users\\\\sghys\\\\miniconda3\\\\envs\\\\ml\\\\Lib\\\\xml\\\\dom\\\\__init__.py\": 1712046304.0, \"C:\\\\Users\\\\sghys\\\\miniconda3\\\\envs\\\\ml\\\\Lib\\\\xml\\\\dom\\\\minicompat.py\": 1712046304.0, \"C:\\\\Users\\\\sghys\\\\miniconda3\\\\envs\\\\ml\\\\Lib\\\\xml\\\\dom\\\\NodeFilter.py\": 1712046304.0, \"C:\\\\Users\\\\sghys\\\\miniconda3\\\\envs\\\\ml\\\\Lib\\\\xml\\\\dom\\\\xmlbuilder.py\": 1712046304.0, \"C:\\\\Users\\\\sghys\\\\miniconda3\\\\envs\\\\ml\\\\Lib\\\\xml\\\\dom\\\\minidom.py\": 1712046304.0, \"C:\\\\Users\\\\sghys\\\\miniconda3\\\\envs\\\\ml\\\\Lib\\\\site-packages\\\\prompt_toolkit\\\\formatted_text\\\\html.py\": 1720913252.2131448, \"C:\\\\Users\\\\sghys\\\\miniconda3\\\\envs\\\\ml\\\\Lib\\\\site-packages\\\\prompt_toolkit\\\\formatted_text\\\\pygments.py\": 1720913252.2141445, \"C:\\\\Users\\\\sghys\\\\miniconda3\\\\envs\\\\ml\\\\Lib\\\\site-packages\\\\prompt_toolkit\\\\formatted_text\\\\utils.py\": 1720913252.2141445, \"C:\\\\Users\\\\sghys\\\\miniconda3\\\\envs\\\\ml\\\\Lib\\\\site-packages\\\\prompt_toolkit\\\\formatted_text\\\\__init__.py\": 1720913252.2121484, \"C:\\\\Users\\\\sghys\\\\miniconda3\\\\envs\\\\ml\\\\Lib\\\\site-packages\\\\prompt_toolkit\\\\completion\\\\base.py\": 1720913252.197145, \"C:\\\\Users\\\\sghys\\\\miniconda3\\\\envs\\\\ml\\\\Lib\\\\site-packages\\\\prompt_toolkit\\\\completion\\\\deduplicate.py\": 1720913252.197145, \"C:\\\\Users\\\\sghys\\\\miniconda3\\\\envs\\\\ml\\\\Lib\\\\site-packages\\\\prompt_toolkit\\\\completion\\\\filesystem.py\": 1720913252.198145, \"C:\\\\Users\\\\sghys\\\\miniconda3\\\\envs\\\\ml\\\\Lib\\\\site-packages\\\\prompt_toolkit\\\\completion\\\\word_completer.py\": 1720913252.1991441, \"C:\\\\Users\\\\sghys\\\\miniconda3\\\\envs\\\\ml\\\\Lib\\\\site-packages\\\\prompt_toolkit\\\\completion\\\\fuzzy_completer.py\": 1720913252.198145, \"C:\\\\Users\\\\sghys\\\\miniconda3\\\\envs\\\\ml\\\\Lib\\\\site-packages\\\\prompt_toolkit\\\\completion\\\\nested.py\": 1720913252.1991441, \"C:\\\\Users\\\\sghys\\\\miniconda3\\\\envs\\\\ml\\\\Lib\\\\site-packages\\\\prompt_toolkit\\\\completion\\\\__init__.py\": 1720913252.196145, \"C:\\\\Users\\\\sghys\\\\miniconda3\\\\envs\\\\ml\\\\Lib\\\\site-packages\\\\prompt_toolkit\\\\history.py\": 1720913252.1851444, \"C:\\\\Users\\\\sghys\\\\miniconda3\\\\envs\\\\ml\\\\Lib\\\\site-packages\\\\prompt_toolkit\\\\search.py\": 1720913252.1881444, \"C:\\\\Users\\\\sghys\\\\miniconda3\\\\envs\\\\ml\\\\Lib\\\\site-packages\\\\prompt_toolkit\\\\validation.py\": 1720913252.1911452, \"C:\\\\Users\\\\sghys\\\\miniconda3\\\\envs\\\\ml\\\\Lib\\\\site-packages\\\\prompt_toolkit\\\\buffer.py\": 1720913252.1821444, \"C:\\\\Users\\\\sghys\\\\miniconda3\\\\envs\\\\ml\\\\Lib\\\\site-packages\\\\prompt_toolkit\\\\input\\\\base.py\": 1720913252.2161446, \"C:\\\\Users\\\\sghys\\\\miniconda3\\\\envs\\\\ml\\\\Lib\\\\site-packages\\\\prompt_toolkit\\\\input\\\\defaults.py\": 1720913252.2161446, \"C:\\\\Users\\\\sghys\\\\miniconda3\\\\envs\\\\ml\\\\Lib\\\\site-packages\\\\prompt_toolkit\\\\input\\\\__init__.py\": 1720913252.2151444, \"C:\\\\Users\\\\sghys\\\\miniconda3\\\\envs\\\\ml\\\\Lib\\\\site-packages\\\\prompt_toolkit\\\\input\\\\typeahead.py\": 1720913252.2181487, \"C:\\\\Users\\\\sghys\\\\miniconda3\\\\envs\\\\ml\\\\Lib\\\\site-packages\\\\prompt_toolkit\\\\key_binding\\\\bindings\\\\__init__.py\": 1720913252.2231443, \"C:\\\\Users\\\\sghys\\\\miniconda3\\\\envs\\\\ml\\\\Lib\\\\site-packages\\\\prompt_toolkit\\\\key_binding\\\\bindings\\\\scroll.py\": 1720913252.229144, \"C:\\\\Users\\\\sghys\\\\miniconda3\\\\envs\\\\ml\\\\Lib\\\\site-packages\\\\prompt_toolkit\\\\key_binding\\\\bindings\\\\page_navigation.py\": 1720913252.228144, \"C:\\\\Users\\\\sghys\\\\miniconda3\\\\envs\\\\ml\\\\Lib\\\\site-packages\\\\prompt_toolkit\\\\lexers\\\\base.py\": 1720913252.2381444, \"C:\\\\Users\\\\sghys\\\\miniconda3\\\\envs\\\\ml\\\\Lib\\\\site-packages\\\\prompt_toolkit\\\\lexers\\\\pygments.py\": 1720913252.239144, \"C:\\\\Users\\\\sghys\\\\miniconda3\\\\envs\\\\ml\\\\Lib\\\\site-packages\\\\prompt_toolkit\\\\lexers\\\\__init__.py\": 1720913252.237144, \"C:\\\\Users\\\\sghys\\\\miniconda3\\\\envs\\\\ml\\\\Lib\\\\site-packages\\\\prompt_toolkit\\\\layout\\\\utils.py\": 1720913252.237144, \"C:\\\\Users\\\\sghys\\\\miniconda3\\\\envs\\\\ml\\\\Lib\\\\site-packages\\\\prompt_toolkit\\\\layout\\\\processors.py\": 1720913252.2351391, \"C:\\\\Users\\\\sghys\\\\miniconda3\\\\envs\\\\ml\\\\Lib\\\\site-packages\\\\prompt_toolkit\\\\layout\\\\controls.py\": 1720913252.2311442, \"C:\\\\Users\\\\sghys\\\\miniconda3\\\\envs\\\\ml\\\\Lib\\\\site-packages\\\\prompt_toolkit\\\\layout\\\\dimension.py\": 1720913252.2321448, \"C:\\\\Users\\\\sghys\\\\miniconda3\\\\envs\\\\ml\\\\Lib\\\\site-packages\\\\prompt_toolkit\\\\layout\\\\margins.py\": 1720913252.234125, \"C:\\\\Users\\\\sghys\\\\miniconda3\\\\envs\\\\ml\\\\Lib\\\\site-packages\\\\prompt_toolkit\\\\layout\\\\mouse_handlers.py\": 1720913252.2351391, \"C:\\\\Users\\\\sghys\\\\miniconda3\\\\envs\\\\ml\\\\Lib\\\\site-packages\\\\prompt_toolkit\\\\layout\\\\screen.py\": 1720913252.2361386, \"C:\\\\Users\\\\sghys\\\\miniconda3\\\\envs\\\\ml\\\\Lib\\\\site-packages\\\\prompt_toolkit\\\\layout\\\\containers.py\": 1720913252.2311442, \"C:\\\\Users\\\\sghys\\\\miniconda3\\\\envs\\\\ml\\\\Lib\\\\site-packages\\\\prompt_toolkit\\\\layout\\\\layout.py\": 1720913252.2331457, \"C:\\\\Users\\\\sghys\\\\miniconda3\\\\envs\\\\ml\\\\Lib\\\\site-packages\\\\prompt_toolkit\\\\layout\\\\menus.py\": 1720913252.234125, \"C:\\\\Users\\\\sghys\\\\miniconda3\\\\envs\\\\ml\\\\Lib\\\\site-packages\\\\prompt_toolkit\\\\layout\\\\scrollable_pane.py\": 1720913252.2361386, \"C:\\\\Users\\\\sghys\\\\miniconda3\\\\envs\\\\ml\\\\Lib\\\\site-packages\\\\prompt_toolkit\\\\layout\\\\__init__.py\": 1720913252.2301443, \"C:\\\\Users\\\\sghys\\\\miniconda3\\\\envs\\\\ml\\\\Lib\\\\site-packages\\\\prompt_toolkit\\\\key_binding\\\\bindings\\\\completion.py\": 1720913252.2251444, \"C:\\\\Users\\\\sghys\\\\miniconda3\\\\envs\\\\ml\\\\Lib\\\\site-packages\\\\prompt_toolkit\\\\key_binding\\\\bindings\\\\named_commands.py\": 1720913252.2271454, \"C:\\\\Users\\\\sghys\\\\miniconda3\\\\envs\\\\ml\\\\Lib\\\\site-packages\\\\prompt_toolkit\\\\key_binding\\\\bindings\\\\basic.py\": 1720913252.2241468, \"C:\\\\Users\\\\sghys\\\\miniconda3\\\\envs\\\\ml\\\\Lib\\\\site-packages\\\\prompt_toolkit\\\\key_binding\\\\bindings\\\\cpr.py\": 1720913252.2251444, \"C:\\\\Users\\\\sghys\\\\miniconda3\\\\envs\\\\ml\\\\Lib\\\\site-packages\\\\prompt_toolkit\\\\key_binding\\\\bindings\\\\emacs.py\": 1720913252.2261448, \"C:\\\\Users\\\\sghys\\\\miniconda3\\\\envs\\\\ml\\\\Lib\\\\site-packages\\\\prompt_toolkit\\\\key_binding\\\\bindings\\\\mouse.py\": 1720913252.2271454, \"C:\\\\Users\\\\sghys\\\\miniconda3\\\\envs\\\\ml\\\\Lib\\\\site-packages\\\\prompt_toolkit\\\\input\\\\ansi_escape_sequences.py\": 1720913252.2151444, \"C:\\\\Users\\\\sghys\\\\miniconda3\\\\envs\\\\ml\\\\Lib\\\\site-packages\\\\prompt_toolkit\\\\input\\\\vt100_parser.py\": 1720913252.2191443, \"C:\\\\Users\\\\sghys\\\\miniconda3\\\\envs\\\\ml\\\\Lib\\\\site-packages\\\\prompt_toolkit\\\\key_binding\\\\digraphs.py\": 1720913252.2211444, \"C:\\\\Users\\\\sghys\\\\miniconda3\\\\envs\\\\ml\\\\Lib\\\\site-packages\\\\prompt_toolkit\\\\key_binding\\\\bindings\\\\vi.py\": 1720913252.2301443, \"C:\\\\Users\\\\sghys\\\\miniconda3\\\\envs\\\\ml\\\\Lib\\\\site-packages\\\\prompt_toolkit\\\\key_binding\\\\defaults.py\": 1720913252.2211444, \"C:\\\\Users\\\\sghys\\\\miniconda3\\\\envs\\\\ml\\\\Lib\\\\site-packages\\\\prompt_toolkit\\\\key_binding\\\\emacs_state.py\": 1720913252.222144, \"C:\\\\Users\\\\sghys\\\\miniconda3\\\\envs\\\\ml\\\\Lib\\\\site-packages\\\\prompt_toolkit\\\\layout\\\\dummy.py\": 1720913252.2321448, \"C:\\\\Users\\\\sghys\\\\miniconda3\\\\envs\\\\ml\\\\Lib\\\\site-packages\\\\prompt_toolkit\\\\renderer.py\": 1720913252.1881444, \"C:\\\\Users\\\\sghys\\\\miniconda3\\\\envs\\\\ml\\\\Lib\\\\site-packages\\\\prompt_toolkit\\\\application\\\\application.py\": 1720913252.1921444, \"C:\\\\Users\\\\sghys\\\\miniconda3\\\\envs\\\\ml\\\\Lib\\\\site-packages\\\\prompt_toolkit\\\\application\\\\dummy.py\": 1720913252.193144, \"C:\\\\Users\\\\sghys\\\\miniconda3\\\\envs\\\\ml\\\\Lib\\\\site-packages\\\\prompt_toolkit\\\\application\\\\__init__.py\": 1720913252.1921444, \"C:\\\\Users\\\\sghys\\\\miniconda3\\\\envs\\\\ml\\\\Lib\\\\site-packages\\\\prompt_toolkit\\\\key_binding\\\\bindings\\\\focus.py\": 1720913252.2261448, \"C:\\\\Users\\\\sghys\\\\miniconda3\\\\envs\\\\ml\\\\Lib\\\\site-packages\\\\prompt_toolkit\\\\widgets\\\\toolbars.py\": 1720913252.253145, \"C:\\\\Users\\\\sghys\\\\miniconda3\\\\envs\\\\ml\\\\Lib\\\\site-packages\\\\prompt_toolkit\\\\widgets\\\\base.py\": 1720913252.2521443, \"C:\\\\Users\\\\sghys\\\\miniconda3\\\\envs\\\\ml\\\\Lib\\\\site-packages\\\\prompt_toolkit\\\\widgets\\\\dialogs.py\": 1720913252.2521443, \"C:\\\\Users\\\\sghys\\\\miniconda3\\\\envs\\\\ml\\\\Lib\\\\site-packages\\\\prompt_toolkit\\\\widgets\\\\menus.py\": 1720913252.253145, \"C:\\\\Users\\\\sghys\\\\miniconda3\\\\envs\\\\ml\\\\Lib\\\\site-packages\\\\prompt_toolkit\\\\widgets\\\\__init__.py\": 1720913252.2511444, \"C:\\\\Users\\\\sghys\\\\miniconda3\\\\envs\\\\ml\\\\Lib\\\\site-packages\\\\prompt_toolkit\\\\shortcuts\\\\dialogs.py\": 1720913252.2441444, \"C:\\\\Users\\\\sghys\\\\miniconda3\\\\envs\\\\ml\\\\Lib\\\\xml\\\\parsers\\\\__init__.py\": 1712046304.0, \"C:\\\\Users\\\\sghys\\\\miniconda3\\\\envs\\\\ml\\\\DLLs\\\\pyexpat.pyd\": 1713545319.336861, \"C:\\\\Users\\\\sghys\\\\miniconda3\\\\envs\\\\ml\\\\Lib\\\\xml\\\\parsers\\\\expat.py\": 1712046304.0, \"C:\\\\Users\\\\sghys\\\\miniconda3\\\\envs\\\\ml\\\\Lib\\\\xml\\\\dom\\\\expatbuilder.py\": 1712046304.0, \"C:\\\\Users\\\\sghys\\\\miniconda3\\\\envs\\\\ml\\\\Lib\\\\site-packages\\\\prompt_toolkit\\\\shortcuts\\\\progress_bar\\\\formatters.py\": 1720913252.2471452, \"C:\\\\Users\\\\sghys\\\\miniconda3\\\\envs\\\\ml\\\\Lib\\\\site-packages\\\\prompt_toolkit\\\\shortcuts\\\\progress_bar\\\\base.py\": 1720913252.2471452, \"C:\\\\Users\\\\sghys\\\\miniconda3\\\\envs\\\\ml\\\\Lib\\\\site-packages\\\\prompt_toolkit\\\\shortcuts\\\\progress_bar\\\\__init__.py\": 1720913252.2461443, \"C:\\\\Users\\\\sghys\\\\miniconda3\\\\envs\\\\ml\\\\Lib\\\\site-packages\\\\prompt_toolkit\\\\key_binding\\\\bindings\\\\auto_suggest.py\": 1720913252.2241468, \"C:\\\\Users\\\\sghys\\\\miniconda3\\\\envs\\\\ml\\\\Lib\\\\site-packages\\\\prompt_toolkit\\\\key_binding\\\\bindings\\\\open_in_editor.py\": 1720913252.228144, \"C:\\\\Users\\\\sghys\\\\miniconda3\\\\envs\\\\ml\\\\Lib\\\\site-packages\\\\prompt_toolkit\\\\shortcuts\\\\prompt.py\": 1720913252.2451441, \"C:\\\\Users\\\\sghys\\\\miniconda3\\\\envs\\\\ml\\\\Lib\\\\site-packages\\\\prompt_toolkit\\\\shortcuts\\\\utils.py\": 1720913252.2451441, \"C:\\\\Users\\\\sghys\\\\miniconda3\\\\envs\\\\ml\\\\Lib\\\\site-packages\\\\prompt_toolkit\\\\shortcuts\\\\__init__.py\": 1720913252.2441444, \"C:\\\\Users\\\\sghys\\\\miniconda3\\\\envs\\\\ml\\\\Lib\\\\site-packages\\\\prompt_toolkit\\\\__init__.py\": 1720913252.1801443, \"C:\\\\Users\\\\sghys\\\\miniconda3\\\\envs\\\\ml\\\\Lib\\\\site-packages\\\\prompt_toolkit\\\\patch_stdout.py\": 1720913252.187144, \"C:\\\\Users\\\\sghys\\\\miniconda3\\\\envs\\\\ml\\\\DLLs\\\\unicodedata.pyd\": 1713545324.7769263, \"C:\\\\Users\\\\sghys\\\\miniconda3\\\\envs\\\\ml\\\\Lib\\\\site-packages\\\\IPython\\\\core\\\\guarded_eval.py\": 1720913263.7326925, \"C:\\\\Users\\\\sghys\\\\miniconda3\\\\envs\\\\ml\\\\Lib\\\\site-packages\\\\IPython\\\\core\\\\latex_symbols.py\": 1720913263.7396924, \"C:\\\\Users\\\\sghys\\\\miniconda3\\\\envs\\\\ml\\\\Lib\\\\site-packages\\\\IPython\\\\utils\\\\generics.py\": 1720913263.8614855, \"C:\\\\Users\\\\sghys\\\\miniconda3\\\\envs\\\\ml\\\\Lib\\\\site-packages\\\\parso\\\\utils.py\": 1720913252.6614995, \"C:\\\\Users\\\\sghys\\\\miniconda3\\\\envs\\\\ml\\\\Lib\\\\site-packages\\\\parso\\\\tree.py\": 1720913252.6604998, \"C:\\\\Users\\\\sghys\\\\miniconda3\\\\envs\\\\ml\\\\Lib\\\\site-packages\\\\parso\\\\python\\\\__init__.py\": 1720913252.6624997, \"C:\\\\Users\\\\sghys\\\\miniconda3\\\\envs\\\\ml\\\\Lib\\\\site-packages\\\\parso\\\\python\\\\token.py\": 1720913252.6694999, \"C:\\\\Users\\\\sghys\\\\miniconda3\\\\envs\\\\ml\\\\Lib\\\\site-packages\\\\parso\\\\python\\\\tokenize.py\": 1720913252.67003, \"C:\\\\Users\\\\sghys\\\\miniconda3\\\\envs\\\\ml\\\\Lib\\\\site-packages\\\\parso\\\\pgen2\\\\grammar_parser.py\": 1720913252.6624997, \"C:\\\\Users\\\\sghys\\\\miniconda3\\\\envs\\\\ml\\\\Lib\\\\site-packages\\\\parso\\\\pgen2\\\\generator.py\": 1720913252.6614995, \"C:\\\\Users\\\\sghys\\\\miniconda3\\\\envs\\\\ml\\\\Lib\\\\site-packages\\\\parso\\\\pgen2\\\\__init__.py\": 1720913252.6614995, \"C:\\\\Users\\\\sghys\\\\miniconda3\\\\envs\\\\ml\\\\Lib\\\\site-packages\\\\parso\\\\parser.py\": 1720913252.6595, \"C:\\\\Users\\\\sghys\\\\miniconda3\\\\envs\\\\ml\\\\Lib\\\\site-packages\\\\parso\\\\_compatibility.py\": 1720913252.6574996, \"C:\\\\Users\\\\sghys\\\\miniconda3\\\\envs\\\\ml\\\\Lib\\\\difflib.py\": 1712046304.0, \"C:\\\\Users\\\\sghys\\\\miniconda3\\\\envs\\\\ml\\\\Lib\\\\site-packages\\\\parso\\\\python\\\\prefix.py\": 1720913252.6694999, \"C:\\\\Users\\\\sghys\\\\miniconda3\\\\envs\\\\ml\\\\Lib\\\\site-packages\\\\parso\\\\python\\\\tree.py\": 1720913252.67003, \"C:\\\\Users\\\\sghys\\\\miniconda3\\\\envs\\\\ml\\\\Lib\\\\site-packages\\\\parso\\\\python\\\\parser.py\": 1720913252.6674998, \"C:\\\\Users\\\\sghys\\\\miniconda3\\\\envs\\\\ml\\\\Lib\\\\site-packages\\\\parso\\\\python\\\\diff.py\": 1720913252.6634996, \"C:\\\\Users\\\\sghys\\\\miniconda3\\\\envs\\\\ml\\\\Lib\\\\site-packages\\\\parso\\\\cache.py\": 1720913252.6584995, \"C:\\\\Users\\\\sghys\\\\miniconda3\\\\envs\\\\ml\\\\Lib\\\\site-packages\\\\parso\\\\normalizer.py\": 1720913252.6595, \"C:\\\\Users\\\\sghys\\\\miniconda3\\\\envs\\\\ml\\\\Lib\\\\site-packages\\\\parso\\\\python\\\\errors.py\": 1720913252.6634996, \"C:\\\\Users\\\\sghys\\\\miniconda3\\\\envs\\\\ml\\\\Lib\\\\site-packages\\\\parso\\\\python\\\\pep8.py\": 1720913252.6685002, \"C:\\\\Users\\\\sghys\\\\miniconda3\\\\envs\\\\ml\\\\Lib\\\\site-packages\\\\parso\\\\file_io.py\": 1720913252.6584995, \"C:\\\\Users\\\\sghys\\\\miniconda3\\\\envs\\\\ml\\\\Lib\\\\site-packages\\\\parso\\\\grammar.py\": 1720913252.6584995, \"C:\\\\Users\\\\sghys\\\\miniconda3\\\\envs\\\\ml\\\\Lib\\\\site-packages\\\\parso\\\\__init__.py\": 1720913252.6574996, \"C:\\\\Users\\\\sghys\\\\miniconda3\\\\envs\\\\ml\\\\Lib\\\\site-packages\\\\jedi\\\\parser_utils.py\": 1720913257.634381, \"C:\\\\Users\\\\sghys\\\\miniconda3\\\\envs\\\\ml\\\\Lib\\\\site-packages\\\\jedi\\\\debug.py\": 1720913257.633382, \"C:\\\\Users\\\\sghys\\\\miniconda3\\\\envs\\\\ml\\\\Lib\\\\site-packages\\\\jedi\\\\settings.py\": 1720913257.635382, \"C:\\\\Users\\\\sghys\\\\miniconda3\\\\envs\\\\ml\\\\Lib\\\\site-packages\\\\jedi\\\\cache.py\": 1720913257.633382, \"C:\\\\Users\\\\sghys\\\\miniconda3\\\\envs\\\\ml\\\\Lib\\\\site-packages\\\\jedi\\\\file_io.py\": 1720913257.634381, \"C:\\\\Users\\\\sghys\\\\miniconda3\\\\envs\\\\ml\\\\Lib\\\\site-packages\\\\jedi\\\\inference\\\\cache.py\": 1720913257.649384, \"C:\\\\Users\\\\sghys\\\\miniconda3\\\\envs\\\\ml\\\\Lib\\\\site-packages\\\\jedi\\\\inference\\\\helpers.py\": 1720913257.6533828, \"C:\\\\Users\\\\sghys\\\\miniconda3\\\\envs\\\\ml\\\\Lib\\\\site-packages\\\\jedi\\\\inference\\\\utils.py\": 1720913257.6604042, \"C:\\\\Users\\\\sghys\\\\miniconda3\\\\envs\\\\ml\\\\Lib\\\\site-packages\\\\jedi\\\\inference\\\\base_value.py\": 1720913257.648382, \"C:\\\\Users\\\\sghys\\\\miniconda3\\\\envs\\\\ml\\\\Lib\\\\site-packages\\\\jedi\\\\inference\\\\sys_path.py\": 1720913257.6593926, \"C:\\\\Users\\\\sghys\\\\miniconda3\\\\envs\\\\ml\\\\Lib\\\\site-packages\\\\jedi\\\\inference\\\\recursion.py\": 1720913257.6563838, \"C:\\\\Users\\\\sghys\\\\miniconda3\\\\envs\\\\ml\\\\Lib\\\\site-packages\\\\jedi\\\\inference\\\\flow_analysis.py\": 1720913257.652382, \"C:\\\\Users\\\\sghys\\\\miniconda3\\\\envs\\\\ml\\\\Lib\\\\site-packages\\\\jedi\\\\common.py\": 1720913257.633382, \"C:\\\\Users\\\\sghys\\\\miniconda3\\\\envs\\\\ml\\\\Lib\\\\site-packages\\\\jedi\\\\inference\\\\lazy_value.py\": 1720913257.654381, \"C:\\\\Users\\\\sghys\\\\miniconda3\\\\envs\\\\ml\\\\Lib\\\\site-packages\\\\jedi\\\\inference\\\\docstrings.py\": 1720913257.650384, \"C:\\\\Users\\\\sghys\\\\miniconda3\\\\envs\\\\ml\\\\Lib\\\\site-packages\\\\jedi\\\\plugins\\\\__init__.py\": 1720913257.67444, \"C:\\\\Users\\\\sghys\\\\miniconda3\\\\envs\\\\ml\\\\Lib\\\\site-packages\\\\jedi\\\\inference\\\\names.py\": 1720913257.654381, \"C:\\\\Users\\\\sghys\\\\miniconda3\\\\envs\\\\ml\\\\Lib\\\\site-packages\\\\jedi\\\\inference\\\\filters.py\": 1720913257.652382, \"C:\\\\Users\\\\sghys\\\\miniconda3\\\\envs\\\\ml\\\\Lib\\\\site-packages\\\\jedi\\\\inference\\\\compiled\\\\getattr_static.py\": 1720913257.6623876, \"C:\\\\Users\\\\sghys\\\\miniconda3\\\\envs\\\\ml\\\\Lib\\\\site-packages\\\\jedi\\\\inference\\\\compiled\\\\access.py\": 1720913257.6623876, \"C:\\\\Users\\\\sghys\\\\miniconda3\\\\envs\\\\ml\\\\Lib\\\\site-packages\\\\jedi\\\\inference\\\\signature.py\": 1720913257.6573815, \"C:\\\\Users\\\\sghys\\\\miniconda3\\\\envs\\\\ml\\\\Lib\\\\site-packages\\\\jedi\\\\inference\\\\context.py\": 1720913257.649384, \"C:\\\\Users\\\\sghys\\\\miniconda3\\\\envs\\\\ml\\\\Lib\\\\site-packages\\\\jedi\\\\inference\\\\compiled\\\\value.py\": 1720913257.6633885, \"C:\\\\Users\\\\sghys\\\\miniconda3\\\\envs\\\\ml\\\\Lib\\\\site-packages\\\\jedi\\\\inference\\\\compiled\\\\__init__.py\": 1720913257.6613877, \"C:\\\\Users\\\\sghys\\\\miniconda3\\\\envs\\\\ml\\\\Lib\\\\site-packages\\\\jedi\\\\inference\\\\analysis.py\": 1720913257.6473818, \"C:\\\\Users\\\\sghys\\\\miniconda3\\\\envs\\\\ml\\\\Lib\\\\site-packages\\\\jedi\\\\inference\\\\gradual\\\\__init__.py\": 1720913257.6653874, \"C:\\\\Users\\\\sghys\\\\miniconda3\\\\envs\\\\ml\\\\Lib\\\\site-packages\\\\jedi\\\\inference\\\\value\\\\module.py\": 1720913257.6734397, \"C:\\\\Users\\\\sghys\\\\miniconda3\\\\envs\\\\ml\\\\Lib\\\\site-packages\\\\jedi\\\\inference\\\\value\\\\dynamic_arrays.py\": 1720913257.670386, \"C:\\\\Users\\\\sghys\\\\miniconda3\\\\envs\\\\ml\\\\Lib\\\\site-packages\\\\jedi\\\\inference\\\\value\\\\iterable.py\": 1720913257.6723866, \"C:\\\\Users\\\\sghys\\\\miniconda3\\\\envs\\\\ml\\\\Lib\\\\site-packages\\\\jedi\\\\inference\\\\arguments.py\": 1720913257.648382, \"C:\\\\Users\\\\sghys\\\\miniconda3\\\\envs\\\\ml\\\\Lib\\\\site-packages\\\\jedi\\\\inference\\\\parser_cache.py\": 1720913257.6553824, \"C:\\\\Users\\\\sghys\\\\miniconda3\\\\envs\\\\ml\\\\Lib\\\\site-packages\\\\jedi\\\\inference\\\\gradual\\\\generics.py\": 1720913257.6673872, \"C:\\\\Users\\\\sghys\\\\miniconda3\\\\envs\\\\ml\\\\Lib\\\\site-packages\\\\jedi\\\\inference\\\\value\\\\function.py\": 1720913257.671386, \"C:\\\\Users\\\\sghys\\\\miniconda3\\\\envs\\\\ml\\\\Lib\\\\site-packages\\\\jedi\\\\inference\\\\value\\\\klass.py\": 1720913257.6734397, \"C:\\\\Users\\\\sghys\\\\miniconda3\\\\envs\\\\ml\\\\Lib\\\\site-packages\\\\jedi\\\\inference\\\\value\\\\instance.py\": 1720913257.6723866, \"C:\\\\Users\\\\sghys\\\\miniconda3\\\\envs\\\\ml\\\\Lib\\\\site-packages\\\\jedi\\\\inference\\\\value\\\\__init__.py\": 1720913257.670386, \"C:\\\\Users\\\\sghys\\\\miniconda3\\\\envs\\\\ml\\\\Lib\\\\site-packages\\\\jedi\\\\inference\\\\gradual\\\\base.py\": 1720913257.6663866, \"C:\\\\Users\\\\sghys\\\\miniconda3\\\\envs\\\\ml\\\\Lib\\\\site-packages\\\\jedi\\\\inference\\\\gradual\\\\type_var.py\": 1720913257.668386, \"C:\\\\Users\\\\sghys\\\\miniconda3\\\\envs\\\\ml\\\\Lib\\\\site-packages\\\\jedi\\\\inference\\\\gradual\\\\typing.py\": 1720913257.6693852, \"C:\\\\Users\\\\sghys\\\\miniconda3\\\\envs\\\\ml\\\\Lib\\\\site-packages\\\\jedi\\\\inference\\\\gradual\\\\stub_value.py\": 1720913257.6673872, \"C:\\\\Users\\\\sghys\\\\miniconda3\\\\envs\\\\ml\\\\Lib\\\\site-packages\\\\jedi\\\\inference\\\\gradual\\\\typeshed.py\": 1720913257.668386, \"C:\\\\Users\\\\sghys\\\\miniconda3\\\\envs\\\\ml\\\\Lib\\\\site-packages\\\\jedi\\\\_compatibility.py\": 1720913257.632382, \"C:\\\\Users\\\\sghys\\\\miniconda3\\\\envs\\\\ml\\\\Lib\\\\site-packages\\\\jedi\\\\inference\\\\compiled\\\\subprocess\\\\functions.py\": 1720913257.6653874, \"C:\\\\Users\\\\sghys\\\\miniconda3\\\\envs\\\\ml\\\\Lib\\\\site-packages\\\\jedi\\\\api\\\\exceptions.py\": 1720913257.6413834, \"C:\\\\Users\\\\sghys\\\\miniconda3\\\\envs\\\\ml\\\\Lib\\\\site-packages\\\\jedi\\\\inference\\\\compiled\\\\subprocess\\\\__init__.py\": 1720913257.6643865, \"C:\\\\Users\\\\sghys\\\\miniconda3\\\\envs\\\\ml\\\\Lib\\\\site-packages\\\\jedi\\\\inference\\\\imports.py\": 1720913257.654381, \"C:\\\\Users\\\\sghys\\\\miniconda3\\\\envs\\\\ml\\\\Lib\\\\site-packages\\\\jedi\\\\inference\\\\param.py\": 1720913257.6553824, \"C:\\\\Users\\\\sghys\\\\miniconda3\\\\envs\\\\ml\\\\Lib\\\\site-packages\\\\jedi\\\\inference\\\\gradual\\\\annotation.py\": 1720913257.6653874, \"C:\\\\Users\\\\sghys\\\\miniconda3\\\\envs\\\\ml\\\\Lib\\\\site-packages\\\\jedi\\\\inference\\\\value\\\\decorator.py\": 1720913257.670386, \"C:\\\\Users\\\\sghys\\\\miniconda3\\\\envs\\\\ml\\\\Lib\\\\site-packages\\\\jedi\\\\inference\\\\syntax_tree.py\": 1720913257.6593926, \"C:\\\\Users\\\\sghys\\\\miniconda3\\\\envs\\\\ml\\\\Lib\\\\site-packages\\\\jedi\\\\inference\\\\__init__.py\": 1720913257.6473818, \"C:\\\\Users\\\\sghys\\\\miniconda3\\\\envs\\\\ml\\\\Lib\\\\site-packages\\\\jedi\\\\inference\\\\gradual\\\\conversion.py\": 1720913257.6663866, \"C:\\\\Users\\\\sghys\\\\miniconda3\\\\envs\\\\ml\\\\Lib\\\\site-packages\\\\jedi\\\\inference\\\\compiled\\\\mixed.py\": 1720913257.6633885, \"C:\\\\Users\\\\sghys\\\\miniconda3\\\\envs\\\\ml\\\\Lib\\\\pydoc_data\\\\__init__.py\": 1712046304.0, \"C:\\\\Users\\\\sghys\\\\miniconda3\\\\envs\\\\ml\\\\Lib\\\\pydoc_data\\\\topics.py\": 1712046304.0, \"C:\\\\Users\\\\sghys\\\\miniconda3\\\\envs\\\\ml\\\\Lib\\\\site-packages\\\\jedi\\\\api\\\\keywords.py\": 1720913257.6433837, \"C:\\\\Users\\\\sghys\\\\miniconda3\\\\envs\\\\ml\\\\Lib\\\\site-packages\\\\jedi\\\\api\\\\completion_cache.py\": 1720913257.6393847, \"C:\\\\Users\\\\sghys\\\\miniconda3\\\\envs\\\\ml\\\\Lib\\\\site-packages\\\\jedi\\\\api\\\\helpers.py\": 1720913257.6423817, \"C:\\\\Users\\\\sghys\\\\miniconda3\\\\envs\\\\ml\\\\Lib\\\\site-packages\\\\jedi\\\\api\\\\classes.py\": 1720913257.6383858, \"C:\\\\Users\\\\sghys\\\\miniconda3\\\\envs\\\\ml\\\\Lib\\\\site-packages\\\\jedi\\\\api\\\\interpreter.py\": 1720913257.6423817, \"C:\\\\Users\\\\sghys\\\\miniconda3\\\\envs\\\\ml\\\\Lib\\\\site-packages\\\\jedi\\\\api\\\\strings.py\": 1720913257.6453838, \"C:\\\\Users\\\\sghys\\\\miniconda3\\\\envs\\\\ml\\\\Lib\\\\site-packages\\\\jedi\\\\api\\\\file_name.py\": 1720913257.6413834, \"C:\\\\Users\\\\sghys\\\\miniconda3\\\\envs\\\\ml\\\\Lib\\\\site-packages\\\\jedi\\\\inference\\\\docstring_utils.py\": 1720913257.650384, \"C:\\\\Users\\\\sghys\\\\miniconda3\\\\envs\\\\ml\\\\Lib\\\\site-packages\\\\jedi\\\\api\\\\completion.py\": 1720913257.6393847, \"C:\\\\Users\\\\sghys\\\\miniconda3\\\\envs\\\\ml\\\\Lib\\\\filecmp.py\": 1712046304.0, \"C:\\\\Users\\\\sghys\\\\miniconda3\\\\envs\\\\ml\\\\Lib\\\\site-packages\\\\jedi\\\\api\\\\environment.py\": 1720913257.640382, \"C:\\\\Users\\\\sghys\\\\miniconda3\\\\envs\\\\ml\\\\Lib\\\\site-packages\\\\jedi\\\\inference\\\\references.py\": 1720913257.6563838, \"C:\\\\Users\\\\sghys\\\\miniconda3\\\\envs\\\\ml\\\\Lib\\\\site-packages\\\\jedi\\\\api\\\\project.py\": 1720913257.644383, \"C:\\\\Users\\\\sghys\\\\miniconda3\\\\envs\\\\ml\\\\Lib\\\\site-packages\\\\jedi\\\\api\\\\errors.py\": 1720913257.640382, \"C:\\\\Users\\\\sghys\\\\miniconda3\\\\envs\\\\ml\\\\Lib\\\\site-packages\\\\jedi\\\\inference\\\\value\\\\namespace.py\": 1720913257.67444, \"C:\\\\Users\\\\sghys\\\\miniconda3\\\\envs\\\\ml\\\\Lib\\\\site-packages\\\\jedi\\\\api\\\\refactoring\\\\__init__.py\": 1720913257.6453838, \"C:\\\\Users\\\\sghys\\\\miniconda3\\\\envs\\\\ml\\\\Lib\\\\site-packages\\\\jedi\\\\api\\\\refactoring\\\\extract.py\": 1720913257.646384, \"C:\\\\Users\\\\sghys\\\\miniconda3\\\\envs\\\\ml\\\\Lib\\\\site-packages\\\\jedi\\\\inference\\\\gradual\\\\utils.py\": 1720913257.6693852, \"C:\\\\Users\\\\sghys\\\\miniconda3\\\\envs\\\\ml\\\\Lib\\\\site-packages\\\\jedi\\\\api\\\\__init__.py\": 1720913257.6373835, \"C:\\\\Users\\\\sghys\\\\miniconda3\\\\envs\\\\ml\\\\Lib\\\\site-packages\\\\jedi\\\\plugins\\\\stdlib.py\": 1720913257.6774397, \"C:\\\\Users\\\\sghys\\\\miniconda3\\\\envs\\\\ml\\\\Lib\\\\site-packages\\\\jedi\\\\plugins\\\\flask.py\": 1720913257.6754408, \"C:\\\\Users\\\\sghys\\\\miniconda3\\\\envs\\\\ml\\\\Lib\\\\site-packages\\\\jedi\\\\plugins\\\\pytest.py\": 1720913257.6764393, \"C:\\\\Users\\\\sghys\\\\miniconda3\\\\envs\\\\ml\\\\Lib\\\\site-packages\\\\jedi\\\\plugins\\\\django.py\": 1720913257.6754408, \"C:\\\\Users\\\\sghys\\\\miniconda3\\\\envs\\\\ml\\\\Lib\\\\site-packages\\\\jedi\\\\plugins\\\\registry.py\": 1720913257.6764393, \"C:\\\\Users\\\\sghys\\\\miniconda3\\\\envs\\\\ml\\\\Lib\\\\site-packages\\\\jedi\\\\__init__.py\": 1720913257.6313827, \"C:\\\\Users\\\\sghys\\\\miniconda3\\\\envs\\\\ml\\\\Lib\\\\site-packages\\\\IPython\\\\core\\\\completer.py\": 1720913263.7256906, \"C:\\\\Users\\\\sghys\\\\miniconda3\\\\envs\\\\ml\\\\Lib\\\\site-packages\\\\IPython\\\\terminal\\\\ptutils.py\": 1720913263.8194785, \"C:\\\\Users\\\\sghys\\\\miniconda3\\\\envs\\\\ml\\\\Lib\\\\site-packages\\\\IPython\\\\terminal\\\\shortcuts\\\\auto_match.py\": 1720913263.8274784, \"C:\\\\Users\\\\sghys\\\\miniconda3\\\\envs\\\\ml\\\\Lib\\\\site-packages\\\\IPython\\\\terminal\\\\shortcuts\\\\filters.py\": 1720913263.8294785, \"C:\\\\Users\\\\sghys\\\\miniconda3\\\\envs\\\\ml\\\\Lib\\\\site-packages\\\\IPython\\\\terminal\\\\shortcuts\\\\auto_suggest.py\": 1720913263.8284793, \"C:\\\\Users\\\\sghys\\\\miniconda3\\\\envs\\\\ml\\\\Lib\\\\site-packages\\\\IPython\\\\lib\\\\clipboard.py\": 1720913263.801592, \"C:\\\\Users\\\\sghys\\\\miniconda3\\\\envs\\\\ml\\\\Lib\\\\site-packages\\\\IPython\\\\terminal\\\\shortcuts\\\\__init__.py\": 1720913263.8274784, \"C:\\\\Users\\\\sghys\\\\miniconda3\\\\envs\\\\ml\\\\Lib\\\\concurrent\\\\futures\\\\thread.py\": 1712046304.0, \"C:\\\\Users\\\\sghys\\\\miniconda3\\\\envs\\\\ml\\\\Lib\\\\site-packages\\\\IPython\\\\terminal\\\\debugger.py\": 1720913263.8164785, \"C:\\\\Users\\\\sghys\\\\miniconda3\\\\envs\\\\ml\\\\Lib\\\\site-packages\\\\IPython\\\\terminal\\\\magics.py\": 1720913263.8184788, \"C:\\\\Users\\\\sghys\\\\miniconda3\\\\envs\\\\ml\\\\Lib\\\\site-packages\\\\IPython\\\\terminal\\\\pt_inputhooks\\\\__init__.py\": 1720913263.8204818, \"C:\\\\Users\\\\sghys\\\\miniconda3\\\\envs\\\\ml\\\\Lib\\\\site-packages\\\\IPython\\\\terminal\\\\prompts.py\": 1720913263.8184788, \"C:\\\\Users\\\\sghys\\\\miniconda3\\\\envs\\\\ml\\\\Lib\\\\site-packages\\\\IPython\\\\terminal\\\\interactiveshell.py\": 1720913263.817478, \"C:\\\\Users\\\\sghys\\\\miniconda3\\\\envs\\\\ml\\\\Lib\\\\site-packages\\\\IPython\\\\core\\\\magics\\\\auto.py\": 1720913263.755038, \"C:\\\\Users\\\\sghys\\\\miniconda3\\\\envs\\\\ml\\\\Lib\\\\site-packages\\\\IPython\\\\core\\\\magics\\\\basic.py\": 1720913263.7560446, \"C:\\\\Users\\\\sghys\\\\miniconda3\\\\envs\\\\ml\\\\Lib\\\\http\\\\__init__.py\": 1712046304.0, \"C:\\\\Users\\\\sghys\\\\miniconda3\\\\envs\\\\ml\\\\Lib\\\\email\\\\feedparser.py\": 1712046304.0, \"C:\\\\Users\\\\sghys\\\\miniconda3\\\\envs\\\\ml\\\\Lib\\\\email\\\\parser.py\": 1712046304.0, \"C:\\\\Users\\\\sghys\\\\miniconda3\\\\envs\\\\ml\\\\Lib\\\\http\\\\client.py\": 1712046304.0, \"C:\\\\Users\\\\sghys\\\\miniconda3\\\\envs\\\\ml\\\\Lib\\\\urllib\\\\response.py\": 1712046304.0, \"C:\\\\Users\\\\sghys\\\\miniconda3\\\\envs\\\\ml\\\\Lib\\\\urllib\\\\error.py\": 1712046304.0, \"C:\\\\Users\\\\sghys\\\\miniconda3\\\\envs\\\\ml\\\\Lib\\\\nturl2path.py\": 1712046304.0, \"C:\\\\Users\\\\sghys\\\\miniconda3\\\\envs\\\\ml\\\\Lib\\\\urllib\\\\request.py\": 1712046304.0, \"C:\\\\Users\\\\sghys\\\\miniconda3\\\\envs\\\\ml\\\\Lib\\\\site-packages\\\\IPython\\\\utils\\\\contexts.py\": 1720913263.8564787, \"C:\\\\Users\\\\sghys\\\\miniconda3\\\\envs\\\\ml\\\\Lib\\\\site-packages\\\\IPython\\\\core\\\\magics\\\\code.py\": 1720913263.7560446, \"C:\\\\Users\\\\sghys\\\\miniconda3\\\\envs\\\\ml\\\\Lib\\\\site-packages\\\\IPython\\\\core\\\\magics\\\\config.py\": 1720913263.7570443, \"C:\\\\Users\\\\sghys\\\\miniconda3\\\\envs\\\\ml\\\\Lib\\\\site-packages\\\\IPython\\\\core\\\\magics\\\\display.py\": 1720913263.7580447, \"C:\\\\Users\\\\sghys\\\\miniconda3\\\\envs\\\\ml\\\\Lib\\\\profile.py\": 1712046304.0, \"C:\\\\Users\\\\sghys\\\\miniconda3\\\\envs\\\\ml\\\\Lib\\\\cProfile.py\": 1712046304.0, \"C:\\\\Users\\\\sghys\\\\miniconda3\\\\envs\\\\ml\\\\Lib\\\\pstats.py\": 1712046304.0, \"C:\\\\Users\\\\sghys\\\\miniconda3\\\\envs\\\\ml\\\\Lib\\\\timeit.py\": 1712046304.0, \"C:\\\\Users\\\\sghys\\\\miniconda3\\\\envs\\\\ml\\\\Lib\\\\site-packages\\\\IPython\\\\utils\\\\module_paths.py\": 1720913263.8654852, \"C:\\\\Users\\\\sghys\\\\miniconda3\\\\envs\\\\ml\\\\Lib\\\\site-packages\\\\IPython\\\\utils\\\\timing.py\": 1720913263.8724835, \"C:\\\\Users\\\\sghys\\\\miniconda3\\\\envs\\\\ml\\\\Lib\\\\site-packages\\\\IPython\\\\core\\\\magics\\\\ast_mod.py\": 1720913263.755038, \"C:\\\\Users\\\\sghys\\\\miniconda3\\\\envs\\\\ml\\\\Lib\\\\site-packages\\\\IPython\\\\core\\\\magics\\\\execution.py\": 1720913263.7580447, \"C:\\\\Users\\\\sghys\\\\miniconda3\\\\envs\\\\ml\\\\Lib\\\\site-packages\\\\IPython\\\\core\\\\magics\\\\extension.py\": 1720913263.7590444, \"C:\\\\Users\\\\sghys\\\\miniconda3\\\\envs\\\\ml\\\\Lib\\\\site-packages\\\\IPython\\\\core\\\\magics\\\\history.py\": 1720913263.7590444, \"C:\\\\Users\\\\sghys\\\\miniconda3\\\\envs\\\\ml\\\\Lib\\\\site-packages\\\\IPython\\\\core\\\\magics\\\\logging.py\": 1720913263.7600503, \"C:\\\\Users\\\\sghys\\\\miniconda3\\\\envs\\\\ml\\\\Lib\\\\site-packages\\\\IPython\\\\core\\\\magics\\\\namespace.py\": 1720913263.7600503, \"C:\\\\Users\\\\sghys\\\\miniconda3\\\\envs\\\\ml\\\\Lib\\\\site-packages\\\\IPython\\\\core\\\\magics\\\\osm.py\": 1720913263.7610502, \"C:\\\\Users\\\\sghys\\\\miniconda3\\\\envs\\\\ml\\\\Lib\\\\site-packages\\\\IPython\\\\core\\\\magics\\\\packaging.py\": 1720913263.7610502, \"C:\\\\Users\\\\sghys\\\\miniconda3\\\\envs\\\\ml\\\\Lib\\\\site-packages\\\\IPython\\\\core\\\\magics\\\\pylab.py\": 1720913263.7620513, \"C:\\\\Users\\\\sghys\\\\miniconda3\\\\envs\\\\ml\\\\Lib\\\\site-packages\\\\IPython\\\\core\\\\magics\\\\script.py\": 1720913263.7620513, \"C:\\\\Users\\\\sghys\\\\miniconda3\\\\envs\\\\ml\\\\Lib\\\\site-packages\\\\IPython\\\\core\\\\magics\\\\__init__.py\": 1720913263.7545285, \"C:\\\\Users\\\\sghys\\\\miniconda3\\\\envs\\\\ml\\\\Lib\\\\site-packages\\\\IPython\\\\core\\\\shellapp.py\": 1720913263.7506926, \"C:\\\\Users\\\\sghys\\\\miniconda3\\\\envs\\\\ml\\\\Lib\\\\site-packages\\\\IPython\\\\extensions\\\\__init__.py\": 1720913263.7925665, \"C:\\\\Users\\\\sghys\\\\miniconda3\\\\envs\\\\ml\\\\Lib\\\\site-packages\\\\IPython\\\\extensions\\\\storemagic.py\": 1720913263.793566, \"C:\\\\Users\\\\sghys\\\\miniconda3\\\\envs\\\\ml\\\\Lib\\\\site-packages\\\\IPython\\\\terminal\\\\ipapp.py\": 1720913263.817478, \"C:\\\\Users\\\\sghys\\\\miniconda3\\\\envs\\\\ml\\\\Lib\\\\site-packages\\\\IPython\\\\terminal\\\\embed.py\": 1720913263.8164785, \"C:\\\\Users\\\\sghys\\\\miniconda3\\\\envs\\\\ml\\\\Lib\\\\site-packages\\\\IPython\\\\utils\\\\frame.py\": 1720913263.8604844, \"C:\\\\Users\\\\sghys\\\\miniconda3\\\\envs\\\\ml\\\\Lib\\\\site-packages\\\\IPython\\\\__init__.py\": 1720913263.718691, \"C:\\\\Users\\\\sghys\\\\miniconda3\\\\envs\\\\ml\\\\Lib\\\\site-packages\\\\ipykernel\\\\control.py\": 1720913265.619182, \"C:\\\\Users\\\\sghys\\\\miniconda3\\\\envs\\\\ml\\\\Lib\\\\site-packages\\\\ipykernel\\\\heartbeat.py\": 1720913265.6221824, \"C:\\\\Users\\\\sghys\\\\miniconda3\\\\envs\\\\ml\\\\Lib\\\\site-packages\\\\ipykernel\\\\iostream.py\": 1720913265.6221824, \"C:\\\\Users\\\\sghys\\\\miniconda3\\\\envs\\\\ml\\\\Lib\\\\site-packages\\\\comm\\\\base_comm.py\": 1720913258.9483404, \"C:\\\\Users\\\\sghys\\\\miniconda3\\\\envs\\\\ml\\\\Lib\\\\site-packages\\\\comm\\\\__init__.py\": 1720913258.9473407, \"C:\\\\Users\\\\sghys\\\\miniconda3\\\\envs\\\\ml\\\\Lib\\\\site-packages\\\\ipykernel\\\\jsonutil.py\": 1720913265.6231835, \"C:\\\\Users\\\\sghys\\\\miniconda3\\\\envs\\\\ml\\\\Lib\\\\site-packages\\\\psutil\\\\_common.py\": 1720913188.523222, \"C:\\\\Users\\\\sghys\\\\miniconda3\\\\envs\\\\ml\\\\Lib\\\\site-packages\\\\psutil\\\\_compat.py\": 1720913188.524225, \"C:\\\\Users\\\\sghys\\\\miniconda3\\\\envs\\\\ml\\\\Lib\\\\site-packages\\\\psutil\\\\_psutil_windows.pyd\": 1720913188.5272288, \"C:\\\\Users\\\\sghys\\\\miniconda3\\\\envs\\\\ml\\\\Lib\\\\site-packages\\\\psutil\\\\_pswindows.py\": 1720913188.52823, \"C:\\\\Users\\\\sghys\\\\miniconda3\\\\envs\\\\ml\\\\Lib\\\\site-packages\\\\psutil\\\\__init__.py\": 1720913188.523222, \"C:\\\\Users\\\\sghys\\\\miniconda3\\\\envs\\\\ml\\\\Lib\\\\site-packages\\\\tornado\\\\gen.py\": 1720913250.1756551, \"C:\\\\Users\\\\sghys\\\\miniconda3\\\\envs\\\\ml\\\\Lib\\\\site-packages\\\\tornado\\\\locks.py\": 1720913250.1806557, \"C:\\\\Users\\\\sghys\\\\miniconda3\\\\envs\\\\ml\\\\Lib\\\\site-packages\\\\tornado\\\\queues.py\": 1720913250.1826556, \"C:\\\\Users\\\\sghys\\\\miniconda3\\\\envs\\\\ml\\\\Lib\\\\site-packages\\\\ipykernel\\\\kernelbase.py\": 1720913265.6241813, \"C:\\\\Users\\\\sghys\\\\miniconda3\\\\envs\\\\ml\\\\Lib\\\\site-packages\\\\ipykernel\\\\comm\\\\comm.py\": 1720913265.6291835, \"C:\\\\Users\\\\sghys\\\\miniconda3\\\\envs\\\\ml\\\\Lib\\\\site-packages\\\\ipykernel\\\\comm\\\\manager.py\": 1720913265.6291835, \"C:\\\\Users\\\\sghys\\\\miniconda3\\\\envs\\\\ml\\\\Lib\\\\site-packages\\\\ipykernel\\\\comm\\\\__init__.py\": 1720913265.6281836, \"C:\\\\Users\\\\sghys\\\\miniconda3\\\\envs\\\\ml\\\\Lib\\\\site-packages\\\\ipykernel\\\\compiler.py\": 1720913265.619182, \"C:\\\\Users\\\\sghys\\\\miniconda3\\\\envs\\\\ml\\\\Lib\\\\site-packages\\\\packaging\\\\__init__.py\": 1720913188.9663925, \"C:\\\\Users\\\\sghys\\\\miniconda3\\\\envs\\\\ml\\\\Lib\\\\site-packages\\\\packaging\\\\_structures.py\": 1720913188.9683912, \"C:\\\\Users\\\\sghys\\\\miniconda3\\\\envs\\\\ml\\\\Lib\\\\site-packages\\\\packaging\\\\version.py\": 1720913188.973394, \"C:\\\\Users\\\\sghys\\\\miniconda3\\\\envs\\\\ml\\\\Lib\\\\site-packages\\\\ipykernel\\\\eventloops.py\": 1720913265.6221824, \"C:\\\\Users\\\\sghys\\\\miniconda3\\\\envs\\\\ml\\\\Lib\\\\site-packages\\\\IPython\\\\core\\\\payloadpage.py\": 1720913263.746694, \"C:\\\\Users\\\\sghys\\\\miniconda3\\\\envs\\\\ml\\\\Lib\\\\site-packages\\\\ipykernel\\\\displayhook.py\": 1720913265.6211836, \"C:\\\\Users\\\\sghys\\\\miniconda3\\\\envs\\\\ml\\\\Lib\\\\site-packages\\\\ipykernel\\\\zmqshell.py\": 1720913265.6281836, \"C:\\\\Users\\\\sghys\\\\miniconda3\\\\envs\\\\ml\\\\Lib\\\\site-packages\\\\ipykernel\\\\ipkernel.py\": 1720913265.6231835, \"C:\\\\Users\\\\sghys\\\\miniconda3\\\\envs\\\\ml\\\\Lib\\\\site-packages\\\\ipykernel\\\\parentpoller.py\": 1720913265.6261816, \"C:\\\\Users\\\\sghys\\\\miniconda3\\\\envs\\\\ml\\\\Lib\\\\site-packages\\\\ipykernel\\\\kernelapp.py\": 1720913265.6241813, \"C:\\\\Users\\\\sghys\\\\miniconda3\\\\envs\\\\ml\\\\Lib\\\\site-packages\\\\tornado\\\\platform\\\\__init__.py\": 1720913250.189655, \"C:\\\\Users\\\\sghys\\\\miniconda3\\\\envs\\\\ml\\\\Lib\\\\site-packages\\\\tornado\\\\platform\\\\asyncio.py\": 1720913250.189655, \"C:\\\\Users\\\\sghys\\\\miniconda3\\\\envs\\\\ml\\\\Lib\\\\site-packages\\\\debugpy\\\\_version.py\": 1720913254.729654, \"C:\\\\Users\\\\sghys\\\\miniconda3\\\\envs\\\\ml\\\\Lib\\\\site-packages\\\\debugpy\\\\public_api.py\": 1720913254.7306542, \"C:\\\\Users\\\\sghys\\\\miniconda3\\\\envs\\\\ml\\\\Lib\\\\site-packages\\\\debugpy\\\\__init__.py\": 1720913254.7286532, \"C:\\\\Users\\\\sghys\\\\miniconda3\\\\envs\\\\ml\\\\Lib\\\\site-packages\\\\debugpy\\\\_vendored\\\\_util.py\": 1720913254.732658, \"C:\\\\Users\\\\sghys\\\\miniconda3\\\\envs\\\\ml\\\\Lib\\\\site-packages\\\\debugpy\\\\_vendored\\\\__init__.py\": 1720913254.7316532, \"C:\\\\Users\\\\sghys\\\\miniconda3\\\\envs\\\\ml\\\\Lib\\\\site-packages\\\\debugpy\\\\_vendored\\\\pydevd\\\\_pydevd_bundle\\\\__init__.py\": 1720913254.758669, \"C:\\\\Users\\\\sghys\\\\miniconda3\\\\envs\\\\ml\\\\Lib\\\\encodings\\\\ascii.py\": 1712046304.0, \"C:\\\\Users\\\\sghys\\\\miniconda3\\\\envs\\\\ml\\\\Lib\\\\encodings\\\\latin_1.py\": 1712046304.0, \"C:\\\\Users\\\\sghys\\\\miniconda3\\\\envs\\\\ml\\\\Lib\\\\stringprep.py\": 1712046304.0, \"C:\\\\Users\\\\sghys\\\\miniconda3\\\\envs\\\\ml\\\\Lib\\\\encodings\\\\idna.py\": 1712046304.0, \"C:\\\\Users\\\\sghys\\\\miniconda3\\\\envs\\\\ml\\\\Lib\\\\site-packages\\\\debugpy\\\\_vendored\\\\pydevd\\\\_pydevd_bundle\\\\pydevd_vm_type.py\": 1720913254.800811, \"C:\\\\Users\\\\sghys\\\\miniconda3\\\\envs\\\\ml\\\\Lib\\\\site-packages\\\\debugpy\\\\_vendored\\\\pydevd\\\\_pydev_bundle\\\\__init__.py\": 1720913254.740655, \"C:\\\\Users\\\\sghys\\\\miniconda3\\\\envs\\\\ml\\\\Lib\\\\xmlrpc\\\\__init__.py\": 1712046304.0, \"C:\\\\Users\\\\sghys\\\\miniconda3\\\\envs\\\\ml\\\\Lib\\\\gzip.py\": 1712046304.0, \"C:\\\\Users\\\\sghys\\\\miniconda3\\\\envs\\\\ml\\\\Lib\\\\xmlrpc\\\\client.py\": 1712046304.0, \"C:\\\\Users\\\\sghys\\\\miniconda3\\\\envs\\\\ml\\\\Lib\\\\http\\\\server.py\": 1712046304.0, \"C:\\\\Users\\\\sghys\\\\miniconda3\\\\envs\\\\ml\\\\Lib\\\\xmlrpc\\\\server.py\": 1712046304.0, \"C:\\\\Users\\\\sghys\\\\miniconda3\\\\envs\\\\ml\\\\Lib\\\\site-packages\\\\debugpy\\\\_vendored\\\\pydevd\\\\_pydev_bundle\\\\_pydev_saved_modules.py\": 1720913254.745654, \"C:\\\\Users\\\\sghys\\\\miniconda3\\\\envs\\\\ml\\\\Lib\\\\site-packages\\\\debugpy\\\\_vendored\\\\pydevd\\\\_pydevd_bundle\\\\pydevd_constants.py\": 1720913254.7676647, \"C:\\\\Users\\\\sghys\\\\miniconda3\\\\envs\\\\ml\\\\Lib\\\\site-packages\\\\debugpy\\\\_vendored\\\\pydevd\\\\_pydev_runfiles\\\\__init__.py\": 1720913254.753657, \"C:\\\\Users\\\\sghys\\\\miniconda3\\\\envs\\\\ml\\\\Lib\\\\site-packages\\\\debugpy\\\\_vendored\\\\pydevd\\\\_pydevd_frame_eval\\\\__init__.py\": 1720913254.8108106, \"C:\\\\Users\\\\sghys\\\\miniconda3\\\\envs\\\\ml\\\\Lib\\\\site-packages\\\\debugpy\\\\_vendored\\\\pydevd\\\\pydev_ipython\\\\__init__.py\": 1720913254.8308089, \"C:\\\\Users\\\\sghys\\\\miniconda3\\\\envs\\\\ml\\\\Lib\\\\site-packages\\\\debugpy\\\\_vendored\\\\pydevd\\\\pydevd_plugins\\\\__init__.py\": 1720913254.936977, \"C:\\\\Users\\\\sghys\\\\miniconda3\\\\envs\\\\ml\\\\Lib\\\\site-packages\\\\debugpy\\\\_vendored\\\\pydevd\\\\_pydev_bundle\\\\pydev_log.py\": 1720913254.7496538, \"C:\\\\Users\\\\sghys\\\\miniconda3\\\\envs\\\\ml\\\\Lib\\\\site-packages\\\\debugpy\\\\_vendored\\\\pydevd\\\\_pydev_bundle\\\\_pydev_filesystem_encoding.py\": 1720913254.742653, \"C:\\\\Users\\\\sghys\\\\miniconda3\\\\envs\\\\ml\\\\Lib\\\\site-packages\\\\debugpy\\\\_vendored\\\\pydevd\\\\_pydevd_bundle\\\\pydevd_comm_constants.py\": 1720913254.766665, \"C:\\\\Users\\\\sghys\\\\miniconda3\\\\envs\\\\ml\\\\Lib\\\\site-packages\\\\debugpy\\\\_vendored\\\\pydevd\\\\pydevd_file_utils.py\": 1720913254.7396536, \"C:\\\\Users\\\\sghys\\\\miniconda3\\\\envs\\\\ml\\\\Lib\\\\site-packages\\\\debugpy\\\\_vendored\\\\pydevd\\\\_pydev_bundle\\\\_pydev_execfile.py\": 1720913254.742653, \"C:\\\\Users\\\\sghys\\\\miniconda3\\\\envs\\\\ml\\\\Lib\\\\site-packages\\\\debugpy\\\\_vendored\\\\pydevd\\\\_pydevd_bundle\\\\pydevd_exec2.py\": 1720913254.777809, \"C:\\\\Users\\\\sghys\\\\miniconda3\\\\envs\\\\ml\\\\Lib\\\\site-packages\\\\debugpy\\\\_vendored\\\\pydevd\\\\_pydev_bundle\\\\pydev_imports.py\": 1720913254.747653, \"C:\\\\Users\\\\sghys\\\\miniconda3\\\\envs\\\\ml\\\\Lib\\\\site-packages\\\\debugpy\\\\_vendored\\\\pydevd\\\\_pydev_bundle\\\\pydev_is_thread_alive.py\": 1720913254.7486534, \"C:\\\\Users\\\\sghys\\\\miniconda3\\\\envs\\\\ml\\\\Lib\\\\site-packages\\\\debugpy\\\\_vendored\\\\pydevd\\\\_pydev_bundle\\\\pydev_override.py\": 1720913254.751654, \"C:\\\\Users\\\\sghys\\\\miniconda3\\\\envs\\\\ml\\\\Lib\\\\site-packages\\\\debugpy\\\\_vendored\\\\pydevd\\\\pydevd_plugins\\\\extensions\\\\__init__.py\": 1720913254.939977, \"C:\\\\Users\\\\sghys\\\\miniconda3\\\\envs\\\\ml\\\\Lib\\\\site-packages\\\\debugpy\\\\_vendored\\\\pydevd\\\\_pydevd_bundle\\\\pydevd_extension_utils.py\": 1720913254.7788093, \"C:\\\\Users\\\\sghys\\\\miniconda3\\\\envs\\\\ml\\\\Lib\\\\site-packages\\\\debugpy\\\\_vendored\\\\pydevd\\\\_pydevd_bundle\\\\pydevd_frame_utils.py\": 1720913254.78081, \"C:\\\\Users\\\\sghys\\\\miniconda3\\\\envs\\\\ml\\\\Lib\\\\site-packages\\\\debugpy\\\\_vendored\\\\pydevd\\\\_pydevd_bundle\\\\pydevd_filtering.py\": 1720913254.7798097, \"C:\\\\Users\\\\sghys\\\\miniconda3\\\\envs\\\\ml\\\\Lib\\\\site-packages\\\\debugpy\\\\_vendored\\\\pydevd\\\\_pydevd_bundle\\\\pydevd_io.py\": 1720913254.7818105, \"C:\\\\Users\\\\sghys\\\\miniconda3\\\\envs\\\\ml\\\\Lib\\\\site-packages\\\\debugpy\\\\_vendored\\\\pydevd\\\\_pydevd_bundle\\\\pydevd_defaults.py\": 1720913254.7768095, \"C:\\\\Users\\\\sghys\\\\miniconda3\\\\envs\\\\ml\\\\Lib\\\\site-packages\\\\debugpy\\\\_vendored\\\\pydevd\\\\_pydevd_bundle\\\\pydevd_utils.py\": 1720913254.7998104, \"C:\\\\Users\\\\sghys\\\\miniconda3\\\\envs\\\\ml\\\\Lib\\\\site-packages\\\\debugpy\\\\_vendored\\\\pydevd\\\\_pydevd_bundle\\\\pydevd_runpy.py\": 1720913254.79082, \"C:\\\\Users\\\\sghys\\\\miniconda3\\\\envs\\\\ml\\\\Lib\\\\site-packages\\\\debugpy\\\\_vendored\\\\pydevd\\\\_pydev_bundle\\\\_pydev_tipper_common.py\": 1720913254.7466536, \"C:\\\\Users\\\\sghys\\\\miniconda3\\\\envs\\\\ml\\\\Lib\\\\site-packages\\\\debugpy\\\\_vendored\\\\pydevd\\\\_pydev_bundle\\\\_pydev_imports_tipper.py\": 1720913254.7436554, \"C:\\\\Users\\\\sghys\\\\miniconda3\\\\envs\\\\ml\\\\Lib\\\\site-packages\\\\debugpy\\\\_vendored\\\\pydevd\\\\_pydev_bundle\\\\_pydev_calltip_util.py\": 1720913254.7416553, \"C:\\\\Users\\\\sghys\\\\miniconda3\\\\envs\\\\ml\\\\Lib\\\\site-packages\\\\debugpy\\\\_vendored\\\\pydevd\\\\_pydevd_bundle\\\\pydevd_safe_repr.py\": 1720913254.7928104, \"C:\\\\Users\\\\sghys\\\\miniconda3\\\\envs\\\\ml\\\\Lib\\\\site-packages\\\\debugpy\\\\_vendored\\\\pydevd\\\\_pydevd_bundle\\\\pydevd_resolver.py\": 1720913254.789813, \"C:\\\\Users\\\\sghys\\\\miniconda3\\\\envs\\\\ml\\\\Lib\\\\site-packages\\\\debugpy\\\\_vendored\\\\pydevd\\\\_pydevd_bundle\\\\pydevd_extension_api.py\": 1720913254.7788093, \"C:\\\\Users\\\\sghys\\\\miniconda3\\\\envs\\\\ml\\\\Lib\\\\site-packages\\\\debugpy\\\\_vendored\\\\pydevd\\\\_pydevd_bundle\\\\pydevd_xml.py\": 1720913254.8018131, \"C:\\\\Users\\\\sghys\\\\miniconda3\\\\envs\\\\ml\\\\Lib\\\\site-packages\\\\debugpy\\\\_vendored\\\\pydevd\\\\_pydevd_bundle\\\\pydevd_dont_trace.py\": 1720913254.7768095, \"C:\\\\Users\\\\sghys\\\\miniconda3\\\\envs\\\\ml\\\\Lib\\\\site-packages\\\\debugpy\\\\_vendored\\\\pydevd\\\\_pydevd_frame_eval\\\\vendored\\\\__init__.py\": 1720913254.8218098, \"C:\\\\Users\\\\sghys\\\\miniconda3\\\\envs\\\\ml\\\\Lib\\\\site-packages\\\\debugpy\\\\_vendored\\\\pydevd\\\\_pydevd_frame_eval\\\\vendored\\\\bytecode\\\\flags.py\": 1720913254.8248086, \"C:\\\\Users\\\\sghys\\\\miniconda3\\\\envs\\\\ml\\\\Lib\\\\site-packages\\\\debugpy\\\\_vendored\\\\pydevd\\\\_pydevd_frame_eval\\\\vendored\\\\bytecode\\\\instr.py\": 1720913254.8248086, \"C:\\\\Users\\\\sghys\\\\miniconda3\\\\envs\\\\ml\\\\Lib\\\\site-packages\\\\debugpy\\\\_vendored\\\\pydevd\\\\_pydevd_frame_eval\\\\vendored\\\\bytecode\\\\bytecode.py\": 1720913254.8228092, \"C:\\\\Users\\\\sghys\\\\miniconda3\\\\envs\\\\ml\\\\Lib\\\\site-packages\\\\debugpy\\\\_vendored\\\\pydevd\\\\_pydevd_frame_eval\\\\vendored\\\\bytecode\\\\concrete.py\": 1720913254.8238108, \"C:\\\\Users\\\\sghys\\\\miniconda3\\\\envs\\\\ml\\\\Lib\\\\site-packages\\\\debugpy\\\\_vendored\\\\pydevd\\\\_pydevd_frame_eval\\\\vendored\\\\bytecode\\\\cfg.py\": 1720913254.8238108, \"C:\\\\Users\\\\sghys\\\\miniconda3\\\\envs\\\\ml\\\\Lib\\\\site-packages\\\\debugpy\\\\_vendored\\\\pydevd\\\\_pydevd_frame_eval\\\\vendored\\\\bytecode\\\\__init__.py\": 1720913254.8228092, \"C:\\\\Users\\\\sghys\\\\miniconda3\\\\envs\\\\ml\\\\Lib\\\\site-packages\\\\debugpy\\\\_vendored\\\\pydevd\\\\_pydevd_bundle\\\\pydevd_bytecode_utils.py\": 1720913254.7646651, \"C:\\\\Users\\\\sghys\\\\miniconda3\\\\envs\\\\ml\\\\Lib\\\\site-packages\\\\debugpy\\\\_vendored\\\\pydevd\\\\_pydevd_bundle\\\\pydevd_cython.cp311-win_amd64.pyd\": 1720913254.7738113, \"C:\\\\Users\\\\sghys\\\\miniconda3\\\\envs\\\\ml\\\\Lib\\\\site-packages\\\\debugpy\\\\_vendored\\\\pydevd\\\\_pydevd_bundle\\\\pydevd_cython_wrapper.py\": 1720913254.77581, \"C:\\\\Users\\\\sghys\\\\miniconda3\\\\envs\\\\ml\\\\Lib\\\\site-packages\\\\debugpy\\\\_vendored\\\\pydevd\\\\_pydevd_bundle\\\\pydevd_additional_thread_info.py\": 1720913254.7616687, \"C:\\\\Users\\\\sghys\\\\miniconda3\\\\envs\\\\ml\\\\Lib\\\\site-packages\\\\debugpy\\\\_vendored\\\\pydevd\\\\_pydevd_bundle\\\\pydevd_thread_lifecycle.py\": 1720913254.795812, \"C:\\\\Users\\\\sghys\\\\miniconda3\\\\envs\\\\ml\\\\Lib\\\\site-packages\\\\debugpy\\\\_vendored\\\\pydevd\\\\_pydevd_bundle\\\\pydevd_save_locals.py\": 1720913254.7938094, \"C:\\\\Users\\\\sghys\\\\miniconda3\\\\envs\\\\ml\\\\Lib\\\\site-packages\\\\debugpy\\\\_vendored\\\\pydevd\\\\_pydev_bundle\\\\pydev_monkey.py\": 1720913254.750653, \"C:\\\\Users\\\\sghys\\\\miniconda3\\\\envs\\\\ml\\\\Lib\\\\site-packages\\\\debugpy\\\\_vendored\\\\pydevd\\\\pydevd_tracing.py\": 1720913254.7396536, \"C:\\\\Users\\\\sghys\\\\miniconda3\\\\envs\\\\ml\\\\Lib\\\\site-packages\\\\debugpy\\\\_vendored\\\\pydevd\\\\_pydevd_bundle\\\\pydevd_collect_bytecode_info.py\": 1720913254.765665, \"C:\\\\Users\\\\sghys\\\\miniconda3\\\\envs\\\\ml\\\\Lib\\\\site-packages\\\\debugpy\\\\_vendored\\\\pydevd\\\\_pydevd_bundle\\\\pydevd_daemon_thread.py\": 1720913254.77581, \"C:\\\\Users\\\\sghys\\\\miniconda3\\\\envs\\\\ml\\\\Lib\\\\site-packages\\\\debugpy\\\\_vendored\\\\pydevd\\\\_pydevd_bundle\\\\pydevd_timeout.py\": 1720913254.79681, \"C:\\\\Users\\\\sghys\\\\miniconda3\\\\envs\\\\ml\\\\Lib\\\\site-packages\\\\debugpy\\\\_vendored\\\\pydevd\\\\_pydevd_bundle\\\\pydevd_vars.py\": 1720913254.800811, \"C:\\\\Users\\\\sghys\\\\miniconda3\\\\envs\\\\ml\\\\Lib\\\\site-packages\\\\debugpy\\\\_vendored\\\\pydevd\\\\_pydev_bundle\\\\pydev_console_utils.py\": 1720913254.7466536, \"C:\\\\Users\\\\sghys\\\\miniconda3\\\\envs\\\\ml\\\\Lib\\\\site-packages\\\\debugpy\\\\_vendored\\\\pydevd\\\\_pydevd_bundle\\\\pydevd_import_class.py\": 1720913254.7818105, \"C:\\\\Users\\\\sghys\\\\miniconda3\\\\envs\\\\ml\\\\Lib\\\\site-packages\\\\debugpy\\\\_vendored\\\\pydevd\\\\_pydevd_bundle\\\\pydevd_breakpoints.py\": 1720913254.7636666, \"C:\\\\Users\\\\sghys\\\\miniconda3\\\\envs\\\\ml\\\\Lib\\\\site-packages\\\\debugpy\\\\_vendored\\\\pydevd\\\\_pydevd_bundle\\\\pydevd_custom_frames.py\": 1720913254.7676647, \"C:\\\\Users\\\\sghys\\\\miniconda3\\\\envs\\\\ml\\\\Lib\\\\site-packages\\\\debugpy\\\\_vendored\\\\pydevd\\\\_pydevd_bundle\\\\pydevd_dont_trace_files.py\": 1720913254.777809, \"C:\\\\Users\\\\sghys\\\\miniconda3\\\\envs\\\\ml\\\\Lib\\\\site-packages\\\\debugpy\\\\_vendored\\\\pydevd\\\\_pydevd_bundle\\\\pydevd_net_command.py\": 1720913254.782809, \"C:\\\\Users\\\\sghys\\\\miniconda3\\\\envs\\\\ml\\\\Lib\\\\site-packages\\\\debugpy\\\\_vendored\\\\pydevd\\\\_pydevd_bundle\\\\pydevconsole_code.py\": 1720913254.7596676, \"C:\\\\Users\\\\sghys\\\\miniconda3\\\\envs\\\\ml\\\\Lib\\\\site-packages\\\\debugpy\\\\_vendored\\\\pydevd\\\\_pydev_bundle\\\\pydev_umd.py\": 1720913254.751654, \"C:\\\\Users\\\\sghys\\\\miniconda3\\\\envs\\\\ml\\\\Lib\\\\site-packages\\\\debugpy\\\\_vendored\\\\pydevd\\\\pydevconsole.py\": 1720913254.7386546, \"C:\\\\Users\\\\sghys\\\\miniconda3\\\\envs\\\\ml\\\\Lib\\\\site-packages\\\\debugpy\\\\_vendored\\\\pydevd\\\\_pydev_bundle\\\\_pydev_completer.py\": 1720913254.7416553, \"C:\\\\Users\\\\sghys\\\\miniconda3\\\\envs\\\\ml\\\\Lib\\\\site-packages\\\\debugpy\\\\_vendored\\\\pydevd\\\\_pydevd_bundle\\\\pydevd_net_command_factory_xml.py\": 1720913254.7838092, \"C:\\\\Users\\\\sghys\\\\miniconda3\\\\envs\\\\ml\\\\Lib\\\\site-packages\\\\debugpy\\\\_vendored\\\\pydevd\\\\_pydevd_bundle\\\\pydevd_frame.py\": 1720913254.7798097, \"C:\\\\Users\\\\sghys\\\\miniconda3\\\\envs\\\\ml\\\\Lib\\\\site-packages\\\\debugpy\\\\_vendored\\\\pydevd\\\\_pydevd_bundle\\\\pydevd_additional_thread_info_regular.py\": 1720913254.762668, \"C:\\\\Users\\\\sghys\\\\miniconda3\\\\envs\\\\ml\\\\Lib\\\\site-packages\\\\debugpy\\\\_vendored\\\\pydevd\\\\_pydevd_bundle\\\\pydevd_trace_dispatch.py\": 1720913254.7978098, \"C:\\\\Users\\\\sghys\\\\miniconda3\\\\envs\\\\ml\\\\Lib\\\\site-packages\\\\debugpy\\\\_vendored\\\\pydevd\\\\_pydevd_frame_eval\\\\pydevd_frame_eval_main.py\": 1720913254.8118117, \"C:\\\\Users\\\\sghys\\\\miniconda3\\\\envs\\\\ml\\\\Lib\\\\site-packages\\\\debugpy\\\\_vendored\\\\pydevd\\\\_pydevd_bundle\\\\pydevd_source_mapping.py\": 1720913254.7948086, \"C:\\\\Users\\\\sghys\\\\miniconda3\\\\envs\\\\ml\\\\Lib\\\\site-packages\\\\debugpy\\\\_vendored\\\\pydevd\\\\_pydevd_bundle\\\\pydevd_concurrency_analyser\\\\__init__.py\": 1720913254.8088098, \"C:\\\\Users\\\\sghys\\\\miniconda3\\\\envs\\\\ml\\\\Lib\\\\site-packages\\\\debugpy\\\\_vendored\\\\pydevd\\\\_pydevd_bundle\\\\pydevd_concurrency_analyser\\\\pydevd_thread_wrappers.py\": 1720913254.8098102, \"C:\\\\Users\\\\sghys\\\\miniconda3\\\\envs\\\\ml\\\\Lib\\\\site-packages\\\\debugpy\\\\_vendored\\\\pydevd\\\\_pydevd_bundle\\\\pydevd_concurrency_analyser\\\\pydevd_concurrency_logger.py\": 1720913254.8098102, \"C:\\\\Users\\\\sghys\\\\miniconda3\\\\envs\\\\ml\\\\Lib\\\\site-packages\\\\debugpy\\\\_vendored\\\\pydevd\\\\_pydevd_bundle\\\\_debug_adapter\\\\__init__.py\": 1720913254.8018131, \"C:\\\\Users\\\\sghys\\\\miniconda3\\\\envs\\\\ml\\\\Lib\\\\site-packages\\\\debugpy\\\\_vendored\\\\pydevd\\\\_pydevd_bundle\\\\_debug_adapter\\\\pydevd_schema_log.py\": 1720913254.8088098, \"C:\\\\Users\\\\sghys\\\\miniconda3\\\\envs\\\\ml\\\\Lib\\\\site-packages\\\\debugpy\\\\_vendored\\\\pydevd\\\\_pydevd_bundle\\\\_debug_adapter\\\\pydevd_base_schema.py\": 1720913254.805809, \"C:\\\\Users\\\\sghys\\\\miniconda3\\\\envs\\\\ml\\\\Lib\\\\site-packages\\\\debugpy\\\\_vendored\\\\pydevd\\\\_pydevd_bundle\\\\_debug_adapter\\\\pydevd_schema.py\": 1720913254.8078122, \"C:\\\\Users\\\\sghys\\\\miniconda3\\\\envs\\\\ml\\\\Lib\\\\site-packages\\\\debugpy\\\\_vendored\\\\pydevd\\\\_pydevd_bundle\\\\pydevd_reload.py\": 1720913254.7888114, \"C:\\\\Users\\\\sghys\\\\miniconda3\\\\envs\\\\ml\\\\Lib\\\\site-packages\\\\debugpy\\\\_vendored\\\\pydevd\\\\_pydev_bundle\\\\fsnotify\\\\__init__.py\": 1720913254.753657, \"C:\\\\Users\\\\sghys\\\\miniconda3\\\\envs\\\\ml\\\\Lib\\\\site-packages\\\\debugpy\\\\_vendored\\\\pydevd\\\\_pydevd_bundle\\\\pydevd_console.py\": 1720913254.766665, \"C:\\\\Users\\\\sghys\\\\miniconda3\\\\envs\\\\ml\\\\Lib\\\\site-packages\\\\debugpy\\\\_vendored\\\\pydevd\\\\_pydevd_bundle\\\\pydevd_comm.py\": 1720913254.765665, \"C:\\\\Users\\\\sghys\\\\miniconda3\\\\envs\\\\ml\\\\Lib\\\\site-packages\\\\debugpy\\\\_vendored\\\\pydevd\\\\_pydevd_bundle\\\\pydevd_net_command_factory_json.py\": 1720913254.7838092, \"C:\\\\Users\\\\sghys\\\\miniconda3\\\\envs\\\\ml\\\\Lib\\\\site-packages\\\\debugpy\\\\_vendored\\\\pydevd\\\\_pydevd_bundle\\\\pydevd_api.py\": 1720913254.7636666, \"C:\\\\Users\\\\sghys\\\\miniconda3\\\\envs\\\\ml\\\\Lib\\\\site-packages\\\\debugpy\\\\_vendored\\\\pydevd\\\\_pydevd_bundle\\\\pydevd_json_debug_options.py\": 1720913254.782809, \"C:\\\\Users\\\\sghys\\\\miniconda3\\\\envs\\\\ml\\\\Lib\\\\site-packages\\\\debugpy\\\\_vendored\\\\pydevd\\\\_pydevd_bundle\\\\pydevd_process_net_command_json.py\": 1720913254.78581, \"C:\\\\Users\\\\sghys\\\\miniconda3\\\\envs\\\\ml\\\\Lib\\\\site-packages\\\\debugpy\\\\_vendored\\\\pydevd\\\\_pydevd_bundle\\\\pydevd_traceproperty.py\": 1720913254.7988112, \"C:\\\\Users\\\\sghys\\\\miniconda3\\\\envs\\\\ml\\\\Lib\\\\site-packages\\\\debugpy\\\\_vendored\\\\pydevd\\\\_pydevd_bundle\\\\pydevd_process_net_command.py\": 1720913254.7848094, \"C:\\\\Users\\\\sghys\\\\miniconda3\\\\envs\\\\ml\\\\Lib\\\\site-packages\\\\debugpy\\\\_vendored\\\\pydevd\\\\_pydevd_bundle\\\\pydevd_suspended_frames.py\": 1720913254.795812, \"C:\\\\Users\\\\sghys\\\\miniconda3\\\\envs\\\\ml\\\\Lib\\\\site-packages\\\\debugpy\\\\_vendored\\\\pydevd\\\\_pydevd_bundle\\\\pydevd_trace_api.py\": 1720913254.79681, \"C:\\\\Users\\\\sghys\\\\miniconda3\\\\envs\\\\ml\\\\Lib\\\\site-packages\\\\debugpy\\\\_vendored\\\\pydevd\\\\pydevd_plugins\\\\pydevd_line_validation.py\": 1720913254.938982, \"C:\\\\Users\\\\sghys\\\\miniconda3\\\\envs\\\\ml\\\\Lib\\\\site-packages\\\\debugpy\\\\_vendored\\\\pydevd\\\\pydevd_plugins\\\\django_debug.py\": 1720913254.9379804, \"C:\\\\Users\\\\sghys\\\\miniconda3\\\\envs\\\\ml\\\\Lib\\\\site-packages\\\\debugpy\\\\_vendored\\\\pydevd\\\\pydevd_plugins\\\\jinja2_debug.py\": 1720913254.9379804, \"C:\\\\Users\\\\sghys\\\\miniconda3\\\\envs\\\\ml\\\\Lib\\\\site-packages\\\\debugpy\\\\_vendored\\\\pydevd\\\\_pydevd_bundle\\\\pydevd_plugin_utils.py\": 1720913254.7848094, \"C:\\\\Users\\\\sghys\\\\miniconda3\\\\envs\\\\ml\\\\Lib\\\\site-packages\\\\debugpy\\\\_vendored\\\\pydevd\\\\pydevd_plugins\\\\extensions\\\\types\\\\__init__.py\": 1720913254.9409769, \"C:\\\\Users\\\\sghys\\\\miniconda3\\\\envs\\\\ml\\\\Lib\\\\site-packages\\\\debugpy\\\\_vendored\\\\pydevd\\\\pydevd_plugins\\\\extensions\\\\types\\\\pydevd_helpers.py\": 1720913254.9409769, \"C:\\\\Users\\\\sghys\\\\miniconda3\\\\envs\\\\ml\\\\Lib\\\\site-packages\\\\debugpy\\\\_vendored\\\\pydevd\\\\pydevd_plugins\\\\extensions\\\\types\\\\pydevd_plugin_numpy_types.py\": 1720913254.9409769, \"C:\\\\Users\\\\sghys\\\\miniconda3\\\\envs\\\\ml\\\\Lib\\\\site-packages\\\\debugpy\\\\_vendored\\\\pydevd\\\\pydevd_plugins\\\\extensions\\\\types\\\\pydevd_plugin_pandas_types.py\": 1720913254.9419775, \"C:\\\\Users\\\\sghys\\\\miniconda3\\\\envs\\\\ml\\\\Lib\\\\site-packages\\\\debugpy\\\\_vendored\\\\pydevd\\\\pydevd_plugins\\\\extensions\\\\types\\\\pydevd_plugins_django_form_str.py\": 1720913254.942977, \"C:\\\\Users\\\\sghys\\\\miniconda3\\\\envs\\\\ml\\\\Lib\\\\site-packages\\\\debugpy\\\\_vendored\\\\pydevd\\\\pydevd.py\": 1720913254.7386546, \"C:\\\\Users\\\\sghys\\\\miniconda3\\\\envs\\\\ml\\\\Lib\\\\site-packages\\\\debugpy\\\\_vendored\\\\force_pydevd.py\": 1720913254.7336638, \"C:\\\\Users\\\\sghys\\\\miniconda3\\\\envs\\\\ml\\\\Lib\\\\site-packages\\\\debugpy\\\\server\\\\__init__.py\": 1720913254.9549775, \"C:\\\\Users\\\\sghys\\\\miniconda3\\\\envs\\\\ml\\\\Lib\\\\site-packages\\\\debugpy\\\\adapter\\\\__init__.py\": 1720913254.942977, \"C:\\\\Users\\\\sghys\\\\miniconda3\\\\envs\\\\ml\\\\Lib\\\\site-packages\\\\debugpy\\\\common\\\\__init__.py\": 1720913254.9469776, \"C:\\\\Users\\\\sghys\\\\miniconda3\\\\envs\\\\ml\\\\Lib\\\\site-packages\\\\debugpy\\\\common\\\\json.py\": 1720913254.9469776, \"C:\\\\Users\\\\sghys\\\\miniconda3\\\\envs\\\\ml\\\\Lib\\\\site-packages\\\\debugpy\\\\common\\\\timestamp.py\": 1720913254.9499795, \"C:\\\\Users\\\\sghys\\\\miniconda3\\\\envs\\\\ml\\\\Lib\\\\site-packages\\\\debugpy\\\\common\\\\util.py\": 1720913254.950977, \"C:\\\\Users\\\\sghys\\\\miniconda3\\\\envs\\\\ml\\\\Lib\\\\site-packages\\\\debugpy\\\\common\\\\log.py\": 1720913254.9479768, \"C:\\\\Users\\\\sghys\\\\miniconda3\\\\envs\\\\ml\\\\Lib\\\\site-packages\\\\debugpy\\\\common\\\\sockets.py\": 1720913254.948978, \"C:\\\\Users\\\\sghys\\\\miniconda3\\\\envs\\\\ml\\\\Lib\\\\site-packages\\\\debugpy\\\\server\\\\api.py\": 1720913254.9549775, \"C:\\\\Users\\\\sghys\\\\miniconda3\\\\envs\\\\ml\\\\Lib\\\\site-packages\\\\ipykernel\\\\debugger.py\": 1720913265.6201835, \"C:\\\\Users\\\\sghys\\\\miniconda3\\\\envs\\\\ml\\\\Lib\\\\site-packages\\\\IPython\\\\core\\\\completerlib.py\": 1720913263.7266917, \"C:\\\\Users\\\\sghys\\\\miniconda3\\\\envs\\\\ml\\\\Lib\\\\site-packages\\\\numpy\\\\_utils\\\\_convertions.py\": 1720913189.456427, \"C:\\\\Users\\\\sghys\\\\miniconda3\\\\envs\\\\ml\\\\Lib\\\\site-packages\\\\numpy\\\\_utils\\\\__init__.py\": 1720913189.458411, \"C:\\\\Users\\\\sghys\\\\miniconda3\\\\envs\\\\ml\\\\Lib\\\\site-packages\\\\numpy\\\\_globals.py\": 1720913189.0223906, \"C:\\\\Users\\\\sghys\\\\miniconda3\\\\envs\\\\ml\\\\Lib\\\\site-packages\\\\numpy\\\\exceptions.py\": 1720913189.0193925, \"C:\\\\Users\\\\sghys\\\\miniconda3\\\\envs\\\\ml\\\\Lib\\\\site-packages\\\\numpy\\\\version.py\": 1720913189.021399, \"C:\\\\Users\\\\sghys\\\\miniconda3\\\\envs\\\\ml\\\\Lib\\\\site-packages\\\\numpy\\\\_distributor_init.py\": 1720913189.021399, \"C:\\\\Users\\\\sghys\\\\miniconda3\\\\envs\\\\ml\\\\Lib\\\\site-packages\\\\numpy\\\\_utils\\\\_inspect.py\": 1720913189.4574113, \"C:\\\\Users\\\\sghys\\\\miniconda3\\\\envs\\\\ml\\\\Lib\\\\site-packages\\\\numpy\\\\core\\\\_exceptions.py\": 1720913189.060907, \"C:\\\\Users\\\\sghys\\\\miniconda3\\\\envs\\\\ml\\\\Lib\\\\site-packages\\\\numpy\\\\dtypes.py\": 1720913189.0183918, \"C:\\\\Users\\\\sghys\\\\miniconda3\\\\envs\\\\ml\\\\Lib\\\\site-packages\\\\numpy\\\\core\\\\_multiarray_umath.cp311-win_amd64.pyd\": 1720913189.0729082, \"C:\\\\Users\\\\sghys\\\\miniconda3\\\\envs\\\\ml\\\\Lib\\\\site-packages\\\\numpy\\\\core\\\\overrides.py\": 1720913189.0539079, \"C:\\\\Users\\\\sghys\\\\miniconda3\\\\envs\\\\ml\\\\Lib\\\\site-packages\\\\numpy\\\\core\\\\multiarray.py\": 1720913189.0499077, \"C:\\\\Users\\\\sghys\\\\miniconda3\\\\envs\\\\ml\\\\Lib\\\\site-packages\\\\numpy\\\\core\\\\umath.py\": 1720913189.0559072, \"C:\\\\Users\\\\sghys\\\\miniconda3\\\\envs\\\\ml\\\\Lib\\\\site-packages\\\\numpy\\\\core\\\\_string_helpers.py\": 1720913189.0799067, \"C:\\\\Users\\\\sghys\\\\miniconda3\\\\envs\\\\ml\\\\Lib\\\\site-packages\\\\numpy\\\\compat\\\\py3k.py\": 1720913189.039901, \"C:\\\\Users\\\\sghys\\\\miniconda3\\\\envs\\\\ml\\\\Lib\\\\site-packages\\\\numpy\\\\compat\\\\__init__.py\": 1720913189.039901, \"C:\\\\Users\\\\sghys\\\\miniconda3\\\\envs\\\\ml\\\\Lib\\\\site-packages\\\\numpy\\\\core\\\\_dtype.py\": 1720913189.059908, \"C:\\\\Users\\\\sghys\\\\miniconda3\\\\envs\\\\ml\\\\Lib\\\\site-packages\\\\numpy\\\\core\\\\_type_aliases.py\": 1720913189.081907, \"C:\\\\Users\\\\sghys\\\\miniconda3\\\\envs\\\\ml\\\\Lib\\\\site-packages\\\\numpy\\\\core\\\\numerictypes.py\": 1720913189.0529084, \"C:\\\\Users\\\\sghys\\\\miniconda3\\\\envs\\\\ml\\\\Lib\\\\site-packages\\\\numpy\\\\core\\\\_ufunc_config.py\": 1720913189.0829074, \"C:\\\\Users\\\\sghys\\\\miniconda3\\\\envs\\\\ml\\\\Lib\\\\site-packages\\\\numpy\\\\core\\\\_methods.py\": 1720913189.0629082, \"C:\\\\Users\\\\sghys\\\\miniconda3\\\\envs\\\\ml\\\\Lib\\\\site-packages\\\\numpy\\\\core\\\\fromnumeric.py\": 1724040250.3307762, \"C:\\\\Users\\\\sghys\\\\miniconda3\\\\envs\\\\ml\\\\Lib\\\\site-packages\\\\numpy\\\\core\\\\shape_base.py\": 1720913189.0549083, \"C:\\\\Users\\\\sghys\\\\miniconda3\\\\envs\\\\ml\\\\Lib\\\\site-packages\\\\numpy\\\\core\\\\arrayprint.py\": 1720913189.041909, \"C:\\\\Users\\\\sghys\\\\miniconda3\\\\envs\\\\ml\\\\Lib\\\\site-packages\\\\numpy\\\\core\\\\_asarray.py\": 1720913189.058908, \"C:\\\\Users\\\\sghys\\\\miniconda3\\\\envs\\\\ml\\\\Lib\\\\site-packages\\\\numpy\\\\core\\\\numeric.py\": 1720913189.0519078, \"C:\\\\Users\\\\sghys\\\\miniconda3\\\\envs\\\\ml\\\\Lib\\\\site-packages\\\\numpy\\\\core\\\\defchararray.py\": 1720913189.0429096, \"C:\\\\Users\\\\sghys\\\\miniconda3\\\\envs\\\\ml\\\\Lib\\\\site-packages\\\\numpy\\\\core\\\\records.py\": 1720913189.0539079, \"C:\\\\Users\\\\sghys\\\\miniconda3\\\\envs\\\\ml\\\\Lib\\\\site-packages\\\\numpy\\\\core\\\\memmap.py\": 1720913189.0489087, \"C:\\\\Users\\\\sghys\\\\miniconda3\\\\envs\\\\ml\\\\Lib\\\\site-packages\\\\numpy\\\\core\\\\function_base.py\": 1720913189.046907, \"C:\\\\Users\\\\sghys\\\\miniconda3\\\\envs\\\\ml\\\\Lib\\\\site-packages\\\\numpy\\\\core\\\\_machar.py\": 1720913189.061907, \"C:\\\\Users\\\\sghys\\\\miniconda3\\\\envs\\\\ml\\\\Lib\\\\site-packages\\\\numpy\\\\core\\\\getlimits.py\": 1720913189.0479102, \"C:\\\\Users\\\\sghys\\\\miniconda3\\\\envs\\\\ml\\\\Lib\\\\site-packages\\\\numpy\\\\core\\\\einsumfunc.py\": 1720913189.0449076, \"C:\\\\Users\\\\sghys\\\\miniconda3\\\\envs\\\\ml\\\\Lib\\\\site-packages\\\\numpy\\\\core\\\\_multiarray_tests.cp311-win_amd64.pyd\": 1720913189.063907, \"C:\\\\Users\\\\sghys\\\\miniconda3\\\\envs\\\\ml\\\\Lib\\\\site-packages\\\\numpy\\\\core\\\\_add_newdocs.py\": 1720913189.057908, \"C:\\\\Users\\\\sghys\\\\miniconda3\\\\envs\\\\ml\\\\Lib\\\\site-packages\\\\numpy\\\\core\\\\_add_newdocs_scalars.py\": 1720913189.057908, \"C:\\\\Users\\\\sghys\\\\miniconda3\\\\envs\\\\ml\\\\Lib\\\\site-packages\\\\numpy\\\\core\\\\_dtype_ctypes.py\": 1720913189.059908, \"C:\\\\Users\\\\sghys\\\\miniconda3\\\\envs\\\\ml\\\\Lib\\\\site-packages\\\\numpy\\\\core\\\\_internal.py\": 1720913189.060907, \"C:\\\\Users\\\\sghys\\\\miniconda3\\\\envs\\\\ml\\\\Lib\\\\site-packages\\\\numpy\\\\_pytesttester.py\": 1720913189.0223906, \"C:\\\\Users\\\\sghys\\\\miniconda3\\\\envs\\\\ml\\\\Lib\\\\site-packages\\\\numpy\\\\core\\\\__init__.py\": 1720913189.0849063, \"C:\\\\Users\\\\sghys\\\\miniconda3\\\\envs\\\\ml\\\\Lib\\\\site-packages\\\\numpy\\\\__config__.py\": 1720913189.0233915, \"C:\\\\Users\\\\sghys\\\\miniconda3\\\\envs\\\\ml\\\\Lib\\\\site-packages\\\\numpy\\\\lib\\\\mixins.py\": 1720913189.2775662, \"C:\\\\Users\\\\sghys\\\\miniconda3\\\\envs\\\\ml\\\\Lib\\\\site-packages\\\\numpy\\\\lib\\\\ufunclike.py\": 1720913189.2855663, \"C:\\\\Users\\\\sghys\\\\miniconda3\\\\envs\\\\ml\\\\Lib\\\\site-packages\\\\numpy\\\\lib\\\\type_check.py\": 1720913189.2855663, \"C:\\\\Users\\\\sghys\\\\miniconda3\\\\envs\\\\ml\\\\Lib\\\\site-packages\\\\numpy\\\\lib\\\\scimath.py\": 1720913189.281568, \"C:\\\\Users\\\\sghys\\\\miniconda3\\\\envs\\\\ml\\\\Lib\\\\site-packages\\\\numpy\\\\lib\\\\stride_tricks.py\": 1720913189.283569, \"C:\\\\Users\\\\sghys\\\\miniconda3\\\\envs\\\\ml\\\\Lib\\\\site-packages\\\\numpy\\\\lib\\\\twodim_base.py\": 1720913189.2845664, \"C:\\\\Users\\\\sghys\\\\miniconda3\\\\envs\\\\ml\\\\Lib\\\\site-packages\\\\numpy\\\\linalg\\\\_umath_linalg.cp311-win_amd64.pyd\": 1720913189.3085673, \"C:\\\\Users\\\\sghys\\\\miniconda3\\\\envs\\\\ml\\\\Lib\\\\site-packages\\\\numpy\\\\_typing\\\\_nested_sequence.py\": 1720913189.4544108, \"C:\\\\Users\\\\sghys\\\\miniconda3\\\\envs\\\\ml\\\\Lib\\\\site-packages\\\\numpy\\\\_typing\\\\_nbit.py\": 1720913189.4544108, \"C:\\\\Users\\\\sghys\\\\miniconda3\\\\envs\\\\ml\\\\Lib\\\\site-packages\\\\numpy\\\\_typing\\\\_char_codes.py\": 1720913189.4534109, \"C:\\\\Users\\\\sghys\\\\miniconda3\\\\envs\\\\ml\\\\Lib\\\\site-packages\\\\numpy\\\\_typing\\\\_scalars.py\": 1720913189.4554121, \"C:\\\\Users\\\\sghys\\\\miniconda3\\\\envs\\\\ml\\\\Lib\\\\site-packages\\\\numpy\\\\_typing\\\\_shape.py\": 1720913189.4554121, \"C:\\\\Users\\\\sghys\\\\miniconda3\\\\envs\\\\ml\\\\Lib\\\\site-packages\\\\numpy\\\\_typing\\\\_dtype_like.py\": 1720913189.4534109, \"C:\\\\Users\\\\sghys\\\\miniconda3\\\\envs\\\\ml\\\\Lib\\\\site-packages\\\\numpy\\\\_typing\\\\_array_like.py\": 1720913189.451411, \"C:\\\\Users\\\\sghys\\\\miniconda3\\\\envs\\\\ml\\\\Lib\\\\site-packages\\\\numpy\\\\_typing\\\\__init__.py\": 1720913189.456427, \"C:\\\\Users\\\\sghys\\\\miniconda3\\\\envs\\\\ml\\\\Lib\\\\site-packages\\\\numpy\\\\linalg\\\\linalg.py\": 1720913189.3065674, \"C:\\\\Users\\\\sghys\\\\miniconda3\\\\envs\\\\ml\\\\Lib\\\\site-packages\\\\numpy\\\\linalg\\\\__init__.py\": 1720913189.3085673, \"C:\\\\Users\\\\sghys\\\\miniconda3\\\\envs\\\\ml\\\\Lib\\\\site-packages\\\\numpy\\\\matrixlib\\\\defmatrix.py\": 1720913189.3225706, \"C:\\\\Users\\\\sghys\\\\miniconda3\\\\envs\\\\ml\\\\Lib\\\\site-packages\\\\numpy\\\\matrixlib\\\\__init__.py\": 1720913189.3235674, \"C:\\\\Users\\\\sghys\\\\miniconda3\\\\envs\\\\ml\\\\Lib\\\\site-packages\\\\numpy\\\\lib\\\\histograms.py\": 1720913189.2755673, \"C:\\\\Users\\\\sghys\\\\miniconda3\\\\envs\\\\ml\\\\Lib\\\\site-packages\\\\numpy\\\\lib\\\\function_base.py\": 1720913189.2745678, \"C:\\\\Users\\\\sghys\\\\miniconda3\\\\envs\\\\ml\\\\Lib\\\\site-packages\\\\numpy\\\\lib\\\\index_tricks.py\": 1720913189.2765663, \"C:\\\\Users\\\\sghys\\\\miniconda3\\\\envs\\\\ml\\\\Lib\\\\site-packages\\\\numpy\\\\lib\\\\nanfunctions.py\": 1720913189.2775662, \"C:\\\\Users\\\\sghys\\\\miniconda3\\\\envs\\\\ml\\\\Lib\\\\site-packages\\\\numpy\\\\lib\\\\shape_base.py\": 1720913189.2825675, \"C:\\\\Users\\\\sghys\\\\miniconda3\\\\envs\\\\ml\\\\Lib\\\\site-packages\\\\numpy\\\\lib\\\\polynomial.py\": 1720913189.2795677, \"C:\\\\Users\\\\sghys\\\\miniconda3\\\\envs\\\\ml\\\\Lib\\\\site-packages\\\\numpy\\\\lib\\\\utils.py\": 1720913189.287567, \"C:\\\\Users\\\\sghys\\\\miniconda3\\\\envs\\\\ml\\\\Lib\\\\site-packages\\\\numpy\\\\lib\\\\arraysetops.py\": 1720913189.2715676, \"C:\\\\Users\\\\sghys\\\\miniconda3\\\\envs\\\\ml\\\\Lib\\\\site-packages\\\\numpy\\\\lib\\\\format.py\": 1720913189.2735672, \"C:\\\\Users\\\\sghys\\\\miniconda3\\\\envs\\\\ml\\\\Lib\\\\site-packages\\\\numpy\\\\lib\\\\_datasource.py\": 1720913189.2885668, \"C:\\\\Users\\\\sghys\\\\miniconda3\\\\envs\\\\ml\\\\Lib\\\\site-packages\\\\numpy\\\\lib\\\\_iotools.py\": 1720913189.2885668, \"C:\\\\Users\\\\sghys\\\\miniconda3\\\\envs\\\\ml\\\\Lib\\\\site-packages\\\\numpy\\\\lib\\\\npyio.py\": 1720913189.2785673, \"C:\\\\Users\\\\sghys\\\\miniconda3\\\\envs\\\\ml\\\\Lib\\\\site-packages\\\\numpy\\\\lib\\\\arrayterator.py\": 1720913189.2725675, \"C:\\\\Users\\\\sghys\\\\miniconda3\\\\envs\\\\ml\\\\Lib\\\\site-packages\\\\numpy\\\\lib\\\\arraypad.py\": 1720913189.2715676, \"C:\\\\Users\\\\sghys\\\\miniconda3\\\\envs\\\\ml\\\\Lib\\\\site-packages\\\\numpy\\\\lib\\\\_version.py\": 1720913189.2885668, \"C:\\\\Users\\\\sghys\\\\miniconda3\\\\envs\\\\ml\\\\Lib\\\\site-packages\\\\numpy\\\\lib\\\\__init__.py\": 1720913189.2895665, \"C:\\\\Users\\\\sghys\\\\miniconda3\\\\envs\\\\ml\\\\Lib\\\\site-packages\\\\numpy\\\\fft\\\\_pocketfft_internal.cp311-win_amd64.pyd\": 1720913189.2685678, \"C:\\\\Users\\\\sghys\\\\miniconda3\\\\envs\\\\ml\\\\Lib\\\\site-packages\\\\numpy\\\\fft\\\\_pocketfft.py\": 1720913189.2675672, \"C:\\\\Users\\\\sghys\\\\miniconda3\\\\envs\\\\ml\\\\Lib\\\\site-packages\\\\numpy\\\\fft\\\\helper.py\": 1720913189.266567, \"C:\\\\Users\\\\sghys\\\\miniconda3\\\\envs\\\\ml\\\\Lib\\\\site-packages\\\\numpy\\\\fft\\\\__init__.py\": 1720913189.2695675, \"C:\\\\Users\\\\sghys\\\\miniconda3\\\\envs\\\\ml\\\\Lib\\\\site-packages\\\\numpy\\\\polynomial\\\\polyutils.py\": 1720913189.3335721, \"C:\\\\Users\\\\sghys\\\\miniconda3\\\\envs\\\\ml\\\\Lib\\\\site-packages\\\\numpy\\\\polynomial\\\\_polybase.py\": 1720913189.3345716, \"C:\\\\Users\\\\sghys\\\\miniconda3\\\\envs\\\\ml\\\\Lib\\\\site-packages\\\\numpy\\\\polynomial\\\\polynomial.py\": 1720913189.3325722, \"C:\\\\Users\\\\sghys\\\\miniconda3\\\\envs\\\\ml\\\\Lib\\\\site-packages\\\\numpy\\\\polynomial\\\\chebyshev.py\": 1720913189.327572, \"C:\\\\Users\\\\sghys\\\\miniconda3\\\\envs\\\\ml\\\\Lib\\\\site-packages\\\\numpy\\\\polynomial\\\\legendre.py\": 1720913189.3315723, \"C:\\\\Users\\\\sghys\\\\miniconda3\\\\envs\\\\ml\\\\Lib\\\\site-packages\\\\numpy\\\\polynomial\\\\hermite.py\": 1720913189.3285725, \"C:\\\\Users\\\\sghys\\\\miniconda3\\\\envs\\\\ml\\\\Lib\\\\site-packages\\\\numpy\\\\polynomial\\\\hermite_e.py\": 1720913189.3295715, \"C:\\\\Users\\\\sghys\\\\miniconda3\\\\envs\\\\ml\\\\Lib\\\\site-packages\\\\numpy\\\\polynomial\\\\laguerre.py\": 1720913189.330572, \"C:\\\\Users\\\\sghys\\\\miniconda3\\\\envs\\\\ml\\\\Lib\\\\site-packages\\\\numpy\\\\polynomial\\\\__init__.py\": 1720913189.3355722, \"C:\\\\Users\\\\sghys\\\\miniconda3\\\\envs\\\\ml\\\\Lib\\\\site-packages\\\\numpy\\\\random\\\\_common.cp311-win_amd64.pyd\": 1720913189.3498914, \"C:\\\\Users\\\\sghys\\\\miniconda3\\\\envs\\\\ml\\\\Lib\\\\secrets.py\": 1712046304.0, \"C:\\\\Users\\\\sghys\\\\miniconda3\\\\envs\\\\ml\\\\Lib\\\\site-packages\\\\numpy\\\\random\\\\bit_generator.cp311-win_amd64.pyd\": 1720913189.3418913, \"C:\\\\Users\\\\sghys\\\\miniconda3\\\\envs\\\\ml\\\\Lib\\\\site-packages\\\\numpy\\\\random\\\\_bounded_integers.cp311-win_amd64.pyd\": 1720913189.3478932, \"C:\\\\Users\\\\sghys\\\\miniconda3\\\\envs\\\\ml\\\\Lib\\\\site-packages\\\\numpy\\\\random\\\\_mt19937.cp311-win_amd64.pyd\": 1720913189.3538918, \"C:\\\\Users\\\\sghys\\\\miniconda3\\\\envs\\\\ml\\\\Lib\\\\site-packages\\\\numpy\\\\random\\\\mtrand.cp311-win_amd64.pyd\": 1720913189.3458931, \"C:\\\\Users\\\\sghys\\\\miniconda3\\\\envs\\\\ml\\\\Lib\\\\site-packages\\\\numpy\\\\random\\\\_philox.cp311-win_amd64.pyd\": 1720913189.3568919, \"C:\\\\Users\\\\sghys\\\\miniconda3\\\\envs\\\\ml\\\\Lib\\\\site-packages\\\\numpy\\\\random\\\\_pcg64.cp311-win_amd64.pyd\": 1720913189.3558931, \"C:\\\\Users\\\\sghys\\\\miniconda3\\\\envs\\\\ml\\\\Lib\\\\site-packages\\\\numpy\\\\random\\\\_sfc64.cp311-win_amd64.pyd\": 1720913189.3588939, \"C:\\\\Users\\\\sghys\\\\miniconda3\\\\envs\\\\ml\\\\Lib\\\\site-packages\\\\numpy\\\\random\\\\_generator.cp311-win_amd64.pyd\": 1720913189.3528917, \"C:\\\\Users\\\\sghys\\\\miniconda3\\\\envs\\\\ml\\\\Lib\\\\site-packages\\\\numpy\\\\random\\\\_pickle.py\": 1720913189.3578913, \"C:\\\\Users\\\\sghys\\\\miniconda3\\\\envs\\\\ml\\\\Lib\\\\site-packages\\\\numpy\\\\random\\\\__init__.py\": 1720913189.3598917, \"C:\\\\Users\\\\sghys\\\\miniconda3\\\\envs\\\\ml\\\\Lib\\\\site-packages\\\\numpy\\\\ctypeslib.py\": 1720913189.0173934, \"C:\\\\Users\\\\sghys\\\\miniconda3\\\\envs\\\\ml\\\\Lib\\\\site-packages\\\\numpy\\\\ma\\\\core.py\": 1720913189.3125675, \"C:\\\\Users\\\\sghys\\\\miniconda3\\\\envs\\\\ml\\\\Lib\\\\site-packages\\\\numpy\\\\ma\\\\extras.py\": 1720913189.3135667, \"C:\\\\Users\\\\sghys\\\\miniconda3\\\\envs\\\\ml\\\\Lib\\\\site-packages\\\\numpy\\\\ma\\\\__init__.py\": 1720913189.3175666, \"C:\\\\Users\\\\sghys\\\\miniconda3\\\\envs\\\\ml\\\\Lib\\\\site-packages\\\\numpy\\\\__init__.py\": 1720913189.0253968, \"C:\\\\Users\\\\sghys\\\\miniconda3\\\\envs\\\\ml\\\\Lib\\\\site-packages\\\\matplotlib\\\\_api\\\\deprecation.py\": 1724350803.5512471, \"C:\\\\Users\\\\sghys\\\\miniconda3\\\\envs\\\\ml\\\\Lib\\\\site-packages\\\\matplotlib\\\\_api\\\\__init__.py\": 1724350803.5522492, \"C:\\\\Users\\\\sghys\\\\miniconda3\\\\envs\\\\ml\\\\Lib\\\\site-packages\\\\matplotlib\\\\_version.py\": 1724350803.2781453, \"C:\\\\Users\\\\sghys\\\\miniconda3\\\\envs\\\\ml\\\\Lib\\\\site-packages\\\\matplotlib\\\\_c_internal_utils.cp311-win_amd64.pyd\": 1724350803.2611449, \"C:\\\\Users\\\\sghys\\\\miniconda3\\\\envs\\\\ml\\\\Lib\\\\site-packages\\\\matplotlib\\\\cbook\\\\__init__.py\": 1724350803.3161435, \"C:\\\\Users\\\\sghys\\\\miniconda3\\\\envs\\\\ml\\\\Lib\\\\site-packages\\\\matplotlib\\\\_docstring.py\": 1724350803.262144, \"C:\\\\Users\\\\sghys\\\\miniconda3\\\\envs\\\\ml\\\\Lib\\\\site-packages\\\\PIL\\\\_version.py\": 1720913188.730752, \"C:\\\\Users\\\\sghys\\\\miniconda3\\\\envs\\\\ml\\\\Lib\\\\site-packages\\\\PIL\\\\__init__.py\": 1720913188.708742, \"C:\\\\Users\\\\sghys\\\\miniconda3\\\\envs\\\\ml\\\\Lib\\\\site-packages\\\\PIL\\\\ExifTags.py\": 1720913188.6707435, \"C:\\\\Users\\\\sghys\\\\miniconda3\\\\envs\\\\ml\\\\Lib\\\\site-packages\\\\PIL\\\\_deprecate.py\": 1720913188.709741, \"C:\\\\Users\\\\sghys\\\\miniconda3\\\\envs\\\\ml\\\\Lib\\\\site-packages\\\\PIL\\\\ImageMode.py\": 1720913188.685747, \"C:\\\\Users\\\\sghys\\\\miniconda3\\\\envs\\\\ml\\\\Lib\\\\site-packages\\\\PIL\\\\TiffTags.py\": 1720913188.7057447, \"C:\\\\Users\\\\sghys\\\\miniconda3\\\\envs\\\\ml\\\\Lib\\\\site-packages\\\\PIL\\\\_binary.py\": 1720913188.709741, \"C:\\\\Users\\\\sghys\\\\miniconda3\\\\envs\\\\ml\\\\Lib\\\\site-packages\\\\numpy\\\\_typing\\\\_add_docstring.py\": 1720913189.451411, \"C:\\\\Users\\\\sghys\\\\miniconda3\\\\envs\\\\ml\\\\Lib\\\\site-packages\\\\numpy\\\\typing\\\\__init__.py\": 1720913189.383892, \"C:\\\\Users\\\\sghys\\\\miniconda3\\\\envs\\\\ml\\\\Lib\\\\site-packages\\\\PIL\\\\_typing.py\": 1720913188.730752, \"C:\\\\Users\\\\sghys\\\\miniconda3\\\\envs\\\\ml\\\\Lib\\\\site-packages\\\\PIL\\\\_util.py\": 1720913188.730752, \"C:\\\\Users\\\\sghys\\\\miniconda3\\\\envs\\\\ml\\\\Lib\\\\site-packages\\\\defusedxml\\\\common.py\": 1720913254.6756551, \"C:\\\\Users\\\\sghys\\\\miniconda3\\\\envs\\\\ml\\\\Lib\\\\site-packages\\\\defusedxml\\\\__init__.py\": 1720913254.6746564, \"C:\\\\Users\\\\sghys\\\\miniconda3\\\\envs\\\\ml\\\\Lib\\\\xml\\\\etree\\\\__init__.py\": 1712046304.0, \"C:\\\\Users\\\\sghys\\\\miniconda3\\\\envs\\\\ml\\\\Lib\\\\xml\\\\etree\\\\ElementPath.py\": 1712046304.0, \"C:\\\\Users\\\\sghys\\\\miniconda3\\\\envs\\\\ml\\\\DLLs\\\\_elementtree.pyd\": 1713545345.4326856, \"C:\\\\Users\\\\sghys\\\\miniconda3\\\\envs\\\\ml\\\\Lib\\\\xml\\\\etree\\\\ElementTree.py\": 1712046304.0, \"C:\\\\Users\\\\sghys\\\\miniconda3\\\\envs\\\\ml\\\\Lib\\\\site-packages\\\\defusedxml\\\\ElementTree.py\": 1720913254.6736531, \"C:\\\\Users\\\\sghys\\\\miniconda3\\\\envs\\\\ml\\\\Lib\\\\site-packages\\\\PIL\\\\_imaging.cp311-win_amd64.pyd\": 1720913188.7177434, \"C:\\\\Users\\\\sghys\\\\miniconda3\\\\envs\\\\ml\\\\Lib\\\\site-packages\\\\cffi\\\\lock.py\": 1720913258.9673445, \"C:\\\\Users\\\\sghys\\\\miniconda3\\\\envs\\\\ml\\\\Lib\\\\site-packages\\\\cffi\\\\error.py\": 1720913258.9663472, \"C:\\\\Users\\\\sghys\\\\miniconda3\\\\envs\\\\ml\\\\Lib\\\\site-packages\\\\cffi\\\\model.py\": 1720913258.9673445, \"C:\\\\Users\\\\sghys\\\\miniconda3\\\\envs\\\\ml\\\\Lib\\\\site-packages\\\\cffi\\\\api.py\": 1720913258.963344, \"C:\\\\Users\\\\sghys\\\\miniconda3\\\\envs\\\\ml\\\\Lib\\\\site-packages\\\\cffi\\\\__init__.py\": 1720913258.9603455, \"C:\\\\Users\\\\sghys\\\\miniconda3\\\\envs\\\\ml\\\\Lib\\\\site-packages\\\\PIL\\\\Image.py\": 1720913188.6797438, \"C:\\\\Users\\\\sghys\\\\miniconda3\\\\envs\\\\ml\\\\Lib\\\\site-packages\\\\PIL\\\\ImageChops.py\": 1720913188.6797438, \"C:\\\\Users\\\\sghys\\\\miniconda3\\\\envs\\\\ml\\\\Lib\\\\site-packages\\\\PIL\\\\ImageFile.py\": 1720913188.6827428, \"C:\\\\Users\\\\sghys\\\\miniconda3\\\\envs\\\\ml\\\\Lib\\\\site-packages\\\\PIL\\\\GimpGradientFile.py\": 1720913188.6747415, \"C:\\\\Users\\\\sghys\\\\miniconda3\\\\envs\\\\ml\\\\Lib\\\\site-packages\\\\PIL\\\\GimpPaletteFile.py\": 1720913188.6757424, \"C:\\\\Users\\\\sghys\\\\miniconda3\\\\envs\\\\ml\\\\Lib\\\\site-packages\\\\PIL\\\\ImageColor.py\": 1720913188.6807437, \"C:\\\\Users\\\\sghys\\\\miniconda3\\\\envs\\\\ml\\\\Lib\\\\site-packages\\\\PIL\\\\PaletteFile.py\": 1720913188.6967416, \"C:\\\\Users\\\\sghys\\\\miniconda3\\\\envs\\\\ml\\\\Lib\\\\site-packages\\\\PIL\\\\ImagePalette.py\": 1720913188.6877427, \"C:\\\\Users\\\\sghys\\\\miniconda3\\\\envs\\\\ml\\\\Lib\\\\site-packages\\\\PIL\\\\ImageSequence.py\": 1720913188.688744, \"C:\\\\Users\\\\sghys\\\\miniconda3\\\\envs\\\\ml\\\\Lib\\\\site-packages\\\\PIL\\\\PngImagePlugin.py\": 1720913188.7007437, \"C:\\\\Users\\\\sghys\\\\miniconda3\\\\envs\\\\ml\\\\Lib\\\\site-packages\\\\matplotlib\\\\_cm.py\": 1724350803.2581432, \"C:\\\\Users\\\\sghys\\\\miniconda3\\\\envs\\\\ml\\\\Lib\\\\site-packages\\\\matplotlib\\\\_path.cp311-win_amd64.pyd\": 1724350803.269144, \"C:\\\\Users\\\\sghys\\\\miniconda3\\\\envs\\\\ml\\\\Lib\\\\site-packages\\\\matplotlib\\\\bezier.py\": 1724350803.2172391, \"C:\\\\Users\\\\sghys\\\\miniconda3\\\\envs\\\\ml\\\\Lib\\\\site-packages\\\\matplotlib\\\\path.py\": 1724350803.240244, \"C:\\\\Users\\\\sghys\\\\miniconda3\\\\envs\\\\ml\\\\Lib\\\\site-packages\\\\matplotlib\\\\transforms.py\": 1724350803.2532446, \"C:\\\\Users\\\\sghys\\\\miniconda3\\\\envs\\\\ml\\\\Lib\\\\site-packages\\\\matplotlib\\\\ticker.py\": 1724350803.2512445, \"C:\\\\Users\\\\sghys\\\\miniconda3\\\\envs\\\\ml\\\\Lib\\\\site-packages\\\\matplotlib\\\\scale.py\": 1724350803.2452438, \"C:\\\\Users\\\\sghys\\\\miniconda3\\\\envs\\\\ml\\\\Lib\\\\site-packages\\\\matplotlib\\\\_color_data.py\": 1724350803.2601442, \"C:\\\\Users\\\\sghys\\\\miniconda3\\\\envs\\\\ml\\\\Lib\\\\site-packages\\\\matplotlib\\\\colors.py\": 1724350803.222236, \"C:\\\\Users\\\\sghys\\\\miniconda3\\\\envs\\\\ml\\\\Lib\\\\site-packages\\\\pyparsing\\\\util.py\": 1720913251.0159786, \"C:\\\\Users\\\\sghys\\\\miniconda3\\\\envs\\\\ml\\\\Lib\\\\site-packages\\\\pyparsing\\\\unicode.py\": 1720913251.0159786, \"C:\\\\Users\\\\sghys\\\\miniconda3\\\\envs\\\\ml\\\\Lib\\\\site-packages\\\\pyparsing\\\\exceptions.py\": 1720913251.012982, \"C:\\\\Users\\\\sghys\\\\miniconda3\\\\envs\\\\ml\\\\Lib\\\\site-packages\\\\pyparsing\\\\actions.py\": 1720913251.01098, \"C:\\\\Users\\\\sghys\\\\miniconda3\\\\envs\\\\ml\\\\Lib\\\\site-packages\\\\pyparsing\\\\results.py\": 1720913251.014979, \"C:\\\\Users\\\\sghys\\\\miniconda3\\\\envs\\\\ml\\\\Lib\\\\site-packages\\\\pyparsing\\\\core.py\": 1720913251.0119822, \"C:\\\\Users\\\\sghys\\\\miniconda3\\\\envs\\\\ml\\\\Lib\\\\site-packages\\\\pyparsing\\\\helpers.py\": 1720913251.0139794, \"C:\\\\Users\\\\sghys\\\\miniconda3\\\\envs\\\\ml\\\\Lib\\\\site-packages\\\\pyparsing\\\\testing.py\": 1720913251.014979, \"C:\\\\Users\\\\sghys\\\\miniconda3\\\\envs\\\\ml\\\\Lib\\\\site-packages\\\\pyparsing\\\\common.py\": 1720913251.01098, \"C:\\\\Users\\\\sghys\\\\miniconda3\\\\envs\\\\ml\\\\Lib\\\\site-packages\\\\pyparsing\\\\__init__.py\": 1720913251.0099843, \"C:\\\\Users\\\\sghys\\\\miniconda3\\\\envs\\\\ml\\\\Lib\\\\site-packages\\\\matplotlib\\\\_fontconfig_pattern.py\": 1724350803.263147, \"C:\\\\Users\\\\sghys\\\\miniconda3\\\\envs\\\\ml\\\\Lib\\\\site-packages\\\\matplotlib\\\\_enums.py\": 1724350803.262144, \"C:\\\\Users\\\\sghys\\\\miniconda3\\\\envs\\\\ml\\\\Lib\\\\site-packages\\\\cycler\\\\__init__.py\": 1720913255.75368, \"C:\\\\Users\\\\sghys\\\\miniconda3\\\\envs\\\\ml\\\\Lib\\\\site-packages\\\\matplotlib\\\\rcsetup.py\": 1724350803.2442431, \"C:\\\\Users\\\\sghys\\\\miniconda3\\\\envs\\\\ml\\\\Lib\\\\site-packages\\\\matplotlib\\\\ft2font.cp311-win_amd64.pyd\": 1724350803.231233, \"C:\\\\Users\\\\sghys\\\\miniconda3\\\\envs\\\\ml\\\\Lib\\\\site-packages\\\\kiwisolver\\\\exceptions.py\": 1720913252.9765952, \"C:\\\\Users\\\\sghys\\\\miniconda3\\\\envs\\\\ml\\\\Lib\\\\site-packages\\\\kiwisolver\\\\_cext.cp311-win_amd64.pyd\": 1720913252.9745953, \"C:\\\\Users\\\\sghys\\\\miniconda3\\\\envs\\\\ml\\\\Lib\\\\site-packages\\\\kiwisolver\\\\__init__.py\": 1720913252.9735973, \"C:\\\\Users\\\\sghys\\\\miniconda3\\\\envs\\\\ml\\\\Lib\\\\site-packages\\\\matplotlib\\\\_cm_listed.py\": 1724350803.2591434, \"C:\\\\Users\\\\sghys\\\\miniconda3\\\\envs\\\\ml\\\\Lib\\\\site-packages\\\\matplotlib\\\\cm.py\": 1724350803.2182376, \"C:\\\\Users\\\\sghys\\\\miniconda3\\\\envs\\\\ml\\\\Lib\\\\site-packages\\\\matplotlib\\\\__init__.py\": 1724350803.2781453, \"C:\\\\Users\\\\sghys\\\\miniconda3\\\\envs\\\\ml\\\\Lib\\\\site-packages\\\\matplotlib\\\\artist.py\": 1724350803.2112358, \"C:\\\\Users\\\\sghys\\\\miniconda3\\\\envs\\\\ml\\\\Lib\\\\site-packages\\\\matplotlib\\\\hatch.py\": 1724350803.2332342, \"C:\\\\Users\\\\sghys\\\\miniconda3\\\\envs\\\\ml\\\\Lib\\\\site-packages\\\\matplotlib\\\\markers.py\": 1724350803.2372346, \"C:\\\\Users\\\\sghys\\\\miniconda3\\\\envs\\\\ml\\\\Lib\\\\site-packages\\\\matplotlib\\\\lines.py\": 1724350803.236236, \"C:\\\\Users\\\\sghys\\\\miniconda3\\\\envs\\\\ml\\\\Lib\\\\site-packages\\\\matplotlib\\\\collections.py\": 1724350803.2202353, \"C:\\\\Users\\\\sghys\\\\miniconda3\\\\envs\\\\ml\\\\Lib\\\\site-packages\\\\matplotlib\\\\_pylab_helpers.py\": 1724350803.270156, \"C:\\\\Users\\\\sghys\\\\miniconda3\\\\envs\\\\ml\\\\Lib\\\\site-packages\\\\matplotlib\\\\backend_tools.py\": 1724350803.216262, \"C:\\\\Users\\\\sghys\\\\miniconda3\\\\envs\\\\ml\\\\Lib\\\\site-packages\\\\matplotlib\\\\_mathtext_data.py\": 1724350803.2681446, \"C:\\\\Users\\\\sghys\\\\miniconda3\\\\envs\\\\ml\\\\Lib\\\\site-packages\\\\matplotlib\\\\_afm.py\": 1724350803.2571454, \"C:\\\\Users\\\\sghys\\\\miniconda3\\\\envs\\\\ml\\\\Lib\\\\site-packages\\\\matplotlib\\\\font_manager.py\": 1724350803.2282362, \"C:\\\\Users\\\\sghys\\\\miniconda3\\\\envs\\\\ml\\\\Lib\\\\site-packages\\\\matplotlib\\\\patches.py\": 1724350803.240244, \"C:\\\\Users\\\\sghys\\\\miniconda3\\\\envs\\\\ml\\\\Lib\\\\site-packages\\\\matplotlib\\\\_text_helpers.py\": 1724350803.2731428, \"C:\\\\Users\\\\sghys\\\\miniconda3\\\\envs\\\\ml\\\\Lib\\\\site-packages\\\\matplotlib\\\\dviread.py\": 1724350803.2262347, \"C:\\\\Users\\\\sghys\\\\miniconda3\\\\envs\\\\ml\\\\Lib\\\\site-packages\\\\matplotlib\\\\_mathtext.py\": 1724350803.2671447, \"C:\\\\Users\\\\sghys\\\\miniconda3\\\\envs\\\\ml\\\\Lib\\\\site-packages\\\\matplotlib\\\\mathtext.py\": 1724350803.2372346, \"C:\\\\Users\\\\sghys\\\\miniconda3\\\\envs\\\\ml\\\\Lib\\\\site-packages\\\\matplotlib\\\\texmanager.py\": 1724350803.2492437, \"C:\\\\Users\\\\sghys\\\\miniconda3\\\\envs\\\\ml\\\\Lib\\\\site-packages\\\\matplotlib\\\\textpath.py\": 1724350803.2502437, \"C:\\\\Users\\\\sghys\\\\miniconda3\\\\envs\\\\ml\\\\Lib\\\\site-packages\\\\matplotlib\\\\text.py\": 1724350803.2502437, \"C:\\\\Users\\\\sghys\\\\miniconda3\\\\envs\\\\ml\\\\Lib\\\\site-packages\\\\matplotlib\\\\_tight_bbox.py\": 1724350803.2741446, \"C:\\\\Users\\\\sghys\\\\miniconda3\\\\envs\\\\ml\\\\Lib\\\\site-packages\\\\matplotlib\\\\widgets.py\": 1724350803.2561312, \"C:\\\\Users\\\\sghys\\\\miniconda3\\\\envs\\\\ml\\\\Lib\\\\site-packages\\\\matplotlib\\\\backend_managers.py\": 1724350803.2142346, \"C:\\\\Users\\\\sghys\\\\miniconda3\\\\envs\\\\ml\\\\Lib\\\\site-packages\\\\matplotlib\\\\backend_bases.py\": 1724350803.2132354, \"C:\\\\Users\\\\sghys\\\\miniconda3\\\\envs\\\\ml\\\\Lib\\\\site-packages\\\\matplotlib\\\\contour.py\": 1724350803.2232358, \"C:\\\\Users\\\\sghys\\\\miniconda3\\\\envs\\\\ml\\\\Lib\\\\site-packages\\\\matplotlib\\\\spines.py\": 1724350803.2462442, \"C:\\\\Users\\\\sghys\\\\miniconda3\\\\envs\\\\ml\\\\Lib\\\\site-packages\\\\matplotlib\\\\colorbar.py\": 1724350803.2212358, \"C:\\\\Users\\\\sghys\\\\miniconda3\\\\envs\\\\ml\\\\Lib\\\\site-packages\\\\matplotlib\\\\_image.cp311-win_amd64.pyd\": 1724350803.264144, \"C:\\\\Users\\\\sghys\\\\miniconda3\\\\envs\\\\ml\\\\Lib\\\\site-packages\\\\matplotlib\\\\image.py\": 1724350803.2332342, \"C:\\\\Users\\\\sghys\\\\miniconda3\\\\envs\\\\ml\\\\Lib\\\\site-packages\\\\matplotlib\\\\style\\\\core.py\": 1724350803.4582458, \"C:\\\\Users\\\\sghys\\\\miniconda3\\\\envs\\\\ml\\\\Lib\\\\site-packages\\\\matplotlib\\\\style\\\\__init__.py\": 1724350803.4602413, \"C:\\\\Users\\\\sghys\\\\miniconda3\\\\envs\\\\ml\\\\Lib\\\\site-packages\\\\matplotlib\\\\_blocking_input.py\": 1724350803.2581432, \"C:\\\\Users\\\\sghys\\\\miniconda3\\\\envs\\\\ml\\\\Lib\\\\site-packages\\\\matplotlib\\\\offsetbox.py\": 1724350803.2392366, \"C:\\\\Users\\\\sghys\\\\miniconda3\\\\envs\\\\ml\\\\Lib\\\\site-packages\\\\matplotlib\\\\units.py\": 1724350803.254751, \"C:\\\\Users\\\\sghys\\\\miniconda3\\\\envs\\\\ml\\\\Lib\\\\site-packages\\\\matplotlib\\\\axis.py\": 1724350803.2122355, \"C:\\\\Users\\\\sghys\\\\miniconda3\\\\envs\\\\ml\\\\Lib\\\\site-packages\\\\matplotlib\\\\_tight_layout.py\": 1724350803.2741446, \"C:\\\\Users\\\\sghys\\\\miniconda3\\\\envs\\\\ml\\\\Lib\\\\site-packages\\\\matplotlib\\\\gridspec.py\": 1724350803.2322347, \"C:\\\\Users\\\\sghys\\\\miniconda3\\\\envs\\\\ml\\\\Lib\\\\site-packages\\\\matplotlib\\\\table.py\": 1724350803.2482438, \"C:\\\\Users\\\\sghys\\\\miniconda3\\\\envs\\\\ml\\\\Lib\\\\site-packages\\\\matplotlib\\\\axes\\\\_base.py\": 1724350803.2811453, \"C:\\\\Users\\\\sghys\\\\miniconda3\\\\envs\\\\ml\\\\Lib\\\\site-packages\\\\matplotlib\\\\category.py\": 1724350803.2172391, \"C:\\\\Users\\\\sghys\\\\miniconda3\\\\envs\\\\ml\\\\Lib\\\\site-packages\\\\dateutil\\\\rrule.py\": 1720913257.2256534, \"C:\\\\Users\\\\sghys\\\\miniconda3\\\\envs\\\\ml\\\\Lib\\\\site-packages\\\\matplotlib\\\\dates.py\": 1724350803.224235, \"C:\\\\Users\\\\sghys\\\\miniconda3\\\\envs\\\\ml\\\\Lib\\\\site-packages\\\\matplotlib\\\\container.py\": 1724350803.2232358, \"C:\\\\Users\\\\sghys\\\\miniconda3\\\\envs\\\\ml\\\\Lib\\\\site-packages\\\\matplotlib\\\\legend_handler.py\": 1724350803.236236, \"C:\\\\Users\\\\sghys\\\\miniconda3\\\\envs\\\\ml\\\\Lib\\\\site-packages\\\\matplotlib\\\\legend.py\": 1724350803.2352362, \"C:\\\\Users\\\\sghys\\\\miniconda3\\\\envs\\\\ml\\\\Lib\\\\site-packages\\\\matplotlib\\\\mlab.py\": 1724350803.2382333, \"C:\\\\Users\\\\sghys\\\\miniconda3\\\\envs\\\\ml\\\\Lib\\\\site-packages\\\\matplotlib\\\\quiver.py\": 1724350803.2432444, \"C:\\\\Users\\\\sghys\\\\miniconda3\\\\envs\\\\ml\\\\Lib\\\\site-packages\\\\matplotlib\\\\stackplot.py\": 1724350803.2472434, \"C:\\\\Users\\\\sghys\\\\miniconda3\\\\envs\\\\ml\\\\Lib\\\\site-packages\\\\matplotlib\\\\streamplot.py\": 1724350803.2472434, \"C:\\\\Users\\\\sghys\\\\miniconda3\\\\envs\\\\ml\\\\Lib\\\\site-packages\\\\matplotlib\\\\tri\\\\_triangulation.py\": 1724350803.5452466, \"C:\\\\Users\\\\sghys\\\\miniconda3\\\\envs\\\\ml\\\\Lib\\\\site-packages\\\\matplotlib\\\\tri\\\\_tricontour.py\": 1724350803.546247, \"C:\\\\Users\\\\sghys\\\\miniconda3\\\\envs\\\\ml\\\\Lib\\\\site-packages\\\\matplotlib\\\\tri\\\\_trifinder.py\": 1724350803.546247, \"C:\\\\Users\\\\sghys\\\\miniconda3\\\\envs\\\\ml\\\\Lib\\\\site-packages\\\\matplotlib\\\\tri\\\\_tritools.py\": 1724350803.5502722, \"C:\\\\Users\\\\sghys\\\\miniconda3\\\\envs\\\\ml\\\\Lib\\\\site-packages\\\\matplotlib\\\\tri\\\\_triinterpolate.py\": 1724350803.5472474, \"C:\\\\Users\\\\sghys\\\\miniconda3\\\\envs\\\\ml\\\\Lib\\\\site-packages\\\\matplotlib\\\\tri\\\\_tripcolor.py\": 1724350803.548246, \"C:\\\\Users\\\\sghys\\\\miniconda3\\\\envs\\\\ml\\\\Lib\\\\site-packages\\\\matplotlib\\\\tri\\\\_triplot.py\": 1724350803.549247, \"C:\\\\Users\\\\sghys\\\\miniconda3\\\\envs\\\\ml\\\\Lib\\\\site-packages\\\\matplotlib\\\\tri\\\\_trirefine.py\": 1724350803.549247, \"C:\\\\Users\\\\sghys\\\\miniconda3\\\\envs\\\\ml\\\\Lib\\\\site-packages\\\\matplotlib\\\\tri\\\\__init__.py\": 1724350803.5512471, \"C:\\\\Users\\\\sghys\\\\miniconda3\\\\envs\\\\ml\\\\Lib\\\\site-packages\\\\matplotlib\\\\axes\\\\_secondary_axes.py\": 1724350803.2811453, \"C:\\\\Users\\\\sghys\\\\miniconda3\\\\envs\\\\ml\\\\Lib\\\\site-packages\\\\matplotlib\\\\axes\\\\_axes.py\": 1724350803.2801445, \"C:\\\\Users\\\\sghys\\\\miniconda3\\\\envs\\\\ml\\\\Lib\\\\site-packages\\\\matplotlib\\\\axes\\\\__init__.py\": 1724350803.2821448, \"C:\\\\Users\\\\sghys\\\\miniconda3\\\\envs\\\\ml\\\\Lib\\\\site-packages\\\\matplotlib\\\\projections\\\\geo.py\": 1724350803.450669, \"C:\\\\Users\\\\sghys\\\\miniconda3\\\\envs\\\\ml\\\\Lib\\\\site-packages\\\\matplotlib\\\\projections\\\\polar.py\": 1724350803.451666, \"C:\\\\Users\\\\sghys\\\\miniconda3\\\\envs\\\\ml\\\\Lib\\\\site-packages\\\\mpl_toolkits\\\\mplot3d\\\\proj3d.py\": 1724350803.590763, \"C:\\\\Users\\\\sghys\\\\miniconda3\\\\envs\\\\ml\\\\Lib\\\\site-packages\\\\mpl_toolkits\\\\mplot3d\\\\art3d.py\": 1724350803.5887628, \"C:\\\\Users\\\\sghys\\\\miniconda3\\\\envs\\\\ml\\\\Lib\\\\site-packages\\\\mpl_toolkits\\\\mplot3d\\\\axis3d.py\": 1724350803.590763, \"C:\\\\Users\\\\sghys\\\\miniconda3\\\\envs\\\\ml\\\\Lib\\\\site-packages\\\\mpl_toolkits\\\\mplot3d\\\\axes3d.py\": 1724350803.5897636, \"C:\\\\Users\\\\sghys\\\\miniconda3\\\\envs\\\\ml\\\\Lib\\\\site-packages\\\\mpl_toolkits\\\\mplot3d\\\\__init__.py\": 1724350803.590763, \"C:\\\\Users\\\\sghys\\\\miniconda3\\\\envs\\\\ml\\\\Lib\\\\site-packages\\\\matplotlib\\\\projections\\\\__init__.py\": 1724350803.451666, \"C:\\\\Users\\\\sghys\\\\miniconda3\\\\envs\\\\ml\\\\Lib\\\\site-packages\\\\matplotlib\\\\_layoutgrid.py\": 1724350803.266147, \"C:\\\\Users\\\\sghys\\\\miniconda3\\\\envs\\\\ml\\\\Lib\\\\site-packages\\\\matplotlib\\\\_constrained_layout.py\": 1724350803.2611449, \"C:\\\\Users\\\\sghys\\\\miniconda3\\\\envs\\\\ml\\\\Lib\\\\site-packages\\\\matplotlib\\\\layout_engine.py\": 1724350803.234236, \"C:\\\\Users\\\\sghys\\\\miniconda3\\\\envs\\\\ml\\\\Lib\\\\site-packages\\\\matplotlib\\\\figure.py\": 1724350803.2272365, \"C:\\\\Users\\\\sghys\\\\miniconda3\\\\envs\\\\ml\\\\Lib\\\\site-packages\\\\matplotlib\\\\pyplot.py\": 1724350803.2422428, \"C:\\\\Users\\\\sghys\\\\miniconda3\\\\envs\\\\ml\\\\Lib\\\\site-packages\\\\matplotlib\\\\backends\\\\__init__.py\": 1724350803.3041449, \"C:\\\\Users\\\\sghys\\\\miniconda3\\\\envs\\\\ml\\\\Lib\\\\site-packages\\\\matplotlib\\\\backends\\\\_backend_agg.cp311-win_amd64.pyd\": 1724350803.301144, \"C:\\\\Users\\\\sghys\\\\miniconda3\\\\envs\\\\ml\\\\Lib\\\\site-packages\\\\matplotlib\\\\backends\\\\backend_agg.py\": 1724350803.2821448, \"C:\\\\Users\\\\sghys\\\\miniconda3\\\\envs\\\\ml\\\\Lib\\\\site-packages\\\\IPython\\\\core\\\\pylabtools.py\": 1720913263.7496932, \"C:\\\\Users\\\\sghys\\\\miniconda3\\\\envs\\\\ml\\\\Lib\\\\site-packages\\\\matplotlib_inline\\\\config.py\": 1720913257.3571517, \"C:\\\\Users\\\\sghys\\\\miniconda3\\\\envs\\\\ml\\\\Lib\\\\site-packages\\\\matplotlib_inline\\\\backend_inline.py\": 1720913257.3571517, \"C:\\\\Users\\\\sghys\\\\miniconda3\\\\envs\\\\ml\\\\Lib\\\\site-packages\\\\matplotlib_inline\\\\__init__.py\": 1720913257.3561516, \"C:\\\\Users\\\\sghys\\\\miniconda3\\\\envs\\\\ml\\\\Lib\\\\site-packages\\\\pytz\\\\exceptions.py\": 1720932760.5166965, \"C:\\\\Users\\\\sghys\\\\miniconda3\\\\envs\\\\ml\\\\Lib\\\\site-packages\\\\pytz\\\\lazy.py\": 1720932760.5176947, \"C:\\\\Users\\\\sghys\\\\miniconda3\\\\envs\\\\ml\\\\Lib\\\\site-packages\\\\pytz\\\\tzinfo.py\": 1720932760.5186937, \"C:\\\\Users\\\\sghys\\\\miniconda3\\\\envs\\\\ml\\\\Lib\\\\site-packages\\\\pytz\\\\tzfile.py\": 1720932760.5186937, \"C:\\\\Users\\\\sghys\\\\miniconda3\\\\envs\\\\ml\\\\Lib\\\\site-packages\\\\pytz\\\\__init__.py\": 1720932760.5156941, \"C:\\\\Users\\\\sghys\\\\miniconda3\\\\envs\\\\ml\\\\Lib\\\\site-packages\\\\pandas\\\\compat\\\\_constants.py\": 1720932761.381087, \"C:\\\\Users\\\\sghys\\\\miniconda3\\\\envs\\\\ml\\\\Lib\\\\site-packages\\\\pandas\\\\compat\\\\compressors.py\": 1720932761.3790872, \"C:\\\\Users\\\\sghys\\\\miniconda3\\\\envs\\\\ml\\\\Lib\\\\site-packages\\\\pandas\\\\util\\\\__init__.py\": 1720932762.19875, \"C:\\\\Users\\\\sghys\\\\miniconda3\\\\envs\\\\ml\\\\Lib\\\\site-packages\\\\pandas\\\\util\\\\version\\\\__init__.py\": 1720932762.1997488, \"C:\\\\Users\\\\sghys\\\\miniconda3\\\\envs\\\\ml\\\\Lib\\\\site-packages\\\\pandas\\\\compat\\\\numpy\\\\__init__.py\": 1720932761.3830872, \"C:\\\\Users\\\\sghys\\\\miniconda3\\\\envs\\\\ml\\\\Lib\\\\site-packages\\\\pandas\\\\compat\\\\pyarrow.py\": 1720932761.3800876, \"C:\\\\Users\\\\sghys\\\\miniconda3\\\\envs\\\\ml\\\\Lib\\\\site-packages\\\\pandas\\\\compat\\\\__init__.py\": 1720932761.3820882, \"C:\\\\Users\\\\sghys\\\\miniconda3\\\\envs\\\\ml\\\\Lib\\\\site-packages\\\\pandas\\\\_typing.py\": 1720932761.3720858, \"C:\\\\Users\\\\sghys\\\\miniconda3\\\\envs\\\\ml\\\\Lib\\\\site-packages\\\\pandas\\\\util\\\\_exceptions.py\": 1720932762.1957488, \"C:\\\\Users\\\\sghys\\\\miniconda3\\\\envs\\\\ml\\\\Lib\\\\site-packages\\\\pandas\\\\_config\\\\config.py\": 1720932762.1997488, \"C:\\\\Users\\\\sghys\\\\miniconda3\\\\envs\\\\ml\\\\Lib\\\\site-packages\\\\pandas\\\\_config\\\\dates.py\": 1720932762.2007487, \"C:\\\\Users\\\\sghys\\\\miniconda3\\\\envs\\\\ml\\\\Lib\\\\site-packages\\\\pandas\\\\_config\\\\display.py\": 1720932762.2007487, \"C:\\\\Users\\\\sghys\\\\miniconda3\\\\envs\\\\ml\\\\Lib\\\\site-packages\\\\pandas\\\\_config\\\\__init__.py\": 1720932762.2017493, \"C:\\\\Users\\\\sghys\\\\miniconda3\\\\envs\\\\ml\\\\Lib\\\\site-packages\\\\pandas\\\\core\\\\__init__.py\": 1720932761.3980865, \"C:\\\\Users\\\\sghys\\\\miniconda3\\\\envs\\\\ml\\\\Lib\\\\site-packages\\\\pandas\\\\core\\\\config_init.py\": 1720932761.387087, \"C:\\\\Users\\\\sghys\\\\miniconda3\\\\envs\\\\ml\\\\Lib\\\\site-packages\\\\pandas\\\\_libs\\\\pandas_parser.cp311-win_amd64.pyd\": 1720932762.278868, \"C:\\\\Users\\\\sghys\\\\miniconda3\\\\envs\\\\ml\\\\Lib\\\\site-packages\\\\numpy\\\\_core\\\\__init__.py\": 1720913189.4474146, \"C:\\\\Users\\\\sghys\\\\miniconda3\\\\envs\\\\ml\\\\Lib\\\\site-packages\\\\pandas\\\\_libs\\\\pandas_datetime.cp311-win_amd64.pyd\": 1720932762.2778687, \"C:\\\\Users\\\\sghys\\\\miniconda3\\\\envs\\\\ml\\\\Lib\\\\site-packages\\\\pandas\\\\_libs\\\\tslibs\\\\ccalendar.cp311-win_amd64.pyd\": 1720932762.3038678, \"C:\\\\Users\\\\sghys\\\\miniconda3\\\\envs\\\\ml\\\\Lib\\\\site-packages\\\\pandas\\\\_libs\\\\tslibs\\\\np_datetime.cp311-win_amd64.pyd\": 1720932762.3178718, \"C:\\\\Users\\\\sghys\\\\miniconda3\\\\envs\\\\ml\\\\Lib\\\\site-packages\\\\pandas\\\\_libs\\\\tslibs\\\\dtypes.cp311-win_amd64.pyd\": 1720932762.3108704, \"C:\\\\Users\\\\sghys\\\\miniconda3\\\\envs\\\\ml\\\\Lib\\\\site-packages\\\\pandas\\\\_libs\\\\tslibs\\\\base.cp311-win_amd64.pyd\": 1720932762.3018699, \"C:\\\\Users\\\\sghys\\\\miniconda3\\\\envs\\\\ml\\\\Lib\\\\site-packages\\\\pandas\\\\_libs\\\\tslibs\\\\nattype.cp311-win_amd64.pyd\": 1720932762.315869, \"C:\\\\Users\\\\sghys\\\\miniconda3\\\\envs\\\\ml\\\\Lib\\\\site-packages\\\\pandas\\\\compat\\\\_optional.py\": 1720932761.381087, \"C:\\\\Users\\\\sghys\\\\miniconda3\\\\envs\\\\ml\\\\Lib\\\\zoneinfo\\\\_tzpath.py\": 1712046304.0, \"C:\\\\Users\\\\sghys\\\\miniconda3\\\\envs\\\\ml\\\\Lib\\\\zoneinfo\\\\_common.py\": 1712046304.0, \"C:\\\\Users\\\\sghys\\\\miniconda3\\\\envs\\\\ml\\\\DLLs\\\\_zoneinfo.pyd\": 1713545387.5051796, \"C:\\\\Users\\\\sghys\\\\miniconda3\\\\envs\\\\ml\\\\Lib\\\\zoneinfo\\\\__init__.py\": 1712046304.0, \"C:\\\\Users\\\\sghys\\\\miniconda3\\\\envs\\\\ml\\\\Lib\\\\site-packages\\\\pandas\\\\_libs\\\\tslibs\\\\timezones.cp311-win_amd64.pyd\": 1720932762.342879, \"C:\\\\Users\\\\sghys\\\\miniconda3\\\\envs\\\\ml\\\\Lib\\\\site-packages\\\\pandas\\\\_config\\\\localization.py\": 1720932762.2017493, \"C:\\\\Users\\\\sghys\\\\miniconda3\\\\envs\\\\ml\\\\Lib\\\\site-packages\\\\pandas\\\\_libs\\\\tslibs\\\\fields.cp311-win_amd64.pyd\": 1720932762.3138678, \"C:\\\\Users\\\\sghys\\\\miniconda3\\\\envs\\\\ml\\\\Lib\\\\site-packages\\\\pandas\\\\_libs\\\\tslibs\\\\timedeltas.cp311-win_amd64.pyd\": 1720932762.3368814, \"C:\\\\Users\\\\sghys\\\\miniconda3\\\\envs\\\\ml\\\\Lib\\\\site-packages\\\\pandas\\\\_libs\\\\tslibs\\\\tzconversion.cp311-win_amd64.pyd\": 1720932762.3458812, \"C:\\\\Users\\\\sghys\\\\miniconda3\\\\envs\\\\ml\\\\Lib\\\\site-packages\\\\pandas\\\\_libs\\\\tslibs\\\\timestamps.cp311-win_amd64.pyd\": 1720932762.3408785, \"C:\\\\Users\\\\sghys\\\\miniconda3\\\\envs\\\\ml\\\\Lib\\\\site-packages\\\\pandas\\\\_libs\\\\properties.cp311-win_amd64.pyd\": 1720932762.2838688, \"C:\\\\Users\\\\sghys\\\\miniconda3\\\\envs\\\\ml\\\\Lib\\\\site-packages\\\\pandas\\\\_libs\\\\tslibs\\\\offsets.cp311-win_amd64.pyd\": 1720932762.3238714, \"C:\\\\Users\\\\sghys\\\\miniconda3\\\\envs\\\\ml\\\\Lib\\\\site-packages\\\\pandas\\\\_libs\\\\tslibs\\\\strptime.cp311-win_amd64.pyd\": 1720932762.3328705, \"C:\\\\Users\\\\sghys\\\\miniconda3\\\\envs\\\\ml\\\\Lib\\\\site-packages\\\\pandas\\\\_libs\\\\tslibs\\\\parsing.cp311-win_amd64.pyd\": 1720932762.32687, \"C:\\\\Users\\\\sghys\\\\miniconda3\\\\envs\\\\ml\\\\Lib\\\\site-packages\\\\pandas\\\\_libs\\\\tslibs\\\\conversion.cp311-win_amd64.pyd\": 1720932762.3078723, \"C:\\\\Users\\\\sghys\\\\miniconda3\\\\envs\\\\ml\\\\Lib\\\\site-packages\\\\pandas\\\\_libs\\\\tslibs\\\\period.cp311-win_amd64.pyd\": 1720932762.329872, \"C:\\\\Users\\\\sghys\\\\miniconda3\\\\envs\\\\ml\\\\Lib\\\\site-packages\\\\pandas\\\\_libs\\\\tslibs\\\\vectorized.cp311-win_amd64.pyd\": 1720932762.3498795, \"C:\\\\Users\\\\sghys\\\\miniconda3\\\\envs\\\\ml\\\\Lib\\\\site-packages\\\\pandas\\\\_libs\\\\tslibs\\\\__init__.py\": 1720932762.3512812, \"C:\\\\Users\\\\sghys\\\\miniconda3\\\\envs\\\\ml\\\\Lib\\\\site-packages\\\\pandas\\\\_libs\\\\ops_dispatch.cp311-win_amd64.pyd\": 1720932762.2758734, \"C:\\\\Users\\\\sghys\\\\miniconda3\\\\envs\\\\ml\\\\Lib\\\\site-packages\\\\pandas\\\\_libs\\\\missing.cp311-win_amd64.pyd\": 1720932762.2708695, \"C:\\\\Users\\\\sghys\\\\miniconda3\\\\envs\\\\ml\\\\Lib\\\\site-packages\\\\pandas\\\\_libs\\\\hashtable.cp311-win_amd64.pyd\": 1720932762.2347596, \"C:\\\\Users\\\\sghys\\\\miniconda3\\\\envs\\\\ml\\\\Lib\\\\site-packages\\\\pandas\\\\_libs\\\\algos.cp311-win_amd64.pyd\": 1720932762.2077482, \"C:\\\\Users\\\\sghys\\\\miniconda3\\\\envs\\\\ml\\\\Lib\\\\site-packages\\\\pandas\\\\_libs\\\\interval.cp311-win_amd64.pyd\": 1720932762.2558744, \"C:\\\\Users\\\\sghys\\\\miniconda3\\\\envs\\\\ml\\\\Lib\\\\site-packages\\\\pandas\\\\_libs\\\\__init__.py\": 1720932762.3008692, \"C:\\\\Users\\\\sghys\\\\miniconda3\\\\envs\\\\ml\\\\Lib\\\\site-packages\\\\pandas\\\\core\\\\dtypes\\\\__init__.py\": 1720932761.4330876, \"C:\\\\Users\\\\sghys\\\\miniconda3\\\\envs\\\\ml\\\\Lib\\\\site-packages\\\\pandas\\\\_libs\\\\lib.cp311-win_amd64.pyd\": 1720932762.2678714, \"C:\\\\Users\\\\sghys\\\\miniconda3\\\\envs\\\\ml\\\\Lib\\\\site-packages\\\\pandas\\\\errors\\\\__init__.py\": 1720932761.499604, \"C:\\\\Users\\\\sghys\\\\miniconda3\\\\envs\\\\ml\\\\Lib\\\\site-packages\\\\pandas\\\\core\\\\dtypes\\\\generic.py\": 1720932761.432088, \"C:\\\\Users\\\\sghys\\\\miniconda3\\\\envs\\\\ml\\\\Lib\\\\site-packages\\\\pandas\\\\core\\\\dtypes\\\\base.py\": 1720932761.428087, \"C:\\\\Users\\\\sghys\\\\miniconda3\\\\envs\\\\ml\\\\Lib\\\\site-packages\\\\pandas\\\\core\\\\dtypes\\\\inference.py\": 1720932761.432088, \"C:\\\\Users\\\\sghys\\\\miniconda3\\\\envs\\\\ml\\\\Lib\\\\site-packages\\\\pandas\\\\core\\\\dtypes\\\\dtypes.py\": 1720932761.4310882, \"C:\\\\Users\\\\sghys\\\\miniconda3\\\\envs\\\\ml\\\\Lib\\\\site-packages\\\\pandas\\\\core\\\\dtypes\\\\common.py\": 1720932761.4290862, \"C:\\\\Users\\\\sghys\\\\miniconda3\\\\envs\\\\ml\\\\Lib\\\\site-packages\\\\pandas\\\\core\\\\dtypes\\\\missing.py\": 1720932761.432088, \"C:\\\\Users\\\\sghys\\\\miniconda3\\\\envs\\\\ml\\\\Lib\\\\site-packages\\\\pandas\\\\util\\\\_decorators.py\": 1720932762.1947496, \"C:\\\\Users\\\\sghys\\\\miniconda3\\\\envs\\\\ml\\\\Lib\\\\site-packages\\\\pandas\\\\io\\\\__init__.py\": 1720932761.512604, \"C:\\\\Users\\\\sghys\\\\miniconda3\\\\envs\\\\ml\\\\Lib\\\\site-packages\\\\pandas\\\\io\\\\_util.py\": 1720932761.511603, \"C:\\\\Users\\\\sghys\\\\miniconda3\\\\envs\\\\ml\\\\Lib\\\\site-packages\\\\pandas\\\\core\\\\dtypes\\\\cast.py\": 1720932761.428087, \"C:\\\\Users\\\\sghys\\\\miniconda3\\\\envs\\\\ml\\\\Lib\\\\site-packages\\\\pandas\\\\core\\\\dtypes\\\\astype.py\": 1720932761.427086, \"C:\\\\Users\\\\sghys\\\\miniconda3\\\\envs\\\\ml\\\\Lib\\\\site-packages\\\\pandas\\\\core\\\\dtypes\\\\concat.py\": 1720932761.4300876, \"C:\\\\Users\\\\sghys\\\\miniconda3\\\\envs\\\\ml\\\\Lib\\\\site-packages\\\\pandas\\\\core\\\\array_algos\\\\__init__.py\": 1720932761.4180875, \"C:\\\\Users\\\\sghys\\\\miniconda3\\\\envs\\\\ml\\\\Lib\\\\site-packages\\\\pandas\\\\core\\\\common.py\": 1720932761.387087, \"C:\\\\Users\\\\sghys\\\\miniconda3\\\\envs\\\\ml\\\\Lib\\\\site-packages\\\\pandas\\\\core\\\\construction.py\": 1720932761.3880873, \"C:\\\\Users\\\\sghys\\\\miniconda3\\\\envs\\\\ml\\\\Lib\\\\site-packages\\\\pandas\\\\core\\\\array_algos\\\\take.py\": 1720932761.417088, \"C:\\\\Users\\\\sghys\\\\miniconda3\\\\envs\\\\ml\\\\Lib\\\\site-packages\\\\pandas\\\\core\\\\indexers\\\\utils.py\": 1720932761.440094, \"C:\\\\Users\\\\sghys\\\\miniconda3\\\\envs\\\\ml\\\\Lib\\\\site-packages\\\\pandas\\\\core\\\\indexers\\\\__init__.py\": 1720932761.440094, \"C:\\\\Users\\\\sghys\\\\miniconda3\\\\envs\\\\ml\\\\Lib\\\\site-packages\\\\pandas\\\\core\\\\algorithms.py\": 1720932761.3840868, \"C:\\\\Users\\\\sghys\\\\miniconda3\\\\envs\\\\ml\\\\Lib\\\\site-packages\\\\pandas\\\\core\\\\arrays\\\\arrow\\\\accessors.py\": 1720932761.4100876, \"C:\\\\Users\\\\sghys\\\\miniconda3\\\\envs\\\\ml\\\\Lib\\\\site-packages\\\\pandas\\\\util\\\\_validators.py\": 1720932762.19875, \"C:\\\\Users\\\\sghys\\\\miniconda3\\\\envs\\\\ml\\\\Lib\\\\site-packages\\\\pandas\\\\core\\\\missing.py\": 1720932761.3930871, \"C:\\\\Users\\\\sghys\\\\miniconda3\\\\envs\\\\ml\\\\Lib\\\\site-packages\\\\pandas\\\\_libs\\\\ops.cp311-win_amd64.pyd\": 1720932762.2738702, \"C:\\\\Users\\\\sghys\\\\miniconda3\\\\envs\\\\ml\\\\Lib\\\\site-packages\\\\pandas\\\\core\\\\roperator.py\": 1720932761.3940868, \"C:\\\\Users\\\\sghys\\\\miniconda3\\\\envs\\\\ml\\\\Lib\\\\site-packages\\\\pandas\\\\core\\\\computation\\\\__init__.py\": 1720932761.4260888, \"C:\\\\Users\\\\sghys\\\\miniconda3\\\\envs\\\\ml\\\\Lib\\\\site-packages\\\\pandas\\\\core\\\\computation\\\\check.py\": 1720932761.4200883, \"C:\\\\Users\\\\sghys\\\\miniconda3\\\\envs\\\\ml\\\\Lib\\\\site-packages\\\\pandas\\\\core\\\\computation\\\\expressions.py\": 1720932761.422086, \"C:\\\\Users\\\\sghys\\\\miniconda3\\\\envs\\\\ml\\\\Lib\\\\site-packages\\\\pandas\\\\core\\\\ops\\\\missing.py\": 1720932761.465603, \"C:\\\\Users\\\\sghys\\\\miniconda3\\\\envs\\\\ml\\\\Lib\\\\site-packages\\\\pandas\\\\core\\\\ops\\\\dispatch.py\": 1720932761.4636028, \"C:\\\\Users\\\\sghys\\\\miniconda3\\\\envs\\\\ml\\\\Lib\\\\site-packages\\\\pandas\\\\core\\\\ops\\\\invalid.py\": 1720932761.4646044, \"C:\\\\Users\\\\sghys\\\\miniconda3\\\\envs\\\\ml\\\\Lib\\\\site-packages\\\\pandas\\\\core\\\\ops\\\\array_ops.py\": 1720932761.4626029, \"C:\\\\Users\\\\sghys\\\\miniconda3\\\\envs\\\\ml\\\\Lib\\\\site-packages\\\\pandas\\\\core\\\\ops\\\\common.py\": 1720932761.4626029, \"C:\\\\Users\\\\sghys\\\\miniconda3\\\\envs\\\\ml\\\\Lib\\\\site-packages\\\\pandas\\\\core\\\\ops\\\\docstrings.py\": 1720932761.4636028, \"C:\\\\Users\\\\sghys\\\\miniconda3\\\\envs\\\\ml\\\\Lib\\\\site-packages\\\\pandas\\\\core\\\\ops\\\\mask_ops.py\": 1720932761.465603, \"C:\\\\Users\\\\sghys\\\\miniconda3\\\\envs\\\\ml\\\\Lib\\\\site-packages\\\\pandas\\\\core\\\\ops\\\\__init__.py\": 1720932761.4666061, \"C:\\\\Users\\\\sghys\\\\miniconda3\\\\envs\\\\ml\\\\Lib\\\\site-packages\\\\pandas\\\\core\\\\arraylike.py\": 1720932761.3860857, \"C:\\\\Users\\\\sghys\\\\miniconda3\\\\envs\\\\ml\\\\Lib\\\\site-packages\\\\pandas\\\\core\\\\arrays\\\\_arrow_string_mixins.py\": 1720932761.407087, \"C:\\\\Users\\\\sghys\\\\miniconda3\\\\envs\\\\ml\\\\Lib\\\\site-packages\\\\pandas\\\\core\\\\arrays\\\\_utils.py\": 1720932761.408087, \"C:\\\\Users\\\\sghys\\\\miniconda3\\\\envs\\\\ml\\\\Lib\\\\site-packages\\\\pandas\\\\compat\\\\numpy\\\\function.py\": 1720932761.3830872, \"C:\\\\Users\\\\sghys\\\\miniconda3\\\\envs\\\\ml\\\\Lib\\\\site-packages\\\\pandas\\\\core\\\\array_algos\\\\quantile.py\": 1720932761.4160862, \"C:\\\\Users\\\\sghys\\\\miniconda3\\\\envs\\\\ml\\\\Lib\\\\site-packages\\\\pandas\\\\core\\\\sorting.py\": 1720932761.397086, \"C:\\\\Users\\\\sghys\\\\miniconda3\\\\envs\\\\ml\\\\Lib\\\\site-packages\\\\pandas\\\\core\\\\arrays\\\\base.py\": 1720932761.3990862, \"C:\\\\Users\\\\sghys\\\\miniconda3\\\\envs\\\\ml\\\\Lib\\\\site-packages\\\\pandas\\\\core\\\\nanops.py\": 1720932761.3930871, \"C:\\\\Users\\\\sghys\\\\miniconda3\\\\envs\\\\ml\\\\Lib\\\\site-packages\\\\pandas\\\\core\\\\array_algos\\\\masked_accumulations.py\": 1720932761.4150865, \"C:\\\\Users\\\\sghys\\\\miniconda3\\\\envs\\\\ml\\\\Lib\\\\site-packages\\\\pandas\\\\core\\\\array_algos\\\\masked_reductions.py\": 1720932761.4150865, \"C:\\\\Users\\\\sghys\\\\miniconda3\\\\envs\\\\ml\\\\Lib\\\\site-packages\\\\pandas\\\\core\\\\util\\\\__init__.py\": 1720932761.485603, \"C:\\\\Users\\\\sghys\\\\miniconda3\\\\envs\\\\ml\\\\Lib\\\\site-packages\\\\pandas\\\\_libs\\\\hashing.cp311-win_amd64.pyd\": 1720932762.2247488, \"C:\\\\Users\\\\sghys\\\\miniconda3\\\\envs\\\\ml\\\\Lib\\\\site-packages\\\\pandas\\\\core\\\\util\\\\hashing.py\": 1720932761.4846046, \"C:\\\\Users\\\\sghys\\\\miniconda3\\\\envs\\\\ml\\\\Lib\\\\site-packages\\\\pandas\\\\core\\\\arrays\\\\masked.py\": 1720932761.4040875, \"C:\\\\Users\\\\sghys\\\\miniconda3\\\\envs\\\\ml\\\\Lib\\\\site-packages\\\\pandas\\\\_libs\\\\arrays.cp311-win_amd64.pyd\": 1720932762.210747, \"C:\\\\Users\\\\sghys\\\\miniconda3\\\\envs\\\\ml\\\\Lib\\\\site-packages\\\\pandas\\\\core\\\\arrays\\\\numeric.py\": 1720932761.4040875, \"C:\\\\Users\\\\sghys\\\\miniconda3\\\\envs\\\\ml\\\\Lib\\\\site-packages\\\\pandas\\\\core\\\\arrays\\\\floating.py\": 1720932761.402086, \"C:\\\\Users\\\\sghys\\\\miniconda3\\\\envs\\\\ml\\\\Lib\\\\site-packages\\\\pandas\\\\core\\\\arrays\\\\integer.py\": 1720932761.402086, \"C:\\\\Users\\\\sghys\\\\miniconda3\\\\envs\\\\ml\\\\Lib\\\\site-packages\\\\pandas\\\\core\\\\array_algos\\\\transforms.py\": 1720932761.4180875, \"C:\\\\Users\\\\sghys\\\\miniconda3\\\\envs\\\\ml\\\\Lib\\\\site-packages\\\\pandas\\\\core\\\\arrays\\\\_mixins.py\": 1720932761.408087, \"C:\\\\Users\\\\sghys\\\\miniconda3\\\\envs\\\\ml\\\\Lib\\\\site-packages\\\\pandas\\\\core\\\\strings\\\\__init__.py\": 1720932761.4806027, \"C:\\\\Users\\\\sghys\\\\miniconda3\\\\envs\\\\ml\\\\Lib\\\\site-packages\\\\pandas\\\\core\\\\strings\\\\base.py\": 1720932761.4806027, \"C:\\\\Users\\\\sghys\\\\miniconda3\\\\envs\\\\ml\\\\Lib\\\\site-packages\\\\pandas\\\\core\\\\strings\\\\object_array.py\": 1720932761.4806027, \"C:\\\\Users\\\\sghys\\\\miniconda3\\\\envs\\\\ml\\\\Lib\\\\site-packages\\\\pandas\\\\core\\\\arrays\\\\numpy_.py\": 1720932761.4040875, \"C:\\\\Users\\\\sghys\\\\miniconda3\\\\envs\\\\ml\\\\Lib\\\\site-packages\\\\pandas\\\\core\\\\arrays\\\\string_.py\": 1720932761.4050863, \"C:\\\\Users\\\\sghys\\\\miniconda3\\\\envs\\\\ml\\\\Lib\\\\site-packages\\\\pandas\\\\tseries\\\\__init__.py\": 1720932762.193753, \"C:\\\\Users\\\\sghys\\\\miniconda3\\\\envs\\\\ml\\\\Lib\\\\site-packages\\\\pandas\\\\tseries\\\\frequencies.py\": 1720932762.1917477, \"C:\\\\Users\\\\sghys\\\\miniconda3\\\\envs\\\\ml\\\\Lib\\\\site-packages\\\\pandas\\\\core\\\\arrays\\\\arrow\\\\array.py\": 1720932761.4100876, \"C:\\\\Users\\\\sghys\\\\miniconda3\\\\envs\\\\ml\\\\Lib\\\\site-packages\\\\pandas\\\\core\\\\arrays\\\\arrow\\\\__init__.py\": 1720932761.4120855, \"C:\\\\Users\\\\sghys\\\\miniconda3\\\\envs\\\\ml\\\\Lib\\\\site-packages\\\\pandas\\\\core\\\\arrays\\\\boolean.py\": 1720932761.3990862, \"C:\\\\Users\\\\sghys\\\\miniconda3\\\\envs\\\\ml\\\\Lib\\\\site-packages\\\\pandas\\\\core\\\\accessor.py\": 1720932761.3840868, \"C:\\\\Users\\\\sghys\\\\miniconda3\\\\envs\\\\ml\\\\Lib\\\\site-packages\\\\pandas\\\\core\\\\base.py\": 1720932761.3860857, \"C:\\\\Users\\\\sghys\\\\miniconda3\\\\envs\\\\ml\\\\Lib\\\\site-packages\\\\pandas\\\\io\\\\formats\\\\__init__.py\": 1720932761.5276053, \"C:\\\\Users\\\\sghys\\\\miniconda3\\\\envs\\\\ml\\\\Lib\\\\site-packages\\\\pandas\\\\io\\\\formats\\\\console.py\": 1720932761.5196025, \"C:\\\\Users\\\\sghys\\\\miniconda3\\\\envs\\\\ml\\\\Lib\\\\site-packages\\\\pandas\\\\core\\\\arrays\\\\categorical.py\": 1720932761.4000869, \"C:\\\\Users\\\\sghys\\\\miniconda3\\\\envs\\\\ml\\\\Lib\\\\site-packages\\\\pandas\\\\_libs\\\\tslib.cp311-win_amd64.pyd\": 1720932762.2978694, \"C:\\\\Users\\\\sghys\\\\miniconda3\\\\envs\\\\ml\\\\Lib\\\\site-packages\\\\pandas\\\\core\\\\array_algos\\\\datetimelike_accumulations.py\": 1720932761.4140863, \"C:\\\\Users\\\\sghys\\\\miniconda3\\\\envs\\\\ml\\\\Lib\\\\site-packages\\\\pandas\\\\core\\\\arrays\\\\datetimelike.py\": 1720932761.4000869, \"C:\\\\Users\\\\sghys\\\\miniconda3\\\\envs\\\\ml\\\\Lib\\\\site-packages\\\\pandas\\\\core\\\\arrays\\\\_ranges.py\": 1720932761.408087, \"C:\\\\Users\\\\sghys\\\\miniconda3\\\\envs\\\\ml\\\\Lib\\\\site-packages\\\\pandas\\\\tseries\\\\offsets.py\": 1720932762.193753, \"C:\\\\Users\\\\sghys\\\\miniconda3\\\\envs\\\\ml\\\\Lib\\\\site-packages\\\\pandas\\\\core\\\\arrays\\\\datetimes.py\": 1720932761.4010868, \"C:\\\\Users\\\\sghys\\\\miniconda3\\\\envs\\\\ml\\\\Lib\\\\site-packages\\\\pandas\\\\core\\\\arrays\\\\timedeltas.py\": 1720932761.4060862, \"C:\\\\Users\\\\sghys\\\\miniconda3\\\\envs\\\\ml\\\\Lib\\\\site-packages\\\\pandas\\\\core\\\\arrays\\\\interval.py\": 1720932761.403087, \"C:\\\\Users\\\\sghys\\\\miniconda3\\\\envs\\\\ml\\\\Lib\\\\site-packages\\\\pandas\\\\core\\\\arrays\\\\period.py\": 1720932761.4050863, \"C:\\\\Users\\\\sghys\\\\miniconda3\\\\envs\\\\ml\\\\Lib\\\\site-packages\\\\pandas\\\\_libs\\\\sparse.cp311-win_amd64.pyd\": 1720932762.29187, \"C:\\\\Users\\\\sghys\\\\miniconda3\\\\envs\\\\ml\\\\Lib\\\\site-packages\\\\pandas\\\\io\\\\formats\\\\printing.py\": 1720932761.5236058, \"C:\\\\Users\\\\sghys\\\\miniconda3\\\\envs\\\\ml\\\\Lib\\\\site-packages\\\\pandas\\\\core\\\\arrays\\\\sparse\\\\array.py\": 1720932761.4130871, \"C:\\\\Users\\\\sghys\\\\miniconda3\\\\envs\\\\ml\\\\Lib\\\\site-packages\\\\pandas\\\\core\\\\arrays\\\\sparse\\\\accessor.py\": 1720932761.4120855, \"C:\\\\Users\\\\sghys\\\\miniconda3\\\\envs\\\\ml\\\\Lib\\\\site-packages\\\\pandas\\\\core\\\\arrays\\\\sparse\\\\__init__.py\": 1720932761.4140863, \"C:\\\\Users\\\\sghys\\\\miniconda3\\\\envs\\\\ml\\\\Lib\\\\site-packages\\\\pandas\\\\core\\\\arrays\\\\string_arrow.py\": 1720932761.4060862, \"C:\\\\Users\\\\sghys\\\\miniconda3\\\\envs\\\\ml\\\\Lib\\\\site-packages\\\\pandas\\\\core\\\\arrays\\\\__init__.py\": 1720932761.4090872, \"C:\\\\Users\\\\sghys\\\\miniconda3\\\\envs\\\\ml\\\\Lib\\\\site-packages\\\\pandas\\\\core\\\\flags.py\": 1720932761.3880873, \"C:\\\\Users\\\\sghys\\\\miniconda3\\\\envs\\\\ml\\\\Lib\\\\site-packages\\\\pandas\\\\_libs\\\\internals.cp311-win_amd64.pyd\": 1720932762.2497616, \"C:\\\\Users\\\\sghys\\\\miniconda3\\\\envs\\\\ml\\\\Lib\\\\site-packages\\\\pandas\\\\core\\\\_numba\\\\__init__.py\": 1720932761.4946063, \"C:\\\\Users\\\\sghys\\\\miniconda3\\\\envs\\\\ml\\\\Lib\\\\site-packages\\\\pandas\\\\core\\\\_numba\\\\executor.py\": 1720932761.4936073, \"C:\\\\Users\\\\sghys\\\\miniconda3\\\\envs\\\\ml\\\\Lib\\\\site-packages\\\\pandas\\\\core\\\\apply.py\": 1720932761.3850868, \"C:\\\\Users\\\\sghys\\\\miniconda3\\\\envs\\\\ml\\\\Lib\\\\site-packages\\\\pandas\\\\_libs\\\\indexing.cp311-win_amd64.pyd\": 1720932762.2447593, \"C:\\\\Users\\\\sghys\\\\miniconda3\\\\envs\\\\ml\\\\Lib\\\\site-packages\\\\pandas\\\\core\\\\indexes\\\\__init__.py\": 1720932761.4485972, \"C:\\\\Users\\\\sghys\\\\miniconda3\\\\envs\\\\ml\\\\Lib\\\\site-packages\\\\pandas\\\\_libs\\\\index.cp311-win_amd64.pyd\": 1720932762.2407632, \"C:\\\\Users\\\\sghys\\\\miniconda3\\\\envs\\\\ml\\\\Lib\\\\site-packages\\\\pandas\\\\_libs\\\\writers.cp311-win_amd64.pyd\": 1720932762.2998688, \"C:\\\\Users\\\\sghys\\\\miniconda3\\\\envs\\\\ml\\\\Lib\\\\site-packages\\\\pandas\\\\_libs\\\\join.cp311-win_amd64.pyd\": 1720932762.2608707, \"C:\\\\Users\\\\sghys\\\\miniconda3\\\\envs\\\\ml\\\\Lib\\\\site-packages\\\\pandas\\\\core\\\\array_algos\\\\putmask.py\": 1720932761.4160862, \"C:\\\\Users\\\\sghys\\\\miniconda3\\\\envs\\\\ml\\\\Lib\\\\site-packages\\\\pandas\\\\core\\\\indexes\\\\frozen.py\": 1720932761.4450934, \"C:\\\\Users\\\\sghys\\\\miniconda3\\\\envs\\\\ml\\\\Lib\\\\site-packages\\\\pandas\\\\core\\\\strings\\\\accessor.py\": 1720932761.4796035, \"C:\\\\Users\\\\sghys\\\\miniconda3\\\\envs\\\\ml\\\\Lib\\\\site-packages\\\\pandas\\\\core\\\\indexes\\\\base.py\": 1720932761.4420924, \"C:\\\\Users\\\\sghys\\\\miniconda3\\\\envs\\\\ml\\\\Lib\\\\site-packages\\\\pandas\\\\core\\\\indexes\\\\extension.py\": 1720932761.4450934, \"C:\\\\Users\\\\sghys\\\\miniconda3\\\\envs\\\\ml\\\\Lib\\\\site-packages\\\\pandas\\\\core\\\\indexes\\\\category.py\": 1720932761.4430933, \"C:\\\\Users\\\\sghys\\\\miniconda3\\\\envs\\\\ml\\\\Lib\\\\site-packages\\\\pandas\\\\core\\\\indexes\\\\range.py\": 1720932761.4470923, \"C:\\\\Users\\\\sghys\\\\miniconda3\\\\envs\\\\ml\\\\Lib\\\\site-packages\\\\pandas\\\\core\\\\tools\\\\__init__.py\": 1720932761.4836037, \"C:\\\\Users\\\\sghys\\\\miniconda3\\\\envs\\\\ml\\\\Lib\\\\site-packages\\\\pandas\\\\core\\\\tools\\\\timedeltas.py\": 1720932761.4836037, \"C:\\\\Users\\\\sghys\\\\miniconda3\\\\envs\\\\ml\\\\Lib\\\\site-packages\\\\pandas\\\\core\\\\indexes\\\\datetimelike.py\": 1720932761.4430933, \"C:\\\\Users\\\\sghys\\\\miniconda3\\\\envs\\\\ml\\\\Lib\\\\site-packages\\\\pandas\\\\core\\\\tools\\\\times.py\": 1720932761.4836037, \"C:\\\\Users\\\\sghys\\\\miniconda3\\\\envs\\\\ml\\\\Lib\\\\site-packages\\\\pandas\\\\core\\\\indexes\\\\datetimes.py\": 1720932761.444092, \"C:\\\\Users\\\\sghys\\\\miniconda3\\\\envs\\\\ml\\\\Lib\\\\site-packages\\\\pandas\\\\core\\\\indexes\\\\multi.py\": 1720932761.4470923, \"C:\\\\Users\\\\sghys\\\\miniconda3\\\\envs\\\\ml\\\\Lib\\\\site-packages\\\\pandas\\\\core\\\\indexes\\\\timedeltas.py\": 1720932761.4485972, \"C:\\\\Users\\\\sghys\\\\miniconda3\\\\envs\\\\ml\\\\Lib\\\\site-packages\\\\pandas\\\\core\\\\indexes\\\\interval.py\": 1720932761.4460926, \"C:\\\\Users\\\\sghys\\\\miniconda3\\\\envs\\\\ml\\\\Lib\\\\site-packages\\\\pandas\\\\core\\\\indexes\\\\period.py\": 1720932761.4470923, \"C:\\\\Users\\\\sghys\\\\miniconda3\\\\envs\\\\ml\\\\Lib\\\\site-packages\\\\pandas\\\\core\\\\indexes\\\\api.py\": 1720932761.4410942, \"C:\\\\Users\\\\sghys\\\\miniconda3\\\\envs\\\\ml\\\\Lib\\\\site-packages\\\\pandas\\\\core\\\\indexing.py\": 1720932761.3920875, \"C:\\\\Users\\\\sghys\\\\miniconda3\\\\envs\\\\ml\\\\Lib\\\\site-packages\\\\pandas\\\\core\\\\sample.py\": 1720932761.3950858, \"C:\\\\Users\\\\sghys\\\\miniconda3\\\\envs\\\\ml\\\\Lib\\\\site-packages\\\\pandas\\\\core\\\\array_algos\\\\replace.py\": 1720932761.417088, \"C:\\\\Users\\\\sghys\\\\miniconda3\\\\envs\\\\ml\\\\Lib\\\\site-packages\\\\pandas\\\\core\\\\internals\\\\blocks.py\": 1720932761.4556036, \"C:\\\\Users\\\\sghys\\\\miniconda3\\\\envs\\\\ml\\\\Lib\\\\site-packages\\\\pandas\\\\core\\\\internals\\\\api.py\": 1720932761.454604, \"C:\\\\Users\\\\sghys\\\\miniconda3\\\\envs\\\\ml\\\\Lib\\\\site-packages\\\\pandas\\\\core\\\\internals\\\\base.py\": 1720932761.4556036, \"C:\\\\Users\\\\sghys\\\\miniconda3\\\\envs\\\\ml\\\\Lib\\\\site-packages\\\\pandas\\\\core\\\\internals\\\\ops.py\": 1720932761.458603, \"C:\\\\Users\\\\sghys\\\\miniconda3\\\\envs\\\\ml\\\\Lib\\\\site-packages\\\\pandas\\\\core\\\\internals\\\\managers.py\": 1720932761.4576018, \"C:\\\\Users\\\\sghys\\\\miniconda3\\\\envs\\\\ml\\\\Lib\\\\site-packages\\\\pandas\\\\core\\\\internals\\\\array_manager.py\": 1720932761.454604, \"C:\\\\Users\\\\sghys\\\\miniconda3\\\\envs\\\\ml\\\\Lib\\\\site-packages\\\\pandas\\\\core\\\\internals\\\\concat.py\": 1720932761.4566028, \"C:\\\\Users\\\\sghys\\\\miniconda3\\\\envs\\\\ml\\\\Lib\\\\site-packages\\\\pandas\\\\core\\\\internals\\\\__init__.py\": 1720932761.458603, \"C:\\\\Users\\\\sghys\\\\miniconda3\\\\envs\\\\ml\\\\Lib\\\\site-packages\\\\pandas\\\\core\\\\internals\\\\construction.py\": 1720932761.4566028, \"C:\\\\Users\\\\sghys\\\\miniconda3\\\\envs\\\\ml\\\\Lib\\\\site-packages\\\\pandas\\\\core\\\\methods\\\\__init__.py\": 1720932761.4616053, \"C:\\\\Users\\\\sghys\\\\miniconda3\\\\envs\\\\ml\\\\Lib\\\\site-packages\\\\pandas\\\\core\\\\reshape\\\\__init__.py\": 1720932761.4766023, \"C:\\\\Users\\\\sghys\\\\miniconda3\\\\envs\\\\ml\\\\Lib\\\\site-packages\\\\pandas\\\\core\\\\reshape\\\\concat.py\": 1720932761.4686034, \"C:\\\\Users\\\\sghys\\\\miniconda3\\\\envs\\\\ml\\\\Lib\\\\tarfile.py\": 1712046304.0, \"C:\\\\Users\\\\sghys\\\\miniconda3\\\\envs\\\\ml\\\\Lib\\\\site-packages\\\\pandas\\\\core\\\\shared_docs.py\": 1720932761.397086, \"C:\\\\Users\\\\sghys\\\\miniconda3\\\\envs\\\\ml\\\\Lib\\\\site-packages\\\\pandas\\\\io\\\\common.py\": 1720932761.5026054, \"C:\\\\Users\\\\sghys\\\\miniconda3\\\\envs\\\\ml\\\\Lib\\\\site-packages\\\\pandas\\\\io\\\\formats\\\\format.py\": 1720932761.5216053, \"C:\\\\Users\\\\sghys\\\\miniconda3\\\\envs\\\\ml\\\\Lib\\\\site-packages\\\\pandas\\\\core\\\\methods\\\\describe.py\": 1720932761.4596033, \"C:\\\\Users\\\\sghys\\\\miniconda3\\\\envs\\\\ml\\\\Lib\\\\site-packages\\\\pandas\\\\_libs\\\\window\\\\__init__.py\": 1720932762.357235, \"C:\\\\Users\\\\sghys\\\\miniconda3\\\\envs\\\\ml\\\\Lib\\\\site-packages\\\\pandas\\\\_libs\\\\window\\\\aggregations.cp311-win_amd64.pyd\": 1720932762.3542364, \"C:\\\\Users\\\\sghys\\\\miniconda3\\\\envs\\\\ml\\\\Lib\\\\site-packages\\\\pandas\\\\_libs\\\\window\\\\indexers.cp311-win_amd64.pyd\": 1720932762.357235, \"C:\\\\Users\\\\sghys\\\\miniconda3\\\\envs\\\\ml\\\\Lib\\\\site-packages\\\\pandas\\\\core\\\\indexers\\\\objects.py\": 1720932761.4390945, \"C:\\\\Users\\\\sghys\\\\miniconda3\\\\envs\\\\ml\\\\Lib\\\\site-packages\\\\pandas\\\\core\\\\util\\\\numba_.py\": 1720932761.485603, \"C:\\\\Users\\\\sghys\\\\miniconda3\\\\envs\\\\ml\\\\Lib\\\\site-packages\\\\pandas\\\\core\\\\window\\\\common.py\": 1720932761.4866037, \"C:\\\\Users\\\\sghys\\\\miniconda3\\\\envs\\\\ml\\\\Lib\\\\site-packages\\\\pandas\\\\core\\\\window\\\\doc.py\": 1720932761.487605, \"C:\\\\Users\\\\sghys\\\\miniconda3\\\\envs\\\\ml\\\\Lib\\\\site-packages\\\\pandas\\\\core\\\\window\\\\numba_.py\": 1720932761.4896028, \"C:\\\\Users\\\\sghys\\\\miniconda3\\\\envs\\\\ml\\\\Lib\\\\site-packages\\\\pandas\\\\core\\\\window\\\\online.py\": 1720932761.4896028, \"C:\\\\Users\\\\sghys\\\\miniconda3\\\\envs\\\\ml\\\\Lib\\\\site-packages\\\\pandas\\\\core\\\\window\\\\rolling.py\": 1720932761.4906056, \"C:\\\\Users\\\\sghys\\\\miniconda3\\\\envs\\\\ml\\\\Lib\\\\site-packages\\\\pandas\\\\core\\\\window\\\\ewm.py\": 1720932761.4886036, \"C:\\\\Users\\\\sghys\\\\miniconda3\\\\envs\\\\ml\\\\Lib\\\\site-packages\\\\pandas\\\\core\\\\window\\\\expanding.py\": 1720932761.4886036, \"C:\\\\Users\\\\sghys\\\\miniconda3\\\\envs\\\\ml\\\\Lib\\\\site-packages\\\\pandas\\\\core\\\\window\\\\__init__.py\": 1720932761.4916034, \"C:\\\\Users\\\\sghys\\\\miniconda3\\\\envs\\\\ml\\\\Lib\\\\site-packages\\\\pandas\\\\core\\\\generic.py\": 1720932761.391088, \"C:\\\\Users\\\\sghys\\\\miniconda3\\\\envs\\\\ml\\\\Lib\\\\site-packages\\\\pandas\\\\core\\\\methods\\\\selectn.py\": 1720932761.4596033, \"C:\\\\Users\\\\sghys\\\\miniconda3\\\\envs\\\\ml\\\\Lib\\\\site-packages\\\\pandas\\\\core\\\\reshape\\\\util.py\": 1720932761.4766023, \"C:\\\\Users\\\\sghys\\\\miniconda3\\\\envs\\\\ml\\\\Lib\\\\site-packages\\\\pandas\\\\core\\\\tools\\\\numeric.py\": 1720932761.4826045, \"C:\\\\Users\\\\sghys\\\\miniconda3\\\\envs\\\\ml\\\\Lib\\\\site-packages\\\\pandas\\\\core\\\\reshape\\\\melt.py\": 1720932761.4696095, \"C:\\\\Users\\\\sghys\\\\miniconda3\\\\envs\\\\ml\\\\Lib\\\\site-packages\\\\pandas\\\\_libs\\\\reshape.cp311-win_amd64.pyd\": 1720932762.2858686, \"C:\\\\Users\\\\sghys\\\\miniconda3\\\\envs\\\\ml\\\\Lib\\\\site-packages\\\\pandas\\\\core\\\\indexes\\\\accessors.py\": 1720932761.4410942, \"C:\\\\Users\\\\sghys\\\\miniconda3\\\\envs\\\\ml\\\\Lib\\\\site-packages\\\\pandas\\\\arrays\\\\__init__.py\": 1720932761.3790872, \"C:\\\\Users\\\\sghys\\\\miniconda3\\\\envs\\\\ml\\\\Lib\\\\site-packages\\\\pandas\\\\core\\\\tools\\\\datetimes.py\": 1720932761.4816055, \"C:\\\\Users\\\\sghys\\\\miniconda3\\\\envs\\\\ml\\\\Lib\\\\site-packages\\\\pandas\\\\io\\\\formats\\\\info.py\": 1720932761.5236058, \"C:\\\\Users\\\\sghys\\\\miniconda3\\\\envs\\\\ml\\\\Lib\\\\site-packages\\\\pandas\\\\plotting\\\\_core.py\": 1720932761.5426085, \"C:\\\\Users\\\\sghys\\\\miniconda3\\\\envs\\\\ml\\\\Lib\\\\site-packages\\\\pandas\\\\plotting\\\\_misc.py\": 1720932761.5426085, \"C:\\\\Users\\\\sghys\\\\miniconda3\\\\envs\\\\ml\\\\Lib\\\\site-packages\\\\pandas\\\\plotting\\\\__init__.py\": 1720932761.5436072, \"C:\\\\Users\\\\sghys\\\\miniconda3\\\\envs\\\\ml\\\\Lib\\\\site-packages\\\\pandas\\\\core\\\\series.py\": 1720932761.3960876, \"C:\\\\Users\\\\sghys\\\\miniconda3\\\\envs\\\\ml\\\\Lib\\\\site-packages\\\\pandas\\\\core\\\\frame.py\": 1720932761.3900883, \"C:\\\\Users\\\\sghys\\\\miniconda3\\\\envs\\\\ml\\\\Lib\\\\site-packages\\\\pandas\\\\core\\\\groupby\\\\base.py\": 1720932761.4340928, \"C:\\\\Users\\\\sghys\\\\miniconda3\\\\envs\\\\ml\\\\Lib\\\\site-packages\\\\pandas\\\\_libs\\\\groupby.cp311-win_amd64.pyd\": 1720932762.2217467, \"C:\\\\Users\\\\sghys\\\\miniconda3\\\\envs\\\\ml\\\\Lib\\\\site-packages\\\\pandas\\\\core\\\\groupby\\\\categorical.py\": 1720932761.4340928, \"C:\\\\Users\\\\sghys\\\\miniconda3\\\\envs\\\\ml\\\\Lib\\\\site-packages\\\\pandas\\\\core\\\\groupby\\\\grouper.py\": 1720932761.4360926, \"C:\\\\Users\\\\sghys\\\\miniconda3\\\\envs\\\\ml\\\\Lib\\\\site-packages\\\\pandas\\\\core\\\\groupby\\\\ops.py\": 1720932761.4380927, \"C:\\\\Users\\\\sghys\\\\miniconda3\\\\envs\\\\ml\\\\Lib\\\\site-packages\\\\pandas\\\\core\\\\groupby\\\\numba_.py\": 1720932761.4370928, \"C:\\\\Users\\\\sghys\\\\miniconda3\\\\envs\\\\ml\\\\Lib\\\\site-packages\\\\pandas\\\\core\\\\groupby\\\\indexing.py\": 1720932761.4370928, \"C:\\\\Users\\\\sghys\\\\miniconda3\\\\envs\\\\ml\\\\Lib\\\\site-packages\\\\pandas\\\\core\\\\groupby\\\\groupby.py\": 1720932761.4360926, \"C:\\\\Users\\\\sghys\\\\miniconda3\\\\envs\\\\ml\\\\Lib\\\\site-packages\\\\pandas\\\\core\\\\groupby\\\\generic.py\": 1720932761.4350946, \"C:\\\\Users\\\\sghys\\\\miniconda3\\\\envs\\\\ml\\\\Lib\\\\site-packages\\\\pandas\\\\core\\\\groupby\\\\__init__.py\": 1720932761.4390945, \"C:\\\\Users\\\\sghys\\\\miniconda3\\\\envs\\\\ml\\\\Lib\\\\site-packages\\\\pandas\\\\core\\\\api.py\": 1720932761.3840868, \"C:\\\\Users\\\\sghys\\\\miniconda3\\\\envs\\\\ml\\\\Lib\\\\site-packages\\\\pandas\\\\tseries\\\\api.py\": 1720932762.1917477, \"C:\\\\Users\\\\sghys\\\\miniconda3\\\\envs\\\\ml\\\\Lib\\\\site-packages\\\\pandas\\\\core\\\\computation\\\\common.py\": 1720932761.4200883, \"C:\\\\Users\\\\sghys\\\\miniconda3\\\\envs\\\\ml\\\\Lib\\\\site-packages\\\\pandas\\\\core\\\\computation\\\\align.py\": 1720932761.4190862, \"C:\\\\Users\\\\sghys\\\\miniconda3\\\\envs\\\\ml\\\\Lib\\\\site-packages\\\\pandas\\\\core\\\\computation\\\\scope.py\": 1720932761.4260888, \"C:\\\\Users\\\\sghys\\\\miniconda3\\\\envs\\\\ml\\\\Lib\\\\site-packages\\\\pandas\\\\core\\\\computation\\\\ops.py\": 1720932761.422086, \"C:\\\\Users\\\\sghys\\\\miniconda3\\\\envs\\\\ml\\\\Lib\\\\site-packages\\\\pandas\\\\core\\\\computation\\\\engines.py\": 1720932761.4200883, \"C:\\\\Users\\\\sghys\\\\miniconda3\\\\envs\\\\ml\\\\Lib\\\\site-packages\\\\pandas\\\\core\\\\computation\\\\parsing.py\": 1720932761.4241266, \"C:\\\\Users\\\\sghys\\\\miniconda3\\\\envs\\\\ml\\\\Lib\\\\site-packages\\\\pandas\\\\core\\\\computation\\\\expr.py\": 1720932761.4210858, \"C:\\\\Users\\\\sghys\\\\miniconda3\\\\envs\\\\ml\\\\Lib\\\\site-packages\\\\pandas\\\\core\\\\computation\\\\eval.py\": 1720932761.4210858, \"C:\\\\Users\\\\sghys\\\\miniconda3\\\\envs\\\\ml\\\\Lib\\\\site-packages\\\\pandas\\\\core\\\\computation\\\\api.py\": 1720932761.4190862, \"C:\\\\Users\\\\sghys\\\\miniconda3\\\\envs\\\\ml\\\\Lib\\\\site-packages\\\\pandas\\\\core\\\\reshape\\\\encoding.py\": 1720932761.4696095, \"C:\\\\Users\\\\sghys\\\\miniconda3\\\\envs\\\\ml\\\\Lib\\\\site-packages\\\\pandas\\\\core\\\\reshape\\\\merge.py\": 1720932761.4706042, \"C:\\\\Users\\\\sghys\\\\miniconda3\\\\envs\\\\ml\\\\Lib\\\\site-packages\\\\pandas\\\\core\\\\reshape\\\\pivot.py\": 1720932761.471606, \"C:\\\\Users\\\\sghys\\\\miniconda3\\\\envs\\\\ml\\\\Lib\\\\site-packages\\\\pandas\\\\core\\\\reshape\\\\tile.py\": 1720932761.475609, \"C:\\\\Users\\\\sghys\\\\miniconda3\\\\envs\\\\ml\\\\Lib\\\\site-packages\\\\pandas\\\\core\\\\reshape\\\\api.py\": 1720932761.4676056, \"C:\\\\Users\\\\sghys\\\\miniconda3\\\\envs\\\\ml\\\\Lib\\\\site-packages\\\\pandas\\\\api\\\\extensions\\\\__init__.py\": 1720932761.3760872, \"C:\\\\Users\\\\sghys\\\\miniconda3\\\\envs\\\\ml\\\\Lib\\\\site-packages\\\\pandas\\\\api\\\\indexers\\\\__init__.py\": 1720932761.3760872, \"C:\\\\Users\\\\sghys\\\\miniconda3\\\\envs\\\\ml\\\\Lib\\\\site-packages\\\\pandas\\\\core\\\\interchange\\\\__init__.py\": 1720932761.453603, \"C:\\\\Users\\\\sghys\\\\miniconda3\\\\envs\\\\ml\\\\Lib\\\\site-packages\\\\pandas\\\\core\\\\interchange\\\\dataframe_protocol.py\": 1720932761.4516346, \"C:\\\\Users\\\\sghys\\\\miniconda3\\\\envs\\\\ml\\\\Lib\\\\site-packages\\\\pandas\\\\core\\\\interchange\\\\utils.py\": 1720932761.4526043, \"C:\\\\Users\\\\sghys\\\\miniconda3\\\\envs\\\\ml\\\\Lib\\\\site-packages\\\\pandas\\\\core\\\\interchange\\\\from_dataframe.py\": 1720932761.4516346, \"C:\\\\Users\\\\sghys\\\\miniconda3\\\\envs\\\\ml\\\\Lib\\\\site-packages\\\\pandas\\\\api\\\\interchange\\\\__init__.py\": 1720932761.3770874, \"C:\\\\Users\\\\sghys\\\\miniconda3\\\\envs\\\\ml\\\\Lib\\\\site-packages\\\\pandas\\\\core\\\\dtypes\\\\api.py\": 1720932761.427086, \"C:\\\\Users\\\\sghys\\\\miniconda3\\\\envs\\\\ml\\\\Lib\\\\site-packages\\\\pandas\\\\api\\\\types\\\\__init__.py\": 1720932761.3770874, \"C:\\\\Users\\\\sghys\\\\miniconda3\\\\envs\\\\ml\\\\Lib\\\\site-packages\\\\pandas\\\\core\\\\resample.py\": 1720932761.3940868, \"C:\\\\Users\\\\sghys\\\\miniconda3\\\\envs\\\\ml\\\\Lib\\\\site-packages\\\\pandas\\\\_libs\\\\json.cp311-win_amd64.pyd\": 1720932762.2640014, \"C:\\\\Users\\\\sghys\\\\miniconda3\\\\envs\\\\ml\\\\Lib\\\\site-packages\\\\pandas\\\\io\\\\json\\\\_normalize.py\": 1720932761.5336025, \"C:\\\\Users\\\\sghys\\\\miniconda3\\\\envs\\\\ml\\\\Lib\\\\site-packages\\\\pandas\\\\io\\\\json\\\\_table_schema.py\": 1720932761.5336025, \"C:\\\\Users\\\\sghys\\\\miniconda3\\\\envs\\\\ml\\\\Lib\\\\site-packages\\\\pandas\\\\_libs\\\\parsers.cp311-win_amd64.pyd\": 1720932762.2818685, \"C:\\\\Users\\\\sghys\\\\miniconda3\\\\envs\\\\ml\\\\Lib\\\\site-packages\\\\pandas\\\\io\\\\parsers\\\\base_parser.py\": 1720932761.5356078, \"C:\\\\Users\\\\sghys\\\\miniconda3\\\\envs\\\\ml\\\\Lib\\\\site-packages\\\\pandas\\\\io\\\\parsers\\\\arrow_parser_wrapper.py\": 1720932761.5346124, \"C:\\\\Users\\\\sghys\\\\miniconda3\\\\envs\\\\ml\\\\Lib\\\\site-packages\\\\pandas\\\\io\\\\parsers\\\\c_parser_wrapper.py\": 1720932761.5366101, \"C:\\\\Users\\\\sghys\\\\miniconda3\\\\envs\\\\ml\\\\Lib\\\\site-packages\\\\pandas\\\\io\\\\parsers\\\\python_parser.py\": 1720932761.5366101, \"C:\\\\Users\\\\sghys\\\\miniconda3\\\\envs\\\\ml\\\\Lib\\\\site-packages\\\\pandas\\\\io\\\\parsers\\\\readers.py\": 1720932761.5376086, \"C:\\\\Users\\\\sghys\\\\miniconda3\\\\envs\\\\ml\\\\Lib\\\\site-packages\\\\pandas\\\\io\\\\parsers\\\\__init__.py\": 1720932761.5376086, \"C:\\\\Users\\\\sghys\\\\miniconda3\\\\envs\\\\ml\\\\Lib\\\\site-packages\\\\pandas\\\\io\\\\json\\\\_json.py\": 1720932761.5326025, \"C:\\\\Users\\\\sghys\\\\miniconda3\\\\envs\\\\ml\\\\Lib\\\\site-packages\\\\pandas\\\\io\\\\json\\\\__init__.py\": 1720932761.5346124, \"C:\\\\Users\\\\sghys\\\\miniconda3\\\\envs\\\\ml\\\\Lib\\\\site-packages\\\\pandas\\\\io\\\\stata.py\": 1720932761.5106027, \"C:\\\\Users\\\\sghys\\\\miniconda3\\\\envs\\\\ml\\\\Lib\\\\site-packages\\\\pandas\\\\api\\\\typing\\\\__init__.py\": 1720932761.3780887, \"C:\\\\Users\\\\sghys\\\\miniconda3\\\\envs\\\\ml\\\\Lib\\\\site-packages\\\\pandas\\\\api\\\\__init__.py\": 1720932761.3750877, \"C:\\\\Users\\\\sghys\\\\miniconda3\\\\envs\\\\ml\\\\Lib\\\\site-packages\\\\pandas\\\\_testing\\\\contexts.py\": 1720932762.3592348, \"C:\\\\Users\\\\sghys\\\\miniconda3\\\\envs\\\\ml\\\\Lib\\\\site-packages\\\\pandas\\\\_testing\\\\_io.py\": 1720932762.3622398, \"C:\\\\Users\\\\sghys\\\\miniconda3\\\\envs\\\\ml\\\\Lib\\\\site-packages\\\\pandas\\\\_testing\\\\_warnings.py\": 1720932762.3622398, \"C:\\\\Users\\\\sghys\\\\miniconda3\\\\envs\\\\ml\\\\Lib\\\\site-packages\\\\pandas\\\\_libs\\\\testing.cp311-win_amd64.pyd\": 1720932762.2948697, \"C:\\\\Users\\\\sghys\\\\miniconda3\\\\envs\\\\ml\\\\Lib\\\\site-packages\\\\pandas\\\\_testing\\\\asserters.py\": 1720932762.358235, \"C:\\\\Users\\\\sghys\\\\miniconda3\\\\envs\\\\ml\\\\Lib\\\\site-packages\\\\pandas\\\\_testing\\\\compat.py\": 1720932762.3592348, \"C:\\\\Users\\\\sghys\\\\miniconda3\\\\envs\\\\ml\\\\Lib\\\\site-packages\\\\pandas\\\\_testing\\\\__init__.py\": 1720932762.3632383, \"C:\\\\Users\\\\sghys\\\\miniconda3\\\\envs\\\\ml\\\\Lib\\\\site-packages\\\\pandas\\\\testing.py\": 1720932761.3720858, \"C:\\\\Users\\\\sghys\\\\miniconda3\\\\envs\\\\ml\\\\Lib\\\\site-packages\\\\pandas\\\\util\\\\_print_versions.py\": 1720932762.1967473, \"C:\\\\Users\\\\sghys\\\\miniconda3\\\\envs\\\\ml\\\\Lib\\\\site-packages\\\\pandas\\\\io\\\\clipboards.py\": 1720932761.501606, \"C:\\\\Users\\\\sghys\\\\miniconda3\\\\envs\\\\ml\\\\Lib\\\\site-packages\\\\pandas\\\\io\\\\excel\\\\_util.py\": 1720932761.5176044, \"C:\\\\Users\\\\sghys\\\\miniconda3\\\\envs\\\\ml\\\\Lib\\\\site-packages\\\\pandas\\\\io\\\\excel\\\\_calamine.py\": 1720932761.514604, \"C:\\\\Users\\\\sghys\\\\miniconda3\\\\envs\\\\ml\\\\Lib\\\\site-packages\\\\pandas\\\\io\\\\excel\\\\_odfreader.py\": 1720932761.514604, \"C:\\\\Users\\\\sghys\\\\miniconda3\\\\envs\\\\ml\\\\Lib\\\\site-packages\\\\pandas\\\\io\\\\excel\\\\_openpyxl.py\": 1720932761.516603, \"C:\\\\Users\\\\sghys\\\\miniconda3\\\\envs\\\\ml\\\\Lib\\\\site-packages\\\\pandas\\\\io\\\\excel\\\\_pyxlsb.py\": 1720932761.516603, \"C:\\\\Users\\\\sghys\\\\miniconda3\\\\envs\\\\ml\\\\Lib\\\\site-packages\\\\pandas\\\\io\\\\excel\\\\_xlrd.py\": 1720932761.5176044, \"C:\\\\Users\\\\sghys\\\\miniconda3\\\\envs\\\\ml\\\\Lib\\\\site-packages\\\\pandas\\\\io\\\\excel\\\\_base.py\": 1720932761.5136027, \"C:\\\\Users\\\\sghys\\\\miniconda3\\\\envs\\\\ml\\\\Lib\\\\site-packages\\\\pandas\\\\io\\\\excel\\\\_odswriter.py\": 1720932761.515603, \"C:\\\\Users\\\\sghys\\\\miniconda3\\\\envs\\\\ml\\\\Lib\\\\site-packages\\\\pandas\\\\io\\\\excel\\\\_xlsxwriter.py\": 1720932761.5186026, \"C:\\\\Users\\\\sghys\\\\miniconda3\\\\envs\\\\ml\\\\Lib\\\\site-packages\\\\pandas\\\\io\\\\excel\\\\__init__.py\": 1720932761.5186026, \"C:\\\\Users\\\\sghys\\\\miniconda3\\\\envs\\\\ml\\\\Lib\\\\site-packages\\\\pandas\\\\io\\\\feather_format.py\": 1720932761.5036068, \"C:\\\\Users\\\\sghys\\\\miniconda3\\\\envs\\\\ml\\\\Lib\\\\site-packages\\\\pandas\\\\io\\\\gbq.py\": 1720932761.5046027, \"C:\\\\Users\\\\sghys\\\\miniconda3\\\\envs\\\\ml\\\\Lib\\\\site-packages\\\\pandas\\\\io\\\\html.py\": 1720932761.5056038, \"C:\\\\Users\\\\sghys\\\\miniconda3\\\\envs\\\\ml\\\\Lib\\\\site-packages\\\\pandas\\\\io\\\\orc.py\": 1720932761.5056038, \"C:\\\\Users\\\\sghys\\\\miniconda3\\\\envs\\\\ml\\\\Lib\\\\site-packages\\\\pandas\\\\io\\\\parquet.py\": 1720932761.5066063, \"C:\\\\Users\\\\sghys\\\\miniconda3\\\\envs\\\\ml\\\\Lib\\\\site-packages\\\\pandas\\\\compat\\\\pickle_compat.py\": 1720932761.3800876, \"C:\\\\Users\\\\sghys\\\\miniconda3\\\\envs\\\\ml\\\\Lib\\\\site-packages\\\\pandas\\\\io\\\\pickle.py\": 1720932761.5076053, \"C:\\\\Users\\\\sghys\\\\miniconda3\\\\envs\\\\ml\\\\Lib\\\\site-packages\\\\pandas\\\\core\\\\computation\\\\pytables.py\": 1720932761.4251082, \"C:\\\\Users\\\\sghys\\\\miniconda3\\\\envs\\\\ml\\\\Lib\\\\site-packages\\\\pandas\\\\io\\\\pytables.py\": 1720932761.5086048, \"C:\\\\Users\\\\sghys\\\\miniconda3\\\\envs\\\\ml\\\\Lib\\\\site-packages\\\\pandas\\\\io\\\\sas\\\\sasreader.py\": 1720932761.5396078, \"C:\\\\Users\\\\sghys\\\\miniconda3\\\\envs\\\\ml\\\\Lib\\\\site-packages\\\\pandas\\\\io\\\\sas\\\\__init__.py\": 1720932761.5416067, \"C:\\\\Users\\\\sghys\\\\miniconda3\\\\envs\\\\ml\\\\Lib\\\\site-packages\\\\pandas\\\\io\\\\spss.py\": 1720932761.5096073, \"C:\\\\Users\\\\sghys\\\\miniconda3\\\\envs\\\\ml\\\\Lib\\\\site-packages\\\\pandas\\\\io\\\\sql.py\": 1720932761.5096073, \"C:\\\\Users\\\\sghys\\\\miniconda3\\\\envs\\\\ml\\\\Lib\\\\site-packages\\\\pandas\\\\io\\\\xml.py\": 1720932761.511603, \"C:\\\\Users\\\\sghys\\\\miniconda3\\\\envs\\\\ml\\\\Lib\\\\site-packages\\\\pandas\\\\io\\\\api.py\": 1720932761.5006053, \"C:\\\\Users\\\\sghys\\\\miniconda3\\\\envs\\\\ml\\\\Lib\\\\site-packages\\\\pandas\\\\util\\\\_tester.py\": 1720932762.1967473, \"C:\\\\Users\\\\sghys\\\\miniconda3\\\\envs\\\\ml\\\\Lib\\\\site-packages\\\\pandas\\\\_version_meson.py\": 1720932761.3740861, \"C:\\\\Users\\\\sghys\\\\miniconda3\\\\envs\\\\ml\\\\Lib\\\\site-packages\\\\pandas\\\\__init__.py\": 1720932761.3740861}\n"
     ]
    }
   ],
   "source": [
    "\n",
    "# imports\n",
    "import os\n",
    "import sys\n",
    "import types\n",
    "import json\n",
    "import base64\n",
    "\n",
    "# figure size/format\n",
    "fig_width = 7\n",
    "fig_height = 5\n",
    "fig_format = 'retina'\n",
    "fig_dpi = 96\n",
    "interactivity = ''\n",
    "is_shiny = False\n",
    "is_dashboard = False\n",
    "plotly_connected = True\n",
    "\n",
    "# matplotlib defaults / format\n",
    "try:\n",
    "  import matplotlib.pyplot as plt\n",
    "  plt.rcParams['figure.figsize'] = (fig_width, fig_height)\n",
    "  plt.rcParams['figure.dpi'] = fig_dpi\n",
    "  plt.rcParams['savefig.dpi'] = \"figure\"\n",
    "  from IPython.display import set_matplotlib_formats\n",
    "  set_matplotlib_formats(fig_format)\n",
    "except Exception:\n",
    "  pass\n",
    "\n",
    "# plotly use connected mode\n",
    "try:\n",
    "  import plotly.io as pio\n",
    "  if plotly_connected:\n",
    "    pio.renderers.default = \"notebook_connected\"\n",
    "  else:\n",
    "    pio.renderers.default = \"notebook\"\n",
    "  for template in pio.templates.keys():\n",
    "    pio.templates[template].layout.margin = dict(t=30,r=0,b=0,l=0)\n",
    "except Exception:\n",
    "  pass\n",
    "\n",
    "# disable itables paging for dashboards\n",
    "if is_dashboard:\n",
    "  try:\n",
    "    from itables import options\n",
    "    options.dom = 'fiBrtlp'\n",
    "    options.maxBytes = 1024 * 1024\n",
    "    options.language = dict(info = \"Showing _TOTAL_ entries\")\n",
    "    options.classes = \"display nowrap compact\"\n",
    "    options.paging = False\n",
    "    options.searching = True\n",
    "    options.ordering = True\n",
    "    options.info = True\n",
    "    options.lengthChange = False\n",
    "    options.autoWidth = False\n",
    "    options.responsive = True\n",
    "    options.keys = True\n",
    "    options.buttons = []\n",
    "  except Exception:\n",
    "    pass\n",
    "  \n",
    "  try:\n",
    "    import altair as alt\n",
    "    # By default, dashboards will have container sized\n",
    "    # vega visualizations which allows them to flow reasonably\n",
    "    theme_sentinel = '_quarto-dashboard-internal'\n",
    "    def make_theme(name):\n",
    "        nonTheme = alt.themes._plugins[name]    \n",
    "        def patch_theme(*args, **kwargs):\n",
    "            existingTheme = nonTheme()\n",
    "            if 'height' not in existingTheme:\n",
    "              existingTheme['height'] = 'container'\n",
    "            if 'width' not in existingTheme:\n",
    "              existingTheme['width'] = 'container'\n",
    "\n",
    "            if 'config' not in existingTheme:\n",
    "              existingTheme['config'] = dict()\n",
    "            \n",
    "            # Configure the default font sizes\n",
    "            title_font_size = 15\n",
    "            header_font_size = 13\n",
    "            axis_font_size = 12\n",
    "            legend_font_size = 12\n",
    "            mark_font_size = 12\n",
    "            tooltip = False\n",
    "\n",
    "            config = existingTheme['config']\n",
    "\n",
    "            # The Axis\n",
    "            if 'axis' not in config:\n",
    "              config['axis'] = dict()\n",
    "            axis = config['axis']\n",
    "            if 'labelFontSize' not in axis:\n",
    "              axis['labelFontSize'] = axis_font_size\n",
    "            if 'titleFontSize' not in axis:\n",
    "              axis['titleFontSize'] = axis_font_size  \n",
    "\n",
    "            # The legend\n",
    "            if 'legend' not in config:\n",
    "              config['legend'] = dict()\n",
    "            legend = config['legend']\n",
    "            if 'labelFontSize' not in legend:\n",
    "              legend['labelFontSize'] = legend_font_size\n",
    "            if 'titleFontSize' not in legend:\n",
    "              legend['titleFontSize'] = legend_font_size  \n",
    "\n",
    "            # The header\n",
    "            if 'header' not in config:\n",
    "              config['header'] = dict()\n",
    "            header = config['header']\n",
    "            if 'labelFontSize' not in header:\n",
    "              header['labelFontSize'] = header_font_size\n",
    "            if 'titleFontSize' not in header:\n",
    "              header['titleFontSize'] = header_font_size    \n",
    "\n",
    "            # Title\n",
    "            if 'title' not in config:\n",
    "              config['title'] = dict()\n",
    "            title = config['title']\n",
    "            if 'fontSize' not in title:\n",
    "              title['fontSize'] = title_font_size\n",
    "\n",
    "            # Marks\n",
    "            if 'mark' not in config:\n",
    "              config['mark'] = dict()\n",
    "            mark = config['mark']\n",
    "            if 'fontSize' not in mark:\n",
    "              mark['fontSize'] = mark_font_size\n",
    "\n",
    "            # Mark tooltips\n",
    "            if tooltip and 'tooltip' not in mark:\n",
    "              mark['tooltip'] = dict(content=\"encoding\")\n",
    "\n",
    "            return existingTheme\n",
    "            \n",
    "        return patch_theme\n",
    "\n",
    "    # We can only do this once per session\n",
    "    if theme_sentinel not in alt.themes.names():\n",
    "      for name in alt.themes.names():\n",
    "        alt.themes.register(name, make_theme(name))\n",
    "      \n",
    "      # register a sentinel theme so we only do this once\n",
    "      alt.themes.register(theme_sentinel, make_theme('default'))\n",
    "      alt.themes.enable('default')\n",
    "\n",
    "  except Exception:\n",
    "    pass\n",
    "\n",
    "# enable pandas latex repr when targeting pdfs\n",
    "try:\n",
    "  import pandas as pd\n",
    "  if fig_format == 'pdf':\n",
    "    pd.set_option('display.latex.repr', True)\n",
    "except Exception:\n",
    "  pass\n",
    "\n",
    "# interactivity\n",
    "if interactivity:\n",
    "  from IPython.core.interactiveshell import InteractiveShell\n",
    "  InteractiveShell.ast_node_interactivity = interactivity\n",
    "\n",
    "# NOTE: the kernel_deps code is repeated in the cleanup.py file\n",
    "# (we can't easily share this code b/c of the way it is run).\n",
    "# If you edit this code also edit the same code in cleanup.py!\n",
    "\n",
    "# output kernel dependencies\n",
    "kernel_deps = dict()\n",
    "for module in list(sys.modules.values()):\n",
    "  # Some modules play games with sys.modules (e.g. email/__init__.py\n",
    "  # in the standard library), and occasionally this can cause strange\n",
    "  # failures in getattr.  Just ignore anything that's not an ordinary\n",
    "  # module.\n",
    "  if not isinstance(module, types.ModuleType):\n",
    "    continue\n",
    "  path = getattr(module, \"__file__\", None)\n",
    "  if not path:\n",
    "    continue\n",
    "  if path.endswith(\".pyc\") or path.endswith(\".pyo\"):\n",
    "    path = path[:-1]\n",
    "  if not os.path.exists(path):\n",
    "    continue\n",
    "  kernel_deps[path] = os.stat(path).st_mtime\n",
    "print(json.dumps(kernel_deps))\n",
    "\n",
    "# set run_path if requested\n",
    "run_path = 'QzpcVXNlcnNcc2doeXNcTXkgRHJpdmUgKHNnaHlzZWxpQHN0dWRlbnQudWJjLmNhKVxxdWFydG9cZ2l0aHViaW9cY29udGVudFxlb3NjNTU1XGxlY3R1cmVzXGxlY3R1cmUz'\n",
    "if run_path:\n",
    "  # hex-decode the path\n",
    "  run_path = base64.b64decode(run_path.encode(\"utf-8\")).decode(\"utf-8\")\n",
    "  os.chdir(run_path)\n",
    "\n",
    "# reset state\n",
    "%reset\n",
    "\n",
    "# shiny\n",
    "# Checking for shiny by using False directly because we're after the %reset. We don't want\n",
    "# to set a variable that stays in global scope.\n",
    "if False:\n",
    "  try:\n",
    "    import htmltools as _htmltools\n",
    "    import ast as _ast\n",
    "\n",
    "    _htmltools.html_dependency_render_mode = \"json\"\n",
    "\n",
    "    # This decorator will be added to all function definitions\n",
    "    def _display_if_has_repr_html(x):\n",
    "      try:\n",
    "        # IPython 7.14 preferred import\n",
    "        from IPython.display import display, HTML\n",
    "      except:\n",
    "        from IPython.core.display import display, HTML\n",
    "\n",
    "      if hasattr(x, '_repr_html_'):\n",
    "        display(HTML(x._repr_html_()))\n",
    "      return x\n",
    "\n",
    "    # ideally we would undo the call to ast_transformers.append\n",
    "    # at the end of this block whenver an error occurs, we do \n",
    "    # this for now as it will only be a problem if the user \n",
    "    # switches from shiny to not-shiny mode (and even then likely\n",
    "    # won't matter)\n",
    "    import builtins\n",
    "    builtins._display_if_has_repr_html = _display_if_has_repr_html\n",
    "\n",
    "    class _FunctionDefReprHtml(_ast.NodeTransformer):\n",
    "      def visit_FunctionDef(self, node):\n",
    "        node.decorator_list.insert(\n",
    "          0,\n",
    "          _ast.Name(id=\"_display_if_has_repr_html\", ctx=_ast.Load())\n",
    "        )\n",
    "        return node\n",
    "\n",
    "      def visit_AsyncFunctionDef(self, node):\n",
    "        node.decorator_list.insert(\n",
    "          0,\n",
    "          _ast.Name(id=\"_display_if_has_repr_html\", ctx=_ast.Load())\n",
    "        )\n",
    "        return node\n",
    "\n",
    "    ip = get_ipython()\n",
    "    ip.ast_transformers.append(_FunctionDefReprHtml())\n",
    "\n",
    "  except:\n",
    "    pass\n",
    "\n",
    "def ojs_define(**kwargs):\n",
    "  import json\n",
    "  try:\n",
    "    # IPython 7.14 preferred import\n",
    "    from IPython.display import display, HTML\n",
    "  except:\n",
    "    from IPython.core.display import display, HTML\n",
    "\n",
    "  # do some minor magic for convenience when handling pandas\n",
    "  # dataframes\n",
    "  def convert(v):\n",
    "    try:\n",
    "      import pandas as pd\n",
    "    except ModuleNotFoundError: # don't do the magic when pandas is not available\n",
    "      return v\n",
    "    if type(v) == pd.Series:\n",
    "      v = pd.DataFrame(v)\n",
    "    if type(v) == pd.DataFrame:\n",
    "      j = json.loads(v.T.to_json(orient='split'))\n",
    "      return dict((k,v) for (k,v) in zip(j[\"index\"], j[\"data\"]))\n",
    "    else:\n",
    "      return v\n",
    "\n",
    "  v = dict(contents=list(dict(name=key, value=convert(value)) for (key, value) in kwargs.items()))\n",
    "  display(HTML('<script type=\"ojs-define\">' + json.dumps(v) + '</script>'), metadata=dict(ojs_define = True))\n",
    "globals()[\"ojs_define\"] = ojs_define\n",
    "# globals()[\"__spec__\"] = None"
   ]
  },
  {
   "cell_type": "code",
   "execution_count": 2,
   "id": "112bae57",
   "metadata": {},
   "outputs": [
    {
     "data": {
      "image/png": "[encoded data removed]",
      "text/plain": [
       "<Figure size 720x384 with 1 Axes>"
      ]
     },
     "metadata": {
      "image/png": {
       "height": 374,
       "width": 703
      }
     },
     "output_type": "display_data"
    }
   ],
   "source": [
    "import numpy as np\n",
    "import matplotlib.pyplot as plt\n",
    "import seaborn as sns\n",
    "\n",
    "# Seed for reproducibility\n",
    "np.random.seed(4)\n",
    "# Create a 5x10 matrix A with random values\n",
    "A = np.random.randn(5, 10)\n",
    "# Create a vector b of size 5 with random values\n",
    "b = np.random.randn(5)\n",
    "\n",
    "# Compute the SVD of A\n",
    "U, S, Vt = np.linalg.svd(A, full_matrices=False)\n",
    "\n",
    "# Create a time dependent vector of the singular values\n",
    "def St(t):\n",
    "    Sdim = S[:, np.newaxis]\n",
    "    return (1 - np.exp(-Sdim**2*t)) / Sdim\n",
    "\n",
    "# Compute the time evolution of the values and plot them on a log scale y axis with a linear time x axis\n",
    "t = np.linspace(0, .6, 100)\n",
    "T = t[np.newaxis, :]\n",
    "\n",
    "singular_vals_t = St(T)\n",
    "\n",
    "# Initialize the plot\n",
    "plt.figure(figsize=(7.5, 4))\n",
    "\n",
    "# Create a color palette\n",
    "palette = sns.color_palette(\"husl\", len(S))\n",
    "\n",
    "# Plot the singular values and their asymptotes\n",
    "for i in range(len(S)):\n",
    "    # Plot the time evolution of each singular value\n",
    "    sns.lineplot(x=t, y=singular_vals_t[i, :], color=palette[i], linewidth=2, label=f'$1/S_{i}$ ')\n",
    "    \n",
    "    Sinv = 1/S[i]\n",
    "\n",
    "    # Add a horizontal asymptote at the original singular value\n",
    "    plt.axhline(y=Sinv, color=palette[i], linestyle='--', linewidth=1)\n",
    "    \n",
    "    # Annotate the asymptote with the singular value\n",
    "    plt.text(t[-1] + 0.02, Sinv, f'{Sinv:.2f}', color=palette[i], va='center')\n",
    "\n",
    "# Configure plot aesthetics\n",
    "plt.xlabel('Time', fontsize=14)\n",
    "plt.ylabel('Inverse Singular Vals', fontsize=14)\n",
    "plt.title('Time Evolution of Pseudo Inverse in Gradient Flow', fontsize=16)\n",
    "plt.legend(title='Inverse Singular Vals', bbox_to_anchor=(1.05, 1), loc='upper left')\n",
    "plt.xlim(t[0], t[-1] + 0.1)\n",
    "plt.tight_layout()\n",
    "plt.savefig('imgs/pseudo_inverse_time_evolution.png')\n",
    "plt.show()"
   ]
  },
  {
   "cell_type": "code",
   "execution_count": 3,
   "id": "5b77c9a6",
   "metadata": {},
   "outputs": [],
   "source": [
    "import matplotlib.pyplot as plt\n",
    "import matplotlib\n",
    "#matplotlib.use('TkAgg')\n",
    "import numpy as np\n",
    "import torch.optim\n",
    "import torch\n",
    "import torch.nn as nn\n",
    "import torch.nn.functional as F\n",
    "from torch.optim import Adam\n",
    "import copy\n",
    "\n",
    "import seaborn as sns\n",
    "\n",
    "import math\n",
    "import os\n",
    "import time\n",
    "\n",
    "import matplotlib.pyplot as plt\n",
    "import numpy as np\n",
    "import torch.fft\n",
    "\n",
    "class gaussianConv(nn.Module):\n",
    "    \"\"\"\n",
    "    A PyTorch module that applies a Gaussian convolution to an input image using \n",
    "    a parameterized Gaussian Point Spread Function (PSF). The PSF is derived \n",
    "    from a covariance matrix and the derivatives of the Gaussian are computed \n",
    "    for edge detection.\n",
    "\n",
    "    Args:\n",
    "        C (torch.Tensor): Inverse of covariance matrix used to define the shape of the Gaussian.\n",
    "        t (float, optional): Scaling factor for the Gaussian, default is np.exp(5).\n",
    "        n0 (float, optional): Scaling factor for the original PSF, default is 1.\n",
    "        nx (float, optional): Scaling factor for the derivative along the x-axis, default is 1.\n",
    "        ny (float, optional): Scaling factor for the derivative along the y-axis, default is 1.\n",
    "    \"\"\"\n",
    "    def __init__(self, C, t=np.exp(5), n0=1, nx=1, ny=1):\n",
    "        super(gaussianConv, self).__init__()\n",
    "\n",
    "        self.C = C\n",
    "        self.t = t\n",
    "        self.n0 = n0\n",
    "        self.nx = nx\n",
    "        self.ny = ny\n",
    "\n",
    "    def forward(self, image):\n",
    "        P, center = self.psfGauss(image.shape[-1], image.device)\n",
    "        P_shifted = torch.roll(P, shifts=center, dims=[2, 3])\n",
    "        S = torch.fft.fft2(P_shifted)\n",
    "        I_fft = torch.fft.fft2(image)\n",
    "        B_fft = S * I_fft\n",
    "        B = torch.real(torch.fft.ifft2(B_fft))\n",
    "\n",
    "        return B\n",
    "\n",
    "    def psfGauss(self, dim, device='cpu'):\n",
    "        m = dim\n",
    "        n = dim\n",
    "\n",
    "        # Create a meshgrid of (X, Y) coordinates\n",
    "        x = torch.arange(-m // 2 + 1, m // 2 + 1, device=device)\n",
    "        y = torch.arange(-n // 2 + 1, n // 2 + 1, device=device)\n",
    "        X, Y = torch.meshgrid(x, y, indexing='ij')\n",
    "        X = X.unsqueeze(0).unsqueeze(0)  # Shape: (1, 1, m, n)\n",
    "        Y = Y.unsqueeze(0).unsqueeze(0)  # Shape: (1, 1, m, n)\n",
    "\n",
    "        cx, cy, cxy = self.C[0, 0], self.C[1, 1], self.C[0, 1]\n",
    "\n",
    "        PSF = torch.exp(-self.t * (cx * X ** 2 + cy * Y ** 2 + 2 * cxy * X * Y))\n",
    "        PSF0 = PSF / torch.sum(PSF.abs())\n",
    "\n",
    "        Kdx = torch.tensor([[-1, 0, 1],\n",
    "                            [-2, 0, 2],\n",
    "                            [-1, 0, 1]], dtype=PSF0.dtype, device=device) / 4\n",
    "        Kdy = torch.tensor([[-1, -2, -1],\n",
    "                            [0, 0, 0],\n",
    "                            [1, 2, 1]], dtype=PSF0.dtype, device=device) / 4\n",
    "\n",
    "        Kdx = Kdx.unsqueeze(0).unsqueeze(0)  # Shape: (1, 1, 3, 3)\n",
    "        Kdy = Kdy.unsqueeze(0).unsqueeze(0)  # Shape: (1, 1, 3, 3)\n",
    "\n",
    "        PSFdx = F.conv2d(PSF0, Kdx, padding=1)\n",
    "        PSFdy = F.conv2d(PSF0, Kdy, padding=1)\n",
    "\n",
    "        PSF_combined = self.n0 * PSF0 + self.nx * PSFdx + self.ny * PSFdy\n",
    "\n",
    "        center = [1 - m // 2, 1 - n // 2]\n",
    "\n",
    "        return PSF_combined, center\n",
    "\n",
    "dim = 32\n",
    "x = torch.zeros(1, 1, dim, dim)\n",
    "x[:,:, 12:14, 12:14] = 1.0\n",
    "x[:,:, 10:12, 10:12] = -1.0\n",
    "\n",
    "C = torch.tensor([[1, 0],[0, 1]])\n",
    "Amv = gaussianConv(C, t=0.1,n0=1, nx=0.1,  ny=0.1)\n",
    "\n",
    "n=(len(x.flatten()))\n",
    "Amat = torch.zeros(n,n)\n",
    "\n",
    "k=0\n",
    "for i in range(x.shape[-2]):\n",
    "  for j in range(x.shape[-1]):\n",
    "    e_ij = torch.zeros_like(x)\n",
    "    e_ij[:,:, i, j] = 1.0\n",
    "    y = Amv(e_ij)\n",
    "    Amat[:, k] = y.flatten()\n",
    "    k = k+1\n",
    "\n",
    "U, S, V = torch.svd(Amat.to(torch.float64))\n",
    "b = Amv(x)"
   ]
  },
  {
   "cell_type": "code",
   "execution_count": 4,
   "id": "14dc0d76",
   "metadata": {},
   "outputs": [
    {
     "data": {
      "image/png": "[encoded data removed]",
      "text/plain": [
       "<Figure size 576x288 with 2 Axes>"
      ]
     },
     "metadata": {
      "image/png": {
       "height": 287,
       "width": 548
      }
     },
     "output_type": "display_data"
    }
   ],
   "source": [
    "plt.figure(figsize=(6, 3))\n",
    "plt.subplot(1, 2, 1)\n",
    "plt.imshow(x[0, 0], cmap='viridis', vmin=-1, vmax=1)\n",
    "plt.title('Original Image')\n",
    "plt.axis('off')\n",
    "plt.subplot(1, 2, 2)\n",
    "\n",
    "b_noisy = b+ 0.01 * torch.randn_like(b)\n",
    "plt.imshow(b_noisy[0, 0], cmap='viridis', vmin=-1, vmax=1)\n",
    "plt.title('Distorted Image')\n",
    "plt.axis('off')\n",
    "plt.tight_layout()"
   ]
  },
  {
   "cell_type": "code",
   "execution_count": 5,
   "id": "481e98a2",
   "metadata": {},
   "outputs": [],
   "source": [
    "from matplotlib import animation\n",
    "\n",
    "b_flat = b.flatten().to(torch.float64)\n",
    "x_flat = x.flatten().to(torch.float64)\n",
    "b_noisy = b_flat + 0.001 * torch.randn_like(b_flat)\n",
    "\n",
    "def get_xhat(t):\n",
    "    Sinv_t = (1 - torch.exp(-S**2 * t)) / S\n",
    "    A_pinv = V @ torch.diag(Sinv_t) @ U.T\n",
    "    xhat = A_pinv @ b_noisy\n",
    "    return xhat\n",
    "\n",
    "# Time evolution parameters\n",
    "num_frames = 50\n",
    "t_vals = np.logspace(0, 6, num_frames)\n",
    "\n",
    "# Prepare the plot\n",
    "fig, ax = plt.subplots(figsize=(6, 6))\n",
    "im = ax.imshow(np.zeros((dim, dim)), cmap='viridis', vmin=-1, vmax=1)\n",
    "ax.set_title('Time Evolution of Pseudo-Inverse Gradient Flow')\n",
    "plt.axis('off')\n",
    "\n",
    "# Initialize the error text\n",
    "error_text = ax.text(0.02, 0.95, '', transform=ax.transAxes, color='blue', fontsize=12,\n",
    "                     verticalalignment='top')\n",
    "\n",
    "time_text = ax.text(0.5, 0.95, '', transform=ax.transAxes, color='blue', fontsize=12,\n",
    "                        verticalalignment='top')\n",
    "\n",
    "# Initialize containers to track min error and best time\n",
    "tracking = {'min_error': float('inf'), 'best_t': 0.0}\n",
    "\n",
    "# Animation update function\n",
    "def update_frame(t):\n",
    "    # Compute time-dependent singular values\n",
    "    Sinv_t = (1 - torch.exp(-S ** 2 * t)) / S\n",
    "    # Construct the pseudoinverse of Amat at time t\n",
    "    A_pinv = V @ torch.diag(Sinv_t) @ U.t()\n",
    "    # Reconstruct the image estimate x(t)\n",
    "    xt = A_pinv @ b_noisy\n",
    "    # Compute the relative error\n",
    "    error = torch.norm(x_flat - xt) / torch.norm(x_flat)\n",
    "    \n",
    "    # Update min_error and best_t if current error is lower\n",
    "    if error.item() < tracking['min_error']:\n",
    "        tracking['min_error'] = error.item()\n",
    "        tracking['best_t'] = t\n",
    "\n",
    "    # Reshape to image dimensions\n",
    "    x_image = xt.reshape(dim, dim).detach().numpy()\n",
    "\n",
    "    # Update the image data\n",
    "    im.set_data(x_image)\n",
    "\n",
    "    # Update the error text\n",
    "    error_text.set_text(f'Relative Error: {error.item():.4f}')\n",
    "    time_text.set_text(f'Time: {t:.2f}')\n",
    "\n",
    "    return [im, error_text, time_text]\n",
    "\n",
    "# Create the animation\n",
    "ani = animation.FuncAnimation(fig, update_frame, frames=t_vals, blit=True, interval=100)\n",
    "\n",
    "ani.save('imgs/gradient_flow.gif', writer='pillow', fps=5)\n",
    "plt.close(fig)"
   ]
  },
  {
   "cell_type": "code",
   "execution_count": 6,
   "id": "5ff66c16",
   "metadata": {},
   "outputs": [
    {
     "data": {
      "image/png": "[encoded data removed]",
      "text/plain": [
       "<Figure size 576x576 with 1 Axes>"
      ]
     },
     "metadata": {
      "image/png": {
       "height": 500,
       "width": 462
      }
     },
     "output_type": "display_data"
    }
   ],
   "source": [
    "best_img = get_xhat(tracking['best_t']).reshape(dim, dim).detach().numpy()\n",
    "\n",
    "plt.figure(figsize=(6, 6))\n",
    "plt.imshow(best_img / np.max(np.abs(best_img)), cmap='viridis', vmin=-1, vmax=1)\n",
    "plt.title(f'Best Reconstruction at t={tracking[\"best_t\"]:.2f}\\nRelative Error: {tracking[\"min_error\"]:.4f}')\n",
    "plt.axis('off')\n",
    "plt.show()"
   ]
  },
  {
   "cell_type": "code",
   "execution_count": 7,
   "id": "16364fec",
   "metadata": {},
   "outputs": [],
   "source": [
    "def Amv_adjoint(v):\n",
    "    x = torch.zeros(1, 1, dim, dim)\n",
    "    x.requires_grad = True\n",
    "    b = Amv(x)\n",
    "    # Compute the dot product of the forward operator with the input vector\n",
    "    h = torch.sum(b * v)\n",
    "    # Compute the gradient of the dot product with respect to the input image\n",
    "    adjoint = torch.autograd.grad(h, x, create_graph=True)[0]\n",
    "    return adjoint"
   ]
  },
  {
   "cell_type": "code",
   "execution_count": 8,
   "id": "3e6c2b8b",
   "metadata": {},
   "outputs": [
    {
     "name": "stdout",
     "output_type": "stream",
     "text": [
      "Norm of difference between adjoint and transpose: 4.43e-07\n"
     ]
    }
   ],
   "source": [
    "Amat_adj = torch.zeros(n,n)\n",
    "\n",
    "dim = 32 # Same as earlier\n",
    "k=0\n",
    "for i in range(dim):\n",
    "  for j in range(dim):\n",
    "    e_ij = torch.zeros_like(x)\n",
    "    e_ij[:,:, i, j] = 1.0\n",
    "    y = Amv_adjoint(e_ij)\n",
    "    Amat_adj[:, k] = y.flatten()\n",
    "    k = k+1\n",
    "\n",
    "diff = torch.norm(Amat_adj - Amat.T)\n",
    "print(f'Norm of difference between adjoint and transpose: {diff:.2e}')"
   ]
  },
  {
   "cell_type": "code",
   "execution_count": 9,
   "id": "c6c8ad88",
   "metadata": {},
   "outputs": [
    {
     "name": "stderr",
     "output_type": "stream",
     "text": [
      "\r",
      "Least Squares Iteration:   0%|          | 0/1000 [00:00<?, ?iter/s]"
     ]
    },
    {
     "name": "stderr",
     "output_type": "stream",
     "text": [
      "\r",
      "Least Squares Iteration:   0%|          | 0/1000 [00:00<?, ?iter/s, Error=2.1227e-01]"
     ]
    },
    {
     "name": "stderr",
     "output_type": "stream",
     "text": [
      "\r",
      "Least Squares Iteration:   0%|          | 1/1000 [00:00<00:02, 333.41iter/s, Error=1.2275e-01]"
     ]
    },
    {
     "name": "stderr",
     "output_type": "stream",
     "text": [
      "\r",
      "Least Squares Iteration:   0%|          | 2/1000 [00:00<00:01, 499.83iter/s, Error=8.6669e-02]"
     ]
    },
    {
     "name": "stderr",
     "output_type": "stream",
     "text": [
      "\r",
      "Least Squares Iteration:   0%|          | 3/1000 [00:00<00:02, 428.56iter/s, Error=6.7169e-02]"
     ]
    },
    {
     "name": "stderr",
     "output_type": "stream",
     "text": [
      "\r",
      "Least Squares Iteration:   0%|          | 4/1000 [00:00<00:02, 444.43iter/s, Error=5.5200e-02]"
     ]
    },
    {
     "name": "stderr",
     "output_type": "stream",
     "text": [
      "\r",
      "Least Squares Iteration:   0%|          | 5/1000 [00:00<00:01, 500.12iter/s, Error=4.7147e-02]"
     ]
    },
    {
     "name": "stderr",
     "output_type": "stream",
     "text": [
      "\r",
      "Least Squares Iteration:   1%|          | 6/1000 [00:00<00:01, 500.02iter/s, Error=4.1317e-02]"
     ]
    },
    {
     "name": "stderr",
     "output_type": "stream",
     "text": [
      "\r",
      "Least Squares Iteration:   1%|          | 7/1000 [00:00<00:01, 499.99iter/s, Error=3.6870e-02]"
     ]
    },
    {
     "name": "stderr",
     "output_type": "stream",
     "text": [
      "\r",
      "Least Squares Iteration:   1%|          | 8/1000 [00:00<00:01, 500.01iter/s, Error=3.3355e-02]"
     ]
    },
    {
     "name": "stderr",
     "output_type": "stream",
     "text": [
      "\r",
      "Least Squares Iteration:   1%|          | 9/1000 [00:00<00:01, 529.35iter/s, Error=3.0509e-02]"
     ]
    },
    {
     "name": "stderr",
     "output_type": "stream",
     "text": [
      "\r",
      "Least Squares Iteration:   1%|          | 10/1000 [00:00<00:01, 526.33iter/s, Error=2.8164e-02]"
     ]
    },
    {
     "name": "stderr",
     "output_type": "stream",
     "text": [
      "\r",
      "Least Squares Iteration:   1%|          | 11/1000 [00:00<00:01, 550.01iter/s, Error=2.6202e-02]"
     ]
    },
    {
     "name": "stderr",
     "output_type": "stream",
     "text": [
      "\r",
      "Least Squares Iteration:   1%|          | 12/1000 [00:00<00:01, 545.52iter/s, Error=2.4539e-02]"
     ]
    },
    {
     "name": "stderr",
     "output_type": "stream",
     "text": [
      "\r",
      "Least Squares Iteration:   1%|▏         | 13/1000 [00:00<00:01, 565.29iter/s, Error=2.3111e-02]"
     ]
    },
    {
     "name": "stderr",
     "output_type": "stream",
     "text": [
      "\r",
      "Least Squares Iteration:   1%|▏         | 14/1000 [00:00<00:01, 559.96iter/s, Error=2.1871e-02]"
     ]
    },
    {
     "name": "stderr",
     "output_type": "stream",
     "text": [
      "\r",
      "Least Squares Iteration:   2%|▏         | 15/1000 [00:00<00:01, 576.91iter/s, Error=2.0782e-02]"
     ]
    },
    {
     "name": "stderr",
     "output_type": "stream",
     "text": [
      "\r",
      "Least Squares Iteration:   2%|▏         | 16/1000 [00:00<00:01, 571.37iter/s, Error=1.9816e-02]"
     ]
    },
    {
     "name": "stderr",
     "output_type": "stream",
     "text": [
      "\r",
      "Least Squares Iteration:   2%|▏         | 17/1000 [00:00<00:01, 566.68iter/s, Error=1.8949e-02]"
     ]
    },
    {
     "name": "stderr",
     "output_type": "stream",
     "text": [
      "\r",
      "Least Squares Iteration:   2%|▏         | 18/1000 [00:00<00:01, 580.70iter/s, Error=1.8166e-02]"
     ]
    },
    {
     "name": "stderr",
     "output_type": "stream",
     "text": [
      "\r",
      "Least Squares Iteration:   2%|▏         | 19/1000 [00:00<00:01, 575.77iter/s, Error=1.7453e-02]"
     ]
    },
    {
     "name": "stderr",
     "output_type": "stream",
     "text": [
      "\r",
      "Least Squares Iteration:   2%|▏         | 20/1000 [00:00<00:01, 571.44iter/s, Error=1.6800e-02]"
     ]
    },
    {
     "name": "stderr",
     "output_type": "stream",
     "text": [
      "\r",
      "Least Squares Iteration:   2%|▏         | 21/1000 [00:00<00:01, 583.38iter/s, Error=1.6197e-02]"
     ]
    },
    {
     "name": "stderr",
     "output_type": "stream",
     "text": [
      "\r",
      "Least Squares Iteration:   2%|▏         | 22/1000 [00:00<00:01, 579.01iter/s, Error=1.5639e-02]"
     ]
    },
    {
     "name": "stderr",
     "output_type": "stream",
     "text": [
      "\r",
      "Least Squares Iteration:   2%|▏         | 23/1000 [00:00<00:01, 589.80iter/s, Error=1.5119e-02]"
     ]
    },
    {
     "name": "stderr",
     "output_type": "stream",
     "text": [
      "\r",
      "Least Squares Iteration:   2%|▏         | 24/1000 [00:00<00:01, 600.01iter/s, Error=1.4634e-02]"
     ]
    },
    {
     "name": "stderr",
     "output_type": "stream",
     "text": [
      "\r",
      "Least Squares Iteration:   2%|▎         | 25/1000 [00:00<00:01, 595.25iter/s, Error=1.4180e-02]"
     ]
    },
    {
     "name": "stderr",
     "output_type": "stream",
     "text": [
      "\r",
      "Least Squares Iteration:   3%|▎         | 26/1000 [00:00<00:01, 604.68iter/s, Error=1.3753e-02]"
     ]
    },
    {
     "name": "stderr",
     "output_type": "stream",
     "text": [
      "\r",
      "Least Squares Iteration:   3%|▎         | 27/1000 [00:00<00:01, 613.66iter/s, Error=1.3351e-02]"
     ]
    },
    {
     "name": "stderr",
     "output_type": "stream",
     "text": [
      "\r",
      "Least Squares Iteration:   3%|▎         | 28/1000 [00:00<00:01, 622.25iter/s, Error=1.2972e-02]"
     ]
    },
    {
     "name": "stderr",
     "output_type": "stream",
     "text": [
      "\r",
      "Least Squares Iteration:   3%|▎         | 29/1000 [00:00<00:01, 630.47iter/s, Error=1.2613e-02]"
     ]
    },
    {
     "name": "stderr",
     "output_type": "stream",
     "text": [
      "\r",
      "Least Squares Iteration:   3%|▎         | 30/1000 [00:00<00:01, 625.01iter/s, Error=1.2274e-02]"
     ]
    },
    {
     "name": "stderr",
     "output_type": "stream",
     "text": [
      "\r",
      "Least Squares Iteration:   3%|▎         | 31/1000 [00:00<00:01, 632.70iter/s, Error=1.1952e-02]"
     ]
    },
    {
     "name": "stderr",
     "output_type": "stream",
     "text": [
      "\r",
      "Least Squares Iteration:   3%|▎         | 32/1000 [00:00<00:01, 627.47iter/s, Error=1.1647e-02]"
     ]
    },
    {
     "name": "stderr",
     "output_type": "stream",
     "text": [
      "\r",
      "Least Squares Iteration:   3%|▎         | 33/1000 [00:00<00:01, 634.65iter/s, Error=1.1357e-02]"
     ]
    },
    {
     "name": "stderr",
     "output_type": "stream",
     "text": [
      "\r",
      "Least Squares Iteration:   3%|▎         | 34/1000 [00:00<00:01, 641.55iter/s, Error=1.1082e-02]"
     ]
    },
    {
     "name": "stderr",
     "output_type": "stream",
     "text": [
      "\r",
      "Least Squares Iteration:   4%|▎         | 35/1000 [00:00<00:01, 636.38iter/s, Error=1.0820e-02]"
     ]
    },
    {
     "name": "stderr",
     "output_type": "stream",
     "text": [
      "\r",
      "Least Squares Iteration:   4%|▎         | 36/1000 [00:00<00:01, 642.87iter/s, Error=1.0570e-02]"
     ]
    },
    {
     "name": "stderr",
     "output_type": "stream",
     "text": [
      "\r",
      "Least Squares Iteration:   4%|▎         | 37/1000 [00:00<00:01, 637.94iter/s, Error=1.0332e-02]"
     ]
    },
    {
     "name": "stderr",
     "output_type": "stream",
     "text": [
      "\r",
      "Least Squares Iteration:   4%|▍         | 38/1000 [00:00<00:01, 644.08iter/s, Error=1.0105e-02]"
     ]
    },
    {
     "name": "stderr",
     "output_type": "stream",
     "text": [
      "\r",
      "Least Squares Iteration:   4%|▍         | 39/1000 [00:00<00:01, 639.36iter/s, Error=9.8878e-03]"
     ]
    },
    {
     "name": "stderr",
     "output_type": "stream",
     "text": [
      "\r",
      "Least Squares Iteration:   4%|▍         | 40/1000 [00:00<00:01, 645.11iter/s, Error=9.6808e-03]"
     ]
    },
    {
     "name": "stderr",
     "output_type": "stream",
     "text": [
      "\r",
      "Least Squares Iteration:   4%|▍         | 41/1000 [00:00<00:01, 640.60iter/s, Error=9.4830e-03]"
     ]
    },
    {
     "name": "stderr",
     "output_type": "stream",
     "text": [
      "\r",
      "Least Squares Iteration:   4%|▍         | 42/1000 [00:00<00:01, 646.11iter/s, Error=9.2939e-03]"
     ]
    },
    {
     "name": "stderr",
     "output_type": "stream",
     "text": [
      "\r",
      "Least Squares Iteration:   4%|▍         | 43/1000 [00:00<00:01, 641.73iter/s, Error=9.1131e-03]"
     ]
    },
    {
     "name": "stderr",
     "output_type": "stream",
     "text": [
      "\r",
      "Least Squares Iteration:   4%|▍         | 44/1000 [00:00<00:01, 647.02iter/s, Error=8.9400e-03]"
     ]
    },
    {
     "name": "stderr",
     "output_type": "stream",
     "text": [
      "\r",
      "Least Squares Iteration:   4%|▍         | 45/1000 [00:00<00:01, 642.82iter/s, Error=8.7742e-03]"
     ]
    },
    {
     "name": "stderr",
     "output_type": "stream",
     "text": [
      "\r",
      "Least Squares Iteration:   5%|▍         | 46/1000 [00:00<00:01, 647.87iter/s, Error=8.6154e-03]"
     ]
    },
    {
     "name": "stderr",
     "output_type": "stream",
     "text": [
      "\r",
      "Least Squares Iteration:   5%|▍         | 47/1000 [00:00<00:01, 643.81iter/s, Error=8.4632e-03]"
     ]
    },
    {
     "name": "stderr",
     "output_type": "stream",
     "text": [
      "\r",
      "Least Squares Iteration:   5%|▍         | 48/1000 [00:00<00:01, 648.64iter/s, Error=8.3172e-03]"
     ]
    },
    {
     "name": "stderr",
     "output_type": "stream",
     "text": [
      "\r",
      "Least Squares Iteration:   5%|▍         | 49/1000 [00:00<00:01, 653.30iter/s, Error=8.1772e-03]"
     ]
    },
    {
     "name": "stderr",
     "output_type": "stream",
     "text": [
      "\r",
      "Least Squares Iteration:   5%|▌         | 50/1000 [00:00<00:01, 653.50iter/s, Error=8.0428e-03]"
     ]
    },
    {
     "name": "stderr",
     "output_type": "stream",
     "text": [
      "\r",
      "Least Squares Iteration:   5%|▌         | 51/1000 [00:00<00:01, 649.56iter/s, Error=7.9137e-03]"
     ]
    },
    {
     "name": "stderr",
     "output_type": "stream",
     "text": [
      "\r",
      "Least Squares Iteration:   5%|▌         | 52/1000 [00:00<00:01, 653.96iter/s, Error=7.7897e-03]"
     ]
    },
    {
     "name": "stderr",
     "output_type": "stream",
     "text": [
      "\r",
      "Least Squares Iteration:   5%|▌         | 53/1000 [00:00<00:01, 658.26iter/s, Error=7.6705e-03]"
     ]
    },
    {
     "name": "stderr",
     "output_type": "stream",
     "text": [
      "\r",
      "Least Squares Iteration:   5%|▌         | 54/1000 [00:00<00:01, 654.41iter/s, Error=7.5558e-03]"
     ]
    },
    {
     "name": "stderr",
     "output_type": "stream",
     "text": [
      "\r",
      "Least Squares Iteration:   6%|▌         | 55/1000 [00:00<00:01, 658.56iter/s, Error=7.4455e-03]"
     ]
    },
    {
     "name": "stderr",
     "output_type": "stream",
     "text": [
      "\r",
      "Least Squares Iteration:   6%|▌         | 56/1000 [00:00<00:01, 654.85iter/s, Error=7.3393e-03]"
     ]
    },
    {
     "name": "stderr",
     "output_type": "stream",
     "text": [
      "\r",
      "Least Squares Iteration:   6%|▌         | 57/1000 [00:00<00:01, 658.82iter/s, Error=7.2371e-03]"
     ]
    },
    {
     "name": "stderr",
     "output_type": "stream",
     "text": [
      "\r",
      "Least Squares Iteration:   6%|▌         | 58/1000 [00:00<00:01, 655.24iter/s, Error=7.1385e-03]"
     ]
    },
    {
     "name": "stderr",
     "output_type": "stream",
     "text": [
      "\r",
      "Least Squares Iteration:   6%|▌         | 59/1000 [00:00<00:01, 659.09iter/s, Error=7.0435e-03]"
     ]
    },
    {
     "name": "stderr",
     "output_type": "stream",
     "text": [
      "\r",
      "Least Squares Iteration:   6%|▌         | 60/1000 [00:00<00:01, 655.61iter/s, Error=6.9519e-03]"
     ]
    },
    {
     "name": "stderr",
     "output_type": "stream",
     "text": [
      "\r",
      "Least Squares Iteration:   6%|▌         | 61/1000 [00:00<00:01, 652.29iter/s, Error=6.8634e-03]"
     ]
    },
    {
     "name": "stderr",
     "output_type": "stream",
     "text": [
      "\r",
      "Least Squares Iteration:   6%|▌         | 62/1000 [00:00<00:01, 655.97iter/s, Error=6.7781e-03]"
     ]
    },
    {
     "name": "stderr",
     "output_type": "stream",
     "text": [
      "\r",
      "Least Squares Iteration:   6%|▋         | 63/1000 [00:00<00:01, 652.74iter/s, Error=6.6956e-03]"
     ]
    },
    {
     "name": "stderr",
     "output_type": "stream",
     "text": [
      "\r",
      "Least Squares Iteration:   6%|▋         | 64/1000 [00:00<00:01, 656.30iter/s, Error=6.6158e-03]"
     ]
    },
    {
     "name": "stderr",
     "output_type": "stream",
     "text": [
      "\r",
      "Least Squares Iteration:   6%|▋         | 65/1000 [00:00<00:01, 653.16iter/s, Error=6.5387e-03]"
     ]
    },
    {
     "name": "stderr",
     "output_type": "stream",
     "text": [
      "\r",
      "Least Squares Iteration:   7%|▋         | 66/1000 [00:00<00:01, 656.61iter/s, Error=6.4641e-03]"
     ]
    },
    {
     "name": "stderr",
     "output_type": "stream",
     "text": [
      "\r",
      "Least Squares Iteration:   7%|▋         | 67/1000 [00:00<00:01, 666.56iter/s, Error=6.4641e-03]"
     ]
    },
    {
     "name": "stderr",
     "output_type": "stream",
     "text": [
      "\r",
      "Least Squares Iteration:   7%|▋         | 67/1000 [00:00<00:01, 666.56iter/s, Error=6.3919e-03]"
     ]
    },
    {
     "name": "stderr",
     "output_type": "stream",
     "text": [
      "\r",
      "Least Squares Iteration:   7%|▋         | 68/1000 [00:00<00:01, 666.56iter/s, Error=6.3220e-03]"
     ]
    },
    {
     "name": "stderr",
     "output_type": "stream",
     "text": [
      "\r",
      "Least Squares Iteration:   7%|▋         | 69/1000 [00:00<00:01, 666.56iter/s, Error=6.2542e-03]"
     ]
    },
    {
     "name": "stderr",
     "output_type": "stream",
     "text": [
      "\r",
      "Least Squares Iteration:   7%|▋         | 70/1000 [00:00<00:01, 666.56iter/s, Error=6.1885e-03]"
     ]
    },
    {
     "name": "stderr",
     "output_type": "stream",
     "text": [
      "\r",
      "Least Squares Iteration:   7%|▋         | 71/1000 [00:00<00:01, 666.56iter/s, Error=6.1247e-03]"
     ]
    },
    {
     "name": "stderr",
     "output_type": "stream",
     "text": [
      "\r",
      "Least Squares Iteration:   7%|▋         | 72/1000 [00:00<00:01, 666.56iter/s, Error=6.0628e-03]"
     ]
    },
    {
     "name": "stderr",
     "output_type": "stream",
     "text": [
      "\r",
      "Least Squares Iteration:   7%|▋         | 73/1000 [00:00<00:01, 666.56iter/s, Error=6.0028e-03]"
     ]
    },
    {
     "name": "stderr",
     "output_type": "stream",
     "text": [
      "\r",
      "Least Squares Iteration:   7%|▋         | 74/1000 [00:00<00:01, 666.56iter/s, Error=5.9444e-03]"
     ]
    },
    {
     "name": "stderr",
     "output_type": "stream",
     "text": [
      "\r",
      "Least Squares Iteration:   8%|▊         | 75/1000 [00:00<00:01, 666.56iter/s, Error=5.8876e-03]"
     ]
    },
    {
     "name": "stderr",
     "output_type": "stream",
     "text": [
      "\r",
      "Least Squares Iteration:   8%|▊         | 76/1000 [00:00<00:01, 666.56iter/s, Error=5.8325e-03]"
     ]
    },
    {
     "name": "stderr",
     "output_type": "stream",
     "text": [
      "\r",
      "Least Squares Iteration:   8%|▊         | 77/1000 [00:00<00:01, 666.56iter/s, Error=5.7788e-03]"
     ]
    },
    {
     "name": "stderr",
     "output_type": "stream",
     "text": [
      "\r",
      "Least Squares Iteration:   8%|▊         | 78/1000 [00:00<00:01, 666.56iter/s, Error=5.7265e-03]"
     ]
    },
    {
     "name": "stderr",
     "output_type": "stream",
     "text": [
      "\r",
      "Least Squares Iteration:   8%|▊         | 79/1000 [00:00<00:01, 666.56iter/s, Error=5.6756e-03]"
     ]
    },
    {
     "name": "stderr",
     "output_type": "stream",
     "text": [
      "\r",
      "Least Squares Iteration:   8%|▊         | 80/1000 [00:00<00:01, 666.56iter/s, Error=5.6260e-03]"
     ]
    },
    {
     "name": "stderr",
     "output_type": "stream",
     "text": [
      "\r",
      "Least Squares Iteration:   8%|▊         | 81/1000 [00:00<00:01, 666.56iter/s, Error=5.5776e-03]"
     ]
    },
    {
     "name": "stderr",
     "output_type": "stream",
     "text": [
      "\r",
      "Least Squares Iteration:   8%|▊         | 82/1000 [00:00<00:01, 666.56iter/s, Error=5.5304e-03]"
     ]
    },
    {
     "name": "stderr",
     "output_type": "stream",
     "text": [
      "\r",
      "Least Squares Iteration:   8%|▊         | 83/1000 [00:00<00:01, 666.56iter/s, Error=5.4844e-03]"
     ]
    },
    {
     "name": "stderr",
     "output_type": "stream",
     "text": [
      "\r",
      "Least Squares Iteration:   8%|▊         | 84/1000 [00:00<00:01, 666.56iter/s, Error=5.4394e-03]"
     ]
    },
    {
     "name": "stderr",
     "output_type": "stream",
     "text": [
      "\r",
      "Least Squares Iteration:   8%|▊         | 85/1000 [00:00<00:01, 666.56iter/s, Error=5.3955e-03]"
     ]
    },
    {
     "name": "stderr",
     "output_type": "stream",
     "text": [
      "\r",
      "Least Squares Iteration:   9%|▊         | 86/1000 [00:00<00:01, 666.56iter/s, Error=5.3526e-03]"
     ]
    },
    {
     "name": "stderr",
     "output_type": "stream",
     "text": [
      "\r",
      "Least Squares Iteration:   9%|▊         | 87/1000 [00:00<00:01, 666.56iter/s, Error=5.3107e-03]"
     ]
    },
    {
     "name": "stderr",
     "output_type": "stream",
     "text": [
      "\r",
      "Least Squares Iteration:   9%|▉         | 88/1000 [00:00<00:01, 666.56iter/s, Error=5.2696e-03]"
     ]
    },
    {
     "name": "stderr",
     "output_type": "stream",
     "text": [
      "\r",
      "Least Squares Iteration:   9%|▉         | 89/1000 [00:00<00:01, 666.56iter/s, Error=5.2295e-03]"
     ]
    },
    {
     "name": "stderr",
     "output_type": "stream",
     "text": [
      "\r",
      "Least Squares Iteration:   9%|▉         | 90/1000 [00:00<00:01, 666.56iter/s, Error=5.1902e-03]"
     ]
    },
    {
     "name": "stderr",
     "output_type": "stream",
     "text": [
      "\r",
      "Least Squares Iteration:   9%|▉         | 91/1000 [00:00<00:01, 666.56iter/s, Error=5.1518e-03]"
     ]
    },
    {
     "name": "stderr",
     "output_type": "stream",
     "text": [
      "\r",
      "Least Squares Iteration:   9%|▉         | 92/1000 [00:00<00:01, 666.56iter/s, Error=5.1141e-03]"
     ]
    },
    {
     "name": "stderr",
     "output_type": "stream",
     "text": [
      "\r",
      "Least Squares Iteration:   9%|▉         | 93/1000 [00:00<00:01, 666.56iter/s, Error=5.0772e-03]"
     ]
    },
    {
     "name": "stderr",
     "output_type": "stream",
     "text": [
      "\r",
      "Least Squares Iteration:   9%|▉         | 94/1000 [00:00<00:01, 666.56iter/s, Error=5.0410e-03]"
     ]
    },
    {
     "name": "stderr",
     "output_type": "stream",
     "text": [
      "\r",
      "Least Squares Iteration:  10%|▉         | 95/1000 [00:00<00:01, 666.56iter/s, Error=5.0055e-03]"
     ]
    },
    {
     "name": "stderr",
     "output_type": "stream",
     "text": [
      "\r",
      "Least Squares Iteration:  10%|▉         | 96/1000 [00:00<00:01, 666.56iter/s, Error=4.9707e-03]"
     ]
    },
    {
     "name": "stderr",
     "output_type": "stream",
     "text": [
      "\r",
      "Least Squares Iteration:  10%|▉         | 97/1000 [00:00<00:01, 666.56iter/s, Error=4.9365e-03]"
     ]
    },
    {
     "name": "stderr",
     "output_type": "stream",
     "text": [
      "\r",
      "Least Squares Iteration:  10%|▉         | 98/1000 [00:00<00:01, 666.56iter/s, Error=4.9030e-03]"
     ]
    },
    {
     "name": "stderr",
     "output_type": "stream",
     "text": [
      "\r",
      "Least Squares Iteration:  10%|▉         | 99/1000 [00:00<00:01, 666.56iter/s, Error=4.8700e-03]"
     ]
    },
    {
     "name": "stderr",
     "output_type": "stream",
     "text": [
      "\r",
      "Least Squares Iteration:  10%|█         | 100/1000 [00:00<00:01, 666.56iter/s, Error=4.8377e-03]"
     ]
    },
    {
     "name": "stderr",
     "output_type": "stream",
     "text": [
      "\r",
      "Least Squares Iteration:  10%|█         | 101/1000 [00:00<00:01, 666.56iter/s, Error=4.8059e-03]"
     ]
    },
    {
     "name": "stderr",
     "output_type": "stream",
     "text": [
      "\r",
      "Least Squares Iteration:  10%|█         | 102/1000 [00:00<00:01, 666.56iter/s, Error=4.7746e-03]"
     ]
    },
    {
     "name": "stderr",
     "output_type": "stream",
     "text": [
      "\r",
      "Least Squares Iteration:  10%|█         | 103/1000 [00:00<00:01, 666.56iter/s, Error=4.7439e-03]"
     ]
    },
    {
     "name": "stderr",
     "output_type": "stream",
     "text": [
      "\r",
      "Least Squares Iteration:  10%|█         | 104/1000 [00:00<00:01, 666.56iter/s, Error=4.7137e-03]"
     ]
    },
    {
     "name": "stderr",
     "output_type": "stream",
     "text": [
      "\r",
      "Least Squares Iteration:  10%|█         | 105/1000 [00:00<00:01, 666.56iter/s, Error=4.6839e-03]"
     ]
    },
    {
     "name": "stderr",
     "output_type": "stream",
     "text": [
      "\r",
      "Least Squares Iteration:  11%|█         | 106/1000 [00:00<00:01, 666.56iter/s, Error=4.6547e-03]"
     ]
    },
    {
     "name": "stderr",
     "output_type": "stream",
     "text": [
      "\r",
      "Least Squares Iteration:  11%|█         | 107/1000 [00:00<00:01, 666.56iter/s, Error=4.6259e-03]"
     ]
    },
    {
     "name": "stderr",
     "output_type": "stream",
     "text": [
      "\r",
      "Least Squares Iteration:  11%|█         | 108/1000 [00:00<00:01, 666.56iter/s, Error=4.5975e-03]"
     ]
    },
    {
     "name": "stderr",
     "output_type": "stream",
     "text": [
      "\r",
      "Least Squares Iteration:  11%|█         | 109/1000 [00:00<00:01, 666.56iter/s, Error=4.5696e-03]"
     ]
    },
    {
     "name": "stderr",
     "output_type": "stream",
     "text": [
      "\r",
      "Least Squares Iteration:  11%|█         | 110/1000 [00:00<00:01, 666.56iter/s, Error=4.5421e-03]"
     ]
    },
    {
     "name": "stderr",
     "output_type": "stream",
     "text": [
      "\r",
      "Least Squares Iteration:  11%|█         | 111/1000 [00:00<00:01, 666.56iter/s, Error=4.5150e-03]"
     ]
    },
    {
     "name": "stderr",
     "output_type": "stream",
     "text": [
      "\r",
      "Least Squares Iteration:  11%|█         | 112/1000 [00:00<00:01, 666.56iter/s, Error=4.4883e-03]"
     ]
    },
    {
     "name": "stderr",
     "output_type": "stream",
     "text": [
      "\r",
      "Least Squares Iteration:  11%|█▏        | 113/1000 [00:00<00:01, 666.56iter/s, Error=4.4620e-03]"
     ]
    },
    {
     "name": "stderr",
     "output_type": "stream",
     "text": [
      "\r",
      "Least Squares Iteration:  11%|█▏        | 114/1000 [00:00<00:01, 666.56iter/s, Error=4.4361e-03]"
     ]
    },
    {
     "name": "stderr",
     "output_type": "stream",
     "text": [
      "\r",
      "Least Squares Iteration:  12%|█▏        | 115/1000 [00:00<00:01, 666.56iter/s, Error=4.4105e-03]"
     ]
    },
    {
     "name": "stderr",
     "output_type": "stream",
     "text": [
      "\r",
      "Least Squares Iteration:  12%|█▏        | 116/1000 [00:00<00:01, 666.56iter/s, Error=4.3852e-03]"
     ]
    },
    {
     "name": "stderr",
     "output_type": "stream",
     "text": [
      "\r",
      "Least Squares Iteration:  12%|█▏        | 117/1000 [00:00<00:01, 666.56iter/s, Error=4.3603e-03]"
     ]
    },
    {
     "name": "stderr",
     "output_type": "stream",
     "text": [
      "\r",
      "Least Squares Iteration:  12%|█▏        | 118/1000 [00:00<00:01, 666.56iter/s, Error=4.3358e-03]"
     ]
    },
    {
     "name": "stderr",
     "output_type": "stream",
     "text": [
      "\r",
      "Least Squares Iteration:  12%|█▏        | 119/1000 [00:00<00:01, 666.56iter/s, Error=4.3116e-03]"
     ]
    },
    {
     "name": "stderr",
     "output_type": "stream",
     "text": [
      "\r",
      "Least Squares Iteration:  12%|█▏        | 120/1000 [00:00<00:01, 666.56iter/s, Error=4.2876e-03]"
     ]
    },
    {
     "name": "stderr",
     "output_type": "stream",
     "text": [
      "\r",
      "Least Squares Iteration:  12%|█▏        | 121/1000 [00:00<00:01, 666.56iter/s, Error=4.2640e-03]"
     ]
    },
    {
     "name": "stderr",
     "output_type": "stream",
     "text": [
      "\r",
      "Least Squares Iteration:  12%|█▏        | 122/1000 [00:00<00:01, 666.56iter/s, Error=4.2407e-03]"
     ]
    },
    {
     "name": "stderr",
     "output_type": "stream",
     "text": [
      "\r",
      "Least Squares Iteration:  12%|█▏        | 123/1000 [00:00<00:01, 666.56iter/s, Error=4.2177e-03]"
     ]
    },
    {
     "name": "stderr",
     "output_type": "stream",
     "text": [
      "\r",
      "Least Squares Iteration:  12%|█▏        | 124/1000 [00:00<00:01, 666.56iter/s, Error=4.1949e-03]"
     ]
    },
    {
     "name": "stderr",
     "output_type": "stream",
     "text": [
      "\r",
      "Least Squares Iteration:  12%|█▎        | 125/1000 [00:00<00:01, 666.56iter/s, Error=4.1725e-03]"
     ]
    },
    {
     "name": "stderr",
     "output_type": "stream",
     "text": [
      "\r",
      "Least Squares Iteration:  13%|█▎        | 126/1000 [00:00<00:01, 666.56iter/s, Error=4.1503e-03]"
     ]
    },
    {
     "name": "stderr",
     "output_type": "stream",
     "text": [
      "\r",
      "Least Squares Iteration:  13%|█▎        | 127/1000 [00:00<00:01, 666.56iter/s, Error=4.1284e-03]"
     ]
    },
    {
     "name": "stderr",
     "output_type": "stream",
     "text": [
      "\r",
      "Least Squares Iteration:  13%|█▎        | 128/1000 [00:00<00:01, 666.56iter/s, Error=4.1067e-03]"
     ]
    },
    {
     "name": "stderr",
     "output_type": "stream",
     "text": [
      "\r",
      "Least Squares Iteration:  13%|█▎        | 129/1000 [00:00<00:01, 666.56iter/s, Error=4.0853e-03]"
     ]
    },
    {
     "name": "stderr",
     "output_type": "stream",
     "text": [
      "\r",
      "Least Squares Iteration:  13%|█▎        | 130/1000 [00:00<00:01, 666.56iter/s, Error=4.0641e-03]"
     ]
    },
    {
     "name": "stderr",
     "output_type": "stream",
     "text": [
      "\r",
      "Least Squares Iteration:  13%|█▎        | 131/1000 [00:00<00:01, 666.56iter/s, Error=4.0432e-03]"
     ]
    },
    {
     "name": "stderr",
     "output_type": "stream",
     "text": [
      "\r",
      "Least Squares Iteration:  13%|█▎        | 132/1000 [00:00<00:01, 666.56iter/s, Error=4.0225e-03]"
     ]
    },
    {
     "name": "stderr",
     "output_type": "stream",
     "text": [
      "\r",
      "Least Squares Iteration:  13%|█▎        | 133/1000 [00:00<00:01, 666.56iter/s, Error=4.0021e-03]"
     ]
    },
    {
     "name": "stderr",
     "output_type": "stream",
     "text": [
      "\r",
      "Least Squares Iteration:  13%|█▎        | 134/1000 [00:00<00:01, 602.95iter/s, Error=4.0021e-03]"
     ]
    },
    {
     "name": "stderr",
     "output_type": "stream",
     "text": [
      "\r",
      "Least Squares Iteration:  13%|█▎        | 134/1000 [00:00<00:01, 602.95iter/s, Error=3.9818e-03]"
     ]
    },
    {
     "name": "stderr",
     "output_type": "stream",
     "text": [
      "\r",
      "Least Squares Iteration:  14%|█▎        | 135/1000 [00:00<00:01, 602.95iter/s, Error=3.9618e-03]"
     ]
    },
    {
     "name": "stderr",
     "output_type": "stream",
     "text": [
      "\r",
      "Least Squares Iteration:  14%|█▎        | 136/1000 [00:00<00:01, 602.95iter/s, Error=3.9420e-03]"
     ]
    },
    {
     "name": "stderr",
     "output_type": "stream",
     "text": [
      "\r",
      "Least Squares Iteration:  14%|█▎        | 137/1000 [00:00<00:01, 602.95iter/s, Error=3.9225e-03]"
     ]
    },
    {
     "name": "stderr",
     "output_type": "stream",
     "text": [
      "\r",
      "Least Squares Iteration:  14%|█▍        | 138/1000 [00:00<00:01, 602.95iter/s, Error=3.9031e-03]"
     ]
    },
    {
     "name": "stderr",
     "output_type": "stream",
     "text": [
      "\r",
      "Least Squares Iteration:  14%|█▍        | 139/1000 [00:00<00:01, 602.95iter/s, Error=3.8839e-03]"
     ]
    },
    {
     "name": "stderr",
     "output_type": "stream",
     "text": [
      "\r",
      "Least Squares Iteration:  14%|█▍        | 140/1000 [00:00<00:01, 602.95iter/s, Error=3.8650e-03]"
     ]
    },
    {
     "name": "stderr",
     "output_type": "stream",
     "text": [
      "\r",
      "Least Squares Iteration:  14%|█▍        | 141/1000 [00:00<00:01, 602.95iter/s, Error=3.8462e-03]"
     ]
    },
    {
     "name": "stderr",
     "output_type": "stream",
     "text": [
      "\r",
      "Least Squares Iteration:  14%|█▍        | 142/1000 [00:00<00:01, 602.95iter/s, Error=3.8277e-03]"
     ]
    },
    {
     "name": "stderr",
     "output_type": "stream",
     "text": [
      "\r",
      "Least Squares Iteration:  14%|█▍        | 143/1000 [00:00<00:01, 602.95iter/s, Error=3.8093e-03]"
     ]
    },
    {
     "name": "stderr",
     "output_type": "stream",
     "text": [
      "\r",
      "Least Squares Iteration:  14%|█▍        | 144/1000 [00:00<00:01, 602.95iter/s, Error=3.7911e-03]"
     ]
    },
    {
     "name": "stderr",
     "output_type": "stream",
     "text": [
      "\r",
      "Least Squares Iteration:  14%|█▍        | 145/1000 [00:00<00:01, 602.95iter/s, Error=3.7731e-03]"
     ]
    },
    {
     "name": "stderr",
     "output_type": "stream",
     "text": [
      "\r",
      "Least Squares Iteration:  15%|█▍        | 146/1000 [00:00<00:01, 602.95iter/s, Error=3.7553e-03]"
     ]
    },
    {
     "name": "stderr",
     "output_type": "stream",
     "text": [
      "\r",
      "Least Squares Iteration:  15%|█▍        | 147/1000 [00:00<00:01, 602.95iter/s, Error=3.7376e-03]"
     ]
    },
    {
     "name": "stderr",
     "output_type": "stream",
     "text": [
      "\r",
      "Least Squares Iteration:  15%|█▍        | 148/1000 [00:00<00:01, 602.95iter/s, Error=3.7202e-03]"
     ]
    },
    {
     "name": "stderr",
     "output_type": "stream",
     "text": [
      "\r",
      "Least Squares Iteration:  15%|█▍        | 149/1000 [00:00<00:01, 602.95iter/s, Error=3.7028e-03]"
     ]
    },
    {
     "name": "stderr",
     "output_type": "stream",
     "text": [
      "\r",
      "Least Squares Iteration:  15%|█▌        | 150/1000 [00:00<00:01, 602.95iter/s, Error=3.6857e-03]"
     ]
    },
    {
     "name": "stderr",
     "output_type": "stream",
     "text": [
      "\r",
      "Least Squares Iteration:  15%|█▌        | 151/1000 [00:00<00:01, 602.95iter/s, Error=3.6687e-03]"
     ]
    },
    {
     "name": "stderr",
     "output_type": "stream",
     "text": [
      "\r",
      "Least Squares Iteration:  15%|█▌        | 152/1000 [00:00<00:01, 602.95iter/s, Error=3.6519e-03]"
     ]
    },
    {
     "name": "stderr",
     "output_type": "stream",
     "text": [
      "\r",
      "Least Squares Iteration:  15%|█▌        | 153/1000 [00:00<00:01, 602.95iter/s, Error=3.6353e-03]"
     ]
    },
    {
     "name": "stderr",
     "output_type": "stream",
     "text": [
      "\r",
      "Least Squares Iteration:  15%|█▌        | 154/1000 [00:00<00:01, 602.95iter/s, Error=3.6188e-03]"
     ]
    },
    {
     "name": "stderr",
     "output_type": "stream",
     "text": [
      "\r",
      "Least Squares Iteration:  16%|█▌        | 155/1000 [00:00<00:01, 602.95iter/s, Error=3.6025e-03]"
     ]
    },
    {
     "name": "stderr",
     "output_type": "stream",
     "text": [
      "\r",
      "Least Squares Iteration:  16%|█▌        | 156/1000 [00:00<00:01, 602.95iter/s, Error=3.5863e-03]"
     ]
    },
    {
     "name": "stderr",
     "output_type": "stream",
     "text": [
      "\r",
      "Least Squares Iteration:  16%|█▌        | 157/1000 [00:00<00:01, 602.95iter/s, Error=3.5703e-03]"
     ]
    },
    {
     "name": "stderr",
     "output_type": "stream",
     "text": [
      "\r",
      "Least Squares Iteration:  16%|█▌        | 158/1000 [00:00<00:01, 602.95iter/s, Error=3.5544e-03]"
     ]
    },
    {
     "name": "stderr",
     "output_type": "stream",
     "text": [
      "\r",
      "Least Squares Iteration:  16%|█▌        | 159/1000 [00:00<00:01, 602.95iter/s, Error=3.5387e-03]"
     ]
    },
    {
     "name": "stderr",
     "output_type": "stream",
     "text": [
      "\r",
      "Least Squares Iteration:  16%|█▌        | 160/1000 [00:00<00:01, 602.95iter/s, Error=3.5231e-03]"
     ]
    },
    {
     "name": "stderr",
     "output_type": "stream",
     "text": [
      "\r",
      "Least Squares Iteration:  16%|█▌        | 161/1000 [00:00<00:01, 602.95iter/s, Error=3.5076e-03]"
     ]
    },
    {
     "name": "stderr",
     "output_type": "stream",
     "text": [
      "\r",
      "Least Squares Iteration:  16%|█▌        | 162/1000 [00:00<00:01, 602.95iter/s, Error=3.4923e-03]"
     ]
    },
    {
     "name": "stderr",
     "output_type": "stream",
     "text": [
      "\r",
      "Least Squares Iteration:  16%|█▋        | 163/1000 [00:00<00:01, 602.95iter/s, Error=3.4772e-03]"
     ]
    },
    {
     "name": "stderr",
     "output_type": "stream",
     "text": [
      "\r",
      "Least Squares Iteration:  16%|█▋        | 164/1000 [00:00<00:01, 602.95iter/s, Error=3.4621e-03]"
     ]
    },
    {
     "name": "stderr",
     "output_type": "stream",
     "text": [
      "\r",
      "Least Squares Iteration:  16%|█▋        | 165/1000 [00:00<00:01, 602.95iter/s, Error=3.4472e-03]"
     ]
    },
    {
     "name": "stderr",
     "output_type": "stream",
     "text": [
      "\r",
      "Least Squares Iteration:  17%|█▋        | 166/1000 [00:00<00:01, 602.95iter/s, Error=3.4325e-03]"
     ]
    },
    {
     "name": "stderr",
     "output_type": "stream",
     "text": [
      "\r",
      "Least Squares Iteration:  17%|█▋        | 167/1000 [00:00<00:01, 602.95iter/s, Error=3.4179e-03]"
     ]
    },
    {
     "name": "stderr",
     "output_type": "stream",
     "text": [
      "\r",
      "Least Squares Iteration:  17%|█▋        | 168/1000 [00:00<00:01, 602.95iter/s, Error=3.4034e-03]"
     ]
    },
    {
     "name": "stderr",
     "output_type": "stream",
     "text": [
      "\r",
      "Least Squares Iteration:  17%|█▋        | 169/1000 [00:00<00:01, 602.95iter/s, Error=3.3890e-03]"
     ]
    },
    {
     "name": "stderr",
     "output_type": "stream",
     "text": [
      "\r",
      "Least Squares Iteration:  17%|█▋        | 170/1000 [00:00<00:01, 602.95iter/s, Error=3.3747e-03]"
     ]
    },
    {
     "name": "stderr",
     "output_type": "stream",
     "text": [
      "\r",
      "Least Squares Iteration:  17%|█▋        | 171/1000 [00:00<00:01, 602.95iter/s, Error=3.3606e-03]"
     ]
    },
    {
     "name": "stderr",
     "output_type": "stream",
     "text": [
      "\r",
      "Least Squares Iteration:  17%|█▋        | 172/1000 [00:00<00:01, 602.95iter/s, Error=3.3466e-03]"
     ]
    },
    {
     "name": "stderr",
     "output_type": "stream",
     "text": [
      "\r",
      "Least Squares Iteration:  17%|█▋        | 173/1000 [00:00<00:01, 602.95iter/s, Error=3.3327e-03]"
     ]
    },
    {
     "name": "stderr",
     "output_type": "stream",
     "text": [
      "\r",
      "Least Squares Iteration:  17%|█▋        | 174/1000 [00:00<00:01, 602.95iter/s, Error=3.3190e-03]"
     ]
    },
    {
     "name": "stderr",
     "output_type": "stream",
     "text": [
      "\r",
      "Least Squares Iteration:  18%|█▊        | 175/1000 [00:00<00:01, 602.95iter/s, Error=3.3053e-03]"
     ]
    },
    {
     "name": "stderr",
     "output_type": "stream",
     "text": [
      "\r",
      "Least Squares Iteration:  18%|█▊        | 176/1000 [00:00<00:01, 602.95iter/s, Error=3.2918e-03]"
     ]
    },
    {
     "name": "stderr",
     "output_type": "stream",
     "text": [
      "\r",
      "Least Squares Iteration:  18%|█▊        | 177/1000 [00:00<00:01, 602.95iter/s, Error=3.2784e-03]"
     ]
    },
    {
     "name": "stderr",
     "output_type": "stream",
     "text": [
      "\r",
      "Least Squares Iteration:  18%|█▊        | 178/1000 [00:00<00:01, 602.95iter/s, Error=3.2651e-03]"
     ]
    },
    {
     "name": "stderr",
     "output_type": "stream",
     "text": [
      "\r",
      "Least Squares Iteration:  18%|█▊        | 179/1000 [00:00<00:01, 602.95iter/s, Error=3.2519e-03]"
     ]
    },
    {
     "name": "stderr",
     "output_type": "stream",
     "text": [
      "\r",
      "Least Squares Iteration:  18%|█▊        | 180/1000 [00:00<00:01, 602.95iter/s, Error=3.2388e-03]"
     ]
    },
    {
     "name": "stderr",
     "output_type": "stream",
     "text": [
      "\r",
      "Least Squares Iteration:  18%|█▊        | 181/1000 [00:00<00:01, 602.95iter/s, Error=3.2259e-03]"
     ]
    },
    {
     "name": "stderr",
     "output_type": "stream",
     "text": [
      "\r",
      "Least Squares Iteration:  18%|█▊        | 182/1000 [00:00<00:01, 602.95iter/s, Error=3.2130e-03]"
     ]
    },
    {
     "name": "stderr",
     "output_type": "stream",
     "text": [
      "\r",
      "Least Squares Iteration:  18%|█▊        | 183/1000 [00:00<00:01, 602.95iter/s, Error=3.2003e-03]"
     ]
    },
    {
     "name": "stderr",
     "output_type": "stream",
     "text": [
      "\r",
      "Least Squares Iteration:  18%|█▊        | 184/1000 [00:00<00:01, 602.95iter/s, Error=3.1876e-03]"
     ]
    },
    {
     "name": "stderr",
     "output_type": "stream",
     "text": [
      "\r",
      "Least Squares Iteration:  18%|█▊        | 185/1000 [00:00<00:01, 602.95iter/s, Error=3.1751e-03]"
     ]
    },
    {
     "name": "stderr",
     "output_type": "stream",
     "text": [
      "\r",
      "Least Squares Iteration:  19%|█▊        | 186/1000 [00:00<00:01, 602.95iter/s, Error=3.1626e-03]"
     ]
    },
    {
     "name": "stderr",
     "output_type": "stream",
     "text": [
      "\r",
      "Least Squares Iteration:  19%|█▊        | 187/1000 [00:00<00:01, 602.95iter/s, Error=3.1503e-03]"
     ]
    },
    {
     "name": "stderr",
     "output_type": "stream",
     "text": [
      "\r",
      "Least Squares Iteration:  19%|█▉        | 188/1000 [00:00<00:01, 602.95iter/s, Error=3.1381e-03]"
     ]
    },
    {
     "name": "stderr",
     "output_type": "stream",
     "text": [
      "\r",
      "Least Squares Iteration:  19%|█▉        | 189/1000 [00:00<00:01, 602.95iter/s, Error=3.1259e-03]"
     ]
    },
    {
     "name": "stderr",
     "output_type": "stream",
     "text": [
      "\r",
      "Least Squares Iteration:  19%|█▉        | 190/1000 [00:00<00:01, 602.95iter/s, Error=3.1139e-03]"
     ]
    },
    {
     "name": "stderr",
     "output_type": "stream",
     "text": [
      "\r",
      "Least Squares Iteration:  19%|█▉        | 191/1000 [00:00<00:01, 602.95iter/s, Error=3.1020e-03]"
     ]
    },
    {
     "name": "stderr",
     "output_type": "stream",
     "text": [
      "\r",
      "Least Squares Iteration:  19%|█▉        | 192/1000 [00:00<00:01, 602.95iter/s, Error=3.0901e-03]"
     ]
    },
    {
     "name": "stderr",
     "output_type": "stream",
     "text": [
      "\r",
      "Least Squares Iteration:  19%|█▉        | 193/1000 [00:00<00:01, 602.95iter/s, Error=3.0784e-03]"
     ]
    },
    {
     "name": "stderr",
     "output_type": "stream",
     "text": [
      "\r",
      "Least Squares Iteration:  19%|█▉        | 194/1000 [00:00<00:01, 602.95iter/s, Error=3.0667e-03]"
     ]
    },
    {
     "name": "stderr",
     "output_type": "stream",
     "text": [
      "\r",
      "Least Squares Iteration:  20%|█▉        | 195/1000 [00:00<00:01, 527.56iter/s, Error=3.0667e-03]"
     ]
    },
    {
     "name": "stderr",
     "output_type": "stream",
     "text": [
      "\r",
      "Least Squares Iteration:  20%|█▉        | 195/1000 [00:00<00:01, 527.56iter/s, Error=3.0552e-03]"
     ]
    },
    {
     "name": "stderr",
     "output_type": "stream",
     "text": [
      "\r",
      "Least Squares Iteration:  20%|█▉        | 196/1000 [00:00<00:01, 527.56iter/s, Error=3.0437e-03]"
     ]
    },
    {
     "name": "stderr",
     "output_type": "stream",
     "text": [
      "\r",
      "Least Squares Iteration:  20%|█▉        | 197/1000 [00:00<00:01, 527.56iter/s, Error=3.0324e-03]"
     ]
    },
    {
     "name": "stderr",
     "output_type": "stream",
     "text": [
      "\r",
      "Least Squares Iteration:  20%|█▉        | 198/1000 [00:00<00:01, 527.56iter/s, Error=3.0211e-03]"
     ]
    },
    {
     "name": "stderr",
     "output_type": "stream",
     "text": [
      "\r",
      "Least Squares Iteration:  20%|█▉        | 199/1000 [00:00<00:01, 527.56iter/s, Error=3.0099e-03]"
     ]
    },
    {
     "name": "stderr",
     "output_type": "stream",
     "text": [
      "\r",
      "Least Squares Iteration:  20%|██        | 200/1000 [00:00<00:01, 527.56iter/s, Error=2.9988e-03]"
     ]
    },
    {
     "name": "stderr",
     "output_type": "stream",
     "text": [
      "\r",
      "Least Squares Iteration:  20%|██        | 201/1000 [00:00<00:01, 527.56iter/s, Error=2.9878e-03]"
     ]
    },
    {
     "name": "stderr",
     "output_type": "stream",
     "text": [
      "\r",
      "Least Squares Iteration:  20%|██        | 202/1000 [00:00<00:01, 527.56iter/s, Error=2.9768e-03]"
     ]
    },
    {
     "name": "stderr",
     "output_type": "stream",
     "text": [
      "\r",
      "Least Squares Iteration:  20%|██        | 203/1000 [00:00<00:01, 527.56iter/s, Error=2.9660e-03]"
     ]
    },
    {
     "name": "stderr",
     "output_type": "stream",
     "text": [
      "\r",
      "Least Squares Iteration:  20%|██        | 204/1000 [00:00<00:01, 527.56iter/s, Error=2.9553e-03]"
     ]
    },
    {
     "name": "stderr",
     "output_type": "stream",
     "text": [
      "\r",
      "Least Squares Iteration:  20%|██        | 205/1000 [00:00<00:01, 527.56iter/s, Error=2.9446e-03]"
     ]
    },
    {
     "name": "stderr",
     "output_type": "stream",
     "text": [
      "\r",
      "Least Squares Iteration:  21%|██        | 206/1000 [00:00<00:01, 527.56iter/s, Error=2.9340e-03]"
     ]
    },
    {
     "name": "stderr",
     "output_type": "stream",
     "text": [
      "\r",
      "Least Squares Iteration:  21%|██        | 207/1000 [00:00<00:01, 527.56iter/s, Error=2.9235e-03]"
     ]
    },
    {
     "name": "stderr",
     "output_type": "stream",
     "text": [
      "\r",
      "Least Squares Iteration:  21%|██        | 208/1000 [00:00<00:01, 527.56iter/s, Error=2.9131e-03]"
     ]
    },
    {
     "name": "stderr",
     "output_type": "stream",
     "text": [
      "\r",
      "Least Squares Iteration:  21%|██        | 209/1000 [00:00<00:01, 527.56iter/s, Error=2.9027e-03]"
     ]
    },
    {
     "name": "stderr",
     "output_type": "stream",
     "text": [
      "\r",
      "Least Squares Iteration:  21%|██        | 210/1000 [00:00<00:01, 527.56iter/s, Error=2.8925e-03]"
     ]
    },
    {
     "name": "stderr",
     "output_type": "stream",
     "text": [
      "\r",
      "Least Squares Iteration:  21%|██        | 211/1000 [00:00<00:01, 527.56iter/s, Error=2.8823e-03]"
     ]
    },
    {
     "name": "stderr",
     "output_type": "stream",
     "text": [
      "\r",
      "Least Squares Iteration:  21%|██        | 212/1000 [00:00<00:01, 527.56iter/s, Error=2.8722e-03]"
     ]
    },
    {
     "name": "stderr",
     "output_type": "stream",
     "text": [
      "\r",
      "Least Squares Iteration:  21%|██▏       | 213/1000 [00:00<00:01, 527.56iter/s, Error=2.8622e-03]"
     ]
    },
    {
     "name": "stderr",
     "output_type": "stream",
     "text": [
      "\r",
      "Least Squares Iteration:  21%|██▏       | 214/1000 [00:00<00:01, 527.56iter/s, Error=2.8522e-03]"
     ]
    },
    {
     "name": "stderr",
     "output_type": "stream",
     "text": [
      "\r",
      "Least Squares Iteration:  22%|██▏       | 215/1000 [00:00<00:01, 527.56iter/s, Error=2.8423e-03]"
     ]
    },
    {
     "name": "stderr",
     "output_type": "stream",
     "text": [
      "\r",
      "Least Squares Iteration:  22%|██▏       | 216/1000 [00:00<00:01, 527.56iter/s, Error=2.8325e-03]"
     ]
    },
    {
     "name": "stderr",
     "output_type": "stream",
     "text": [
      "\r",
      "Least Squares Iteration:  22%|██▏       | 217/1000 [00:00<00:01, 527.56iter/s, Error=2.8228e-03]"
     ]
    },
    {
     "name": "stderr",
     "output_type": "stream",
     "text": [
      "\r",
      "Least Squares Iteration:  22%|██▏       | 218/1000 [00:00<00:01, 527.56iter/s, Error=2.8132e-03]"
     ]
    },
    {
     "name": "stderr",
     "output_type": "stream",
     "text": [
      "\r",
      "Least Squares Iteration:  22%|██▏       | 219/1000 [00:00<00:01, 527.56iter/s, Error=2.8036e-03]"
     ]
    },
    {
     "name": "stderr",
     "output_type": "stream",
     "text": [
      "\r",
      "Least Squares Iteration:  22%|██▏       | 220/1000 [00:00<00:01, 527.56iter/s, Error=2.7941e-03]"
     ]
    },
    {
     "name": "stderr",
     "output_type": "stream",
     "text": [
      "\r",
      "Least Squares Iteration:  22%|██▏       | 221/1000 [00:00<00:01, 527.56iter/s, Error=2.7847e-03]"
     ]
    },
    {
     "name": "stderr",
     "output_type": "stream",
     "text": [
      "\r",
      "Least Squares Iteration:  22%|██▏       | 222/1000 [00:00<00:01, 527.56iter/s, Error=2.7753e-03]"
     ]
    },
    {
     "name": "stderr",
     "output_type": "stream",
     "text": [
      "\r",
      "Least Squares Iteration:  22%|██▏       | 223/1000 [00:00<00:01, 527.56iter/s, Error=2.7660e-03]"
     ]
    },
    {
     "name": "stderr",
     "output_type": "stream",
     "text": [
      "\r",
      "Least Squares Iteration:  22%|██▏       | 224/1000 [00:00<00:01, 527.56iter/s, Error=2.7568e-03]"
     ]
    },
    {
     "name": "stderr",
     "output_type": "stream",
     "text": [
      "\r",
      "Least Squares Iteration:  22%|██▎       | 225/1000 [00:00<00:01, 527.56iter/s, Error=2.7477e-03]"
     ]
    },
    {
     "name": "stderr",
     "output_type": "stream",
     "text": [
      "\r",
      "Least Squares Iteration:  23%|██▎       | 226/1000 [00:00<00:01, 527.56iter/s, Error=2.7386e-03]"
     ]
    },
    {
     "name": "stderr",
     "output_type": "stream",
     "text": [
      "\r",
      "Least Squares Iteration:  23%|██▎       | 227/1000 [00:00<00:01, 527.56iter/s, Error=2.7296e-03]"
     ]
    },
    {
     "name": "stderr",
     "output_type": "stream",
     "text": [
      "\r",
      "Least Squares Iteration:  23%|██▎       | 228/1000 [00:00<00:01, 527.56iter/s, Error=2.7206e-03]"
     ]
    },
    {
     "name": "stderr",
     "output_type": "stream",
     "text": [
      "\r",
      "Least Squares Iteration:  23%|██▎       | 229/1000 [00:00<00:01, 527.56iter/s, Error=2.7117e-03]"
     ]
    },
    {
     "name": "stderr",
     "output_type": "stream",
     "text": [
      "\r",
      "Least Squares Iteration:  23%|██▎       | 230/1000 [00:00<00:01, 527.56iter/s, Error=2.7029e-03]"
     ]
    },
    {
     "name": "stderr",
     "output_type": "stream",
     "text": [
      "\r",
      "Least Squares Iteration:  23%|██▎       | 231/1000 [00:00<00:01, 527.56iter/s, Error=2.6942e-03]"
     ]
    },
    {
     "name": "stderr",
     "output_type": "stream",
     "text": [
      "\r",
      "Least Squares Iteration:  23%|██▎       | 232/1000 [00:00<00:01, 527.56iter/s, Error=2.6855e-03]"
     ]
    },
    {
     "name": "stderr",
     "output_type": "stream",
     "text": [
      "\r",
      "Least Squares Iteration:  23%|██▎       | 233/1000 [00:00<00:01, 527.56iter/s, Error=2.6769e-03]"
     ]
    },
    {
     "name": "stderr",
     "output_type": "stream",
     "text": [
      "\r",
      "Least Squares Iteration:  23%|██▎       | 234/1000 [00:00<00:01, 527.56iter/s, Error=2.6683e-03]"
     ]
    },
    {
     "name": "stderr",
     "output_type": "stream",
     "text": [
      "\r",
      "Least Squares Iteration:  24%|██▎       | 235/1000 [00:00<00:01, 527.56iter/s, Error=2.6598e-03]"
     ]
    },
    {
     "name": "stderr",
     "output_type": "stream",
     "text": [
      "\r",
      "Least Squares Iteration:  24%|██▎       | 236/1000 [00:00<00:01, 527.56iter/s, Error=2.6514e-03]"
     ]
    },
    {
     "name": "stderr",
     "output_type": "stream",
     "text": [
      "\r",
      "Least Squares Iteration:  24%|██▎       | 237/1000 [00:00<00:01, 527.56iter/s, Error=2.6430e-03]"
     ]
    },
    {
     "name": "stderr",
     "output_type": "stream",
     "text": [
      "\r",
      "Least Squares Iteration:  24%|██▍       | 238/1000 [00:00<00:01, 527.56iter/s, Error=2.6347e-03]"
     ]
    },
    {
     "name": "stderr",
     "output_type": "stream",
     "text": [
      "\r",
      "Least Squares Iteration:  24%|██▍       | 239/1000 [00:00<00:01, 527.56iter/s, Error=2.6265e-03]"
     ]
    },
    {
     "name": "stderr",
     "output_type": "stream",
     "text": [
      "\r",
      "Least Squares Iteration:  24%|██▍       | 240/1000 [00:00<00:01, 527.56iter/s, Error=2.6183e-03]"
     ]
    },
    {
     "name": "stderr",
     "output_type": "stream",
     "text": [
      "\r",
      "Least Squares Iteration:  24%|██▍       | 241/1000 [00:00<00:01, 527.56iter/s, Error=2.6101e-03]"
     ]
    },
    {
     "name": "stderr",
     "output_type": "stream",
     "text": [
      "\r",
      "Least Squares Iteration:  24%|██▍       | 242/1000 [00:00<00:01, 527.56iter/s, Error=2.6021e-03]"
     ]
    },
    {
     "name": "stderr",
     "output_type": "stream",
     "text": [
      "\r",
      "Least Squares Iteration:  24%|██▍       | 243/1000 [00:00<00:01, 527.56iter/s, Error=2.5941e-03]"
     ]
    },
    {
     "name": "stderr",
     "output_type": "stream",
     "text": [
      "\r",
      "Least Squares Iteration:  24%|██▍       | 244/1000 [00:00<00:01, 527.56iter/s, Error=2.5861e-03]"
     ]
    },
    {
     "name": "stderr",
     "output_type": "stream",
     "text": [
      "\r",
      "Least Squares Iteration:  24%|██▍       | 245/1000 [00:00<00:01, 527.56iter/s, Error=2.5782e-03]"
     ]
    },
    {
     "name": "stderr",
     "output_type": "stream",
     "text": [
      "\r",
      "Least Squares Iteration:  25%|██▍       | 246/1000 [00:00<00:01, 527.56iter/s, Error=2.5704e-03]"
     ]
    },
    {
     "name": "stderr",
     "output_type": "stream",
     "text": [
      "\r",
      "Least Squares Iteration:  25%|██▍       | 247/1000 [00:00<00:01, 527.56iter/s, Error=2.5626e-03]"
     ]
    },
    {
     "name": "stderr",
     "output_type": "stream",
     "text": [
      "\r",
      "Least Squares Iteration:  25%|██▍       | 248/1000 [00:00<00:01, 527.56iter/s, Error=2.5549e-03]"
     ]
    },
    {
     "name": "stderr",
     "output_type": "stream",
     "text": [
      "\r",
      "Least Squares Iteration:  25%|██▍       | 249/1000 [00:00<00:01, 451.51iter/s, Error=2.5549e-03]"
     ]
    },
    {
     "name": "stderr",
     "output_type": "stream",
     "text": [
      "\r",
      "Least Squares Iteration:  25%|██▍       | 249/1000 [00:00<00:01, 451.51iter/s, Error=2.5472e-03]"
     ]
    },
    {
     "name": "stderr",
     "output_type": "stream",
     "text": [
      "\r",
      "Least Squares Iteration:  25%|██▌       | 250/1000 [00:00<00:01, 451.51iter/s, Error=2.5396e-03]"
     ]
    },
    {
     "name": "stderr",
     "output_type": "stream",
     "text": [
      "\r",
      "Least Squares Iteration:  25%|██▌       | 251/1000 [00:00<00:01, 451.51iter/s, Error=2.5320e-03]"
     ]
    },
    {
     "name": "stderr",
     "output_type": "stream",
     "text": [
      "\r",
      "Least Squares Iteration:  25%|██▌       | 252/1000 [00:00<00:01, 451.51iter/s, Error=2.5245e-03]"
     ]
    },
    {
     "name": "stderr",
     "output_type": "stream",
     "text": [
      "\r",
      "Least Squares Iteration:  25%|██▌       | 253/1000 [00:00<00:01, 451.51iter/s, Error=2.5170e-03]"
     ]
    },
    {
     "name": "stderr",
     "output_type": "stream",
     "text": [
      "\r",
      "Least Squares Iteration:  25%|██▌       | 254/1000 [00:00<00:01, 451.51iter/s, Error=2.5096e-03]"
     ]
    },
    {
     "name": "stderr",
     "output_type": "stream",
     "text": [
      "\r",
      "Least Squares Iteration:  26%|██▌       | 255/1000 [00:00<00:01, 451.51iter/s, Error=2.5023e-03]"
     ]
    },
    {
     "name": "stderr",
     "output_type": "stream",
     "text": [
      "\r",
      "Least Squares Iteration:  26%|██▌       | 256/1000 [00:00<00:01, 451.51iter/s, Error=2.4950e-03]"
     ]
    },
    {
     "name": "stderr",
     "output_type": "stream",
     "text": [
      "\r",
      "Least Squares Iteration:  26%|██▌       | 257/1000 [00:00<00:01, 451.51iter/s, Error=2.4877e-03]"
     ]
    },
    {
     "name": "stderr",
     "output_type": "stream",
     "text": [
      "\r",
      "Least Squares Iteration:  26%|██▌       | 258/1000 [00:00<00:01, 451.51iter/s, Error=2.4805e-03]"
     ]
    },
    {
     "name": "stderr",
     "output_type": "stream",
     "text": [
      "\r",
      "Least Squares Iteration:  26%|██▌       | 259/1000 [00:00<00:01, 451.51iter/s, Error=2.4734e-03]"
     ]
    },
    {
     "name": "stderr",
     "output_type": "stream",
     "text": [
      "\r",
      "Least Squares Iteration:  26%|██▌       | 260/1000 [00:00<00:01, 451.51iter/s, Error=2.4663e-03]"
     ]
    },
    {
     "name": "stderr",
     "output_type": "stream",
     "text": [
      "\r",
      "Least Squares Iteration:  26%|██▌       | 261/1000 [00:00<00:01, 451.51iter/s, Error=2.4592e-03]"
     ]
    },
    {
     "name": "stderr",
     "output_type": "stream",
     "text": [
      "\r",
      "Least Squares Iteration:  26%|██▌       | 262/1000 [00:00<00:01, 451.51iter/s, Error=2.4522e-03]"
     ]
    },
    {
     "name": "stderr",
     "output_type": "stream",
     "text": [
      "\r",
      "Least Squares Iteration:  26%|██▋       | 263/1000 [00:00<00:01, 451.51iter/s, Error=2.4453e-03]"
     ]
    },
    {
     "name": "stderr",
     "output_type": "stream",
     "text": [
      "\r",
      "Least Squares Iteration:  26%|██▋       | 264/1000 [00:00<00:01, 451.51iter/s, Error=2.4384e-03]"
     ]
    },
    {
     "name": "stderr",
     "output_type": "stream",
     "text": [
      "\r",
      "Least Squares Iteration:  26%|██▋       | 265/1000 [00:00<00:01, 451.51iter/s, Error=2.4315e-03]"
     ]
    },
    {
     "name": "stderr",
     "output_type": "stream",
     "text": [
      "\r",
      "Least Squares Iteration:  27%|██▋       | 266/1000 [00:00<00:01, 451.51iter/s, Error=2.4247e-03]"
     ]
    },
    {
     "name": "stderr",
     "output_type": "stream",
     "text": [
      "\r",
      "Least Squares Iteration:  27%|██▋       | 267/1000 [00:00<00:01, 451.51iter/s, Error=2.4179e-03]"
     ]
    },
    {
     "name": "stderr",
     "output_type": "stream",
     "text": [
      "\r",
      "Least Squares Iteration:  27%|██▋       | 268/1000 [00:00<00:01, 451.51iter/s, Error=2.4112e-03]"
     ]
    },
    {
     "name": "stderr",
     "output_type": "stream",
     "text": [
      "\r",
      "Least Squares Iteration:  27%|██▋       | 269/1000 [00:00<00:01, 451.51iter/s, Error=2.4046e-03]"
     ]
    },
    {
     "name": "stderr",
     "output_type": "stream",
     "text": [
      "\r",
      "Least Squares Iteration:  27%|██▋       | 270/1000 [00:00<00:01, 451.51iter/s, Error=2.3979e-03]"
     ]
    },
    {
     "name": "stderr",
     "output_type": "stream",
     "text": [
      "\r",
      "Least Squares Iteration:  27%|██▋       | 271/1000 [00:00<00:01, 451.51iter/s, Error=2.3913e-03]"
     ]
    },
    {
     "name": "stderr",
     "output_type": "stream",
     "text": [
      "\r",
      "Least Squares Iteration:  27%|██▋       | 272/1000 [00:00<00:01, 451.51iter/s, Error=2.3848e-03]"
     ]
    },
    {
     "name": "stderr",
     "output_type": "stream",
     "text": [
      "\r",
      "Least Squares Iteration:  27%|██▋       | 273/1000 [00:00<00:01, 451.51iter/s, Error=2.3783e-03]"
     ]
    },
    {
     "name": "stderr",
     "output_type": "stream",
     "text": [
      "\r",
      "Least Squares Iteration:  27%|██▋       | 274/1000 [00:00<00:01, 451.51iter/s, Error=2.3719e-03]"
     ]
    },
    {
     "name": "stderr",
     "output_type": "stream",
     "text": [
      "\r",
      "Least Squares Iteration:  28%|██▊       | 275/1000 [00:00<00:01, 451.51iter/s, Error=2.3655e-03]"
     ]
    },
    {
     "name": "stderr",
     "output_type": "stream",
     "text": [
      "\r",
      "Least Squares Iteration:  28%|██▊       | 276/1000 [00:00<00:01, 451.51iter/s, Error=2.3591e-03]"
     ]
    },
    {
     "name": "stderr",
     "output_type": "stream",
     "text": [
      "\r",
      "Least Squares Iteration:  28%|██▊       | 277/1000 [00:00<00:01, 451.51iter/s, Error=2.3528e-03]"
     ]
    },
    {
     "name": "stderr",
     "output_type": "stream",
     "text": [
      "\r",
      "Least Squares Iteration:  28%|██▊       | 278/1000 [00:00<00:01, 451.51iter/s, Error=2.3465e-03]"
     ]
    },
    {
     "name": "stderr",
     "output_type": "stream",
     "text": [
      "\r",
      "Least Squares Iteration:  28%|██▊       | 279/1000 [00:00<00:01, 451.51iter/s, Error=2.3403e-03]"
     ]
    },
    {
     "name": "stderr",
     "output_type": "stream",
     "text": [
      "\r",
      "Least Squares Iteration:  28%|██▊       | 280/1000 [00:00<00:01, 451.51iter/s, Error=2.3341e-03]"
     ]
    },
    {
     "name": "stderr",
     "output_type": "stream",
     "text": [
      "\r",
      "Least Squares Iteration:  28%|██▊       | 281/1000 [00:00<00:01, 451.51iter/s, Error=2.3279e-03]"
     ]
    },
    {
     "name": "stderr",
     "output_type": "stream",
     "text": [
      "\r",
      "Least Squares Iteration:  28%|██▊       | 282/1000 [00:00<00:01, 451.51iter/s, Error=2.3218e-03]"
     ]
    },
    {
     "name": "stderr",
     "output_type": "stream",
     "text": [
      "\r",
      "Least Squares Iteration:  28%|██▊       | 283/1000 [00:00<00:01, 451.51iter/s, Error=2.3157e-03]"
     ]
    },
    {
     "name": "stderr",
     "output_type": "stream",
     "text": [
      "\r",
      "Least Squares Iteration:  28%|██▊       | 284/1000 [00:00<00:01, 451.51iter/s, Error=2.3097e-03]"
     ]
    },
    {
     "name": "stderr",
     "output_type": "stream",
     "text": [
      "\r",
      "Least Squares Iteration:  28%|██▊       | 285/1000 [00:00<00:01, 451.51iter/s, Error=2.3037e-03]"
     ]
    },
    {
     "name": "stderr",
     "output_type": "stream",
     "text": [
      "\r",
      "Least Squares Iteration:  29%|██▊       | 286/1000 [00:00<00:01, 451.51iter/s, Error=2.2978e-03]"
     ]
    },
    {
     "name": "stderr",
     "output_type": "stream",
     "text": [
      "\r",
      "Least Squares Iteration:  29%|██▊       | 287/1000 [00:00<00:01, 451.51iter/s, Error=2.2919e-03]"
     ]
    },
    {
     "name": "stderr",
     "output_type": "stream",
     "text": [
      "\r",
      "Least Squares Iteration:  29%|██▉       | 288/1000 [00:00<00:01, 451.51iter/s, Error=2.2860e-03]"
     ]
    },
    {
     "name": "stderr",
     "output_type": "stream",
     "text": [
      "\r",
      "Least Squares Iteration:  29%|██▉       | 289/1000 [00:00<00:01, 451.51iter/s, Error=2.2802e-03]"
     ]
    },
    {
     "name": "stderr",
     "output_type": "stream",
     "text": [
      "\r",
      "Least Squares Iteration:  29%|██▉       | 290/1000 [00:00<00:01, 451.51iter/s, Error=2.2744e-03]"
     ]
    },
    {
     "name": "stderr",
     "output_type": "stream",
     "text": [
      "\r",
      "Least Squares Iteration:  29%|██▉       | 291/1000 [00:00<00:01, 451.51iter/s, Error=2.2686e-03]"
     ]
    },
    {
     "name": "stderr",
     "output_type": "stream",
     "text": [
      "\r",
      "Least Squares Iteration:  29%|██▉       | 292/1000 [00:00<00:01, 451.51iter/s, Error=2.2629e-03]"
     ]
    },
    {
     "name": "stderr",
     "output_type": "stream",
     "text": [
      "\r",
      "Least Squares Iteration:  29%|██▉       | 293/1000 [00:00<00:01, 451.51iter/s, Error=2.2572e-03]"
     ]
    },
    {
     "name": "stderr",
     "output_type": "stream",
     "text": [
      "\r",
      "Least Squares Iteration:  29%|██▉       | 294/1000 [00:00<00:01, 451.51iter/s, Error=2.2515e-03]"
     ]
    },
    {
     "name": "stderr",
     "output_type": "stream",
     "text": [
      "\r",
      "Least Squares Iteration:  30%|██▉       | 295/1000 [00:00<00:01, 451.51iter/s, Error=2.2459e-03]"
     ]
    },
    {
     "name": "stderr",
     "output_type": "stream",
     "text": [
      "\r",
      "Least Squares Iteration:  30%|██▉       | 296/1000 [00:00<00:01, 406.80iter/s, Error=2.2459e-03]"
     ]
    },
    {
     "name": "stderr",
     "output_type": "stream",
     "text": [
      "\r",
      "Least Squares Iteration:  30%|██▉       | 296/1000 [00:00<00:01, 406.80iter/s, Error=2.2404e-03]"
     ]
    },
    {
     "name": "stderr",
     "output_type": "stream",
     "text": [
      "\r",
      "Least Squares Iteration:  30%|██▉       | 297/1000 [00:00<00:01, 406.80iter/s, Error=2.2348e-03]"
     ]
    },
    {
     "name": "stderr",
     "output_type": "stream",
     "text": [
      "\r",
      "Least Squares Iteration:  30%|██▉       | 298/1000 [00:00<00:01, 406.80iter/s, Error=2.2293e-03]"
     ]
    },
    {
     "name": "stderr",
     "output_type": "stream",
     "text": [
      "\r",
      "Least Squares Iteration:  30%|██▉       | 299/1000 [00:00<00:01, 406.80iter/s, Error=2.2238e-03]"
     ]
    },
    {
     "name": "stderr",
     "output_type": "stream",
     "text": [
      "\r",
      "Least Squares Iteration:  30%|███       | 300/1000 [00:00<00:01, 406.80iter/s, Error=2.2184e-03]"
     ]
    },
    {
     "name": "stderr",
     "output_type": "stream",
     "text": [
      "\r",
      "Least Squares Iteration:  30%|███       | 301/1000 [00:00<00:01, 406.80iter/s, Error=2.2130e-03]"
     ]
    },
    {
     "name": "stderr",
     "output_type": "stream",
     "text": [
      "\r",
      "Least Squares Iteration:  30%|███       | 302/1000 [00:00<00:01, 406.80iter/s, Error=2.2076e-03]"
     ]
    },
    {
     "name": "stderr",
     "output_type": "stream",
     "text": [
      "\r",
      "Least Squares Iteration:  30%|███       | 303/1000 [00:00<00:01, 406.80iter/s, Error=2.2023e-03]"
     ]
    },
    {
     "name": "stderr",
     "output_type": "stream",
     "text": [
      "\r",
      "Least Squares Iteration:  30%|███       | 304/1000 [00:00<00:01, 406.80iter/s, Error=2.1970e-03]"
     ]
    },
    {
     "name": "stderr",
     "output_type": "stream",
     "text": [
      "\r",
      "Least Squares Iteration:  30%|███       | 305/1000 [00:00<00:01, 406.80iter/s, Error=2.1917e-03]"
     ]
    },
    {
     "name": "stderr",
     "output_type": "stream",
     "text": [
      "\r",
      "Least Squares Iteration:  31%|███       | 306/1000 [00:00<00:01, 406.80iter/s, Error=2.1865e-03]"
     ]
    },
    {
     "name": "stderr",
     "output_type": "stream",
     "text": [
      "\r",
      "Least Squares Iteration:  31%|███       | 307/1000 [00:00<00:01, 406.80iter/s, Error=2.1813e-03]"
     ]
    },
    {
     "name": "stderr",
     "output_type": "stream",
     "text": [
      "\r",
      "Least Squares Iteration:  31%|███       | 308/1000 [00:00<00:01, 406.80iter/s, Error=2.1761e-03]"
     ]
    },
    {
     "name": "stderr",
     "output_type": "stream",
     "text": [
      "\r",
      "Least Squares Iteration:  31%|███       | 309/1000 [00:00<00:01, 406.80iter/s, Error=2.1710e-03]"
     ]
    },
    {
     "name": "stderr",
     "output_type": "stream",
     "text": [
      "\r",
      "Least Squares Iteration:  31%|███       | 310/1000 [00:00<00:01, 406.80iter/s, Error=2.1659e-03]"
     ]
    },
    {
     "name": "stderr",
     "output_type": "stream",
     "text": [
      "\r",
      "Least Squares Iteration:  31%|███       | 311/1000 [00:00<00:01, 406.80iter/s, Error=2.1608e-03]"
     ]
    },
    {
     "name": "stderr",
     "output_type": "stream",
     "text": [
      "\r",
      "Least Squares Iteration:  31%|███       | 312/1000 [00:00<00:01, 406.80iter/s, Error=2.1558e-03]"
     ]
    },
    {
     "name": "stderr",
     "output_type": "stream",
     "text": [
      "\r",
      "Least Squares Iteration:  31%|███▏      | 313/1000 [00:00<00:01, 406.80iter/s, Error=2.1508e-03]"
     ]
    },
    {
     "name": "stderr",
     "output_type": "stream",
     "text": [
      "\r",
      "Least Squares Iteration:  31%|███▏      | 314/1000 [00:00<00:01, 406.80iter/s, Error=2.1458e-03]"
     ]
    },
    {
     "name": "stderr",
     "output_type": "stream",
     "text": [
      "\r",
      "Least Squares Iteration:  32%|███▏      | 315/1000 [00:00<00:01, 406.80iter/s, Error=2.1408e-03]"
     ]
    },
    {
     "name": "stderr",
     "output_type": "stream",
     "text": [
      "\r",
      "Least Squares Iteration:  32%|███▏      | 316/1000 [00:00<00:01, 406.80iter/s, Error=2.1359e-03]"
     ]
    },
    {
     "name": "stderr",
     "output_type": "stream",
     "text": [
      "\r",
      "Least Squares Iteration:  32%|███▏      | 317/1000 [00:00<00:01, 406.80iter/s, Error=2.1310e-03]"
     ]
    },
    {
     "name": "stderr",
     "output_type": "stream",
     "text": [
      "\r",
      "Least Squares Iteration:  32%|███▏      | 318/1000 [00:00<00:01, 406.80iter/s, Error=2.1262e-03]"
     ]
    },
    {
     "name": "stderr",
     "output_type": "stream",
     "text": [
      "\r",
      "Least Squares Iteration:  32%|███▏      | 319/1000 [00:00<00:01, 406.80iter/s, Error=2.1213e-03]"
     ]
    },
    {
     "name": "stderr",
     "output_type": "stream",
     "text": [
      "\r",
      "Least Squares Iteration:  32%|███▏      | 320/1000 [00:00<00:01, 406.80iter/s, Error=2.1165e-03]"
     ]
    },
    {
     "name": "stderr",
     "output_type": "stream",
     "text": [
      "\r",
      "Least Squares Iteration:  32%|███▏      | 321/1000 [00:00<00:01, 406.80iter/s, Error=2.1118e-03]"
     ]
    },
    {
     "name": "stderr",
     "output_type": "stream",
     "text": [
      "\r",
      "Least Squares Iteration:  32%|███▏      | 322/1000 [00:00<00:01, 406.80iter/s, Error=2.1070e-03]"
     ]
    },
    {
     "name": "stderr",
     "output_type": "stream",
     "text": [
      "\r",
      "Least Squares Iteration:  32%|███▏      | 323/1000 [00:00<00:01, 406.80iter/s, Error=2.1023e-03]"
     ]
    },
    {
     "name": "stderr",
     "output_type": "stream",
     "text": [
      "\r",
      "Least Squares Iteration:  32%|███▏      | 324/1000 [00:00<00:01, 406.80iter/s, Error=2.0976e-03]"
     ]
    },
    {
     "name": "stderr",
     "output_type": "stream",
     "text": [
      "\r",
      "Least Squares Iteration:  32%|███▎      | 325/1000 [00:00<00:01, 406.80iter/s, Error=2.0930e-03]"
     ]
    },
    {
     "name": "stderr",
     "output_type": "stream",
     "text": [
      "\r",
      "Least Squares Iteration:  33%|███▎      | 326/1000 [00:00<00:01, 406.80iter/s, Error=2.0883e-03]"
     ]
    },
    {
     "name": "stderr",
     "output_type": "stream",
     "text": [
      "\r",
      "Least Squares Iteration:  33%|███▎      | 327/1000 [00:00<00:01, 406.80iter/s, Error=2.0837e-03]"
     ]
    },
    {
     "name": "stderr",
     "output_type": "stream",
     "text": [
      "\r",
      "Least Squares Iteration:  33%|███▎      | 328/1000 [00:00<00:01, 406.80iter/s, Error=2.0792e-03]"
     ]
    },
    {
     "name": "stderr",
     "output_type": "stream",
     "text": [
      "\r",
      "Least Squares Iteration:  33%|███▎      | 329/1000 [00:00<00:01, 406.80iter/s, Error=2.0746e-03]"
     ]
    },
    {
     "name": "stderr",
     "output_type": "stream",
     "text": [
      "\r",
      "Least Squares Iteration:  33%|███▎      | 330/1000 [00:00<00:01, 406.80iter/s, Error=2.0701e-03]"
     ]
    },
    {
     "name": "stderr",
     "output_type": "stream",
     "text": [
      "\r",
      "Least Squares Iteration:  33%|███▎      | 331/1000 [00:00<00:01, 406.80iter/s, Error=2.0656e-03]"
     ]
    },
    {
     "name": "stderr",
     "output_type": "stream",
     "text": [
      "\r",
      "Least Squares Iteration:  33%|███▎      | 332/1000 [00:00<00:01, 406.80iter/s, Error=2.0611e-03]"
     ]
    },
    {
     "name": "stderr",
     "output_type": "stream",
     "text": [
      "\r",
      "Least Squares Iteration:  33%|███▎      | 333/1000 [00:00<00:01, 406.80iter/s, Error=2.0567e-03]"
     ]
    },
    {
     "name": "stderr",
     "output_type": "stream",
     "text": [
      "\r",
      "Least Squares Iteration:  33%|███▎      | 334/1000 [00:00<00:01, 406.80iter/s, Error=2.0523e-03]"
     ]
    },
    {
     "name": "stderr",
     "output_type": "stream",
     "text": [
      "\r",
      "Least Squares Iteration:  34%|███▎      | 335/1000 [00:00<00:01, 406.80iter/s, Error=2.0479e-03]"
     ]
    },
    {
     "name": "stderr",
     "output_type": "stream",
     "text": [
      "\r",
      "Least Squares Iteration:  34%|███▎      | 336/1000 [00:00<00:01, 406.80iter/s, Error=2.0435e-03]"
     ]
    },
    {
     "name": "stderr",
     "output_type": "stream",
     "text": [
      "\r",
      "Least Squares Iteration:  34%|███▎      | 337/1000 [00:00<00:01, 406.80iter/s, Error=2.0392e-03]"
     ]
    },
    {
     "name": "stderr",
     "output_type": "stream",
     "text": [
      "\r",
      "Least Squares Iteration:  34%|███▍      | 338/1000 [00:00<00:02, 325.18iter/s, Error=2.0392e-03]"
     ]
    },
    {
     "name": "stderr",
     "output_type": "stream",
     "text": [
      "\r",
      "Least Squares Iteration:  34%|███▍      | 338/1000 [00:00<00:02, 325.18iter/s, Error=2.0348e-03]"
     ]
    },
    {
     "name": "stderr",
     "output_type": "stream",
     "text": [
      "\r",
      "Least Squares Iteration:  34%|███▍      | 339/1000 [00:00<00:02, 325.18iter/s, Error=2.0306e-03]"
     ]
    },
    {
     "name": "stderr",
     "output_type": "stream",
     "text": [
      "\r",
      "Least Squares Iteration:  34%|███▍      | 340/1000 [00:00<00:02, 325.18iter/s, Error=2.0263e-03]"
     ]
    },
    {
     "name": "stderr",
     "output_type": "stream",
     "text": [
      "\r",
      "Least Squares Iteration:  34%|███▍      | 341/1000 [00:00<00:02, 325.18iter/s, Error=2.0220e-03]"
     ]
    },
    {
     "name": "stderr",
     "output_type": "stream",
     "text": [
      "\r",
      "Least Squares Iteration:  34%|███▍      | 342/1000 [00:00<00:02, 325.18iter/s, Error=2.0178e-03]"
     ]
    },
    {
     "name": "stderr",
     "output_type": "stream",
     "text": [
      "\r",
      "Least Squares Iteration:  34%|███▍      | 343/1000 [00:00<00:02, 325.18iter/s, Error=2.0136e-03]"
     ]
    },
    {
     "name": "stderr",
     "output_type": "stream",
     "text": [
      "\r",
      "Least Squares Iteration:  34%|███▍      | 344/1000 [00:00<00:02, 325.18iter/s, Error=2.0094e-03]"
     ]
    },
    {
     "name": "stderr",
     "output_type": "stream",
     "text": [
      "\r",
      "Least Squares Iteration:  34%|███▍      | 345/1000 [00:00<00:02, 325.18iter/s, Error=2.0053e-03]"
     ]
    },
    {
     "name": "stderr",
     "output_type": "stream",
     "text": [
      "\r",
      "Least Squares Iteration:  35%|███▍      | 346/1000 [00:00<00:02, 325.18iter/s, Error=2.0012e-03]"
     ]
    },
    {
     "name": "stderr",
     "output_type": "stream",
     "text": [
      "\r",
      "Least Squares Iteration:  35%|███▍      | 347/1000 [00:00<00:02, 325.18iter/s, Error=1.9971e-03]"
     ]
    },
    {
     "name": "stderr",
     "output_type": "stream",
     "text": [
      "\r",
      "Least Squares Iteration:  35%|███▍      | 348/1000 [00:00<00:02, 325.18iter/s, Error=1.9930e-03]"
     ]
    },
    {
     "name": "stderr",
     "output_type": "stream",
     "text": [
      "\r",
      "Least Squares Iteration:  35%|███▍      | 349/1000 [00:00<00:02, 325.18iter/s, Error=1.9889e-03]"
     ]
    },
    {
     "name": "stderr",
     "output_type": "stream",
     "text": [
      "\r",
      "Least Squares Iteration:  35%|███▌      | 350/1000 [00:00<00:01, 325.18iter/s, Error=1.9849e-03]"
     ]
    },
    {
     "name": "stderr",
     "output_type": "stream",
     "text": [
      "\r",
      "Least Squares Iteration:  35%|███▌      | 351/1000 [00:00<00:01, 325.18iter/s, Error=1.9809e-03]"
     ]
    },
    {
     "name": "stderr",
     "output_type": "stream",
     "text": [
      "\r",
      "Least Squares Iteration:  35%|███▌      | 352/1000 [00:00<00:01, 325.18iter/s, Error=1.9769e-03]"
     ]
    },
    {
     "name": "stderr",
     "output_type": "stream",
     "text": [
      "\r",
      "Least Squares Iteration:  35%|███▌      | 353/1000 [00:00<00:01, 325.18iter/s, Error=1.9729e-03]"
     ]
    },
    {
     "name": "stderr",
     "output_type": "stream",
     "text": [
      "\r",
      "Least Squares Iteration:  35%|███▌      | 354/1000 [00:00<00:01, 325.18iter/s, Error=1.9690e-03]"
     ]
    },
    {
     "name": "stderr",
     "output_type": "stream",
     "text": [
      "\r",
      "Least Squares Iteration:  36%|███▌      | 355/1000 [00:00<00:01, 325.18iter/s, Error=1.9651e-03]"
     ]
    },
    {
     "name": "stderr",
     "output_type": "stream",
     "text": [
      "\r",
      "Least Squares Iteration:  36%|███▌      | 356/1000 [00:00<00:01, 325.18iter/s, Error=1.9612e-03]"
     ]
    },
    {
     "name": "stderr",
     "output_type": "stream",
     "text": [
      "\r",
      "Least Squares Iteration:  36%|███▌      | 357/1000 [00:00<00:01, 325.18iter/s, Error=1.9573e-03]"
     ]
    },
    {
     "name": "stderr",
     "output_type": "stream",
     "text": [
      "\r",
      "Least Squares Iteration:  36%|███▌      | 358/1000 [00:00<00:01, 325.18iter/s, Error=1.9534e-03]"
     ]
    },
    {
     "name": "stderr",
     "output_type": "stream",
     "text": [
      "\r",
      "Least Squares Iteration:  36%|███▌      | 359/1000 [00:00<00:01, 325.18iter/s, Error=1.9496e-03]"
     ]
    },
    {
     "name": "stderr",
     "output_type": "stream",
     "text": [
      "\r",
      "Least Squares Iteration:  36%|███▌      | 360/1000 [00:00<00:01, 325.18iter/s, Error=1.9458e-03]"
     ]
    },
    {
     "name": "stderr",
     "output_type": "stream",
     "text": [
      "\r",
      "Least Squares Iteration:  36%|███▌      | 361/1000 [00:00<00:01, 325.18iter/s, Error=1.9420e-03]"
     ]
    },
    {
     "name": "stderr",
     "output_type": "stream",
     "text": [
      "\r",
      "Least Squares Iteration:  36%|███▌      | 362/1000 [00:00<00:01, 325.18iter/s, Error=1.9382e-03]"
     ]
    },
    {
     "name": "stderr",
     "output_type": "stream",
     "text": [
      "\r",
      "Least Squares Iteration:  36%|███▋      | 363/1000 [00:00<00:01, 325.18iter/s, Error=1.9344e-03]"
     ]
    },
    {
     "name": "stderr",
     "output_type": "stream",
     "text": [
      "\r",
      "Least Squares Iteration:  36%|███▋      | 364/1000 [00:00<00:01, 325.18iter/s, Error=1.9307e-03]"
     ]
    },
    {
     "name": "stderr",
     "output_type": "stream",
     "text": [
      "\r",
      "Least Squares Iteration:  36%|███▋      | 365/1000 [00:00<00:01, 325.18iter/s, Error=1.9270e-03]"
     ]
    },
    {
     "name": "stderr",
     "output_type": "stream",
     "text": [
      "\r",
      "Least Squares Iteration:  37%|███▋      | 366/1000 [00:00<00:01, 325.18iter/s, Error=1.9233e-03]"
     ]
    },
    {
     "name": "stderr",
     "output_type": "stream",
     "text": [
      "\r",
      "Least Squares Iteration:  37%|███▋      | 367/1000 [00:00<00:01, 325.18iter/s, Error=1.9196e-03]"
     ]
    },
    {
     "name": "stderr",
     "output_type": "stream",
     "text": [
      "\r",
      "Least Squares Iteration:  37%|███▋      | 368/1000 [00:00<00:01, 325.18iter/s, Error=1.9160e-03]"
     ]
    },
    {
     "name": "stderr",
     "output_type": "stream",
     "text": [
      "\r",
      "Least Squares Iteration:  37%|███▋      | 369/1000 [00:00<00:01, 325.18iter/s, Error=1.9123e-03]"
     ]
    },
    {
     "name": "stderr",
     "output_type": "stream",
     "text": [
      "\r",
      "Least Squares Iteration:  37%|███▋      | 370/1000 [00:00<00:01, 325.18iter/s, Error=1.9087e-03]"
     ]
    },
    {
     "name": "stderr",
     "output_type": "stream",
     "text": [
      "\r",
      "Least Squares Iteration:  37%|███▋      | 371/1000 [00:00<00:01, 325.18iter/s, Error=1.9051e-03]"
     ]
    },
    {
     "name": "stderr",
     "output_type": "stream",
     "text": [
      "\r",
      "Least Squares Iteration:  37%|███▋      | 372/1000 [00:00<00:01, 325.18iter/s, Error=1.9015e-03]"
     ]
    },
    {
     "name": "stderr",
     "output_type": "stream",
     "text": [
      "\r",
      "Least Squares Iteration:  37%|███▋      | 373/1000 [00:00<00:02, 306.69iter/s, Error=1.9015e-03]"
     ]
    },
    {
     "name": "stderr",
     "output_type": "stream",
     "text": [
      "\r",
      "Least Squares Iteration:  37%|███▋      | 373/1000 [00:00<00:02, 306.69iter/s, Error=1.8980e-03]"
     ]
    },
    {
     "name": "stderr",
     "output_type": "stream",
     "text": [
      "\r",
      "Least Squares Iteration:  37%|███▋      | 374/1000 [00:00<00:02, 306.69iter/s, Error=1.8944e-03]"
     ]
    },
    {
     "name": "stderr",
     "output_type": "stream",
     "text": [
      "\r",
      "Least Squares Iteration:  38%|███▊      | 375/1000 [00:00<00:02, 306.69iter/s, Error=1.8909e-03]"
     ]
    },
    {
     "name": "stderr",
     "output_type": "stream",
     "text": [
      "\r",
      "Least Squares Iteration:  38%|███▊      | 376/1000 [00:00<00:02, 306.69iter/s, Error=1.8874e-03]"
     ]
    },
    {
     "name": "stderr",
     "output_type": "stream",
     "text": [
      "\r",
      "Least Squares Iteration:  38%|███▊      | 377/1000 [00:00<00:02, 306.69iter/s, Error=1.8839e-03]"
     ]
    },
    {
     "name": "stderr",
     "output_type": "stream",
     "text": [
      "\r",
      "Least Squares Iteration:  38%|███▊      | 378/1000 [00:01<00:02, 306.69iter/s, Error=1.8804e-03]"
     ]
    },
    {
     "name": "stderr",
     "output_type": "stream",
     "text": [
      "\r",
      "Least Squares Iteration:  38%|███▊      | 379/1000 [00:01<00:02, 306.69iter/s, Error=1.8770e-03]"
     ]
    },
    {
     "name": "stderr",
     "output_type": "stream",
     "text": [
      "\r",
      "Least Squares Iteration:  38%|███▊      | 380/1000 [00:01<00:02, 306.69iter/s, Error=1.8735e-03]"
     ]
    },
    {
     "name": "stderr",
     "output_type": "stream",
     "text": [
      "\r",
      "Least Squares Iteration:  38%|███▊      | 381/1000 [00:01<00:02, 306.69iter/s, Error=1.8701e-03]"
     ]
    },
    {
     "name": "stderr",
     "output_type": "stream",
     "text": [
      "\r",
      "Least Squares Iteration:  38%|███▊      | 382/1000 [00:01<00:02, 306.69iter/s, Error=1.8667e-03]"
     ]
    },
    {
     "name": "stderr",
     "output_type": "stream",
     "text": [
      "\r",
      "Least Squares Iteration:  38%|███▊      | 383/1000 [00:01<00:02, 306.69iter/s, Error=1.8633e-03]"
     ]
    },
    {
     "name": "stderr",
     "output_type": "stream",
     "text": [
      "\r",
      "Least Squares Iteration:  38%|███▊      | 384/1000 [00:01<00:02, 306.69iter/s, Error=1.8600e-03]"
     ]
    },
    {
     "name": "stderr",
     "output_type": "stream",
     "text": [
      "\r",
      "Least Squares Iteration:  38%|███▊      | 385/1000 [00:01<00:02, 306.69iter/s, Error=1.8566e-03]"
     ]
    },
    {
     "name": "stderr",
     "output_type": "stream",
     "text": [
      "\r",
      "Least Squares Iteration:  39%|███▊      | 386/1000 [00:01<00:02, 306.69iter/s, Error=1.8533e-03]"
     ]
    },
    {
     "name": "stderr",
     "output_type": "stream",
     "text": [
      "\r",
      "Least Squares Iteration:  39%|███▊      | 387/1000 [00:01<00:01, 306.69iter/s, Error=1.8500e-03]"
     ]
    },
    {
     "name": "stderr",
     "output_type": "stream",
     "text": [
      "\r",
      "Least Squares Iteration:  39%|███▉      | 388/1000 [00:01<00:01, 306.69iter/s, Error=1.8467e-03]"
     ]
    },
    {
     "name": "stderr",
     "output_type": "stream",
     "text": [
      "\r",
      "Least Squares Iteration:  39%|███▉      | 389/1000 [00:01<00:01, 306.69iter/s, Error=1.8434e-03]"
     ]
    },
    {
     "name": "stderr",
     "output_type": "stream",
     "text": [
      "\r",
      "Least Squares Iteration:  39%|███▉      | 390/1000 [00:01<00:01, 306.69iter/s, Error=1.8401e-03]"
     ]
    },
    {
     "name": "stderr",
     "output_type": "stream",
     "text": [
      "\r",
      "Least Squares Iteration:  39%|███▉      | 391/1000 [00:01<00:01, 306.69iter/s, Error=1.8369e-03]"
     ]
    },
    {
     "name": "stderr",
     "output_type": "stream",
     "text": [
      "\r",
      "Least Squares Iteration:  39%|███▉      | 392/1000 [00:01<00:01, 306.69iter/s, Error=1.8336e-03]"
     ]
    },
    {
     "name": "stderr",
     "output_type": "stream",
     "text": [
      "\r",
      "Least Squares Iteration:  39%|███▉      | 393/1000 [00:01<00:01, 306.69iter/s, Error=1.8304e-03]"
     ]
    },
    {
     "name": "stderr",
     "output_type": "stream",
     "text": [
      "\r",
      "Least Squares Iteration:  39%|███▉      | 394/1000 [00:01<00:01, 306.69iter/s, Error=1.8272e-03]"
     ]
    },
    {
     "name": "stderr",
     "output_type": "stream",
     "text": [
      "\r",
      "Least Squares Iteration:  40%|███▉      | 395/1000 [00:01<00:01, 306.69iter/s, Error=1.8240e-03]"
     ]
    },
    {
     "name": "stderr",
     "output_type": "stream",
     "text": [
      "\r",
      "Least Squares Iteration:  40%|███▉      | 396/1000 [00:01<00:01, 306.69iter/s, Error=1.8208e-03]"
     ]
    },
    {
     "name": "stderr",
     "output_type": "stream",
     "text": [
      "\r",
      "Least Squares Iteration:  40%|███▉      | 397/1000 [00:01<00:01, 306.69iter/s, Error=1.8177e-03]"
     ]
    },
    {
     "name": "stderr",
     "output_type": "stream",
     "text": [
      "\r",
      "Least Squares Iteration:  40%|███▉      | 398/1000 [00:01<00:01, 306.69iter/s, Error=1.8145e-03]"
     ]
    },
    {
     "name": "stderr",
     "output_type": "stream",
     "text": [
      "\r",
      "Least Squares Iteration:  40%|███▉      | 399/1000 [00:01<00:01, 306.69iter/s, Error=1.8114e-03]"
     ]
    },
    {
     "name": "stderr",
     "output_type": "stream",
     "text": [
      "\r",
      "Least Squares Iteration:  40%|████      | 400/1000 [00:01<00:01, 306.69iter/s, Error=1.8083e-03]"
     ]
    },
    {
     "name": "stderr",
     "output_type": "stream",
     "text": [
      "\r",
      "Least Squares Iteration:  40%|████      | 401/1000 [00:01<00:01, 306.69iter/s, Error=1.8052e-03]"
     ]
    },
    {
     "name": "stderr",
     "output_type": "stream",
     "text": [
      "\r",
      "Least Squares Iteration:  40%|████      | 402/1000 [00:01<00:01, 306.69iter/s, Error=1.8021e-03]"
     ]
    },
    {
     "name": "stderr",
     "output_type": "stream",
     "text": [
      "\r",
      "Least Squares Iteration:  40%|████      | 403/1000 [00:01<00:01, 306.69iter/s, Error=1.7990e-03]"
     ]
    },
    {
     "name": "stderr",
     "output_type": "stream",
     "text": [
      "\r",
      "Least Squares Iteration:  40%|████      | 404/1000 [00:01<00:01, 306.69iter/s, Error=1.7960e-03]"
     ]
    },
    {
     "name": "stderr",
     "output_type": "stream",
     "text": [
      "\r",
      "Least Squares Iteration:  40%|████      | 405/1000 [00:01<00:01, 306.69iter/s, Error=1.7930e-03]"
     ]
    },
    {
     "name": "stderr",
     "output_type": "stream",
     "text": [
      "\r",
      "Least Squares Iteration:  41%|████      | 406/1000 [00:01<00:02, 243.83iter/s, Error=1.7930e-03]"
     ]
    },
    {
     "name": "stderr",
     "output_type": "stream",
     "text": [
      "\r",
      "Least Squares Iteration:  41%|████      | 406/1000 [00:01<00:02, 243.83iter/s, Error=1.7899e-03]"
     ]
    },
    {
     "name": "stderr",
     "output_type": "stream",
     "text": [
      "\r",
      "Least Squares Iteration:  41%|████      | 407/1000 [00:01<00:02, 243.83iter/s, Error=1.7869e-03]"
     ]
    },
    {
     "name": "stderr",
     "output_type": "stream",
     "text": [
      "\r",
      "Least Squares Iteration:  41%|████      | 408/1000 [00:01<00:02, 243.83iter/s, Error=1.7839e-03]"
     ]
    },
    {
     "name": "stderr",
     "output_type": "stream",
     "text": [
      "\r",
      "Least Squares Iteration:  41%|████      | 409/1000 [00:01<00:02, 243.83iter/s, Error=1.7809e-03]"
     ]
    },
    {
     "name": "stderr",
     "output_type": "stream",
     "text": [
      "\r",
      "Least Squares Iteration:  41%|████      | 410/1000 [00:01<00:02, 243.83iter/s, Error=1.7780e-03]"
     ]
    },
    {
     "name": "stderr",
     "output_type": "stream",
     "text": [
      "\r",
      "Least Squares Iteration:  41%|████      | 411/1000 [00:01<00:02, 243.83iter/s, Error=1.7750e-03]"
     ]
    },
    {
     "name": "stderr",
     "output_type": "stream",
     "text": [
      "\r",
      "Least Squares Iteration:  41%|████      | 412/1000 [00:01<00:02, 243.83iter/s, Error=1.7721e-03]"
     ]
    },
    {
     "name": "stderr",
     "output_type": "stream",
     "text": [
      "\r",
      "Least Squares Iteration:  41%|████▏     | 413/1000 [00:01<00:02, 243.83iter/s, Error=1.7692e-03]"
     ]
    },
    {
     "name": "stderr",
     "output_type": "stream",
     "text": [
      "\r",
      "Least Squares Iteration:  41%|████▏     | 414/1000 [00:01<00:02, 243.83iter/s, Error=1.7662e-03]"
     ]
    },
    {
     "name": "stderr",
     "output_type": "stream",
     "text": [
      "\r",
      "Least Squares Iteration:  42%|████▏     | 415/1000 [00:01<00:02, 243.83iter/s, Error=1.7633e-03]"
     ]
    },
    {
     "name": "stderr",
     "output_type": "stream",
     "text": [
      "\r",
      "Least Squares Iteration:  42%|████▏     | 416/1000 [00:01<00:02, 243.83iter/s, Error=1.7605e-03]"
     ]
    },
    {
     "name": "stderr",
     "output_type": "stream",
     "text": [
      "\r",
      "Least Squares Iteration:  42%|████▏     | 417/1000 [00:01<00:02, 243.83iter/s, Error=1.7576e-03]"
     ]
    },
    {
     "name": "stderr",
     "output_type": "stream",
     "text": [
      "\r",
      "Least Squares Iteration:  42%|████▏     | 418/1000 [00:01<00:02, 243.83iter/s, Error=1.7547e-03]"
     ]
    },
    {
     "name": "stderr",
     "output_type": "stream",
     "text": [
      "\r",
      "Least Squares Iteration:  42%|████▏     | 419/1000 [00:01<00:02, 243.83iter/s, Error=1.7519e-03]"
     ]
    },
    {
     "name": "stderr",
     "output_type": "stream",
     "text": [
      "\r",
      "Least Squares Iteration:  42%|████▏     | 420/1000 [00:01<00:02, 243.83iter/s, Error=1.7490e-03]"
     ]
    },
    {
     "name": "stderr",
     "output_type": "stream",
     "text": [
      "\r",
      "Least Squares Iteration:  42%|████▏     | 421/1000 [00:01<00:02, 243.83iter/s, Error=1.7462e-03]"
     ]
    },
    {
     "name": "stderr",
     "output_type": "stream",
     "text": [
      "\r",
      "Least Squares Iteration:  42%|████▏     | 422/1000 [00:01<00:02, 243.83iter/s, Error=1.7434e-03]"
     ]
    },
    {
     "name": "stderr",
     "output_type": "stream",
     "text": [
      "\r",
      "Least Squares Iteration:  42%|████▏     | 423/1000 [00:01<00:02, 243.83iter/s, Error=1.7406e-03]"
     ]
    },
    {
     "name": "stderr",
     "output_type": "stream",
     "text": [
      "\r",
      "Least Squares Iteration:  42%|████▏     | 424/1000 [00:01<00:02, 243.83iter/s, Error=1.7378e-03]"
     ]
    },
    {
     "name": "stderr",
     "output_type": "stream",
     "text": [
      "\r",
      "Least Squares Iteration:  42%|████▎     | 425/1000 [00:01<00:02, 243.83iter/s, Error=1.7351e-03]"
     ]
    },
    {
     "name": "stderr",
     "output_type": "stream",
     "text": [
      "\r",
      "Least Squares Iteration:  43%|████▎     | 426/1000 [00:01<00:02, 243.83iter/s, Error=1.7323e-03]"
     ]
    },
    {
     "name": "stderr",
     "output_type": "stream",
     "text": [
      "\r",
      "Least Squares Iteration:  43%|████▎     | 427/1000 [00:01<00:02, 243.83iter/s, Error=1.7295e-03]"
     ]
    },
    {
     "name": "stderr",
     "output_type": "stream",
     "text": [
      "\r",
      "Least Squares Iteration:  43%|████▎     | 428/1000 [00:01<00:02, 243.83iter/s, Error=1.7268e-03]"
     ]
    },
    {
     "name": "stderr",
     "output_type": "stream",
     "text": [
      "\r",
      "Least Squares Iteration:  43%|████▎     | 429/1000 [00:01<00:02, 243.83iter/s, Error=1.7241e-03]"
     ]
    },
    {
     "name": "stderr",
     "output_type": "stream",
     "text": [
      "\r",
      "Least Squares Iteration:  43%|████▎     | 430/1000 [00:01<00:02, 243.83iter/s, Error=1.7214e-03]"
     ]
    },
    {
     "name": "stderr",
     "output_type": "stream",
     "text": [
      "\r",
      "Least Squares Iteration:  43%|████▎     | 431/1000 [00:01<00:02, 243.83iter/s, Error=1.7187e-03]"
     ]
    },
    {
     "name": "stderr",
     "output_type": "stream",
     "text": [
      "\r",
      "Least Squares Iteration:  43%|████▎     | 432/1000 [00:01<00:02, 243.83iter/s, Error=1.7160e-03]"
     ]
    },
    {
     "name": "stderr",
     "output_type": "stream",
     "text": [
      "\r",
      "Least Squares Iteration:  43%|████▎     | 433/1000 [00:01<00:02, 229.70iter/s, Error=1.7160e-03]"
     ]
    },
    {
     "name": "stderr",
     "output_type": "stream",
     "text": [
      "\r",
      "Least Squares Iteration:  43%|████▎     | 433/1000 [00:01<00:02, 229.70iter/s, Error=1.7133e-03]"
     ]
    },
    {
     "name": "stderr",
     "output_type": "stream",
     "text": [
      "\r",
      "Least Squares Iteration:  43%|████▎     | 434/1000 [00:01<00:02, 229.70iter/s, Error=1.7107e-03]"
     ]
    },
    {
     "name": "stderr",
     "output_type": "stream",
     "text": [
      "\r",
      "Least Squares Iteration:  44%|████▎     | 435/1000 [00:01<00:02, 229.70iter/s, Error=1.7080e-03]"
     ]
    },
    {
     "name": "stderr",
     "output_type": "stream",
     "text": [
      "\r",
      "Least Squares Iteration:  44%|████▎     | 436/1000 [00:01<00:02, 229.70iter/s, Error=1.7054e-03]"
     ]
    },
    {
     "name": "stderr",
     "output_type": "stream",
     "text": [
      "\r",
      "Least Squares Iteration:  44%|████▎     | 437/1000 [00:01<00:02, 229.70iter/s, Error=1.7027e-03]"
     ]
    },
    {
     "name": "stderr",
     "output_type": "stream",
     "text": [
      "\r",
      "Least Squares Iteration:  44%|████▍     | 438/1000 [00:01<00:02, 229.70iter/s, Error=1.7001e-03]"
     ]
    },
    {
     "name": "stderr",
     "output_type": "stream",
     "text": [
      "\r",
      "Least Squares Iteration:  44%|████▍     | 439/1000 [00:01<00:02, 229.70iter/s, Error=1.6975e-03]"
     ]
    },
    {
     "name": "stderr",
     "output_type": "stream",
     "text": [
      "\r",
      "Least Squares Iteration:  44%|████▍     | 440/1000 [00:01<00:02, 229.70iter/s, Error=1.6949e-03]"
     ]
    },
    {
     "name": "stderr",
     "output_type": "stream",
     "text": [
      "\r",
      "Least Squares Iteration:  44%|████▍     | 441/1000 [00:01<00:02, 229.70iter/s, Error=1.6923e-03]"
     ]
    },
    {
     "name": "stderr",
     "output_type": "stream",
     "text": [
      "\r",
      "Least Squares Iteration:  44%|████▍     | 442/1000 [00:01<00:02, 229.70iter/s, Error=1.6898e-03]"
     ]
    },
    {
     "name": "stderr",
     "output_type": "stream",
     "text": [
      "\r",
      "Least Squares Iteration:  44%|████▍     | 443/1000 [00:01<00:02, 229.70iter/s, Error=1.6872e-03]"
     ]
    },
    {
     "name": "stderr",
     "output_type": "stream",
     "text": [
      "\r",
      "Least Squares Iteration:  44%|████▍     | 444/1000 [00:01<00:02, 229.70iter/s, Error=1.6846e-03]"
     ]
    },
    {
     "name": "stderr",
     "output_type": "stream",
     "text": [
      "\r",
      "Least Squares Iteration:  44%|████▍     | 445/1000 [00:01<00:02, 229.70iter/s, Error=1.6821e-03]"
     ]
    },
    {
     "name": "stderr",
     "output_type": "stream",
     "text": [
      "\r",
      "Least Squares Iteration:  45%|████▍     | 446/1000 [00:01<00:02, 229.70iter/s, Error=1.6796e-03]"
     ]
    },
    {
     "name": "stderr",
     "output_type": "stream",
     "text": [
      "\r",
      "Least Squares Iteration:  45%|████▍     | 447/1000 [00:01<00:02, 229.70iter/s, Error=1.6771e-03]"
     ]
    },
    {
     "name": "stderr",
     "output_type": "stream",
     "text": [
      "\r",
      "Least Squares Iteration:  45%|████▍     | 448/1000 [00:01<00:02, 229.70iter/s, Error=1.6745e-03]"
     ]
    },
    {
     "name": "stderr",
     "output_type": "stream",
     "text": [
      "\r",
      "Least Squares Iteration:  45%|████▍     | 449/1000 [00:01<00:02, 229.70iter/s, Error=1.6720e-03]"
     ]
    },
    {
     "name": "stderr",
     "output_type": "stream",
     "text": [
      "\r",
      "Least Squares Iteration:  45%|████▌     | 450/1000 [00:01<00:02, 229.70iter/s, Error=1.6696e-03]"
     ]
    },
    {
     "name": "stderr",
     "output_type": "stream",
     "text": [
      "\r",
      "Least Squares Iteration:  45%|████▌     | 451/1000 [00:01<00:02, 229.70iter/s, Error=1.6671e-03]"
     ]
    },
    {
     "name": "stderr",
     "output_type": "stream",
     "text": [
      "\r",
      "Least Squares Iteration:  45%|████▌     | 452/1000 [00:01<00:02, 229.70iter/s, Error=1.6646e-03]"
     ]
    },
    {
     "name": "stderr",
     "output_type": "stream",
     "text": [
      "\r",
      "Least Squares Iteration:  45%|████▌     | 453/1000 [00:01<00:02, 229.70iter/s, Error=1.6622e-03]"
     ]
    },
    {
     "name": "stderr",
     "output_type": "stream",
     "text": [
      "\r",
      "Least Squares Iteration:  45%|████▌     | 454/1000 [00:01<00:02, 229.70iter/s, Error=1.6597e-03]"
     ]
    },
    {
     "name": "stderr",
     "output_type": "stream",
     "text": [
      "\r",
      "Least Squares Iteration:  46%|████▌     | 455/1000 [00:01<00:02, 229.70iter/s, Error=1.6573e-03]"
     ]
    },
    {
     "name": "stderr",
     "output_type": "stream",
     "text": [
      "\r",
      "Least Squares Iteration:  46%|████▌     | 456/1000 [00:01<00:02, 229.70iter/s, Error=1.6548e-03]"
     ]
    },
    {
     "name": "stderr",
     "output_type": "stream",
     "text": [
      "\r",
      "Least Squares Iteration:  46%|████▌     | 457/1000 [00:01<00:02, 229.70iter/s, Error=1.6524e-03]"
     ]
    },
    {
     "name": "stderr",
     "output_type": "stream",
     "text": [
      "\r",
      "Least Squares Iteration:  46%|████▌     | 458/1000 [00:01<00:02, 220.46iter/s, Error=1.6524e-03]"
     ]
    },
    {
     "name": "stderr",
     "output_type": "stream",
     "text": [
      "\r",
      "Least Squares Iteration:  46%|████▌     | 458/1000 [00:01<00:02, 220.46iter/s, Error=1.6500e-03]"
     ]
    },
    {
     "name": "stderr",
     "output_type": "stream",
     "text": [
      "\r",
      "Least Squares Iteration:  46%|████▌     | 459/1000 [00:01<00:02, 220.46iter/s, Error=1.6476e-03]"
     ]
    },
    {
     "name": "stderr",
     "output_type": "stream",
     "text": [
      "\r",
      "Least Squares Iteration:  46%|████▌     | 460/1000 [00:01<00:02, 220.46iter/s, Error=1.6452e-03]"
     ]
    },
    {
     "name": "stderr",
     "output_type": "stream",
     "text": [
      "\r",
      "Least Squares Iteration:  46%|████▌     | 461/1000 [00:01<00:02, 220.46iter/s, Error=1.6429e-03]"
     ]
    },
    {
     "name": "stderr",
     "output_type": "stream",
     "text": [
      "\r",
      "Least Squares Iteration:  46%|████▌     | 462/1000 [00:01<00:02, 220.46iter/s, Error=1.6405e-03]"
     ]
    },
    {
     "name": "stderr",
     "output_type": "stream",
     "text": [
      "\r",
      "Least Squares Iteration:  46%|████▋     | 463/1000 [00:01<00:02, 220.46iter/s, Error=1.6381e-03]"
     ]
    },
    {
     "name": "stderr",
     "output_type": "stream",
     "text": [
      "\r",
      "Least Squares Iteration:  46%|████▋     | 464/1000 [00:01<00:02, 220.46iter/s, Error=1.6358e-03]"
     ]
    },
    {
     "name": "stderr",
     "output_type": "stream",
     "text": [
      "\r",
      "Least Squares Iteration:  46%|████▋     | 465/1000 [00:01<00:02, 220.46iter/s, Error=1.6334e-03]"
     ]
    },
    {
     "name": "stderr",
     "output_type": "stream",
     "text": [
      "\r",
      "Least Squares Iteration:  47%|████▋     | 466/1000 [00:01<00:02, 220.46iter/s, Error=1.6311e-03]"
     ]
    },
    {
     "name": "stderr",
     "output_type": "stream",
     "text": [
      "\r",
      "Least Squares Iteration:  47%|████▋     | 467/1000 [00:01<00:02, 220.46iter/s, Error=1.6288e-03]"
     ]
    },
    {
     "name": "stderr",
     "output_type": "stream",
     "text": [
      "\r",
      "Least Squares Iteration:  47%|████▋     | 468/1000 [00:01<00:02, 220.46iter/s, Error=1.6265e-03]"
     ]
    },
    {
     "name": "stderr",
     "output_type": "stream",
     "text": [
      "\r",
      "Least Squares Iteration:  47%|████▋     | 469/1000 [00:01<00:02, 220.46iter/s, Error=1.6241e-03]"
     ]
    },
    {
     "name": "stderr",
     "output_type": "stream",
     "text": [
      "\r",
      "Least Squares Iteration:  47%|████▋     | 470/1000 [00:01<00:02, 220.46iter/s, Error=1.6219e-03]"
     ]
    },
    {
     "name": "stderr",
     "output_type": "stream",
     "text": [
      "\r",
      "Least Squares Iteration:  47%|████▋     | 471/1000 [00:01<00:02, 220.46iter/s, Error=1.6196e-03]"
     ]
    },
    {
     "name": "stderr",
     "output_type": "stream",
     "text": [
      "\r",
      "Least Squares Iteration:  47%|████▋     | 472/1000 [00:01<00:02, 220.46iter/s, Error=1.6173e-03]"
     ]
    },
    {
     "name": "stderr",
     "output_type": "stream",
     "text": [
      "\r",
      "Least Squares Iteration:  47%|████▋     | 473/1000 [00:01<00:02, 220.46iter/s, Error=1.6150e-03]"
     ]
    },
    {
     "name": "stderr",
     "output_type": "stream",
     "text": [
      "\r",
      "Least Squares Iteration:  47%|████▋     | 474/1000 [00:01<00:02, 220.46iter/s, Error=1.6128e-03]"
     ]
    },
    {
     "name": "stderr",
     "output_type": "stream",
     "text": [
      "\r",
      "Least Squares Iteration:  48%|████▊     | 475/1000 [00:01<00:02, 220.46iter/s, Error=1.6105e-03]"
     ]
    },
    {
     "name": "stderr",
     "output_type": "stream",
     "text": [
      "\r",
      "Least Squares Iteration:  48%|████▊     | 476/1000 [00:01<00:02, 220.46iter/s, Error=1.6083e-03]"
     ]
    },
    {
     "name": "stderr",
     "output_type": "stream",
     "text": [
      "\r",
      "Least Squares Iteration:  48%|████▊     | 477/1000 [00:01<00:02, 220.46iter/s, Error=1.6060e-03]"
     ]
    },
    {
     "name": "stderr",
     "output_type": "stream",
     "text": [
      "\r",
      "Least Squares Iteration:  48%|████▊     | 478/1000 [00:01<00:02, 220.46iter/s, Error=1.6038e-03]"
     ]
    },
    {
     "name": "stderr",
     "output_type": "stream",
     "text": [
      "\r",
      "Least Squares Iteration:  48%|████▊     | 479/1000 [00:01<00:02, 220.46iter/s, Error=1.6016e-03]"
     ]
    },
    {
     "name": "stderr",
     "output_type": "stream",
     "text": [
      "\r",
      "Least Squares Iteration:  48%|████▊     | 480/1000 [00:01<00:02, 220.46iter/s, Error=1.5994e-03]"
     ]
    },
    {
     "name": "stderr",
     "output_type": "stream",
     "text": [
      "\r",
      "Least Squares Iteration:  48%|████▊     | 481/1000 [00:01<00:02, 217.93iter/s, Error=1.5994e-03]"
     ]
    },
    {
     "name": "stderr",
     "output_type": "stream",
     "text": [
      "\r",
      "Least Squares Iteration:  48%|████▊     | 481/1000 [00:01<00:02, 217.93iter/s, Error=1.5972e-03]"
     ]
    },
    {
     "name": "stderr",
     "output_type": "stream",
     "text": [
      "\r",
      "Least Squares Iteration:  48%|████▊     | 482/1000 [00:01<00:02, 217.93iter/s, Error=1.5950e-03]"
     ]
    },
    {
     "name": "stderr",
     "output_type": "stream",
     "text": [
      "\r",
      "Least Squares Iteration:  48%|████▊     | 483/1000 [00:01<00:02, 217.93iter/s, Error=1.5928e-03]"
     ]
    },
    {
     "name": "stderr",
     "output_type": "stream",
     "text": [
      "\r",
      "Least Squares Iteration:  48%|████▊     | 484/1000 [00:01<00:02, 217.93iter/s, Error=1.5906e-03]"
     ]
    },
    {
     "name": "stderr",
     "output_type": "stream",
     "text": [
      "\r",
      "Least Squares Iteration:  48%|████▊     | 485/1000 [00:01<00:02, 217.93iter/s, Error=1.5885e-03]"
     ]
    },
    {
     "name": "stderr",
     "output_type": "stream",
     "text": [
      "\r",
      "Least Squares Iteration:  49%|████▊     | 486/1000 [00:01<00:02, 217.93iter/s, Error=1.5863e-03]"
     ]
    },
    {
     "name": "stderr",
     "output_type": "stream",
     "text": [
      "\r",
      "Least Squares Iteration:  49%|████▊     | 487/1000 [00:01<00:02, 217.93iter/s, Error=1.5842e-03]"
     ]
    },
    {
     "name": "stderr",
     "output_type": "stream",
     "text": [
      "\r",
      "Least Squares Iteration:  49%|████▉     | 488/1000 [00:01<00:02, 217.93iter/s, Error=1.5820e-03]"
     ]
    },
    {
     "name": "stderr",
     "output_type": "stream",
     "text": [
      "\r",
      "Least Squares Iteration:  49%|████▉     | 489/1000 [00:01<00:02, 217.93iter/s, Error=1.5799e-03]"
     ]
    },
    {
     "name": "stderr",
     "output_type": "stream",
     "text": [
      "\r",
      "Least Squares Iteration:  49%|████▉     | 490/1000 [00:01<00:02, 217.93iter/s, Error=1.5778e-03]"
     ]
    },
    {
     "name": "stderr",
     "output_type": "stream",
     "text": [
      "\r",
      "Least Squares Iteration:  49%|████▉     | 491/1000 [00:01<00:02, 217.93iter/s, Error=1.5756e-03]"
     ]
    },
    {
     "name": "stderr",
     "output_type": "stream",
     "text": [
      "\r",
      "Least Squares Iteration:  49%|████▉     | 492/1000 [00:01<00:02, 217.93iter/s, Error=1.5735e-03]"
     ]
    },
    {
     "name": "stderr",
     "output_type": "stream",
     "text": [
      "\r",
      "Least Squares Iteration:  49%|████▉     | 493/1000 [00:01<00:02, 217.93iter/s, Error=1.5714e-03]"
     ]
    },
    {
     "name": "stderr",
     "output_type": "stream",
     "text": [
      "\r",
      "Least Squares Iteration:  49%|████▉     | 494/1000 [00:01<00:02, 217.93iter/s, Error=1.5693e-03]"
     ]
    },
    {
     "name": "stderr",
     "output_type": "stream",
     "text": [
      "\r",
      "Least Squares Iteration:  50%|████▉     | 495/1000 [00:01<00:02, 217.93iter/s, Error=1.5672e-03]"
     ]
    },
    {
     "name": "stderr",
     "output_type": "stream",
     "text": [
      "\r",
      "Least Squares Iteration:  50%|████▉     | 496/1000 [00:01<00:02, 217.93iter/s, Error=1.5652e-03]"
     ]
    },
    {
     "name": "stderr",
     "output_type": "stream",
     "text": [
      "\r",
      "Least Squares Iteration:  50%|████▉     | 497/1000 [00:01<00:02, 217.93iter/s, Error=1.5631e-03]"
     ]
    },
    {
     "name": "stderr",
     "output_type": "stream",
     "text": [
      "\r",
      "Least Squares Iteration:  50%|████▉     | 498/1000 [00:01<00:02, 217.93iter/s, Error=1.5610e-03]"
     ]
    },
    {
     "name": "stderr",
     "output_type": "stream",
     "text": [
      "\r",
      "Least Squares Iteration:  50%|████▉     | 499/1000 [00:01<00:02, 217.93iter/s, Error=1.5590e-03]"
     ]
    },
    {
     "name": "stderr",
     "output_type": "stream",
     "text": [
      "\r",
      "Least Squares Iteration:  50%|█████     | 500/1000 [00:01<00:02, 217.93iter/s, Error=1.5569e-03]"
     ]
    },
    {
     "name": "stderr",
     "output_type": "stream",
     "text": [
      "\r",
      "Least Squares Iteration:  50%|█████     | 501/1000 [00:01<00:02, 217.93iter/s, Error=1.5549e-03]"
     ]
    },
    {
     "name": "stderr",
     "output_type": "stream",
     "text": [
      "\r",
      "Least Squares Iteration:  50%|█████     | 502/1000 [00:01<00:02, 217.93iter/s, Error=1.5528e-03]"
     ]
    },
    {
     "name": "stderr",
     "output_type": "stream",
     "text": [
      "\r",
      "Least Squares Iteration:  50%|█████     | 503/1000 [00:01<00:02, 217.93iter/s, Error=1.5508e-03]"
     ]
    },
    {
     "name": "stderr",
     "output_type": "stream",
     "text": [
      "\r",
      "Least Squares Iteration:  50%|█████     | 504/1000 [00:01<00:02, 204.96iter/s, Error=1.5508e-03]"
     ]
    },
    {
     "name": "stderr",
     "output_type": "stream",
     "text": [
      "\r",
      "Least Squares Iteration:  50%|█████     | 504/1000 [00:01<00:02, 204.96iter/s, Error=1.5488e-03]"
     ]
    },
    {
     "name": "stderr",
     "output_type": "stream",
     "text": [
      "\r",
      "Least Squares Iteration:  50%|█████     | 505/1000 [00:01<00:02, 204.96iter/s, Error=1.5468e-03]"
     ]
    },
    {
     "name": "stderr",
     "output_type": "stream",
     "text": [
      "\r",
      "Least Squares Iteration:  51%|█████     | 506/1000 [00:01<00:02, 204.96iter/s, Error=1.5448e-03]"
     ]
    },
    {
     "name": "stderr",
     "output_type": "stream",
     "text": [
      "\r",
      "Least Squares Iteration:  51%|█████     | 507/1000 [00:01<00:02, 204.96iter/s, Error=1.5428e-03]"
     ]
    },
    {
     "name": "stderr",
     "output_type": "stream",
     "text": [
      "\r",
      "Least Squares Iteration:  51%|█████     | 508/1000 [00:01<00:02, 204.96iter/s, Error=1.5408e-03]"
     ]
    },
    {
     "name": "stderr",
     "output_type": "stream",
     "text": [
      "\r",
      "Least Squares Iteration:  51%|█████     | 509/1000 [00:01<00:02, 204.96iter/s, Error=1.5388e-03]"
     ]
    },
    {
     "name": "stderr",
     "output_type": "stream",
     "text": [
      "\r",
      "Least Squares Iteration:  51%|█████     | 510/1000 [00:01<00:02, 204.96iter/s, Error=1.5368e-03]"
     ]
    },
    {
     "name": "stderr",
     "output_type": "stream",
     "text": [
      "\r",
      "Least Squares Iteration:  51%|█████     | 511/1000 [00:01<00:02, 204.96iter/s, Error=1.5348e-03]"
     ]
    },
    {
     "name": "stderr",
     "output_type": "stream",
     "text": [
      "\r",
      "Least Squares Iteration:  51%|█████     | 512/1000 [00:01<00:02, 204.96iter/s, Error=1.5329e-03]"
     ]
    },
    {
     "name": "stderr",
     "output_type": "stream",
     "text": [
      "\r",
      "Least Squares Iteration:  51%|█████▏    | 513/1000 [00:01<00:02, 204.96iter/s, Error=1.5309e-03]"
     ]
    },
    {
     "name": "stderr",
     "output_type": "stream",
     "text": [
      "\r",
      "Least Squares Iteration:  51%|█████▏    | 514/1000 [00:01<00:02, 204.96iter/s, Error=1.5290e-03]"
     ]
    },
    {
     "name": "stderr",
     "output_type": "stream",
     "text": [
      "\r",
      "Least Squares Iteration:  52%|█████▏    | 515/1000 [00:01<00:02, 204.96iter/s, Error=1.5270e-03]"
     ]
    },
    {
     "name": "stderr",
     "output_type": "stream",
     "text": [
      "\r",
      "Least Squares Iteration:  52%|█████▏    | 516/1000 [00:01<00:02, 204.96iter/s, Error=1.5251e-03]"
     ]
    },
    {
     "name": "stderr",
     "output_type": "stream",
     "text": [
      "\r",
      "Least Squares Iteration:  52%|█████▏    | 517/1000 [00:01<00:02, 204.96iter/s, Error=1.5232e-03]"
     ]
    },
    {
     "name": "stderr",
     "output_type": "stream",
     "text": [
      "\r",
      "Least Squares Iteration:  52%|█████▏    | 518/1000 [00:01<00:02, 204.96iter/s, Error=1.5212e-03]"
     ]
    },
    {
     "name": "stderr",
     "output_type": "stream",
     "text": [
      "\r",
      "Least Squares Iteration:  52%|█████▏    | 519/1000 [00:01<00:02, 204.96iter/s, Error=1.5193e-03]"
     ]
    },
    {
     "name": "stderr",
     "output_type": "stream",
     "text": [
      "\r",
      "Least Squares Iteration:  52%|█████▏    | 520/1000 [00:01<00:02, 204.96iter/s, Error=1.5174e-03]"
     ]
    },
    {
     "name": "stderr",
     "output_type": "stream",
     "text": [
      "\r",
      "Least Squares Iteration:  52%|█████▏    | 521/1000 [00:01<00:02, 204.96iter/s, Error=1.5155e-03]"
     ]
    },
    {
     "name": "stderr",
     "output_type": "stream",
     "text": [
      "\r",
      "Least Squares Iteration:  52%|█████▏    | 522/1000 [00:01<00:02, 204.96iter/s, Error=1.5136e-03]"
     ]
    },
    {
     "name": "stderr",
     "output_type": "stream",
     "text": [
      "\r",
      "Least Squares Iteration:  52%|█████▏    | 523/1000 [00:01<00:02, 204.96iter/s, Error=1.5117e-03]"
     ]
    },
    {
     "name": "stderr",
     "output_type": "stream",
     "text": [
      "\r",
      "Least Squares Iteration:  52%|█████▏    | 524/1000 [00:01<00:02, 204.96iter/s, Error=1.5098e-03]"
     ]
    },
    {
     "name": "stderr",
     "output_type": "stream",
     "text": [
      "\r",
      "Least Squares Iteration:  52%|█████▎    | 525/1000 [00:01<00:02, 192.46iter/s, Error=1.5098e-03]"
     ]
    },
    {
     "name": "stderr",
     "output_type": "stream",
     "text": [
      "\r",
      "Least Squares Iteration:  52%|█████▎    | 525/1000 [00:01<00:02, 192.46iter/s, Error=1.5080e-03]"
     ]
    },
    {
     "name": "stderr",
     "output_type": "stream",
     "text": [
      "\r",
      "Least Squares Iteration:  53%|█████▎    | 526/1000 [00:01<00:02, 192.46iter/s, Error=1.5061e-03]"
     ]
    },
    {
     "name": "stderr",
     "output_type": "stream",
     "text": [
      "\r",
      "Least Squares Iteration:  53%|█████▎    | 527/1000 [00:01<00:02, 192.46iter/s, Error=1.5042e-03]"
     ]
    },
    {
     "name": "stderr",
     "output_type": "stream",
     "text": [
      "\r",
      "Least Squares Iteration:  53%|█████▎    | 528/1000 [00:01<00:02, 192.46iter/s, Error=1.5024e-03]"
     ]
    },
    {
     "name": "stderr",
     "output_type": "stream",
     "text": [
      "\r",
      "Least Squares Iteration:  53%|█████▎    | 529/1000 [00:01<00:02, 192.46iter/s, Error=1.5005e-03]"
     ]
    },
    {
     "name": "stderr",
     "output_type": "stream",
     "text": [
      "\r",
      "Least Squares Iteration:  53%|█████▎    | 530/1000 [00:01<00:02, 192.46iter/s, Error=1.4987e-03]"
     ]
    },
    {
     "name": "stderr",
     "output_type": "stream",
     "text": [
      "\r",
      "Least Squares Iteration:  53%|█████▎    | 531/1000 [00:01<00:02, 192.46iter/s, Error=1.4968e-03]"
     ]
    },
    {
     "name": "stderr",
     "output_type": "stream",
     "text": [
      "\r",
      "Least Squares Iteration:  53%|█████▎    | 532/1000 [00:01<00:02, 192.46iter/s, Error=1.4950e-03]"
     ]
    },
    {
     "name": "stderr",
     "output_type": "stream",
     "text": [
      "\r",
      "Least Squares Iteration:  53%|█████▎    | 533/1000 [00:01<00:02, 192.46iter/s, Error=1.4932e-03]"
     ]
    },
    {
     "name": "stderr",
     "output_type": "stream",
     "text": [
      "\r",
      "Least Squares Iteration:  53%|█████▎    | 534/1000 [00:01<00:02, 192.46iter/s, Error=1.4913e-03]"
     ]
    },
    {
     "name": "stderr",
     "output_type": "stream",
     "text": [
      "\r",
      "Least Squares Iteration:  54%|█████▎    | 535/1000 [00:01<00:02, 192.46iter/s, Error=1.4895e-03]"
     ]
    },
    {
     "name": "stderr",
     "output_type": "stream",
     "text": [
      "\r",
      "Least Squares Iteration:  54%|█████▎    | 536/1000 [00:01<00:02, 192.46iter/s, Error=1.4877e-03]"
     ]
    },
    {
     "name": "stderr",
     "output_type": "stream",
     "text": [
      "\r",
      "Least Squares Iteration:  54%|█████▎    | 537/1000 [00:01<00:02, 192.46iter/s, Error=1.4859e-03]"
     ]
    },
    {
     "name": "stderr",
     "output_type": "stream",
     "text": [
      "\r",
      "Least Squares Iteration:  54%|█████▍    | 538/1000 [00:01<00:02, 192.46iter/s, Error=1.4841e-03]"
     ]
    },
    {
     "name": "stderr",
     "output_type": "stream",
     "text": [
      "\r",
      "Least Squares Iteration:  54%|█████▍    | 539/1000 [00:01<00:02, 192.46iter/s, Error=1.4823e-03]"
     ]
    },
    {
     "name": "stderr",
     "output_type": "stream",
     "text": [
      "\r",
      "Least Squares Iteration:  54%|█████▍    | 540/1000 [00:01<00:02, 192.46iter/s, Error=1.4805e-03]"
     ]
    },
    {
     "name": "stderr",
     "output_type": "stream",
     "text": [
      "\r",
      "Least Squares Iteration:  54%|█████▍    | 541/1000 [00:01<00:02, 192.46iter/s, Error=1.4788e-03]"
     ]
    },
    {
     "name": "stderr",
     "output_type": "stream",
     "text": [
      "\r",
      "Least Squares Iteration:  54%|█████▍    | 542/1000 [00:01<00:02, 192.46iter/s, Error=1.4770e-03]"
     ]
    },
    {
     "name": "stderr",
     "output_type": "stream",
     "text": [
      "\r",
      "Least Squares Iteration:  54%|█████▍    | 543/1000 [00:01<00:02, 192.46iter/s, Error=1.4752e-03]"
     ]
    },
    {
     "name": "stderr",
     "output_type": "stream",
     "text": [
      "\r",
      "Least Squares Iteration:  54%|█████▍    | 544/1000 [00:01<00:02, 192.46iter/s, Error=1.4734e-03]"
     ]
    },
    {
     "name": "stderr",
     "output_type": "stream",
     "text": [
      "\r",
      "Least Squares Iteration:  55%|█████▍    | 545/1000 [00:01<00:02, 180.61iter/s, Error=1.4734e-03]"
     ]
    },
    {
     "name": "stderr",
     "output_type": "stream",
     "text": [
      "\r",
      "Least Squares Iteration:  55%|█████▍    | 545/1000 [00:01<00:02, 180.61iter/s, Error=1.4717e-03]"
     ]
    },
    {
     "name": "stderr",
     "output_type": "stream",
     "text": [
      "\r",
      "Least Squares Iteration:  55%|█████▍    | 546/1000 [00:01<00:02, 180.61iter/s, Error=1.4699e-03]"
     ]
    },
    {
     "name": "stderr",
     "output_type": "stream",
     "text": [
      "\r",
      "Least Squares Iteration:  55%|█████▍    | 547/1000 [00:01<00:02, 180.61iter/s, Error=1.4682e-03]"
     ]
    },
    {
     "name": "stderr",
     "output_type": "stream",
     "text": [
      "\r",
      "Least Squares Iteration:  55%|█████▍    | 548/1000 [00:01<00:02, 180.61iter/s, Error=1.4664e-03]"
     ]
    },
    {
     "name": "stderr",
     "output_type": "stream",
     "text": [
      "\r",
      "Least Squares Iteration:  55%|█████▍    | 549/1000 [00:01<00:02, 180.61iter/s, Error=1.4647e-03]"
     ]
    },
    {
     "name": "stderr",
     "output_type": "stream",
     "text": [
      "\r",
      "Least Squares Iteration:  55%|█████▌    | 550/1000 [00:02<00:02, 180.61iter/s, Error=1.4630e-03]"
     ]
    },
    {
     "name": "stderr",
     "output_type": "stream",
     "text": [
      "\r",
      "Least Squares Iteration:  55%|█████▌    | 551/1000 [00:02<00:02, 180.61iter/s, Error=1.4613e-03]"
     ]
    },
    {
     "name": "stderr",
     "output_type": "stream",
     "text": [
      "\r",
      "Least Squares Iteration:  55%|█████▌    | 552/1000 [00:02<00:02, 180.61iter/s, Error=1.4595e-03]"
     ]
    },
    {
     "name": "stderr",
     "output_type": "stream",
     "text": [
      "\r",
      "Least Squares Iteration:  55%|█████▌    | 553/1000 [00:02<00:02, 180.61iter/s, Error=1.4578e-03]"
     ]
    },
    {
     "name": "stderr",
     "output_type": "stream",
     "text": [
      "\r",
      "Least Squares Iteration:  55%|█████▌    | 554/1000 [00:02<00:02, 180.61iter/s, Error=1.4561e-03]"
     ]
    },
    {
     "name": "stderr",
     "output_type": "stream",
     "text": [
      "\r",
      "Least Squares Iteration:  56%|█████▌    | 555/1000 [00:02<00:02, 180.61iter/s, Error=1.4544e-03]"
     ]
    },
    {
     "name": "stderr",
     "output_type": "stream",
     "text": [
      "\r",
      "Least Squares Iteration:  56%|█████▌    | 556/1000 [00:02<00:02, 180.61iter/s, Error=1.4527e-03]"
     ]
    },
    {
     "name": "stderr",
     "output_type": "stream",
     "text": [
      "\r",
      "Least Squares Iteration:  56%|█████▌    | 557/1000 [00:02<00:02, 180.61iter/s, Error=1.4510e-03]"
     ]
    },
    {
     "name": "stderr",
     "output_type": "stream",
     "text": [
      "\r",
      "Least Squares Iteration:  56%|█████▌    | 558/1000 [00:02<00:02, 180.61iter/s, Error=1.4493e-03]"
     ]
    },
    {
     "name": "stderr",
     "output_type": "stream",
     "text": [
      "\r",
      "Least Squares Iteration:  56%|█████▌    | 559/1000 [00:02<00:02, 180.61iter/s, Error=1.4476e-03]"
     ]
    },
    {
     "name": "stderr",
     "output_type": "stream",
     "text": [
      "\r",
      "Least Squares Iteration:  56%|█████▌    | 560/1000 [00:02<00:02, 180.61iter/s, Error=1.4460e-03]"
     ]
    },
    {
     "name": "stderr",
     "output_type": "stream",
     "text": [
      "\r",
      "Least Squares Iteration:  56%|█████▌    | 561/1000 [00:02<00:02, 180.61iter/s, Error=1.4443e-03]"
     ]
    },
    {
     "name": "stderr",
     "output_type": "stream",
     "text": [
      "\r",
      "Least Squares Iteration:  56%|█████▌    | 562/1000 [00:02<00:02, 180.61iter/s, Error=1.4426e-03]"
     ]
    },
    {
     "name": "stderr",
     "output_type": "stream",
     "text": [
      "\r",
      "Least Squares Iteration:  56%|█████▋    | 563/1000 [00:02<00:02, 180.61iter/s, Error=1.4410e-03]"
     ]
    },
    {
     "name": "stderr",
     "output_type": "stream",
     "text": [
      "\r",
      "Least Squares Iteration:  56%|█████▋    | 564/1000 [00:02<00:02, 172.76iter/s, Error=1.4410e-03]"
     ]
    },
    {
     "name": "stderr",
     "output_type": "stream",
     "text": [
      "\r",
      "Least Squares Iteration:  56%|█████▋    | 564/1000 [00:02<00:02, 172.76iter/s, Error=1.4393e-03]"
     ]
    },
    {
     "name": "stderr",
     "output_type": "stream",
     "text": [
      "\r",
      "Least Squares Iteration:  56%|█████▋    | 565/1000 [00:02<00:02, 172.76iter/s, Error=1.4377e-03]"
     ]
    },
    {
     "name": "stderr",
     "output_type": "stream",
     "text": [
      "\r",
      "Least Squares Iteration:  57%|█████▋    | 566/1000 [00:02<00:02, 172.76iter/s, Error=1.4360e-03]"
     ]
    },
    {
     "name": "stderr",
     "output_type": "stream",
     "text": [
      "\r",
      "Least Squares Iteration:  57%|█████▋    | 567/1000 [00:02<00:02, 172.76iter/s, Error=1.4344e-03]"
     ]
    },
    {
     "name": "stderr",
     "output_type": "stream",
     "text": [
      "\r",
      "Least Squares Iteration:  57%|█████▋    | 568/1000 [00:02<00:02, 172.76iter/s, Error=1.4328e-03]"
     ]
    },
    {
     "name": "stderr",
     "output_type": "stream",
     "text": [
      "\r",
      "Least Squares Iteration:  57%|█████▋    | 569/1000 [00:02<00:02, 172.76iter/s, Error=1.4311e-03]"
     ]
    },
    {
     "name": "stderr",
     "output_type": "stream",
     "text": [
      "\r",
      "Least Squares Iteration:  57%|█████▋    | 570/1000 [00:02<00:02, 172.76iter/s, Error=1.4295e-03]"
     ]
    },
    {
     "name": "stderr",
     "output_type": "stream",
     "text": [
      "\r",
      "Least Squares Iteration:  57%|█████▋    | 571/1000 [00:02<00:02, 172.76iter/s, Error=1.4279e-03]"
     ]
    },
    {
     "name": "stderr",
     "output_type": "stream",
     "text": [
      "\r",
      "Least Squares Iteration:  57%|█████▋    | 572/1000 [00:02<00:02, 172.76iter/s, Error=1.4263e-03]"
     ]
    },
    {
     "name": "stderr",
     "output_type": "stream",
     "text": [
      "\r",
      "Least Squares Iteration:  57%|█████▋    | 573/1000 [00:02<00:02, 172.76iter/s, Error=1.4247e-03]"
     ]
    },
    {
     "name": "stderr",
     "output_type": "stream",
     "text": [
      "\r",
      "Least Squares Iteration:  57%|█████▋    | 574/1000 [00:02<00:02, 172.76iter/s, Error=1.4231e-03]"
     ]
    },
    {
     "name": "stderr",
     "output_type": "stream",
     "text": [
      "\r",
      "Least Squares Iteration:  57%|█████▊    | 575/1000 [00:02<00:02, 172.76iter/s, Error=1.4214e-03]"
     ]
    },
    {
     "name": "stderr",
     "output_type": "stream",
     "text": [
      "\r",
      "Least Squares Iteration:  58%|█████▊    | 576/1000 [00:02<00:02, 172.76iter/s, Error=1.4199e-03]"
     ]
    },
    {
     "name": "stderr",
     "output_type": "stream",
     "text": [
      "\r",
      "Least Squares Iteration:  58%|█████▊    | 577/1000 [00:02<00:02, 172.76iter/s, Error=1.4183e-03]"
     ]
    },
    {
     "name": "stderr",
     "output_type": "stream",
     "text": [
      "\r",
      "Least Squares Iteration:  58%|█████▊    | 578/1000 [00:02<00:02, 172.76iter/s, Error=1.4167e-03]"
     ]
    },
    {
     "name": "stderr",
     "output_type": "stream",
     "text": [
      "\r",
      "Least Squares Iteration:  58%|█████▊    | 579/1000 [00:02<00:02, 172.76iter/s, Error=1.4151e-03]"
     ]
    },
    {
     "name": "stderr",
     "output_type": "stream",
     "text": [
      "\r",
      "Least Squares Iteration:  58%|█████▊    | 580/1000 [00:02<00:02, 172.76iter/s, Error=1.4135e-03]"
     ]
    },
    {
     "name": "stderr",
     "output_type": "stream",
     "text": [
      "\r",
      "Least Squares Iteration:  58%|█████▊    | 581/1000 [00:02<00:02, 172.76iter/s, Error=1.4119e-03]"
     ]
    },
    {
     "name": "stderr",
     "output_type": "stream",
     "text": [
      "\r",
      "Least Squares Iteration:  58%|█████▊    | 582/1000 [00:02<00:02, 160.24iter/s, Error=1.4119e-03]"
     ]
    },
    {
     "name": "stderr",
     "output_type": "stream",
     "text": [
      "\r",
      "Least Squares Iteration:  58%|█████▊    | 582/1000 [00:02<00:02, 160.24iter/s, Error=1.4104e-03]"
     ]
    },
    {
     "name": "stderr",
     "output_type": "stream",
     "text": [
      "\r",
      "Least Squares Iteration:  58%|█████▊    | 583/1000 [00:02<00:02, 160.24iter/s, Error=1.4088e-03]"
     ]
    },
    {
     "name": "stderr",
     "output_type": "stream",
     "text": [
      "\r",
      "Least Squares Iteration:  58%|█████▊    | 584/1000 [00:02<00:02, 160.24iter/s, Error=1.4073e-03]"
     ]
    },
    {
     "name": "stderr",
     "output_type": "stream",
     "text": [
      "\r",
      "Least Squares Iteration:  58%|█████▊    | 585/1000 [00:02<00:02, 160.24iter/s, Error=1.4057e-03]"
     ]
    },
    {
     "name": "stderr",
     "output_type": "stream",
     "text": [
      "\r",
      "Least Squares Iteration:  59%|█████▊    | 586/1000 [00:02<00:02, 160.24iter/s, Error=1.4042e-03]"
     ]
    },
    {
     "name": "stderr",
     "output_type": "stream",
     "text": [
      "\r",
      "Least Squares Iteration:  59%|█████▊    | 587/1000 [00:02<00:02, 160.24iter/s, Error=1.4026e-03]"
     ]
    },
    {
     "name": "stderr",
     "output_type": "stream",
     "text": [
      "\r",
      "Least Squares Iteration:  59%|█████▉    | 588/1000 [00:02<00:02, 160.24iter/s, Error=1.4011e-03]"
     ]
    },
    {
     "name": "stderr",
     "output_type": "stream",
     "text": [
      "\r",
      "Least Squares Iteration:  59%|█████▉    | 589/1000 [00:02<00:02, 160.24iter/s, Error=1.3995e-03]"
     ]
    },
    {
     "name": "stderr",
     "output_type": "stream",
     "text": [
      "\r",
      "Least Squares Iteration:  59%|█████▉    | 590/1000 [00:02<00:02, 160.24iter/s, Error=1.3980e-03]"
     ]
    },
    {
     "name": "stderr",
     "output_type": "stream",
     "text": [
      "\r",
      "Least Squares Iteration:  59%|█████▉    | 591/1000 [00:02<00:02, 160.24iter/s, Error=1.3965e-03]"
     ]
    },
    {
     "name": "stderr",
     "output_type": "stream",
     "text": [
      "\r",
      "Least Squares Iteration:  59%|█████▉    | 592/1000 [00:02<00:02, 160.24iter/s, Error=1.3950e-03]"
     ]
    },
    {
     "name": "stderr",
     "output_type": "stream",
     "text": [
      "\r",
      "Least Squares Iteration:  59%|█████▉    | 593/1000 [00:02<00:02, 160.24iter/s, Error=1.3934e-03]"
     ]
    },
    {
     "name": "stderr",
     "output_type": "stream",
     "text": [
      "\r",
      "Least Squares Iteration:  59%|█████▉    | 594/1000 [00:02<00:02, 160.24iter/s, Error=1.3919e-03]"
     ]
    },
    {
     "name": "stderr",
     "output_type": "stream",
     "text": [
      "\r",
      "Least Squares Iteration:  60%|█████▉    | 595/1000 [00:02<00:02, 160.24iter/s, Error=1.3904e-03]"
     ]
    },
    {
     "name": "stderr",
     "output_type": "stream",
     "text": [
      "\r",
      "Least Squares Iteration:  60%|█████▉    | 596/1000 [00:02<00:02, 160.24iter/s, Error=1.3889e-03]"
     ]
    },
    {
     "name": "stderr",
     "output_type": "stream",
     "text": [
      "\r",
      "Least Squares Iteration:  60%|█████▉    | 597/1000 [00:02<00:02, 160.24iter/s, Error=1.3874e-03]"
     ]
    },
    {
     "name": "stderr",
     "output_type": "stream",
     "text": [
      "\r",
      "Least Squares Iteration:  60%|█████▉    | 598/1000 [00:02<00:02, 160.24iter/s, Error=1.3859e-03]"
     ]
    },
    {
     "name": "stderr",
     "output_type": "stream",
     "text": [
      "\r",
      "Least Squares Iteration:  60%|█████▉    | 599/1000 [00:02<00:02, 146.74iter/s, Error=1.3859e-03]"
     ]
    },
    {
     "name": "stderr",
     "output_type": "stream",
     "text": [
      "\r",
      "Least Squares Iteration:  60%|█████▉    | 599/1000 [00:02<00:02, 146.74iter/s, Error=1.3844e-03]"
     ]
    },
    {
     "name": "stderr",
     "output_type": "stream",
     "text": [
      "\r",
      "Least Squares Iteration:  60%|██████    | 600/1000 [00:02<00:02, 146.74iter/s, Error=1.3829e-03]"
     ]
    },
    {
     "name": "stderr",
     "output_type": "stream",
     "text": [
      "\r",
      "Least Squares Iteration:  60%|██████    | 601/1000 [00:02<00:02, 146.74iter/s, Error=1.3815e-03]"
     ]
    },
    {
     "name": "stderr",
     "output_type": "stream",
     "text": [
      "\r",
      "Least Squares Iteration:  60%|██████    | 602/1000 [00:02<00:02, 146.74iter/s, Error=1.3800e-03]"
     ]
    },
    {
     "name": "stderr",
     "output_type": "stream",
     "text": [
      "\r",
      "Least Squares Iteration:  60%|██████    | 603/1000 [00:02<00:02, 146.74iter/s, Error=1.3785e-03]"
     ]
    },
    {
     "name": "stderr",
     "output_type": "stream",
     "text": [
      "\r",
      "Least Squares Iteration:  60%|██████    | 604/1000 [00:02<00:02, 146.74iter/s, Error=1.3770e-03]"
     ]
    },
    {
     "name": "stderr",
     "output_type": "stream",
     "text": [
      "\r",
      "Least Squares Iteration:  60%|██████    | 605/1000 [00:02<00:02, 146.74iter/s, Error=1.3756e-03]"
     ]
    },
    {
     "name": "stderr",
     "output_type": "stream",
     "text": [
      "\r",
      "Least Squares Iteration:  61%|██████    | 606/1000 [00:02<00:02, 146.74iter/s, Error=1.3741e-03]"
     ]
    },
    {
     "name": "stderr",
     "output_type": "stream",
     "text": [
      "\r",
      "Least Squares Iteration:  61%|██████    | 607/1000 [00:02<00:02, 146.74iter/s, Error=1.3726e-03]"
     ]
    },
    {
     "name": "stderr",
     "output_type": "stream",
     "text": [
      "\r",
      "Least Squares Iteration:  61%|██████    | 608/1000 [00:02<00:02, 146.74iter/s, Error=1.3712e-03]"
     ]
    },
    {
     "name": "stderr",
     "output_type": "stream",
     "text": [
      "\r",
      "Least Squares Iteration:  61%|██████    | 609/1000 [00:02<00:02, 146.74iter/s, Error=1.3697e-03]"
     ]
    },
    {
     "name": "stderr",
     "output_type": "stream",
     "text": [
      "\r",
      "Least Squares Iteration:  61%|██████    | 610/1000 [00:02<00:02, 146.74iter/s, Error=1.3683e-03]"
     ]
    },
    {
     "name": "stderr",
     "output_type": "stream",
     "text": [
      "\r",
      "Least Squares Iteration:  61%|██████    | 611/1000 [00:02<00:02, 146.74iter/s, Error=1.3668e-03]"
     ]
    },
    {
     "name": "stderr",
     "output_type": "stream",
     "text": [
      "\r",
      "Least Squares Iteration:  61%|██████    | 612/1000 [00:02<00:02, 146.74iter/s, Error=1.3654e-03]"
     ]
    },
    {
     "name": "stderr",
     "output_type": "stream",
     "text": [
      "\r",
      "Least Squares Iteration:  61%|██████▏   | 613/1000 [00:02<00:02, 146.74iter/s, Error=1.3640e-03]"
     ]
    },
    {
     "name": "stderr",
     "output_type": "stream",
     "text": [
      "\r",
      "Least Squares Iteration:  61%|██████▏   | 614/1000 [00:02<00:02, 145.59iter/s, Error=1.3640e-03]"
     ]
    },
    {
     "name": "stderr",
     "output_type": "stream",
     "text": [
      "\r",
      "Least Squares Iteration:  61%|██████▏   | 614/1000 [00:02<00:02, 145.59iter/s, Error=1.3626e-03]"
     ]
    },
    {
     "name": "stderr",
     "output_type": "stream",
     "text": [
      "\r",
      "Least Squares Iteration:  62%|██████▏   | 615/1000 [00:02<00:02, 145.59iter/s, Error=1.3611e-03]"
     ]
    },
    {
     "name": "stderr",
     "output_type": "stream",
     "text": [
      "\r",
      "Least Squares Iteration:  62%|██████▏   | 616/1000 [00:02<00:02, 145.59iter/s, Error=1.3597e-03]"
     ]
    },
    {
     "name": "stderr",
     "output_type": "stream",
     "text": [
      "\r",
      "Least Squares Iteration:  62%|██████▏   | 617/1000 [00:02<00:02, 145.59iter/s, Error=1.3583e-03]"
     ]
    },
    {
     "name": "stderr",
     "output_type": "stream",
     "text": [
      "\r",
      "Least Squares Iteration:  62%|██████▏   | 618/1000 [00:02<00:02, 145.59iter/s, Error=1.3569e-03]"
     ]
    },
    {
     "name": "stderr",
     "output_type": "stream",
     "text": [
      "\r",
      "Least Squares Iteration:  62%|██████▏   | 619/1000 [00:02<00:02, 145.59iter/s, Error=1.3555e-03]"
     ]
    },
    {
     "name": "stderr",
     "output_type": "stream",
     "text": [
      "\r",
      "Least Squares Iteration:  62%|██████▏   | 620/1000 [00:02<00:02, 145.59iter/s, Error=1.3541e-03]"
     ]
    },
    {
     "name": "stderr",
     "output_type": "stream",
     "text": [
      "\r",
      "Least Squares Iteration:  62%|██████▏   | 621/1000 [00:02<00:02, 145.59iter/s, Error=1.3527e-03]"
     ]
    },
    {
     "name": "stderr",
     "output_type": "stream",
     "text": [
      "\r",
      "Least Squares Iteration:  62%|██████▏   | 622/1000 [00:02<00:02, 145.59iter/s, Error=1.3513e-03]"
     ]
    },
    {
     "name": "stderr",
     "output_type": "stream",
     "text": [
      "\r",
      "Least Squares Iteration:  62%|██████▏   | 623/1000 [00:02<00:02, 145.59iter/s, Error=1.3499e-03]"
     ]
    },
    {
     "name": "stderr",
     "output_type": "stream",
     "text": [
      "\r",
      "Least Squares Iteration:  62%|██████▏   | 624/1000 [00:02<00:02, 145.59iter/s, Error=1.3485e-03]"
     ]
    },
    {
     "name": "stderr",
     "output_type": "stream",
     "text": [
      "\r",
      "Least Squares Iteration:  62%|██████▎   | 625/1000 [00:02<00:02, 145.59iter/s, Error=1.3471e-03]"
     ]
    },
    {
     "name": "stderr",
     "output_type": "stream",
     "text": [
      "\r",
      "Least Squares Iteration:  63%|██████▎   | 626/1000 [00:02<00:02, 145.59iter/s, Error=1.3457e-03]"
     ]
    },
    {
     "name": "stderr",
     "output_type": "stream",
     "text": [
      "\r",
      "Least Squares Iteration:  63%|██████▎   | 627/1000 [00:02<00:02, 145.59iter/s, Error=1.3443e-03]"
     ]
    },
    {
     "name": "stderr",
     "output_type": "stream",
     "text": [
      "\r",
      "Least Squares Iteration:  63%|██████▎   | 628/1000 [00:02<00:02, 145.59iter/s, Error=1.3429e-03]"
     ]
    },
    {
     "name": "stderr",
     "output_type": "stream",
     "text": [
      "\r",
      "Least Squares Iteration:  63%|██████▎   | 629/1000 [00:02<00:02, 144.63iter/s, Error=1.3429e-03]"
     ]
    },
    {
     "name": "stderr",
     "output_type": "stream",
     "text": [
      "\r",
      "Least Squares Iteration:  63%|██████▎   | 629/1000 [00:02<00:02, 144.63iter/s, Error=1.3416e-03]"
     ]
    },
    {
     "name": "stderr",
     "output_type": "stream",
     "text": [
      "\r",
      "Least Squares Iteration:  63%|██████▎   | 630/1000 [00:02<00:02, 144.63iter/s, Error=1.3402e-03]"
     ]
    },
    {
     "name": "stderr",
     "output_type": "stream",
     "text": [
      "\r",
      "Least Squares Iteration:  63%|██████▎   | 631/1000 [00:02<00:02, 144.63iter/s, Error=1.3388e-03]"
     ]
    },
    {
     "name": "stderr",
     "output_type": "stream",
     "text": [
      "\r",
      "Least Squares Iteration:  63%|██████▎   | 632/1000 [00:02<00:02, 144.63iter/s, Error=1.3375e-03]"
     ]
    },
    {
     "name": "stderr",
     "output_type": "stream",
     "text": [
      "\r",
      "Least Squares Iteration:  63%|██████▎   | 633/1000 [00:02<00:02, 144.63iter/s, Error=1.3361e-03]"
     ]
    },
    {
     "name": "stderr",
     "output_type": "stream",
     "text": [
      "\r",
      "Least Squares Iteration:  63%|██████▎   | 634/1000 [00:02<00:02, 144.63iter/s, Error=1.3348e-03]"
     ]
    },
    {
     "name": "stderr",
     "output_type": "stream",
     "text": [
      "\r",
      "Least Squares Iteration:  64%|██████▎   | 635/1000 [00:02<00:02, 144.63iter/s, Error=1.3334e-03]"
     ]
    },
    {
     "name": "stderr",
     "output_type": "stream",
     "text": [
      "\r",
      "Least Squares Iteration:  64%|██████▎   | 636/1000 [00:02<00:02, 144.63iter/s, Error=1.3321e-03]"
     ]
    },
    {
     "name": "stderr",
     "output_type": "stream",
     "text": [
      "\r",
      "Least Squares Iteration:  64%|██████▎   | 637/1000 [00:02<00:02, 144.63iter/s, Error=1.3307e-03]"
     ]
    },
    {
     "name": "stderr",
     "output_type": "stream",
     "text": [
      "\r",
      "Least Squares Iteration:  64%|██████▍   | 638/1000 [00:02<00:02, 144.63iter/s, Error=1.3294e-03]"
     ]
    },
    {
     "name": "stderr",
     "output_type": "stream",
     "text": [
      "\r",
      "Least Squares Iteration:  64%|██████▍   | 639/1000 [00:02<00:02, 144.63iter/s, Error=1.3281e-03]"
     ]
    },
    {
     "name": "stderr",
     "output_type": "stream",
     "text": [
      "\r",
      "Least Squares Iteration:  64%|██████▍   | 640/1000 [00:02<00:02, 144.63iter/s, Error=1.3267e-03]"
     ]
    },
    {
     "name": "stderr",
     "output_type": "stream",
     "text": [
      "\r",
      "Least Squares Iteration:  64%|██████▍   | 641/1000 [00:02<00:02, 144.63iter/s, Error=1.3254e-03]"
     ]
    },
    {
     "name": "stderr",
     "output_type": "stream",
     "text": [
      "\r",
      "Least Squares Iteration:  64%|██████▍   | 642/1000 [00:02<00:02, 144.63iter/s, Error=1.3241e-03]"
     ]
    },
    {
     "name": "stderr",
     "output_type": "stream",
     "text": [
      "\r",
      "Least Squares Iteration:  64%|██████▍   | 643/1000 [00:02<00:02, 144.63iter/s, Error=1.3228e-03]"
     ]
    },
    {
     "name": "stderr",
     "output_type": "stream",
     "text": [
      "\r",
      "Least Squares Iteration:  64%|██████▍   | 644/1000 [00:02<00:02, 139.61iter/s, Error=1.3228e-03]"
     ]
    },
    {
     "name": "stderr",
     "output_type": "stream",
     "text": [
      "\r",
      "Least Squares Iteration:  64%|██████▍   | 644/1000 [00:02<00:02, 139.61iter/s, Error=1.3214e-03]"
     ]
    },
    {
     "name": "stderr",
     "output_type": "stream",
     "text": [
      "\r",
      "Least Squares Iteration:  64%|██████▍   | 645/1000 [00:02<00:02, 139.61iter/s, Error=1.3201e-03]"
     ]
    },
    {
     "name": "stderr",
     "output_type": "stream",
     "text": [
      "\r",
      "Least Squares Iteration:  65%|██████▍   | 646/1000 [00:02<00:02, 139.61iter/s, Error=1.3188e-03]"
     ]
    },
    {
     "name": "stderr",
     "output_type": "stream",
     "text": [
      "\r",
      "Least Squares Iteration:  65%|██████▍   | 647/1000 [00:02<00:02, 139.61iter/s, Error=1.3175e-03]"
     ]
    },
    {
     "name": "stderr",
     "output_type": "stream",
     "text": [
      "\r",
      "Least Squares Iteration:  65%|██████▍   | 648/1000 [00:02<00:02, 139.61iter/s, Error=1.3162e-03]"
     ]
    },
    {
     "name": "stderr",
     "output_type": "stream",
     "text": [
      "\r",
      "Least Squares Iteration:  65%|██████▍   | 649/1000 [00:02<00:02, 139.61iter/s, Error=1.3149e-03]"
     ]
    },
    {
     "name": "stderr",
     "output_type": "stream",
     "text": [
      "\r",
      "Least Squares Iteration:  65%|██████▌   | 650/1000 [00:02<00:02, 139.61iter/s, Error=1.3136e-03]"
     ]
    },
    {
     "name": "stderr",
     "output_type": "stream",
     "text": [
      "\r",
      "Least Squares Iteration:  65%|██████▌   | 651/1000 [00:02<00:02, 139.61iter/s, Error=1.3123e-03]"
     ]
    },
    {
     "name": "stderr",
     "output_type": "stream",
     "text": [
      "\r",
      "Least Squares Iteration:  65%|██████▌   | 652/1000 [00:02<00:02, 139.61iter/s, Error=1.3110e-03]"
     ]
    },
    {
     "name": "stderr",
     "output_type": "stream",
     "text": [
      "\r",
      "Least Squares Iteration:  65%|██████▌   | 653/1000 [00:02<00:02, 139.61iter/s, Error=1.3097e-03]"
     ]
    },
    {
     "name": "stderr",
     "output_type": "stream",
     "text": [
      "\r",
      "Least Squares Iteration:  65%|██████▌   | 654/1000 [00:02<00:02, 139.61iter/s, Error=1.3084e-03]"
     ]
    },
    {
     "name": "stderr",
     "output_type": "stream",
     "text": [
      "\r",
      "Least Squares Iteration:  66%|██████▌   | 655/1000 [00:02<00:02, 139.61iter/s, Error=1.3072e-03]"
     ]
    },
    {
     "name": "stderr",
     "output_type": "stream",
     "text": [
      "\r",
      "Least Squares Iteration:  66%|██████▌   | 656/1000 [00:02<00:02, 139.61iter/s, Error=1.3059e-03]"
     ]
    },
    {
     "name": "stderr",
     "output_type": "stream",
     "text": [
      "\r",
      "Least Squares Iteration:  66%|██████▌   | 657/1000 [00:02<00:02, 139.61iter/s, Error=1.3046e-03]"
     ]
    },
    {
     "name": "stderr",
     "output_type": "stream",
     "text": [
      "\r",
      "Least Squares Iteration:  66%|██████▌   | 658/1000 [00:02<00:02, 138.61iter/s, Error=1.3046e-03]"
     ]
    },
    {
     "name": "stderr",
     "output_type": "stream",
     "text": [
      "\r",
      "Least Squares Iteration:  66%|██████▌   | 658/1000 [00:02<00:02, 138.61iter/s, Error=1.3033e-03]"
     ]
    },
    {
     "name": "stderr",
     "output_type": "stream",
     "text": [
      "\r",
      "Least Squares Iteration:  66%|██████▌   | 659/1000 [00:02<00:02, 138.61iter/s, Error=1.3021e-03]"
     ]
    },
    {
     "name": "stderr",
     "output_type": "stream",
     "text": [
      "\r",
      "Least Squares Iteration:  66%|██████▌   | 660/1000 [00:02<00:02, 138.61iter/s, Error=1.3008e-03]"
     ]
    },
    {
     "name": "stderr",
     "output_type": "stream",
     "text": [
      "\r",
      "Least Squares Iteration:  66%|██████▌   | 661/1000 [00:02<00:02, 138.61iter/s, Error=1.2995e-03]"
     ]
    },
    {
     "name": "stderr",
     "output_type": "stream",
     "text": [
      "\r",
      "Least Squares Iteration:  66%|██████▌   | 662/1000 [00:02<00:02, 138.61iter/s, Error=1.2983e-03]"
     ]
    },
    {
     "name": "stderr",
     "output_type": "stream",
     "text": [
      "\r",
      "Least Squares Iteration:  66%|██████▋   | 663/1000 [00:02<00:02, 138.61iter/s, Error=1.2970e-03]"
     ]
    },
    {
     "name": "stderr",
     "output_type": "stream",
     "text": [
      "\r",
      "Least Squares Iteration:  66%|██████▋   | 664/1000 [00:02<00:02, 138.61iter/s, Error=1.2958e-03]"
     ]
    },
    {
     "name": "stderr",
     "output_type": "stream",
     "text": [
      "\r",
      "Least Squares Iteration:  66%|██████▋   | 665/1000 [00:02<00:02, 138.61iter/s, Error=1.2945e-03]"
     ]
    },
    {
     "name": "stderr",
     "output_type": "stream",
     "text": [
      "\r",
      "Least Squares Iteration:  67%|██████▋   | 666/1000 [00:02<00:02, 138.61iter/s, Error=1.2933e-03]"
     ]
    },
    {
     "name": "stderr",
     "output_type": "stream",
     "text": [
      "\r",
      "Least Squares Iteration:  67%|██████▋   | 667/1000 [00:02<00:02, 138.61iter/s, Error=1.2920e-03]"
     ]
    },
    {
     "name": "stderr",
     "output_type": "stream",
     "text": [
      "\r",
      "Least Squares Iteration:  67%|██████▋   | 668/1000 [00:02<00:02, 138.61iter/s, Error=1.2908e-03]"
     ]
    },
    {
     "name": "stderr",
     "output_type": "stream",
     "text": [
      "\r",
      "Least Squares Iteration:  67%|██████▋   | 669/1000 [00:02<00:02, 138.61iter/s, Error=1.2896e-03]"
     ]
    },
    {
     "name": "stderr",
     "output_type": "stream",
     "text": [
      "\r",
      "Least Squares Iteration:  67%|██████▋   | 670/1000 [00:02<00:02, 138.61iter/s, Error=1.2883e-03]"
     ]
    },
    {
     "name": "stderr",
     "output_type": "stream",
     "text": [
      "\r",
      "Least Squares Iteration:  67%|██████▋   | 671/1000 [00:02<00:02, 138.61iter/s, Error=1.2871e-03]"
     ]
    },
    {
     "name": "stderr",
     "output_type": "stream",
     "text": [
      "\r",
      "Least Squares Iteration:  67%|██████▋   | 672/1000 [00:02<00:02, 138.98iter/s, Error=1.2871e-03]"
     ]
    },
    {
     "name": "stderr",
     "output_type": "stream",
     "text": [
      "\r",
      "Least Squares Iteration:  67%|██████▋   | 672/1000 [00:02<00:02, 138.98iter/s, Error=1.2859e-03]"
     ]
    },
    {
     "name": "stderr",
     "output_type": "stream",
     "text": [
      "\r",
      "Least Squares Iteration:  67%|██████▋   | 673/1000 [00:02<00:02, 138.98iter/s, Error=1.2846e-03]"
     ]
    },
    {
     "name": "stderr",
     "output_type": "stream",
     "text": [
      "\r",
      "Least Squares Iteration:  67%|██████▋   | 674/1000 [00:02<00:02, 138.98iter/s, Error=1.2834e-03]"
     ]
    },
    {
     "name": "stderr",
     "output_type": "stream",
     "text": [
      "\r",
      "Least Squares Iteration:  68%|██████▊   | 675/1000 [00:02<00:02, 138.98iter/s, Error=1.2822e-03]"
     ]
    },
    {
     "name": "stderr",
     "output_type": "stream",
     "text": [
      "\r",
      "Least Squares Iteration:  68%|██████▊   | 676/1000 [00:02<00:02, 138.98iter/s, Error=1.2810e-03]"
     ]
    },
    {
     "name": "stderr",
     "output_type": "stream",
     "text": [
      "\r",
      "Least Squares Iteration:  68%|██████▊   | 677/1000 [00:02<00:02, 138.98iter/s, Error=1.2798e-03]"
     ]
    },
    {
     "name": "stderr",
     "output_type": "stream",
     "text": [
      "\r",
      "Least Squares Iteration:  68%|██████▊   | 678/1000 [00:02<00:02, 138.98iter/s, Error=1.2786e-03]"
     ]
    },
    {
     "name": "stderr",
     "output_type": "stream",
     "text": [
      "\r",
      "Least Squares Iteration:  68%|██████▊   | 679/1000 [00:02<00:02, 138.98iter/s, Error=1.2774e-03]"
     ]
    },
    {
     "name": "stderr",
     "output_type": "stream",
     "text": [
      "\r",
      "Least Squares Iteration:  68%|██████▊   | 680/1000 [00:02<00:02, 138.98iter/s, Error=1.2762e-03]"
     ]
    },
    {
     "name": "stderr",
     "output_type": "stream",
     "text": [
      "\r",
      "Least Squares Iteration:  68%|██████▊   | 681/1000 [00:02<00:02, 138.98iter/s, Error=1.2750e-03]"
     ]
    },
    {
     "name": "stderr",
     "output_type": "stream",
     "text": [
      "\r",
      "Least Squares Iteration:  68%|██████▊   | 682/1000 [00:02<00:02, 138.98iter/s, Error=1.2738e-03]"
     ]
    },
    {
     "name": "stderr",
     "output_type": "stream",
     "text": [
      "\r",
      "Least Squares Iteration:  68%|██████▊   | 683/1000 [00:02<00:02, 138.98iter/s, Error=1.2726e-03]"
     ]
    },
    {
     "name": "stderr",
     "output_type": "stream",
     "text": [
      "\r",
      "Least Squares Iteration:  68%|██████▊   | 684/1000 [00:03<00:02, 138.98iter/s, Error=1.2714e-03]"
     ]
    },
    {
     "name": "stderr",
     "output_type": "stream",
     "text": [
      "\r",
      "Least Squares Iteration:  68%|██████▊   | 685/1000 [00:03<00:02, 138.98iter/s, Error=1.2702e-03]"
     ]
    },
    {
     "name": "stderr",
     "output_type": "stream",
     "text": [
      "\r",
      "Least Squares Iteration:  69%|██████▊   | 686/1000 [00:03<00:02, 134.49iter/s, Error=1.2702e-03]"
     ]
    },
    {
     "name": "stderr",
     "output_type": "stream",
     "text": [
      "\r",
      "Least Squares Iteration:  69%|██████▊   | 686/1000 [00:03<00:02, 134.49iter/s, Error=1.2690e-03]"
     ]
    },
    {
     "name": "stderr",
     "output_type": "stream",
     "text": [
      "\r",
      "Least Squares Iteration:  69%|██████▊   | 687/1000 [00:03<00:02, 134.49iter/s, Error=1.2678e-03]"
     ]
    },
    {
     "name": "stderr",
     "output_type": "stream",
     "text": [
      "\r",
      "Least Squares Iteration:  69%|██████▉   | 688/1000 [00:03<00:02, 134.49iter/s, Error=1.2667e-03]"
     ]
    },
    {
     "name": "stderr",
     "output_type": "stream",
     "text": [
      "\r",
      "Least Squares Iteration:  69%|██████▉   | 689/1000 [00:03<00:02, 134.49iter/s, Error=1.2655e-03]"
     ]
    },
    {
     "name": "stderr",
     "output_type": "stream",
     "text": [
      "\r",
      "Least Squares Iteration:  69%|██████▉   | 690/1000 [00:03<00:02, 134.49iter/s, Error=1.2643e-03]"
     ]
    },
    {
     "name": "stderr",
     "output_type": "stream",
     "text": [
      "\r",
      "Least Squares Iteration:  69%|██████▉   | 691/1000 [00:03<00:02, 134.49iter/s, Error=1.2631e-03]"
     ]
    },
    {
     "name": "stderr",
     "output_type": "stream",
     "text": [
      "\r",
      "Least Squares Iteration:  69%|██████▉   | 692/1000 [00:03<00:02, 134.49iter/s, Error=1.2620e-03]"
     ]
    },
    {
     "name": "stderr",
     "output_type": "stream",
     "text": [
      "\r",
      "Least Squares Iteration:  69%|██████▉   | 693/1000 [00:03<00:02, 134.49iter/s, Error=1.2608e-03]"
     ]
    },
    {
     "name": "stderr",
     "output_type": "stream",
     "text": [
      "\r",
      "Least Squares Iteration:  69%|██████▉   | 694/1000 [00:03<00:02, 134.49iter/s, Error=1.2596e-03]"
     ]
    },
    {
     "name": "stderr",
     "output_type": "stream",
     "text": [
      "\r",
      "Least Squares Iteration:  70%|██████▉   | 695/1000 [00:03<00:02, 134.49iter/s, Error=1.2585e-03]"
     ]
    },
    {
     "name": "stderr",
     "output_type": "stream",
     "text": [
      "\r",
      "Least Squares Iteration:  70%|██████▉   | 696/1000 [00:03<00:02, 134.49iter/s, Error=1.2573e-03]"
     ]
    },
    {
     "name": "stderr",
     "output_type": "stream",
     "text": [
      "\r",
      "Least Squares Iteration:  70%|██████▉   | 697/1000 [00:03<00:02, 134.49iter/s, Error=1.2562e-03]"
     ]
    },
    {
     "name": "stderr",
     "output_type": "stream",
     "text": [
      "\r",
      "Least Squares Iteration:  70%|██████▉   | 698/1000 [00:03<00:02, 134.49iter/s, Error=1.2550e-03]"
     ]
    },
    {
     "name": "stderr",
     "output_type": "stream",
     "text": [
      "\r",
      "Least Squares Iteration:  70%|██████▉   | 699/1000 [00:03<00:02, 134.49iter/s, Error=1.2539e-03]"
     ]
    },
    {
     "name": "stderr",
     "output_type": "stream",
     "text": [
      "\r",
      "Least Squares Iteration:  70%|███████   | 700/1000 [00:03<00:02, 119.62iter/s, Error=1.2539e-03]"
     ]
    },
    {
     "name": "stderr",
     "output_type": "stream",
     "text": [
      "\r",
      "Least Squares Iteration:  70%|███████   | 700/1000 [00:03<00:02, 119.62iter/s, Error=1.2527e-03]"
     ]
    },
    {
     "name": "stderr",
     "output_type": "stream",
     "text": [
      "\r",
      "Least Squares Iteration:  70%|███████   | 701/1000 [00:03<00:02, 119.62iter/s, Error=1.2516e-03]"
     ]
    },
    {
     "name": "stderr",
     "output_type": "stream",
     "text": [
      "\r",
      "Least Squares Iteration:  70%|███████   | 702/1000 [00:03<00:02, 119.62iter/s, Error=1.2504e-03]"
     ]
    },
    {
     "name": "stderr",
     "output_type": "stream",
     "text": [
      "\r",
      "Least Squares Iteration:  70%|███████   | 703/1000 [00:03<00:02, 119.62iter/s, Error=1.2493e-03]"
     ]
    },
    {
     "name": "stderr",
     "output_type": "stream",
     "text": [
      "\r",
      "Least Squares Iteration:  70%|███████   | 704/1000 [00:03<00:02, 119.62iter/s, Error=1.2482e-03]"
     ]
    },
    {
     "name": "stderr",
     "output_type": "stream",
     "text": [
      "\r",
      "Least Squares Iteration:  70%|███████   | 705/1000 [00:03<00:02, 119.62iter/s, Error=1.2470e-03]"
     ]
    },
    {
     "name": "stderr",
     "output_type": "stream",
     "text": [
      "\r",
      "Least Squares Iteration:  71%|███████   | 706/1000 [00:03<00:02, 119.62iter/s, Error=1.2459e-03]"
     ]
    },
    {
     "name": "stderr",
     "output_type": "stream",
     "text": [
      "\r",
      "Least Squares Iteration:  71%|███████   | 707/1000 [00:03<00:02, 119.62iter/s, Error=1.2448e-03]"
     ]
    },
    {
     "name": "stderr",
     "output_type": "stream",
     "text": [
      "\r",
      "Least Squares Iteration:  71%|███████   | 708/1000 [00:03<00:02, 119.62iter/s, Error=1.2437e-03]"
     ]
    },
    {
     "name": "stderr",
     "output_type": "stream",
     "text": [
      "\r",
      "Least Squares Iteration:  71%|███████   | 709/1000 [00:03<00:02, 119.62iter/s, Error=1.2425e-03]"
     ]
    },
    {
     "name": "stderr",
     "output_type": "stream",
     "text": [
      "\r",
      "Least Squares Iteration:  71%|███████   | 710/1000 [00:03<00:02, 119.62iter/s, Error=1.2414e-03]"
     ]
    },
    {
     "name": "stderr",
     "output_type": "stream",
     "text": [
      "\r",
      "Least Squares Iteration:  71%|███████   | 711/1000 [00:03<00:02, 119.62iter/s, Error=1.2403e-03]"
     ]
    },
    {
     "name": "stderr",
     "output_type": "stream",
     "text": [
      "\r",
      "Least Squares Iteration:  71%|███████   | 712/1000 [00:03<00:02, 119.62iter/s, Error=1.2392e-03]"
     ]
    },
    {
     "name": "stderr",
     "output_type": "stream",
     "text": [
      "\r",
      "Least Squares Iteration:  71%|███████▏  | 713/1000 [00:03<00:02, 119.95iter/s, Error=1.2392e-03]"
     ]
    },
    {
     "name": "stderr",
     "output_type": "stream",
     "text": [
      "\r",
      "Least Squares Iteration:  71%|███████▏  | 713/1000 [00:03<00:02, 119.95iter/s, Error=1.2381e-03]"
     ]
    },
    {
     "name": "stderr",
     "output_type": "stream",
     "text": [
      "\r",
      "Least Squares Iteration:  71%|███████▏  | 714/1000 [00:03<00:02, 119.95iter/s, Error=1.2370e-03]"
     ]
    },
    {
     "name": "stderr",
     "output_type": "stream",
     "text": [
      "\r",
      "Least Squares Iteration:  72%|███████▏  | 715/1000 [00:03<00:02, 119.95iter/s, Error=1.2359e-03]"
     ]
    },
    {
     "name": "stderr",
     "output_type": "stream",
     "text": [
      "\r",
      "Least Squares Iteration:  72%|███████▏  | 716/1000 [00:03<00:02, 119.95iter/s, Error=1.2348e-03]"
     ]
    },
    {
     "name": "stderr",
     "output_type": "stream",
     "text": [
      "\r",
      "Least Squares Iteration:  72%|███████▏  | 717/1000 [00:03<00:02, 119.95iter/s, Error=1.2337e-03]"
     ]
    },
    {
     "name": "stderr",
     "output_type": "stream",
     "text": [
      "\r",
      "Least Squares Iteration:  72%|███████▏  | 718/1000 [00:03<00:02, 119.95iter/s, Error=1.2326e-03]"
     ]
    },
    {
     "name": "stderr",
     "output_type": "stream",
     "text": [
      "\r",
      "Least Squares Iteration:  72%|███████▏  | 719/1000 [00:03<00:02, 119.95iter/s, Error=1.2315e-03]"
     ]
    },
    {
     "name": "stderr",
     "output_type": "stream",
     "text": [
      "\r",
      "Least Squares Iteration:  72%|███████▏  | 720/1000 [00:03<00:02, 119.95iter/s, Error=1.2304e-03]"
     ]
    },
    {
     "name": "stderr",
     "output_type": "stream",
     "text": [
      "\r",
      "Least Squares Iteration:  72%|███████▏  | 721/1000 [00:03<00:02, 119.95iter/s, Error=1.2293e-03]"
     ]
    },
    {
     "name": "stderr",
     "output_type": "stream",
     "text": [
      "\r",
      "Least Squares Iteration:  72%|███████▏  | 722/1000 [00:03<00:02, 119.95iter/s, Error=1.2282e-03]"
     ]
    },
    {
     "name": "stderr",
     "output_type": "stream",
     "text": [
      "\r",
      "Least Squares Iteration:  72%|███████▏  | 723/1000 [00:03<00:02, 119.95iter/s, Error=1.2271e-03]"
     ]
    },
    {
     "name": "stderr",
     "output_type": "stream",
     "text": [
      "\r",
      "Least Squares Iteration:  72%|███████▏  | 724/1000 [00:03<00:02, 119.95iter/s, Error=1.2260e-03]"
     ]
    },
    {
     "name": "stderr",
     "output_type": "stream",
     "text": [
      "\r",
      "Least Squares Iteration:  72%|███████▎  | 725/1000 [00:03<00:02, 119.95iter/s, Error=1.2250e-03]"
     ]
    },
    {
     "name": "stderr",
     "output_type": "stream",
     "text": [
      "\r",
      "Least Squares Iteration:  73%|███████▎  | 726/1000 [00:03<00:02, 120.22iter/s, Error=1.2250e-03]"
     ]
    },
    {
     "name": "stderr",
     "output_type": "stream",
     "text": [
      "\r",
      "Least Squares Iteration:  73%|███████▎  | 726/1000 [00:03<00:02, 120.22iter/s, Error=1.2239e-03]"
     ]
    },
    {
     "name": "stderr",
     "output_type": "stream",
     "text": [
      "\r",
      "Least Squares Iteration:  73%|███████▎  | 727/1000 [00:03<00:02, 120.22iter/s, Error=1.2228e-03]"
     ]
    },
    {
     "name": "stderr",
     "output_type": "stream",
     "text": [
      "\r",
      "Least Squares Iteration:  73%|███████▎  | 728/1000 [00:03<00:02, 120.22iter/s, Error=1.2217e-03]"
     ]
    },
    {
     "name": "stderr",
     "output_type": "stream",
     "text": [
      "\r",
      "Least Squares Iteration:  73%|███████▎  | 729/1000 [00:03<00:02, 120.22iter/s, Error=1.2207e-03]"
     ]
    },
    {
     "name": "stderr",
     "output_type": "stream",
     "text": [
      "\r",
      "Least Squares Iteration:  73%|███████▎  | 730/1000 [00:03<00:02, 120.22iter/s, Error=1.2196e-03]"
     ]
    },
    {
     "name": "stderr",
     "output_type": "stream",
     "text": [
      "\r",
      "Least Squares Iteration:  73%|███████▎  | 731/1000 [00:03<00:02, 120.22iter/s, Error=1.2185e-03]"
     ]
    },
    {
     "name": "stderr",
     "output_type": "stream",
     "text": [
      "\r",
      "Least Squares Iteration:  73%|███████▎  | 732/1000 [00:03<00:02, 120.22iter/s, Error=1.2175e-03]"
     ]
    },
    {
     "name": "stderr",
     "output_type": "stream",
     "text": [
      "\r",
      "Least Squares Iteration:  73%|███████▎  | 733/1000 [00:03<00:02, 120.22iter/s, Error=1.2164e-03]"
     ]
    },
    {
     "name": "stderr",
     "output_type": "stream",
     "text": [
      "\r",
      "Least Squares Iteration:  73%|███████▎  | 734/1000 [00:03<00:02, 120.22iter/s, Error=1.2154e-03]"
     ]
    },
    {
     "name": "stderr",
     "output_type": "stream",
     "text": [
      "\r",
      "Least Squares Iteration:  74%|███████▎  | 735/1000 [00:03<00:02, 120.22iter/s, Error=1.2143e-03]"
     ]
    },
    {
     "name": "stderr",
     "output_type": "stream",
     "text": [
      "\r",
      "Least Squares Iteration:  74%|███████▎  | 736/1000 [00:03<00:02, 120.22iter/s, Error=1.2132e-03]"
     ]
    },
    {
     "name": "stderr",
     "output_type": "stream",
     "text": [
      "\r",
      "Least Squares Iteration:  74%|███████▎  | 737/1000 [00:03<00:02, 120.22iter/s, Error=1.2122e-03]"
     ]
    },
    {
     "name": "stderr",
     "output_type": "stream",
     "text": [
      "\r",
      "Least Squares Iteration:  74%|███████▍  | 738/1000 [00:03<00:02, 120.22iter/s, Error=1.2111e-03]"
     ]
    },
    {
     "name": "stderr",
     "output_type": "stream",
     "text": [
      "\r",
      "Least Squares Iteration:  74%|███████▍  | 739/1000 [00:03<00:02, 117.41iter/s, Error=1.2111e-03]"
     ]
    },
    {
     "name": "stderr",
     "output_type": "stream",
     "text": [
      "\r",
      "Least Squares Iteration:  74%|███████▍  | 739/1000 [00:03<00:02, 117.41iter/s, Error=1.2101e-03]"
     ]
    },
    {
     "name": "stderr",
     "output_type": "stream",
     "text": [
      "\r",
      "Least Squares Iteration:  74%|███████▍  | 740/1000 [00:03<00:02, 117.41iter/s, Error=1.2091e-03]"
     ]
    },
    {
     "name": "stderr",
     "output_type": "stream",
     "text": [
      "\r",
      "Least Squares Iteration:  74%|███████▍  | 741/1000 [00:03<00:02, 117.41iter/s, Error=1.2080e-03]"
     ]
    },
    {
     "name": "stderr",
     "output_type": "stream",
     "text": [
      "\r",
      "Least Squares Iteration:  74%|███████▍  | 742/1000 [00:03<00:02, 117.41iter/s, Error=1.2070e-03]"
     ]
    },
    {
     "name": "stderr",
     "output_type": "stream",
     "text": [
      "\r",
      "Least Squares Iteration:  74%|███████▍  | 743/1000 [00:03<00:02, 117.41iter/s, Error=1.2059e-03]"
     ]
    },
    {
     "name": "stderr",
     "output_type": "stream",
     "text": [
      "\r",
      "Least Squares Iteration:  74%|███████▍  | 744/1000 [00:03<00:02, 117.41iter/s, Error=1.2049e-03]"
     ]
    },
    {
     "name": "stderr",
     "output_type": "stream",
     "text": [
      "\r",
      "Least Squares Iteration:  74%|███████▍  | 745/1000 [00:03<00:02, 117.41iter/s, Error=1.2039e-03]"
     ]
    },
    {
     "name": "stderr",
     "output_type": "stream",
     "text": [
      "\r",
      "Least Squares Iteration:  75%|███████▍  | 746/1000 [00:03<00:02, 117.41iter/s, Error=1.2028e-03]"
     ]
    },
    {
     "name": "stderr",
     "output_type": "stream",
     "text": [
      "\r",
      "Least Squares Iteration:  75%|███████▍  | 747/1000 [00:03<00:02, 117.41iter/s, Error=1.2018e-03]"
     ]
    },
    {
     "name": "stderr",
     "output_type": "stream",
     "text": [
      "\r",
      "Least Squares Iteration:  75%|███████▍  | 748/1000 [00:03<00:02, 117.41iter/s, Error=1.2008e-03]"
     ]
    },
    {
     "name": "stderr",
     "output_type": "stream",
     "text": [
      "\r",
      "Least Squares Iteration:  75%|███████▍  | 749/1000 [00:03<00:02, 117.41iter/s, Error=1.1998e-03]"
     ]
    },
    {
     "name": "stderr",
     "output_type": "stream",
     "text": [
      "\r",
      "Least Squares Iteration:  75%|███████▌  | 750/1000 [00:03<00:02, 117.41iter/s, Error=1.1987e-03]"
     ]
    },
    {
     "name": "stderr",
     "output_type": "stream",
     "text": [
      "\r",
      "Least Squares Iteration:  75%|███████▌  | 751/1000 [00:03<00:02, 117.63iter/s, Error=1.1987e-03]"
     ]
    },
    {
     "name": "stderr",
     "output_type": "stream",
     "text": [
      "\r",
      "Least Squares Iteration:  75%|███████▌  | 751/1000 [00:03<00:02, 117.63iter/s, Error=1.1977e-03]"
     ]
    },
    {
     "name": "stderr",
     "output_type": "stream",
     "text": [
      "\r",
      "Least Squares Iteration:  75%|███████▌  | 752/1000 [00:03<00:02, 117.63iter/s, Error=1.1967e-03]"
     ]
    },
    {
     "name": "stderr",
     "output_type": "stream",
     "text": [
      "\r",
      "Least Squares Iteration:  75%|███████▌  | 753/1000 [00:03<00:02, 117.63iter/s, Error=1.1957e-03]"
     ]
    },
    {
     "name": "stderr",
     "output_type": "stream",
     "text": [
      "\r",
      "Least Squares Iteration:  75%|███████▌  | 754/1000 [00:03<00:02, 117.63iter/s, Error=1.1947e-03]"
     ]
    },
    {
     "name": "stderr",
     "output_type": "stream",
     "text": [
      "\r",
      "Least Squares Iteration:  76%|███████▌  | 755/1000 [00:03<00:02, 117.63iter/s, Error=1.1937e-03]"
     ]
    },
    {
     "name": "stderr",
     "output_type": "stream",
     "text": [
      "\r",
      "Least Squares Iteration:  76%|███████▌  | 756/1000 [00:03<00:02, 117.63iter/s, Error=1.1927e-03]"
     ]
    },
    {
     "name": "stderr",
     "output_type": "stream",
     "text": [
      "\r",
      "Least Squares Iteration:  76%|███████▌  | 757/1000 [00:03<00:02, 117.63iter/s, Error=1.1917e-03]"
     ]
    },
    {
     "name": "stderr",
     "output_type": "stream",
     "text": [
      "\r",
      "Least Squares Iteration:  76%|███████▌  | 758/1000 [00:03<00:02, 117.63iter/s, Error=1.1907e-03]"
     ]
    },
    {
     "name": "stderr",
     "output_type": "stream",
     "text": [
      "\r",
      "Least Squares Iteration:  76%|███████▌  | 759/1000 [00:03<00:02, 117.63iter/s, Error=1.1897e-03]"
     ]
    },
    {
     "name": "stderr",
     "output_type": "stream",
     "text": [
      "\r",
      "Least Squares Iteration:  76%|███████▌  | 760/1000 [00:03<00:02, 117.63iter/s, Error=1.1887e-03]"
     ]
    },
    {
     "name": "stderr",
     "output_type": "stream",
     "text": [
      "\r",
      "Least Squares Iteration:  76%|███████▌  | 761/1000 [00:03<00:02, 117.63iter/s, Error=1.1877e-03]"
     ]
    },
    {
     "name": "stderr",
     "output_type": "stream",
     "text": [
      "\r",
      "Least Squares Iteration:  76%|███████▌  | 762/1000 [00:03<00:02, 117.63iter/s, Error=1.1867e-03]"
     ]
    },
    {
     "name": "stderr",
     "output_type": "stream",
     "text": [
      "\r",
      "Least Squares Iteration:  76%|███████▋  | 763/1000 [00:03<00:02, 104.10iter/s, Error=1.1867e-03]"
     ]
    },
    {
     "name": "stderr",
     "output_type": "stream",
     "text": [
      "\r",
      "Least Squares Iteration:  76%|███████▋  | 763/1000 [00:03<00:02, 104.10iter/s, Error=1.1857e-03]"
     ]
    },
    {
     "name": "stderr",
     "output_type": "stream",
     "text": [
      "\r",
      "Least Squares Iteration:  76%|███████▋  | 764/1000 [00:03<00:02, 104.10iter/s, Error=1.1847e-03]"
     ]
    },
    {
     "name": "stderr",
     "output_type": "stream",
     "text": [
      "\r",
      "Least Squares Iteration:  76%|███████▋  | 765/1000 [00:03<00:02, 104.10iter/s, Error=1.1837e-03]"
     ]
    },
    {
     "name": "stderr",
     "output_type": "stream",
     "text": [
      "\r",
      "Least Squares Iteration:  77%|███████▋  | 766/1000 [00:03<00:02, 104.10iter/s, Error=1.1827e-03]"
     ]
    },
    {
     "name": "stderr",
     "output_type": "stream",
     "text": [
      "\r",
      "Least Squares Iteration:  77%|███████▋  | 767/1000 [00:03<00:02, 104.10iter/s, Error=1.1818e-03]"
     ]
    },
    {
     "name": "stderr",
     "output_type": "stream",
     "text": [
      "\r",
      "Least Squares Iteration:  77%|███████▋  | 768/1000 [00:03<00:02, 104.10iter/s, Error=1.1808e-03]"
     ]
    },
    {
     "name": "stderr",
     "output_type": "stream",
     "text": [
      "\r",
      "Least Squares Iteration:  77%|███████▋  | 769/1000 [00:03<00:02, 104.10iter/s, Error=1.1798e-03]"
     ]
    },
    {
     "name": "stderr",
     "output_type": "stream",
     "text": [
      "\r",
      "Least Squares Iteration:  77%|███████▋  | 770/1000 [00:03<00:02, 104.10iter/s, Error=1.1788e-03]"
     ]
    },
    {
     "name": "stderr",
     "output_type": "stream",
     "text": [
      "\r",
      "Least Squares Iteration:  77%|███████▋  | 771/1000 [00:03<00:02, 104.10iter/s, Error=1.1778e-03]"
     ]
    },
    {
     "name": "stderr",
     "output_type": "stream",
     "text": [
      "\r",
      "Least Squares Iteration:  77%|███████▋  | 772/1000 [00:03<00:02, 104.10iter/s, Error=1.1769e-03]"
     ]
    },
    {
     "name": "stderr",
     "output_type": "stream",
     "text": [
      "\r",
      "Least Squares Iteration:  77%|███████▋  | 773/1000 [00:03<00:02, 104.10iter/s, Error=1.1759e-03]"
     ]
    },
    {
     "name": "stderr",
     "output_type": "stream",
     "text": [
      "\r",
      "Least Squares Iteration:  77%|███████▋  | 774/1000 [00:03<00:02, 104.68iter/s, Error=1.1759e-03]"
     ]
    },
    {
     "name": "stderr",
     "output_type": "stream",
     "text": [
      "\r",
      "Least Squares Iteration:  77%|███████▋  | 774/1000 [00:03<00:02, 104.68iter/s, Error=1.1749e-03]"
     ]
    },
    {
     "name": "stderr",
     "output_type": "stream",
     "text": [
      "\r",
      "Least Squares Iteration:  78%|███████▊  | 775/1000 [00:03<00:02, 104.68iter/s, Error=1.1740e-03]"
     ]
    },
    {
     "name": "stderr",
     "output_type": "stream",
     "text": [
      "\r",
      "Least Squares Iteration:  78%|███████▊  | 776/1000 [00:03<00:02, 104.68iter/s, Error=1.1730e-03]"
     ]
    },
    {
     "name": "stderr",
     "output_type": "stream",
     "text": [
      "\r",
      "Least Squares Iteration:  78%|███████▊  | 777/1000 [00:03<00:02, 104.68iter/s, Error=1.1720e-03]"
     ]
    },
    {
     "name": "stderr",
     "output_type": "stream",
     "text": [
      "\r",
      "Least Squares Iteration:  78%|███████▊  | 778/1000 [00:03<00:02, 104.68iter/s, Error=1.1711e-03]"
     ]
    },
    {
     "name": "stderr",
     "output_type": "stream",
     "text": [
      "\r",
      "Least Squares Iteration:  78%|███████▊  | 779/1000 [00:03<00:02, 104.68iter/s, Error=1.1701e-03]"
     ]
    },
    {
     "name": "stderr",
     "output_type": "stream",
     "text": [
      "\r",
      "Least Squares Iteration:  78%|███████▊  | 780/1000 [00:03<00:02, 104.68iter/s, Error=1.1692e-03]"
     ]
    },
    {
     "name": "stderr",
     "output_type": "stream",
     "text": [
      "\r",
      "Least Squares Iteration:  78%|███████▊  | 781/1000 [00:03<00:02, 104.68iter/s, Error=1.1682e-03]"
     ]
    },
    {
     "name": "stderr",
     "output_type": "stream",
     "text": [
      "\r",
      "Least Squares Iteration:  78%|███████▊  | 782/1000 [00:03<00:02, 104.68iter/s, Error=1.1673e-03]"
     ]
    },
    {
     "name": "stderr",
     "output_type": "stream",
     "text": [
      "\r",
      "Least Squares Iteration:  78%|███████▊  | 783/1000 [00:03<00:02, 104.68iter/s, Error=1.1663e-03]"
     ]
    },
    {
     "name": "stderr",
     "output_type": "stream",
     "text": [
      "\r",
      "Least Squares Iteration:  78%|███████▊  | 784/1000 [00:03<00:02, 104.68iter/s, Error=1.1654e-03]"
     ]
    },
    {
     "name": "stderr",
     "output_type": "stream",
     "text": [
      "\r",
      "Least Squares Iteration:  78%|███████▊  | 785/1000 [00:03<00:02, 104.68iter/s, Error=1.1644e-03]"
     ]
    },
    {
     "name": "stderr",
     "output_type": "stream",
     "text": [
      "\r",
      "Least Squares Iteration:  79%|███████▊  | 786/1000 [00:03<00:02, 106.38iter/s, Error=1.1644e-03]"
     ]
    },
    {
     "name": "stderr",
     "output_type": "stream",
     "text": [
      "\r",
      "Least Squares Iteration:  79%|███████▊  | 786/1000 [00:03<00:02, 106.38iter/s, Error=1.1635e-03]"
     ]
    },
    {
     "name": "stderr",
     "output_type": "stream",
     "text": [
      "\r",
      "Least Squares Iteration:  79%|███████▊  | 787/1000 [00:03<00:02, 106.38iter/s, Error=1.1625e-03]"
     ]
    },
    {
     "name": "stderr",
     "output_type": "stream",
     "text": [
      "\r",
      "Least Squares Iteration:  79%|███████▉  | 788/1000 [00:03<00:01, 106.38iter/s, Error=1.1616e-03]"
     ]
    },
    {
     "name": "stderr",
     "output_type": "stream",
     "text": [
      "\r",
      "Least Squares Iteration:  79%|███████▉  | 789/1000 [00:03<00:01, 106.38iter/s, Error=1.1607e-03]"
     ]
    },
    {
     "name": "stderr",
     "output_type": "stream",
     "text": [
      "\r",
      "Least Squares Iteration:  79%|███████▉  | 790/1000 [00:04<00:01, 106.38iter/s, Error=1.1597e-03]"
     ]
    },
    {
     "name": "stderr",
     "output_type": "stream",
     "text": [
      "\r",
      "Least Squares Iteration:  79%|███████▉  | 791/1000 [00:04<00:01, 106.38iter/s, Error=1.1588e-03]"
     ]
    },
    {
     "name": "stderr",
     "output_type": "stream",
     "text": [
      "\r",
      "Least Squares Iteration:  79%|███████▉  | 792/1000 [00:04<00:01, 106.38iter/s, Error=1.1579e-03]"
     ]
    },
    {
     "name": "stderr",
     "output_type": "stream",
     "text": [
      "\r",
      "Least Squares Iteration:  79%|███████▉  | 793/1000 [00:04<00:01, 106.38iter/s, Error=1.1569e-03]"
     ]
    },
    {
     "name": "stderr",
     "output_type": "stream",
     "text": [
      "\r",
      "Least Squares Iteration:  79%|███████▉  | 794/1000 [00:04<00:01, 106.38iter/s, Error=1.1560e-03]"
     ]
    },
    {
     "name": "stderr",
     "output_type": "stream",
     "text": [
      "\r",
      "Least Squares Iteration:  80%|███████▉  | 795/1000 [00:04<00:01, 106.38iter/s, Error=1.1551e-03]"
     ]
    },
    {
     "name": "stderr",
     "output_type": "stream",
     "text": [
      "\r",
      "Least Squares Iteration:  80%|███████▉  | 796/1000 [00:04<00:01, 106.38iter/s, Error=1.1542e-03]"
     ]
    },
    {
     "name": "stderr",
     "output_type": "stream",
     "text": [
      "\r",
      "Least Squares Iteration:  80%|███████▉  | 797/1000 [00:04<00:01, 106.06iter/s, Error=1.1542e-03]"
     ]
    },
    {
     "name": "stderr",
     "output_type": "stream",
     "text": [
      "\r",
      "Least Squares Iteration:  80%|███████▉  | 797/1000 [00:04<00:01, 106.06iter/s, Error=1.1532e-03]"
     ]
    },
    {
     "name": "stderr",
     "output_type": "stream",
     "text": [
      "\r",
      "Least Squares Iteration:  80%|███████▉  | 798/1000 [00:04<00:01, 106.06iter/s, Error=1.1523e-03]"
     ]
    },
    {
     "name": "stderr",
     "output_type": "stream",
     "text": [
      "\r",
      "Least Squares Iteration:  80%|███████▉  | 799/1000 [00:04<00:01, 106.06iter/s, Error=1.1514e-03]"
     ]
    },
    {
     "name": "stderr",
     "output_type": "stream",
     "text": [
      "\r",
      "Least Squares Iteration:  80%|████████  | 800/1000 [00:04<00:01, 106.06iter/s, Error=1.1505e-03]"
     ]
    },
    {
     "name": "stderr",
     "output_type": "stream",
     "text": [
      "\r",
      "Least Squares Iteration:  80%|████████  | 801/1000 [00:04<00:01, 106.06iter/s, Error=1.1496e-03]"
     ]
    },
    {
     "name": "stderr",
     "output_type": "stream",
     "text": [
      "\r",
      "Least Squares Iteration:  80%|████████  | 802/1000 [00:04<00:01, 106.06iter/s, Error=1.1487e-03]"
     ]
    },
    {
     "name": "stderr",
     "output_type": "stream",
     "text": [
      "\r",
      "Least Squares Iteration:  80%|████████  | 803/1000 [00:04<00:01, 106.06iter/s, Error=1.1478e-03]"
     ]
    },
    {
     "name": "stderr",
     "output_type": "stream",
     "text": [
      "\r",
      "Least Squares Iteration:  80%|████████  | 804/1000 [00:04<00:01, 106.06iter/s, Error=1.1468e-03]"
     ]
    },
    {
     "name": "stderr",
     "output_type": "stream",
     "text": [
      "\r",
      "Least Squares Iteration:  80%|████████  | 805/1000 [00:04<00:01, 106.06iter/s, Error=1.1459e-03]"
     ]
    },
    {
     "name": "stderr",
     "output_type": "stream",
     "text": [
      "\r",
      "Least Squares Iteration:  81%|████████  | 806/1000 [00:04<00:01, 106.06iter/s, Error=1.1450e-03]"
     ]
    },
    {
     "name": "stderr",
     "output_type": "stream",
     "text": [
      "\r",
      "Least Squares Iteration:  81%|████████  | 807/1000 [00:04<00:01, 106.06iter/s, Error=1.1441e-03]"
     ]
    },
    {
     "name": "stderr",
     "output_type": "stream",
     "text": [
      "\r",
      "Least Squares Iteration:  81%|████████  | 808/1000 [00:04<00:01, 103.56iter/s, Error=1.1441e-03]"
     ]
    },
    {
     "name": "stderr",
     "output_type": "stream",
     "text": [
      "\r",
      "Least Squares Iteration:  81%|████████  | 808/1000 [00:04<00:01, 103.56iter/s, Error=1.1432e-03]"
     ]
    },
    {
     "name": "stderr",
     "output_type": "stream",
     "text": [
      "\r",
      "Least Squares Iteration:  81%|████████  | 809/1000 [00:04<00:01, 103.56iter/s, Error=1.1423e-03]"
     ]
    },
    {
     "name": "stderr",
     "output_type": "stream",
     "text": [
      "\r",
      "Least Squares Iteration:  81%|████████  | 810/1000 [00:04<00:01, 103.56iter/s, Error=1.1414e-03]"
     ]
    },
    {
     "name": "stderr",
     "output_type": "stream",
     "text": [
      "\r",
      "Least Squares Iteration:  81%|████████  | 811/1000 [00:04<00:01, 103.56iter/s, Error=1.1405e-03]"
     ]
    },
    {
     "name": "stderr",
     "output_type": "stream",
     "text": [
      "\r",
      "Least Squares Iteration:  81%|████████  | 812/1000 [00:04<00:01, 103.56iter/s, Error=1.1396e-03]"
     ]
    },
    {
     "name": "stderr",
     "output_type": "stream",
     "text": [
      "\r",
      "Least Squares Iteration:  81%|████████▏ | 813/1000 [00:04<00:01, 103.56iter/s, Error=1.1387e-03]"
     ]
    },
    {
     "name": "stderr",
     "output_type": "stream",
     "text": [
      "\r",
      "Least Squares Iteration:  81%|████████▏ | 814/1000 [00:04<00:01, 103.56iter/s, Error=1.1379e-03]"
     ]
    },
    {
     "name": "stderr",
     "output_type": "stream",
     "text": [
      "\r",
      "Least Squares Iteration:  82%|████████▏ | 815/1000 [00:04<00:01, 103.56iter/s, Error=1.1370e-03]"
     ]
    },
    {
     "name": "stderr",
     "output_type": "stream",
     "text": [
      "\r",
      "Least Squares Iteration:  82%|████████▏ | 816/1000 [00:04<00:01, 103.56iter/s, Error=1.1361e-03]"
     ]
    },
    {
     "name": "stderr",
     "output_type": "stream",
     "text": [
      "\r",
      "Least Squares Iteration:  82%|████████▏ | 817/1000 [00:04<00:01, 103.56iter/s, Error=1.1352e-03]"
     ]
    },
    {
     "name": "stderr",
     "output_type": "stream",
     "text": [
      "\r",
      "Least Squares Iteration:  82%|████████▏ | 818/1000 [00:04<00:01, 103.56iter/s, Error=1.1343e-03]"
     ]
    },
    {
     "name": "stderr",
     "output_type": "stream",
     "text": [
      "\r",
      "Least Squares Iteration:  82%|████████▏ | 819/1000 [00:04<00:01, 98.63iter/s, Error=1.1343e-03] "
     ]
    },
    {
     "name": "stderr",
     "output_type": "stream",
     "text": [
      "\r",
      "Least Squares Iteration:  82%|████████▏ | 819/1000 [00:04<00:01, 98.63iter/s, Error=1.1334e-03]"
     ]
    },
    {
     "name": "stderr",
     "output_type": "stream",
     "text": [
      "\r",
      "Least Squares Iteration:  82%|████████▏ | 820/1000 [00:04<00:01, 98.63iter/s, Error=1.1326e-03]"
     ]
    },
    {
     "name": "stderr",
     "output_type": "stream",
     "text": [
      "\r",
      "Least Squares Iteration:  82%|████████▏ | 821/1000 [00:04<00:01, 98.63iter/s, Error=1.1317e-03]"
     ]
    },
    {
     "name": "stderr",
     "output_type": "stream",
     "text": [
      "\r",
      "Least Squares Iteration:  82%|████████▏ | 822/1000 [00:04<00:01, 98.63iter/s, Error=1.1308e-03]"
     ]
    },
    {
     "name": "stderr",
     "output_type": "stream",
     "text": [
      "\r",
      "Least Squares Iteration:  82%|████████▏ | 823/1000 [00:04<00:01, 98.63iter/s, Error=1.1299e-03]"
     ]
    },
    {
     "name": "stderr",
     "output_type": "stream",
     "text": [
      "\r",
      "Least Squares Iteration:  82%|████████▏ | 824/1000 [00:04<00:01, 98.63iter/s, Error=1.1291e-03]"
     ]
    },
    {
     "name": "stderr",
     "output_type": "stream",
     "text": [
      "\r",
      "Least Squares Iteration:  82%|████████▎ | 825/1000 [00:04<00:01, 98.63iter/s, Error=1.1282e-03]"
     ]
    },
    {
     "name": "stderr",
     "output_type": "stream",
     "text": [
      "\r",
      "Least Squares Iteration:  83%|████████▎ | 826/1000 [00:04<00:01, 98.63iter/s, Error=1.1273e-03]"
     ]
    },
    {
     "name": "stderr",
     "output_type": "stream",
     "text": [
      "\r",
      "Least Squares Iteration:  83%|████████▎ | 827/1000 [00:04<00:01, 98.63iter/s, Error=1.1265e-03]"
     ]
    },
    {
     "name": "stderr",
     "output_type": "stream",
     "text": [
      "\r",
      "Least Squares Iteration:  83%|████████▎ | 828/1000 [00:04<00:01, 98.63iter/s, Error=1.1256e-03]"
     ]
    },
    {
     "name": "stderr",
     "output_type": "stream",
     "text": [
      "\r",
      "Least Squares Iteration:  83%|████████▎ | 829/1000 [00:04<00:01, 98.63iter/s, Error=1.1247e-03]"
     ]
    },
    {
     "name": "stderr",
     "output_type": "stream",
     "text": [
      "\r",
      "Least Squares Iteration:  83%|████████▎ | 830/1000 [00:04<00:01, 100.34iter/s, Error=1.1247e-03]"
     ]
    },
    {
     "name": "stderr",
     "output_type": "stream",
     "text": [
      "\r",
      "Least Squares Iteration:  83%|████████▎ | 830/1000 [00:04<00:01, 100.34iter/s, Error=1.1239e-03]"
     ]
    },
    {
     "name": "stderr",
     "output_type": "stream",
     "text": [
      "\r",
      "Least Squares Iteration:  83%|████████▎ | 831/1000 [00:04<00:01, 100.34iter/s, Error=1.1230e-03]"
     ]
    },
    {
     "name": "stderr",
     "output_type": "stream",
     "text": [
      "\r",
      "Least Squares Iteration:  83%|████████▎ | 832/1000 [00:04<00:01, 100.34iter/s, Error=1.1222e-03]"
     ]
    },
    {
     "name": "stderr",
     "output_type": "stream",
     "text": [
      "\r",
      "Least Squares Iteration:  83%|████████▎ | 833/1000 [00:04<00:01, 100.34iter/s, Error=1.1213e-03]"
     ]
    },
    {
     "name": "stderr",
     "output_type": "stream",
     "text": [
      "\r",
      "Least Squares Iteration:  83%|████████▎ | 834/1000 [00:04<00:01, 100.34iter/s, Error=1.1204e-03]"
     ]
    },
    {
     "name": "stderr",
     "output_type": "stream",
     "text": [
      "\r",
      "Least Squares Iteration:  84%|████████▎ | 835/1000 [00:04<00:01, 100.34iter/s, Error=1.1196e-03]"
     ]
    },
    {
     "name": "stderr",
     "output_type": "stream",
     "text": [
      "\r",
      "Least Squares Iteration:  84%|████████▎ | 836/1000 [00:04<00:01, 100.34iter/s, Error=1.1187e-03]"
     ]
    },
    {
     "name": "stderr",
     "output_type": "stream",
     "text": [
      "\r",
      "Least Squares Iteration:  84%|████████▎ | 837/1000 [00:04<00:01, 100.34iter/s, Error=1.1179e-03]"
     ]
    },
    {
     "name": "stderr",
     "output_type": "stream",
     "text": [
      "\r",
      "Least Squares Iteration:  84%|████████▍ | 838/1000 [00:04<00:01, 100.34iter/s, Error=1.1170e-03]"
     ]
    },
    {
     "name": "stderr",
     "output_type": "stream",
     "text": [
      "\r",
      "Least Squares Iteration:  84%|████████▍ | 839/1000 [00:04<00:01, 100.34iter/s, Error=1.1162e-03]"
     ]
    },
    {
     "name": "stderr",
     "output_type": "stream",
     "text": [
      "\r",
      "Least Squares Iteration:  84%|████████▍ | 840/1000 [00:04<00:01, 100.34iter/s, Error=1.1154e-03]"
     ]
    },
    {
     "name": "stderr",
     "output_type": "stream",
     "text": [
      "\r",
      "Least Squares Iteration:  84%|████████▍ | 841/1000 [00:04<00:01, 99.54iter/s, Error=1.1154e-03] "
     ]
    },
    {
     "name": "stderr",
     "output_type": "stream",
     "text": [
      "\r",
      "Least Squares Iteration:  84%|████████▍ | 841/1000 [00:04<00:01, 99.54iter/s, Error=1.1145e-03]"
     ]
    },
    {
     "name": "stderr",
     "output_type": "stream",
     "text": [
      "\r",
      "Least Squares Iteration:  84%|████████▍ | 842/1000 [00:04<00:01, 99.54iter/s, Error=1.1137e-03]"
     ]
    },
    {
     "name": "stderr",
     "output_type": "stream",
     "text": [
      "\r",
      "Least Squares Iteration:  84%|████████▍ | 843/1000 [00:04<00:01, 99.54iter/s, Error=1.1128e-03]"
     ]
    },
    {
     "name": "stderr",
     "output_type": "stream",
     "text": [
      "\r",
      "Least Squares Iteration:  84%|████████▍ | 844/1000 [00:04<00:01, 99.54iter/s, Error=1.1120e-03]"
     ]
    },
    {
     "name": "stderr",
     "output_type": "stream",
     "text": [
      "\r",
      "Least Squares Iteration:  84%|████████▍ | 845/1000 [00:04<00:01, 99.54iter/s, Error=1.1112e-03]"
     ]
    },
    {
     "name": "stderr",
     "output_type": "stream",
     "text": [
      "\r",
      "Least Squares Iteration:  85%|████████▍ | 846/1000 [00:04<00:01, 99.54iter/s, Error=1.1103e-03]"
     ]
    },
    {
     "name": "stderr",
     "output_type": "stream",
     "text": [
      "\r",
      "Least Squares Iteration:  85%|████████▍ | 847/1000 [00:04<00:01, 99.54iter/s, Error=1.1095e-03]"
     ]
    },
    {
     "name": "stderr",
     "output_type": "stream",
     "text": [
      "\r",
      "Least Squares Iteration:  85%|████████▍ | 848/1000 [00:04<00:01, 99.54iter/s, Error=1.1087e-03]"
     ]
    },
    {
     "name": "stderr",
     "output_type": "stream",
     "text": [
      "\r",
      "Least Squares Iteration:  85%|████████▍ | 849/1000 [00:04<00:01, 99.54iter/s, Error=1.1078e-03]"
     ]
    },
    {
     "name": "stderr",
     "output_type": "stream",
     "text": [
      "\r",
      "Least Squares Iteration:  85%|████████▌ | 850/1000 [00:04<00:01, 99.54iter/s, Error=1.1070e-03]"
     ]
    },
    {
     "name": "stderr",
     "output_type": "stream",
     "text": [
      "\r",
      "Least Squares Iteration:  85%|████████▌ | 851/1000 [00:04<00:01, 99.54iter/s, Error=1.1062e-03]"
     ]
    },
    {
     "name": "stderr",
     "output_type": "stream",
     "text": [
      "\r",
      "Least Squares Iteration:  85%|████████▌ | 852/1000 [00:04<00:01, 98.22iter/s, Error=1.1062e-03]"
     ]
    },
    {
     "name": "stderr",
     "output_type": "stream",
     "text": [
      "\r",
      "Least Squares Iteration:  85%|████████▌ | 852/1000 [00:04<00:01, 98.22iter/s, Error=1.1054e-03]"
     ]
    },
    {
     "name": "stderr",
     "output_type": "stream",
     "text": [
      "\r",
      "Least Squares Iteration:  85%|████████▌ | 853/1000 [00:04<00:01, 98.22iter/s, Error=1.1045e-03]"
     ]
    },
    {
     "name": "stderr",
     "output_type": "stream",
     "text": [
      "\r",
      "Least Squares Iteration:  85%|████████▌ | 854/1000 [00:04<00:01, 98.22iter/s, Error=1.1037e-03]"
     ]
    },
    {
     "name": "stderr",
     "output_type": "stream",
     "text": [
      "\r",
      "Least Squares Iteration:  86%|████████▌ | 855/1000 [00:04<00:01, 98.22iter/s, Error=1.1029e-03]"
     ]
    },
    {
     "name": "stderr",
     "output_type": "stream",
     "text": [
      "\r",
      "Least Squares Iteration:  86%|████████▌ | 856/1000 [00:04<00:01, 98.22iter/s, Error=1.1021e-03]"
     ]
    },
    {
     "name": "stderr",
     "output_type": "stream",
     "text": [
      "\r",
      "Least Squares Iteration:  86%|████████▌ | 857/1000 [00:04<00:01, 98.22iter/s, Error=1.1013e-03]"
     ]
    },
    {
     "name": "stderr",
     "output_type": "stream",
     "text": [
      "\r",
      "Least Squares Iteration:  86%|████████▌ | 858/1000 [00:04<00:01, 98.22iter/s, Error=1.1005e-03]"
     ]
    },
    {
     "name": "stderr",
     "output_type": "stream",
     "text": [
      "\r",
      "Least Squares Iteration:  86%|████████▌ | 859/1000 [00:04<00:01, 98.22iter/s, Error=1.0996e-03]"
     ]
    },
    {
     "name": "stderr",
     "output_type": "stream",
     "text": [
      "\r",
      "Least Squares Iteration:  86%|████████▌ | 860/1000 [00:04<00:01, 98.22iter/s, Error=1.0988e-03]"
     ]
    },
    {
     "name": "stderr",
     "output_type": "stream",
     "text": [
      "\r",
      "Least Squares Iteration:  86%|████████▌ | 861/1000 [00:04<00:01, 98.22iter/s, Error=1.0980e-03]"
     ]
    },
    {
     "name": "stderr",
     "output_type": "stream",
     "text": [
      "\r",
      "Least Squares Iteration:  86%|████████▌ | 862/1000 [00:04<00:01, 91.66iter/s, Error=1.0980e-03]"
     ]
    },
    {
     "name": "stderr",
     "output_type": "stream",
     "text": [
      "\r",
      "Least Squares Iteration:  86%|████████▌ | 862/1000 [00:04<00:01, 91.66iter/s, Error=1.0972e-03]"
     ]
    },
    {
     "name": "stderr",
     "output_type": "stream",
     "text": [
      "\r",
      "Least Squares Iteration:  86%|████████▋ | 863/1000 [00:04<00:01, 91.66iter/s, Error=1.0964e-03]"
     ]
    },
    {
     "name": "stderr",
     "output_type": "stream",
     "text": [
      "\r",
      "Least Squares Iteration:  86%|████████▋ | 864/1000 [00:04<00:01, 91.66iter/s, Error=1.0956e-03]"
     ]
    },
    {
     "name": "stderr",
     "output_type": "stream",
     "text": [
      "\r",
      "Least Squares Iteration:  86%|████████▋ | 865/1000 [00:04<00:01, 91.66iter/s, Error=1.0948e-03]"
     ]
    },
    {
     "name": "stderr",
     "output_type": "stream",
     "text": [
      "\r",
      "Least Squares Iteration:  87%|████████▋ | 866/1000 [00:04<00:01, 91.66iter/s, Error=1.0940e-03]"
     ]
    },
    {
     "name": "stderr",
     "output_type": "stream",
     "text": [
      "\r",
      "Least Squares Iteration:  87%|████████▋ | 867/1000 [00:04<00:01, 91.66iter/s, Error=1.0932e-03]"
     ]
    },
    {
     "name": "stderr",
     "output_type": "stream",
     "text": [
      "\r",
      "Least Squares Iteration:  87%|████████▋ | 868/1000 [00:04<00:01, 91.66iter/s, Error=1.0924e-03]"
     ]
    },
    {
     "name": "stderr",
     "output_type": "stream",
     "text": [
      "\r",
      "Least Squares Iteration:  87%|████████▋ | 869/1000 [00:04<00:01, 91.66iter/s, Error=1.0916e-03]"
     ]
    },
    {
     "name": "stderr",
     "output_type": "stream",
     "text": [
      "\r",
      "Least Squares Iteration:  87%|████████▋ | 870/1000 [00:04<00:01, 91.66iter/s, Error=1.0908e-03]"
     ]
    },
    {
     "name": "stderr",
     "output_type": "stream",
     "text": [
      "\r",
      "Least Squares Iteration:  87%|████████▋ | 871/1000 [00:04<00:01, 91.66iter/s, Error=1.0900e-03]"
     ]
    },
    {
     "name": "stderr",
     "output_type": "stream",
     "text": [
      "\r",
      "Least Squares Iteration:  87%|████████▋ | 872/1000 [00:04<00:01, 88.90iter/s, Error=1.0900e-03]"
     ]
    },
    {
     "name": "stderr",
     "output_type": "stream",
     "text": [
      "\r",
      "Least Squares Iteration:  87%|████████▋ | 872/1000 [00:04<00:01, 88.90iter/s, Error=1.0892e-03]"
     ]
    },
    {
     "name": "stderr",
     "output_type": "stream",
     "text": [
      "\r",
      "Least Squares Iteration:  87%|████████▋ | 873/1000 [00:04<00:01, 88.90iter/s, Error=1.0884e-03]"
     ]
    },
    {
     "name": "stderr",
     "output_type": "stream",
     "text": [
      "\r",
      "Least Squares Iteration:  87%|████████▋ | 874/1000 [00:04<00:01, 88.90iter/s, Error=1.0876e-03]"
     ]
    },
    {
     "name": "stderr",
     "output_type": "stream",
     "text": [
      "\r",
      "Least Squares Iteration:  88%|████████▊ | 875/1000 [00:04<00:01, 88.90iter/s, Error=1.0869e-03]"
     ]
    },
    {
     "name": "stderr",
     "output_type": "stream",
     "text": [
      "\r",
      "Least Squares Iteration:  88%|████████▊ | 876/1000 [00:04<00:01, 88.90iter/s, Error=1.0861e-03]"
     ]
    },
    {
     "name": "stderr",
     "output_type": "stream",
     "text": [
      "\r",
      "Least Squares Iteration:  88%|████████▊ | 877/1000 [00:04<00:01, 88.90iter/s, Error=1.0853e-03]"
     ]
    },
    {
     "name": "stderr",
     "output_type": "stream",
     "text": [
      "\r",
      "Least Squares Iteration:  88%|████████▊ | 878/1000 [00:04<00:01, 88.90iter/s, Error=1.0845e-03]"
     ]
    },
    {
     "name": "stderr",
     "output_type": "stream",
     "text": [
      "\r",
      "Least Squares Iteration:  88%|████████▊ | 879/1000 [00:04<00:01, 88.90iter/s, Error=1.0837e-03]"
     ]
    },
    {
     "name": "stderr",
     "output_type": "stream",
     "text": [
      "\r",
      "Least Squares Iteration:  88%|████████▊ | 880/1000 [00:04<00:01, 88.90iter/s, Error=1.0829e-03]"
     ]
    },
    {
     "name": "stderr",
     "output_type": "stream",
     "text": [
      "\r",
      "Least Squares Iteration:  88%|████████▊ | 881/1000 [00:04<00:01, 88.83iter/s, Error=1.0829e-03]"
     ]
    },
    {
     "name": "stderr",
     "output_type": "stream",
     "text": [
      "\r",
      "Least Squares Iteration:  88%|████████▊ | 881/1000 [00:04<00:01, 88.83iter/s, Error=1.0822e-03]"
     ]
    },
    {
     "name": "stderr",
     "output_type": "stream",
     "text": [
      "\r",
      "Least Squares Iteration:  88%|████████▊ | 882/1000 [00:05<00:01, 88.83iter/s, Error=1.0814e-03]"
     ]
    },
    {
     "name": "stderr",
     "output_type": "stream",
     "text": [
      "\r",
      "Least Squares Iteration:  88%|████████▊ | 883/1000 [00:05<00:01, 88.83iter/s, Error=1.0806e-03]"
     ]
    },
    {
     "name": "stderr",
     "output_type": "stream",
     "text": [
      "\r",
      "Least Squares Iteration:  88%|████████▊ | 884/1000 [00:05<00:01, 88.83iter/s, Error=1.0798e-03]"
     ]
    },
    {
     "name": "stderr",
     "output_type": "stream",
     "text": [
      "\r",
      "Least Squares Iteration:  88%|████████▊ | 885/1000 [00:05<00:01, 88.83iter/s, Error=1.0791e-03]"
     ]
    },
    {
     "name": "stderr",
     "output_type": "stream",
     "text": [
      "\r",
      "Least Squares Iteration:  89%|████████▊ | 886/1000 [00:05<00:01, 88.83iter/s, Error=1.0783e-03]"
     ]
    },
    {
     "name": "stderr",
     "output_type": "stream",
     "text": [
      "\r",
      "Least Squares Iteration:  89%|████████▊ | 887/1000 [00:05<00:01, 88.83iter/s, Error=1.0775e-03]"
     ]
    },
    {
     "name": "stderr",
     "output_type": "stream",
     "text": [
      "\r",
      "Least Squares Iteration:  89%|████████▉ | 888/1000 [00:05<00:01, 88.83iter/s, Error=1.0768e-03]"
     ]
    },
    {
     "name": "stderr",
     "output_type": "stream",
     "text": [
      "\r",
      "Least Squares Iteration:  89%|████████▉ | 889/1000 [00:05<00:01, 88.83iter/s, Error=1.0760e-03]"
     ]
    },
    {
     "name": "stderr",
     "output_type": "stream",
     "text": [
      "\r",
      "Least Squares Iteration:  89%|████████▉ | 890/1000 [00:05<00:01, 87.12iter/s, Error=1.0760e-03]"
     ]
    },
    {
     "name": "stderr",
     "output_type": "stream",
     "text": [
      "\r",
      "Least Squares Iteration:  89%|████████▉ | 890/1000 [00:05<00:01, 87.12iter/s, Error=1.0752e-03]"
     ]
    },
    {
     "name": "stderr",
     "output_type": "stream",
     "text": [
      "\r",
      "Least Squares Iteration:  89%|████████▉ | 891/1000 [00:05<00:01, 87.12iter/s, Error=1.0745e-03]"
     ]
    },
    {
     "name": "stderr",
     "output_type": "stream",
     "text": [
      "\r",
      "Least Squares Iteration:  89%|████████▉ | 892/1000 [00:05<00:01, 87.12iter/s, Error=1.0737e-03]"
     ]
    },
    {
     "name": "stderr",
     "output_type": "stream",
     "text": [
      "\r",
      "Least Squares Iteration:  89%|████████▉ | 893/1000 [00:05<00:01, 87.12iter/s, Error=1.0729e-03]"
     ]
    },
    {
     "name": "stderr",
     "output_type": "stream",
     "text": [
      "\r",
      "Least Squares Iteration:  89%|████████▉ | 894/1000 [00:05<00:01, 87.12iter/s, Error=1.0722e-03]"
     ]
    },
    {
     "name": "stderr",
     "output_type": "stream",
     "text": [
      "\r",
      "Least Squares Iteration:  90%|████████▉ | 895/1000 [00:05<00:01, 87.12iter/s, Error=1.0714e-03]"
     ]
    },
    {
     "name": "stderr",
     "output_type": "stream",
     "text": [
      "\r",
      "Least Squares Iteration:  90%|████████▉ | 896/1000 [00:05<00:01, 87.12iter/s, Error=1.0707e-03]"
     ]
    },
    {
     "name": "stderr",
     "output_type": "stream",
     "text": [
      "\r",
      "Least Squares Iteration:  90%|████████▉ | 897/1000 [00:05<00:01, 87.12iter/s, Error=1.0699e-03]"
     ]
    },
    {
     "name": "stderr",
     "output_type": "stream",
     "text": [
      "\r",
      "Least Squares Iteration:  90%|████████▉ | 898/1000 [00:05<00:01, 87.12iter/s, Error=1.0692e-03]"
     ]
    },
    {
     "name": "stderr",
     "output_type": "stream",
     "text": [
      "\r",
      "Least Squares Iteration:  90%|████████▉ | 899/1000 [00:05<00:01, 78.76iter/s, Error=1.0692e-03]"
     ]
    },
    {
     "name": "stderr",
     "output_type": "stream",
     "text": [
      "\r",
      "Least Squares Iteration:  90%|████████▉ | 899/1000 [00:05<00:01, 78.76iter/s, Error=1.0684e-03]"
     ]
    },
    {
     "name": "stderr",
     "output_type": "stream",
     "text": [
      "\r",
      "Least Squares Iteration:  90%|█████████ | 900/1000 [00:05<00:01, 78.76iter/s, Error=1.0677e-03]"
     ]
    },
    {
     "name": "stderr",
     "output_type": "stream",
     "text": [
      "\r",
      "Least Squares Iteration:  90%|█████████ | 901/1000 [00:05<00:01, 78.76iter/s, Error=1.0669e-03]"
     ]
    },
    {
     "name": "stderr",
     "output_type": "stream",
     "text": [
      "\r",
      "Least Squares Iteration:  90%|█████████ | 902/1000 [00:05<00:01, 78.76iter/s, Error=1.0662e-03]"
     ]
    },
    {
     "name": "stderr",
     "output_type": "stream",
     "text": [
      "\r",
      "Least Squares Iteration:  90%|█████████ | 903/1000 [00:05<00:01, 78.76iter/s, Error=1.0654e-03]"
     ]
    },
    {
     "name": "stderr",
     "output_type": "stream",
     "text": [
      "\r",
      "Least Squares Iteration:  90%|█████████ | 904/1000 [00:05<00:01, 78.76iter/s, Error=1.0647e-03]"
     ]
    },
    {
     "name": "stderr",
     "output_type": "stream",
     "text": [
      "\r",
      "Least Squares Iteration:  90%|█████████ | 905/1000 [00:05<00:01, 78.76iter/s, Error=1.0639e-03]"
     ]
    },
    {
     "name": "stderr",
     "output_type": "stream",
     "text": [
      "\r",
      "Least Squares Iteration:  91%|█████████ | 906/1000 [00:05<00:01, 78.76iter/s, Error=1.0632e-03]"
     ]
    },
    {
     "name": "stderr",
     "output_type": "stream",
     "text": [
      "\r",
      "Least Squares Iteration:  91%|█████████ | 907/1000 [00:05<00:01, 78.76iter/s, Error=1.0624e-03]"
     ]
    },
    {
     "name": "stderr",
     "output_type": "stream",
     "text": [
      "\r",
      "Least Squares Iteration:  91%|█████████ | 908/1000 [00:05<00:01, 80.33iter/s, Error=1.0624e-03]"
     ]
    },
    {
     "name": "stderr",
     "output_type": "stream",
     "text": [
      "\r",
      "Least Squares Iteration:  91%|█████████ | 908/1000 [00:05<00:01, 80.33iter/s, Error=1.0617e-03]"
     ]
    },
    {
     "name": "stderr",
     "output_type": "stream",
     "text": [
      "\r",
      "Least Squares Iteration:  91%|█████████ | 909/1000 [00:05<00:01, 80.33iter/s, Error=1.0610e-03]"
     ]
    },
    {
     "name": "stderr",
     "output_type": "stream",
     "text": [
      "\r",
      "Least Squares Iteration:  91%|█████████ | 910/1000 [00:05<00:01, 80.33iter/s, Error=1.0602e-03]"
     ]
    },
    {
     "name": "stderr",
     "output_type": "stream",
     "text": [
      "\r",
      "Least Squares Iteration:  91%|█████████ | 911/1000 [00:05<00:01, 80.33iter/s, Error=1.0595e-03]"
     ]
    },
    {
     "name": "stderr",
     "output_type": "stream",
     "text": [
      "\r",
      "Least Squares Iteration:  91%|█████████ | 912/1000 [00:05<00:01, 80.33iter/s, Error=1.0588e-03]"
     ]
    },
    {
     "name": "stderr",
     "output_type": "stream",
     "text": [
      "\r",
      "Least Squares Iteration:  91%|█████████▏| 913/1000 [00:05<00:01, 80.33iter/s, Error=1.0580e-03]"
     ]
    },
    {
     "name": "stderr",
     "output_type": "stream",
     "text": [
      "\r",
      "Least Squares Iteration:  91%|█████████▏| 914/1000 [00:05<00:01, 80.33iter/s, Error=1.0573e-03]"
     ]
    },
    {
     "name": "stderr",
     "output_type": "stream",
     "text": [
      "\r",
      "Least Squares Iteration:  92%|█████████▏| 915/1000 [00:05<00:01, 80.33iter/s, Error=1.0566e-03]"
     ]
    },
    {
     "name": "stderr",
     "output_type": "stream",
     "text": [
      "\r",
      "Least Squares Iteration:  92%|█████████▏| 916/1000 [00:05<00:01, 80.33iter/s, Error=1.0558e-03]"
     ]
    },
    {
     "name": "stderr",
     "output_type": "stream",
     "text": [
      "\r",
      "Least Squares Iteration:  92%|█████████▏| 917/1000 [00:05<00:01, 80.54iter/s, Error=1.0558e-03]"
     ]
    },
    {
     "name": "stderr",
     "output_type": "stream",
     "text": [
      "\r",
      "Least Squares Iteration:  92%|█████████▏| 917/1000 [00:05<00:01, 80.54iter/s, Error=1.0551e-03]"
     ]
    },
    {
     "name": "stderr",
     "output_type": "stream",
     "text": [
      "\r",
      "Least Squares Iteration:  92%|█████████▏| 918/1000 [00:05<00:01, 80.54iter/s, Error=1.0544e-03]"
     ]
    },
    {
     "name": "stderr",
     "output_type": "stream",
     "text": [
      "\r",
      "Least Squares Iteration:  92%|█████████▏| 919/1000 [00:05<00:01, 80.54iter/s, Error=1.0537e-03]"
     ]
    },
    {
     "name": "stderr",
     "output_type": "stream",
     "text": [
      "\r",
      "Least Squares Iteration:  92%|█████████▏| 920/1000 [00:05<00:00, 80.54iter/s, Error=1.0529e-03]"
     ]
    },
    {
     "name": "stderr",
     "output_type": "stream",
     "text": [
      "\r",
      "Least Squares Iteration:  92%|█████████▏| 921/1000 [00:05<00:00, 80.54iter/s, Error=1.0522e-03]"
     ]
    },
    {
     "name": "stderr",
     "output_type": "stream",
     "text": [
      "\r",
      "Least Squares Iteration:  92%|█████████▏| 922/1000 [00:05<00:00, 80.54iter/s, Error=1.0515e-03]"
     ]
    },
    {
     "name": "stderr",
     "output_type": "stream",
     "text": [
      "\r",
      "Least Squares Iteration:  92%|█████████▏| 923/1000 [00:05<00:00, 80.54iter/s, Error=1.0508e-03]"
     ]
    },
    {
     "name": "stderr",
     "output_type": "stream",
     "text": [
      "\r",
      "Least Squares Iteration:  92%|█████████▏| 924/1000 [00:05<00:00, 80.54iter/s, Error=1.0500e-03]"
     ]
    },
    {
     "name": "stderr",
     "output_type": "stream",
     "text": [
      "\r",
      "Least Squares Iteration:  92%|█████████▎| 925/1000 [00:05<00:00, 80.54iter/s, Error=1.0493e-03]"
     ]
    },
    {
     "name": "stderr",
     "output_type": "stream",
     "text": [
      "\r",
      "Least Squares Iteration:  93%|█████████▎| 926/1000 [00:05<00:00, 81.12iter/s, Error=1.0493e-03]"
     ]
    },
    {
     "name": "stderr",
     "output_type": "stream",
     "text": [
      "\r",
      "Least Squares Iteration:  93%|█████████▎| 926/1000 [00:05<00:00, 81.12iter/s, Error=1.0486e-03]"
     ]
    },
    {
     "name": "stderr",
     "output_type": "stream",
     "text": [
      "\r",
      "Least Squares Iteration:  93%|█████████▎| 927/1000 [00:05<00:00, 81.12iter/s, Error=1.0479e-03]"
     ]
    },
    {
     "name": "stderr",
     "output_type": "stream",
     "text": [
      "\r",
      "Least Squares Iteration:  93%|█████████▎| 928/1000 [00:05<00:00, 81.12iter/s, Error=1.0472e-03]"
     ]
    },
    {
     "name": "stderr",
     "output_type": "stream",
     "text": [
      "\r",
      "Least Squares Iteration:  93%|█████████▎| 929/1000 [00:05<00:00, 81.12iter/s, Error=1.0465e-03]"
     ]
    },
    {
     "name": "stderr",
     "output_type": "stream",
     "text": [
      "\r",
      "Least Squares Iteration:  93%|█████████▎| 930/1000 [00:05<00:00, 81.12iter/s, Error=1.0458e-03]"
     ]
    },
    {
     "name": "stderr",
     "output_type": "stream",
     "text": [
      "\r",
      "Least Squares Iteration:  93%|█████████▎| 931/1000 [00:05<00:00, 81.12iter/s, Error=1.0450e-03]"
     ]
    },
    {
     "name": "stderr",
     "output_type": "stream",
     "text": [
      "\r",
      "Least Squares Iteration:  93%|█████████▎| 932/1000 [00:05<00:00, 81.12iter/s, Error=1.0443e-03]"
     ]
    },
    {
     "name": "stderr",
     "output_type": "stream",
     "text": [
      "\r",
      "Least Squares Iteration:  93%|█████████▎| 933/1000 [00:05<00:00, 81.12iter/s, Error=1.0436e-03]"
     ]
    },
    {
     "name": "stderr",
     "output_type": "stream",
     "text": [
      "\r",
      "Least Squares Iteration:  93%|█████████▎| 934/1000 [00:05<00:00, 81.12iter/s, Error=1.0429e-03]"
     ]
    },
    {
     "name": "stderr",
     "output_type": "stream",
     "text": [
      "\r",
      "Least Squares Iteration:  94%|█████████▎| 935/1000 [00:05<00:00, 80.35iter/s, Error=1.0429e-03]"
     ]
    },
    {
     "name": "stderr",
     "output_type": "stream",
     "text": [
      "\r",
      "Least Squares Iteration:  94%|█████████▎| 935/1000 [00:05<00:00, 80.35iter/s, Error=1.0422e-03]"
     ]
    },
    {
     "name": "stderr",
     "output_type": "stream",
     "text": [
      "\r",
      "Least Squares Iteration:  94%|█████████▎| 936/1000 [00:05<00:00, 80.35iter/s, Error=1.0415e-03]"
     ]
    },
    {
     "name": "stderr",
     "output_type": "stream",
     "text": [
      "\r",
      "Least Squares Iteration:  94%|█████████▎| 937/1000 [00:05<00:00, 80.35iter/s, Error=1.0408e-03]"
     ]
    },
    {
     "name": "stderr",
     "output_type": "stream",
     "text": [
      "\r",
      "Least Squares Iteration:  94%|█████████▍| 938/1000 [00:05<00:00, 80.35iter/s, Error=1.0401e-03]"
     ]
    },
    {
     "name": "stderr",
     "output_type": "stream",
     "text": [
      "\r",
      "Least Squares Iteration:  94%|█████████▍| 939/1000 [00:05<00:00, 80.35iter/s, Error=1.0394e-03]"
     ]
    },
    {
     "name": "stderr",
     "output_type": "stream",
     "text": [
      "\r",
      "Least Squares Iteration:  94%|█████████▍| 940/1000 [00:05<00:00, 80.35iter/s, Error=1.0387e-03]"
     ]
    },
    {
     "name": "stderr",
     "output_type": "stream",
     "text": [
      "\r",
      "Least Squares Iteration:  94%|█████████▍| 941/1000 [00:05<00:00, 80.35iter/s, Error=1.0380e-03]"
     ]
    },
    {
     "name": "stderr",
     "output_type": "stream",
     "text": [
      "\r",
      "Least Squares Iteration:  94%|█████████▍| 942/1000 [00:05<00:00, 80.35iter/s, Error=1.0373e-03]"
     ]
    },
    {
     "name": "stderr",
     "output_type": "stream",
     "text": [
      "\r",
      "Least Squares Iteration:  94%|█████████▍| 943/1000 [00:05<00:00, 80.35iter/s, Error=1.0366e-03]"
     ]
    },
    {
     "name": "stderr",
     "output_type": "stream",
     "text": [
      "\r",
      "Least Squares Iteration:  94%|█████████▍| 944/1000 [00:05<00:00, 80.68iter/s, Error=1.0366e-03]"
     ]
    },
    {
     "name": "stderr",
     "output_type": "stream",
     "text": [
      "\r",
      "Least Squares Iteration:  94%|█████████▍| 944/1000 [00:05<00:00, 80.68iter/s, Error=1.0359e-03]"
     ]
    },
    {
     "name": "stderr",
     "output_type": "stream",
     "text": [
      "\r",
      "Least Squares Iteration:  94%|█████████▍| 945/1000 [00:05<00:00, 80.68iter/s, Error=1.0353e-03]"
     ]
    },
    {
     "name": "stderr",
     "output_type": "stream",
     "text": [
      "\r",
      "Least Squares Iteration:  95%|█████████▍| 946/1000 [00:05<00:00, 80.68iter/s, Error=1.0346e-03]"
     ]
    },
    {
     "name": "stderr",
     "output_type": "stream",
     "text": [
      "\r",
      "Least Squares Iteration:  95%|█████████▍| 947/1000 [00:05<00:00, 80.68iter/s, Error=1.0339e-03]"
     ]
    },
    {
     "name": "stderr",
     "output_type": "stream",
     "text": [
      "\r",
      "Least Squares Iteration:  95%|█████████▍| 948/1000 [00:05<00:00, 80.68iter/s, Error=1.0332e-03]"
     ]
    },
    {
     "name": "stderr",
     "output_type": "stream",
     "text": [
      "\r",
      "Least Squares Iteration:  95%|█████████▍| 949/1000 [00:05<00:00, 80.68iter/s, Error=1.0325e-03]"
     ]
    },
    {
     "name": "stderr",
     "output_type": "stream",
     "text": [
      "\r",
      "Least Squares Iteration:  95%|█████████▌| 950/1000 [00:05<00:00, 80.68iter/s, Error=1.0318e-03]"
     ]
    },
    {
     "name": "stderr",
     "output_type": "stream",
     "text": [
      "\r",
      "Least Squares Iteration:  95%|█████████▌| 951/1000 [00:05<00:00, 80.68iter/s, Error=1.0311e-03]"
     ]
    },
    {
     "name": "stderr",
     "output_type": "stream",
     "text": [
      "\r",
      "Least Squares Iteration:  95%|█████████▌| 952/1000 [00:05<00:00, 80.68iter/s, Error=1.0305e-03]"
     ]
    },
    {
     "name": "stderr",
     "output_type": "stream",
     "text": [
      "\r",
      "Least Squares Iteration:  95%|█████████▌| 953/1000 [00:05<00:00, 79.31iter/s, Error=1.0305e-03]"
     ]
    },
    {
     "name": "stderr",
     "output_type": "stream",
     "text": [
      "\r",
      "Least Squares Iteration:  95%|█████████▌| 953/1000 [00:05<00:00, 79.31iter/s, Error=1.0298e-03]"
     ]
    },
    {
     "name": "stderr",
     "output_type": "stream",
     "text": [
      "\r",
      "Least Squares Iteration:  95%|█████████▌| 954/1000 [00:05<00:00, 79.31iter/s, Error=1.0291e-03]"
     ]
    },
    {
     "name": "stderr",
     "output_type": "stream",
     "text": [
      "\r",
      "Least Squares Iteration:  96%|█████████▌| 955/1000 [00:05<00:00, 79.31iter/s, Error=1.0284e-03]"
     ]
    },
    {
     "name": "stderr",
     "output_type": "stream",
     "text": [
      "\r",
      "Least Squares Iteration:  96%|█████████▌| 956/1000 [00:05<00:00, 79.31iter/s, Error=1.0277e-03]"
     ]
    },
    {
     "name": "stderr",
     "output_type": "stream",
     "text": [
      "\r",
      "Least Squares Iteration:  96%|█████████▌| 957/1000 [00:05<00:00, 79.31iter/s, Error=1.0271e-03]"
     ]
    },
    {
     "name": "stderr",
     "output_type": "stream",
     "text": [
      "\r",
      "Least Squares Iteration:  96%|█████████▌| 958/1000 [00:05<00:00, 79.31iter/s, Error=1.0264e-03]"
     ]
    },
    {
     "name": "stderr",
     "output_type": "stream",
     "text": [
      "\r",
      "Least Squares Iteration:  96%|█████████▌| 959/1000 [00:06<00:00, 79.31iter/s, Error=1.0257e-03]"
     ]
    },
    {
     "name": "stderr",
     "output_type": "stream",
     "text": [
      "\r",
      "Least Squares Iteration:  96%|█████████▌| 960/1000 [00:06<00:00, 79.31iter/s, Error=1.0250e-03]"
     ]
    },
    {
     "name": "stderr",
     "output_type": "stream",
     "text": [
      "\r",
      "Least Squares Iteration:  96%|█████████▌| 961/1000 [00:06<00:00, 75.38iter/s, Error=1.0250e-03]"
     ]
    },
    {
     "name": "stderr",
     "output_type": "stream",
     "text": [
      "\r",
      "Least Squares Iteration:  96%|█████████▌| 961/1000 [00:06<00:00, 75.38iter/s, Error=1.0244e-03]"
     ]
    },
    {
     "name": "stderr",
     "output_type": "stream",
     "text": [
      "\r",
      "Least Squares Iteration:  96%|█████████▌| 962/1000 [00:06<00:00, 75.38iter/s, Error=1.0237e-03]"
     ]
    },
    {
     "name": "stderr",
     "output_type": "stream",
     "text": [
      "\r",
      "Least Squares Iteration:  96%|█████████▋| 963/1000 [00:06<00:00, 75.38iter/s, Error=1.0230e-03]"
     ]
    },
    {
     "name": "stderr",
     "output_type": "stream",
     "text": [
      "\r",
      "Least Squares Iteration:  96%|█████████▋| 964/1000 [00:06<00:00, 75.38iter/s, Error=1.0223e-03]"
     ]
    },
    {
     "name": "stderr",
     "output_type": "stream",
     "text": [
      "\r",
      "Least Squares Iteration:  96%|█████████▋| 965/1000 [00:06<00:00, 75.38iter/s, Error=1.0217e-03]"
     ]
    },
    {
     "name": "stderr",
     "output_type": "stream",
     "text": [
      "\r",
      "Least Squares Iteration:  97%|█████████▋| 966/1000 [00:06<00:00, 75.38iter/s, Error=1.0210e-03]"
     ]
    },
    {
     "name": "stderr",
     "output_type": "stream",
     "text": [
      "\r",
      "Least Squares Iteration:  97%|█████████▋| 967/1000 [00:06<00:00, 75.38iter/s, Error=1.0204e-03]"
     ]
    },
    {
     "name": "stderr",
     "output_type": "stream",
     "text": [
      "\r",
      "Least Squares Iteration:  97%|█████████▋| 968/1000 [00:06<00:00, 75.38iter/s, Error=1.0197e-03]"
     ]
    },
    {
     "name": "stderr",
     "output_type": "stream",
     "text": [
      "\r",
      "Least Squares Iteration:  97%|█████████▋| 969/1000 [00:06<00:00, 72.60iter/s, Error=1.0197e-03]"
     ]
    },
    {
     "name": "stderr",
     "output_type": "stream",
     "text": [
      "\r",
      "Least Squares Iteration:  97%|█████████▋| 969/1000 [00:06<00:00, 72.60iter/s, Error=1.0190e-03]"
     ]
    },
    {
     "name": "stderr",
     "output_type": "stream",
     "text": [
      "\r",
      "Least Squares Iteration:  97%|█████████▋| 970/1000 [00:06<00:00, 72.60iter/s, Error=1.0184e-03]"
     ]
    },
    {
     "name": "stderr",
     "output_type": "stream",
     "text": [
      "\r",
      "Least Squares Iteration:  97%|█████████▋| 971/1000 [00:06<00:00, 72.60iter/s, Error=1.0177e-03]"
     ]
    },
    {
     "name": "stderr",
     "output_type": "stream",
     "text": [
      "\r",
      "Least Squares Iteration:  97%|█████████▋| 972/1000 [00:06<00:00, 72.60iter/s, Error=1.0170e-03]"
     ]
    },
    {
     "name": "stderr",
     "output_type": "stream",
     "text": [
      "\r",
      "Least Squares Iteration:  97%|█████████▋| 973/1000 [00:06<00:00, 72.60iter/s, Error=1.0164e-03]"
     ]
    },
    {
     "name": "stderr",
     "output_type": "stream",
     "text": [
      "\r",
      "Least Squares Iteration:  97%|█████████▋| 974/1000 [00:06<00:00, 72.60iter/s, Error=1.0157e-03]"
     ]
    },
    {
     "name": "stderr",
     "output_type": "stream",
     "text": [
      "\r",
      "Least Squares Iteration:  98%|█████████▊| 975/1000 [00:06<00:00, 72.60iter/s, Error=1.0151e-03]"
     ]
    },
    {
     "name": "stderr",
     "output_type": "stream",
     "text": [
      "\r",
      "Least Squares Iteration:  98%|█████████▊| 976/1000 [00:06<00:00, 72.60iter/s, Error=1.0144e-03]"
     ]
    },
    {
     "name": "stderr",
     "output_type": "stream",
     "text": [
      "\r",
      "Least Squares Iteration:  98%|█████████▊| 977/1000 [00:06<00:00, 70.61iter/s, Error=1.0144e-03]"
     ]
    },
    {
     "name": "stderr",
     "output_type": "stream",
     "text": [
      "\r",
      "Least Squares Iteration:  98%|█████████▊| 977/1000 [00:06<00:00, 70.61iter/s, Error=1.0138e-03]"
     ]
    },
    {
     "name": "stderr",
     "output_type": "stream",
     "text": [
      "\r",
      "Least Squares Iteration:  98%|█████████▊| 978/1000 [00:06<00:00, 70.61iter/s, Error=1.0131e-03]"
     ]
    },
    {
     "name": "stderr",
     "output_type": "stream",
     "text": [
      "\r",
      "Least Squares Iteration:  98%|█████████▊| 979/1000 [00:06<00:00, 70.61iter/s, Error=1.0125e-03]"
     ]
    },
    {
     "name": "stderr",
     "output_type": "stream",
     "text": [
      "\r",
      "Least Squares Iteration:  98%|█████████▊| 980/1000 [00:06<00:00, 70.61iter/s, Error=1.0118e-03]"
     ]
    },
    {
     "name": "stderr",
     "output_type": "stream",
     "text": [
      "\r",
      "Least Squares Iteration:  98%|█████████▊| 981/1000 [00:06<00:00, 70.61iter/s, Error=1.0112e-03]"
     ]
    },
    {
     "name": "stderr",
     "output_type": "stream",
     "text": [
      "\r",
      "Least Squares Iteration:  98%|█████████▊| 982/1000 [00:06<00:00, 70.61iter/s, Error=1.0105e-03]"
     ]
    },
    {
     "name": "stderr",
     "output_type": "stream",
     "text": [
      "\r",
      "Least Squares Iteration:  98%|█████████▊| 983/1000 [00:06<00:00, 70.61iter/s, Error=1.0099e-03]"
     ]
    },
    {
     "name": "stderr",
     "output_type": "stream",
     "text": [
      "\r",
      "Least Squares Iteration:  98%|█████████▊| 984/1000 [00:06<00:00, 70.61iter/s, Error=1.0092e-03]"
     ]
    },
    {
     "name": "stderr",
     "output_type": "stream",
     "text": [
      "\r",
      "Least Squares Iteration:  98%|█████████▊| 985/1000 [00:06<00:00, 70.30iter/s, Error=1.0092e-03]"
     ]
    },
    {
     "name": "stderr",
     "output_type": "stream",
     "text": [
      "\r",
      "Least Squares Iteration:  98%|█████████▊| 985/1000 [00:06<00:00, 70.30iter/s, Error=1.0086e-03]"
     ]
    },
    {
     "name": "stderr",
     "output_type": "stream",
     "text": [
      "\r",
      "Least Squares Iteration:  99%|█████████▊| 986/1000 [00:06<00:00, 70.30iter/s, Error=1.0079e-03]"
     ]
    },
    {
     "name": "stderr",
     "output_type": "stream",
     "text": [
      "\r",
      "Least Squares Iteration:  99%|█████████▊| 987/1000 [00:06<00:00, 70.30iter/s, Error=1.0073e-03]"
     ]
    },
    {
     "name": "stderr",
     "output_type": "stream",
     "text": [
      "\r",
      "Least Squares Iteration:  99%|█████████▉| 988/1000 [00:06<00:00, 70.30iter/s, Error=1.0067e-03]"
     ]
    },
    {
     "name": "stderr",
     "output_type": "stream",
     "text": [
      "\r",
      "Least Squares Iteration:  99%|█████████▉| 989/1000 [00:06<00:00, 70.30iter/s, Error=1.0060e-03]"
     ]
    },
    {
     "name": "stderr",
     "output_type": "stream",
     "text": [
      "\r",
      "Least Squares Iteration:  99%|█████████▉| 990/1000 [00:06<00:00, 70.30iter/s, Error=1.0054e-03]"
     ]
    },
    {
     "name": "stderr",
     "output_type": "stream",
     "text": [
      "\r",
      "Least Squares Iteration:  99%|█████████▉| 991/1000 [00:06<00:00, 70.30iter/s, Error=1.0047e-03]"
     ]
    },
    {
     "name": "stderr",
     "output_type": "stream",
     "text": [
      "\r",
      "Least Squares Iteration:  99%|█████████▉| 992/1000 [00:06<00:00, 70.30iter/s, Error=1.0041e-03]"
     ]
    },
    {
     "name": "stderr",
     "output_type": "stream",
     "text": [
      "\r",
      "Least Squares Iteration:  99%|█████████▉| 993/1000 [00:06<00:00, 70.89iter/s, Error=1.0041e-03]"
     ]
    },
    {
     "name": "stderr",
     "output_type": "stream",
     "text": [
      "\r",
      "Least Squares Iteration:  99%|█████████▉| 993/1000 [00:06<00:00, 70.89iter/s, Error=1.0035e-03]"
     ]
    },
    {
     "name": "stderr",
     "output_type": "stream",
     "text": [
      "\r",
      "Least Squares Iteration:  99%|█████████▉| 994/1000 [00:06<00:00, 70.89iter/s, Error=1.0028e-03]"
     ]
    },
    {
     "name": "stderr",
     "output_type": "stream",
     "text": [
      "\r",
      "Least Squares Iteration: 100%|█████████▉| 995/1000 [00:06<00:00, 70.89iter/s, Error=1.0022e-03]"
     ]
    },
    {
     "name": "stderr",
     "output_type": "stream",
     "text": [
      "\r",
      "Least Squares Iteration: 100%|█████████▉| 996/1000 [00:06<00:00, 70.89iter/s, Error=1.0016e-03]"
     ]
    },
    {
     "name": "stderr",
     "output_type": "stream",
     "text": [
      "\r",
      "Least Squares Iteration: 100%|█████████▉| 997/1000 [00:06<00:00, 70.89iter/s, Error=1.0009e-03]"
     ]
    },
    {
     "name": "stderr",
     "output_type": "stream",
     "text": [
      "\r",
      "Least Squares Iteration: 100%|█████████▉| 998/1000 [00:06<00:00, 70.89iter/s, Error=1.0003e-03]"
     ]
    },
    {
     "name": "stderr",
     "output_type": "stream",
     "text": [
      "\r",
      "Least Squares Iteration: 100%|█████████▉| 999/1000 [00:06<00:00, 70.89iter/s, Error=9.9968e-04]"
     ]
    },
    {
     "name": "stderr",
     "output_type": "stream",
     "text": [
      "\r",
      "Least Squares Iteration: 100%|██████████| 1000/1000 [00:06<00:00, 151.37iter/s, Error=9.9968e-04]"
     ]
    },
    {
     "name": "stderr",
     "output_type": "stream",
     "text": [
      "\n"
     ]
    },
    {
     "data": {
      "image/png": "[encoded data removed]",
      "text/plain": [
       "<Figure size 576x288 with 2 Axes>"
      ]
     },
     "metadata": {
      "image/png": {
       "height": 287,
       "width": 548
      }
     },
     "output_type": "display_data"
    }
   ],
   "source": [
    "from tqdm import tqdm\n",
    "\n",
    "def least_squares_sol(x0, b, Amv, Amv_adjoint, max_iter=1000, alpha=1e-3, tol=1e-6):\n",
    "    \"\"\"\n",
    "    Solves the least squares problem using gradient descent with progress tracking.\n",
    "\n",
    "    Parameters:\n",
    "    - x0 (torch.Tensor): Initial guess for the solution.\n",
    "    - b (torch.Tensor): Observation vector.\n",
    "    - Amv (callable): Function to compute A @ x.\n",
    "    - Amv_adjoint (callable): Function to compute A^T @ v.\n",
    "    - max_iter (int): Maximum number of iterations.\n",
    "    - alpha (float): Learning rate.\n",
    "    - tol (float): Tolerance for convergence.\n",
    "\n",
    "    Returns:\n",
    "    - x (torch.Tensor): Approximated solution vector.\n",
    "    \"\"\"\n",
    "    x = x0.clone()\n",
    "    x.requires_grad = True\n",
    "    b_noisy = b.clone() + 0.01 * torch.randn_like(b)\n",
    "\n",
    "    # Initialize the progress bar\n",
    "    with tqdm(total=max_iter, desc='Least Squares Iteration', unit='iter') as pbar:\n",
    "        for i in range(max_iter):\n",
    "            # Gradient descent update\n",
    "            residual = Amv(x) - b_noisy\n",
    "            gradient = Amv_adjoint(residual)\n",
    "            xnext = x - alpha * gradient\n",
    "\n",
    "            # Compute relative error\n",
    "            error = torch.norm(xnext - x) \n",
    "\n",
    "            # Update the progress bar with the current error\n",
    "            pbar.set_postfix({'Error': f'{error.item():.4e}'})\n",
    "            pbar.update(1)\n",
    "\n",
    "            # Check for convergence\n",
    "            if error < tol:\n",
    "                pbar.write(f'Converged at iteration {i+1} with error {error.item():.4e}')\n",
    "                x = xnext\n",
    "                break\n",
    "\n",
    "            x = xnext\n",
    "\n",
    "    return x\n",
    "\n",
    "b = Amv(x)\n",
    "x0 = torch.zeros_like(x)\n",
    "xhat = least_squares_sol(x0, b, Amv, Amv_adjoint, max_iter=1000, alpha=1, tol=1e-6)\n",
    "\n",
    "plt.figure(figsize=(6,3))\n",
    "plt.subplot(1, 2, 1)\n",
    "plt.imshow(x[0, 0], cmap='viridis', vmin=-1, vmax=1)\n",
    "plt.title('Original Image')\n",
    "plt.axis('off')\n",
    "plt.subplot(1, 2, 2)\n",
    "plt.imshow(xhat.detach().numpy()[0, 0], cmap='viridis', vmin=-1, vmax=1)\n",
    "plt.title('Recovered Image')\n",
    "plt.axis('off')\n",
    "plt.tight_layout()\n",
    "plt.show()"
   ]
  }
 ],
 "metadata": {
  "kernelspec": {
   "display_name": "Python 3 (ipykernel)",
   "language": "python",
   "name": "python3",
   "path": "C:\\Users\\sghys\\miniconda3\\envs\\ml\\share\\jupyter\\kernels\\python3"
  },
  "language_info": {
   "codemirror_mode": {
    "name": "ipython",
    "version": 3
   },
   "file_extension": ".py",
   "mimetype": "text/x-python",
   "name": "python",
   "nbconvert_exporter": "python",
   "pygments_lexer": "ipython3",
   "version": "3.11.9"
  }
 },
 "nbformat": 4,
 "nbformat_minor": 5
}